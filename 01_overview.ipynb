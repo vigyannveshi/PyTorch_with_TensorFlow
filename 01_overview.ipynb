{
 "cells": [
  {
   "cell_type": "markdown",
   "id": "6f22f298",
   "metadata": {},
   "source": [
    "### **Pytorch**"
   ]
  },
  {
   "cell_type": "markdown",
   "id": "9355a3c1",
   "metadata": {},
   "source": [
    "**01. Introduction**\n",
    "\n",
    "*`Timeline`*\n",
    "\n",
    "* 1.x\n",
    "    * Python compatible\n",
    "    * Dynamic computation graph\n",
    "    * TorchScript for model serialization and optimization\n",
    "    * Caffe2 integration\n",
    "    * Distributed training\n",
    "    * ONNX (Open Neural Network Exchange) compatibility for interpretability with other frameworks\n",
    "    * Introduced quantization for model compression and efficiency\n",
    "    * Expanded ecosystem with torchvision (CV), torchtext (NLP), and torchaudio (audio).\n",
    "* 2.x\n",
    "    * Enhanced support for deployment and production-readiness.\n",
    "    * Optimized for modern hardware (TPUs, custom AI-chips).\n",
    "\n",
    "\n",
    "*`Core Features`*\n",
    "\n",
    "1. Tensor Computations\n",
    "2. GPU accelerations\n",
    "3. Dynamic Computation Graph\n",
    "4. Automatic Differentiation\n",
    "5. Distributed training \n",
    "6. Interoperabilitiy with other libraries\n",
    "\n",
    "\n",
    "*`Core Modules in Pytorch`*\n",
    "<br>\n",
    "\n",
    "|Module| Description|\n",
    "|---|---|\n",
    "|torch| core-library for providing multi-dimensional arrays (tensors) and mathematical operations on them.|\n",
    "|torch.autograd|Automatic differentiation engine that records operations on tensors to compute gradients for optimization.|\n",
    "|torch.nn|Provides neural network library, including layers, activation, loss functions and utilities to build deep learning models|\n",
    "|torch.optim| Contains optimization algorithms (optimizers) like SGD, Adam, RMSprop used for NN-training.|\n",
    "|torch.utils.data|Utilities for data-handling including the Dataset and DataLoader classes for managing and loading data efficiently.|\n",
    "|torch.jit|Supports Just-In-Time (JIT) compilation and TorchScript for optimizing models and enabling deployment without python dependencies.|\n",
    "|torch.distributed| Tools for distributed training across multiple GPU and machines, facilitating parallel computation.|\n",
    "|torch.cuda| Interfaces with NVIDIA CUDA to enable GPU acceleration for tensor computations and model training.|\n",
    "|torch.backends|Contains settings and allows control over backend libraries like cuDNN, MKL, and other for performance tunining. |\n",
    "|torch.multiprocessing| Utilities for parallelism using multiprocessing, similar to Python's multiprocessing module but with support for CUDA tensors.|\n",
    "|torch.quantization| Tools for model quantization to reduce model size and improve inference speed, especially on edge devices.|\n",
    "|torch.onxx| Supports exporting PyTorch models to ONXX format for interoperability with other frameworks and deployment.|\n",
    "\n",
    "\n",
    "*`Pytorch Domain Libraries`*\n",
    "* torchvision\n",
    "* torchtext\n",
    "* torchaudio\n",
    "* torcharrow\n",
    "* torchserve\n",
    "* pytorch_lightning\n",
    "\n",
    "*`Ecosystem libraries`*\n",
    "* Hugging Face Transformers\n",
    "* Fastai\n",
    "* Pytorch Geometric\n",
    "* TorchMetrics\n",
    "* TorchElastic\n",
    "* Optuna\n",
    "* Catalyst\n",
    "* Ignite\n",
    "* AllenNLP\n",
    "* Skorch\n",
    "* Pytorch Forcasting\n",
    "* Tensorboard for Pytorch\n"
   ]
  },
  {
   "cell_type": "markdown",
   "id": "abca0a9d",
   "metadata": {},
   "source": [
    "**02. Basics of tensors**"
   ]
  },
  {
   "cell_type": "markdown",
   "id": "a5dfb47c",
   "metadata": {},
   "source": [
    "* Specialized multi-dimensional array designed for mathematical and computational efficiency"
   ]
  },
  {
   "cell_type": "code",
   "execution_count": 1,
   "id": "c0aefefe",
   "metadata": {},
   "outputs": [
    {
     "name": "stderr",
     "output_type": "stream",
     "text": [
      "2025-05-26 00:37:17.200910: I tensorflow/core/platform/cpu_feature_guard.cc:210] This TensorFlow binary is optimized to use available CPU instructions in performance-critical operations.\n",
      "To enable the following instructions: AVX2 FMA, in other operations, rebuild TensorFlow with the appropriate compiler flags.\n"
     ]
    }
   ],
   "source": [
    "import torch as tr\n",
    "import tensorflow as tf"
   ]
  },
  {
   "cell_type": "code",
   "execution_count": 3,
   "id": "df0e8fa6",
   "metadata": {},
   "outputs": [
    {
     "name": "stdout",
     "output_type": "stream",
     "text": [
      "GPU not available, using CPU\n",
      "\n",
      "Current devices: /device:CPU:0\n"
     ]
    }
   ],
   "source": [
    "if tr.cuda.is_available():\n",
    "    print(f'Using GPU:{tr.cuda.get_device_name(0)}')\n",
    "else:\n",
    "    print(f\"GPU not available, using CPU\")\n",
    "\n",
    "# current device used\n",
    "from tensorflow.python.client import device_lib\n",
    "print(f'\\nCurrent devices: {device_lib.list_local_devices()[0].name}')"
   ]
  },
  {
   "cell_type": "markdown",
   "id": "9bc7cec7",
   "metadata": {},
   "source": [
    "**03. Creating Tensors**"
   ]
  },
  {
   "cell_type": "code",
   "execution_count": 4,
   "id": "315c594f",
   "metadata": {},
   "outputs": [
    {
     "name": "stdout",
     "output_type": "stream",
     "text": [
      "tensor([[3.0276e-16, 3.3906e-41, 0.0000e+00],\n",
      "        [0.0000e+00, 4.0944e+14, 4.4565e-41]])\n",
      "tf.Tensor(\n",
      "[[0. 0. 0.]\n",
      " [0. 0. 0.]], shape=(2, 3), dtype=float64)\n"
     ]
    }
   ],
   "source": [
    "# 1. using empty: creates a space in memory of size (2,3) and doesn't assign value rather uses existing value of that space\n",
    "a = tr.empty(size = (2,3))\n",
    "print(a)\n",
    "\n",
    "b = tf.experimental.numpy.empty(shape=(2,3))\n",
    "print(b)"
   ]
  },
  {
   "cell_type": "code",
   "execution_count": 5,
   "id": "c28f30b4",
   "metadata": {},
   "outputs": [
    {
     "data": {
      "text/plain": [
       "(torch.Tensor, tensorflow.python.framework.ops.EagerTensor)"
      ]
     },
     "execution_count": 5,
     "metadata": {},
     "output_type": "execute_result"
    }
   ],
   "source": [
    "# checking type\n",
    "type(a),type(b)"
   ]
  },
  {
   "cell_type": "code",
   "execution_count": 6,
   "id": "67d6b485",
   "metadata": {},
   "outputs": [
    {
     "name": "stdout",
     "output_type": "stream",
     "text": [
      "tensor([[0., 0., 0., 0., 0.],\n",
      "        [0., 0., 0., 0., 0.]])\n",
      "tf.Tensor(\n",
      "[[0. 0. 0. 0. 0.]\n",
      " [0. 0. 0. 0. 0.]], shape=(2, 5), dtype=float32)\n"
     ]
    }
   ],
   "source": [
    "# 2. using zeros: creates a tensor with all zeros\n",
    "a = tr.zeros(size = (2,5)) \n",
    "print(a)\n",
    "\n",
    "b = tf.zeros(shape = (2,5))\n",
    "print(b)"
   ]
  },
  {
   "cell_type": "code",
   "execution_count": null,
   "id": "00b46eac",
   "metadata": {},
   "outputs": [
    {
     "name": "stdout",
     "output_type": "stream",
     "text": [
      "tensor([[1., 1., 1., 1.],\n",
      "        [1., 1., 1., 1.]])\n",
      "tf.Tensor(\n",
      "[[1. 1. 1. 1.]\n",
      " [1. 1. 1. 1.]], shape=(2, 4), dtype=float32)\n"
     ]
    }
   ],
   "source": [
    "# 3. using ones: creates a tensor with all ones\n",
    "a = tr.ones(size = (2,4)) \n",
    "print(a)\n",
    "\n",
    "b = tf.ones(shape = (2,4))\n",
    "print(b)"
   ]
  },
  {
   "cell_type": "code",
   "execution_count": 8,
   "id": "96085287",
   "metadata": {},
   "outputs": [
    {
     "name": "stdout",
     "output_type": "stream",
     "text": [
      "tensor([[0.1312, 0.7962, 0.8914, 0.1855, 0.8976],\n",
      "        [0.7117, 0.5369, 0.4720, 0.3344, 0.9462]])\n",
      "tf.Tensor(\n",
      "[[0.19350553 0.8708118  0.41380608 0.70585346 0.22799802]\n",
      " [0.715858   0.590588   0.68044174 0.6352383  0.43992496]], shape=(2, 5), dtype=float32)\n"
     ]
    }
   ],
   "source": [
    "# 4. using rand:  \n",
    "a = tr.rand(size = (2,5)) \n",
    "print(a)\n",
    "\n",
    "b = tf.random.uniform(shape = (2,5))\n",
    "print(b)"
   ]
  },
  {
   "cell_type": "code",
   "execution_count": 9,
   "id": "7aa47dc1",
   "metadata": {},
   "outputs": [
    {
     "name": "stdout",
     "output_type": "stream",
     "text": [
      "tensor([[0.5695, 0.0047, 0.9303, 0.7257, 0.8295],\n",
      "        [0.7683, 0.0600, 0.1453, 0.2924, 0.5292]])\n",
      "tf.Tensor(\n",
      "[[0.49482596 0.3634578  0.47555816 0.3824556  0.5170771 ]\n",
      " [0.24241877 0.16012645 0.5617894  0.9455174  0.20611668]], shape=(2, 5), dtype=float32)\n"
     ]
    }
   ],
   "source": [
    "# use of seed\n",
    "random_seed = 14\n",
    "tr.manual_seed(random_seed)\n",
    "tf.random.set_seed(random_seed)\n",
    "\n",
    "a = tr.rand(size = (2,5)) \n",
    "print(a)\n",
    "\n",
    "b = tf.random.uniform(shape = (2,5))\n",
    "print(b)"
   ]
  },
  {
   "cell_type": "code",
   "execution_count": 10,
   "id": "0e9f229f",
   "metadata": {},
   "outputs": [
    {
     "name": "stdout",
     "output_type": "stream",
     "text": [
      "tensor([[2, 3],\n",
      "        [7, 8]])\n",
      "tf.Tensor(\n",
      "[[2 3]\n",
      " [7 8]], shape=(2, 2), dtype=int32)\n"
     ]
    }
   ],
   "source": [
    "# using tensor\n",
    "a = tr.tensor([[2,3],[7,8]]) \n",
    "print(a)\n",
    "\n",
    "b = tf.constant([[2,3],[7,8]])\n",
    "print(b)"
   ]
  },
  {
   "cell_type": "code",
   "execution_count": 11,
   "id": "d918ed8d",
   "metadata": {},
   "outputs": [
    {
     "name": "stdout",
     "output_type": "stream",
     "text": [
      "tensor([5, 7, 9])\n",
      "tf.Tensor([5 7 9], shape=(3,), dtype=int32)\n"
     ]
    }
   ],
   "source": [
    "# Other ways to create tensors\n",
    "\n",
    "# 6. using arange\n",
    "a = tr.arange(5,10,2)\n",
    "print(a)\n",
    "\n",
    "b = tf.range(5,10,2)\n",
    "print(b)"
   ]
  },
  {
   "cell_type": "code",
   "execution_count": 12,
   "id": "f2629a0d",
   "metadata": {},
   "outputs": [
    {
     "name": "stdout",
     "output_type": "stream",
     "text": [
      "tensor([ 5.0000,  6.2500,  7.5000,  8.7500, 10.0000])\n",
      "tf.Tensor([ 5.    6.25  7.5   8.75 10.  ], shape=(5,), dtype=float64)\n"
     ]
    }
   ],
   "source": [
    "# 7. using linspace\n",
    "\n",
    "a = tr.linspace(5,10,5)\n",
    "print(a)\n",
    "\n",
    "b = tf.linspace(5,10,5)\n",
    "print(b)"
   ]
  },
  {
   "cell_type": "code",
   "execution_count": 13,
   "id": "53c3d1f1",
   "metadata": {},
   "outputs": [
    {
     "name": "stdout",
     "output_type": "stream",
     "text": [
      "tensor([[1., 0., 0.],\n",
      "        [0., 1., 0.],\n",
      "        [0., 0., 1.]])\n",
      "tf.Tensor(\n",
      "[[1. 0. 0.]\n",
      " [0. 1. 0.]\n",
      " [0. 0. 1.]], shape=(3, 3), dtype=float32)\n"
     ]
    }
   ],
   "source": [
    "# 8. using eye\n",
    "a = tr.eye(3)\n",
    "print(a)\n",
    "\n",
    "b = tf.eye(3)\n",
    "print(b)"
   ]
  },
  {
   "cell_type": "code",
   "execution_count": 14,
   "id": "a6911b15",
   "metadata": {},
   "outputs": [
    {
     "name": "stdout",
     "output_type": "stream",
     "text": [
      "tensor([[5, 5, 5],\n",
      "        [5, 5, 5],\n",
      "        [5, 5, 5]])\n",
      "tf.Tensor(\n",
      "[[5. 5. 5.]\n",
      " [5. 5. 5.]\n",
      " [5. 5. 5.]], shape=(3, 3), dtype=float32)\n"
     ]
    }
   ],
   "source": [
    "# 9. using full\n",
    "a = tr.full(size = (3,3), fill_value=5)\n",
    "print(a)\n",
    "\n",
    "b = tf.keras.ops.full(shape = (3,3), fill_value = 5)\n",
    "print(b)"
   ]
  },
  {
   "cell_type": "code",
   "execution_count": 12,
   "id": "06d63eaa",
   "metadata": {},
   "outputs": [
    {
     "data": {
      "text/plain": [
       "(-1.5792160034179688, float)"
      ]
     },
     "execution_count": 12,
     "metadata": {},
     "output_type": "execute_result"
    }
   ],
   "source": [
    "# accessing tensor content\n",
    "a = tr.randn(1)\n",
    "a.item(),type(a.item()) # gives scalar output \n"
   ]
  },
  {
   "cell_type": "markdown",
   "id": "d7f97506",
   "metadata": {},
   "source": [
    "**04. Tensor shapes**"
   ]
  },
  {
   "cell_type": "code",
   "execution_count": 34,
   "id": "47307afb",
   "metadata": {},
   "outputs": [
    {
     "data": {
      "text/plain": [
       "(torch.Size([2, 3]), TensorShape([2, 3]))"
      ]
     },
     "execution_count": 34,
     "metadata": {},
     "output_type": "execute_result"
    }
   ],
   "source": [
    "a = tr.tensor([[1,2,3],[4,5,6]])\n",
    "b = tf.constant([[1,2,3],[4,5,6]])\n",
    "a.shape,b.shape"
   ]
  },
  {
   "cell_type": "code",
   "execution_count": 45,
   "id": "61f8b766",
   "metadata": {},
   "outputs": [
    {
     "name": "stdout",
     "output_type": "stream",
     "text": [
      "tensor([-881442624,      24193, -899170112], dtype=torch.int32)\n",
      "tensor([0, 0, 0], dtype=torch.int32)\n",
      "tensor([1, 1, 1], dtype=torch.int32)\n",
      "tensor([0.1466, 0.8305, 0.3579])\n"
     ]
    }
   ],
   "source": [
    "# creating tensors of exact shape like given tensors\n",
    "c = tr.empty_like(a)\n",
    "d = tr.zeros_like(c)\n",
    "e = tr.ones_like(d)\n",
    "# f = tr.rand_like(a) # here the code will throw error as datatype miss-match\n",
    "f = tr.rand_like(a,dtype=tr.float32)\n",
    "\n",
    "print(c)\n",
    "print(d)\n",
    "print(e)\n",
    "print(f)"
   ]
  },
  {
   "cell_type": "code",
   "execution_count": 27,
   "id": "2fe9299d",
   "metadata": {},
   "outputs": [
    {
     "name": "stdout",
     "output_type": "stream",
     "text": [
      "tensor([[    103908143792128, 7310593858020254331, 3616445622929465956],\n",
      "        [6067529767722167605, 3617017455194026033, 6499029850491270446]])\n",
      "tf.Tensor(\n",
      "[[0 0 0]\n",
      " [0 0 0]], shape=(2, 3), dtype=int64)\n",
      "tf.Tensor(\n",
      "[[1 1 1]\n",
      " [1 1 1]], shape=(2, 3), dtype=int64)\n"
     ]
    }
   ],
   "source": [
    "d = tf.zeros_like(c)\n",
    "e = tf.ones_like(d)\n",
    "\n",
    "print(c)\n",
    "print(d)\n",
    "print(e)"
   ]
  },
  {
   "cell_type": "markdown",
   "id": "1a8f5675",
   "metadata": {},
   "source": [
    "**Note:**\n",
    "* A torch tensor can be passed to tensorflow but vice-versa doesn't work\n",
    "* Whenever no-direct `tf` functionality available try using `tf.keras.ops.functionality...`"
   ]
  },
  {
   "cell_type": "markdown",
   "id": "ae035300",
   "metadata": {},
   "source": [
    "**05. Tensor Data types**"
   ]
  },
  {
   "cell_type": "code",
   "execution_count": 36,
   "id": "b753557e",
   "metadata": {},
   "outputs": [
    {
     "name": "stdout",
     "output_type": "stream",
     "text": [
      "torch.int64\n",
      "<dtype: 'int32'>\n"
     ]
    }
   ],
   "source": [
    "# checking data-type\n",
    "print(a.dtype)\n",
    "print(b.dtype)"
   ]
  },
  {
   "cell_type": "code",
   "execution_count": 47,
   "id": "5d964d95",
   "metadata": {},
   "outputs": [
    {
     "name": "stdout",
     "output_type": "stream",
     "text": [
      "tensor([1, 2, 3], dtype=torch.int32) tf.Tensor([1 2 3], shape=(3,), dtype=int32)\n"
     ]
    }
   ],
   "source": [
    "# assigning data-type\n",
    "a = tr.tensor([1.0,2.0,3.0],dtype=tr.int32)\n",
    "# b = tf.constant([1.0,2.0,3.0],dtype = tf.int32) # direct type mentioning not possible\n",
    "b = tf.cast(tf.constant([1.0,2.0,3.0]),dtype=tf.int32)\n",
    "\n",
    "print(a,b)"
   ]
  },
  {
   "cell_type": "code",
   "execution_count": 40,
   "id": "b5144484",
   "metadata": {},
   "outputs": [
    {
     "name": "stdout",
     "output_type": "stream",
     "text": [
      "tensor([1., 2., 3.]) tf.Tensor([1. 2. 3.], shape=(3,), dtype=float32)\n"
     ]
    }
   ],
   "source": [
    "a = tr.tensor([1,2,3],dtype=tr.float32)\n",
    "b = tf.constant([1,2,3],dtype = tf.float32) # this is possible\n",
    "print(a,b)"
   ]
  },
  {
   "cell_type": "code",
   "execution_count": 42,
   "id": "afd47905",
   "metadata": {},
   "outputs": [
    {
     "name": "stdout",
     "output_type": "stream",
     "text": [
      "torch.int32 <dtype: 'int32'>\n"
     ]
    }
   ],
   "source": [
    "# typecasting\n",
    "a = a.to(dtype=tr.int32)\n",
    "b = tf.cast(b,tf.int32)\n",
    "\n",
    "print(a.dtype,b.dtype)"
   ]
  },
  {
   "cell_type": "markdown",
   "id": "83455991",
   "metadata": {
    "vscode": {
     "languageId": "sql"
    }
   },
   "source": [
    "| PyTorch dtype                          | TensorFlow dtype     | Description                          |\n",
    "|--------------------------------------|---------------------|------------------------------------|\n",
    "| `tr.float32`                       | `tf.float32`        | 32-bit floating point               |\n",
    "| `tr.float64`                       | `tf.float64`        | 64-bit floating point (double)      |\n",
    "| `tr.float16`                       | `tf.float16`        | 16-bit floating point (half)        |\n",
    "| `tr.bfloat16`                      | `tf.bfloat16`       | 16-bit brain floating point         |\n",
    "| `tr.uint8`                        | `tf.uint8`          | Unsigned 8-bit integer              |\n",
    "| `tr.int8`                         | `tf.int8`           | Signed 8-bit integer                |\n",
    "| `tr.int16` (aka `tr.short`)    | `tf.int16`          | Signed 16-bit integer               |\n",
    "| `tr.int32` (aka `tr.int`)      | `tf.int32`          | Signed 32-bit integer               |\n",
    "| `tr.int64` (aka `tr.long`)     | `tf.int64`          | Signed 64-bit integer               |\n",
    "| `tr.bool`                         | `tf.bool`           | Boolean type                      |\n",
    "| `tr.complex64`                   | `tf.complex64`      | Complex numbers (64-bit)            |\n",
    "| `tr.complex128`                  | `tf.complex128`     | Complex numbers (128-bit)           |\n",
    "| `tr.qint8`                      | `tf.qint8`          | Quantized signed 8-bit integer      |\n",
    "| `tr.quint8`                     | `tf.quint8`         | Quantized unsigned 8-bit integer    |\n",
    "| `tr.qint32`                     | `tf.qint32`         | Quantized signed 32-bit integer     |\n"
   ]
  },
  {
   "cell_type": "markdown",
   "id": "e7a0f526",
   "metadata": {},
   "source": [
    "**06. Mathematical operations**"
   ]
  },
  {
   "cell_type": "code",
   "execution_count": 55,
   "id": "239b8799",
   "metadata": {},
   "outputs": [
    {
     "data": {
      "text/plain": [
       "(tensor([[0.5695, 0.0047],\n",
       "         [0.9303, 0.7257]]),\n",
       " <tf.Tensor: shape=(2, 2), dtype=float32, numpy=\n",
       " array([[0.49482596, 0.3634578 ],\n",
       "        [0.47555816, 0.3824556 ]], dtype=float32)>)"
      ]
     },
     "execution_count": 55,
     "metadata": {},
     "output_type": "execute_result"
    }
   ],
   "source": [
    "# 1. Scalar operations\n",
    "tr.manual_seed(random_seed)\n",
    "tf.random.set_seed(random_seed)\n",
    "a = tr.rand(2,2)\n",
    "b = tf.random.uniform((2,2))\n",
    "a,b"
   ]
  },
  {
   "cell_type": "code",
   "execution_count": 60,
   "id": "4c924ad8",
   "metadata": {},
   "outputs": [
    {
     "name": "stdout",
     "output_type": "stream",
     "text": [
      "tensor([[2.5695, 2.0047],\n",
      "        [2.9303, 2.7257]])\n",
      "tf.Tensor(\n",
      "[[2.4948258 2.3634577]\n",
      " [2.4755583 2.3824556]], shape=(2, 2), dtype=float32)\n",
      "\n",
      "tensor([[-1.4305, -1.9953],\n",
      "        [-1.0697, -1.2743]])\n",
      "tf.Tensor(\n",
      "[[-1.505174  -1.6365422]\n",
      " [-1.5244418 -1.6175444]], shape=(2, 2), dtype=float32)\n",
      "\n",
      "tensor([[1.1390, 0.0094],\n",
      "        [1.8605, 1.4515]])\n",
      "tf.Tensor(\n",
      "[[0.9896519 0.7269156]\n",
      " [0.9511163 0.7649112]], shape=(2, 2), dtype=float32)\n",
      "\n",
      "tensor([[0., 0.],\n",
      "        [0., 0.]])\n",
      "tf.Tensor(\n",
      "[[0. 0.]\n",
      " [0. 0.]], shape=(2, 2), dtype=float32)\n",
      "\n",
      "tensor([[0.2847, 0.0024],\n",
      "        [0.4651, 0.3629]])\n",
      "tf.Tensor(\n",
      "[[0.24741298 0.1817289 ]\n",
      " [0.23777908 0.1912278 ]], shape=(2, 2), dtype=float32)\n",
      "\n",
      "tensor([[0.5695, 0.0047],\n",
      "        [0.9303, 0.7257]])\n",
      "tf.Tensor(\n",
      "[[0.49482596 0.3634578 ]\n",
      " [0.47555816 0.3824556 ]], shape=(2, 2), dtype=float32)\n",
      "\n",
      "tensor([[3.2432e-01, 2.2280e-05],\n",
      "        [8.6537e-01, 5.2669e-01]])\n",
      "tf.Tensor(\n",
      "[[0.24485274 0.13210157]\n",
      " [0.22615556 0.14627227]], shape=(2, 2), dtype=float32)\n"
     ]
    }
   ],
   "source": [
    "# addition\n",
    "print(a+2)\n",
    "print(b+2)\n",
    "print()\n",
    "\n",
    "# subtraction\n",
    "print(a-2)\n",
    "print(b-2)\n",
    "print()\n",
    "\n",
    "# multiplication\n",
    "print(a*2)\n",
    "print(b*2)\n",
    "print()\n",
    "\n",
    "# int - division\n",
    "print(a//2)\n",
    "print(b//2)\n",
    "print()\n",
    "\n",
    "# division\n",
    "print(a/2)\n",
    "print(b/2)\n",
    "print()\n",
    "\n",
    "# modulus\n",
    "print(a%2)\n",
    "print(b%2)\n",
    "print()\n",
    "\n",
    "# power\n",
    "print(a**2)\n",
    "print(b**2)\n"
   ]
  },
  {
   "cell_type": "code",
   "execution_count": 62,
   "id": "db5745a6",
   "metadata": {},
   "outputs": [],
   "source": [
    "# 2. element-wise operations\n",
    "a = tr.rand(2,3)\n",
    "b = tr.rand(2,3)\n",
    "\n",
    "p = tf.random.uniform((2,3))\n",
    "q = tf.random.uniform((2,3))"
   ]
  },
  {
   "cell_type": "code",
   "execution_count": 74,
   "id": "3c0fdec1",
   "metadata": {},
   "outputs": [
    {
     "name": "stdout",
     "output_type": "stream",
     "text": [
      "tensor([[0.6524, 1.3456, 1.5968],\n",
      "        [0.8245, 0.9629, 1.7114]])\n",
      "tf.Tensor(\n",
      "[[0.8055148 1.0250206 1.7749256]\n",
      " [1.5376699 0.6104001 1.0852401]], shape=(2, 3), dtype=float32)\n",
      "\n",
      "tensor([[-0.5820,  0.6289, -0.3143],\n",
      "        [ 0.0650, -0.0445,  0.1832]])\n",
      "tf.Tensor(\n",
      "[[ 0.56187725 -0.842124    0.02157152]\n",
      " [ 0.02714205 -0.31516588  0.22221684]], shape=(2, 3), dtype=float32)\n",
      "\n",
      "tensor([[0.0217, 0.3538, 0.6128],\n",
      "        [0.1689, 0.2313, 0.7238]])\n",
      "tf.Tensor(\n",
      "[[0.08328702 0.0853736  0.78747386]\n",
      " [0.590923   0.06831468 0.28209144]], shape=(2, 3), dtype=float32)\n",
      "\n",
      "tensor([[0.0570, 2.7550, 0.6711],\n",
      "        [1.1712, 0.9117, 1.2397]])\n",
      "tf.Tensor(\n",
      "[[5.6124024  0.09795525 1.024606  ]\n",
      " [1.0359372  0.31897694 1.514973  ]], shape=(2, 3), dtype=float32)\n",
      "\n",
      "tensor([[0.1267, 0.9954, 0.6541],\n",
      "        [0.7351, 0.6757, 0.9595]])\n",
      "tf.Tensor(\n",
      "[[0.9547358  0.10719694 0.9102146 ]\n",
      " [0.8308319  0.4125633  0.8324187 ]], shape=(2, 3), dtype=float32)\n",
      "\n",
      "tensor([[0.9882, 1.0006],\n",
      "        [1.3442, 1.1240]])\n",
      "tf.Tensor(\n",
      "[[0.95613444 0.9462964 ]\n",
      " [0.80623174 0.9413291 ]], shape=(2, 2), dtype=float32)\n",
      "\n"
     ]
    }
   ],
   "source": [
    "# addition\n",
    "print(a+b)\n",
    "print(p+q)\n",
    "print()\n",
    "\n",
    "# subtraction\n",
    "print(a-b)\n",
    "print(p-q)\n",
    "print()\n",
    "\n",
    "# multiplication\n",
    "print(a*b)\n",
    "print(p*q)\n",
    "print()\n",
    "\n",
    "# division\n",
    "print(a/b)\n",
    "print(p/q)\n",
    "print()\n",
    "\n",
    "# power\n",
    "print(a**b)\n",
    "print(p**q)\n",
    "print()\n",
    "\n",
    "\n",
    "# inner-product\n",
    "print(a@b.T)\n",
    "print(p@tf.transpose(q)) # `.T` won't transpose\n",
    "print()"
   ]
  },
  {
   "cell_type": "code",
   "execution_count": 80,
   "id": "8adb3c29",
   "metadata": {},
   "outputs": [
    {
     "name": "stdout",
     "output_type": "stream",
     "text": [
      "tensor([1, 2, 3, 4]) tf.Tensor([1 2 3 4], shape=(4,), dtype=int64)\n",
      "tensor([-1, -2,  3,  4]) tf.Tensor([-1 -2  3  4], shape=(4,), dtype=int64)\n"
     ]
    }
   ],
   "source": [
    "# 3. Other operations\n",
    "a = tr.tensor([1,2,-3,-4])\n",
    "\n",
    "# getting absolute\n",
    "print(tr.abs(a),tf.abs(a))\n",
    "\n",
    "# getting negation\n",
    "print(tr.neg(a),tf.negative(a))"
   ]
  },
  {
   "cell_type": "code",
   "execution_count": 89,
   "id": "f91f1902",
   "metadata": {},
   "outputs": [
    {
     "name": "stdout",
     "output_type": "stream",
     "text": [
      "tensor([ 2.,  2., -4., -4.]) tf.Tensor([ 2.  2. -4. -4.], shape=(4,), dtype=float32)\n",
      "tensor([ 2.,  3., -3., -4.]) tf.Tensor([ 2.  3. -3. -4.], shape=(4,), dtype=float32)\n",
      "tensor([ 1.,  2., -4., -5.]) tf.Tensor([ 1.  2. -4. -5.], shape=(4,), dtype=float32)\n",
      "tensor([2.0000, 2.3000, 2.0000, 2.0000]) tf.Tensor([2.  2.3 2.  2. ], shape=(4,), dtype=float32)\n"
     ]
    }
   ],
   "source": [
    "a = tr.tensor([1.9,2.3,-3.7,-4.4])\n",
    "\n",
    "# rounding\n",
    "print(tr.round(a),tf.round(a))\n",
    "\n",
    "# ceil\n",
    "print(tr.ceil(a),tf.keras.ops.ceil(a))\n",
    "\n",
    "# floor\n",
    "print(tr.floor(a),tf.keras.ops.floor(a))\n",
    "\n",
    "# clamp\n",
    "print(tr.clamp(a,min=2,max=3),tf.clip_by_value(a,clip_value_min=2,clip_value_max=3))\n",
    "\n"
   ]
  },
  {
   "cell_type": "code",
   "execution_count": 98,
   "id": "e4789ef9",
   "metadata": {},
   "outputs": [
    {
     "name": "stdout",
     "output_type": "stream",
     "text": [
      "tensor([[5., 7., 1.],\n",
      "        [5., 3., 8.]]) tf.Tensor(\n",
      "[[1 2 6]\n",
      " [0 9 1]], shape=(2, 3), dtype=int32)\n"
     ]
    }
   ],
   "source": [
    "# 4. Reduction Operations\n",
    "\n",
    "a = tr.randint(size =(2,3),low = 0,high = 10,dtype=tr.float32)\n",
    "b = tf.random.uniform(shape = (2,3), minval=0,maxval=10,dtype=tf.int32)\n",
    "\n",
    "print(a,b)"
   ]
  },
  {
   "cell_type": "code",
   "execution_count": 99,
   "id": "01c28b34",
   "metadata": {},
   "outputs": [
    {
     "name": "stdout",
     "output_type": "stream",
     "text": [
      "tensor(29.)\n",
      "tf.Tensor(29.0, shape=(), dtype=float32)\n",
      "\n",
      "tensor([10., 10.,  9.])\n",
      "tf.Tensor([10. 10.  9.], shape=(3,), dtype=float32)\n",
      "\n",
      "tensor([13., 16.])\n",
      "tf.Tensor([13. 16.], shape=(2,), dtype=float32)\n",
      "\n"
     ]
    }
   ],
   "source": [
    "# sum\n",
    "print(tr.sum(a))\n",
    "print(tf.reduce_sum(a))\n",
    "print()\n",
    "\n",
    "# sum along columns\n",
    "print(tr.sum(a,dim = 0))\n",
    "print(tf.reduce_sum(a,axis = 0))\n",
    "print()\n",
    "\n",
    "# sum along rows\n",
    "print(tr.sum(a,dim = 1))\n",
    "print(tf.reduce_sum(a,axis = 1))\n",
    "print()"
   ]
  },
  {
   "cell_type": "code",
   "execution_count": 100,
   "id": "0e8c36bc",
   "metadata": {},
   "outputs": [
    {
     "name": "stdout",
     "output_type": "stream",
     "text": [
      "tensor(4.8333)\n",
      "tf.Tensor(4.8333335, shape=(), dtype=float32)\n",
      "\n",
      "tensor([5.0000, 5.0000, 4.5000])\n",
      "tf.Tensor([5.  5.  4.5], shape=(3,), dtype=float32)\n",
      "\n",
      "tensor([4.3333, 5.3333])\n",
      "tf.Tensor([4.3333335 5.3333335], shape=(2,), dtype=float32)\n",
      "\n"
     ]
    }
   ],
   "source": [
    "# mean\n",
    "print(tr.mean(a)) # needs datatype to be float or complex\n",
    "print(tf.reduce_mean(a))\n",
    "print()\n",
    "\n",
    "# mean along columns\n",
    "print(tr.mean(a,dim = 0))\n",
    "print(tf.reduce_mean(a,axis = 0))\n",
    "print()\n",
    "\n",
    "# mean along rows\n",
    "print(tr.mean(a,dim = 1))\n",
    "print(tf.reduce_mean(a,axis = 1))\n",
    "print()"
   ]
  },
  {
   "cell_type": "code",
   "execution_count": 105,
   "id": "b8d85088",
   "metadata": {},
   "outputs": [
    {
     "name": "stdout",
     "output_type": "stream",
     "text": [
      "tensor(5.)\n",
      "tf.Tensor(5.0, shape=(), dtype=float32)\n",
      "\n",
      "torch.return_types.median(\n",
      "values=tensor([5., 3., 1.]),\n",
      "indices=tensor([0, 1, 0]))\n",
      "tf.Tensor([5.  5.  4.5], shape=(3,), dtype=float32)\n",
      "\n",
      "torch.return_types.median(\n",
      "values=tensor([5., 5.]),\n",
      "indices=tensor([0, 0]))\n",
      "tf.Tensor([5. 5.], shape=(2,), dtype=float32)\n",
      "\n"
     ]
    }
   ],
   "source": [
    "# median\n",
    "print(tr.median(a)) # needs datatype to be float or complex\n",
    "print(tf.keras.ops.median(a))\n",
    "print()\n",
    "\n",
    "# median along columns\n",
    "print(tr.median(a,dim = 0))\n",
    "print(tf.keras.ops.median(a,axis = 0))\n",
    "print()\n",
    "\n",
    "# median along rows\n",
    "print(tr.median(a,dim = 1))\n",
    "print(tf.keras.ops.median(a,axis = 1))\n",
    "print()"
   ]
  },
  {
   "cell_type": "code",
   "execution_count": 106,
   "id": "78ed2af2",
   "metadata": {},
   "outputs": [
    {
     "name": "stdout",
     "output_type": "stream",
     "text": [
      "tensor(8.)\n",
      "tf.Tensor(8.0, shape=(), dtype=float32)\n",
      "\n",
      "torch.return_types.max(\n",
      "values=tensor([5., 7., 8.]),\n",
      "indices=tensor([0, 0, 1]))\n",
      "tf.Tensor([5. 7. 8.], shape=(3,), dtype=float32)\n",
      "\n",
      "torch.return_types.max(\n",
      "values=tensor([7., 8.]),\n",
      "indices=tensor([1, 2]))\n",
      "tf.Tensor([7. 8.], shape=(2,), dtype=float32)\n",
      "\n"
     ]
    }
   ],
   "source": [
    "# max\n",
    "print(tr.max(a)) # needs datatype to be float or complex\n",
    "print(tf.reduce_max(a))\n",
    "print()\n",
    "\n",
    "# max along columns\n",
    "print(tr.max(a,dim = 0))\n",
    "print(tf.reduce_max(a,axis = 0))\n",
    "print()\n",
    "\n",
    "# max along rows\n",
    "print(tr.max(a,dim = 1))\n",
    "print(tf.reduce_max(a,axis = 1))\n",
    "print()"
   ]
  },
  {
   "cell_type": "code",
   "execution_count": 107,
   "id": "8f5713a5",
   "metadata": {},
   "outputs": [
    {
     "name": "stdout",
     "output_type": "stream",
     "text": [
      "tensor(1.)\n",
      "tf.Tensor(1.0, shape=(), dtype=float32)\n",
      "\n",
      "torch.return_types.min(\n",
      "values=tensor([5., 3., 1.]),\n",
      "indices=tensor([0, 1, 0]))\n",
      "tf.Tensor([5. 3. 1.], shape=(3,), dtype=float32)\n",
      "\n",
      "torch.return_types.min(\n",
      "values=tensor([1., 3.]),\n",
      "indices=tensor([2, 1]))\n",
      "tf.Tensor([1. 3.], shape=(2,), dtype=float32)\n",
      "\n"
     ]
    }
   ],
   "source": [
    "# min\n",
    "print(tr.min(a)) # needs datatype to be float or complex\n",
    "print(tf.reduce_min(a))\n",
    "print()\n",
    "\n",
    "# min along columns\n",
    "print(tr.min(a,dim = 0))\n",
    "print(tf.reduce_min(a,axis = 0))\n",
    "print()\n",
    "\n",
    "# min along rows\n",
    "print(tr.min(a,dim = 1))\n",
    "print(tf.reduce_min(a,axis = 1))\n",
    "print()"
   ]
  },
  {
   "cell_type": "code",
   "execution_count": null,
   "id": "5beb1aff",
   "metadata": {},
   "outputs": [
    {
     "name": "stdout",
     "output_type": "stream",
     "text": [
      "tensor(4200.)\n",
      "tf.Tensor(4200.0, shape=(), dtype=float32)\n",
      "\n",
      "tensor([25., 21.,  8.])\n",
      "tf.Tensor([25. 21.  8.], shape=(3,), dtype=float32)\n",
      "\n",
      "tensor([ 35., 120.])\n",
      "tf.Tensor([ 35. 120.], shape=(2,), dtype=float32)\n"
     ]
    }
   ],
   "source": [
    "# prod\n",
    "print(tr.prod(a))\n",
    "print(tf.keras.ops.prod(a))\n",
    "print()\n",
    "\n",
    "# along columns\n",
    "print(tr.prod(a,dim = 0))\n",
    "print(tf.keras.ops.prod(a,axis=0))\n",
    "print()\n",
    "\n",
    "# along rows\n",
    "print(tr.prod(a,dim = 1))\n",
    "print(tf.keras.ops.prod(a, axis = 1))\n"
   ]
  },
  {
   "cell_type": "code",
   "execution_count": 125,
   "id": "fff5c28f",
   "metadata": {},
   "outputs": [
    {
     "name": "stdout",
     "output_type": "stream",
     "text": [
      "tensor(2.5626)\n",
      "tf.Tensor(2.3392782, shape=(), dtype=float32)\n",
      "\n",
      "tensor([0.0000, 2.8284, 4.9497])\n",
      "tf.Tensor([0.  2.  3.5], shape=(3,), dtype=float32)\n",
      "\n",
      "tensor([3.0551, 2.5166])\n",
      "tf.Tensor([2.4944384 2.0548046], shape=(2,), dtype=float32)\n"
     ]
    }
   ],
   "source": [
    "# std\n",
    "print(tr.std(a))\n",
    "print(tf.keras.ops.std(a))\n",
    "print()\n",
    "\n",
    "# along columns\n",
    "print(tr.std(a,dim = 0))\n",
    "print(tf.keras.ops.std(a,axis=0))\n",
    "print()\n",
    "\n",
    "# along rows\n",
    "print(tr.std(a,dim = 1))\n",
    "print(tf.keras.ops.std(a, axis = 1))\n"
   ]
  },
  {
   "cell_type": "code",
   "execution_count": 118,
   "id": "6d5a489e",
   "metadata": {},
   "outputs": [
    {
     "name": "stdout",
     "output_type": "stream",
     "text": [
      "tensor(6.5667)\n",
      "tf.Tensor(5.472223, shape=(), dtype=float32)\n",
      "\n",
      "tensor([ 0.0000,  8.0000, 24.5000])\n",
      "tf.Tensor([ 0.    4.   12.25], shape=(3,), dtype=float32)\n",
      "\n",
      "tensor([9.3333, 6.3333])\n",
      "tf.Tensor([6.222223 4.222222], shape=(2,), dtype=float32)\n"
     ]
    }
   ],
   "source": [
    "# var\n",
    "print(tr.var(a))\n",
    "print(tf.keras.ops.var(a))\n",
    "print()\n",
    "\n",
    "# along columns\n",
    "print(tr.var(a,dim = 0))\n",
    "print(tf.keras.ops.var(a,axis=0))\n",
    "print()\n",
    "\n",
    "# along rows\n",
    "print(tr.var(a,dim = 1))\n",
    "print(tf.keras.ops.var(a, axis = 1))\n"
   ]
  },
  {
   "cell_type": "markdown",
   "id": "dd1c3eb2",
   "metadata": {},
   "source": [
    "**Note:** In tensorflow, there is no bessel's correction, while in torch there is bessel's correction for std and var"
   ]
  },
  {
   "cell_type": "code",
   "execution_count": 133,
   "id": "515f039c",
   "metadata": {},
   "outputs": [
    {
     "name": "stdout",
     "output_type": "stream",
     "text": [
      "tensor(5)\n",
      "tf.Tensor(5, shape=(), dtype=int64)\n",
      "\n",
      "tensor([0, 0, 1])\n",
      "tf.Tensor([0 0 1], shape=(3,), dtype=int64)\n",
      "\n",
      "tensor([1, 2])\n",
      "tf.Tensor([1 2], shape=(2,), dtype=int64)\n"
     ]
    }
   ],
   "source": [
    "# argmax\n",
    "print(tr.argmax(a))\n",
    "print(tf.argmax(tr.reshape(a,[-1]))) # needs flattening incase to get a single output without axis\n",
    "print()\n",
    "\n",
    "# along columns\n",
    "print(tr.argmax(a,dim = 0))\n",
    "print(tf.argmax(a,axis=0))\n",
    "print()\n",
    "\n",
    "# along rows\n",
    "print(tr.argmax(a,dim = 1))\n",
    "print(tf.argmax(a, axis = 1))\n"
   ]
  },
  {
   "cell_type": "code",
   "execution_count": 134,
   "id": "ebd33989",
   "metadata": {},
   "outputs": [
    {
     "name": "stdout",
     "output_type": "stream",
     "text": [
      "tensor(2)\n",
      "tf.Tensor(2, shape=(), dtype=int64)\n",
      "\n",
      "tensor([0, 1, 0])\n",
      "tf.Tensor([0 1 0], shape=(3,), dtype=int64)\n",
      "\n",
      "tensor([2, 1])\n",
      "tf.Tensor([2 1], shape=(2,), dtype=int64)\n"
     ]
    }
   ],
   "source": [
    "# argmin\n",
    "print(tr.argmin(a))\n",
    "print(tf.argmin(tr.reshape(a,[-1]))) # needs flattening incase to get a single output without axis\n",
    "print()\n",
    "\n",
    "# along columns\n",
    "print(tr.argmin(a,dim = 0))\n",
    "print(tf.argmin(a,axis=0))\n",
    "print()\n",
    "\n",
    "# along rows\n",
    "print(tr.argmin(a,dim = 1))\n",
    "print(tf.argmin(a, axis = 1))\n"
   ]
  },
  {
   "cell_type": "code",
   "execution_count": 139,
   "id": "dc5e5d7c",
   "metadata": {},
   "outputs": [
    {
     "name": "stdout",
     "output_type": "stream",
     "text": [
      "tensor([[22, 28],\n",
      "        [49, 64]])\n",
      "tf.Tensor(\n",
      "[[22 28]\n",
      " [49 64]], shape=(2, 2), dtype=int64)\n",
      "\n",
      "tensor([[22, 28],\n",
      "        [49, 64]])\n",
      "\n",
      "tensor([[1, 4],\n",
      "        [2, 5],\n",
      "        [3, 6]])\n",
      "tf.Tensor(\n",
      "[[1 4]\n",
      " [2 5]\n",
      " [3 6]], shape=(3, 2), dtype=int64)\n",
      "tensor([[1, 4],\n",
      "        [2, 5],\n",
      "        [3, 6]])\n"
     ]
    }
   ],
   "source": [
    "# 5. Matrix operations\n",
    "a = tr.tensor([[1,2,3],[4,5,6]])\n",
    "b = tr.tensor([[1,2],[3,4],[5,6]])\n",
    "\n",
    "# matrix multiplication\n",
    "print(tr.matmul(a,b))\n",
    "print(tf.matmul(a,b))\n",
    "print()\n",
    "\n",
    "# using `@` operator\n",
    "print(a@b)\n",
    "print()\n",
    "\n",
    "# transpose\n",
    "print(tr.transpose(a,dim0=0,dim1=1))\n",
    "print(tf.transpose(a))\n",
    "\n",
    "# using `.T` (only for torch)\n",
    "print(a.T)\n"
   ]
  },
  {
   "cell_type": "code",
   "execution_count": 146,
   "id": "67013b63",
   "metadata": {},
   "outputs": [
    {
     "name": "stdout",
     "output_type": "stream",
     "text": [
      "tensor(0.1256)\n",
      "tf.Tensor(0.12555058, shape=(), dtype=float32)\n",
      "tensor([[ 1.0426,  1.0657, -6.1171],\n",
      "        [-1.3229,  0.8816,  1.8923],\n",
      "        [ 0.4434, -0.6569,  3.7353]])\n",
      "tf.Tensor(\n",
      "[[ 1.0426165   1.0656512  -6.1171055 ]\n",
      " [-1.3228978   0.8816091   1.8922603 ]\n",
      " [ 0.443406   -0.65685827  3.7352521 ]], shape=(3, 3), dtype=float32)\n"
     ]
    }
   ],
   "source": [
    "tr.manual_seed(random_seed)\n",
    "a = tr.rand(3,3)\n",
    "\n",
    "# determinant\n",
    "print(tr.det(a))\n",
    "print(tf.linalg.det(a))\n",
    "\n",
    "# inverse\n",
    "print(tr.inverse(a))\n",
    "print(tf.linalg.inv(a))"
   ]
  },
  {
   "cell_type": "code",
   "execution_count": 159,
   "id": "26c143ce",
   "metadata": {},
   "outputs": [
    {
     "name": "stdout",
     "output_type": "stream",
     "text": [
      "tensor([[0.5695, 0.0047, 0.9303],\n",
      "        [0.7257, 0.8295, 0.7683]])\n",
      "tensor([[0.0600, 0.1453, 0.2924],\n",
      "        [0.5292, 0.1466, 0.8305]])\n",
      "\n",
      "tensor([[ True, False,  True],\n",
      "        [ True,  True, False]])\n",
      "\n",
      "tensor([[ True, False,  True],\n",
      "        [ True,  True, False]])\n",
      "\n",
      "tensor([[False,  True, False],\n",
      "        [False, False,  True]])\n",
      "\n",
      "tensor([[False,  True, False],\n",
      "        [False, False,  True]])\n",
      "\n",
      "tensor([[False, False, False],\n",
      "        [False, False, False]])\n"
     ]
    }
   ],
   "source": [
    "# 6. Comparison operators\n",
    "tr.manual_seed(random_seed)\n",
    "a = tr.rand(2,3)\n",
    "b = tr.rand(2,3)\n",
    "\n",
    "print(a)\n",
    "print(b)\n",
    "print()\n",
    "\n",
    "# greater\n",
    "print(a>b)\n",
    "print()\n",
    "# greater equal\n",
    "print(a>=b)\n",
    "print()\n",
    "\n",
    "# lesser\n",
    "print(a<b)\n",
    "print()\n",
    "# lesser - equal\n",
    "print(a<=b)\n",
    "print()\n",
    "\n",
    "# equal\n",
    "print(a==b)"
   ]
  },
  {
   "cell_type": "code",
   "execution_count": 185,
   "id": "bf5693b2",
   "metadata": {},
   "outputs": [
    {
     "name": "stdout",
     "output_type": "stream",
     "text": [
      "tensor([[0.0000, 0.6931, 1.0986],\n",
      "        [   nan, 1.6094,    nan]])\n",
      "tf.Tensor(\n",
      "[[0.        0.6931472 1.0986123]\n",
      " [      nan 1.609438        nan]], shape=(2, 3), dtype=float32)\n",
      "\n",
      "tensor([[2.7183e+00, 7.3891e+00, 2.0086e+01],\n",
      "        [1.8316e-02, 1.4841e+02, 2.4788e-03]])\n",
      "tf.Tensor(\n",
      "[[2.7182817e+00 7.3890562e+00 2.0085537e+01]\n",
      " [1.8315639e-02 1.4841316e+02 2.4787523e-03]], shape=(2, 3), dtype=float32)\n",
      "\n",
      "tensor([[1.0000, 1.4142, 1.7321],\n",
      "        [   nan, 2.2361,    nan]])\n",
      "tf.Tensor(\n",
      "[[1.        1.4142135 1.7320508]\n",
      " [      nan 2.236068        nan]], shape=(2, 3), dtype=float32)\n",
      "\n",
      "tensor([[0.7311, 0.8808, 0.9526],\n",
      "        [0.0180, 0.9933, 0.0025]])\n",
      "tf.Tensor(\n",
      "[[0.7310586  0.8807971  0.95257413]\n",
      " [0.01798621 0.9933072  0.00247262]], shape=(2, 3), dtype=float32)\n",
      "\n",
      "tensor([[9.9331e-01, 4.7426e-02, 9.9988e-01],\n",
      "        [6.6929e-03, 9.5257e-01, 1.2339e-04]])\n",
      "tf.Tensor(\n",
      "[[9.9330717e-01 4.7425874e-02 9.9987662e-01]\n",
      " [6.6928510e-03 9.5257413e-01 1.2339458e-04]], shape=(2, 3), dtype=float32)\n",
      "\n",
      "tensor([[1., 2., 3.],\n",
      "        [0., 5., 0.]])\n",
      "tf.Tensor(\n",
      "[[1. 2. 3.]\n",
      " [0. 5. 0.]], shape=(2, 3), dtype=float32)\n",
      "\n"
     ]
    }
   ],
   "source": [
    "# 7. Special functions\n",
    "\n",
    "a = tr.tensor([[1,2,3],[-4,5,-6]])\n",
    "\n",
    "# log\n",
    "print(tr.log(a))\n",
    "print(tf.math.log(a.to(tr.float)))\n",
    "print()\n",
    "\n",
    "# exp\n",
    "print(tr.exp(a))\n",
    "print(tf.math.exp(a.to(tr.float)))\n",
    "print()\n",
    "\n",
    "# sqrt\n",
    "print(tr.sqrt(a))\n",
    "print(tf.sqrt(a.to(tr.float)))\n",
    "print()\n",
    "\n",
    "# sigmoid\n",
    "print(tr.sigmoid(a))\n",
    "print(tf.sigmoid(a.to(tr.float)))\n",
    "print()\n",
    "\n",
    "# softmax\n",
    "print(tr.softmax(a.to(tr.float),dim = 0)) # needs data to be float\n",
    "print(tf.math.softmax(a.to(tr.float),axis = 0))\n",
    "print()\n",
    "\n",
    "# relu\n",
    "print(tr.relu(a.to(tr.float)))\n",
    "print(tf.keras.ops.relu(a.to(tr.float)))\n",
    "print()"
   ]
  },
  {
   "cell_type": "markdown",
   "id": "6ce21eda",
   "metadata": {},
   "source": [
    "**Note:** Tensorflow needs the inputs to special functions as floating point or complex"
   ]
  },
  {
   "cell_type": "code",
   "execution_count": 209,
   "id": "04f000b1",
   "metadata": {},
   "outputs": [
    {
     "name": "stdout",
     "output_type": "stream",
     "text": [
      "tensor([[-1.0141, -0.3720, -0.7516],\n",
      "        [-0.8623, -0.3270,  0.5212]])\n",
      "tensor([[ 1.2622, -1.4680, -0.1037],\n",
      "        [ 0.5177, -1.0845, -2.0901]])\n",
      "tensor([[True, True, True],\n",
      "        [True, True, True]])\n",
      "\n",
      "tensor([[True, True, True],\n",
      "        [True, True, True]])\n",
      "\n",
      "tensor([[True, True, True],\n",
      "        [True, True, True]])\n",
      "\n",
      "tensor([[True, True, True],\n",
      "        [True, True, True]])\n",
      "\n",
      "tensor([[0.0000, 0.0000, 0.0000],\n",
      "        [0.0000, 0.0000, 0.5212]])\n",
      "\n",
      "tensor([[0.0000, 0.0000, 0.0000],\n",
      "        [0.0000, 0.0000, 0.5212]])\n"
     ]
    }
   ],
   "source": [
    "# 8. Inplace Operations\n",
    "tr.manual_seed(random_seed)\n",
    "m = tr.randn(2,3)\n",
    "n = tr.randn(2,3)\n",
    "\n",
    "print(m)\n",
    "print(n)\n",
    "\n",
    "print(m.add_(n)==m)\n",
    "print()\n",
    "print(m.sub_(n)==m)\n",
    "print()\n",
    "print(m.mul_(n)==m)\n",
    "print()\n",
    "print(m.div_(n)==m)\n",
    "print()\n",
    "print(m.relu_())\n",
    "print()\n",
    "print(m.abs_())"
   ]
  },
  {
   "cell_type": "markdown",
   "id": "46088370",
   "metadata": {},
   "source": [
    "**Note:** \n",
    "* In TensorFlow, in-place operations are not allowed in the same way they are in PyTorch. This is because TensorFlow uses a computational graph model, and tensors are typically immutable (not updated in-place).\n",
    "* However, you can reassign variables or use tf.Variable for mutable tensors."
   ]
  },
  {
   "cell_type": "code",
   "execution_count": 211,
   "id": "f13d9712",
   "metadata": {},
   "outputs": [
    {
     "name": "stdout",
     "output_type": "stream",
     "text": [
      "m:\n",
      " [[ 0.89734983 -0.7757973   0.8208116 ]\n",
      " [-0.90155447  1.1472297   0.05468887]]\n",
      "n:\n",
      " [[ 0.14229247  0.6229361   0.5665132 ]\n",
      " [-0.5726     -0.13736247 -2.1842823 ]]\n",
      "\n",
      "m after add_:\n",
      " [[ 1.0396423  -0.15286118  1.3873248 ]\n",
      " [-1.4741545   1.0098672  -2.1295934 ]]\n",
      "\n",
      "m after sub_:\n",
      " [[ 0.89734983 -0.7757973   0.8208116 ]\n",
      " [-0.90155447  1.1472297   0.05468893]]\n",
      "\n",
      "m after mul_:\n",
      " [[ 0.12768613 -0.48327217  0.4650006 ]\n",
      " [ 0.5162301  -0.15758629 -0.11945606]]\n",
      "\n",
      "m after div_:\n",
      " [[ 0.89734983 -0.7757973   0.8208116 ]\n",
      " [-0.90155447  1.1472297   0.05468893]]\n",
      "\n",
      "m after relu_:\n",
      " [[0.89734983 0.         0.8208116 ]\n",
      " [0.         1.1472297  0.05468893]]\n",
      "\n",
      "m after abs_:\n",
      " [[0.89734983 0.         0.8208116 ]\n",
      " [0.         1.1472297  0.05468893]]\n"
     ]
    }
   ],
   "source": [
    "tf.random.set_seed(random_seed)\n",
    "\n",
    "# Mutable tensors using tf.Variable\n",
    "m = tf.Variable(tf.random.normal((2, 3)))\n",
    "n = tf.random.normal((2, 3))\n",
    "\n",
    "print(\"m:\\n\", m.numpy())\n",
    "print(\"n:\\n\", n.numpy())\n",
    "\n",
    "# add_ equivalent\n",
    "m.assign_add(n)\n",
    "print(\"\\nm after add_:\\n\", m.numpy())\n",
    "\n",
    "# sub_ equivalent\n",
    "m.assign_sub(n)\n",
    "print(\"\\nm after sub_:\\n\", m.numpy())\n",
    "\n",
    "# mul_ equivalent\n",
    "m.assign(m * n)\n",
    "print(\"\\nm after mul_:\\n\", m.numpy())\n",
    "\n",
    "# div_ equivalent\n",
    "m.assign(m / n)\n",
    "print(\"\\nm after div_:\\n\", m.numpy())\n",
    "\n",
    "# relu_ equivalent\n",
    "m.assign(tf.nn.relu(m))\n",
    "print(\"\\nm after relu_:\\n\", m.numpy())\n",
    "\n",
    "# abs_ equivalent\n",
    "m.assign(tf.abs(m))\n",
    "print(\"\\nm after abs_:\\n\", m.numpy())"
   ]
  },
  {
   "cell_type": "markdown",
   "id": "dda4021a",
   "metadata": {},
   "source": [
    "**07. Copying a Tensor**"
   ]
  },
  {
   "cell_type": "code",
   "execution_count": 216,
   "id": "90a7d290",
   "metadata": {},
   "outputs": [
    {
     "name": "stdout",
     "output_type": "stream",
     "text": [
      "tensor([[True, True, True],\n",
      "        [True, True, True]])\n",
      "tensor([[True, True, True],\n",
      "        [True, True, True]])\n",
      "True\n"
     ]
    }
   ],
   "source": [
    "# using assignment operator in python, we point to existing memory location using a new pointer.\n",
    "a = tr.randn(2,3)\n",
    "b = a\n",
    "print(a==b)\n",
    "a[0][0]=7\n",
    "print(a==b)\n",
    "\n",
    "print(id(a)==id(b))"
   ]
  },
  {
   "cell_type": "code",
   "execution_count": 222,
   "id": "e6c4a3d4",
   "metadata": {},
   "outputs": [
    {
     "name": "stdout",
     "output_type": "stream",
     "text": [
      "False\n"
     ]
    }
   ],
   "source": [
    "b = a.clone()\n",
    "print(id(a)==id(b))"
   ]
  },
  {
   "cell_type": "markdown",
   "id": "5ac0d5a4",
   "metadata": {},
   "source": [
    "**Notes**\n",
    "* Tensorflow doesn't have `clone()` like in PyTorch, because:\n",
    "    * TensorFlow encourages immutability for tensors.\n",
    "    * You must be explicit about when and how copies are made."
   ]
  },
  {
   "cell_type": "code",
   "execution_count": 230,
   "id": "0dc7ce7e",
   "metadata": {},
   "outputs": [
    {
     "name": "stdout",
     "output_type": "stream",
     "text": [
      "True\n",
      "False\n",
      "False\n"
     ]
    }
   ],
   "source": [
    "tf.random.set_seed(random_seed)\n",
    "a = tf.Variable(tf.random.uniform((2,3)))\n",
    "b = a\n",
    "print(id(a)==id(b))\n",
    "\n",
    "b = tf.Variable(a.read_value())\n",
    "print(id(a)==id(b))\n",
    "\n",
    "# another approach\n",
    "import copy\n",
    "\n",
    "b = copy.deepcopy(a)\n",
    "print(id(a)==id(b))"
   ]
  },
  {
   "cell_type": "markdown",
   "id": "4f276bab",
   "metadata": {},
   "source": [
    "**08. Tensor operations on GPU**"
   ]
  },
  {
   "cell_type": "code",
   "execution_count": null,
   "id": "0ddd0459",
   "metadata": {},
   "outputs": [],
   "source": [
    "# creating a new tensor on GPU\n",
    "device = tr.device('cuda')\n",
    "\n",
    "# tr.rand((2,3),device=device) # uncomment for GPU\n",
    "a = tr.rand((2,3),device=tr.device('cpu')) # default device in CPU\n",
    "b = a.to(device) # will create a new tensor in GPU"
   ]
  },
  {
   "cell_type": "markdown",
   "id": "8b722997",
   "metadata": {},
   "source": [
    "**09. Reshaping tensors**"
   ]
  },
  {
   "cell_type": "code",
   "execution_count": 249,
   "id": "0ffa72a0",
   "metadata": {},
   "outputs": [
    {
     "name": "stdout",
     "output_type": "stream",
     "text": [
      "torch.Size([4, 4]) torch.Size([2, 2, 2, 2])\n",
      "\n",
      "(4, 4) (2, 2, 2, 2)\n"
     ]
    }
   ],
   "source": [
    "# reshape\n",
    "a = tr.randn(4,4)\n",
    "b = a.reshape(2,2,2,2)\n",
    "print(a.shape,b.shape)\n",
    "print()\n",
    "a = tf.random.uniform((4,4))\n",
    "b = tf.reshape(a,(2,2,2,2)) # directly not possible using `a.reshape`\n",
    "print(a.shape,b.shape)\n"
   ]
  },
  {
   "cell_type": "code",
   "execution_count": null,
   "id": "36b91cf8",
   "metadata": {},
   "outputs": [
    {
     "name": "stdout",
     "output_type": "stream",
     "text": [
      "torch.Size([4, 4]) torch.Size([16])\n",
      "\n",
      "(4, 4) (16,)\n"
     ]
    }
   ],
   "source": [
    "# flatten == reshape(T,[-1])\n",
    "a = tr.randn(4,4)\n",
    "b = a.flatten()\n",
    "print(a.shape,b.shape)\n",
    "print()\n",
    "a = tf.random.uniform((4,4))\n",
    "b = tf.reshape(a,[-1]) # directly not possible using `a.reshape`\n",
    "print(a.shape,b.shape)"
   ]
  },
  {
   "cell_type": "code",
   "execution_count": null,
   "id": "68d6e679",
   "metadata": {},
   "outputs": [
    {
     "name": "stdout",
     "output_type": "stream",
     "text": [
      "torch.Size([2, 3, 4]) torch.Size([4, 2, 3])\n",
      "\n",
      "(2, 3, 4) (4, 2, 3)\n"
     ]
    }
   ],
   "source": [
    "# permute == transpose\n",
    "a = tr.randn(2,3,4)\n",
    "b = a.permute(2,0,1)\n",
    "print(a.shape,b.shape)\n",
    "print()\n",
    "\n",
    "a = tf.random.uniform((2,3,4))\n",
    "b = tf.transpose(a,perm=(2,0,1))\n",
    "print(a.shape,b.shape)"
   ]
  },
  {
   "cell_type": "code",
   "execution_count": null,
   "id": "2c534dc3",
   "metadata": {},
   "outputs": [
    {
     "name": "stdout",
     "output_type": "stream",
     "text": [
      "torch.Size([226, 226, 3]) torch.Size([1, 226, 226, 3]) torch.Size([226, 226, 3])\n",
      "\n",
      "(226, 226, 3) (1, 226, 226, 3) (226, 226, 3)\n"
     ]
    }
   ],
   "source": [
    "# unsqueeze & squeeze\n",
    "\n",
    "a = tr.randn(226,226,3)\n",
    "b = a.unsqueeze(0)\n",
    "c = b.squeeze()\n",
    "print(a.shape,b.shape,c.shape)\n",
    "print()\n",
    "\n",
    "a = tf.random.uniform((226,226,3))\n",
    "b = tf.expand_dims(a,axis = 0)\n",
    "c = tf.squeeze(b)\n",
    "print(a.shape,b.shape,c.shape)"
   ]
  },
  {
   "cell_type": "code",
   "execution_count": 265,
   "id": "ed4fccb3",
   "metadata": {},
   "outputs": [
    {
     "name": "stdout",
     "output_type": "stream",
     "text": [
      "<class 'torch.Tensor'> <class 'numpy.ndarray'> <class 'tensorflow.python.framework.ops.EagerTensor'>\n"
     ]
    }
   ],
   "source": [
    "# Pytorch <--> NumPy <--> TensorFlow\n",
    "\n",
    "import numpy as np\n",
    "\n",
    "a = tr.tensor([1,2,3])\n",
    "b = a.numpy()\n",
    "c = tf.constant(a)\n",
    "print(type(a),type(b),type(c))"
   ]
  },
  {
   "cell_type": "code",
   "execution_count": 266,
   "id": "fccb297d",
   "metadata": {},
   "outputs": [
    {
     "name": "stdout",
     "output_type": "stream",
     "text": [
      "<class 'numpy.ndarray'> <class 'torch.Tensor'> <class 'tensorflow.python.framework.ops.EagerTensor'>\n"
     ]
    }
   ],
   "source": [
    "a = np.array([1,2,3])\n",
    "b = tr.tensor(a)\n",
    "c = tf.constant(a)\n",
    "print(type(a),type(b),type(c))"
   ]
  },
  {
   "cell_type": "code",
   "execution_count": 270,
   "id": "6988b477",
   "metadata": {},
   "outputs": [
    {
     "name": "stdout",
     "output_type": "stream",
     "text": [
      "<class 'tensorflow.python.framework.ops.EagerTensor'> <class 'numpy.ndarray'> <class 'torch.Tensor'>\n"
     ]
    }
   ],
   "source": [
    "a = tf.constant([1,2,3])\n",
    "b = a.numpy()\n",
    "# c = tr.tensor(a) # doesn't work\n",
    "c = tr.tensor(a.numpy())\n",
    "d = tr.from_numpy(a.numpy())\n",
    "print(type(a),type(b),type(c))"
   ]
  },
  {
   "cell_type": "markdown",
   "id": "cf92298e",
   "metadata": {},
   "source": [
    "***--- Continued in the next notebook ---***"
   ]
  }
 ],
 "metadata": {
  "kernelspec": {
   "display_name": "Python 3",
   "language": "python",
   "name": "python3"
  },
  "language_info": {
   "codemirror_mode": {
    "name": "ipython",
    "version": 3
   },
   "file_extension": ".py",
   "mimetype": "text/x-python",
   "name": "python",
   "nbconvert_exporter": "python",
   "pygments_lexer": "ipython3",
   "version": "3.10.12"
  }
 },
 "nbformat": 4,
 "nbformat_minor": 5
}
