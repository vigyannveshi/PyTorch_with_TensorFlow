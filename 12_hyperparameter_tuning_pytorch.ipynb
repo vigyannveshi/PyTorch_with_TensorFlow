{
 "cells": [
  {
   "cell_type": "markdown",
   "id": "55b37129",
   "metadata": {},
   "source": [
    "**21. Hyperparameter tuning in PyTorch using Optuna**"
   ]
  },
  {
   "cell_type": "markdown",
   "id": "d23ba5ad",
   "metadata": {},
   "source": [
    "`Hyperparameters that would be tuned`\n",
    "1. Number of hidden layers \n",
    "2. Neurons per layer \n",
    "3. Number of Epochs \n",
    "4. Optimizer \n",
    "5. Learning rate \n",
    "6. Batch Size \n",
    "7. Dropout rate \n",
    "8. Weight decay ($\\lambda$) \n",
    "\n",
    "`Optuna code overlay`\n",
    "1. Objective function:\n",
    "   * Define\n",
    "      * Search space\n",
    "      * model init\n",
    "      * param init\n",
    "      * training loop\n",
    "      * evaluation loop\n",
    "    * returns\n",
    "      * accuracy on validation data/test data\n"
   ]
  },
  {
   "cell_type": "code",
   "execution_count": 1,
   "id": "0c957612",
   "metadata": {},
   "outputs": [],
   "source": [
    "import pandas as pd\n",
    "from sklearn.model_selection import train_test_split\n",
    "\n",
    "import numpy as np\n",
    "import torch as tr\n",
    "import torch.nn as nn\n",
    "from torch.utils.data import Dataset,DataLoader\n",
    "\n",
    "# import plotting libraries\n",
    "import matplotlib.pyplot as plt\n",
    "import matplotlib_inline\n",
    "matplotlib_inline.backend_inline.set_matplotlib_formats('svg')\n",
    "\n",
    "# hyperparameter tuning\n",
    "import optuna\n",
    "\n",
    "# set random seeds for reproducibility\n",
    "random_seed = 14"
   ]
  },
  {
   "cell_type": "code",
   "execution_count": 2,
   "id": "7bb3d2d8",
   "metadata": {},
   "outputs": [
    {
     "data": {
      "application/vnd.microsoft.datawrangler.viewer.v0+json": {
       "columns": [
        {
         "name": "index",
         "rawType": "int64",
         "type": "integer"
        },
        {
         "name": "label",
         "rawType": "int64",
         "type": "integer"
        },
        {
         "name": "pixel1",
         "rawType": "int64",
         "type": "integer"
        },
        {
         "name": "pixel2",
         "rawType": "int64",
         "type": "integer"
        },
        {
         "name": "pixel3",
         "rawType": "int64",
         "type": "integer"
        },
        {
         "name": "pixel4",
         "rawType": "int64",
         "type": "integer"
        },
        {
         "name": "pixel5",
         "rawType": "int64",
         "type": "integer"
        },
        {
         "name": "pixel6",
         "rawType": "int64",
         "type": "integer"
        },
        {
         "name": "pixel7",
         "rawType": "int64",
         "type": "integer"
        },
        {
         "name": "pixel8",
         "rawType": "int64",
         "type": "integer"
        },
        {
         "name": "pixel9",
         "rawType": "int64",
         "type": "integer"
        },
        {
         "name": "pixel10",
         "rawType": "int64",
         "type": "integer"
        },
        {
         "name": "pixel11",
         "rawType": "int64",
         "type": "integer"
        },
        {
         "name": "pixel12",
         "rawType": "int64",
         "type": "integer"
        },
        {
         "name": "pixel13",
         "rawType": "int64",
         "type": "integer"
        },
        {
         "name": "pixel14",
         "rawType": "int64",
         "type": "integer"
        },
        {
         "name": "pixel15",
         "rawType": "int64",
         "type": "integer"
        },
        {
         "name": "pixel16",
         "rawType": "int64",
         "type": "integer"
        },
        {
         "name": "pixel17",
         "rawType": "int64",
         "type": "integer"
        },
        {
         "name": "pixel18",
         "rawType": "int64",
         "type": "integer"
        },
        {
         "name": "pixel19",
         "rawType": "int64",
         "type": "integer"
        },
        {
         "name": "pixel20",
         "rawType": "int64",
         "type": "integer"
        },
        {
         "name": "pixel21",
         "rawType": "int64",
         "type": "integer"
        },
        {
         "name": "pixel22",
         "rawType": "int64",
         "type": "integer"
        },
        {
         "name": "pixel23",
         "rawType": "int64",
         "type": "integer"
        },
        {
         "name": "pixel24",
         "rawType": "int64",
         "type": "integer"
        },
        {
         "name": "pixel25",
         "rawType": "int64",
         "type": "integer"
        },
        {
         "name": "pixel26",
         "rawType": "int64",
         "type": "integer"
        },
        {
         "name": "pixel27",
         "rawType": "int64",
         "type": "integer"
        },
        {
         "name": "pixel28",
         "rawType": "int64",
         "type": "integer"
        },
        {
         "name": "pixel29",
         "rawType": "int64",
         "type": "integer"
        },
        {
         "name": "pixel30",
         "rawType": "int64",
         "type": "integer"
        },
        {
         "name": "pixel31",
         "rawType": "int64",
         "type": "integer"
        },
        {
         "name": "pixel32",
         "rawType": "int64",
         "type": "integer"
        },
        {
         "name": "pixel33",
         "rawType": "int64",
         "type": "integer"
        },
        {
         "name": "pixel34",
         "rawType": "int64",
         "type": "integer"
        },
        {
         "name": "pixel35",
         "rawType": "int64",
         "type": "integer"
        },
        {
         "name": "pixel36",
         "rawType": "int64",
         "type": "integer"
        },
        {
         "name": "pixel37",
         "rawType": "int64",
         "type": "integer"
        },
        {
         "name": "pixel38",
         "rawType": "int64",
         "type": "integer"
        },
        {
         "name": "pixel39",
         "rawType": "int64",
         "type": "integer"
        },
        {
         "name": "pixel40",
         "rawType": "int64",
         "type": "integer"
        },
        {
         "name": "pixel41",
         "rawType": "int64",
         "type": "integer"
        },
        {
         "name": "pixel42",
         "rawType": "int64",
         "type": "integer"
        },
        {
         "name": "pixel43",
         "rawType": "int64",
         "type": "integer"
        },
        {
         "name": "pixel44",
         "rawType": "int64",
         "type": "integer"
        },
        {
         "name": "pixel45",
         "rawType": "int64",
         "type": "integer"
        },
        {
         "name": "pixel46",
         "rawType": "int64",
         "type": "integer"
        },
        {
         "name": "pixel47",
         "rawType": "int64",
         "type": "integer"
        },
        {
         "name": "pixel48",
         "rawType": "int64",
         "type": "integer"
        },
        {
         "name": "pixel49",
         "rawType": "int64",
         "type": "integer"
        },
        {
         "name": "pixel50",
         "rawType": "int64",
         "type": "integer"
        },
        {
         "name": "pixel51",
         "rawType": "int64",
         "type": "integer"
        },
        {
         "name": "pixel52",
         "rawType": "int64",
         "type": "integer"
        },
        {
         "name": "pixel53",
         "rawType": "int64",
         "type": "integer"
        },
        {
         "name": "pixel54",
         "rawType": "int64",
         "type": "integer"
        },
        {
         "name": "pixel55",
         "rawType": "int64",
         "type": "integer"
        },
        {
         "name": "pixel56",
         "rawType": "int64",
         "type": "integer"
        },
        {
         "name": "pixel57",
         "rawType": "int64",
         "type": "integer"
        },
        {
         "name": "pixel58",
         "rawType": "int64",
         "type": "integer"
        },
        {
         "name": "pixel59",
         "rawType": "int64",
         "type": "integer"
        },
        {
         "name": "pixel60",
         "rawType": "int64",
         "type": "integer"
        },
        {
         "name": "pixel61",
         "rawType": "int64",
         "type": "integer"
        },
        {
         "name": "pixel62",
         "rawType": "int64",
         "type": "integer"
        },
        {
         "name": "pixel63",
         "rawType": "int64",
         "type": "integer"
        },
        {
         "name": "pixel64",
         "rawType": "int64",
         "type": "integer"
        },
        {
         "name": "pixel65",
         "rawType": "int64",
         "type": "integer"
        },
        {
         "name": "pixel66",
         "rawType": "int64",
         "type": "integer"
        },
        {
         "name": "pixel67",
         "rawType": "int64",
         "type": "integer"
        },
        {
         "name": "pixel68",
         "rawType": "int64",
         "type": "integer"
        },
        {
         "name": "pixel69",
         "rawType": "int64",
         "type": "integer"
        },
        {
         "name": "pixel70",
         "rawType": "int64",
         "type": "integer"
        },
        {
         "name": "pixel71",
         "rawType": "int64",
         "type": "integer"
        },
        {
         "name": "pixel72",
         "rawType": "int64",
         "type": "integer"
        },
        {
         "name": "pixel73",
         "rawType": "int64",
         "type": "integer"
        },
        {
         "name": "pixel74",
         "rawType": "int64",
         "type": "integer"
        },
        {
         "name": "pixel75",
         "rawType": "int64",
         "type": "integer"
        },
        {
         "name": "pixel76",
         "rawType": "int64",
         "type": "integer"
        },
        {
         "name": "pixel77",
         "rawType": "int64",
         "type": "integer"
        },
        {
         "name": "pixel78",
         "rawType": "int64",
         "type": "integer"
        },
        {
         "name": "pixel79",
         "rawType": "int64",
         "type": "integer"
        },
        {
         "name": "pixel80",
         "rawType": "int64",
         "type": "integer"
        },
        {
         "name": "pixel81",
         "rawType": "int64",
         "type": "integer"
        },
        {
         "name": "pixel82",
         "rawType": "int64",
         "type": "integer"
        },
        {
         "name": "pixel83",
         "rawType": "int64",
         "type": "integer"
        },
        {
         "name": "pixel84",
         "rawType": "int64",
         "type": "integer"
        },
        {
         "name": "pixel85",
         "rawType": "int64",
         "type": "integer"
        },
        {
         "name": "pixel86",
         "rawType": "int64",
         "type": "integer"
        },
        {
         "name": "pixel87",
         "rawType": "int64",
         "type": "integer"
        },
        {
         "name": "pixel88",
         "rawType": "int64",
         "type": "integer"
        },
        {
         "name": "pixel89",
         "rawType": "int64",
         "type": "integer"
        },
        {
         "name": "pixel90",
         "rawType": "int64",
         "type": "integer"
        },
        {
         "name": "pixel91",
         "rawType": "int64",
         "type": "integer"
        },
        {
         "name": "pixel92",
         "rawType": "int64",
         "type": "integer"
        },
        {
         "name": "pixel93",
         "rawType": "int64",
         "type": "integer"
        },
        {
         "name": "pixel94",
         "rawType": "int64",
         "type": "integer"
        },
        {
         "name": "pixel95",
         "rawType": "int64",
         "type": "integer"
        },
        {
         "name": "pixel96",
         "rawType": "int64",
         "type": "integer"
        },
        {
         "name": "pixel97",
         "rawType": "int64",
         "type": "integer"
        },
        {
         "name": "pixel98",
         "rawType": "int64",
         "type": "integer"
        },
        {
         "name": "pixel99",
         "rawType": "int64",
         "type": "integer"
        },
        {
         "name": "pixel100",
         "rawType": "int64",
         "type": "integer"
        },
        {
         "name": "pixel101",
         "rawType": "int64",
         "type": "integer"
        },
        {
         "name": "pixel102",
         "rawType": "int64",
         "type": "integer"
        },
        {
         "name": "pixel103",
         "rawType": "int64",
         "type": "integer"
        },
        {
         "name": "pixel104",
         "rawType": "int64",
         "type": "integer"
        },
        {
         "name": "pixel105",
         "rawType": "int64",
         "type": "integer"
        },
        {
         "name": "pixel106",
         "rawType": "int64",
         "type": "integer"
        },
        {
         "name": "pixel107",
         "rawType": "int64",
         "type": "integer"
        },
        {
         "name": "pixel108",
         "rawType": "int64",
         "type": "integer"
        },
        {
         "name": "pixel109",
         "rawType": "int64",
         "type": "integer"
        },
        {
         "name": "pixel110",
         "rawType": "int64",
         "type": "integer"
        },
        {
         "name": "pixel111",
         "rawType": "int64",
         "type": "integer"
        },
        {
         "name": "pixel112",
         "rawType": "int64",
         "type": "integer"
        },
        {
         "name": "pixel113",
         "rawType": "int64",
         "type": "integer"
        },
        {
         "name": "pixel114",
         "rawType": "int64",
         "type": "integer"
        },
        {
         "name": "pixel115",
         "rawType": "int64",
         "type": "integer"
        },
        {
         "name": "pixel116",
         "rawType": "int64",
         "type": "integer"
        },
        {
         "name": "pixel117",
         "rawType": "int64",
         "type": "integer"
        },
        {
         "name": "pixel118",
         "rawType": "int64",
         "type": "integer"
        },
        {
         "name": "pixel119",
         "rawType": "int64",
         "type": "integer"
        },
        {
         "name": "pixel120",
         "rawType": "int64",
         "type": "integer"
        },
        {
         "name": "pixel121",
         "rawType": "int64",
         "type": "integer"
        },
        {
         "name": "pixel122",
         "rawType": "int64",
         "type": "integer"
        },
        {
         "name": "pixel123",
         "rawType": "int64",
         "type": "integer"
        },
        {
         "name": "pixel124",
         "rawType": "int64",
         "type": "integer"
        },
        {
         "name": "pixel125",
         "rawType": "int64",
         "type": "integer"
        },
        {
         "name": "pixel126",
         "rawType": "int64",
         "type": "integer"
        },
        {
         "name": "pixel127",
         "rawType": "int64",
         "type": "integer"
        },
        {
         "name": "pixel128",
         "rawType": "int64",
         "type": "integer"
        },
        {
         "name": "pixel129",
         "rawType": "int64",
         "type": "integer"
        },
        {
         "name": "pixel130",
         "rawType": "int64",
         "type": "integer"
        },
        {
         "name": "pixel131",
         "rawType": "int64",
         "type": "integer"
        },
        {
         "name": "pixel132",
         "rawType": "int64",
         "type": "integer"
        },
        {
         "name": "pixel133",
         "rawType": "int64",
         "type": "integer"
        },
        {
         "name": "pixel134",
         "rawType": "int64",
         "type": "integer"
        },
        {
         "name": "pixel135",
         "rawType": "int64",
         "type": "integer"
        },
        {
         "name": "pixel136",
         "rawType": "int64",
         "type": "integer"
        },
        {
         "name": "pixel137",
         "rawType": "int64",
         "type": "integer"
        },
        {
         "name": "pixel138",
         "rawType": "int64",
         "type": "integer"
        },
        {
         "name": "pixel139",
         "rawType": "int64",
         "type": "integer"
        },
        {
         "name": "pixel140",
         "rawType": "int64",
         "type": "integer"
        },
        {
         "name": "pixel141",
         "rawType": "int64",
         "type": "integer"
        },
        {
         "name": "pixel142",
         "rawType": "int64",
         "type": "integer"
        },
        {
         "name": "pixel143",
         "rawType": "int64",
         "type": "integer"
        },
        {
         "name": "pixel144",
         "rawType": "int64",
         "type": "integer"
        },
        {
         "name": "pixel145",
         "rawType": "int64",
         "type": "integer"
        },
        {
         "name": "pixel146",
         "rawType": "int64",
         "type": "integer"
        },
        {
         "name": "pixel147",
         "rawType": "int64",
         "type": "integer"
        },
        {
         "name": "pixel148",
         "rawType": "int64",
         "type": "integer"
        },
        {
         "name": "pixel149",
         "rawType": "int64",
         "type": "integer"
        },
        {
         "name": "pixel150",
         "rawType": "int64",
         "type": "integer"
        },
        {
         "name": "pixel151",
         "rawType": "int64",
         "type": "integer"
        },
        {
         "name": "pixel152",
         "rawType": "int64",
         "type": "integer"
        },
        {
         "name": "pixel153",
         "rawType": "int64",
         "type": "integer"
        },
        {
         "name": "pixel154",
         "rawType": "int64",
         "type": "integer"
        },
        {
         "name": "pixel155",
         "rawType": "int64",
         "type": "integer"
        },
        {
         "name": "pixel156",
         "rawType": "int64",
         "type": "integer"
        },
        {
         "name": "pixel157",
         "rawType": "int64",
         "type": "integer"
        },
        {
         "name": "pixel158",
         "rawType": "int64",
         "type": "integer"
        },
        {
         "name": "pixel159",
         "rawType": "int64",
         "type": "integer"
        },
        {
         "name": "pixel160",
         "rawType": "int64",
         "type": "integer"
        },
        {
         "name": "pixel161",
         "rawType": "int64",
         "type": "integer"
        },
        {
         "name": "pixel162",
         "rawType": "int64",
         "type": "integer"
        },
        {
         "name": "pixel163",
         "rawType": "int64",
         "type": "integer"
        },
        {
         "name": "pixel164",
         "rawType": "int64",
         "type": "integer"
        },
        {
         "name": "pixel165",
         "rawType": "int64",
         "type": "integer"
        },
        {
         "name": "pixel166",
         "rawType": "int64",
         "type": "integer"
        },
        {
         "name": "pixel167",
         "rawType": "int64",
         "type": "integer"
        },
        {
         "name": "pixel168",
         "rawType": "int64",
         "type": "integer"
        },
        {
         "name": "pixel169",
         "rawType": "int64",
         "type": "integer"
        },
        {
         "name": "pixel170",
         "rawType": "int64",
         "type": "integer"
        },
        {
         "name": "pixel171",
         "rawType": "int64",
         "type": "integer"
        },
        {
         "name": "pixel172",
         "rawType": "int64",
         "type": "integer"
        },
        {
         "name": "pixel173",
         "rawType": "int64",
         "type": "integer"
        },
        {
         "name": "pixel174",
         "rawType": "int64",
         "type": "integer"
        },
        {
         "name": "pixel175",
         "rawType": "int64",
         "type": "integer"
        },
        {
         "name": "pixel176",
         "rawType": "int64",
         "type": "integer"
        },
        {
         "name": "pixel177",
         "rawType": "int64",
         "type": "integer"
        },
        {
         "name": "pixel178",
         "rawType": "int64",
         "type": "integer"
        },
        {
         "name": "pixel179",
         "rawType": "int64",
         "type": "integer"
        },
        {
         "name": "pixel180",
         "rawType": "int64",
         "type": "integer"
        },
        {
         "name": "pixel181",
         "rawType": "int64",
         "type": "integer"
        },
        {
         "name": "pixel182",
         "rawType": "int64",
         "type": "integer"
        },
        {
         "name": "pixel183",
         "rawType": "int64",
         "type": "integer"
        },
        {
         "name": "pixel184",
         "rawType": "int64",
         "type": "integer"
        },
        {
         "name": "pixel185",
         "rawType": "int64",
         "type": "integer"
        },
        {
         "name": "pixel186",
         "rawType": "int64",
         "type": "integer"
        },
        {
         "name": "pixel187",
         "rawType": "int64",
         "type": "integer"
        },
        {
         "name": "pixel188",
         "rawType": "int64",
         "type": "integer"
        },
        {
         "name": "pixel189",
         "rawType": "int64",
         "type": "integer"
        },
        {
         "name": "pixel190",
         "rawType": "int64",
         "type": "integer"
        },
        {
         "name": "pixel191",
         "rawType": "int64",
         "type": "integer"
        },
        {
         "name": "pixel192",
         "rawType": "int64",
         "type": "integer"
        },
        {
         "name": "pixel193",
         "rawType": "int64",
         "type": "integer"
        },
        {
         "name": "pixel194",
         "rawType": "int64",
         "type": "integer"
        },
        {
         "name": "pixel195",
         "rawType": "int64",
         "type": "integer"
        },
        {
         "name": "pixel196",
         "rawType": "int64",
         "type": "integer"
        },
        {
         "name": "pixel197",
         "rawType": "int64",
         "type": "integer"
        },
        {
         "name": "pixel198",
         "rawType": "int64",
         "type": "integer"
        },
        {
         "name": "pixel199",
         "rawType": "int64",
         "type": "integer"
        },
        {
         "name": "pixel200",
         "rawType": "int64",
         "type": "integer"
        },
        {
         "name": "pixel201",
         "rawType": "int64",
         "type": "integer"
        },
        {
         "name": "pixel202",
         "rawType": "int64",
         "type": "integer"
        },
        {
         "name": "pixel203",
         "rawType": "int64",
         "type": "integer"
        },
        {
         "name": "pixel204",
         "rawType": "int64",
         "type": "integer"
        },
        {
         "name": "pixel205",
         "rawType": "int64",
         "type": "integer"
        },
        {
         "name": "pixel206",
         "rawType": "int64",
         "type": "integer"
        },
        {
         "name": "pixel207",
         "rawType": "int64",
         "type": "integer"
        },
        {
         "name": "pixel208",
         "rawType": "int64",
         "type": "integer"
        },
        {
         "name": "pixel209",
         "rawType": "int64",
         "type": "integer"
        },
        {
         "name": "pixel210",
         "rawType": "int64",
         "type": "integer"
        },
        {
         "name": "pixel211",
         "rawType": "int64",
         "type": "integer"
        },
        {
         "name": "pixel212",
         "rawType": "int64",
         "type": "integer"
        },
        {
         "name": "pixel213",
         "rawType": "int64",
         "type": "integer"
        },
        {
         "name": "pixel214",
         "rawType": "int64",
         "type": "integer"
        },
        {
         "name": "pixel215",
         "rawType": "int64",
         "type": "integer"
        },
        {
         "name": "pixel216",
         "rawType": "int64",
         "type": "integer"
        },
        {
         "name": "pixel217",
         "rawType": "int64",
         "type": "integer"
        },
        {
         "name": "pixel218",
         "rawType": "int64",
         "type": "integer"
        },
        {
         "name": "pixel219",
         "rawType": "int64",
         "type": "integer"
        },
        {
         "name": "pixel220",
         "rawType": "int64",
         "type": "integer"
        },
        {
         "name": "pixel221",
         "rawType": "int64",
         "type": "integer"
        },
        {
         "name": "pixel222",
         "rawType": "int64",
         "type": "integer"
        },
        {
         "name": "pixel223",
         "rawType": "int64",
         "type": "integer"
        },
        {
         "name": "pixel224",
         "rawType": "int64",
         "type": "integer"
        },
        {
         "name": "pixel225",
         "rawType": "int64",
         "type": "integer"
        },
        {
         "name": "pixel226",
         "rawType": "int64",
         "type": "integer"
        },
        {
         "name": "pixel227",
         "rawType": "int64",
         "type": "integer"
        },
        {
         "name": "pixel228",
         "rawType": "int64",
         "type": "integer"
        },
        {
         "name": "pixel229",
         "rawType": "int64",
         "type": "integer"
        },
        {
         "name": "pixel230",
         "rawType": "int64",
         "type": "integer"
        },
        {
         "name": "pixel231",
         "rawType": "int64",
         "type": "integer"
        },
        {
         "name": "pixel232",
         "rawType": "int64",
         "type": "integer"
        },
        {
         "name": "pixel233",
         "rawType": "int64",
         "type": "integer"
        },
        {
         "name": "pixel234",
         "rawType": "int64",
         "type": "integer"
        },
        {
         "name": "pixel235",
         "rawType": "int64",
         "type": "integer"
        },
        {
         "name": "pixel236",
         "rawType": "int64",
         "type": "integer"
        },
        {
         "name": "pixel237",
         "rawType": "int64",
         "type": "integer"
        },
        {
         "name": "pixel238",
         "rawType": "int64",
         "type": "integer"
        },
        {
         "name": "pixel239",
         "rawType": "int64",
         "type": "integer"
        },
        {
         "name": "pixel240",
         "rawType": "int64",
         "type": "integer"
        },
        {
         "name": "pixel241",
         "rawType": "int64",
         "type": "integer"
        },
        {
         "name": "pixel242",
         "rawType": "int64",
         "type": "integer"
        },
        {
         "name": "pixel243",
         "rawType": "int64",
         "type": "integer"
        },
        {
         "name": "pixel244",
         "rawType": "int64",
         "type": "integer"
        },
        {
         "name": "pixel245",
         "rawType": "int64",
         "type": "integer"
        },
        {
         "name": "pixel246",
         "rawType": "int64",
         "type": "integer"
        },
        {
         "name": "pixel247",
         "rawType": "int64",
         "type": "integer"
        },
        {
         "name": "pixel248",
         "rawType": "int64",
         "type": "integer"
        },
        {
         "name": "pixel249",
         "rawType": "int64",
         "type": "integer"
        },
        {
         "name": "pixel250",
         "rawType": "int64",
         "type": "integer"
        },
        {
         "name": "pixel251",
         "rawType": "int64",
         "type": "integer"
        },
        {
         "name": "pixel252",
         "rawType": "int64",
         "type": "integer"
        },
        {
         "name": "pixel253",
         "rawType": "int64",
         "type": "integer"
        },
        {
         "name": "pixel254",
         "rawType": "int64",
         "type": "integer"
        },
        {
         "name": "pixel255",
         "rawType": "int64",
         "type": "integer"
        },
        {
         "name": "pixel256",
         "rawType": "int64",
         "type": "integer"
        },
        {
         "name": "pixel257",
         "rawType": "int64",
         "type": "integer"
        },
        {
         "name": "pixel258",
         "rawType": "int64",
         "type": "integer"
        },
        {
         "name": "pixel259",
         "rawType": "int64",
         "type": "integer"
        },
        {
         "name": "pixel260",
         "rawType": "int64",
         "type": "integer"
        },
        {
         "name": "pixel261",
         "rawType": "int64",
         "type": "integer"
        },
        {
         "name": "pixel262",
         "rawType": "int64",
         "type": "integer"
        },
        {
         "name": "pixel263",
         "rawType": "int64",
         "type": "integer"
        },
        {
         "name": "pixel264",
         "rawType": "int64",
         "type": "integer"
        },
        {
         "name": "pixel265",
         "rawType": "int64",
         "type": "integer"
        },
        {
         "name": "pixel266",
         "rawType": "int64",
         "type": "integer"
        },
        {
         "name": "pixel267",
         "rawType": "int64",
         "type": "integer"
        },
        {
         "name": "pixel268",
         "rawType": "int64",
         "type": "integer"
        },
        {
         "name": "pixel269",
         "rawType": "int64",
         "type": "integer"
        },
        {
         "name": "pixel270",
         "rawType": "int64",
         "type": "integer"
        },
        {
         "name": "pixel271",
         "rawType": "int64",
         "type": "integer"
        },
        {
         "name": "pixel272",
         "rawType": "int64",
         "type": "integer"
        },
        {
         "name": "pixel273",
         "rawType": "int64",
         "type": "integer"
        },
        {
         "name": "pixel274",
         "rawType": "int64",
         "type": "integer"
        },
        {
         "name": "pixel275",
         "rawType": "int64",
         "type": "integer"
        },
        {
         "name": "pixel276",
         "rawType": "int64",
         "type": "integer"
        },
        {
         "name": "pixel277",
         "rawType": "int64",
         "type": "integer"
        },
        {
         "name": "pixel278",
         "rawType": "int64",
         "type": "integer"
        },
        {
         "name": "pixel279",
         "rawType": "int64",
         "type": "integer"
        },
        {
         "name": "pixel280",
         "rawType": "int64",
         "type": "integer"
        },
        {
         "name": "pixel281",
         "rawType": "int64",
         "type": "integer"
        },
        {
         "name": "pixel282",
         "rawType": "int64",
         "type": "integer"
        },
        {
         "name": "pixel283",
         "rawType": "int64",
         "type": "integer"
        },
        {
         "name": "pixel284",
         "rawType": "int64",
         "type": "integer"
        },
        {
         "name": "pixel285",
         "rawType": "int64",
         "type": "integer"
        },
        {
         "name": "pixel286",
         "rawType": "int64",
         "type": "integer"
        },
        {
         "name": "pixel287",
         "rawType": "int64",
         "type": "integer"
        },
        {
         "name": "pixel288",
         "rawType": "int64",
         "type": "integer"
        },
        {
         "name": "pixel289",
         "rawType": "int64",
         "type": "integer"
        },
        {
         "name": "pixel290",
         "rawType": "int64",
         "type": "integer"
        },
        {
         "name": "pixel291",
         "rawType": "int64",
         "type": "integer"
        },
        {
         "name": "pixel292",
         "rawType": "int64",
         "type": "integer"
        },
        {
         "name": "pixel293",
         "rawType": "int64",
         "type": "integer"
        },
        {
         "name": "pixel294",
         "rawType": "int64",
         "type": "integer"
        },
        {
         "name": "pixel295",
         "rawType": "int64",
         "type": "integer"
        },
        {
         "name": "pixel296",
         "rawType": "int64",
         "type": "integer"
        },
        {
         "name": "pixel297",
         "rawType": "int64",
         "type": "integer"
        },
        {
         "name": "pixel298",
         "rawType": "int64",
         "type": "integer"
        },
        {
         "name": "pixel299",
         "rawType": "int64",
         "type": "integer"
        },
        {
         "name": "pixel300",
         "rawType": "int64",
         "type": "integer"
        },
        {
         "name": "pixel301",
         "rawType": "int64",
         "type": "integer"
        },
        {
         "name": "pixel302",
         "rawType": "int64",
         "type": "integer"
        },
        {
         "name": "pixel303",
         "rawType": "int64",
         "type": "integer"
        },
        {
         "name": "pixel304",
         "rawType": "int64",
         "type": "integer"
        },
        {
         "name": "pixel305",
         "rawType": "int64",
         "type": "integer"
        },
        {
         "name": "pixel306",
         "rawType": "int64",
         "type": "integer"
        },
        {
         "name": "pixel307",
         "rawType": "int64",
         "type": "integer"
        },
        {
         "name": "pixel308",
         "rawType": "int64",
         "type": "integer"
        },
        {
         "name": "pixel309",
         "rawType": "int64",
         "type": "integer"
        },
        {
         "name": "pixel310",
         "rawType": "int64",
         "type": "integer"
        },
        {
         "name": "pixel311",
         "rawType": "int64",
         "type": "integer"
        },
        {
         "name": "pixel312",
         "rawType": "int64",
         "type": "integer"
        },
        {
         "name": "pixel313",
         "rawType": "int64",
         "type": "integer"
        },
        {
         "name": "pixel314",
         "rawType": "int64",
         "type": "integer"
        },
        {
         "name": "pixel315",
         "rawType": "int64",
         "type": "integer"
        },
        {
         "name": "pixel316",
         "rawType": "int64",
         "type": "integer"
        },
        {
         "name": "pixel317",
         "rawType": "int64",
         "type": "integer"
        },
        {
         "name": "pixel318",
         "rawType": "int64",
         "type": "integer"
        },
        {
         "name": "pixel319",
         "rawType": "int64",
         "type": "integer"
        },
        {
         "name": "pixel320",
         "rawType": "int64",
         "type": "integer"
        },
        {
         "name": "pixel321",
         "rawType": "int64",
         "type": "integer"
        },
        {
         "name": "pixel322",
         "rawType": "int64",
         "type": "integer"
        },
        {
         "name": "pixel323",
         "rawType": "int64",
         "type": "integer"
        },
        {
         "name": "pixel324",
         "rawType": "int64",
         "type": "integer"
        },
        {
         "name": "pixel325",
         "rawType": "int64",
         "type": "integer"
        },
        {
         "name": "pixel326",
         "rawType": "int64",
         "type": "integer"
        },
        {
         "name": "pixel327",
         "rawType": "int64",
         "type": "integer"
        },
        {
         "name": "pixel328",
         "rawType": "int64",
         "type": "integer"
        },
        {
         "name": "pixel329",
         "rawType": "int64",
         "type": "integer"
        },
        {
         "name": "pixel330",
         "rawType": "int64",
         "type": "integer"
        },
        {
         "name": "pixel331",
         "rawType": "int64",
         "type": "integer"
        },
        {
         "name": "pixel332",
         "rawType": "int64",
         "type": "integer"
        },
        {
         "name": "pixel333",
         "rawType": "int64",
         "type": "integer"
        },
        {
         "name": "pixel334",
         "rawType": "int64",
         "type": "integer"
        },
        {
         "name": "pixel335",
         "rawType": "int64",
         "type": "integer"
        },
        {
         "name": "pixel336",
         "rawType": "int64",
         "type": "integer"
        },
        {
         "name": "pixel337",
         "rawType": "int64",
         "type": "integer"
        },
        {
         "name": "pixel338",
         "rawType": "int64",
         "type": "integer"
        },
        {
         "name": "pixel339",
         "rawType": "int64",
         "type": "integer"
        },
        {
         "name": "pixel340",
         "rawType": "int64",
         "type": "integer"
        },
        {
         "name": "pixel341",
         "rawType": "int64",
         "type": "integer"
        },
        {
         "name": "pixel342",
         "rawType": "int64",
         "type": "integer"
        },
        {
         "name": "pixel343",
         "rawType": "int64",
         "type": "integer"
        },
        {
         "name": "pixel344",
         "rawType": "int64",
         "type": "integer"
        },
        {
         "name": "pixel345",
         "rawType": "int64",
         "type": "integer"
        },
        {
         "name": "pixel346",
         "rawType": "int64",
         "type": "integer"
        },
        {
         "name": "pixel347",
         "rawType": "int64",
         "type": "integer"
        },
        {
         "name": "pixel348",
         "rawType": "int64",
         "type": "integer"
        },
        {
         "name": "pixel349",
         "rawType": "int64",
         "type": "integer"
        },
        {
         "name": "pixel350",
         "rawType": "int64",
         "type": "integer"
        },
        {
         "name": "pixel351",
         "rawType": "int64",
         "type": "integer"
        },
        {
         "name": "pixel352",
         "rawType": "int64",
         "type": "integer"
        },
        {
         "name": "pixel353",
         "rawType": "int64",
         "type": "integer"
        },
        {
         "name": "pixel354",
         "rawType": "int64",
         "type": "integer"
        },
        {
         "name": "pixel355",
         "rawType": "int64",
         "type": "integer"
        },
        {
         "name": "pixel356",
         "rawType": "int64",
         "type": "integer"
        },
        {
         "name": "pixel357",
         "rawType": "int64",
         "type": "integer"
        },
        {
         "name": "pixel358",
         "rawType": "int64",
         "type": "integer"
        },
        {
         "name": "pixel359",
         "rawType": "int64",
         "type": "integer"
        },
        {
         "name": "pixel360",
         "rawType": "int64",
         "type": "integer"
        },
        {
         "name": "pixel361",
         "rawType": "int64",
         "type": "integer"
        },
        {
         "name": "pixel362",
         "rawType": "int64",
         "type": "integer"
        },
        {
         "name": "pixel363",
         "rawType": "int64",
         "type": "integer"
        },
        {
         "name": "pixel364",
         "rawType": "int64",
         "type": "integer"
        },
        {
         "name": "pixel365",
         "rawType": "int64",
         "type": "integer"
        },
        {
         "name": "pixel366",
         "rawType": "int64",
         "type": "integer"
        },
        {
         "name": "pixel367",
         "rawType": "int64",
         "type": "integer"
        },
        {
         "name": "pixel368",
         "rawType": "int64",
         "type": "integer"
        },
        {
         "name": "pixel369",
         "rawType": "int64",
         "type": "integer"
        },
        {
         "name": "pixel370",
         "rawType": "int64",
         "type": "integer"
        },
        {
         "name": "pixel371",
         "rawType": "int64",
         "type": "integer"
        },
        {
         "name": "pixel372",
         "rawType": "int64",
         "type": "integer"
        },
        {
         "name": "pixel373",
         "rawType": "int64",
         "type": "integer"
        },
        {
         "name": "pixel374",
         "rawType": "int64",
         "type": "integer"
        },
        {
         "name": "pixel375",
         "rawType": "int64",
         "type": "integer"
        },
        {
         "name": "pixel376",
         "rawType": "int64",
         "type": "integer"
        },
        {
         "name": "pixel377",
         "rawType": "int64",
         "type": "integer"
        },
        {
         "name": "pixel378",
         "rawType": "int64",
         "type": "integer"
        },
        {
         "name": "pixel379",
         "rawType": "int64",
         "type": "integer"
        },
        {
         "name": "pixel380",
         "rawType": "int64",
         "type": "integer"
        },
        {
         "name": "pixel381",
         "rawType": "int64",
         "type": "integer"
        },
        {
         "name": "pixel382",
         "rawType": "int64",
         "type": "integer"
        },
        {
         "name": "pixel383",
         "rawType": "int64",
         "type": "integer"
        },
        {
         "name": "pixel384",
         "rawType": "int64",
         "type": "integer"
        },
        {
         "name": "pixel385",
         "rawType": "int64",
         "type": "integer"
        },
        {
         "name": "pixel386",
         "rawType": "int64",
         "type": "integer"
        },
        {
         "name": "pixel387",
         "rawType": "int64",
         "type": "integer"
        },
        {
         "name": "pixel388",
         "rawType": "int64",
         "type": "integer"
        },
        {
         "name": "pixel389",
         "rawType": "int64",
         "type": "integer"
        },
        {
         "name": "pixel390",
         "rawType": "int64",
         "type": "integer"
        },
        {
         "name": "pixel391",
         "rawType": "int64",
         "type": "integer"
        },
        {
         "name": "pixel392",
         "rawType": "int64",
         "type": "integer"
        },
        {
         "name": "pixel393",
         "rawType": "int64",
         "type": "integer"
        },
        {
         "name": "pixel394",
         "rawType": "int64",
         "type": "integer"
        },
        {
         "name": "pixel395",
         "rawType": "int64",
         "type": "integer"
        },
        {
         "name": "pixel396",
         "rawType": "int64",
         "type": "integer"
        },
        {
         "name": "pixel397",
         "rawType": "int64",
         "type": "integer"
        },
        {
         "name": "pixel398",
         "rawType": "int64",
         "type": "integer"
        },
        {
         "name": "pixel399",
         "rawType": "int64",
         "type": "integer"
        },
        {
         "name": "pixel400",
         "rawType": "int64",
         "type": "integer"
        },
        {
         "name": "pixel401",
         "rawType": "int64",
         "type": "integer"
        },
        {
         "name": "pixel402",
         "rawType": "int64",
         "type": "integer"
        },
        {
         "name": "pixel403",
         "rawType": "int64",
         "type": "integer"
        },
        {
         "name": "pixel404",
         "rawType": "int64",
         "type": "integer"
        },
        {
         "name": "pixel405",
         "rawType": "int64",
         "type": "integer"
        },
        {
         "name": "pixel406",
         "rawType": "int64",
         "type": "integer"
        },
        {
         "name": "pixel407",
         "rawType": "int64",
         "type": "integer"
        },
        {
         "name": "pixel408",
         "rawType": "int64",
         "type": "integer"
        },
        {
         "name": "pixel409",
         "rawType": "int64",
         "type": "integer"
        },
        {
         "name": "pixel410",
         "rawType": "int64",
         "type": "integer"
        },
        {
         "name": "pixel411",
         "rawType": "int64",
         "type": "integer"
        },
        {
         "name": "pixel412",
         "rawType": "int64",
         "type": "integer"
        },
        {
         "name": "pixel413",
         "rawType": "int64",
         "type": "integer"
        },
        {
         "name": "pixel414",
         "rawType": "int64",
         "type": "integer"
        },
        {
         "name": "pixel415",
         "rawType": "int64",
         "type": "integer"
        },
        {
         "name": "pixel416",
         "rawType": "int64",
         "type": "integer"
        },
        {
         "name": "pixel417",
         "rawType": "int64",
         "type": "integer"
        },
        {
         "name": "pixel418",
         "rawType": "int64",
         "type": "integer"
        },
        {
         "name": "pixel419",
         "rawType": "int64",
         "type": "integer"
        },
        {
         "name": "pixel420",
         "rawType": "int64",
         "type": "integer"
        },
        {
         "name": "pixel421",
         "rawType": "int64",
         "type": "integer"
        },
        {
         "name": "pixel422",
         "rawType": "int64",
         "type": "integer"
        },
        {
         "name": "pixel423",
         "rawType": "int64",
         "type": "integer"
        },
        {
         "name": "pixel424",
         "rawType": "int64",
         "type": "integer"
        },
        {
         "name": "pixel425",
         "rawType": "int64",
         "type": "integer"
        },
        {
         "name": "pixel426",
         "rawType": "int64",
         "type": "integer"
        },
        {
         "name": "pixel427",
         "rawType": "int64",
         "type": "integer"
        },
        {
         "name": "pixel428",
         "rawType": "int64",
         "type": "integer"
        },
        {
         "name": "pixel429",
         "rawType": "int64",
         "type": "integer"
        },
        {
         "name": "pixel430",
         "rawType": "int64",
         "type": "integer"
        },
        {
         "name": "pixel431",
         "rawType": "int64",
         "type": "integer"
        },
        {
         "name": "pixel432",
         "rawType": "int64",
         "type": "integer"
        },
        {
         "name": "pixel433",
         "rawType": "int64",
         "type": "integer"
        },
        {
         "name": "pixel434",
         "rawType": "int64",
         "type": "integer"
        },
        {
         "name": "pixel435",
         "rawType": "int64",
         "type": "integer"
        },
        {
         "name": "pixel436",
         "rawType": "int64",
         "type": "integer"
        },
        {
         "name": "pixel437",
         "rawType": "int64",
         "type": "integer"
        },
        {
         "name": "pixel438",
         "rawType": "int64",
         "type": "integer"
        },
        {
         "name": "pixel439",
         "rawType": "int64",
         "type": "integer"
        },
        {
         "name": "pixel440",
         "rawType": "int64",
         "type": "integer"
        },
        {
         "name": "pixel441",
         "rawType": "int64",
         "type": "integer"
        },
        {
         "name": "pixel442",
         "rawType": "int64",
         "type": "integer"
        },
        {
         "name": "pixel443",
         "rawType": "int64",
         "type": "integer"
        },
        {
         "name": "pixel444",
         "rawType": "int64",
         "type": "integer"
        },
        {
         "name": "pixel445",
         "rawType": "int64",
         "type": "integer"
        },
        {
         "name": "pixel446",
         "rawType": "int64",
         "type": "integer"
        },
        {
         "name": "pixel447",
         "rawType": "int64",
         "type": "integer"
        },
        {
         "name": "pixel448",
         "rawType": "int64",
         "type": "integer"
        },
        {
         "name": "pixel449",
         "rawType": "int64",
         "type": "integer"
        },
        {
         "name": "pixel450",
         "rawType": "int64",
         "type": "integer"
        },
        {
         "name": "pixel451",
         "rawType": "int64",
         "type": "integer"
        },
        {
         "name": "pixel452",
         "rawType": "int64",
         "type": "integer"
        },
        {
         "name": "pixel453",
         "rawType": "int64",
         "type": "integer"
        },
        {
         "name": "pixel454",
         "rawType": "int64",
         "type": "integer"
        },
        {
         "name": "pixel455",
         "rawType": "int64",
         "type": "integer"
        },
        {
         "name": "pixel456",
         "rawType": "int64",
         "type": "integer"
        },
        {
         "name": "pixel457",
         "rawType": "int64",
         "type": "integer"
        },
        {
         "name": "pixel458",
         "rawType": "int64",
         "type": "integer"
        },
        {
         "name": "pixel459",
         "rawType": "int64",
         "type": "integer"
        },
        {
         "name": "pixel460",
         "rawType": "int64",
         "type": "integer"
        },
        {
         "name": "pixel461",
         "rawType": "int64",
         "type": "integer"
        },
        {
         "name": "pixel462",
         "rawType": "int64",
         "type": "integer"
        },
        {
         "name": "pixel463",
         "rawType": "int64",
         "type": "integer"
        },
        {
         "name": "pixel464",
         "rawType": "int64",
         "type": "integer"
        },
        {
         "name": "pixel465",
         "rawType": "int64",
         "type": "integer"
        },
        {
         "name": "pixel466",
         "rawType": "int64",
         "type": "integer"
        },
        {
         "name": "pixel467",
         "rawType": "int64",
         "type": "integer"
        },
        {
         "name": "pixel468",
         "rawType": "int64",
         "type": "integer"
        },
        {
         "name": "pixel469",
         "rawType": "int64",
         "type": "integer"
        },
        {
         "name": "pixel470",
         "rawType": "int64",
         "type": "integer"
        },
        {
         "name": "pixel471",
         "rawType": "int64",
         "type": "integer"
        },
        {
         "name": "pixel472",
         "rawType": "int64",
         "type": "integer"
        },
        {
         "name": "pixel473",
         "rawType": "int64",
         "type": "integer"
        },
        {
         "name": "pixel474",
         "rawType": "int64",
         "type": "integer"
        },
        {
         "name": "pixel475",
         "rawType": "int64",
         "type": "integer"
        },
        {
         "name": "pixel476",
         "rawType": "int64",
         "type": "integer"
        },
        {
         "name": "pixel477",
         "rawType": "int64",
         "type": "integer"
        },
        {
         "name": "pixel478",
         "rawType": "int64",
         "type": "integer"
        },
        {
         "name": "pixel479",
         "rawType": "int64",
         "type": "integer"
        },
        {
         "name": "pixel480",
         "rawType": "int64",
         "type": "integer"
        },
        {
         "name": "pixel481",
         "rawType": "int64",
         "type": "integer"
        },
        {
         "name": "pixel482",
         "rawType": "int64",
         "type": "integer"
        },
        {
         "name": "pixel483",
         "rawType": "int64",
         "type": "integer"
        },
        {
         "name": "pixel484",
         "rawType": "int64",
         "type": "integer"
        },
        {
         "name": "pixel485",
         "rawType": "int64",
         "type": "integer"
        },
        {
         "name": "pixel486",
         "rawType": "int64",
         "type": "integer"
        },
        {
         "name": "pixel487",
         "rawType": "int64",
         "type": "integer"
        },
        {
         "name": "pixel488",
         "rawType": "int64",
         "type": "integer"
        },
        {
         "name": "pixel489",
         "rawType": "int64",
         "type": "integer"
        },
        {
         "name": "pixel490",
         "rawType": "int64",
         "type": "integer"
        },
        {
         "name": "pixel491",
         "rawType": "int64",
         "type": "integer"
        },
        {
         "name": "pixel492",
         "rawType": "int64",
         "type": "integer"
        },
        {
         "name": "pixel493",
         "rawType": "int64",
         "type": "integer"
        },
        {
         "name": "pixel494",
         "rawType": "int64",
         "type": "integer"
        },
        {
         "name": "pixel495",
         "rawType": "int64",
         "type": "integer"
        },
        {
         "name": "pixel496",
         "rawType": "int64",
         "type": "integer"
        },
        {
         "name": "pixel497",
         "rawType": "int64",
         "type": "integer"
        },
        {
         "name": "pixel498",
         "rawType": "int64",
         "type": "integer"
        },
        {
         "name": "pixel499",
         "rawType": "int64",
         "type": "integer"
        },
        {
         "name": "pixel500",
         "rawType": "int64",
         "type": "integer"
        },
        {
         "name": "pixel501",
         "rawType": "int64",
         "type": "integer"
        },
        {
         "name": "pixel502",
         "rawType": "int64",
         "type": "integer"
        },
        {
         "name": "pixel503",
         "rawType": "int64",
         "type": "integer"
        },
        {
         "name": "pixel504",
         "rawType": "int64",
         "type": "integer"
        },
        {
         "name": "pixel505",
         "rawType": "int64",
         "type": "integer"
        },
        {
         "name": "pixel506",
         "rawType": "int64",
         "type": "integer"
        },
        {
         "name": "pixel507",
         "rawType": "int64",
         "type": "integer"
        },
        {
         "name": "pixel508",
         "rawType": "int64",
         "type": "integer"
        },
        {
         "name": "pixel509",
         "rawType": "int64",
         "type": "integer"
        },
        {
         "name": "pixel510",
         "rawType": "int64",
         "type": "integer"
        },
        {
         "name": "pixel511",
         "rawType": "int64",
         "type": "integer"
        },
        {
         "name": "pixel512",
         "rawType": "int64",
         "type": "integer"
        },
        {
         "name": "pixel513",
         "rawType": "int64",
         "type": "integer"
        },
        {
         "name": "pixel514",
         "rawType": "int64",
         "type": "integer"
        },
        {
         "name": "pixel515",
         "rawType": "int64",
         "type": "integer"
        },
        {
         "name": "pixel516",
         "rawType": "int64",
         "type": "integer"
        },
        {
         "name": "pixel517",
         "rawType": "int64",
         "type": "integer"
        },
        {
         "name": "pixel518",
         "rawType": "int64",
         "type": "integer"
        },
        {
         "name": "pixel519",
         "rawType": "int64",
         "type": "integer"
        },
        {
         "name": "pixel520",
         "rawType": "int64",
         "type": "integer"
        },
        {
         "name": "pixel521",
         "rawType": "int64",
         "type": "integer"
        },
        {
         "name": "pixel522",
         "rawType": "int64",
         "type": "integer"
        },
        {
         "name": "pixel523",
         "rawType": "int64",
         "type": "integer"
        },
        {
         "name": "pixel524",
         "rawType": "int64",
         "type": "integer"
        },
        {
         "name": "pixel525",
         "rawType": "int64",
         "type": "integer"
        },
        {
         "name": "pixel526",
         "rawType": "int64",
         "type": "integer"
        },
        {
         "name": "pixel527",
         "rawType": "int64",
         "type": "integer"
        },
        {
         "name": "pixel528",
         "rawType": "int64",
         "type": "integer"
        },
        {
         "name": "pixel529",
         "rawType": "int64",
         "type": "integer"
        },
        {
         "name": "pixel530",
         "rawType": "int64",
         "type": "integer"
        },
        {
         "name": "pixel531",
         "rawType": "int64",
         "type": "integer"
        },
        {
         "name": "pixel532",
         "rawType": "int64",
         "type": "integer"
        },
        {
         "name": "pixel533",
         "rawType": "int64",
         "type": "integer"
        },
        {
         "name": "pixel534",
         "rawType": "int64",
         "type": "integer"
        },
        {
         "name": "pixel535",
         "rawType": "int64",
         "type": "integer"
        },
        {
         "name": "pixel536",
         "rawType": "int64",
         "type": "integer"
        },
        {
         "name": "pixel537",
         "rawType": "int64",
         "type": "integer"
        },
        {
         "name": "pixel538",
         "rawType": "int64",
         "type": "integer"
        },
        {
         "name": "pixel539",
         "rawType": "int64",
         "type": "integer"
        },
        {
         "name": "pixel540",
         "rawType": "int64",
         "type": "integer"
        },
        {
         "name": "pixel541",
         "rawType": "int64",
         "type": "integer"
        },
        {
         "name": "pixel542",
         "rawType": "int64",
         "type": "integer"
        },
        {
         "name": "pixel543",
         "rawType": "int64",
         "type": "integer"
        },
        {
         "name": "pixel544",
         "rawType": "int64",
         "type": "integer"
        },
        {
         "name": "pixel545",
         "rawType": "int64",
         "type": "integer"
        },
        {
         "name": "pixel546",
         "rawType": "int64",
         "type": "integer"
        },
        {
         "name": "pixel547",
         "rawType": "int64",
         "type": "integer"
        },
        {
         "name": "pixel548",
         "rawType": "int64",
         "type": "integer"
        },
        {
         "name": "pixel549",
         "rawType": "int64",
         "type": "integer"
        },
        {
         "name": "pixel550",
         "rawType": "int64",
         "type": "integer"
        },
        {
         "name": "pixel551",
         "rawType": "int64",
         "type": "integer"
        },
        {
         "name": "pixel552",
         "rawType": "int64",
         "type": "integer"
        },
        {
         "name": "pixel553",
         "rawType": "int64",
         "type": "integer"
        },
        {
         "name": "pixel554",
         "rawType": "int64",
         "type": "integer"
        },
        {
         "name": "pixel555",
         "rawType": "int64",
         "type": "integer"
        },
        {
         "name": "pixel556",
         "rawType": "int64",
         "type": "integer"
        },
        {
         "name": "pixel557",
         "rawType": "int64",
         "type": "integer"
        },
        {
         "name": "pixel558",
         "rawType": "int64",
         "type": "integer"
        },
        {
         "name": "pixel559",
         "rawType": "int64",
         "type": "integer"
        },
        {
         "name": "pixel560",
         "rawType": "int64",
         "type": "integer"
        },
        {
         "name": "pixel561",
         "rawType": "int64",
         "type": "integer"
        },
        {
         "name": "pixel562",
         "rawType": "int64",
         "type": "integer"
        },
        {
         "name": "pixel563",
         "rawType": "int64",
         "type": "integer"
        },
        {
         "name": "pixel564",
         "rawType": "int64",
         "type": "integer"
        },
        {
         "name": "pixel565",
         "rawType": "int64",
         "type": "integer"
        },
        {
         "name": "pixel566",
         "rawType": "int64",
         "type": "integer"
        },
        {
         "name": "pixel567",
         "rawType": "int64",
         "type": "integer"
        },
        {
         "name": "pixel568",
         "rawType": "int64",
         "type": "integer"
        },
        {
         "name": "pixel569",
         "rawType": "int64",
         "type": "integer"
        },
        {
         "name": "pixel570",
         "rawType": "int64",
         "type": "integer"
        },
        {
         "name": "pixel571",
         "rawType": "int64",
         "type": "integer"
        },
        {
         "name": "pixel572",
         "rawType": "int64",
         "type": "integer"
        },
        {
         "name": "pixel573",
         "rawType": "int64",
         "type": "integer"
        },
        {
         "name": "pixel574",
         "rawType": "int64",
         "type": "integer"
        },
        {
         "name": "pixel575",
         "rawType": "int64",
         "type": "integer"
        },
        {
         "name": "pixel576",
         "rawType": "int64",
         "type": "integer"
        },
        {
         "name": "pixel577",
         "rawType": "int64",
         "type": "integer"
        },
        {
         "name": "pixel578",
         "rawType": "int64",
         "type": "integer"
        },
        {
         "name": "pixel579",
         "rawType": "int64",
         "type": "integer"
        },
        {
         "name": "pixel580",
         "rawType": "int64",
         "type": "integer"
        },
        {
         "name": "pixel581",
         "rawType": "int64",
         "type": "integer"
        },
        {
         "name": "pixel582",
         "rawType": "int64",
         "type": "integer"
        },
        {
         "name": "pixel583",
         "rawType": "int64",
         "type": "integer"
        },
        {
         "name": "pixel584",
         "rawType": "int64",
         "type": "integer"
        },
        {
         "name": "pixel585",
         "rawType": "int64",
         "type": "integer"
        },
        {
         "name": "pixel586",
         "rawType": "int64",
         "type": "integer"
        },
        {
         "name": "pixel587",
         "rawType": "int64",
         "type": "integer"
        },
        {
         "name": "pixel588",
         "rawType": "int64",
         "type": "integer"
        },
        {
         "name": "pixel589",
         "rawType": "int64",
         "type": "integer"
        },
        {
         "name": "pixel590",
         "rawType": "int64",
         "type": "integer"
        },
        {
         "name": "pixel591",
         "rawType": "int64",
         "type": "integer"
        },
        {
         "name": "pixel592",
         "rawType": "int64",
         "type": "integer"
        },
        {
         "name": "pixel593",
         "rawType": "int64",
         "type": "integer"
        },
        {
         "name": "pixel594",
         "rawType": "int64",
         "type": "integer"
        },
        {
         "name": "pixel595",
         "rawType": "int64",
         "type": "integer"
        },
        {
         "name": "pixel596",
         "rawType": "int64",
         "type": "integer"
        },
        {
         "name": "pixel597",
         "rawType": "int64",
         "type": "integer"
        },
        {
         "name": "pixel598",
         "rawType": "int64",
         "type": "integer"
        },
        {
         "name": "pixel599",
         "rawType": "int64",
         "type": "integer"
        },
        {
         "name": "pixel600",
         "rawType": "int64",
         "type": "integer"
        },
        {
         "name": "pixel601",
         "rawType": "int64",
         "type": "integer"
        },
        {
         "name": "pixel602",
         "rawType": "int64",
         "type": "integer"
        },
        {
         "name": "pixel603",
         "rawType": "int64",
         "type": "integer"
        },
        {
         "name": "pixel604",
         "rawType": "int64",
         "type": "integer"
        },
        {
         "name": "pixel605",
         "rawType": "int64",
         "type": "integer"
        },
        {
         "name": "pixel606",
         "rawType": "int64",
         "type": "integer"
        },
        {
         "name": "pixel607",
         "rawType": "int64",
         "type": "integer"
        },
        {
         "name": "pixel608",
         "rawType": "int64",
         "type": "integer"
        },
        {
         "name": "pixel609",
         "rawType": "int64",
         "type": "integer"
        },
        {
         "name": "pixel610",
         "rawType": "int64",
         "type": "integer"
        },
        {
         "name": "pixel611",
         "rawType": "int64",
         "type": "integer"
        },
        {
         "name": "pixel612",
         "rawType": "int64",
         "type": "integer"
        },
        {
         "name": "pixel613",
         "rawType": "int64",
         "type": "integer"
        },
        {
         "name": "pixel614",
         "rawType": "int64",
         "type": "integer"
        },
        {
         "name": "pixel615",
         "rawType": "int64",
         "type": "integer"
        },
        {
         "name": "pixel616",
         "rawType": "int64",
         "type": "integer"
        },
        {
         "name": "pixel617",
         "rawType": "int64",
         "type": "integer"
        },
        {
         "name": "pixel618",
         "rawType": "int64",
         "type": "integer"
        },
        {
         "name": "pixel619",
         "rawType": "int64",
         "type": "integer"
        },
        {
         "name": "pixel620",
         "rawType": "int64",
         "type": "integer"
        },
        {
         "name": "pixel621",
         "rawType": "int64",
         "type": "integer"
        },
        {
         "name": "pixel622",
         "rawType": "int64",
         "type": "integer"
        },
        {
         "name": "pixel623",
         "rawType": "int64",
         "type": "integer"
        },
        {
         "name": "pixel624",
         "rawType": "int64",
         "type": "integer"
        },
        {
         "name": "pixel625",
         "rawType": "int64",
         "type": "integer"
        },
        {
         "name": "pixel626",
         "rawType": "int64",
         "type": "integer"
        },
        {
         "name": "pixel627",
         "rawType": "int64",
         "type": "integer"
        },
        {
         "name": "pixel628",
         "rawType": "int64",
         "type": "integer"
        },
        {
         "name": "pixel629",
         "rawType": "int64",
         "type": "integer"
        },
        {
         "name": "pixel630",
         "rawType": "int64",
         "type": "integer"
        },
        {
         "name": "pixel631",
         "rawType": "int64",
         "type": "integer"
        },
        {
         "name": "pixel632",
         "rawType": "int64",
         "type": "integer"
        },
        {
         "name": "pixel633",
         "rawType": "int64",
         "type": "integer"
        },
        {
         "name": "pixel634",
         "rawType": "int64",
         "type": "integer"
        },
        {
         "name": "pixel635",
         "rawType": "int64",
         "type": "integer"
        },
        {
         "name": "pixel636",
         "rawType": "int64",
         "type": "integer"
        },
        {
         "name": "pixel637",
         "rawType": "int64",
         "type": "integer"
        },
        {
         "name": "pixel638",
         "rawType": "int64",
         "type": "integer"
        },
        {
         "name": "pixel639",
         "rawType": "int64",
         "type": "integer"
        },
        {
         "name": "pixel640",
         "rawType": "int64",
         "type": "integer"
        },
        {
         "name": "pixel641",
         "rawType": "int64",
         "type": "integer"
        },
        {
         "name": "pixel642",
         "rawType": "int64",
         "type": "integer"
        },
        {
         "name": "pixel643",
         "rawType": "int64",
         "type": "integer"
        },
        {
         "name": "pixel644",
         "rawType": "int64",
         "type": "integer"
        },
        {
         "name": "pixel645",
         "rawType": "int64",
         "type": "integer"
        },
        {
         "name": "pixel646",
         "rawType": "int64",
         "type": "integer"
        },
        {
         "name": "pixel647",
         "rawType": "int64",
         "type": "integer"
        },
        {
         "name": "pixel648",
         "rawType": "int64",
         "type": "integer"
        },
        {
         "name": "pixel649",
         "rawType": "int64",
         "type": "integer"
        },
        {
         "name": "pixel650",
         "rawType": "int64",
         "type": "integer"
        },
        {
         "name": "pixel651",
         "rawType": "int64",
         "type": "integer"
        },
        {
         "name": "pixel652",
         "rawType": "int64",
         "type": "integer"
        },
        {
         "name": "pixel653",
         "rawType": "int64",
         "type": "integer"
        },
        {
         "name": "pixel654",
         "rawType": "int64",
         "type": "integer"
        },
        {
         "name": "pixel655",
         "rawType": "int64",
         "type": "integer"
        },
        {
         "name": "pixel656",
         "rawType": "int64",
         "type": "integer"
        },
        {
         "name": "pixel657",
         "rawType": "int64",
         "type": "integer"
        },
        {
         "name": "pixel658",
         "rawType": "int64",
         "type": "integer"
        },
        {
         "name": "pixel659",
         "rawType": "int64",
         "type": "integer"
        },
        {
         "name": "pixel660",
         "rawType": "int64",
         "type": "integer"
        },
        {
         "name": "pixel661",
         "rawType": "int64",
         "type": "integer"
        },
        {
         "name": "pixel662",
         "rawType": "int64",
         "type": "integer"
        },
        {
         "name": "pixel663",
         "rawType": "int64",
         "type": "integer"
        },
        {
         "name": "pixel664",
         "rawType": "int64",
         "type": "integer"
        },
        {
         "name": "pixel665",
         "rawType": "int64",
         "type": "integer"
        },
        {
         "name": "pixel666",
         "rawType": "int64",
         "type": "integer"
        },
        {
         "name": "pixel667",
         "rawType": "int64",
         "type": "integer"
        },
        {
         "name": "pixel668",
         "rawType": "int64",
         "type": "integer"
        },
        {
         "name": "pixel669",
         "rawType": "int64",
         "type": "integer"
        },
        {
         "name": "pixel670",
         "rawType": "int64",
         "type": "integer"
        },
        {
         "name": "pixel671",
         "rawType": "int64",
         "type": "integer"
        },
        {
         "name": "pixel672",
         "rawType": "int64",
         "type": "integer"
        },
        {
         "name": "pixel673",
         "rawType": "int64",
         "type": "integer"
        },
        {
         "name": "pixel674",
         "rawType": "int64",
         "type": "integer"
        },
        {
         "name": "pixel675",
         "rawType": "int64",
         "type": "integer"
        },
        {
         "name": "pixel676",
         "rawType": "int64",
         "type": "integer"
        },
        {
         "name": "pixel677",
         "rawType": "int64",
         "type": "integer"
        },
        {
         "name": "pixel678",
         "rawType": "int64",
         "type": "integer"
        },
        {
         "name": "pixel679",
         "rawType": "int64",
         "type": "integer"
        },
        {
         "name": "pixel680",
         "rawType": "int64",
         "type": "integer"
        },
        {
         "name": "pixel681",
         "rawType": "int64",
         "type": "integer"
        },
        {
         "name": "pixel682",
         "rawType": "int64",
         "type": "integer"
        },
        {
         "name": "pixel683",
         "rawType": "int64",
         "type": "integer"
        },
        {
         "name": "pixel684",
         "rawType": "int64",
         "type": "integer"
        },
        {
         "name": "pixel685",
         "rawType": "int64",
         "type": "integer"
        },
        {
         "name": "pixel686",
         "rawType": "int64",
         "type": "integer"
        },
        {
         "name": "pixel687",
         "rawType": "int64",
         "type": "integer"
        },
        {
         "name": "pixel688",
         "rawType": "int64",
         "type": "integer"
        },
        {
         "name": "pixel689",
         "rawType": "int64",
         "type": "integer"
        },
        {
         "name": "pixel690",
         "rawType": "int64",
         "type": "integer"
        },
        {
         "name": "pixel691",
         "rawType": "int64",
         "type": "integer"
        },
        {
         "name": "pixel692",
         "rawType": "int64",
         "type": "integer"
        },
        {
         "name": "pixel693",
         "rawType": "int64",
         "type": "integer"
        },
        {
         "name": "pixel694",
         "rawType": "int64",
         "type": "integer"
        },
        {
         "name": "pixel695",
         "rawType": "int64",
         "type": "integer"
        },
        {
         "name": "pixel696",
         "rawType": "int64",
         "type": "integer"
        },
        {
         "name": "pixel697",
         "rawType": "int64",
         "type": "integer"
        },
        {
         "name": "pixel698",
         "rawType": "int64",
         "type": "integer"
        },
        {
         "name": "pixel699",
         "rawType": "int64",
         "type": "integer"
        },
        {
         "name": "pixel700",
         "rawType": "int64",
         "type": "integer"
        },
        {
         "name": "pixel701",
         "rawType": "int64",
         "type": "integer"
        },
        {
         "name": "pixel702",
         "rawType": "int64",
         "type": "integer"
        },
        {
         "name": "pixel703",
         "rawType": "int64",
         "type": "integer"
        },
        {
         "name": "pixel704",
         "rawType": "int64",
         "type": "integer"
        },
        {
         "name": "pixel705",
         "rawType": "int64",
         "type": "integer"
        },
        {
         "name": "pixel706",
         "rawType": "int64",
         "type": "integer"
        },
        {
         "name": "pixel707",
         "rawType": "int64",
         "type": "integer"
        },
        {
         "name": "pixel708",
         "rawType": "int64",
         "type": "integer"
        },
        {
         "name": "pixel709",
         "rawType": "int64",
         "type": "integer"
        },
        {
         "name": "pixel710",
         "rawType": "int64",
         "type": "integer"
        },
        {
         "name": "pixel711",
         "rawType": "int64",
         "type": "integer"
        },
        {
         "name": "pixel712",
         "rawType": "int64",
         "type": "integer"
        },
        {
         "name": "pixel713",
         "rawType": "int64",
         "type": "integer"
        },
        {
         "name": "pixel714",
         "rawType": "int64",
         "type": "integer"
        },
        {
         "name": "pixel715",
         "rawType": "int64",
         "type": "integer"
        },
        {
         "name": "pixel716",
         "rawType": "int64",
         "type": "integer"
        },
        {
         "name": "pixel717",
         "rawType": "int64",
         "type": "integer"
        },
        {
         "name": "pixel718",
         "rawType": "int64",
         "type": "integer"
        },
        {
         "name": "pixel719",
         "rawType": "int64",
         "type": "integer"
        },
        {
         "name": "pixel720",
         "rawType": "int64",
         "type": "integer"
        },
        {
         "name": "pixel721",
         "rawType": "int64",
         "type": "integer"
        },
        {
         "name": "pixel722",
         "rawType": "int64",
         "type": "integer"
        },
        {
         "name": "pixel723",
         "rawType": "int64",
         "type": "integer"
        },
        {
         "name": "pixel724",
         "rawType": "int64",
         "type": "integer"
        },
        {
         "name": "pixel725",
         "rawType": "int64",
         "type": "integer"
        },
        {
         "name": "pixel726",
         "rawType": "int64",
         "type": "integer"
        },
        {
         "name": "pixel727",
         "rawType": "int64",
         "type": "integer"
        },
        {
         "name": "pixel728",
         "rawType": "int64",
         "type": "integer"
        },
        {
         "name": "pixel729",
         "rawType": "int64",
         "type": "integer"
        },
        {
         "name": "pixel730",
         "rawType": "int64",
         "type": "integer"
        },
        {
         "name": "pixel731",
         "rawType": "int64",
         "type": "integer"
        },
        {
         "name": "pixel732",
         "rawType": "int64",
         "type": "integer"
        },
        {
         "name": "pixel733",
         "rawType": "int64",
         "type": "integer"
        },
        {
         "name": "pixel734",
         "rawType": "int64",
         "type": "integer"
        },
        {
         "name": "pixel735",
         "rawType": "int64",
         "type": "integer"
        },
        {
         "name": "pixel736",
         "rawType": "int64",
         "type": "integer"
        },
        {
         "name": "pixel737",
         "rawType": "int64",
         "type": "integer"
        },
        {
         "name": "pixel738",
         "rawType": "int64",
         "type": "integer"
        },
        {
         "name": "pixel739",
         "rawType": "int64",
         "type": "integer"
        },
        {
         "name": "pixel740",
         "rawType": "int64",
         "type": "integer"
        },
        {
         "name": "pixel741",
         "rawType": "int64",
         "type": "integer"
        },
        {
         "name": "pixel742",
         "rawType": "int64",
         "type": "integer"
        },
        {
         "name": "pixel743",
         "rawType": "int64",
         "type": "integer"
        },
        {
         "name": "pixel744",
         "rawType": "int64",
         "type": "integer"
        },
        {
         "name": "pixel745",
         "rawType": "int64",
         "type": "integer"
        },
        {
         "name": "pixel746",
         "rawType": "int64",
         "type": "integer"
        },
        {
         "name": "pixel747",
         "rawType": "int64",
         "type": "integer"
        },
        {
         "name": "pixel748",
         "rawType": "int64",
         "type": "integer"
        },
        {
         "name": "pixel749",
         "rawType": "int64",
         "type": "integer"
        },
        {
         "name": "pixel750",
         "rawType": "int64",
         "type": "integer"
        },
        {
         "name": "pixel751",
         "rawType": "int64",
         "type": "integer"
        },
        {
         "name": "pixel752",
         "rawType": "int64",
         "type": "integer"
        },
        {
         "name": "pixel753",
         "rawType": "int64",
         "type": "integer"
        },
        {
         "name": "pixel754",
         "rawType": "int64",
         "type": "integer"
        },
        {
         "name": "pixel755",
         "rawType": "int64",
         "type": "integer"
        },
        {
         "name": "pixel756",
         "rawType": "int64",
         "type": "integer"
        },
        {
         "name": "pixel757",
         "rawType": "int64",
         "type": "integer"
        },
        {
         "name": "pixel758",
         "rawType": "int64",
         "type": "integer"
        },
        {
         "name": "pixel759",
         "rawType": "int64",
         "type": "integer"
        },
        {
         "name": "pixel760",
         "rawType": "int64",
         "type": "integer"
        },
        {
         "name": "pixel761",
         "rawType": "int64",
         "type": "integer"
        },
        {
         "name": "pixel762",
         "rawType": "int64",
         "type": "integer"
        },
        {
         "name": "pixel763",
         "rawType": "int64",
         "type": "integer"
        },
        {
         "name": "pixel764",
         "rawType": "int64",
         "type": "integer"
        },
        {
         "name": "pixel765",
         "rawType": "int64",
         "type": "integer"
        },
        {
         "name": "pixel766",
         "rawType": "int64",
         "type": "integer"
        },
        {
         "name": "pixel767",
         "rawType": "int64",
         "type": "integer"
        },
        {
         "name": "pixel768",
         "rawType": "int64",
         "type": "integer"
        },
        {
         "name": "pixel769",
         "rawType": "int64",
         "type": "integer"
        },
        {
         "name": "pixel770",
         "rawType": "int64",
         "type": "integer"
        },
        {
         "name": "pixel771",
         "rawType": "int64",
         "type": "integer"
        },
        {
         "name": "pixel772",
         "rawType": "int64",
         "type": "integer"
        },
        {
         "name": "pixel773",
         "rawType": "int64",
         "type": "integer"
        },
        {
         "name": "pixel774",
         "rawType": "int64",
         "type": "integer"
        },
        {
         "name": "pixel775",
         "rawType": "int64",
         "type": "integer"
        },
        {
         "name": "pixel776",
         "rawType": "int64",
         "type": "integer"
        },
        {
         "name": "pixel777",
         "rawType": "int64",
         "type": "integer"
        },
        {
         "name": "pixel778",
         "rawType": "int64",
         "type": "integer"
        },
        {
         "name": "pixel779",
         "rawType": "int64",
         "type": "integer"
        },
        {
         "name": "pixel780",
         "rawType": "int64",
         "type": "integer"
        },
        {
         "name": "pixel781",
         "rawType": "int64",
         "type": "integer"
        },
        {
         "name": "pixel782",
         "rawType": "int64",
         "type": "integer"
        },
        {
         "name": "pixel783",
         "rawType": "int64",
         "type": "integer"
        },
        {
         "name": "pixel784",
         "rawType": "int64",
         "type": "integer"
        }
       ],
       "ref": "e8ac4ed2-3567-4750-ba66-10304b3fd1fb",
       "rows": [
        [
         "0",
         "9",
         "0",
         "0",
         "0",
         "0",
         "0",
         "0",
         "0",
         "0",
         "0",
         "0",
         "0",
         "0",
         "0",
         "0",
         "0",
         "0",
         "0",
         "0",
         "0",
         "0",
         "0",
         "0",
         "0",
         "0",
         "125",
         "72",
         "0",
         "0",
         "0",
         "0",
         "0",
         "0",
         "0",
         "0",
         "0",
         "0",
         "0",
         "0",
         "0",
         "1",
         "0",
         "0",
         "120",
         "108",
         "0",
         "0",
         "4",
         "6",
         "11",
         "17",
         "80",
         "24",
         "224",
         "30",
         "0",
         "0",
         "0",
         "0",
         "0",
         "0",
         "0",
         "0",
         "0",
         "0",
         "0",
         "0",
         "0",
         "3",
         "0",
         "0",
         "208",
         "230",
         "187",
         "226",
         "236",
         "242",
         "213",
         "221",
         "239",
         "247",
         "137",
         "0",
         "0",
         "0",
         "0",
         "0",
         "0",
         "0",
         "0",
         "0",
         "0",
         "0",
         "0",
         "0",
         "0",
         "5",
         "0",
         "0",
         "199",
         "210",
         "206",
         "200",
         "205",
         "208",
         "208",
         "216",
         "213",
         "244",
         "88",
         "0",
         "3",
         "0",
         "0",
         "0",
         "0",
         "0",
         "0",
         "0",
         "0",
         "0",
         "0",
         "0",
         "0",
         "4",
         "0",
         "6",
         "213",
         "218",
         "201",
         "197",
         "207",
         "212",
         "209",
         "219",
         "220",
         "240",
         "77",
         "0",
         "3",
         "0",
         "0",
         "0",
         "0",
         "0",
         "0",
         "0",
         "0",
         "0",
         "0",
         "0",
         "0",
         "7",
         "0",
         "21",
         "222",
         "216",
         "197",
         "202",
         "210",
         "213",
         "214",
         "221",
         "220",
         "235",
         "65",
         "0",
         "3",
         "0",
         "0",
         "0",
         "0",
         "0",
         "0",
         "0",
         "0",
         "0",
         "0",
         "0",
         "0",
         "6",
         "0",
         "45",
         "225",
         "212",
         "194",
         "206",
         "208",
         "209",
         "212",
         "217",
         "220",
         "230",
         "57",
         "0",
         "2",
         "0",
         "0",
         "0",
         "0",
         "0",
         "0",
         "0",
         "0",
         "0",
         "0",
         "0",
         "0",
         "6",
         "0",
         "95",
         "229",
         "213",
         "198",
         "205",
         "207",
         "207",
         "210",
         "215",
         "219",
         "228",
         "46",
         "0",
         "2",
         "0",
         "0",
         "0",
         "0",
         "0",
         "0",
         "0",
         "0",
         "0",
         "0",
         "0",
         "0",
         "0",
         "0",
         "145",
         "227",
         "212",
         "199",
         "204",
         "206",
         "208",
         "211",
         "218",
         "217",
         "237",
         "51",
         "0",
         "2",
         "0",
         "0",
         "0",
         "0",
         "0",
         "0",
         "0",
         "0",
         "0",
         "0",
         "0",
         "0",
         "0",
         "0",
         "181",
         "224",
         "208",
         "200",
         "206",
         "206",
         "208",
         "212",
         "220",
         "217",
         "239",
         "111",
         "0",
         "0",
         "0",
         "0",
         "0",
         "0",
         "0",
         "0",
         "0",
         "0",
         "0",
         "0",
         "0",
         "2",
         "0",
         "0",
         "226",
         "222",
         "212",
         "201",
         "205",
         "206",
         "208",
         "213",
         "222",
         "215",
         "227",
         "224",
         "0",
         "0",
         "0",
         "0",
         "0",
         "0",
         "0",
         "0",
         "0",
         "0",
         "0",
         "0",
         "0",
         "6",
         "0",
         "20",
         "217",
         "214",
         "210",
         "201",
         "204",
         "206",
         "208",
         "214",
         "223",
         "217",
         "219",
         "233",
         "32",
         "0",
         "0",
         "0",
         "0",
         "0",
         "0",
         "0",
         "0",
         "0",
         "0",
         "0",
         "0",
         "8",
         "0",
         "96",
         "223",
         "212",
         "209",
         "202",
         "208",
         "208",
         "206",
         "212",
         "223",
         "219",
         "218",
         "235",
         "167",
         "0",
         "0",
         "0",
         "0",
         "0",
         "0",
         "0",
         "0",
         "0",
         "0",
         "0",
         "0",
         "1",
         "0",
         "161",
         "226",
         "215",
         "209",
         "199",
         "208",
         "208",
         "205",
         "215",
         "223",
         "218",
         "220",
         "221",
         "255",
         "0",
         "0",
         "0",
         "0",
         "0",
         "0",
         "0",
         "0",
         "0",
         "0",
         "0",
         "2",
         "0",
         "0",
         "231",
         "222",
         "221",
         "210",
         "199",
         "203",
         "203",
         "209",
         "226",
         "224",
         "216",
         "220",
         "208",
         "254",
         "118",
         "0",
         "0",
         "0",
         "0",
         "0",
         "0",
         "0",
         "0",
         "0",
         "0",
         "5",
         "0",
         "44",
         "228",
         "217",
         "228",
         "220",
         "202",
         "201",
         "201",
         "215",
         "230",
         "222",
         "219",
         "217",
         "217",
         "218",
         "191",
         "0",
         "0",
         "0",
         "0",
         "0",
         "0",
         "0",
         "0",
         "0",
         "0",
         "0",
         "0",
         "170",
         "228",
         "219",
         "228",
         "229",
         "210",
         "205",
         "212",
         "224",
         "228",
         "224",
         "224",
         "215",
         "227",
         "247",
         "243",
         "0",
         "0",
         "0",
         "0",
         "0",
         "0",
         "0",
         "0",
         "0",
         "4",
         "0",
         "33",
         "254",
         "215",
         "226",
         "223",
         "226",
         "221",
         "210",
         "221",
         "225",
         "227",
         "223",
         "229",
         "254",
         "251",
         "206",
         "83",
         "0",
         "0",
         "0",
         "0",
         "0",
         "0",
         "0",
         "0",
         "1",
         "0",
         "0",
         "194",
         "222",
         "214",
         "226",
         "219",
         "219",
         "223",
         "221",
         "228",
         "226",
         "217",
         "255",
         "247",
         "166",
         "76",
         "160",
         "93",
         "0",
         "0",
         "0",
         "0",
         "0",
         "0",
         "0",
         "1",
         "0",
         "0",
         "70",
         "255",
         "212",
         "218",
         "225",
         "221",
         "219",
         "223",
         "227",
         "228",
         "224",
         "255",
         "197",
         "86",
         "182",
         "233",
         "255",
         "79",
         "0",
         "0",
         "0",
         "0",
         "1",
         "3",
         "7",
         "0",
         "0",
         "34",
         "251",
         "214",
         "212",
         "220",
         "225",
         "222",
         "222",
         "222",
         "225",
         "230",
         "255",
         "144",
         "0",
         "143",
         "253",
         "219",
         "230",
         "55",
         "0",
         "0",
         "0",
         "0",
         "0",
         "0",
         "0",
         "0",
         "77",
         "237",
         "212",
         "211",
         "215",
         "221",
         "222",
         "219",
         "225",
         "224",
         "232",
         "255",
         "57",
         "0",
         "0",
         "182",
         "236",
         "220",
         "229",
         "36",
         "0",
         "0",
         "0",
         "0",
         "0",
         "50",
         "134",
         "214",
         "241",
         "204",
         "209",
         "215",
         "215",
         "222",
         "224",
         "218",
         "223",
         "230",
         "255",
         "30",
         "0",
         "0",
         "0",
         "201",
         "238",
         "221",
         "255",
         "8",
         "0",
         "0",
         "0",
         "0",
         "216",
         "215",
         "221",
         "209",
         "199",
         "209",
         "213",
         "214",
         "215",
         "221",
         "222",
         "228",
         "224",
         "235",
         "57",
         "0",
         "1",
         "0",
         "0",
         "218",
         "232",
         "221",
         "254",
         "0",
         "0",
         "0",
         "0",
         "168",
         "227",
         "196",
         "204",
         "207",
         "214",
         "218",
         "217",
         "214",
         "221",
         "222",
         "224",
         "217",
         "246",
         "131",
         "0",
         "0",
         "0",
         "0",
         "0",
         "225",
         "227",
         "224",
         "246",
         "0",
         "0",
         "0",
         "0",
         "144",
         "225",
         "238",
         "227",
         "217",
         "216",
         "203",
         "206",
         "210",
         "219",
         "220",
         "215",
         "248",
         "203",
         "0",
         "0",
         "4",
         "1",
         "0",
         "0",
         "200",
         "226",
         "224",
         "237",
         "0",
         "0",
         "0",
         "0",
         "0",
         "30",
         "109",
         "199",
         "243",
         "255",
         "255",
         "251",
         "242",
         "236",
         "230",
         "246",
         "228",
         "0",
         "0",
         "3",
         "0",
         "2",
         "0",
         "0",
         "210",
         "228",
         "228",
         "233",
         "0",
         "0",
         "0",
         "0",
         "0",
         "0",
         "0",
         "0",
         "0",
         "31",
         "81",
         "133",
         "184",
         "201",
         "190",
         "117",
         "0",
         "0",
         "2",
         "1",
         "0",
         "7",
         "0",
         "50",
         "205",
         "196",
         "213",
         "165",
         "0",
         "0"
        ],
        [
         "1",
         "7",
         "0",
         "0",
         "0",
         "0",
         "0",
         "0",
         "0",
         "0",
         "0",
         "0",
         "0",
         "0",
         "0",
         "0",
         "0",
         "0",
         "0",
         "0",
         "0",
         "0",
         "0",
         "0",
         "0",
         "0",
         "0",
         "0",
         "0",
         "0",
         "0",
         "0",
         "0",
         "0",
         "0",
         "0",
         "0",
         "0",
         "0",
         "0",
         "0",
         "0",
         "0",
         "0",
         "0",
         "0",
         "0",
         "0",
         "0",
         "0",
         "0",
         "0",
         "0",
         "0",
         "0",
         "0",
         "0",
         "0",
         "0",
         "0",
         "0",
         "0",
         "0",
         "0",
         "0",
         "0",
         "0",
         "0",
         "0",
         "0",
         "0",
         "0",
         "0",
         "0",
         "0",
         "0",
         "0",
         "0",
         "0",
         "0",
         "0",
         "0",
         "0",
         "0",
         "0",
         "0",
         "0",
         "0",
         "0",
         "0",
         "0",
         "0",
         "0",
         "0",
         "0",
         "0",
         "0",
         "0",
         "0",
         "0",
         "0",
         "0",
         "0",
         "0",
         "0",
         "0",
         "0",
         "0",
         "0",
         "0",
         "0",
         "0",
         "0",
         "0",
         "0",
         "0",
         "0",
         "0",
         "0",
         "0",
         "0",
         "0",
         "0",
         "0",
         "0",
         "0",
         "0",
         "0",
         "0",
         "0",
         "0",
         "0",
         "0",
         "0",
         "0",
         "0",
         "0",
         "0",
         "0",
         "0",
         "0",
         "0",
         "0",
         "0",
         "0",
         "0",
         "0",
         "0",
         "0",
         "0",
         "0",
         "0",
         "0",
         "0",
         "0",
         "0",
         "0",
         "0",
         "0",
         "0",
         "0",
         "0",
         "0",
         "0",
         "0",
         "0",
         "0",
         "0",
         "0",
         "0",
         "0",
         "0",
         "0",
         "0",
         "0",
         "0",
         "0",
         "0",
         "0",
         "0",
         "0",
         "0",
         "0",
         "0",
         "0",
         "0",
         "0",
         "0",
         "0",
         "0",
         "0",
         "0",
         "0",
         "0",
         "0",
         "0",
         "0",
         "0",
         "0",
         "0",
         "0",
         "0",
         "0",
         "0",
         "0",
         "0",
         "0",
         "0",
         "0",
         "0",
         "0",
         "0",
         "0",
         "0",
         "32",
         "49",
         "6",
         "0",
         "0",
         "1",
         "1",
         "0",
         "1",
         "0",
         "0",
         "0",
         "0",
         "0",
         "0",
         "0",
         "0",
         "0",
         "0",
         "0",
         "0",
         "1",
         "0",
         "0",
         "0",
         "24",
         "70",
         "137",
         "177",
         "191",
         "96",
         "9",
         "0",
         "2",
         "0",
         "0",
         "0",
         "0",
         "31",
         "26",
         "0",
         "0",
         "0",
         "0",
         "0",
         "0",
         "0",
         "0",
         "0",
         "0",
         "0",
         "0",
         "41",
         "19",
         "46",
         "133",
         "0",
         "79",
         "163",
         "63",
         "0",
         "2",
         "0",
         "1",
         "29",
         "4",
         "22",
         "43",
         "0",
         "0",
         "0",
         "0",
         "0",
         "0",
         "0",
         "0",
         "0",
         "0",
         "0",
         "0",
         "128",
         "22",
         "0",
         "0",
         "61",
         "32",
         "3",
         "44",
         "0",
         "0",
         "0",
         "12",
         "84",
         "72",
         "0",
         "0",
         "0",
         "0",
         "0",
         "0",
         "0",
         "0",
         "0",
         "0",
         "0",
         "0",
         "78",
         "74",
         "17",
         "53",
         "47",
         "100",
         "113",
         "83",
         "35",
         "83",
         "47",
         "2",
         "8",
         "44",
         "79",
         "68",
         "20",
         "0",
         "0",
         "0",
         "1",
         "0",
         "0",
         "0",
         "3",
         "0",
         "19",
         "40",
         "0",
         "93",
         "26",
         "149",
         "255",
         "203",
         "168",
         "92",
         "98",
         "84",
         "33",
         "82",
         "64",
         "88",
         "67",
         "76",
         "53",
         "0",
         "0",
         "0",
         "0",
         "0",
         "0",
         "0",
         "0",
         "0",
         "71",
         "132",
         "165",
         "169",
         "128",
         "105",
         "1",
         "0",
         "82",
         "167",
         "28",
         "90",
         "81",
         "77",
         "81",
         "59",
         "63",
         "100",
         "51",
         "0",
         "0",
         "0",
         "11",
         "6",
         "0",
         "0",
         "104",
         "160",
         "32",
         "108",
         "150",
         "50",
         "185",
         "45",
         "62",
         "100",
         "156",
         "190",
         "75",
         "75",
         "89",
         "50",
         "60",
         "59",
         "78",
         "90",
         "86",
         "0",
         "0",
         "0",
         "33",
         "43",
         "0",
         "103",
         "224",
         "53",
         "24",
         "11",
         "8",
         "20",
         "196",
         "164",
         "150",
         "195",
         "115",
         "181",
         "52",
         "40",
         "48",
         "62",
         "71",
         "102",
         "106",
         "120",
         "157",
         "0",
         "0",
         "117",
         "90",
         "9",
         "0",
         "7",
         "0",
         "0",
         "0",
         "21",
         "57",
         "34",
         "94",
         "200",
         "121",
         "140",
         "159",
         "129",
         "2",
         "36",
         "18",
         "17",
         "18",
         "22",
         "51",
         "132",
         "79",
         "0",
         "60",
         "125",
         "112",
         "128",
         "97",
         "169",
         "183",
         "117",
         "103",
         "74",
         "23",
         "44",
         "27",
         "95",
         "189",
         "142",
         "98",
         "0",
         "14",
         "9",
         "42",
         "53",
         "63",
         "18",
         "27",
         "58",
         "10",
         "0",
         "26",
         "106",
         "54",
         "0",
         "31",
         "72",
         "85",
         "53",
         "68",
         "92",
         "55",
         "29",
         "26",
         "0",
         "0",
         "14",
         "2",
         "77",
         "120",
         "69",
         "87",
         "115",
         "50",
         "108",
         "62",
         "80",
         "71",
         "51",
         "0",
         "22",
         "95",
         "120",
         "108",
         "122",
         "69",
         "72",
         "128",
         "110",
         "17",
         "78",
         "41",
         "67",
         "64",
         "34",
         "107",
         "68",
         "80",
         "78",
         "115",
         "33",
         "87",
         "126",
         "81",
         "46",
         "121",
         "68",
         "0",
         "0",
         "0",
         "0",
         "0",
         "22",
         "58",
         "39",
         "46",
         "62",
         "87",
         "77",
         "85",
         "98",
         "71",
         "89",
         "96",
         "74",
         "69",
         "93",
         "100",
         "61",
         "74",
         "48",
         "41",
         "50",
         "17",
         "0",
         "0",
         "0",
         "0",
         "0",
         "0",
         "0",
         "0",
         "0",
         "0",
         "0",
         "0",
         "0",
         "0",
         "0",
         "0",
         "0",
         "0",
         "0",
         "0",
         "0",
         "0",
         "0",
         "0",
         "0",
         "0",
         "0",
         "0",
         "0",
         "0",
         "0",
         "0",
         "0",
         "0",
         "0",
         "0",
         "0",
         "0",
         "0",
         "0",
         "0",
         "0",
         "0",
         "0",
         "0",
         "0",
         "0",
         "0",
         "0",
         "0",
         "0",
         "0",
         "0",
         "0",
         "0",
         "0",
         "0",
         "0",
         "0",
         "0",
         "0",
         "0",
         "0",
         "0",
         "0",
         "0",
         "0",
         "0",
         "0",
         "0",
         "0",
         "0",
         "0",
         "0",
         "0",
         "0",
         "0",
         "0",
         "0",
         "0",
         "0",
         "0",
         "0",
         "0",
         "0",
         "0",
         "0",
         "0",
         "0",
         "0",
         "0",
         "0",
         "0",
         "0",
         "0",
         "0",
         "0",
         "0",
         "0",
         "0",
         "0",
         "0",
         "0",
         "0",
         "0",
         "0",
         "0",
         "0",
         "0",
         "0",
         "0",
         "0",
         "0",
         "0",
         "0",
         "0",
         "0",
         "0",
         "0",
         "0",
         "0",
         "0",
         "0",
         "0",
         "0",
         "0",
         "0",
         "0",
         "0",
         "0",
         "0",
         "0",
         "0",
         "0",
         "0",
         "0",
         "0",
         "0",
         "0",
         "0",
         "0",
         "0",
         "0",
         "0",
         "0",
         "0",
         "0",
         "0",
         "0",
         "0",
         "0",
         "0",
         "0",
         "0",
         "0",
         "0",
         "0",
         "0",
         "0",
         "0",
         "0",
         "0",
         "0",
         "0",
         "0",
         "0",
         "0",
         "0",
         "0",
         "0",
         "0",
         "0",
         "0",
         "0",
         "0",
         "0",
         "0",
         "0",
         "0",
         "0",
         "0",
         "0",
         "0",
         "0",
         "0",
         "0",
         "0",
         "0",
         "0",
         "0",
         "0",
         "0",
         "0",
         "0",
         "0",
         "0",
         "0"
        ],
        [
         "2",
         "0",
         "0",
         "0",
         "0",
         "0",
         "0",
         "1",
         "0",
         "0",
         "0",
         "0",
         "43",
         "117",
         "34",
         "15",
         "24",
         "33",
         "117",
         "80",
         "0",
         "0",
         "0",
         "0",
         "0",
         "1",
         "0",
         "0",
         "0",
         "0",
         "0",
         "0",
         "0",
         "0",
         "1",
         "0",
         "0",
         "0",
         "51",
         "144",
         "152",
         "202",
         "213",
         "210",
         "205",
         "204",
         "221",
         "157",
         "172",
         "131",
         "55",
         "0",
         "0",
         "0",
         "1",
         "0",
         "0",
         "0",
         "0",
         "0",
         "0",
         "1",
         "0",
         "1",
         "96",
         "156",
         "156",
         "152",
         "140",
         "152",
         "176",
         "74",
         "62",
         "159",
         "168",
         "138",
         "150",
         "157",
         "161",
         "144",
         "96",
         "0",
         "0",
         "1",
         "0",
         "0",
         "0",
         "0",
         "0",
         "0",
         "0",
         "124",
         "156",
         "143",
         "137",
         "136",
         "142",
         "140",
         "139",
         "159",
         "161",
         "149",
         "140",
         "148",
         "148",
         "142",
         "144",
         "151",
         "157",
         "108",
         "0",
         "0",
         "0",
         "0",
         "0",
         "0",
         "0",
         "0",
         "44",
         "143",
         "131",
         "139",
         "136",
         "138",
         "136",
         "137",
         "149",
         "139",
         "135",
         "144",
         "147",
         "143",
         "143",
         "145",
         "145",
         "144",
         "143",
         "144",
         "24",
         "0",
         "0",
         "0",
         "0",
         "0",
         "0",
         "0",
         "87",
         "150",
         "138",
         "134",
         "136",
         "135",
         "136",
         "131",
         "110",
         "127",
         "150",
         "130",
         "142",
         "140",
         "143",
         "140",
         "144",
         "142",
         "142",
         "152",
         "76",
         "0",
         "0",
         "0",
         "0",
         "0",
         "0",
         "0",
         "124",
         "153",
         "144",
         "134",
         "140",
         "129",
         "148",
         "184",
         "205",
         "209",
         "194",
         "174",
         "120",
         "145",
         "140",
         "139",
         "143",
         "144",
         "147",
         "154",
         "102",
         "0",
         "0",
         "0",
         "0",
         "0",
         "0",
         "0",
         "154",
         "147",
         "160",
         "134",
         "139",
         "116",
         "223",
         "214",
         "208",
         "204",
         "186",
         "249",
         "154",
         "127",
         "144",
         "143",
         "146",
         "148",
         "157",
         "149",
         "146",
         "0",
         "0",
         "0",
         "0",
         "0",
         "0",
         "13",
         "164",
         "146",
         "166",
         "148",
         "133",
         "136",
         "211",
         "151",
         "128",
         "132",
         "136",
         "150",
         "222",
         "134",
         "135",
         "145",
         "140",
         "164",
         "162",
         "146",
         "161",
         "1",
         "0",
         "0",
         "0",
         "0",
         "0",
         "54",
         "151",
         "142",
         "161",
         "157",
         "117",
         "171",
         "136",
         "127",
         "145",
         "145",
         "145",
         "119",
         "180",
         "237",
         "121",
         "145",
         "138",
         "161",
         "153",
         "144",
         "152",
         "80",
         "0",
         "0",
         "0",
         "0",
         "0",
         "89",
         "144",
         "152",
         "177",
         "181",
         "121",
         "160",
         "136",
         "147",
         "146",
         "143",
         "146",
         "140",
         "129",
         "255",
         "152",
         "136",
         "135",
         "191",
         "165",
         "146",
         "156",
         "52",
         "0",
         "0",
         "0",
         "0",
         "0",
         "0",
         "2",
         "32",
         "44",
         "114",
         "138",
         "165",
         "144",
         "140",
         "144",
         "140",
         "146",
         "148",
         "120",
         "231",
         "191",
         "123",
         "162",
         "88",
         "14",
         "1",
         "0",
         "0",
         "0",
         "0",
         "0",
         "0",
         "0",
         "0",
         "0",
         "0",
         "0",
         "55",
         "167",
         "154",
         "191",
         "123",
         "144",
         "146",
         "142",
         "149",
         "125",
         "227",
         "204",
         "115",
         "180",
         "33",
         "0",
         "0",
         "0",
         "0",
         "0",
         "0",
         "0",
         "0",
         "0",
         "0",
         "1",
         "3",
         "0",
         "66",
         "180",
         "142",
         "212",
         "172",
         "120",
         "145",
         "148",
         "148",
         "134",
         "199",
         "223",
         "151",
         "173",
         "42",
         "0",
         "4",
         "1",
         "0",
         "0",
         "0",
         "0",
         "0",
         "0",
         "0",
         "0",
         "1",
         "0",
         "51",
         "186",
         "135",
         "209",
         "208",
         "152",
         "125",
         "136",
         "128",
         "134",
         "217",
         "217",
         "147",
         "180",
         "33",
         "0",
         "2",
         "0",
         "0",
         "0",
         "0",
         "0",
         "0",
         "0",
         "0",
         "0",
         "4",
         "0",
         "47",
         "191",
         "130",
         "189",
         "211",
         "202",
         "197",
         "170",
         "156",
         "216",
         "200",
         "197",
         "135",
         "188",
         "30",
         "0",
         "5",
         "0",
         "0",
         "0",
         "0",
         "0",
         "0",
         "0",
         "0",
         "0",
         "4",
         "0",
         "43",
         "193",
         "122",
         "155",
         "187",
         "126",
         "146",
         "177",
         "232",
         "175",
         "171",
         "199",
         "117",
         "191",
         "29",
         "0",
         "6",
         "0",
         "0",
         "0",
         "0",
         "0",
         "0",
         "0",
         "0",
         "0",
         "4",
         "0",
         "42",
         "158",
         "126",
         "150",
         "128",
         "140",
         "142",
         "163",
         "162",
         "131",
         "154",
         "139",
         "133",
         "186",
         "26",
         "0",
         "6",
         "0",
         "0",
         "0",
         "0",
         "0",
         "0",
         "0",
         "0",
         "0",
         "4",
         "0",
         "42",
         "156",
         "127",
         "156",
         "145",
         "145",
         "148",
         "144",
         "142",
         "151",
         "145",
         "138",
         "134",
         "157",
         "36",
         "0",
         "5",
         "0",
         "0",
         "0",
         "0",
         "0",
         "0",
         "0",
         "0",
         "0",
         "4",
         "0",
         "44",
         "156",
         "136",
         "153",
         "142",
         "145",
         "150",
         "148",
         "151",
         "145",
         "153",
         "145",
         "128",
         "153",
         "39",
         "0",
         "5",
         "0",
         "0",
         "0",
         "0",
         "0",
         "0",
         "0",
         "0",
         "0",
         "4",
         "0",
         "42",
         "150",
         "138",
         "151",
         "142",
         "146",
         "150",
         "147",
         "148",
         "149",
         "152",
         "148",
         "136",
         "153",
         "42",
         "0",
         "5",
         "0",
         "0",
         "0",
         "0",
         "0",
         "0",
         "0",
         "0",
         "0",
         "4",
         "0",
         "44",
         "149",
         "138",
         "151",
         "144",
         "148",
         "150",
         "151",
         "151",
         "148",
         "151",
         "153",
         "134",
         "152",
         "45",
         "0",
         "5",
         "0",
         "0",
         "0",
         "0",
         "0",
         "0",
         "0",
         "0",
         "0",
         "4",
         "0",
         "47",
         "150",
         "140",
         "154",
         "145",
         "149",
         "150",
         "151",
         "154",
         "150",
         "151",
         "157",
         "136",
         "150",
         "44",
         "0",
         "5",
         "0",
         "0",
         "0",
         "0",
         "0",
         "0",
         "0",
         "0",
         "0",
         "4",
         "0",
         "55",
         "150",
         "144",
         "153",
         "145",
         "150",
         "150",
         "149",
         "154",
         "154",
         "151",
         "157",
         "140",
         "149",
         "47",
         "0",
         "5",
         "0",
         "0",
         "0",
         "0",
         "0",
         "0",
         "0",
         "0",
         "0",
         "4",
         "0",
         "66",
         "149",
         "145",
         "151",
         "146",
         "153",
         "152",
         "150",
         "151",
         "154",
         "154",
         "155",
         "145",
         "148",
         "53",
         "0",
         "5",
         "0",
         "0",
         "0",
         "0",
         "0",
         "0",
         "0",
         "0",
         "0",
         "4",
         "0",
         "68",
         "152",
         "146",
         "153",
         "148",
         "155",
         "153",
         "152",
         "154",
         "156",
         "153",
         "156",
         "149",
         "149",
         "47",
         "0",
         "6",
         "0",
         "0",
         "0",
         "0",
         "0",
         "0",
         "0",
         "0",
         "0",
         "5",
         "0",
         "77",
         "157",
         "148",
         "155",
         "146",
         "151",
         "149",
         "152",
         "154",
         "157",
         "158",
         "161",
         "148",
         "159",
         "58",
         "0",
         "6",
         "0",
         "0",
         "0",
         "0",
         "0",
         "0",
         "0",
         "0",
         "0",
         "4",
         "0",
         "60",
         "143",
         "143",
         "148",
         "146",
         "152",
         "152",
         "148",
         "148",
         "147",
         "145",
         "142",
         "142",
         "142",
         "21",
         "0",
         "3",
         "0",
         "0",
         "0",
         "0"
        ],
        [
         "3",
         "8",
         "0",
         "0",
         "0",
         "0",
         "0",
         "0",
         "0",
         "0",
         "0",
         "0",
         "0",
         "0",
         "2",
         "0",
         "33",
         "114",
         "37",
         "0",
         "1",
         "0",
         "0",
         "1",
         "0",
         "0",
         "0",
         "0",
         "0",
         "0",
         "0",
         "0",
         "0",
         "0",
         "0",
         "0",
         "0",
         "0",
         "0",
         "1",
         "0",
         "0",
         "0",
         "47",
         "136",
         "31",
         "136",
         "42",
         "0",
         "3",
         "0",
         "0",
         "0",
         "0",
         "0",
         "0",
         "0",
         "0",
         "0",
         "0",
         "0",
         "0",
         "0",
         "0",
         "0",
         "0",
         "0",
         "0",
         "0",
         "6",
         "0",
         "139",
         "9",
         "0",
         "1",
         "108",
         "0",
         "0",
         "0",
         "0",
         "0",
         "0",
         "0",
         "0",
         "0",
         "0",
         "0",
         "0",
         "0",
         "0",
         "0",
         "0",
         "0",
         "0",
         "0",
         "0",
         "1",
         "0",
         "38",
         "104",
         "0",
         "11",
         "0",
         "81",
         "39",
         "0",
         "1",
         "0",
         "0",
         "0",
         "0",
         "0",
         "0",
         "0",
         "0",
         "0",
         "0",
         "0",
         "0",
         "0",
         "0",
         "0",
         "0",
         "0",
         "5",
         "0",
         "90",
         "50",
         "0",
         "7",
         "0",
         "18",
         "90",
         "0",
         "3",
         "0",
         "0",
         "0",
         "0",
         "0",
         "0",
         "0",
         "0",
         "0",
         "0",
         "0",
         "0",
         "0",
         "0",
         "0",
         "0",
         "0",
         "1",
         "0",
         "122",
         "5",
         "0",
         "2",
         "2",
         "0",
         "116",
         "14",
         "0",
         "1",
         "0",
         "0",
         "0",
         "0",
         "0",
         "0",
         "0",
         "1",
         "0",
         "0",
         "0",
         "0",
         "0",
         "1",
         "0",
         "1",
         "0",
         "14",
         "100",
         "0",
         "2",
         "0",
         "3",
         "0",
         "78",
         "47",
         "0",
         "3",
         "0",
         "0",
         "0",
         "0",
         "0",
         "0",
         "0",
         "0",
         "0",
         "0",
         "0",
         "0",
         "2",
         "2",
         "3",
         "6",
         "0",
         "65",
         "102",
         "0",
         "5",
         "0",
         "3",
         "0",
         "38",
         "88",
         "0",
         "2",
         "0",
         "0",
         "1",
         "0",
         "0",
         "0",
         "0",
         "0",
         "1",
         "0",
         "0",
         "0",
         "0",
         "0",
         "0",
         "0",
         "0",
         "83",
         "73",
         "0",
         "0",
         "0",
         "1",
         "0",
         "1",
         "122",
         "0",
         "0",
         "0",
         "0",
         "0",
         "3",
         "3",
         "0",
         "0",
         "1",
         "0",
         "0",
         "0",
         "1",
         "11",
         "19",
         "27",
         "35",
         "0",
         "94",
         "41",
         "0",
         "6",
         "0",
         "0",
         "0",
         "0",
         "151",
         "1",
         "0",
         "0",
         "0",
         "0",
         "0",
         "0",
         "0",
         "0",
         "0",
         "0",
         "123",
         "102",
         "112",
         "87",
         "94",
         "103",
         "108",
         "116",
         "155",
         "170",
         "136",
         "83",
         "136",
         "177",
         "188",
         "180",
         "135",
         "139",
         "124",
         "147",
         "114",
         "70",
         "66",
         "23",
         "0",
         "0",
         "0",
         "23",
         "53",
         "128",
         "187",
         "195",
         "189",
         "176",
         "171",
         "127",
         "152",
         "160",
         "144",
         "164",
         "205",
         "96",
         "139",
         "147",
         "124",
         "152",
         "148",
         "147",
         "143",
         "150",
         "162",
         "143",
         "0",
         "0",
         "0",
         "45",
         "15",
         "151",
         "209",
         "212",
         "217",
         "223",
         "192",
         "115",
         "138",
         "195",
         "204",
         "180",
         "91",
         "65",
         "119",
         "111",
         "108",
         "134",
         "184",
         "207",
         "201",
         "189",
         "184",
         "138",
         "0",
         "0",
         "0",
         "67",
         "25",
         "168",
         "184",
         "185",
         "176",
         "134",
         "82",
         "122",
         "144",
         "187",
         "207",
         "96",
         "94",
         "108",
         "167",
         "142",
         "118",
         "128",
         "106",
         "124",
         "191",
         "196",
         "197",
         "166",
         "0",
         "0",
         "0",
         "63",
         "2",
         "184",
         "189",
         "176",
         "140",
         "107",
         "130",
         "144",
         "143",
         "215",
         "191",
         "45",
         "63",
         "37",
         "152",
         "159",
         "114",
         "126",
         "147",
         "108",
         "131",
         "146",
         "170",
         "193",
         "0",
         "0",
         "14",
         "38",
         "5",
         "196",
         "180",
         "148",
         "144",
         "140",
         "136",
         "155",
         "197",
         "221",
         "146",
         "188",
         "224",
         "232",
         "163",
         "148",
         "160",
         "181",
         "160",
         "138",
         "124",
         "120",
         "142",
         "171",
         "2",
         "0",
         "35",
         "0",
         "27",
         "203",
         "176",
         "160",
         "183",
         "176",
         "158",
         "162",
         "163",
         "132",
         "107",
         "192",
         "200",
         "132",
         "205",
         "158",
         "162",
         "171",
         "152",
         "171",
         "140",
         "128",
         "164",
         "195",
         "5",
         "0",
         "47",
         "0",
         "37",
         "204",
         "180",
         "191",
         "185",
         "162",
         "154",
         "171",
         "162",
         "184",
         "221",
         "183",
         "15",
         "53",
         "221",
         "135",
         "175",
         "172",
         "167",
         "170",
         "159",
         "143",
         "167",
         "195",
         "13",
         "0",
         "65",
         "0",
         "35",
         "197",
         "189",
         "189",
         "192",
         "167",
         "167",
         "189",
         "199",
         "159",
         "111",
         "120",
         "209",
         "217",
         "135",
         "92",
         "132",
         "159",
         "187",
         "177",
         "173",
         "173",
         "171",
         "192",
         "17",
         "0",
         "62",
         "0",
         "0",
         "219",
         "192",
         "199",
         "219",
         "193",
         "183",
         "188",
         "173",
         "126",
         "111",
         "90",
         "172",
         "211",
         "148",
         "135",
         "150",
         "179",
         "187",
         "170",
         "175",
         "177",
         "176",
         "215",
         "33",
         "0",
         "58",
         "0",
         "1",
         "235",
         "197",
         "216",
         "227",
         "219",
         "209",
         "184",
         "176",
         "173",
         "181",
         "170",
         "140",
         "154",
         "171",
         "177",
         "171",
         "181",
         "187",
         "177",
         "180",
         "177",
         "176",
         "220",
         "38",
         "0",
         "55",
         "0",
         "6",
         "247",
         "199",
         "211",
         "213",
         "233",
         "231",
         "208",
         "213",
         "204",
         "184",
         "188",
         "187",
         "193",
         "180",
         "199",
         "191",
         "189",
         "195",
         "196",
         "195",
         "187",
         "181",
         "227",
         "55",
         "0",
         "55",
         "0",
         "9",
         "237",
         "196",
         "211",
         "215",
         "221",
         "225",
         "216",
         "227",
         "216",
         "204",
         "209",
         "199",
         "203",
         "200",
         "209",
         "201",
         "199",
         "204",
         "211",
         "208",
         "201",
         "193",
         "227",
         "61",
         "0",
         "61",
         "0",
         "1",
         "203",
         "207",
         "221",
         "236",
         "229",
         "220",
         "216",
         "216",
         "216",
         "228",
         "221",
         "211",
         "197",
         "204",
         "216",
         "211",
         "207",
         "208",
         "211",
         "211",
         "209",
         "200",
         "200",
         "63",
         "0",
         "21",
         "81",
         "33",
         "232",
         "235",
         "244",
         "245",
         "237",
         "236",
         "219",
         "229",
         "224",
         "216",
         "215",
         "216",
         "209",
         "208",
         "209",
         "212",
         "212",
         "213",
         "209",
         "205",
         "212",
         "204",
         "212",
         "110",
         "0",
         "0",
         "10",
         "164",
         "255",
         "221",
         "227",
         "232",
         "233",
         "253",
         "255",
         "236",
         "219",
         "212",
         "253",
         "215",
         "212",
         "215",
         "213",
         "209",
         "207",
         "204",
         "204",
         "204",
         "204",
         "199",
         "197",
         "94",
         "0",
         "3",
         "0",
         "9",
         "164",
         "152",
         "138",
         "152",
         "160",
         "152",
         "162",
         "144",
         "208",
         "181",
         "1",
         "18",
         "11",
         "17",
         "13",
         "13",
         "11",
         "10",
         "7",
         "5",
         "5",
         "5",
         "7",
         "0",
         "0",
         "0",
         "1",
         "0",
         "0",
         "41",
         "69",
         "88",
         "86",
         "94",
         "106",
         "114",
         "118",
         "47",
         "0",
         "0",
         "0",
         "0",
         "0",
         "0",
         "0",
         "0",
         "0",
         "0",
         "0",
         "0",
         "0",
         "0"
        ],
        [
         "4",
         "8",
         "0",
         "0",
         "0",
         "0",
         "0",
         "0",
         "0",
         "0",
         "0",
         "0",
         "2",
         "0",
         "58",
         "145",
         "114",
         "10",
         "0",
         "2",
         "0",
         "0",
         "0",
         "0",
         "0",
         "0",
         "0",
         "0",
         "0",
         "0",
         "0",
         "0",
         "0",
         "0",
         "0",
         "0",
         "0",
         "0",
         "0",
         "2",
         "0",
         "29",
         "132",
         "0",
         "0",
         "101",
         "10",
         "0",
         "2",
         "0",
         "0",
         "0",
         "0",
         "0",
         "0",
         "0",
         "0",
         "0",
         "0",
         "0",
         "0",
         "0",
         "0",
         "0",
         "0",
         "0",
         "0",
         "2",
         "0",
         "153",
         "8",
         "0",
         "0",
         "20",
         "126",
         "0",
         "0",
         "0",
         "0",
         "0",
         "0",
         "0",
         "0",
         "0",
         "0",
         "0",
         "0",
         "0",
         "0",
         "0",
         "0",
         "0",
         "0",
         "0",
         "4",
         "0",
         "45",
         "122",
         "0",
         "6",
         "2",
         "0",
         "124",
         "51",
         "0",
         "4",
         "0",
         "0",
         "0",
         "0",
         "0",
         "0",
         "0",
         "0",
         "0",
         "0",
         "0",
         "0",
         "0",
         "0",
         "0",
         "0",
         "6",
         "0",
         "149",
         "95",
         "0",
         "6",
         "4",
         "0",
         "99",
         "136",
         "0",
         "6",
         "0",
         "0",
         "0",
         "0",
         "0",
         "0",
         "0",
         "0",
         "0",
         "0",
         "0",
         "0",
         "0",
         "0",
         "0",
         "2",
         "0",
         "0",
         "207",
         "55",
         "0",
         "4",
         "4",
         "0",
         "70",
         "134",
         "0",
         "0",
         "2",
         "0",
         "0",
         "0",
         "0",
         "0",
         "0",
         "0",
         "0",
         "0",
         "0",
         "0",
         "0",
         "0",
         "2",
         "8",
         "0",
         "51",
         "180",
         "0",
         "0",
         "4",
         "2",
         "0",
         "14",
         "118",
         "0",
         "0",
         "0",
         "0",
         "0",
         "0",
         "0",
         "0",
         "0",
         "0",
         "0",
         "0",
         "0",
         "6",
         "6",
         "8",
         "10",
         "6",
         "0",
         "101",
         "130",
         "0",
         "4",
         "0",
         "2",
         "0",
         "6",
         "167",
         "0",
         "0",
         "4",
         "6",
         "6",
         "4",
         "2",
         "0",
         "0",
         "0",
         "0",
         "0",
         "0",
         "0",
         "0",
         "0",
         "0",
         "0",
         "0",
         "114",
         "120",
         "0",
         "2",
         "4",
         "2",
         "0",
         "12",
         "225",
         "0",
         "0",
         "0",
         "0",
         "0",
         "0",
         "0",
         "0",
         "0",
         "0",
         "0",
         "0",
         "0",
         "33",
         "74",
         "109",
         "109",
         "91",
         "0",
         "203",
         "203",
         "0",
         "0",
         "0",
         "0",
         "0",
         "0",
         "176",
         "116",
         "136",
         "122",
         "89",
         "49",
         "37",
         "0",
         "0",
         "0",
         "0",
         "0",
         "0",
         "0",
         "196",
         "192",
         "178",
         "192",
         "149",
         "149",
         "221",
         "170",
         "0",
         "43",
         "82",
         "58",
         "72",
         "64",
         "192",
         "172",
         "151",
         "159",
         "201",
         "246",
         "255",
         "145",
         "0",
         "0",
         "0",
         "0",
         "0",
         "0",
         "194",
         "151",
         "103",
         "130",
         "147",
         "124",
         "199",
         "186",
         "45",
         "132",
         "157",
         "130",
         "172",
         "138",
         "157",
         "153",
         "78",
         "105",
         "153",
         "140",
         "250",
         "165",
         "0",
         "0",
         "0",
         "0",
         "0",
         "0",
         "194",
         "145",
         "163",
         "120",
         "165",
         "188",
         "184",
         "176",
         "196",
         "203",
         "51",
         "68",
         "132",
         "140",
         "174",
         "192",
         "105",
         "149",
         "196",
         "31",
         "170",
         "161",
         "0",
         "0",
         "0",
         "0",
         "0",
         "0",
         "159",
         "174",
         "82",
         "147",
         "124",
         "155",
         "186",
         "155",
         "225",
         "242",
         "132",
         "80",
         "159",
         "116",
         "147",
         "194",
         "126",
         "196",
         "223",
         "114",
         "76",
         "68",
         "0",
         "0",
         "0",
         "0",
         "0",
         "0",
         "128",
         "174",
         "105",
         "143",
         "157",
         "149",
         "188",
         "184",
         "230",
         "230",
         "120",
         "70",
         "122",
         "149",
         "167",
         "205",
         "149",
         "205",
         "234",
         "145",
         "163",
         "80",
         "0",
         "0",
         "0",
         "0",
         "0",
         "0",
         "107",
         "182",
         "180",
         "130",
         "116",
         "172",
         "215",
         "190",
         "217",
         "221",
         "53",
         "22",
         "41",
         "68",
         "114",
         "232",
         "167",
         "217",
         "213",
         "159",
         "190",
         "116",
         "0",
         "0",
         "0",
         "0",
         "0",
         "0",
         "74",
         "219",
         "140",
         "126",
         "107",
         "114",
         "155",
         "221",
         "236",
         "64",
         "35",
         "103",
         "95",
         "20",
         "26",
         "101",
         "184",
         "236",
         "228",
         "159",
         "99",
         "76",
         "0",
         "0",
         "0",
         "0",
         "0",
         "0",
         "47",
         "225",
         "105",
         "91",
         "80",
         "76",
         "122",
         "122",
         "45",
         "41",
         "99",
         "64",
         "122",
         "149",
         "145",
         "190",
         "236",
         "219",
         "219",
         "180",
         "97",
         "51",
         "0",
         "0",
         "0",
         "0",
         "0",
         "0",
         "14",
         "242",
         "172",
         "93",
         "105",
         "80",
         "109",
         "180",
         "85",
         "64",
         "72",
         "37",
         "45",
         "161",
         "207",
         "221",
         "217",
         "211",
         "205",
         "157",
         "170",
         "80",
         "0",
         "0",
         "0",
         "0",
         "0",
         "0",
         "0",
         "232",
         "159",
         "74",
         "107",
         "114",
         "107",
         "170",
         "205",
         "215",
         "126",
         "145",
         "215",
         "225",
         "230",
         "217",
         "213",
         "217",
         "234",
         "161",
         "178",
         "64",
         "0",
         "0",
         "0",
         "0",
         "0",
         "0",
         "0",
         "213",
         "118",
         "111",
         "120",
         "114",
         "76",
         "157",
         "153",
         "223",
         "246",
         "248",
         "242",
         "234",
         "228",
         "225",
         "223",
         "215",
         "215",
         "159",
         "190",
         "0",
         "0",
         "0",
         "0",
         "0",
         "0",
         "0",
         "0",
         "217",
         "145",
         "122",
         "101",
         "82",
         "95",
         "205",
         "196",
         "192",
         "201",
         "192",
         "201",
         "215",
         "228",
         "228",
         "232",
         "225",
         "219",
         "194",
         "194",
         "0",
         "0",
         "0",
         "0",
         "0",
         "0",
         "0",
         "0",
         "167",
         "190",
         "70",
         "89",
         "176",
         "199",
         "182",
         "207",
         "205",
         "213",
         "203",
         "201",
         "219",
         "215",
         "217",
         "228",
         "223",
         "219",
         "228",
         "192",
         "0",
         "0",
         "0",
         "0",
         "0",
         "0",
         "0",
         "0",
         "143",
         "199",
         "70",
         "130",
         "128",
         "159",
         "155",
         "178",
         "211",
         "213",
         "225",
         "215",
         "217",
         "225",
         "225",
         "228",
         "240",
         "209",
         "196",
         "180",
         "0",
         "0",
         "0",
         "0",
         "0",
         "0",
         "0",
         "0",
         "134",
         "203",
         "105",
         "80",
         "134",
         "136",
         "182",
         "207",
         "201",
         "174",
         "174",
         "167",
         "184",
         "199",
         "201",
         "228",
         "211",
         "217",
         "201",
         "174",
         "0",
         "0",
         "0",
         "0",
         "0",
         "0",
         "0",
         "0",
         "78",
         "186",
         "80",
         "126",
         "186",
         "157",
         "157",
         "149",
         "151",
         "147",
         "159",
         "174",
         "132",
         "134",
         "151",
         "170",
         "188",
         "209",
         "230",
         "136",
         "0",
         "0",
         "0",
         "0",
         "0",
         "0",
         "0",
         "0",
         "18",
         "134",
         "155",
         "178",
         "149",
         "163",
         "165",
         "138",
         "147",
         "170",
         "149",
         "134",
         "165",
         "153",
         "155",
         "134",
         "143",
         "172",
         "215",
         "62",
         "0",
         "0",
         "0",
         "0",
         "0",
         "0",
         "0",
         "0",
         "10",
         "190",
         "178",
         "194",
         "209",
         "211",
         "209",
         "205",
         "211",
         "215",
         "213",
         "217",
         "225",
         "228",
         "213",
         "203",
         "174",
         "151",
         "188",
         "10",
         "0",
         "0",
         "0",
         "0"
        ]
       ],
       "shape": {
        "columns": 785,
        "rows": 5
       }
      },
      "text/html": [
       "<div>\n",
       "<style scoped>\n",
       "    .dataframe tbody tr th:only-of-type {\n",
       "        vertical-align: middle;\n",
       "    }\n",
       "\n",
       "    .dataframe tbody tr th {\n",
       "        vertical-align: top;\n",
       "    }\n",
       "\n",
       "    .dataframe thead th {\n",
       "        text-align: right;\n",
       "    }\n",
       "</style>\n",
       "<table border=\"1\" class=\"dataframe\">\n",
       "  <thead>\n",
       "    <tr style=\"text-align: right;\">\n",
       "      <th></th>\n",
       "      <th>label</th>\n",
       "      <th>pixel1</th>\n",
       "      <th>pixel2</th>\n",
       "      <th>pixel3</th>\n",
       "      <th>pixel4</th>\n",
       "      <th>pixel5</th>\n",
       "      <th>pixel6</th>\n",
       "      <th>pixel7</th>\n",
       "      <th>pixel8</th>\n",
       "      <th>pixel9</th>\n",
       "      <th>...</th>\n",
       "      <th>pixel775</th>\n",
       "      <th>pixel776</th>\n",
       "      <th>pixel777</th>\n",
       "      <th>pixel778</th>\n",
       "      <th>pixel779</th>\n",
       "      <th>pixel780</th>\n",
       "      <th>pixel781</th>\n",
       "      <th>pixel782</th>\n",
       "      <th>pixel783</th>\n",
       "      <th>pixel784</th>\n",
       "    </tr>\n",
       "  </thead>\n",
       "  <tbody>\n",
       "    <tr>\n",
       "      <th>0</th>\n",
       "      <td>9</td>\n",
       "      <td>0</td>\n",
       "      <td>0</td>\n",
       "      <td>0</td>\n",
       "      <td>0</td>\n",
       "      <td>0</td>\n",
       "      <td>0</td>\n",
       "      <td>0</td>\n",
       "      <td>0</td>\n",
       "      <td>0</td>\n",
       "      <td>...</td>\n",
       "      <td>0</td>\n",
       "      <td>7</td>\n",
       "      <td>0</td>\n",
       "      <td>50</td>\n",
       "      <td>205</td>\n",
       "      <td>196</td>\n",
       "      <td>213</td>\n",
       "      <td>165</td>\n",
       "      <td>0</td>\n",
       "      <td>0</td>\n",
       "    </tr>\n",
       "    <tr>\n",
       "      <th>1</th>\n",
       "      <td>7</td>\n",
       "      <td>0</td>\n",
       "      <td>0</td>\n",
       "      <td>0</td>\n",
       "      <td>0</td>\n",
       "      <td>0</td>\n",
       "      <td>0</td>\n",
       "      <td>0</td>\n",
       "      <td>0</td>\n",
       "      <td>0</td>\n",
       "      <td>...</td>\n",
       "      <td>0</td>\n",
       "      <td>0</td>\n",
       "      <td>0</td>\n",
       "      <td>0</td>\n",
       "      <td>0</td>\n",
       "      <td>0</td>\n",
       "      <td>0</td>\n",
       "      <td>0</td>\n",
       "      <td>0</td>\n",
       "      <td>0</td>\n",
       "    </tr>\n",
       "    <tr>\n",
       "      <th>2</th>\n",
       "      <td>0</td>\n",
       "      <td>0</td>\n",
       "      <td>0</td>\n",
       "      <td>0</td>\n",
       "      <td>0</td>\n",
       "      <td>0</td>\n",
       "      <td>1</td>\n",
       "      <td>0</td>\n",
       "      <td>0</td>\n",
       "      <td>0</td>\n",
       "      <td>...</td>\n",
       "      <td>142</td>\n",
       "      <td>142</td>\n",
       "      <td>142</td>\n",
       "      <td>21</td>\n",
       "      <td>0</td>\n",
       "      <td>3</td>\n",
       "      <td>0</td>\n",
       "      <td>0</td>\n",
       "      <td>0</td>\n",
       "      <td>0</td>\n",
       "    </tr>\n",
       "    <tr>\n",
       "      <th>3</th>\n",
       "      <td>8</td>\n",
       "      <td>0</td>\n",
       "      <td>0</td>\n",
       "      <td>0</td>\n",
       "      <td>0</td>\n",
       "      <td>0</td>\n",
       "      <td>0</td>\n",
       "      <td>0</td>\n",
       "      <td>0</td>\n",
       "      <td>0</td>\n",
       "      <td>...</td>\n",
       "      <td>0</td>\n",
       "      <td>0</td>\n",
       "      <td>0</td>\n",
       "      <td>0</td>\n",
       "      <td>0</td>\n",
       "      <td>0</td>\n",
       "      <td>0</td>\n",
       "      <td>0</td>\n",
       "      <td>0</td>\n",
       "      <td>0</td>\n",
       "    </tr>\n",
       "    <tr>\n",
       "      <th>4</th>\n",
       "      <td>8</td>\n",
       "      <td>0</td>\n",
       "      <td>0</td>\n",
       "      <td>0</td>\n",
       "      <td>0</td>\n",
       "      <td>0</td>\n",
       "      <td>0</td>\n",
       "      <td>0</td>\n",
       "      <td>0</td>\n",
       "      <td>0</td>\n",
       "      <td>...</td>\n",
       "      <td>213</td>\n",
       "      <td>203</td>\n",
       "      <td>174</td>\n",
       "      <td>151</td>\n",
       "      <td>188</td>\n",
       "      <td>10</td>\n",
       "      <td>0</td>\n",
       "      <td>0</td>\n",
       "      <td>0</td>\n",
       "      <td>0</td>\n",
       "    </tr>\n",
       "  </tbody>\n",
       "</table>\n",
       "<p>5 rows × 785 columns</p>\n",
       "</div>"
      ],
      "text/plain": [
       "   label  pixel1  pixel2  pixel3  pixel4  pixel5  pixel6  pixel7  pixel8  \\\n",
       "0      9       0       0       0       0       0       0       0       0   \n",
       "1      7       0       0       0       0       0       0       0       0   \n",
       "2      0       0       0       0       0       0       1       0       0   \n",
       "3      8       0       0       0       0       0       0       0       0   \n",
       "4      8       0       0       0       0       0       0       0       0   \n",
       "\n",
       "   pixel9  ...  pixel775  pixel776  pixel777  pixel778  pixel779  pixel780  \\\n",
       "0       0  ...         0         7         0        50       205       196   \n",
       "1       0  ...         0         0         0         0         0         0   \n",
       "2       0  ...       142       142       142        21         0         3   \n",
       "3       0  ...         0         0         0         0         0         0   \n",
       "4       0  ...       213       203       174       151       188        10   \n",
       "\n",
       "   pixel781  pixel782  pixel783  pixel784  \n",
       "0       213       165         0         0  \n",
       "1         0         0         0         0  \n",
       "2         0         0         0         0  \n",
       "3         0         0         0         0  \n",
       "4         0         0         0         0  \n",
       "\n",
       "[5 rows x 785 columns]"
      ]
     },
     "execution_count": 2,
     "metadata": {},
     "output_type": "execute_result"
    }
   ],
   "source": [
    "df = pd.read_csv('datasets/fmnist_small.csv')\n",
    "df.head()"
   ]
  },
  {
   "cell_type": "markdown",
   "id": "801a2268",
   "metadata": {},
   "source": [
    "*Data preprocessing and DataLoader creation*"
   ]
  },
  {
   "cell_type": "markdown",
   "id": "86882e40",
   "metadata": {},
   "source": [
    "**`4. Other data improvements for GPU`**"
   ]
  },
  {
   "cell_type": "markdown",
   "id": "ac8fc792",
   "metadata": {
    "vscode": {
     "languageId": "sql"
    }
   },
   "source": [
    "* increase the batch size\n",
    "* set `pin_memory = True` in DataLoader "
   ]
  },
  {
   "cell_type": "code",
   "execution_count": 3,
   "id": "52bd69a9",
   "metadata": {},
   "outputs": [],
   "source": [
    "# getting data as numpy arrays\n",
    "X = df.drop(columns=['label']).to_numpy()\n",
    "y = df['label'].to_numpy()\n",
    "\n",
    "class_labels =  [\"T-shirt/top\",\n",
    "                \"Trouser\",\n",
    "                \"Pullover\",\n",
    "                \"Dress\",\n",
    "                \"Coat\",\n",
    "                \"Sandal\",\n",
    "                \"Shirt\",\n",
    "                \"Sneaker\",\n",
    "                \"Bag\",\n",
    "                \"Ankle boot\"]\n",
    "\n",
    "# perform train-test split\n",
    "X_train,X_test,y_train,y_test = train_test_split(X,y,test_size=0.2)\n",
    "\n",
    "# convert the arrays into pytorch tensors\n",
    "X_train_tensor = tr.tensor(X_train, dtype= tr.float32)\n",
    "X_test_tensor = tr.tensor(X_test, dtype= tr.float32) \n",
    "y_train_tensor = tr.tensor(y_train, dtype= tr.long) \n",
    "y_test_tensor = tr.tensor(y_test, dtype= tr.long) \n",
    "\n",
    "# creating dataset class\n",
    "class FMNIST_DATASET(Dataset):\n",
    "    def __init__(self,X,y):\n",
    "        self.X = X\n",
    "        self.y = y\n",
    "\n",
    "    def __len__(self):\n",
    "        return self.X.shape[0]\n",
    "    \n",
    "    def __getitem__(self, index):\n",
    "        return self.normalize(self.X[index]),self.y[index]\n",
    "\n",
    "    def normalize(self,X):\n",
    "        return (X/255.0).astype(np.float32)\n",
    "    \n",
    "train_dataset = FMNIST_DATASET(X_train,y_train)\n",
    "test_dataset = FMNIST_DATASET(X_test,y_test)\n",
    "\n",
    "BATCH_SIZE = 32\n",
    "train_loader = DataLoader(train_dataset,batch_size= BATCH_SIZE, shuffle = True)\n",
    "test_loader = DataLoader(test_dataset,batch_size= BATCH_SIZE, shuffle = False)"
   ]
  },
  {
   "cell_type": "markdown",
   "id": "09b35cc6",
   "metadata": {},
   "source": [
    "*Image Visualization*"
   ]
  },
  {
   "cell_type": "code",
   "execution_count": 4,
   "id": "b69e8cfa",
   "metadata": {},
   "outputs": [
    {
     "data": {
      "image/svg+xml": [
       "<?xml version=\"1.0\" encoding=\"utf-8\" standalone=\"no\"?>\n",
       "<!DOCTYPE svg PUBLIC \"-//W3C//DTD SVG 1.1//EN\"\n",
       "  \"http://www.w3.org/Graphics/SVG/1.1/DTD/svg11.dtd\">\n",
       "<svg xmlns:xlink=\"http://www.w3.org/1999/xlink\" width=\"548.517391pt\" height=\"271.636386pt\" viewBox=\"0 0 548.517391 271.636386\" xmlns=\"http://www.w3.org/2000/svg\" version=\"1.1\">\n",
       " <metadata>\n",
       "  <rdf:RDF xmlns:dc=\"http://purl.org/dc/elements/1.1/\" xmlns:cc=\"http://creativecommons.org/ns#\" xmlns:rdf=\"http://www.w3.org/1999/02/22-rdf-syntax-ns#\">\n",
       "   <cc:Work>\n",
       "    <dc:type rdf:resource=\"http://purl.org/dc/dcmitype/StillImage\"/>\n",
       "    <dc:date>2025-05-29T11:43:46.647609</dc:date>\n",
       "    <dc:format>image/svg+xml</dc:format>\n",
       "    <dc:creator>\n",
       "     <cc:Agent>\n",
       "      <dc:title>Matplotlib v3.5.1, https://matplotlib.org/</dc:title>\n",
       "     </cc:Agent>\n",
       "    </dc:creator>\n",
       "   </cc:Work>\n",
       "  </rdf:RDF>\n",
       " </metadata>\n",
       " <defs>\n",
       "  <style type=\"text/css\">*{stroke-linejoin: round; stroke-linecap: butt}</style>\n",
       " </defs>\n",
       " <g id=\"figure_1\">\n",
       "  <g id=\"patch_1\">\n",
       "   <path d=\"M 0 271.636386 \n",
       "L 548.517391 271.636386 \n",
       "L 548.517391 0 \n",
       "L 0 0 \n",
       "z\n",
       "\" style=\"fill: #ffffff\"/>\n",
       "  </g>\n",
       "  <g id=\"axes_1\">\n",
       "   <g clip-path=\"url(#p9b75208869)\">\n",
       "    <image xlink:href=\"data:image/png;base64,\n",
       "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\" id=\"image39d422af97\" transform=\"scale(1 -1)translate(0 -110.88)\" x=\"7.2\" y=\"-21.655516\" width=\"110.88\" height=\"110.88\"/>\n",
       "   </g>\n",
       "   <g id=\"text_1\">\n",
       "    <!-- Bag -->\n",
       "    <g transform=\"translate(50.706196 16.318125)scale(0.12 -0.12)\">\n",
       "     <defs>\n",
       "      <path id=\"DejaVuSans-42\" d=\"M 1259 2228 \n",
       "L 1259 519 \n",
       "L 2272 519 \n",
       "Q 2781 519 3026 730 \n",
       "Q 3272 941 3272 1375 \n",
       "Q 3272 1813 3026 2020 \n",
       "Q 2781 2228 2272 2228 \n",
       "L 1259 2228 \n",
       "z\n",
       "M 1259 4147 \n",
       "L 1259 2741 \n",
       "L 2194 2741 \n",
       "Q 2656 2741 2882 2914 \n",
       "Q 3109 3088 3109 3444 \n",
       "Q 3109 3797 2882 3972 \n",
       "Q 2656 4147 2194 4147 \n",
       "L 1259 4147 \n",
       "z\n",
       "M 628 4666 \n",
       "L 2241 4666 \n",
       "Q 2963 4666 3353 4366 \n",
       "Q 3744 4066 3744 3513 \n",
       "Q 3744 3084 3544 2831 \n",
       "Q 3344 2578 2956 2516 \n",
       "Q 3422 2416 3680 2098 \n",
       "Q 3938 1781 3938 1306 \n",
       "Q 3938 681 3513 340 \n",
       "Q 3088 0 2303 0 \n",
       "L 628 0 \n",
       "L 628 4666 \n",
       "z\n",
       "\" transform=\"scale(0.015625)\"/>\n",
       "      <path id=\"DejaVuSans-61\" d=\"M 2194 1759 \n",
       "Q 1497 1759 1228 1600 \n",
       "Q 959 1441 959 1056 \n",
       "Q 959 750 1161 570 \n",
       "Q 1363 391 1709 391 \n",
       "Q 2188 391 2477 730 \n",
       "Q 2766 1069 2766 1631 \n",
       "L 2766 1759 \n",
       "L 2194 1759 \n",
       "z\n",
       "M 3341 1997 \n",
       "L 3341 0 \n",
       "L 2766 0 \n",
       "L 2766 531 \n",
       "Q 2569 213 2275 61 \n",
       "Q 1981 -91 1556 -91 \n",
       "Q 1019 -91 701 211 \n",
       "Q 384 513 384 1019 \n",
       "Q 384 1609 779 1909 \n",
       "Q 1175 2209 1959 2209 \n",
       "L 2766 2209 \n",
       "L 2766 2266 \n",
       "Q 2766 2663 2505 2880 \n",
       "Q 2244 3097 1772 3097 \n",
       "Q 1472 3097 1187 3025 \n",
       "Q 903 2953 641 2809 \n",
       "L 641 3341 \n",
       "Q 956 3463 1253 3523 \n",
       "Q 1550 3584 1831 3584 \n",
       "Q 2591 3584 2966 3190 \n",
       "Q 3341 2797 3341 1997 \n",
       "z\n",
       "\" transform=\"scale(0.015625)\"/>\n",
       "      <path id=\"DejaVuSans-67\" d=\"M 2906 1791 \n",
       "Q 2906 2416 2648 2759 \n",
       "Q 2391 3103 1925 3103 \n",
       "Q 1463 3103 1205 2759 \n",
       "Q 947 2416 947 1791 \n",
       "Q 947 1169 1205 825 \n",
       "Q 1463 481 1925 481 \n",
       "Q 2391 481 2648 825 \n",
       "Q 2906 1169 2906 1791 \n",
       "z\n",
       "M 3481 434 \n",
       "Q 3481 -459 3084 -895 \n",
       "Q 2688 -1331 1869 -1331 \n",
       "Q 1566 -1331 1297 -1286 \n",
       "Q 1028 -1241 775 -1147 \n",
       "L 775 -588 \n",
       "Q 1028 -725 1275 -790 \n",
       "Q 1522 -856 1778 -856 \n",
       "Q 2344 -856 2625 -561 \n",
       "Q 2906 -266 2906 331 \n",
       "L 2906 616 \n",
       "Q 2728 306 2450 153 \n",
       "Q 2172 0 1784 0 \n",
       "Q 1141 0 747 490 \n",
       "Q 353 981 353 1791 \n",
       "Q 353 2603 747 3093 \n",
       "Q 1141 3584 1784 3584 \n",
       "Q 2172 3584 2450 3431 \n",
       "Q 2728 3278 2906 2969 \n",
       "L 2906 3500 \n",
       "L 3481 3500 \n",
       "L 3481 434 \n",
       "z\n",
       "\" transform=\"scale(0.015625)\"/>\n",
       "     </defs>\n",
       "     <use xlink:href=\"#DejaVuSans-42\"/>\n",
       "     <use xlink:href=\"#DejaVuSans-61\" x=\"68.603516\"/>\n",
       "     <use xlink:href=\"#DejaVuSans-67\" x=\"129.882812\"/>\n",
       "    </g>\n",
       "   </g>\n",
       "  </g>\n",
       "  <g id=\"axes_2\">\n",
       "   <g clip-path=\"url(#p147db536c5)\">\n",
       "    <image xlink:href=\"data:image/png;base64,\n",
       "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\" id=\"image36a799ee23\" transform=\"scale(1 -1)translate(0 -110.88)\" x=\"148.5\" y=\"-21.655516\" width=\"110.88\" height=\"110.88\"/>\n",
       "   </g>\n",
       "   <g id=\"text_2\">\n",
       "    <!-- Pullover -->\n",
       "    <g transform=\"translate(179.578696 16.318125)scale(0.12 -0.12)\">\n",
       "     <defs>\n",
       "      <path id=\"DejaVuSans-50\" d=\"M 1259 4147 \n",
       "L 1259 2394 \n",
       "L 2053 2394 \n",
       "Q 2494 2394 2734 2622 \n",
       "Q 2975 2850 2975 3272 \n",
       "Q 2975 3691 2734 3919 \n",
       "Q 2494 4147 2053 4147 \n",
       "L 1259 4147 \n",
       "z\n",
       "M 628 4666 \n",
       "L 2053 4666 \n",
       "Q 2838 4666 3239 4311 \n",
       "Q 3641 3956 3641 3272 \n",
       "Q 3641 2581 3239 2228 \n",
       "Q 2838 1875 2053 1875 \n",
       "L 1259 1875 \n",
       "L 1259 0 \n",
       "L 628 0 \n",
       "L 628 4666 \n",
       "z\n",
       "\" transform=\"scale(0.015625)\"/>\n",
       "      <path id=\"DejaVuSans-75\" d=\"M 544 1381 \n",
       "L 544 3500 \n",
       "L 1119 3500 \n",
       "L 1119 1403 \n",
       "Q 1119 906 1312 657 \n",
       "Q 1506 409 1894 409 \n",
       "Q 2359 409 2629 706 \n",
       "Q 2900 1003 2900 1516 \n",
       "L 2900 3500 \n",
       "L 3475 3500 \n",
       "L 3475 0 \n",
       "L 2900 0 \n",
       "L 2900 538 \n",
       "Q 2691 219 2414 64 \n",
       "Q 2138 -91 1772 -91 \n",
       "Q 1169 -91 856 284 \n",
       "Q 544 659 544 1381 \n",
       "z\n",
       "M 1991 3584 \n",
       "L 1991 3584 \n",
       "z\n",
       "\" transform=\"scale(0.015625)\"/>\n",
       "      <path id=\"DejaVuSans-6c\" d=\"M 603 4863 \n",
       "L 1178 4863 \n",
       "L 1178 0 \n",
       "L 603 0 \n",
       "L 603 4863 \n",
       "z\n",
       "\" transform=\"scale(0.015625)\"/>\n",
       "      <path id=\"DejaVuSans-6f\" d=\"M 1959 3097 \n",
       "Q 1497 3097 1228 2736 \n",
       "Q 959 2375 959 1747 \n",
       "Q 959 1119 1226 758 \n",
       "Q 1494 397 1959 397 \n",
       "Q 2419 397 2687 759 \n",
       "Q 2956 1122 2956 1747 \n",
       "Q 2956 2369 2687 2733 \n",
       "Q 2419 3097 1959 3097 \n",
       "z\n",
       "M 1959 3584 \n",
       "Q 2709 3584 3137 3096 \n",
       "Q 3566 2609 3566 1747 \n",
       "Q 3566 888 3137 398 \n",
       "Q 2709 -91 1959 -91 \n",
       "Q 1206 -91 779 398 \n",
       "Q 353 888 353 1747 \n",
       "Q 353 2609 779 3096 \n",
       "Q 1206 3584 1959 3584 \n",
       "z\n",
       "\" transform=\"scale(0.015625)\"/>\n",
       "      <path id=\"DejaVuSans-76\" d=\"M 191 3500 \n",
       "L 800 3500 \n",
       "L 1894 563 \n",
       "L 2988 3500 \n",
       "L 3597 3500 \n",
       "L 2284 0 \n",
       "L 1503 0 \n",
       "L 191 3500 \n",
       "z\n",
       "\" transform=\"scale(0.015625)\"/>\n",
       "      <path id=\"DejaVuSans-65\" d=\"M 3597 1894 \n",
       "L 3597 1613 \n",
       "L 953 1613 \n",
       "Q 991 1019 1311 708 \n",
       "Q 1631 397 2203 397 \n",
       "Q 2534 397 2845 478 \n",
       "Q 3156 559 3463 722 \n",
       "L 3463 178 \n",
       "Q 3153 47 2828 -22 \n",
       "Q 2503 -91 2169 -91 \n",
       "Q 1331 -91 842 396 \n",
       "Q 353 884 353 1716 \n",
       "Q 353 2575 817 3079 \n",
       "Q 1281 3584 2069 3584 \n",
       "Q 2775 3584 3186 3129 \n",
       "Q 3597 2675 3597 1894 \n",
       "z\n",
       "M 3022 2063 \n",
       "Q 3016 2534 2758 2815 \n",
       "Q 2500 3097 2075 3097 \n",
       "Q 1594 3097 1305 2825 \n",
       "Q 1016 2553 972 2059 \n",
       "L 3022 2063 \n",
       "z\n",
       "\" transform=\"scale(0.015625)\"/>\n",
       "      <path id=\"DejaVuSans-72\" d=\"M 2631 2963 \n",
       "Q 2534 3019 2420 3045 \n",
       "Q 2306 3072 2169 3072 \n",
       "Q 1681 3072 1420 2755 \n",
       "Q 1159 2438 1159 1844 \n",
       "L 1159 0 \n",
       "L 581 0 \n",
       "L 581 3500 \n",
       "L 1159 3500 \n",
       "L 1159 2956 \n",
       "Q 1341 3275 1631 3429 \n",
       "Q 1922 3584 2338 3584 \n",
       "Q 2397 3584 2469 3576 \n",
       "Q 2541 3569 2628 3553 \n",
       "L 2631 2963 \n",
       "z\n",
       "\" transform=\"scale(0.015625)\"/>\n",
       "     </defs>\n",
       "     <use xlink:href=\"#DejaVuSans-50\"/>\n",
       "     <use xlink:href=\"#DejaVuSans-75\" x=\"58.552734\"/>\n",
       "     <use xlink:href=\"#DejaVuSans-6c\" x=\"121.931641\"/>\n",
       "     <use xlink:href=\"#DejaVuSans-6c\" x=\"149.714844\"/>\n",
       "     <use xlink:href=\"#DejaVuSans-6f\" x=\"177.498047\"/>\n",
       "     <use xlink:href=\"#DejaVuSans-76\" x=\"238.679688\"/>\n",
       "     <use xlink:href=\"#DejaVuSans-65\" x=\"297.859375\"/>\n",
       "     <use xlink:href=\"#DejaVuSans-72\" x=\"359.382812\"/>\n",
       "    </g>\n",
       "   </g>\n",
       "  </g>\n",
       "  <g id=\"axes_3\">\n",
       "   <g clip-path=\"url(#pee1e533f7d)\">\n",
       "    <image xlink:href=\"data:image/png;base64,\n",
       "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\" id=\"image8a2ad12a86\" transform=\"scale(1 -1)translate(0 -110.88)\" x=\"289.8\" y=\"-21.655516\" width=\"110.88\" height=\"110.88\"/>\n",
       "   </g>\n",
       "   <g id=\"text_3\">\n",
       "    <!-- Bag -->\n",
       "    <g transform=\"translate(333.306196 16.318125)scale(0.12 -0.12)\">\n",
       "     <use xlink:href=\"#DejaVuSans-42\"/>\n",
       "     <use xlink:href=\"#DejaVuSans-61\" x=\"68.603516\"/>\n",
       "     <use xlink:href=\"#DejaVuSans-67\" x=\"129.882812\"/>\n",
       "    </g>\n",
       "   </g>\n",
       "  </g>\n",
       "  <g id=\"axes_4\">\n",
       "   <g clip-path=\"url(#p53005282dc)\">\n",
       "    <image xlink:href=\"data:image/png;base64,\n",
       "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\" id=\"image5c462acb23\" transform=\"scale(1 -1)translate(0 -110.88)\" x=\"431.1\" y=\"-21.655516\" width=\"110.88\" height=\"110.88\"/>\n",
       "   </g>\n",
       "   <g id=\"text_4\">\n",
       "    <!-- Pullover -->\n",
       "    <g transform=\"translate(462.178696 16.318125)scale(0.12 -0.12)\">\n",
       "     <use xlink:href=\"#DejaVuSans-50\"/>\n",
       "     <use xlink:href=\"#DejaVuSans-75\" x=\"58.552734\"/>\n",
       "     <use xlink:href=\"#DejaVuSans-6c\" x=\"121.931641\"/>\n",
       "     <use xlink:href=\"#DejaVuSans-6c\" x=\"149.714844\"/>\n",
       "     <use xlink:href=\"#DejaVuSans-6f\" x=\"177.498047\"/>\n",
       "     <use xlink:href=\"#DejaVuSans-76\" x=\"238.679688\"/>\n",
       "     <use xlink:href=\"#DejaVuSans-65\" x=\"297.859375\"/>\n",
       "     <use xlink:href=\"#DejaVuSans-72\" x=\"359.382812\"/>\n",
       "    </g>\n",
       "   </g>\n",
       "  </g>\n",
       "  <g id=\"axes_5\">\n",
       "   <g clip-path=\"url(#p65c27daa5d)\">\n",
       "    <image xlink:href=\"data:image/png;base64,\n",
       "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\" id=\"image0e0d939241\" transform=\"scale(1 -1)translate(0 -110.88)\" x=\"7.2\" y=\"-153.556386\" width=\"110.88\" height=\"110.88\"/>\n",
       "   </g>\n",
       "   <g id=\"text_5\">\n",
       "    <!-- Sneaker -->\n",
       "    <g transform=\"translate(37.913071 148.218995)scale(0.12 -0.12)\">\n",
       "     <defs>\n",
       "      <path id=\"DejaVuSans-53\" d=\"M 3425 4513 \n",
       "L 3425 3897 \n",
       "Q 3066 4069 2747 4153 \n",
       "Q 2428 4238 2131 4238 \n",
       "Q 1616 4238 1336 4038 \n",
       "Q 1056 3838 1056 3469 \n",
       "Q 1056 3159 1242 3001 \n",
       "Q 1428 2844 1947 2747 \n",
       "L 2328 2669 \n",
       "Q 3034 2534 3370 2195 \n",
       "Q 3706 1856 3706 1288 \n",
       "Q 3706 609 3251 259 \n",
       "Q 2797 -91 1919 -91 \n",
       "Q 1588 -91 1214 -16 \n",
       "Q 841 59 441 206 \n",
       "L 441 856 \n",
       "Q 825 641 1194 531 \n",
       "Q 1563 422 1919 422 \n",
       "Q 2459 422 2753 634 \n",
       "Q 3047 847 3047 1241 \n",
       "Q 3047 1584 2836 1778 \n",
       "Q 2625 1972 2144 2069 \n",
       "L 1759 2144 \n",
       "Q 1053 2284 737 2584 \n",
       "Q 422 2884 422 3419 \n",
       "Q 422 4038 858 4394 \n",
       "Q 1294 4750 2059 4750 \n",
       "Q 2388 4750 2728 4690 \n",
       "Q 3069 4631 3425 4513 \n",
       "z\n",
       "\" transform=\"scale(0.015625)\"/>\n",
       "      <path id=\"DejaVuSans-6e\" d=\"M 3513 2113 \n",
       "L 3513 0 \n",
       "L 2938 0 \n",
       "L 2938 2094 \n",
       "Q 2938 2591 2744 2837 \n",
       "Q 2550 3084 2163 3084 \n",
       "Q 1697 3084 1428 2787 \n",
       "Q 1159 2491 1159 1978 \n",
       "L 1159 0 \n",
       "L 581 0 \n",
       "L 581 3500 \n",
       "L 1159 3500 \n",
       "L 1159 2956 \n",
       "Q 1366 3272 1645 3428 \n",
       "Q 1925 3584 2291 3584 \n",
       "Q 2894 3584 3203 3211 \n",
       "Q 3513 2838 3513 2113 \n",
       "z\n",
       "\" transform=\"scale(0.015625)\"/>\n",
       "      <path id=\"DejaVuSans-6b\" d=\"M 581 4863 \n",
       "L 1159 4863 \n",
       "L 1159 1991 \n",
       "L 2875 3500 \n",
       "L 3609 3500 \n",
       "L 1753 1863 \n",
       "L 3688 0 \n",
       "L 2938 0 \n",
       "L 1159 1709 \n",
       "L 1159 0 \n",
       "L 581 0 \n",
       "L 581 4863 \n",
       "z\n",
       "\" transform=\"scale(0.015625)\"/>\n",
       "     </defs>\n",
       "     <use xlink:href=\"#DejaVuSans-53\"/>\n",
       "     <use xlink:href=\"#DejaVuSans-6e\" x=\"63.476562\"/>\n",
       "     <use xlink:href=\"#DejaVuSans-65\" x=\"126.855469\"/>\n",
       "     <use xlink:href=\"#DejaVuSans-61\" x=\"188.378906\"/>\n",
       "     <use xlink:href=\"#DejaVuSans-6b\" x=\"249.658203\"/>\n",
       "     <use xlink:href=\"#DejaVuSans-65\" x=\"303.943359\"/>\n",
       "     <use xlink:href=\"#DejaVuSans-72\" x=\"365.466797\"/>\n",
       "    </g>\n",
       "   </g>\n",
       "  </g>\n",
       "  <g id=\"axes_6\">\n",
       "   <g clip-path=\"url(#p904cdcbc80)\">\n",
       "    <image xlink:href=\"data:image/png;base64,\n",
       "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\" id=\"image558f81698a\" transform=\"scale(1 -1)translate(0 -110.88)\" x=\"148.5\" y=\"-153.556386\" width=\"110.88\" height=\"110.88\"/>\n",
       "   </g>\n",
       "   <g id=\"text_6\">\n",
       "    <!-- Sandal -->\n",
       "    <g transform=\"translate(183.167446 148.218995)scale(0.12 -0.12)\">\n",
       "     <defs>\n",
       "      <path id=\"DejaVuSans-64\" d=\"M 2906 2969 \n",
       "L 2906 4863 \n",
       "L 3481 4863 \n",
       "L 3481 0 \n",
       "L 2906 0 \n",
       "L 2906 525 \n",
       "Q 2725 213 2448 61 \n",
       "Q 2172 -91 1784 -91 \n",
       "Q 1150 -91 751 415 \n",
       "Q 353 922 353 1747 \n",
       "Q 353 2572 751 3078 \n",
       "Q 1150 3584 1784 3584 \n",
       "Q 2172 3584 2448 3432 \n",
       "Q 2725 3281 2906 2969 \n",
       "z\n",
       "M 947 1747 \n",
       "Q 947 1113 1208 752 \n",
       "Q 1469 391 1925 391 \n",
       "Q 2381 391 2643 752 \n",
       "Q 2906 1113 2906 1747 \n",
       "Q 2906 2381 2643 2742 \n",
       "Q 2381 3103 1925 3103 \n",
       "Q 1469 3103 1208 2742 \n",
       "Q 947 2381 947 1747 \n",
       "z\n",
       "\" transform=\"scale(0.015625)\"/>\n",
       "     </defs>\n",
       "     <use xlink:href=\"#DejaVuSans-53\"/>\n",
       "     <use xlink:href=\"#DejaVuSans-61\" x=\"63.476562\"/>\n",
       "     <use xlink:href=\"#DejaVuSans-6e\" x=\"124.755859\"/>\n",
       "     <use xlink:href=\"#DejaVuSans-64\" x=\"188.134766\"/>\n",
       "     <use xlink:href=\"#DejaVuSans-61\" x=\"251.611328\"/>\n",
       "     <use xlink:href=\"#DejaVuSans-6c\" x=\"312.890625\"/>\n",
       "    </g>\n",
       "   </g>\n",
       "  </g>\n",
       "  <g id=\"axes_7\">\n",
       "   <g clip-path=\"url(#p66beccca7a)\">\n",
       "    <image xlink:href=\"data:image/png;base64,\n",
       "iVBORw0KGgoAAAANSUhEUgAAAJoAAACaCAYAAABR/1EXAAAH80lEQVR4nO2dy2pWSRSF96/xfr8rKkkMoihidCCIExGHjvI0Po0Txz6BI3HgzIEIippoVFTi/RJv0aQfoNbq/ovYqwf9fcPNTv11ThZFLfauOoOlpaWlAviXWfFfTwD+HyA0iIDQIAJCgwgIDSIgNIiA0CACQoMICA0iIDSIgNAgAkKDCAgNIiA0iIDQIAJCgwgIDSIgNIiA0CACQoMICA0ijNy8ebMJ3rhxQyavXbu2iX348EHmzs3NNbGVK1cOPbHFxUUZV2O4cX///t3EVq9evexxL1682MTWrVsnc+fn55vYxo0bZe7IyEgTW7Vq1dC5DvV7blz1zhYWFmTuly9fmtihQ4dkLisaREBoEAGhQQSEBhEQGkQYqLs3bt26JZMvX77cxJ49ezb0j/369UvGX79+3cR+/Pgx9Lju+pBt27Y1MeckVVy57CrttN2zDQaDJuZcp3qOFSv0WjA2NjbU37s5PH36VOZOTEw0MffOPn782MSOHTsmc1nRIAJCgwgIDSIgNIgg6xhnz56Vydu3b29irjyh4j9//pS5mzdvbmJuc61w5Sq1OVYb4ypd0lmzZo3MHR0dbWLOOKjfcxv8HlSpyKH+F65UpEp07v+mxj1y5IjMZUWDCAgNIiA0iIDQIAJCgwjDd8+VLgu5BjzVWOecpHKzzh2qMZwr6mkkVG7LuVnlMJ0LVHNw78E1ZSrU+3FlO1Xy2rJli8ydnZ1tYt+/f5e5qrn16NGjMpcVDSIgNIiA0CACQoMIXWZAbYLfvn0rczds2NDExsfHZe7Lly+bmNuAqk23Mw6qROLGVRtm14el3oPbXH/+/HnoOaj+OXXSqErPt8cMTE9Py9yenjjVj7Zz506Zy4oGERAaREBoEAGhQQSEBhG6XGfPfQ/KWTl3+OjRoya2Z88embt169Ympu63qNLlpk2bNslcVRZypSLlzNypIvUcblzlvl1jqSr/uJKZmptyjFVV586da2IvXryQuar050pxrGgQAaFBBIQGERAaROgyA/v27WtirpShyhZq019VNTU11cR27dolc9UmtudUkdusqo2tOwWlym7Xr1+XuWfOnGlirrSl+tGU+anSpSn3Hnp61969e9fEPn36JHPXr1/fxFxPHSsaREBoEAGhQQSEBhEQGkTocp3KLbmyh7qs7tSpUzJXXZ1+7949mavKYK5Mo5oRZ2ZmZO758+eb2OTkpMxVju3ChQsyd/fu3UP9fVXVtWvXmtirV69krnJ3qsmyyrtnhbpX5MGDBzL369evTUw1vFaxokEIhAYREBpEQGgQocsM9JQyDhw40MTc5W8PHz5sYupyvqqqb9++DZ2r+sbUSaMqbUhcn9uTJ0+amDsFpUzN3r17Za7a4Dujo+br+txUX547iaXKa6r0WKVLiu7KCVY0iIDQIAJCgwgIDSIgNIjQ5TqVI3EO6vDhw01MucsqXdpyblbde9FTelHNelVVt2/fbmL379+Xuar04k5XqWd2zYwK1ySp5uBQ7tu9B/UuVRmtqmr//v1NzJ10Y0WDCAgNIiA0iIDQIEKXGVAbXmcGVD+a64tSG39307bKdR9E7fmelCrJuPKP2vC6OfRc8KfG6HlnDvUenJlQ/WTu+gR1m7oqjVWxokEIhAYREBpEQGgQAaFBhGV/C6rne0nO6ShX5NyLuhvCNR0q59rzBWKHcofumvYed6gaH907cy53WFwJSrlv93XlHTt2NLGrV6/KXFY0iIDQIAJCgwgIDSJ0mQFVDnGXv7kSkpxEx8dTVS+XO3mjcCZDna7qOVXkykrqhJYzJAqXq4yD7QUT/yN3IaEat+d/efr0aT2HoUcAWAYIDSIgNIiA0CACQoMIXa5T4dyWwpWreq5vVw7VlWPU3JyDUrnuKnPl2HpcnHOzagz3blRTpnOd6tlcbs+lfeo5Tpw4IXNZ0SACQoMICA0iIDSI0GUG1EdO1Wmnqr6ykNqY9nzXyG3EezbBamPrxh12XlXaqLjeN/XOltt35sZwJq7HkKjrE8bHx2UuKxpEQGgQAaFBBIQGERAaRBhRZSHnMo4fP97E7ty5owcWzso5HVUW6ilt9Zw0cs+m3oNzncrFOXfY0+Q47G/9XXxYXClOnXhyd5C4r0QrWNEgAkKDCAgNIiA0iDDSs1m9dOlSE1O3WVdVvX//vom5Db46hu9ye070qHiPIem5JsGh5uv68tSm235bSYzrnk09hzr1VaXNgMs9ePCgjCtY0SACQoMICA0iIDSIgNAgwmBxcbGpZbjyhnI6jx8/lrlXrlxpYu7CPOWW1BeMq7SD6mmS7ClBOXpObalTUO63ehoU1Rju1JYaw13prr739ebNG5k7NTXVxCYmJmQuKxpEQGgQAaFBBIQGEUbUBrRns+tOvfRsKmdnZ5uYKktVVd29e7eJufmquLth2t1SPey4y+07c7hesPn5+aFzVXxyclLmKhM2Ojoqc93GX8GKBhEQGkRAaBABoUEEhAYRBgsLC43t/BMNfwp3Ad3MzEwTcyWS6enpJvb8+XOZOzc318SUw63SzX3K2VX1nUDqyVVuVn1vqUq7Q/VF4KqqsbGxJnby5EmZq9x3j7t0sKJBBIQGERAaREBoEGGw9CduegP4B1jRIAJCgwgIDSIgNIiA0CACQoMICA0iIDSIgNAgAkKDCAgNIiA0iIDQIAJCgwgIDSIgNIiA0CACQoMICA0iIDSIgNAgwl+sBrb3aK5chAAAAABJRU5ErkJggg==\" id=\"image73508224ca\" transform=\"scale(1 -1)translate(0 -110.88)\" x=\"289.8\" y=\"-153.556386\" width=\"110.88\" height=\"110.88\"/>\n",
       "   </g>\n",
       "   <g id=\"text_7\">\n",
       "    <!-- Bag -->\n",
       "    <g transform=\"translate(333.306196 148.218995)scale(0.12 -0.12)\">\n",
       "     <use xlink:href=\"#DejaVuSans-42\"/>\n",
       "     <use xlink:href=\"#DejaVuSans-61\" x=\"68.603516\"/>\n",
       "     <use xlink:href=\"#DejaVuSans-67\" x=\"129.882812\"/>\n",
       "    </g>\n",
       "   </g>\n",
       "  </g>\n",
       "  <g id=\"axes_8\">\n",
       "   <g clip-path=\"url(#p2f10973bdd)\">\n",
       "    <image xlink:href=\"data:image/png;base64,\n",
       "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\" id=\"imageab1af595b1\" transform=\"scale(1 -1)translate(0 -110.88)\" x=\"431.1\" y=\"-153.556386\" width=\"110.88\" height=\"110.88\"/>\n",
       "   </g>\n",
       "   <g id=\"text_8\">\n",
       "    <!-- Dress -->\n",
       "    <g transform=\"translate(469.314008 148.218995)scale(0.12 -0.12)\">\n",
       "     <defs>\n",
       "      <path id=\"DejaVuSans-44\" d=\"M 1259 4147 \n",
       "L 1259 519 \n",
       "L 2022 519 \n",
       "Q 2988 519 3436 956 \n",
       "Q 3884 1394 3884 2338 \n",
       "Q 3884 3275 3436 3711 \n",
       "Q 2988 4147 2022 4147 \n",
       "L 1259 4147 \n",
       "z\n",
       "M 628 4666 \n",
       "L 1925 4666 \n",
       "Q 3281 4666 3915 4102 \n",
       "Q 4550 3538 4550 2338 \n",
       "Q 4550 1131 3912 565 \n",
       "Q 3275 0 1925 0 \n",
       "L 628 0 \n",
       "L 628 4666 \n",
       "z\n",
       "\" transform=\"scale(0.015625)\"/>\n",
       "      <path id=\"DejaVuSans-73\" d=\"M 2834 3397 \n",
       "L 2834 2853 \n",
       "Q 2591 2978 2328 3040 \n",
       "Q 2066 3103 1784 3103 \n",
       "Q 1356 3103 1142 2972 \n",
       "Q 928 2841 928 2578 \n",
       "Q 928 2378 1081 2264 \n",
       "Q 1234 2150 1697 2047 \n",
       "L 1894 2003 \n",
       "Q 2506 1872 2764 1633 \n",
       "Q 3022 1394 3022 966 \n",
       "Q 3022 478 2636 193 \n",
       "Q 2250 -91 1575 -91 \n",
       "Q 1294 -91 989 -36 \n",
       "Q 684 19 347 128 \n",
       "L 347 722 \n",
       "Q 666 556 975 473 \n",
       "Q 1284 391 1588 391 \n",
       "Q 1994 391 2212 530 \n",
       "Q 2431 669 2431 922 \n",
       "Q 2431 1156 2273 1281 \n",
       "Q 2116 1406 1581 1522 \n",
       "L 1381 1569 \n",
       "Q 847 1681 609 1914 \n",
       "Q 372 2147 372 2553 \n",
       "Q 372 3047 722 3315 \n",
       "Q 1072 3584 1716 3584 \n",
       "Q 2034 3584 2315 3537 \n",
       "Q 2597 3491 2834 3397 \n",
       "z\n",
       "\" transform=\"scale(0.015625)\"/>\n",
       "     </defs>\n",
       "     <use xlink:href=\"#DejaVuSans-44\"/>\n",
       "     <use xlink:href=\"#DejaVuSans-72\" x=\"77.001953\"/>\n",
       "     <use xlink:href=\"#DejaVuSans-65\" x=\"115.865234\"/>\n",
       "     <use xlink:href=\"#DejaVuSans-73\" x=\"177.388672\"/>\n",
       "     <use xlink:href=\"#DejaVuSans-73\" x=\"229.488281\"/>\n",
       "    </g>\n",
       "   </g>\n",
       "  </g>\n",
       " </g>\n",
       " <defs>\n",
       "  <clipPath id=\"p9b75208869\">\n",
       "   <rect x=\"7.2\" y=\"22.318125\" width=\"110.217391\" height=\"110.217391\"/>\n",
       "  </clipPath>\n",
       "  <clipPath id=\"p147db536c5\">\n",
       "   <rect x=\"148.5\" y=\"22.318125\" width=\"110.217391\" height=\"110.217391\"/>\n",
       "  </clipPath>\n",
       "  <clipPath id=\"pee1e533f7d\">\n",
       "   <rect x=\"289.8\" y=\"22.318125\" width=\"110.217391\" height=\"110.217391\"/>\n",
       "  </clipPath>\n",
       "  <clipPath id=\"p53005282dc\">\n",
       "   <rect x=\"431.1\" y=\"22.318125\" width=\"110.217391\" height=\"110.217391\"/>\n",
       "  </clipPath>\n",
       "  <clipPath id=\"p65c27daa5d\">\n",
       "   <rect x=\"7.2\" y=\"154.218995\" width=\"110.217391\" height=\"110.217391\"/>\n",
       "  </clipPath>\n",
       "  <clipPath id=\"p904cdcbc80\">\n",
       "   <rect x=\"148.5\" y=\"154.218995\" width=\"110.217391\" height=\"110.217391\"/>\n",
       "  </clipPath>\n",
       "  <clipPath id=\"p66beccca7a\">\n",
       "   <rect x=\"289.8\" y=\"154.218995\" width=\"110.217391\" height=\"110.217391\"/>\n",
       "  </clipPath>\n",
       "  <clipPath id=\"p2f10973bdd\">\n",
       "   <rect x=\"431.1\" y=\"154.218995\" width=\"110.217391\" height=\"110.217391\"/>\n",
       "  </clipPath>\n",
       " </defs>\n",
       "</svg>\n"
      ],
      "text/plain": [
       "<Figure size 800x400 with 8 Axes>"
      ]
     },
     "metadata": {},
     "output_type": "display_data"
    }
   ],
   "source": [
    "fig,axes = plt.subplots(2,4,figsize = (8,4))\n",
    "\n",
    "images,labels = next(iter(train_loader))\n",
    "\n",
    "\n",
    "for i,ax in enumerate(axes.flat):\n",
    "    img = images[i].reshape(28,28)\n",
    "    ax.imshow(img,cmap = 'binary')\n",
    "    ax.axis('off')\n",
    "    ax.set_title(f'{class_labels[labels[i]]}')\n",
    "\n",
    "plt.tight_layout(rect=[0,0,1,0.96])\n",
    "plt.show()"
   ]
  },
  {
   "cell_type": "markdown",
   "id": "eddd1ad6",
   "metadata": {},
   "source": [
    "**Defining Optuna Objective function**"
   ]
  },
  {
   "cell_type": "code",
   "execution_count": 5,
   "id": "383fdd0f",
   "metadata": {},
   "outputs": [],
   "source": [
    "class FMNIST_NET(nn.Module):\n",
    "    def __init__(self,input_dim,output_dim,num_hidden_layers,neurons_per_layer,p_dropout = 0.3):\n",
    "        super().__init__()\n",
    "        layers = []\n",
    "        for i in range(num_hidden_layers):\n",
    "            layers.append(nn.Linear(input_dim,neurons_per_layer))\n",
    "            layers.append(nn.BatchNorm1d(neurons_per_layer))\n",
    "            layers.append(nn.ReLU())\n",
    "            layers.append(nn.Dropout(p_dropout))\n",
    "            input_dim = neurons_per_layer  \n",
    "        \n",
    "        layers.append(nn.Linear(neurons_per_layer,output_dim))\n",
    "        self.model = nn.Sequential(*layers) # nn.Sequential needs individual layers, hence we unpack the list using `*`\n",
    "        \n",
    "    def forward(self,x):\n",
    "        return self.model(x)\n",
    "\n",
    "# from torchinfo import summary\n",
    "# demo_model = FMNIST_NET(784,10,5,16)\n",
    "# summary(demo_model)"
   ]
  },
  {
   "cell_type": "code",
   "execution_count": 6,
   "id": "4c86c36b",
   "metadata": {},
   "outputs": [
    {
     "name": "stdout",
     "output_type": "stream",
     "text": [
      "Using device: cpu\n"
     ]
    }
   ],
   "source": [
    "device = tr.device('cuda' if tr.cuda.is_available() else 'cpu')\n",
    "print(f'Using device: {device}')"
   ]
  },
  {
   "cell_type": "code",
   "execution_count": 7,
   "id": "eb04337e",
   "metadata": {},
   "outputs": [],
   "source": [
    "def objective(trial: optuna.trial):\n",
    "    # next hyperparams values from search space\n",
    "    num_hidden_layers = trial.suggest_int('num_hidden_layers',1,5)\n",
    "    neurons_per_layer = trial.suggest_int(\"neurons_per_layer\",8,128,step = 8)\n",
    "    p_dropout = trial.suggest_float('dropout_rate',0.1,0.5,step = 0.1)\n",
    "\n",
    "\n",
    "    # handling batch-size\n",
    "    BATCH_SIZE = trial.suggest_categorical('batch_size',[16,32,64,128])\n",
    "    train_loader = DataLoader(train_dataset,batch_size= BATCH_SIZE, shuffle = True)\n",
    "    test_loader = DataLoader(test_dataset,batch_size= BATCH_SIZE, shuffle = False)\n",
    "\n",
    "    # model initialization\n",
    "    input_dim = 784\n",
    "    output_dim = 10\n",
    "\n",
    "    model = FMNIST_NET(input_dim = input_dim,\n",
    "                       output_dim = output_dim,\n",
    "                       num_hidden_layers = num_hidden_layers,\n",
    "                       neurons_per_layer = neurons_per_layer,\n",
    "                       p_dropout = p_dropout)\n",
    "    \n",
    "    ### add model to GPU if available\n",
    "    model.to(device)\n",
    "\n",
    "    # other parameters initialization\n",
    "    learning_rate = trial.suggest_float('learning_rate',1e-5,1e-1,log = True)\n",
    "    epochs = trial.suggest_int(\"epochs\",10,50,step = 10)\n",
    "\n",
    "    # loss and optimizer selection\n",
    "    loss_fn = nn.CrossEntropyLoss()\n",
    "    weight_decay = trial.suggest_float('weight_decay',1e-5,1e-3,log = True)\n",
    "    optimizer_name = trial.suggest_categorical('optimizer',['Adam','SGD','RMSProp'])\n",
    "    \n",
    "    match optimizer_name:\n",
    "        case 'Adam':\n",
    "            optimizer = tr.optim.Adam(model.parameters(),lr = learning_rate, weight_decay=weight_decay)\n",
    "        case 'SGD':\n",
    "            optimizer = tr.optim.SGD(model.parameters(),lr = learning_rate)\n",
    "        case 'RMSProp':\n",
    "            optimizer = tr.optim.RMSprop(model.parameters(),lr = learning_rate, weight_decay=weight_decay)\n",
    "        case _:\n",
    "            optimizer = tr.optim.Adam(model.parameters(),lr = learning_rate, weight_decay=weight_decay)\n",
    "\n",
    "\n",
    "    # training loop  \n",
    "    for epochi in range(epochs):\n",
    "        model.train()\n",
    "        for X_batch,y_batch in train_loader:\n",
    "            # moving data to device (GPU)\n",
    "            X_batch,y_batch = X_batch.to(device),y_batch.to(device)\n",
    "            \n",
    "            # forward pass\n",
    "            y_pred = model(X_batch)\n",
    "\n",
    "            # loss calculation\n",
    "            loss = loss_fn(y_pred,y_batch)\n",
    "\n",
    "            # backward pass\n",
    "            optimizer.zero_grad()\n",
    "            loss.backward()\n",
    "\n",
    "            # upgrade parameters\n",
    "            optimizer.step()\n",
    "\n",
    "        \n",
    "        # perform validation\n",
    "        model.eval()\n",
    "        val_correct = 0\n",
    "        val_total = 0\n",
    "\n",
    "        with tr.no_grad(): # disable gradient tracking\n",
    "            for X_val,y_val in test_loader:\n",
    "                # moving data to device(GPU)\n",
    "                X_val,y_val = X_val.to(device),y_val.to(device)\n",
    "                \n",
    "                y_pred = model(X_val)\n",
    "                preds = tr.argmax(y_pred,dim=1)\n",
    "                val_correct += (preds == y_val).sum().item()\n",
    "                val_total += y_val.size(0)\n",
    "        accuracy = (val_correct / val_total)*100\n",
    "\n",
    "    # return parameter to be optimized\n",
    "    return accuracy"
   ]
  },
  {
   "cell_type": "code",
   "execution_count": 8,
   "id": "9ab5250f",
   "metadata": {},
   "outputs": [
    {
     "name": "stderr",
     "output_type": "stream",
     "text": [
      "[I 2025-05-29 11:43:46,737] A new study created in memory with name: no-name-4074ddcf-29f4-4b30-bdb7-437ca2aaaafe\n",
      "[I 2025-05-29 11:43:50,337] Trial 0 finished with value: 62.083333333333336 and parameters: {'num_hidden_layers': 5, 'neurons_per_layer': 104, 'dropout_rate': 0.4, 'batch_size': 64, 'learning_rate': 0.005100990188563874, 'epochs': 10, 'weight_decay': 0.0006030572806877948, 'optimizer': 'SGD'}. Best is trial 0 with value: 62.083333333333336.\n",
      "[I 2025-05-29 11:44:04,549] Trial 1 finished with value: 46.58333333333333 and parameters: {'num_hidden_layers': 3, 'neurons_per_layer': 32, 'dropout_rate': 0.1, 'batch_size': 32, 'learning_rate': 1.9860708707177768e-05, 'epochs': 50, 'weight_decay': 1.7267872859730894e-05, 'optimizer': 'SGD'}. Best is trial 0 with value: 62.083333333333336.\n",
      "[I 2025-05-29 11:44:18,713] Trial 2 finished with value: 83.25 and parameters: {'num_hidden_layers': 4, 'neurons_per_layer': 72, 'dropout_rate': 0.1, 'batch_size': 32, 'learning_rate': 0.009696413197862666, 'epochs': 40, 'weight_decay': 0.0002003891046446997, 'optimizer': 'SGD'}. Best is trial 2 with value: 83.25.\n",
      "[I 2025-05-29 11:44:40,229] Trial 3 finished with value: 82.25 and parameters: {'num_hidden_layers': 3, 'neurons_per_layer': 112, 'dropout_rate': 0.4, 'batch_size': 16, 'learning_rate': 0.001571749776249777, 'epochs': 30, 'weight_decay': 0.0002675833225815239, 'optimizer': 'RMSProp'}. Best is trial 2 with value: 83.25.\n",
      "[I 2025-05-29 11:44:47,923] Trial 4 finished with value: 83.75 and parameters: {'num_hidden_layers': 5, 'neurons_per_layer': 112, 'dropout_rate': 0.30000000000000004, 'batch_size': 32, 'learning_rate': 0.0006379538142827019, 'epochs': 10, 'weight_decay': 5.8718414537544966e-05, 'optimizer': 'Adam'}. Best is trial 4 with value: 83.75.\n",
      "[I 2025-05-29 11:44:59,293] Trial 5 finished with value: 72.58333333333333 and parameters: {'num_hidden_layers': 5, 'neurons_per_layer': 88, 'dropout_rate': 0.30000000000000004, 'batch_size': 128, 'learning_rate': 0.02264213245096893, 'epochs': 50, 'weight_decay': 0.0004932668772810958, 'optimizer': 'Adam'}. Best is trial 4 with value: 83.75.\n",
      "[I 2025-05-29 11:45:05,185] Trial 6 finished with value: 81.41666666666667 and parameters: {'num_hidden_layers': 3, 'neurons_per_layer': 128, 'dropout_rate': 0.1, 'batch_size': 16, 'learning_rate': 0.0726475000829205, 'epochs': 10, 'weight_decay': 4.417361247719773e-05, 'optimizer': 'SGD'}. Best is trial 4 with value: 83.75.\n",
      "[I 2025-05-29 11:45:14,406] Trial 7 finished with value: 84.5 and parameters: {'num_hidden_layers': 3, 'neurons_per_layer': 88, 'dropout_rate': 0.2, 'batch_size': 128, 'learning_rate': 0.0019110286305313027, 'epochs': 50, 'weight_decay': 0.00012039528848626058, 'optimizer': 'Adam'}. Best is trial 7 with value: 84.5.\n",
      "[I 2025-05-29 11:45:30,297] Trial 8 finished with value: 83.66666666666667 and parameters: {'num_hidden_layers': 1, 'neurons_per_layer': 120, 'dropout_rate': 0.4, 'batch_size': 16, 'learning_rate': 0.00012163946485690261, 'epochs': 30, 'weight_decay': 0.0006924466498844899, 'optimizer': 'RMSProp'}. Best is trial 7 with value: 84.5.\n",
      "[I 2025-05-29 11:45:34,662] Trial 9 finished with value: 15.833333333333332 and parameters: {'num_hidden_layers': 4, 'neurons_per_layer': 64, 'dropout_rate': 0.5, 'batch_size': 64, 'learning_rate': 7.598827625271952e-05, 'epochs': 20, 'weight_decay': 0.0009174670220593022, 'optimizer': 'SGD'}. Best is trial 7 with value: 84.5.\n",
      "[I 2025-05-29 11:45:39,439] Trial 10 finished with value: 76.08333333333334 and parameters: {'num_hidden_layers': 1, 'neurons_per_layer': 8, 'dropout_rate': 0.2, 'batch_size': 128, 'learning_rate': 0.0005223371831123543, 'epochs': 40, 'weight_decay': 0.00011267708093824678, 'optimizer': 'Adam'}. Best is trial 7 with value: 84.5.\n",
      "[I 2025-05-29 11:45:47,398] Trial 11 finished with value: 83.75 and parameters: {'num_hidden_layers': 2, 'neurons_per_layer': 88, 'dropout_rate': 0.2, 'batch_size': 32, 'learning_rate': 0.0007397601677843805, 'epochs': 20, 'weight_decay': 4.584268787355865e-05, 'optimizer': 'Adam'}. Best is trial 7 with value: 84.5.\n",
      "[I 2025-05-29 11:45:51,078] Trial 12 finished with value: 82.33333333333334 and parameters: {'num_hidden_layers': 4, 'neurons_per_layer': 56, 'dropout_rate': 0.30000000000000004, 'batch_size': 128, 'learning_rate': 0.0024602413983781995, 'epochs': 20, 'weight_decay': 5.0280778428755706e-05, 'optimizer': 'Adam'}. Best is trial 7 with value: 84.5.\n",
      "[I 2025-05-29 11:45:57,795] Trial 13 finished with value: 83.83333333333334 and parameters: {'num_hidden_layers': 2, 'neurons_per_layer': 96, 'dropout_rate': 0.2, 'batch_size': 128, 'learning_rate': 0.0001902712069056088, 'epochs': 40, 'weight_decay': 1.0695476345287184e-05, 'optimizer': 'Adam'}. Best is trial 7 with value: 84.5.\n",
      "[I 2025-05-29 11:46:03,916] Trial 14 finished with value: 82.08333333333333 and parameters: {'num_hidden_layers': 2, 'neurons_per_layer': 88, 'dropout_rate': 0.2, 'batch_size': 128, 'learning_rate': 9.047445070254732e-05, 'epochs': 40, 'weight_decay': 2.2964810673419587e-05, 'optimizer': 'Adam'}. Best is trial 7 with value: 84.5.\n",
      "[I 2025-05-29 11:46:10,885] Trial 15 finished with value: 82.66666666666667 and parameters: {'num_hidden_layers': 2, 'neurons_per_layer': 48, 'dropout_rate': 0.2, 'batch_size': 128, 'learning_rate': 0.00025476220795954977, 'epochs': 50, 'weight_decay': 1.2094978678250213e-05, 'optimizer': 'Adam'}. Best is trial 7 with value: 84.5.\n",
      "[I 2025-05-29 11:46:17,350] Trial 16 finished with value: 83.41666666666666 and parameters: {'num_hidden_layers': 2, 'neurons_per_layer': 96, 'dropout_rate': 0.2, 'batch_size': 128, 'learning_rate': 0.0043321695035891845, 'epochs': 40, 'weight_decay': 0.00011139959662371032, 'optimizer': 'Adam'}. Best is trial 7 with value: 84.5.\n",
      "[I 2025-05-29 11:46:23,866] Trial 17 finished with value: 80.91666666666667 and parameters: {'num_hidden_layers': 1, 'neurons_per_layer': 72, 'dropout_rate': 0.1, 'batch_size': 128, 'learning_rate': 2.163872549261281e-05, 'epochs': 50, 'weight_decay': 0.00020443510150137817, 'optimizer': 'RMSProp'}. Best is trial 7 with value: 84.5.\n",
      "[I 2025-05-29 11:46:29,888] Trial 18 finished with value: 82.16666666666667 and parameters: {'num_hidden_layers': 2, 'neurons_per_layer': 40, 'dropout_rate': 0.2, 'batch_size': 128, 'learning_rate': 0.0002617809684685859, 'epochs': 40, 'weight_decay': 3.0442008652608602e-05, 'optimizer': 'Adam'}. Best is trial 7 with value: 84.5.\n",
      "[I 2025-05-29 11:46:43,598] Trial 19 finished with value: 80.5 and parameters: {'num_hidden_layers': 3, 'neurons_per_layer': 80, 'dropout_rate': 0.30000000000000004, 'batch_size': 64, 'learning_rate': 0.019415699317830708, 'epochs': 50, 'weight_decay': 1.149348088047172e-05, 'optimizer': 'Adam'}. Best is trial 7 with value: 84.5.\n",
      "[I 2025-05-29 11:46:48,781] Trial 20 finished with value: 74.58333333333333 and parameters: {'num_hidden_layers': 3, 'neurons_per_layer': 104, 'dropout_rate': 0.5, 'batch_size': 128, 'learning_rate': 3.520663293231582e-05, 'epochs': 30, 'weight_decay': 9.140754206228326e-05, 'optimizer': 'RMSProp'}. Best is trial 7 with value: 84.5.\n",
      "[I 2025-05-29 11:46:54,863] Trial 21 finished with value: 82.16666666666667 and parameters: {'num_hidden_layers': 4, 'neurons_per_layer': 112, 'dropout_rate': 0.30000000000000004, 'batch_size': 32, 'learning_rate': 0.00046290239796682167, 'epochs': 10, 'weight_decay': 7.479489631463367e-05, 'optimizer': 'Adam'}. Best is trial 7 with value: 84.5.\n",
      "[I 2025-05-29 11:47:19,994] Trial 22 finished with value: 83.08333333333333 and parameters: {'num_hidden_layers': 5, 'neurons_per_layer': 128, 'dropout_rate': 0.30000000000000004, 'batch_size': 32, 'learning_rate': 0.0012757896201358236, 'epochs': 40, 'weight_decay': 0.0001659374738876341, 'optimizer': 'Adam'}. Best is trial 7 with value: 84.5.\n",
      "[I 2025-05-29 11:47:30,579] Trial 23 finished with value: 84.08333333333333 and parameters: {'num_hidden_layers': 4, 'neurons_per_layer': 104, 'dropout_rate': 0.2, 'batch_size': 32, 'learning_rate': 0.00037465546882200145, 'epochs': 20, 'weight_decay': 6.204684057371488e-05, 'optimizer': 'Adam'}. Best is trial 7 with value: 84.5.\n",
      "[I 2025-05-29 11:47:34,699] Trial 24 finished with value: 84.41666666666666 and parameters: {'num_hidden_layers': 4, 'neurons_per_layer': 104, 'dropout_rate': 0.2, 'batch_size': 128, 'learning_rate': 0.00019989475930067544, 'epochs': 20, 'weight_decay': 0.00031414855097441387, 'optimizer': 'Adam'}. Best is trial 7 with value: 84.5.\n",
      "[I 2025-05-29 11:47:45,105] Trial 25 finished with value: 81.41666666666667 and parameters: {'num_hidden_layers': 4, 'neurons_per_layer': 96, 'dropout_rate': 0.1, 'batch_size': 32, 'learning_rate': 0.0021495967704226824, 'epochs': 20, 'weight_decay': 0.0003646064116017021, 'optimizer': 'Adam'}. Best is trial 7 with value: 84.5.\n",
      "[I 2025-05-29 11:47:51,106] Trial 26 finished with value: 81.0 and parameters: {'num_hidden_layers': 4, 'neurons_per_layer': 80, 'dropout_rate': 0.2, 'batch_size': 64, 'learning_rate': 5.208430975733577e-05, 'epochs': 20, 'weight_decay': 0.0003360937164140219, 'optimizer': 'Adam'}. Best is trial 7 with value: 84.5.\n",
      "[I 2025-05-29 11:48:17,483] Trial 27 finished with value: 84.25 and parameters: {'num_hidden_layers': 3, 'neurons_per_layer': 104, 'dropout_rate': 0.2, 'batch_size': 16, 'learning_rate': 0.0002881825011836019, 'epochs': 30, 'weight_decay': 0.00011413557089106621, 'optimizer': 'Adam'}. Best is trial 7 with value: 84.5.\n",
      "[I 2025-05-29 11:48:41,233] Trial 28 finished with value: 84.75 and parameters: {'num_hidden_layers': 3, 'neurons_per_layer': 120, 'dropout_rate': 0.1, 'batch_size': 16, 'learning_rate': 0.00015050344330720008, 'epochs': 30, 'weight_decay': 0.00015348015683398566, 'optimizer': 'RMSProp'}. Best is trial 28 with value: 84.75.\n",
      "[I 2025-05-29 11:49:05,426] Trial 29 finished with value: 82.08333333333333 and parameters: {'num_hidden_layers': 3, 'neurons_per_layer': 120, 'dropout_rate': 0.1, 'batch_size': 16, 'learning_rate': 0.003911426777511212, 'epochs': 30, 'weight_decay': 0.00014911935711649018, 'optimizer': 'RMSProp'}. Best is trial 28 with value: 84.75.\n",
      "[I 2025-05-29 11:49:29,860] Trial 30 finished with value: 85.5 and parameters: {'num_hidden_layers': 3, 'neurons_per_layer': 120, 'dropout_rate': 0.1, 'batch_size': 16, 'learning_rate': 0.00015335460642411939, 'epochs': 30, 'weight_decay': 0.000474271322805089, 'optimizer': 'RMSProp'}. Best is trial 30 with value: 85.5.\n",
      "[I 2025-05-29 11:49:55,434] Trial 31 finished with value: 81.91666666666667 and parameters: {'num_hidden_layers': 3, 'neurons_per_layer': 120, 'dropout_rate': 0.1, 'batch_size': 16, 'learning_rate': 1.110376978598369e-05, 'epochs': 30, 'weight_decay': 0.0004458520025100744, 'optimizer': 'RMSProp'}. Best is trial 30 with value: 85.5.\n",
      "[I 2025-05-29 11:50:19,910] Trial 32 finished with value: 83.66666666666667 and parameters: {'num_hidden_layers': 3, 'neurons_per_layer': 128, 'dropout_rate': 0.1, 'batch_size': 16, 'learning_rate': 0.00013352630362784012, 'epochs': 30, 'weight_decay': 0.00027132936748607814, 'optimizer': 'RMSProp'}. Best is trial 30 with value: 85.5.\n",
      "[I 2025-05-29 11:50:44,292] Trial 33 finished with value: 84.83333333333334 and parameters: {'num_hidden_layers': 3, 'neurons_per_layer': 112, 'dropout_rate': 0.1, 'batch_size': 16, 'learning_rate': 5.0611394602106545e-05, 'epochs': 30, 'weight_decay': 0.0006881625028625726, 'optimizer': 'RMSProp'}. Best is trial 30 with value: 85.5.\n",
      "[I 2025-05-29 11:51:07,650] Trial 34 finished with value: 84.83333333333334 and parameters: {'num_hidden_layers': 3, 'neurons_per_layer': 120, 'dropout_rate': 0.1, 'batch_size': 16, 'learning_rate': 3.6220252965558876e-05, 'epochs': 30, 'weight_decay': 0.0006656089257060337, 'optimizer': 'RMSProp'}. Best is trial 30 with value: 85.5.\n",
      "[I 2025-05-29 11:51:31,776] Trial 35 finished with value: 85.91666666666666 and parameters: {'num_hidden_layers': 3, 'neurons_per_layer': 120, 'dropout_rate': 0.1, 'batch_size': 16, 'learning_rate': 3.479474879252498e-05, 'epochs': 30, 'weight_decay': 0.0008577872009375, 'optimizer': 'RMSProp'}. Best is trial 35 with value: 85.91666666666666.\n",
      "[I 2025-05-29 11:51:51,250] Trial 36 finished with value: 83.5 and parameters: {'num_hidden_layers': 2, 'neurons_per_layer': 112, 'dropout_rate': 0.1, 'batch_size': 16, 'learning_rate': 2.9404095527833733e-05, 'epochs': 30, 'weight_decay': 0.00094095705324019, 'optimizer': 'RMSProp'}. Best is trial 35 with value: 85.91666666666666.\n",
      "[I 2025-05-29 11:52:14,673] Trial 37 finished with value: 82.25 and parameters: {'num_hidden_layers': 3, 'neurons_per_layer': 128, 'dropout_rate': 0.1, 'batch_size': 16, 'learning_rate': 1.1950548462899992e-05, 'epochs': 30, 'weight_decay': 0.0006554424691858177, 'optimizer': 'RMSProp'}. Best is trial 35 with value: 85.91666666666666.\n",
      "[I 2025-05-29 11:52:37,348] Trial 38 finished with value: 83.83333333333334 and parameters: {'num_hidden_layers': 3, 'neurons_per_layer': 112, 'dropout_rate': 0.1, 'batch_size': 16, 'learning_rate': 4.8620371257514394e-05, 'epochs': 30, 'weight_decay': 0.0004833915256556394, 'optimizer': 'RMSProp'}. Best is trial 35 with value: 85.91666666666666.\n",
      "[I 2025-05-29 11:52:55,881] Trial 39 finished with value: 76.33333333333333 and parameters: {'num_hidden_layers': 3, 'neurons_per_layer': 24, 'dropout_rate': 0.1, 'batch_size': 16, 'learning_rate': 1.9123060851291802e-05, 'epochs': 30, 'weight_decay': 0.0007613554698886802, 'optimizer': 'RMSProp'}. Best is trial 35 with value: 85.91666666666666.\n",
      "[I 2025-05-29 11:53:17,093] Trial 40 finished with value: 74.08333333333333 and parameters: {'num_hidden_layers': 3, 'neurons_per_layer': 120, 'dropout_rate': 0.1, 'batch_size': 16, 'learning_rate': 6.987056210679689e-05, 'epochs': 40, 'weight_decay': 0.0005571718181379366, 'optimizer': 'SGD'}. Best is trial 35 with value: 85.91666666666666.\n",
      "[I 2025-05-29 11:53:39,361] Trial 41 finished with value: 83.0 and parameters: {'num_hidden_layers': 3, 'neurons_per_layer': 120, 'dropout_rate': 0.1, 'batch_size': 16, 'learning_rate': 0.00011939965426894092, 'epochs': 30, 'weight_decay': 0.0007533931873569096, 'optimizer': 'RMSProp'}. Best is trial 35 with value: 85.91666666666666.\n",
      "[I 2025-05-29 11:54:02,319] Trial 42 finished with value: 84.16666666666667 and parameters: {'num_hidden_layers': 3, 'neurons_per_layer': 128, 'dropout_rate': 0.1, 'batch_size': 16, 'learning_rate': 4.1877331510834896e-05, 'epochs': 30, 'weight_decay': 0.0004121644255438535, 'optimizer': 'RMSProp'}. Best is trial 35 with value: 85.91666666666666.\n",
      "[I 2025-05-29 11:54:28,869] Trial 43 finished with value: 85.0 and parameters: {'num_hidden_layers': 3, 'neurons_per_layer': 112, 'dropout_rate': 0.1, 'batch_size': 16, 'learning_rate': 2.390330078323597e-05, 'epochs': 30, 'weight_decay': 0.000564202750805794, 'optimizer': 'RMSProp'}. Best is trial 35 with value: 85.91666666666666.\n",
      "[I 2025-05-29 11:54:50,078] Trial 44 finished with value: 83.58333333333333 and parameters: {'num_hidden_layers': 2, 'neurons_per_layer': 112, 'dropout_rate': 0.1, 'batch_size': 16, 'learning_rate': 2.0040668531992272e-05, 'epochs': 30, 'weight_decay': 0.0005856060447330134, 'optimizer': 'RMSProp'}. Best is trial 35 with value: 85.91666666666666.\n",
      "[I 2025-05-29 11:55:06,515] Trial 45 finished with value: 83.16666666666667 and parameters: {'num_hidden_layers': 3, 'neurons_per_layer': 104, 'dropout_rate': 0.1, 'batch_size': 16, 'learning_rate': 2.612835183017675e-05, 'epochs': 20, 'weight_decay': 0.0009571948007830283, 'optimizer': 'RMSProp'}. Best is trial 35 with value: 85.91666666666666.\n",
      "[I 2025-05-29 11:55:24,360] Trial 46 finished with value: 85.5 and parameters: {'num_hidden_layers': 4, 'neurons_per_layer': 112, 'dropout_rate': 0.1, 'batch_size': 16, 'learning_rate': 6.669238216103824e-05, 'epochs': 20, 'weight_decay': 0.000778259660661666, 'optimizer': 'RMSProp'}. Best is trial 35 with value: 85.91666666666666.\n",
      "[I 2025-05-29 11:55:31,439] Trial 47 finished with value: 53.583333333333336 and parameters: {'num_hidden_layers': 5, 'neurons_per_layer': 96, 'dropout_rate': 0.1, 'batch_size': 16, 'learning_rate': 6.625963744085291e-05, 'epochs': 10, 'weight_decay': 0.000539256460634418, 'optimizer': 'SGD'}. Best is trial 35 with value: 85.91666666666666.\n",
      "[I 2025-05-29 11:55:36,972] Trial 48 finished with value: 84.83333333333334 and parameters: {'num_hidden_layers': 4, 'neurons_per_layer': 112, 'dropout_rate': 0.1, 'batch_size': 64, 'learning_rate': 9.857550141699971e-05, 'epochs': 20, 'weight_decay': 0.0008083603457803395, 'optimizer': 'RMSProp'}. Best is trial 35 with value: 85.91666666666666.\n",
      "[I 2025-05-29 11:55:56,723] Trial 49 finished with value: 19.583333333333332 and parameters: {'num_hidden_layers': 5, 'neurons_per_layer': 128, 'dropout_rate': 0.4, 'batch_size': 16, 'learning_rate': 0.09191144747250399, 'epochs': 20, 'weight_decay': 0.00027100619377422747, 'optimizer': 'RMSProp'}. Best is trial 35 with value: 85.91666666666666.\n"
     ]
    }
   ],
   "source": [
    "study = optuna.create_study(direction='maximize',sampler=optuna.samplers.TPESampler())\n",
    "study.optimize(objective,n_trials=50)"
   ]
  },
  {
   "cell_type": "code",
   "execution_count": 17,
   "id": "a683e26b",
   "metadata": {},
   "outputs": [
    {
     "data": {
      "text/plain": [
       "(85.91666666666666,\n",
       " {'num_hidden_layers': 3,\n",
       "  'neurons_per_layer': 120,\n",
       "  'dropout_rate': 0.1,\n",
       "  'batch_size': 16,\n",
       "  'learning_rate': 3.479474879252498e-05,\n",
       "  'epochs': 30,\n",
       "  'weight_decay': 0.0008577872009375,\n",
       "  'optimizer': 'RMSProp'})"
      ]
     },
     "execution_count": 17,
     "metadata": {},
     "output_type": "execute_result"
    }
   ],
   "source": [
    "study.best_value,study.best_params"
   ]
  },
  {
   "cell_type": "code",
   "execution_count": 18,
   "id": "0b260e8e",
   "metadata": {},
   "outputs": [],
   "source": [
    "from optuna.visualization import plot_optimization_history,plot_parallel_coordinate,plot_slice,plot_contour,plot_param_importances"
   ]
  },
  {
   "cell_type": "code",
   "execution_count": 19,
   "id": "3851c20a",
   "metadata": {},
   "outputs": [
    {
     "data": {
      "application/vnd.plotly.v1+json": {
       "config": {
        "plotlyServerURL": "https://plot.ly"
       },
       "data": [
        {
         "mode": "markers",
         "name": "Objective Value",
         "type": "scatter",
         "x": [
          0,
          1,
          2,
          3,
          4,
          5,
          6,
          7,
          8,
          9,
          10,
          11,
          12,
          13,
          14,
          15,
          16,
          17,
          18,
          19,
          20,
          21,
          22,
          23,
          24,
          25,
          26,
          27,
          28,
          29,
          30,
          31,
          32,
          33,
          34,
          35,
          36,
          37,
          38,
          39,
          40,
          41,
          42,
          43,
          44,
          45,
          46,
          47,
          48,
          49
         ],
         "y": [
          62.083333333333336,
          46.58333333333333,
          83.25,
          82.25,
          83.75,
          72.58333333333333,
          81.41666666666667,
          84.5,
          83.66666666666667,
          15.833333333333332,
          76.08333333333334,
          83.75,
          82.33333333333334,
          83.83333333333334,
          82.08333333333333,
          82.66666666666667,
          83.41666666666666,
          80.91666666666667,
          82.16666666666667,
          80.5,
          74.58333333333333,
          82.16666666666667,
          83.08333333333333,
          84.08333333333333,
          84.41666666666666,
          81.41666666666667,
          81,
          84.25,
          84.75,
          82.08333333333333,
          85.5,
          81.91666666666667,
          83.66666666666667,
          84.83333333333334,
          84.83333333333334,
          85.91666666666666,
          83.5,
          82.25,
          83.83333333333334,
          76.33333333333333,
          74.08333333333333,
          83,
          84.16666666666667,
          85,
          83.58333333333333,
          83.16666666666667,
          85.5,
          53.583333333333336,
          84.83333333333334,
          19.583333333333332
         ]
        },
        {
         "mode": "lines",
         "name": "Best Value",
         "type": "scatter",
         "x": [
          0,
          1,
          2,
          3,
          4,
          5,
          6,
          7,
          8,
          9,
          10,
          11,
          12,
          13,
          14,
          15,
          16,
          17,
          18,
          19,
          20,
          21,
          22,
          23,
          24,
          25,
          26,
          27,
          28,
          29,
          30,
          31,
          32,
          33,
          34,
          35,
          36,
          37,
          38,
          39,
          40,
          41,
          42,
          43,
          44,
          45,
          46,
          47,
          48,
          49
         ],
         "y": [
          62.083333333333336,
          62.083333333333336,
          83.25,
          83.25,
          83.75,
          83.75,
          83.75,
          84.5,
          84.5,
          84.5,
          84.5,
          84.5,
          84.5,
          84.5,
          84.5,
          84.5,
          84.5,
          84.5,
          84.5,
          84.5,
          84.5,
          84.5,
          84.5,
          84.5,
          84.5,
          84.5,
          84.5,
          84.5,
          84.75,
          84.75,
          85.5,
          85.5,
          85.5,
          85.5,
          85.5,
          85.91666666666666,
          85.91666666666666,
          85.91666666666666,
          85.91666666666666,
          85.91666666666666,
          85.91666666666666,
          85.91666666666666,
          85.91666666666666,
          85.91666666666666,
          85.91666666666666,
          85.91666666666666,
          85.91666666666666,
          85.91666666666666,
          85.91666666666666,
          85.91666666666666
         ]
        },
        {
         "marker": {
          "color": "#cccccc"
         },
         "mode": "markers",
         "name": "Infeasible Trial",
         "showlegend": false,
         "type": "scatter",
         "x": [],
         "y": []
        }
       ],
       "layout": {
        "template": {
         "data": {
          "bar": [
           {
            "error_x": {
             "color": "#2a3f5f"
            },
            "error_y": {
             "color": "#2a3f5f"
            },
            "marker": {
             "line": {
              "color": "#E5ECF6",
              "width": 0.5
             },
             "pattern": {
              "fillmode": "overlay",
              "size": 10,
              "solidity": 0.2
             }
            },
            "type": "bar"
           }
          ],
          "barpolar": [
           {
            "marker": {
             "line": {
              "color": "#E5ECF6",
              "width": 0.5
             },
             "pattern": {
              "fillmode": "overlay",
              "size": 10,
              "solidity": 0.2
             }
            },
            "type": "barpolar"
           }
          ],
          "carpet": [
           {
            "aaxis": {
             "endlinecolor": "#2a3f5f",
             "gridcolor": "white",
             "linecolor": "white",
             "minorgridcolor": "white",
             "startlinecolor": "#2a3f5f"
            },
            "baxis": {
             "endlinecolor": "#2a3f5f",
             "gridcolor": "white",
             "linecolor": "white",
             "minorgridcolor": "white",
             "startlinecolor": "#2a3f5f"
            },
            "type": "carpet"
           }
          ],
          "choropleth": [
           {
            "colorbar": {
             "outlinewidth": 0,
             "ticks": ""
            },
            "type": "choropleth"
           }
          ],
          "contour": [
           {
            "colorbar": {
             "outlinewidth": 0,
             "ticks": ""
            },
            "colorscale": [
             [
              0,
              "#0d0887"
             ],
             [
              0.1111111111111111,
              "#46039f"
             ],
             [
              0.2222222222222222,
              "#7201a8"
             ],
             [
              0.3333333333333333,
              "#9c179e"
             ],
             [
              0.4444444444444444,
              "#bd3786"
             ],
             [
              0.5555555555555556,
              "#d8576b"
             ],
             [
              0.6666666666666666,
              "#ed7953"
             ],
             [
              0.7777777777777778,
              "#fb9f3a"
             ],
             [
              0.8888888888888888,
              "#fdca26"
             ],
             [
              1,
              "#f0f921"
             ]
            ],
            "type": "contour"
           }
          ],
          "contourcarpet": [
           {
            "colorbar": {
             "outlinewidth": 0,
             "ticks": ""
            },
            "type": "contourcarpet"
           }
          ],
          "heatmap": [
           {
            "colorbar": {
             "outlinewidth": 0,
             "ticks": ""
            },
            "colorscale": [
             [
              0,
              "#0d0887"
             ],
             [
              0.1111111111111111,
              "#46039f"
             ],
             [
              0.2222222222222222,
              "#7201a8"
             ],
             [
              0.3333333333333333,
              "#9c179e"
             ],
             [
              0.4444444444444444,
              "#bd3786"
             ],
             [
              0.5555555555555556,
              "#d8576b"
             ],
             [
              0.6666666666666666,
              "#ed7953"
             ],
             [
              0.7777777777777778,
              "#fb9f3a"
             ],
             [
              0.8888888888888888,
              "#fdca26"
             ],
             [
              1,
              "#f0f921"
             ]
            ],
            "type": "heatmap"
           }
          ],
          "histogram": [
           {
            "marker": {
             "pattern": {
              "fillmode": "overlay",
              "size": 10,
              "solidity": 0.2
             }
            },
            "type": "histogram"
           }
          ],
          "histogram2d": [
           {
            "colorbar": {
             "outlinewidth": 0,
             "ticks": ""
            },
            "colorscale": [
             [
              0,
              "#0d0887"
             ],
             [
              0.1111111111111111,
              "#46039f"
             ],
             [
              0.2222222222222222,
              "#7201a8"
             ],
             [
              0.3333333333333333,
              "#9c179e"
             ],
             [
              0.4444444444444444,
              "#bd3786"
             ],
             [
              0.5555555555555556,
              "#d8576b"
             ],
             [
              0.6666666666666666,
              "#ed7953"
             ],
             [
              0.7777777777777778,
              "#fb9f3a"
             ],
             [
              0.8888888888888888,
              "#fdca26"
             ],
             [
              1,
              "#f0f921"
             ]
            ],
            "type": "histogram2d"
           }
          ],
          "histogram2dcontour": [
           {
            "colorbar": {
             "outlinewidth": 0,
             "ticks": ""
            },
            "colorscale": [
             [
              0,
              "#0d0887"
             ],
             [
              0.1111111111111111,
              "#46039f"
             ],
             [
              0.2222222222222222,
              "#7201a8"
             ],
             [
              0.3333333333333333,
              "#9c179e"
             ],
             [
              0.4444444444444444,
              "#bd3786"
             ],
             [
              0.5555555555555556,
              "#d8576b"
             ],
             [
              0.6666666666666666,
              "#ed7953"
             ],
             [
              0.7777777777777778,
              "#fb9f3a"
             ],
             [
              0.8888888888888888,
              "#fdca26"
             ],
             [
              1,
              "#f0f921"
             ]
            ],
            "type": "histogram2dcontour"
           }
          ],
          "mesh3d": [
           {
            "colorbar": {
             "outlinewidth": 0,
             "ticks": ""
            },
            "type": "mesh3d"
           }
          ],
          "parcoords": [
           {
            "line": {
             "colorbar": {
              "outlinewidth": 0,
              "ticks": ""
             }
            },
            "type": "parcoords"
           }
          ],
          "pie": [
           {
            "automargin": true,
            "type": "pie"
           }
          ],
          "scatter": [
           {
            "fillpattern": {
             "fillmode": "overlay",
             "size": 10,
             "solidity": 0.2
            },
            "type": "scatter"
           }
          ],
          "scatter3d": [
           {
            "line": {
             "colorbar": {
              "outlinewidth": 0,
              "ticks": ""
             }
            },
            "marker": {
             "colorbar": {
              "outlinewidth": 0,
              "ticks": ""
             }
            },
            "type": "scatter3d"
           }
          ],
          "scattercarpet": [
           {
            "marker": {
             "colorbar": {
              "outlinewidth": 0,
              "ticks": ""
             }
            },
            "type": "scattercarpet"
           }
          ],
          "scattergeo": [
           {
            "marker": {
             "colorbar": {
              "outlinewidth": 0,
              "ticks": ""
             }
            },
            "type": "scattergeo"
           }
          ],
          "scattergl": [
           {
            "marker": {
             "colorbar": {
              "outlinewidth": 0,
              "ticks": ""
             }
            },
            "type": "scattergl"
           }
          ],
          "scattermap": [
           {
            "marker": {
             "colorbar": {
              "outlinewidth": 0,
              "ticks": ""
             }
            },
            "type": "scattermap"
           }
          ],
          "scattermapbox": [
           {
            "marker": {
             "colorbar": {
              "outlinewidth": 0,
              "ticks": ""
             }
            },
            "type": "scattermapbox"
           }
          ],
          "scatterpolar": [
           {
            "marker": {
             "colorbar": {
              "outlinewidth": 0,
              "ticks": ""
             }
            },
            "type": "scatterpolar"
           }
          ],
          "scatterpolargl": [
           {
            "marker": {
             "colorbar": {
              "outlinewidth": 0,
              "ticks": ""
             }
            },
            "type": "scatterpolargl"
           }
          ],
          "scatterternary": [
           {
            "marker": {
             "colorbar": {
              "outlinewidth": 0,
              "ticks": ""
             }
            },
            "type": "scatterternary"
           }
          ],
          "surface": [
           {
            "colorbar": {
             "outlinewidth": 0,
             "ticks": ""
            },
            "colorscale": [
             [
              0,
              "#0d0887"
             ],
             [
              0.1111111111111111,
              "#46039f"
             ],
             [
              0.2222222222222222,
              "#7201a8"
             ],
             [
              0.3333333333333333,
              "#9c179e"
             ],
             [
              0.4444444444444444,
              "#bd3786"
             ],
             [
              0.5555555555555556,
              "#d8576b"
             ],
             [
              0.6666666666666666,
              "#ed7953"
             ],
             [
              0.7777777777777778,
              "#fb9f3a"
             ],
             [
              0.8888888888888888,
              "#fdca26"
             ],
             [
              1,
              "#f0f921"
             ]
            ],
            "type": "surface"
           }
          ],
          "table": [
           {
            "cells": {
             "fill": {
              "color": "#EBF0F8"
             },
             "line": {
              "color": "white"
             }
            },
            "header": {
             "fill": {
              "color": "#C8D4E3"
             },
             "line": {
              "color": "white"
             }
            },
            "type": "table"
           }
          ]
         },
         "layout": {
          "annotationdefaults": {
           "arrowcolor": "#2a3f5f",
           "arrowhead": 0,
           "arrowwidth": 1
          },
          "autotypenumbers": "strict",
          "coloraxis": {
           "colorbar": {
            "outlinewidth": 0,
            "ticks": ""
           }
          },
          "colorscale": {
           "diverging": [
            [
             0,
             "#8e0152"
            ],
            [
             0.1,
             "#c51b7d"
            ],
            [
             0.2,
             "#de77ae"
            ],
            [
             0.3,
             "#f1b6da"
            ],
            [
             0.4,
             "#fde0ef"
            ],
            [
             0.5,
             "#f7f7f7"
            ],
            [
             0.6,
             "#e6f5d0"
            ],
            [
             0.7,
             "#b8e186"
            ],
            [
             0.8,
             "#7fbc41"
            ],
            [
             0.9,
             "#4d9221"
            ],
            [
             1,
             "#276419"
            ]
           ],
           "sequential": [
            [
             0,
             "#0d0887"
            ],
            [
             0.1111111111111111,
             "#46039f"
            ],
            [
             0.2222222222222222,
             "#7201a8"
            ],
            [
             0.3333333333333333,
             "#9c179e"
            ],
            [
             0.4444444444444444,
             "#bd3786"
            ],
            [
             0.5555555555555556,
             "#d8576b"
            ],
            [
             0.6666666666666666,
             "#ed7953"
            ],
            [
             0.7777777777777778,
             "#fb9f3a"
            ],
            [
             0.8888888888888888,
             "#fdca26"
            ],
            [
             1,
             "#f0f921"
            ]
           ],
           "sequentialminus": [
            [
             0,
             "#0d0887"
            ],
            [
             0.1111111111111111,
             "#46039f"
            ],
            [
             0.2222222222222222,
             "#7201a8"
            ],
            [
             0.3333333333333333,
             "#9c179e"
            ],
            [
             0.4444444444444444,
             "#bd3786"
            ],
            [
             0.5555555555555556,
             "#d8576b"
            ],
            [
             0.6666666666666666,
             "#ed7953"
            ],
            [
             0.7777777777777778,
             "#fb9f3a"
            ],
            [
             0.8888888888888888,
             "#fdca26"
            ],
            [
             1,
             "#f0f921"
            ]
           ]
          },
          "colorway": [
           "#636efa",
           "#EF553B",
           "#00cc96",
           "#ab63fa",
           "#FFA15A",
           "#19d3f3",
           "#FF6692",
           "#B6E880",
           "#FF97FF",
           "#FECB52"
          ],
          "font": {
           "color": "#2a3f5f"
          },
          "geo": {
           "bgcolor": "white",
           "lakecolor": "white",
           "landcolor": "#E5ECF6",
           "showlakes": true,
           "showland": true,
           "subunitcolor": "white"
          },
          "hoverlabel": {
           "align": "left"
          },
          "hovermode": "closest",
          "mapbox": {
           "style": "light"
          },
          "paper_bgcolor": "white",
          "plot_bgcolor": "#E5ECF6",
          "polar": {
           "angularaxis": {
            "gridcolor": "white",
            "linecolor": "white",
            "ticks": ""
           },
           "bgcolor": "#E5ECF6",
           "radialaxis": {
            "gridcolor": "white",
            "linecolor": "white",
            "ticks": ""
           }
          },
          "scene": {
           "xaxis": {
            "backgroundcolor": "#E5ECF6",
            "gridcolor": "white",
            "gridwidth": 2,
            "linecolor": "white",
            "showbackground": true,
            "ticks": "",
            "zerolinecolor": "white"
           },
           "yaxis": {
            "backgroundcolor": "#E5ECF6",
            "gridcolor": "white",
            "gridwidth": 2,
            "linecolor": "white",
            "showbackground": true,
            "ticks": "",
            "zerolinecolor": "white"
           },
           "zaxis": {
            "backgroundcolor": "#E5ECF6",
            "gridcolor": "white",
            "gridwidth": 2,
            "linecolor": "white",
            "showbackground": true,
            "ticks": "",
            "zerolinecolor": "white"
           }
          },
          "shapedefaults": {
           "line": {
            "color": "#2a3f5f"
           }
          },
          "ternary": {
           "aaxis": {
            "gridcolor": "white",
            "linecolor": "white",
            "ticks": ""
           },
           "baxis": {
            "gridcolor": "white",
            "linecolor": "white",
            "ticks": ""
           },
           "bgcolor": "#E5ECF6",
           "caxis": {
            "gridcolor": "white",
            "linecolor": "white",
            "ticks": ""
           }
          },
          "title": {
           "x": 0.05
          },
          "xaxis": {
           "automargin": true,
           "gridcolor": "white",
           "linecolor": "white",
           "ticks": "",
           "title": {
            "standoff": 15
           },
           "zerolinecolor": "white",
           "zerolinewidth": 2
          },
          "yaxis": {
           "automargin": true,
           "gridcolor": "white",
           "linecolor": "white",
           "ticks": "",
           "title": {
            "standoff": 15
           },
           "zerolinecolor": "white",
           "zerolinewidth": 2
          }
         }
        },
        "title": {
         "text": "Optimization History Plot"
        },
        "xaxis": {
         "title": {
          "text": "Trial"
         }
        },
        "yaxis": {
         "title": {
          "text": "Objective Value"
         }
        }
       }
      }
     },
     "metadata": {},
     "output_type": "display_data"
    }
   ],
   "source": [
    "# 1. Optimization history\n",
    "plot_optimization_history(study).show()"
   ]
  },
  {
   "cell_type": "code",
   "execution_count": 20,
   "id": "413b98ca",
   "metadata": {},
   "outputs": [
    {
     "data": {
      "application/vnd.plotly.v1+json": {
       "config": {
        "plotlyServerURL": "https://plot.ly"
       },
       "data": [
        {
         "dimensions": [
          {
           "label": "Objective Value",
           "range": [
            15.833333333333332,
            85.91666666666666
           ],
           "values": [
            82.25,
            81.41666666666667,
            83.66666666666667,
            84.25,
            84.75,
            82.08333333333333,
            85.5,
            81.91666666666667,
            83.66666666666667,
            84.83333333333334,
            84.83333333333334,
            85.91666666666666,
            83.5,
            82.25,
            83.83333333333334,
            76.33333333333333,
            74.08333333333333,
            83,
            84.16666666666667,
            85,
            83.58333333333333,
            83.16666666666667,
            85.5,
            53.583333333333336,
            19.583333333333332,
            46.58333333333333,
            83.25,
            83.75,
            83.75,
            82.16666666666667,
            83.08333333333333,
            84.08333333333333,
            81.41666666666667,
            62.083333333333336,
            15.833333333333332,
            80.5,
            81,
            84.83333333333334,
            72.58333333333333,
            84.5,
            76.08333333333334,
            82.33333333333334,
            83.83333333333334,
            82.08333333333333,
            82.66666666666667,
            83.41666666666666,
            80.91666666666667,
            82.16666666666667,
            74.58333333333333,
            84.41666666666666
           ]
          },
          {
           "label": "batch_size",
           "range": [
            0,
            3
           ],
           "ticktext": [
            "16",
            "32",
            "64",
            "128"
           ],
           "tickvals": [
            0,
            1,
            2,
            3
           ],
           "values": [
            0,
            0,
            0,
            0,
            0,
            0,
            0,
            0,
            0,
            0,
            0,
            0,
            0,
            0,
            0,
            0,
            0,
            0,
            0,
            0,
            0,
            0,
            0,
            0,
            0,
            1,
            1,
            1,
            1,
            1,
            1,
            1,
            1,
            2,
            2,
            2,
            2,
            2,
            3,
            3,
            3,
            3,
            3,
            3,
            3,
            3,
            3,
            3,
            3,
            3
           ]
          },
          {
           "label": "dropout_rate",
           "range": [
            0.1,
            0.5
           ],
           "values": [
            0.4,
            0.1,
            0.4,
            0.2,
            0.1,
            0.1,
            0.1,
            0.1,
            0.1,
            0.1,
            0.1,
            0.1,
            0.1,
            0.1,
            0.1,
            0.1,
            0.1,
            0.1,
            0.1,
            0.1,
            0.1,
            0.1,
            0.1,
            0.1,
            0.4,
            0.1,
            0.1,
            0.30000000000000004,
            0.2,
            0.30000000000000004,
            0.30000000000000004,
            0.2,
            0.1,
            0.4,
            0.5,
            0.30000000000000004,
            0.2,
            0.1,
            0.30000000000000004,
            0.2,
            0.2,
            0.30000000000000004,
            0.2,
            0.2,
            0.2,
            0.2,
            0.1,
            0.2,
            0.5,
            0.2
           ]
          },
          {
           "label": "epochs",
           "range": [
            10,
            50
           ],
           "values": [
            30,
            10,
            30,
            30,
            30,
            30,
            30,
            30,
            30,
            30,
            30,
            30,
            30,
            30,
            30,
            30,
            40,
            30,
            30,
            30,
            30,
            20,
            20,
            10,
            20,
            50,
            40,
            10,
            20,
            10,
            40,
            20,
            20,
            10,
            20,
            50,
            20,
            20,
            50,
            50,
            40,
            20,
            40,
            40,
            50,
            40,
            50,
            40,
            30,
            20
           ]
          },
          {
           "label": "learning_rate",
           "range": [
            -4.954529551006059,
            -1.036630394331786
           ],
           "ticktext": [
            "1.11e-05",
            "0.0001",
            "0.001",
            "0.01",
            "0.0919"
           ],
           "tickvals": [
            -4.954529551006059,
            -4,
            -3,
            -2,
            -1.036630394331786
           ],
           "values": [
            -2.8036165928028067,
            -1.1387793258790082,
            -3.9149254991675426,
            -3.540332393647383,
            -3.8224535639092747,
            -2.4076647953989054,
            -3.8143031742655835,
            -4.954529551006059,
            -3.874433173286826,
            -4.295751695497879,
            -4.441048520858993,
            -4.458486294631362,
            -4.531592174987065,
            -4.922612162586553,
            -4.313181729275606,
            -4.718442592999509,
            -4.155705762844152,
            -3.922996930738547,
            -4.378021000036233,
            -4.62154212361401,
            -4.698087795034708,
            -4.582887984594716,
            -4.175923769897029,
            -4.178750944817894,
            -1.036630394331786,
            -4.702005258251262,
            -2.0133888859863545,
            -3.195210761605203,
            -3.1309090568772957,
            -3.3345105694417283,
            -2.894220935604647,
            -3.4263679236507376,
            -2.6676429990631005,
            -2.2923455118063285,
            -4.119253407081091,
            -1.7118469623466037,
            -4.283293086913187,
            -4.006231005154234,
            -1.6450826734167847,
            -2.718732806409866,
            -3.282049057360918,
            -2.6090222779209773,
            -3.7206269270472347,
            -4.043474044943464,
            -3.593864995849756,
            -2.363294559195083,
            -4.6647683224853305,
            -3.5820619299377157,
            -4.453375507700005,
            -3.6991985917579866
           ]
          },
          {
           "label": "neurons_per_layer",
           "range": [
            8,
            128
           ],
           "values": [
            112,
            128,
            120,
            104,
            120,
            120,
            120,
            120,
            128,
            112,
            120,
            120,
            112,
            128,
            112,
            24,
            120,
            120,
            128,
            112,
            112,
            104,
            112,
            96,
            128,
            32,
            72,
            112,
            88,
            112,
            128,
            104,
            96,
            104,
            64,
            80,
            80,
            112,
            88,
            88,
            8,
            56,
            96,
            88,
            48,
            96,
            72,
            40,
            104,
            104
           ]
          },
          {
           "label": "num_hidden_layers",
           "range": [
            1,
            5
           ],
           "values": [
            3,
            3,
            1,
            3,
            3,
            3,
            3,
            3,
            3,
            3,
            3,
            3,
            2,
            3,
            3,
            3,
            3,
            3,
            3,
            3,
            2,
            3,
            4,
            5,
            5,
            3,
            4,
            5,
            2,
            4,
            5,
            4,
            4,
            5,
            4,
            3,
            4,
            4,
            5,
            3,
            1,
            4,
            2,
            2,
            2,
            2,
            1,
            2,
            3,
            4
           ]
          },
          {
           "label": "optimizer",
           "range": [
            0,
            2
           ],
           "ticktext": [
            "SGD",
            "RMSProp",
            "Adam"
           ],
           "tickvals": [
            0,
            1,
            2
           ],
           "values": [
            1,
            0,
            1,
            2,
            1,
            1,
            1,
            1,
            1,
            1,
            1,
            1,
            1,
            1,
            1,
            1,
            0,
            1,
            1,
            1,
            1,
            1,
            1,
            0,
            1,
            0,
            0,
            2,
            2,
            2,
            2,
            2,
            2,
            0,
            0,
            2,
            2,
            1,
            2,
            2,
            2,
            2,
            2,
            2,
            2,
            2,
            1,
            2,
            1,
            2
           ]
          },
          {
           "label": "weight_decay",
           "range": [
            -4.970799868453571,
            -3.0189996690195002
           ],
           "ticktext": [
            "1.07e-05",
            "0.0001",
            "0.000957"
           ],
           "tickvals": [
            -4.970799868453571,
            -4,
            -3.0189996690195002
           ],
           "values": [
            -3.57254095793158,
            -4.354837083087987,
            -3.1596136815462788,
            -3.9425789845546384,
            -3.813947765688865,
            -3.8264659773168286,
            -3.323973134517493,
            -3.35080927841738,
            -3.56650319758783,
            -3.162308995248267,
            -3.176780862860832,
            -3.066620438166527,
            -3.026430198003601,
            -3.1834654220694536,
            -3.3157009674849545,
            -3.1184125277674726,
            -3.254010858394359,
            -3.1229783112719582,
            -3.38492949546978,
            -3.2485648007455854,
            -3.2323944490592216,
            -3.0189996690195002,
            -3.1088754796451092,
            -3.2682046430709075,
            -3.567020783327697,
            -4.762761157636836,
            -3.6981258951866236,
            -4.231225679367383,
            -4.338729926502443,
            -4.126128035531429,
            -3.7800555255801758,
            -4.2072803278854005,
            -3.4381756985478655,
            -3.219641434949152,
            -3.037409537315729,
            -4.939548422291751,
            -3.473539606995642,
            -3.0923949990052986,
            -3.306918046299484,
            -3.919390508297923,
            -3.948164412563375,
            -4.298598007344548,
            -4.970799868453571,
            -4.638937130643535,
            -4.917394892901641,
            -3.9531163817333304,
            -3.6894445337841466,
            -4.516526694938149,
            -4.039017969026586,
            -3.5028649391480022
           ]
          }
         ],
         "labelangle": 30,
         "labelside": "bottom",
         "line": {
          "color": [
           82.25,
           81.41666666666667,
           83.66666666666667,
           84.25,
           84.75,
           82.08333333333333,
           85.5,
           81.91666666666667,
           83.66666666666667,
           84.83333333333334,
           84.83333333333334,
           85.91666666666666,
           83.5,
           82.25,
           83.83333333333334,
           76.33333333333333,
           74.08333333333333,
           83,
           84.16666666666667,
           85,
           83.58333333333333,
           83.16666666666667,
           85.5,
           53.583333333333336,
           19.583333333333332,
           46.58333333333333,
           83.25,
           83.75,
           83.75,
           82.16666666666667,
           83.08333333333333,
           84.08333333333333,
           81.41666666666667,
           62.083333333333336,
           15.833333333333332,
           80.5,
           81,
           84.83333333333334,
           72.58333333333333,
           84.5,
           76.08333333333334,
           82.33333333333334,
           83.83333333333334,
           82.08333333333333,
           82.66666666666667,
           83.41666666666666,
           80.91666666666667,
           82.16666666666667,
           74.58333333333333,
           84.41666666666666
          ],
          "colorbar": {
           "title": {
            "text": "Objective Value"
           }
          },
          "colorscale": [
           [
            0,
            "rgb(247,251,255)"
           ],
           [
            0.125,
            "rgb(222,235,247)"
           ],
           [
            0.25,
            "rgb(198,219,239)"
           ],
           [
            0.375,
            "rgb(158,202,225)"
           ],
           [
            0.5,
            "rgb(107,174,214)"
           ],
           [
            0.625,
            "rgb(66,146,198)"
           ],
           [
            0.75,
            "rgb(33,113,181)"
           ],
           [
            0.875,
            "rgb(8,81,156)"
           ],
           [
            1,
            "rgb(8,48,107)"
           ]
          ],
          "reversescale": false,
          "showscale": true
         },
         "type": "parcoords"
        }
       ],
       "layout": {
        "template": {
         "data": {
          "bar": [
           {
            "error_x": {
             "color": "#2a3f5f"
            },
            "error_y": {
             "color": "#2a3f5f"
            },
            "marker": {
             "line": {
              "color": "#E5ECF6",
              "width": 0.5
             },
             "pattern": {
              "fillmode": "overlay",
              "size": 10,
              "solidity": 0.2
             }
            },
            "type": "bar"
           }
          ],
          "barpolar": [
           {
            "marker": {
             "line": {
              "color": "#E5ECF6",
              "width": 0.5
             },
             "pattern": {
              "fillmode": "overlay",
              "size": 10,
              "solidity": 0.2
             }
            },
            "type": "barpolar"
           }
          ],
          "carpet": [
           {
            "aaxis": {
             "endlinecolor": "#2a3f5f",
             "gridcolor": "white",
             "linecolor": "white",
             "minorgridcolor": "white",
             "startlinecolor": "#2a3f5f"
            },
            "baxis": {
             "endlinecolor": "#2a3f5f",
             "gridcolor": "white",
             "linecolor": "white",
             "minorgridcolor": "white",
             "startlinecolor": "#2a3f5f"
            },
            "type": "carpet"
           }
          ],
          "choropleth": [
           {
            "colorbar": {
             "outlinewidth": 0,
             "ticks": ""
            },
            "type": "choropleth"
           }
          ],
          "contour": [
           {
            "colorbar": {
             "outlinewidth": 0,
             "ticks": ""
            },
            "colorscale": [
             [
              0,
              "#0d0887"
             ],
             [
              0.1111111111111111,
              "#46039f"
             ],
             [
              0.2222222222222222,
              "#7201a8"
             ],
             [
              0.3333333333333333,
              "#9c179e"
             ],
             [
              0.4444444444444444,
              "#bd3786"
             ],
             [
              0.5555555555555556,
              "#d8576b"
             ],
             [
              0.6666666666666666,
              "#ed7953"
             ],
             [
              0.7777777777777778,
              "#fb9f3a"
             ],
             [
              0.8888888888888888,
              "#fdca26"
             ],
             [
              1,
              "#f0f921"
             ]
            ],
            "type": "contour"
           }
          ],
          "contourcarpet": [
           {
            "colorbar": {
             "outlinewidth": 0,
             "ticks": ""
            },
            "type": "contourcarpet"
           }
          ],
          "heatmap": [
           {
            "colorbar": {
             "outlinewidth": 0,
             "ticks": ""
            },
            "colorscale": [
             [
              0,
              "#0d0887"
             ],
             [
              0.1111111111111111,
              "#46039f"
             ],
             [
              0.2222222222222222,
              "#7201a8"
             ],
             [
              0.3333333333333333,
              "#9c179e"
             ],
             [
              0.4444444444444444,
              "#bd3786"
             ],
             [
              0.5555555555555556,
              "#d8576b"
             ],
             [
              0.6666666666666666,
              "#ed7953"
             ],
             [
              0.7777777777777778,
              "#fb9f3a"
             ],
             [
              0.8888888888888888,
              "#fdca26"
             ],
             [
              1,
              "#f0f921"
             ]
            ],
            "type": "heatmap"
           }
          ],
          "histogram": [
           {
            "marker": {
             "pattern": {
              "fillmode": "overlay",
              "size": 10,
              "solidity": 0.2
             }
            },
            "type": "histogram"
           }
          ],
          "histogram2d": [
           {
            "colorbar": {
             "outlinewidth": 0,
             "ticks": ""
            },
            "colorscale": [
             [
              0,
              "#0d0887"
             ],
             [
              0.1111111111111111,
              "#46039f"
             ],
             [
              0.2222222222222222,
              "#7201a8"
             ],
             [
              0.3333333333333333,
              "#9c179e"
             ],
             [
              0.4444444444444444,
              "#bd3786"
             ],
             [
              0.5555555555555556,
              "#d8576b"
             ],
             [
              0.6666666666666666,
              "#ed7953"
             ],
             [
              0.7777777777777778,
              "#fb9f3a"
             ],
             [
              0.8888888888888888,
              "#fdca26"
             ],
             [
              1,
              "#f0f921"
             ]
            ],
            "type": "histogram2d"
           }
          ],
          "histogram2dcontour": [
           {
            "colorbar": {
             "outlinewidth": 0,
             "ticks": ""
            },
            "colorscale": [
             [
              0,
              "#0d0887"
             ],
             [
              0.1111111111111111,
              "#46039f"
             ],
             [
              0.2222222222222222,
              "#7201a8"
             ],
             [
              0.3333333333333333,
              "#9c179e"
             ],
             [
              0.4444444444444444,
              "#bd3786"
             ],
             [
              0.5555555555555556,
              "#d8576b"
             ],
             [
              0.6666666666666666,
              "#ed7953"
             ],
             [
              0.7777777777777778,
              "#fb9f3a"
             ],
             [
              0.8888888888888888,
              "#fdca26"
             ],
             [
              1,
              "#f0f921"
             ]
            ],
            "type": "histogram2dcontour"
           }
          ],
          "mesh3d": [
           {
            "colorbar": {
             "outlinewidth": 0,
             "ticks": ""
            },
            "type": "mesh3d"
           }
          ],
          "parcoords": [
           {
            "line": {
             "colorbar": {
              "outlinewidth": 0,
              "ticks": ""
             }
            },
            "type": "parcoords"
           }
          ],
          "pie": [
           {
            "automargin": true,
            "type": "pie"
           }
          ],
          "scatter": [
           {
            "fillpattern": {
             "fillmode": "overlay",
             "size": 10,
             "solidity": 0.2
            },
            "type": "scatter"
           }
          ],
          "scatter3d": [
           {
            "line": {
             "colorbar": {
              "outlinewidth": 0,
              "ticks": ""
             }
            },
            "marker": {
             "colorbar": {
              "outlinewidth": 0,
              "ticks": ""
             }
            },
            "type": "scatter3d"
           }
          ],
          "scattercarpet": [
           {
            "marker": {
             "colorbar": {
              "outlinewidth": 0,
              "ticks": ""
             }
            },
            "type": "scattercarpet"
           }
          ],
          "scattergeo": [
           {
            "marker": {
             "colorbar": {
              "outlinewidth": 0,
              "ticks": ""
             }
            },
            "type": "scattergeo"
           }
          ],
          "scattergl": [
           {
            "marker": {
             "colorbar": {
              "outlinewidth": 0,
              "ticks": ""
             }
            },
            "type": "scattergl"
           }
          ],
          "scattermap": [
           {
            "marker": {
             "colorbar": {
              "outlinewidth": 0,
              "ticks": ""
             }
            },
            "type": "scattermap"
           }
          ],
          "scattermapbox": [
           {
            "marker": {
             "colorbar": {
              "outlinewidth": 0,
              "ticks": ""
             }
            },
            "type": "scattermapbox"
           }
          ],
          "scatterpolar": [
           {
            "marker": {
             "colorbar": {
              "outlinewidth": 0,
              "ticks": ""
             }
            },
            "type": "scatterpolar"
           }
          ],
          "scatterpolargl": [
           {
            "marker": {
             "colorbar": {
              "outlinewidth": 0,
              "ticks": ""
             }
            },
            "type": "scatterpolargl"
           }
          ],
          "scatterternary": [
           {
            "marker": {
             "colorbar": {
              "outlinewidth": 0,
              "ticks": ""
             }
            },
            "type": "scatterternary"
           }
          ],
          "surface": [
           {
            "colorbar": {
             "outlinewidth": 0,
             "ticks": ""
            },
            "colorscale": [
             [
              0,
              "#0d0887"
             ],
             [
              0.1111111111111111,
              "#46039f"
             ],
             [
              0.2222222222222222,
              "#7201a8"
             ],
             [
              0.3333333333333333,
              "#9c179e"
             ],
             [
              0.4444444444444444,
              "#bd3786"
             ],
             [
              0.5555555555555556,
              "#d8576b"
             ],
             [
              0.6666666666666666,
              "#ed7953"
             ],
             [
              0.7777777777777778,
              "#fb9f3a"
             ],
             [
              0.8888888888888888,
              "#fdca26"
             ],
             [
              1,
              "#f0f921"
             ]
            ],
            "type": "surface"
           }
          ],
          "table": [
           {
            "cells": {
             "fill": {
              "color": "#EBF0F8"
             },
             "line": {
              "color": "white"
             }
            },
            "header": {
             "fill": {
              "color": "#C8D4E3"
             },
             "line": {
              "color": "white"
             }
            },
            "type": "table"
           }
          ]
         },
         "layout": {
          "annotationdefaults": {
           "arrowcolor": "#2a3f5f",
           "arrowhead": 0,
           "arrowwidth": 1
          },
          "autotypenumbers": "strict",
          "coloraxis": {
           "colorbar": {
            "outlinewidth": 0,
            "ticks": ""
           }
          },
          "colorscale": {
           "diverging": [
            [
             0,
             "#8e0152"
            ],
            [
             0.1,
             "#c51b7d"
            ],
            [
             0.2,
             "#de77ae"
            ],
            [
             0.3,
             "#f1b6da"
            ],
            [
             0.4,
             "#fde0ef"
            ],
            [
             0.5,
             "#f7f7f7"
            ],
            [
             0.6,
             "#e6f5d0"
            ],
            [
             0.7,
             "#b8e186"
            ],
            [
             0.8,
             "#7fbc41"
            ],
            [
             0.9,
             "#4d9221"
            ],
            [
             1,
             "#276419"
            ]
           ],
           "sequential": [
            [
             0,
             "#0d0887"
            ],
            [
             0.1111111111111111,
             "#46039f"
            ],
            [
             0.2222222222222222,
             "#7201a8"
            ],
            [
             0.3333333333333333,
             "#9c179e"
            ],
            [
             0.4444444444444444,
             "#bd3786"
            ],
            [
             0.5555555555555556,
             "#d8576b"
            ],
            [
             0.6666666666666666,
             "#ed7953"
            ],
            [
             0.7777777777777778,
             "#fb9f3a"
            ],
            [
             0.8888888888888888,
             "#fdca26"
            ],
            [
             1,
             "#f0f921"
            ]
           ],
           "sequentialminus": [
            [
             0,
             "#0d0887"
            ],
            [
             0.1111111111111111,
             "#46039f"
            ],
            [
             0.2222222222222222,
             "#7201a8"
            ],
            [
             0.3333333333333333,
             "#9c179e"
            ],
            [
             0.4444444444444444,
             "#bd3786"
            ],
            [
             0.5555555555555556,
             "#d8576b"
            ],
            [
             0.6666666666666666,
             "#ed7953"
            ],
            [
             0.7777777777777778,
             "#fb9f3a"
            ],
            [
             0.8888888888888888,
             "#fdca26"
            ],
            [
             1,
             "#f0f921"
            ]
           ]
          },
          "colorway": [
           "#636efa",
           "#EF553B",
           "#00cc96",
           "#ab63fa",
           "#FFA15A",
           "#19d3f3",
           "#FF6692",
           "#B6E880",
           "#FF97FF",
           "#FECB52"
          ],
          "font": {
           "color": "#2a3f5f"
          },
          "geo": {
           "bgcolor": "white",
           "lakecolor": "white",
           "landcolor": "#E5ECF6",
           "showlakes": true,
           "showland": true,
           "subunitcolor": "white"
          },
          "hoverlabel": {
           "align": "left"
          },
          "hovermode": "closest",
          "mapbox": {
           "style": "light"
          },
          "paper_bgcolor": "white",
          "plot_bgcolor": "#E5ECF6",
          "polar": {
           "angularaxis": {
            "gridcolor": "white",
            "linecolor": "white",
            "ticks": ""
           },
           "bgcolor": "#E5ECF6",
           "radialaxis": {
            "gridcolor": "white",
            "linecolor": "white",
            "ticks": ""
           }
          },
          "scene": {
           "xaxis": {
            "backgroundcolor": "#E5ECF6",
            "gridcolor": "white",
            "gridwidth": 2,
            "linecolor": "white",
            "showbackground": true,
            "ticks": "",
            "zerolinecolor": "white"
           },
           "yaxis": {
            "backgroundcolor": "#E5ECF6",
            "gridcolor": "white",
            "gridwidth": 2,
            "linecolor": "white",
            "showbackground": true,
            "ticks": "",
            "zerolinecolor": "white"
           },
           "zaxis": {
            "backgroundcolor": "#E5ECF6",
            "gridcolor": "white",
            "gridwidth": 2,
            "linecolor": "white",
            "showbackground": true,
            "ticks": "",
            "zerolinecolor": "white"
           }
          },
          "shapedefaults": {
           "line": {
            "color": "#2a3f5f"
           }
          },
          "ternary": {
           "aaxis": {
            "gridcolor": "white",
            "linecolor": "white",
            "ticks": ""
           },
           "baxis": {
            "gridcolor": "white",
            "linecolor": "white",
            "ticks": ""
           },
           "bgcolor": "#E5ECF6",
           "caxis": {
            "gridcolor": "white",
            "linecolor": "white",
            "ticks": ""
           }
          },
          "title": {
           "x": 0.05
          },
          "xaxis": {
           "automargin": true,
           "gridcolor": "white",
           "linecolor": "white",
           "ticks": "",
           "title": {
            "standoff": 15
           },
           "zerolinecolor": "white",
           "zerolinewidth": 2
          },
          "yaxis": {
           "automargin": true,
           "gridcolor": "white",
           "linecolor": "white",
           "ticks": "",
           "title": {
            "standoff": 15
           },
           "zerolinecolor": "white",
           "zerolinewidth": 2
          }
         }
        },
        "title": {
         "text": "Parallel Coordinate Plot"
        }
       }
      }
     },
     "metadata": {},
     "output_type": "display_data"
    }
   ],
   "source": [
    "# 2. Parallel coordinate plot\n",
    "plot_parallel_coordinate(study).show()"
   ]
  },
  {
   "cell_type": "code",
   "execution_count": 13,
   "id": "54572922",
   "metadata": {},
   "outputs": [
    {
     "data": {
      "application/vnd.plotly.v1+json": {
       "config": {
        "plotlyServerURL": "https://plot.ly"
       },
       "data": [
        {
         "marker": {
          "color": [
           0,
           1,
           2,
           3,
           4,
           5,
           6,
           7,
           8,
           9,
           10,
           11,
           12,
           13,
           14,
           15,
           16,
           17,
           18,
           19,
           20,
           21,
           22,
           23,
           24,
           25,
           26,
           27,
           28,
           29,
           30,
           31,
           32,
           33,
           34,
           35,
           36,
           37,
           38,
           39,
           40,
           41,
           42,
           43,
           44,
           45,
           46,
           47,
           48,
           49
          ],
          "colorbar": {
           "title": {
            "text": "Trial"
           },
           "x": 1,
           "xpad": 40
          },
          "colorscale": [
           [
            0,
            "rgb(247,251,255)"
           ],
           [
            0.125,
            "rgb(222,235,247)"
           ],
           [
            0.25,
            "rgb(198,219,239)"
           ],
           [
            0.375,
            "rgb(158,202,225)"
           ],
           [
            0.5,
            "rgb(107,174,214)"
           ],
           [
            0.625,
            "rgb(66,146,198)"
           ],
           [
            0.75,
            "rgb(33,113,181)"
           ],
           [
            0.875,
            "rgb(8,81,156)"
           ],
           [
            1,
            "rgb(8,48,107)"
           ]
          ],
          "line": {
           "color": "Grey",
           "width": 0.5
          },
          "showscale": true
         },
         "mode": "markers",
         "name": "Feasible Trial",
         "showlegend": false,
         "type": "scatter",
         "x": [
          64,
          32,
          32,
          16,
          32,
          128,
          16,
          128,
          16,
          64,
          128,
          32,
          128,
          128,
          128,
          128,
          128,
          128,
          128,
          64,
          128,
          32,
          32,
          32,
          128,
          32,
          64,
          16,
          16,
          16,
          16,
          16,
          16,
          16,
          16,
          16,
          16,
          16,
          16,
          16,
          16,
          16,
          16,
          16,
          16,
          16,
          16,
          16,
          64,
          16
         ],
         "xaxis": "x",
         "y": [
          62.083333333333336,
          46.58333333333333,
          83.25,
          82.25,
          83.75,
          72.58333333333333,
          81.41666666666667,
          84.5,
          83.66666666666667,
          15.833333333333332,
          76.08333333333334,
          83.75,
          82.33333333333334,
          83.83333333333334,
          82.08333333333333,
          82.66666666666667,
          83.41666666666666,
          80.91666666666667,
          82.16666666666667,
          80.5,
          74.58333333333333,
          82.16666666666667,
          83.08333333333333,
          84.08333333333333,
          84.41666666666666,
          81.41666666666667,
          81,
          84.25,
          84.75,
          82.08333333333333,
          85.5,
          81.91666666666667,
          83.66666666666667,
          84.83333333333334,
          84.83333333333334,
          85.91666666666666,
          83.5,
          82.25,
          83.83333333333334,
          76.33333333333333,
          74.08333333333333,
          83,
          84.16666666666667,
          85,
          83.58333333333333,
          83.16666666666667,
          85.5,
          53.583333333333336,
          84.83333333333334,
          19.583333333333332
         ],
         "yaxis": "y"
        },
        {
         "marker": {
          "color": [
           0,
           1,
           2,
           3,
           4,
           5,
           6,
           7,
           8,
           9,
           10,
           11,
           12,
           13,
           14,
           15,
           16,
           17,
           18,
           19,
           20,
           21,
           22,
           23,
           24,
           25,
           26,
           27,
           28,
           29,
           30,
           31,
           32,
           33,
           34,
           35,
           36,
           37,
           38,
           39,
           40,
           41,
           42,
           43,
           44,
           45,
           46,
           47,
           48,
           49
          ],
          "colorbar": {
           "title": {
            "text": "Trial"
           },
           "x": 1,
           "xpad": 40
          },
          "colorscale": [
           [
            0,
            "rgb(247,251,255)"
           ],
           [
            0.125,
            "rgb(222,235,247)"
           ],
           [
            0.25,
            "rgb(198,219,239)"
           ],
           [
            0.375,
            "rgb(158,202,225)"
           ],
           [
            0.5,
            "rgb(107,174,214)"
           ],
           [
            0.625,
            "rgb(66,146,198)"
           ],
           [
            0.75,
            "rgb(33,113,181)"
           ],
           [
            0.875,
            "rgb(8,81,156)"
           ],
           [
            1,
            "rgb(8,48,107)"
           ]
          ],
          "line": {
           "color": "Grey",
           "width": 0.5
          },
          "showscale": false
         },
         "mode": "markers",
         "name": "Feasible Trial",
         "showlegend": false,
         "type": "scatter",
         "x": [
          0.4,
          0.1,
          0.1,
          0.4,
          0.30000000000000004,
          0.30000000000000004,
          0.1,
          0.2,
          0.4,
          0.5,
          0.2,
          0.2,
          0.30000000000000004,
          0.2,
          0.2,
          0.2,
          0.2,
          0.1,
          0.2,
          0.30000000000000004,
          0.5,
          0.30000000000000004,
          0.30000000000000004,
          0.2,
          0.2,
          0.1,
          0.2,
          0.2,
          0.1,
          0.1,
          0.1,
          0.1,
          0.1,
          0.1,
          0.1,
          0.1,
          0.1,
          0.1,
          0.1,
          0.1,
          0.1,
          0.1,
          0.1,
          0.1,
          0.1,
          0.1,
          0.1,
          0.1,
          0.1,
          0.4
         ],
         "xaxis": "x2",
         "y": [
          62.083333333333336,
          46.58333333333333,
          83.25,
          82.25,
          83.75,
          72.58333333333333,
          81.41666666666667,
          84.5,
          83.66666666666667,
          15.833333333333332,
          76.08333333333334,
          83.75,
          82.33333333333334,
          83.83333333333334,
          82.08333333333333,
          82.66666666666667,
          83.41666666666666,
          80.91666666666667,
          82.16666666666667,
          80.5,
          74.58333333333333,
          82.16666666666667,
          83.08333333333333,
          84.08333333333333,
          84.41666666666666,
          81.41666666666667,
          81,
          84.25,
          84.75,
          82.08333333333333,
          85.5,
          81.91666666666667,
          83.66666666666667,
          84.83333333333334,
          84.83333333333334,
          85.91666666666666,
          83.5,
          82.25,
          83.83333333333334,
          76.33333333333333,
          74.08333333333333,
          83,
          84.16666666666667,
          85,
          83.58333333333333,
          83.16666666666667,
          85.5,
          53.583333333333336,
          84.83333333333334,
          19.583333333333332
         ],
         "yaxis": "y2"
        },
        {
         "marker": {
          "color": [
           0,
           1,
           2,
           3,
           4,
           5,
           6,
           7,
           8,
           9,
           10,
           11,
           12,
           13,
           14,
           15,
           16,
           17,
           18,
           19,
           20,
           21,
           22,
           23,
           24,
           25,
           26,
           27,
           28,
           29,
           30,
           31,
           32,
           33,
           34,
           35,
           36,
           37,
           38,
           39,
           40,
           41,
           42,
           43,
           44,
           45,
           46,
           47,
           48,
           49
          ],
          "colorbar": {
           "title": {
            "text": "Trial"
           },
           "x": 1,
           "xpad": 40
          },
          "colorscale": [
           [
            0,
            "rgb(247,251,255)"
           ],
           [
            0.125,
            "rgb(222,235,247)"
           ],
           [
            0.25,
            "rgb(198,219,239)"
           ],
           [
            0.375,
            "rgb(158,202,225)"
           ],
           [
            0.5,
            "rgb(107,174,214)"
           ],
           [
            0.625,
            "rgb(66,146,198)"
           ],
           [
            0.75,
            "rgb(33,113,181)"
           ],
           [
            0.875,
            "rgb(8,81,156)"
           ],
           [
            1,
            "rgb(8,48,107)"
           ]
          ],
          "line": {
           "color": "Grey",
           "width": 0.5
          },
          "showscale": false
         },
         "mode": "markers",
         "name": "Feasible Trial",
         "showlegend": false,
         "type": "scatter",
         "x": [
          10,
          50,
          40,
          30,
          10,
          50,
          10,
          50,
          30,
          20,
          40,
          20,
          20,
          40,
          40,
          50,
          40,
          50,
          40,
          50,
          30,
          10,
          40,
          20,
          20,
          20,
          20,
          30,
          30,
          30,
          30,
          30,
          30,
          30,
          30,
          30,
          30,
          30,
          30,
          30,
          40,
          30,
          30,
          30,
          30,
          20,
          20,
          10,
          20,
          20
         ],
         "xaxis": "x3",
         "y": [
          62.083333333333336,
          46.58333333333333,
          83.25,
          82.25,
          83.75,
          72.58333333333333,
          81.41666666666667,
          84.5,
          83.66666666666667,
          15.833333333333332,
          76.08333333333334,
          83.75,
          82.33333333333334,
          83.83333333333334,
          82.08333333333333,
          82.66666666666667,
          83.41666666666666,
          80.91666666666667,
          82.16666666666667,
          80.5,
          74.58333333333333,
          82.16666666666667,
          83.08333333333333,
          84.08333333333333,
          84.41666666666666,
          81.41666666666667,
          81,
          84.25,
          84.75,
          82.08333333333333,
          85.5,
          81.91666666666667,
          83.66666666666667,
          84.83333333333334,
          84.83333333333334,
          85.91666666666666,
          83.5,
          82.25,
          83.83333333333334,
          76.33333333333333,
          74.08333333333333,
          83,
          84.16666666666667,
          85,
          83.58333333333333,
          83.16666666666667,
          85.5,
          53.583333333333336,
          84.83333333333334,
          19.583333333333332
         ],
         "yaxis": "y3"
        },
        {
         "marker": {
          "color": [
           0,
           1,
           2,
           3,
           4,
           5,
           6,
           7,
           8,
           9,
           10,
           11,
           12,
           13,
           14,
           15,
           16,
           17,
           18,
           19,
           20,
           21,
           22,
           23,
           24,
           25,
           26,
           27,
           28,
           29,
           30,
           31,
           32,
           33,
           34,
           35,
           36,
           37,
           38,
           39,
           40,
           41,
           42,
           43,
           44,
           45,
           46,
           47,
           48,
           49
          ],
          "colorbar": {
           "title": {
            "text": "Trial"
           },
           "x": 1,
           "xpad": 40
          },
          "colorscale": [
           [
            0,
            "rgb(247,251,255)"
           ],
           [
            0.125,
            "rgb(222,235,247)"
           ],
           [
            0.25,
            "rgb(198,219,239)"
           ],
           [
            0.375,
            "rgb(158,202,225)"
           ],
           [
            0.5,
            "rgb(107,174,214)"
           ],
           [
            0.625,
            "rgb(66,146,198)"
           ],
           [
            0.75,
            "rgb(33,113,181)"
           ],
           [
            0.875,
            "rgb(8,81,156)"
           ],
           [
            1,
            "rgb(8,48,107)"
           ]
          ],
          "line": {
           "color": "Grey",
           "width": 0.5
          },
          "showscale": false
         },
         "mode": "markers",
         "name": "Feasible Trial",
         "showlegend": false,
         "type": "scatter",
         "x": [
          0.005100990188563874,
          0.000019860708707177768,
          0.009696413197862666,
          0.001571749776249777,
          0.0006379538142827019,
          0.02264213245096893,
          0.0726475000829205,
          0.0019110286305313027,
          0.00012163946485690261,
          0.00007598827625271952,
          0.0005223371831123543,
          0.0007397601677843805,
          0.0024602413983781995,
          0.0001902712069056088,
          0.00009047445070254732,
          0.00025476220795954977,
          0.0043321695035891845,
          0.00002163872549261281,
          0.0002617809684685859,
          0.019415699317830708,
          0.00003520663293231582,
          0.00046290239796682167,
          0.0012757896201358236,
          0.00037465546882200145,
          0.00019989475930067544,
          0.0021495967704226824,
          0.00005208430975733577,
          0.0002881825011836019,
          0.00015050344330720008,
          0.003911426777511212,
          0.00015335460642411939,
          0.00001110376978598369,
          0.00013352630362784012,
          0.000050611394602106545,
          0.000036220252965558876,
          0.00003479474879252498,
          0.000029404095527833733,
          0.000011950548462899992,
          0.000048620371257514394,
          0.000019123060851291802,
          0.00006987056210679689,
          0.00011939965426894092,
          0.000041877331510834896,
          0.00002390330078323597,
          0.000020040668531992272,
          0.00002612835183017675,
          0.00006669238216103824,
          0.00006625963744085291,
          0.00009857550141699971,
          0.09191144747250399
         ],
         "xaxis": "x4",
         "y": [
          62.083333333333336,
          46.58333333333333,
          83.25,
          82.25,
          83.75,
          72.58333333333333,
          81.41666666666667,
          84.5,
          83.66666666666667,
          15.833333333333332,
          76.08333333333334,
          83.75,
          82.33333333333334,
          83.83333333333334,
          82.08333333333333,
          82.66666666666667,
          83.41666666666666,
          80.91666666666667,
          82.16666666666667,
          80.5,
          74.58333333333333,
          82.16666666666667,
          83.08333333333333,
          84.08333333333333,
          84.41666666666666,
          81.41666666666667,
          81,
          84.25,
          84.75,
          82.08333333333333,
          85.5,
          81.91666666666667,
          83.66666666666667,
          84.83333333333334,
          84.83333333333334,
          85.91666666666666,
          83.5,
          82.25,
          83.83333333333334,
          76.33333333333333,
          74.08333333333333,
          83,
          84.16666666666667,
          85,
          83.58333333333333,
          83.16666666666667,
          85.5,
          53.583333333333336,
          84.83333333333334,
          19.583333333333332
         ],
         "yaxis": "y4"
        },
        {
         "marker": {
          "color": [
           0,
           1,
           2,
           3,
           4,
           5,
           6,
           7,
           8,
           9,
           10,
           11,
           12,
           13,
           14,
           15,
           16,
           17,
           18,
           19,
           20,
           21,
           22,
           23,
           24,
           25,
           26,
           27,
           28,
           29,
           30,
           31,
           32,
           33,
           34,
           35,
           36,
           37,
           38,
           39,
           40,
           41,
           42,
           43,
           44,
           45,
           46,
           47,
           48,
           49
          ],
          "colorbar": {
           "title": {
            "text": "Trial"
           },
           "x": 1,
           "xpad": 40
          },
          "colorscale": [
           [
            0,
            "rgb(247,251,255)"
           ],
           [
            0.125,
            "rgb(222,235,247)"
           ],
           [
            0.25,
            "rgb(198,219,239)"
           ],
           [
            0.375,
            "rgb(158,202,225)"
           ],
           [
            0.5,
            "rgb(107,174,214)"
           ],
           [
            0.625,
            "rgb(66,146,198)"
           ],
           [
            0.75,
            "rgb(33,113,181)"
           ],
           [
            0.875,
            "rgb(8,81,156)"
           ],
           [
            1,
            "rgb(8,48,107)"
           ]
          ],
          "line": {
           "color": "Grey",
           "width": 0.5
          },
          "showscale": false
         },
         "mode": "markers",
         "name": "Feasible Trial",
         "showlegend": false,
         "type": "scatter",
         "x": [
          104,
          32,
          72,
          112,
          112,
          88,
          128,
          88,
          120,
          64,
          8,
          88,
          56,
          96,
          88,
          48,
          96,
          72,
          40,
          80,
          104,
          112,
          128,
          104,
          104,
          96,
          80,
          104,
          120,
          120,
          120,
          120,
          128,
          112,
          120,
          120,
          112,
          128,
          112,
          24,
          120,
          120,
          128,
          112,
          112,
          104,
          112,
          96,
          112,
          128
         ],
         "xaxis": "x5",
         "y": [
          62.083333333333336,
          46.58333333333333,
          83.25,
          82.25,
          83.75,
          72.58333333333333,
          81.41666666666667,
          84.5,
          83.66666666666667,
          15.833333333333332,
          76.08333333333334,
          83.75,
          82.33333333333334,
          83.83333333333334,
          82.08333333333333,
          82.66666666666667,
          83.41666666666666,
          80.91666666666667,
          82.16666666666667,
          80.5,
          74.58333333333333,
          82.16666666666667,
          83.08333333333333,
          84.08333333333333,
          84.41666666666666,
          81.41666666666667,
          81,
          84.25,
          84.75,
          82.08333333333333,
          85.5,
          81.91666666666667,
          83.66666666666667,
          84.83333333333334,
          84.83333333333334,
          85.91666666666666,
          83.5,
          82.25,
          83.83333333333334,
          76.33333333333333,
          74.08333333333333,
          83,
          84.16666666666667,
          85,
          83.58333333333333,
          83.16666666666667,
          85.5,
          53.583333333333336,
          84.83333333333334,
          19.583333333333332
         ],
         "yaxis": "y5"
        },
        {
         "marker": {
          "color": [
           0,
           1,
           2,
           3,
           4,
           5,
           6,
           7,
           8,
           9,
           10,
           11,
           12,
           13,
           14,
           15,
           16,
           17,
           18,
           19,
           20,
           21,
           22,
           23,
           24,
           25,
           26,
           27,
           28,
           29,
           30,
           31,
           32,
           33,
           34,
           35,
           36,
           37,
           38,
           39,
           40,
           41,
           42,
           43,
           44,
           45,
           46,
           47,
           48,
           49
          ],
          "colorbar": {
           "title": {
            "text": "Trial"
           },
           "x": 1,
           "xpad": 40
          },
          "colorscale": [
           [
            0,
            "rgb(247,251,255)"
           ],
           [
            0.125,
            "rgb(222,235,247)"
           ],
           [
            0.25,
            "rgb(198,219,239)"
           ],
           [
            0.375,
            "rgb(158,202,225)"
           ],
           [
            0.5,
            "rgb(107,174,214)"
           ],
           [
            0.625,
            "rgb(66,146,198)"
           ],
           [
            0.75,
            "rgb(33,113,181)"
           ],
           [
            0.875,
            "rgb(8,81,156)"
           ],
           [
            1,
            "rgb(8,48,107)"
           ]
          ],
          "line": {
           "color": "Grey",
           "width": 0.5
          },
          "showscale": false
         },
         "mode": "markers",
         "name": "Feasible Trial",
         "showlegend": false,
         "type": "scatter",
         "x": [
          5,
          3,
          4,
          3,
          5,
          5,
          3,
          3,
          1,
          4,
          1,
          2,
          4,
          2,
          2,
          2,
          2,
          1,
          2,
          3,
          3,
          4,
          5,
          4,
          4,
          4,
          4,
          3,
          3,
          3,
          3,
          3,
          3,
          3,
          3,
          3,
          2,
          3,
          3,
          3,
          3,
          3,
          3,
          3,
          2,
          3,
          4,
          5,
          4,
          5
         ],
         "xaxis": "x6",
         "y": [
          62.083333333333336,
          46.58333333333333,
          83.25,
          82.25,
          83.75,
          72.58333333333333,
          81.41666666666667,
          84.5,
          83.66666666666667,
          15.833333333333332,
          76.08333333333334,
          83.75,
          82.33333333333334,
          83.83333333333334,
          82.08333333333333,
          82.66666666666667,
          83.41666666666666,
          80.91666666666667,
          82.16666666666667,
          80.5,
          74.58333333333333,
          82.16666666666667,
          83.08333333333333,
          84.08333333333333,
          84.41666666666666,
          81.41666666666667,
          81,
          84.25,
          84.75,
          82.08333333333333,
          85.5,
          81.91666666666667,
          83.66666666666667,
          84.83333333333334,
          84.83333333333334,
          85.91666666666666,
          83.5,
          82.25,
          83.83333333333334,
          76.33333333333333,
          74.08333333333333,
          83,
          84.16666666666667,
          85,
          83.58333333333333,
          83.16666666666667,
          85.5,
          53.583333333333336,
          84.83333333333334,
          19.583333333333332
         ],
         "yaxis": "y6"
        },
        {
         "marker": {
          "color": [
           0,
           1,
           2,
           3,
           4,
           5,
           6,
           7,
           8,
           9,
           10,
           11,
           12,
           13,
           14,
           15,
           16,
           17,
           18,
           19,
           20,
           21,
           22,
           23,
           24,
           25,
           26,
           27,
           28,
           29,
           30,
           31,
           32,
           33,
           34,
           35,
           36,
           37,
           38,
           39,
           40,
           41,
           42,
           43,
           44,
           45,
           46,
           47,
           48,
           49
          ],
          "colorbar": {
           "title": {
            "text": "Trial"
           },
           "x": 1,
           "xpad": 40
          },
          "colorscale": [
           [
            0,
            "rgb(247,251,255)"
           ],
           [
            0.125,
            "rgb(222,235,247)"
           ],
           [
            0.25,
            "rgb(198,219,239)"
           ],
           [
            0.375,
            "rgb(158,202,225)"
           ],
           [
            0.5,
            "rgb(107,174,214)"
           ],
           [
            0.625,
            "rgb(66,146,198)"
           ],
           [
            0.75,
            "rgb(33,113,181)"
           ],
           [
            0.875,
            "rgb(8,81,156)"
           ],
           [
            1,
            "rgb(8,48,107)"
           ]
          ],
          "line": {
           "color": "Grey",
           "width": 0.5
          },
          "showscale": false
         },
         "mode": "markers",
         "name": "Feasible Trial",
         "showlegend": false,
         "type": "scatter",
         "x": [
          "SGD",
          "SGD",
          "SGD",
          "RMSProp",
          "Adam",
          "Adam",
          "SGD",
          "Adam",
          "RMSProp",
          "SGD",
          "Adam",
          "Adam",
          "Adam",
          "Adam",
          "Adam",
          "Adam",
          "Adam",
          "RMSProp",
          "Adam",
          "Adam",
          "RMSProp",
          "Adam",
          "Adam",
          "Adam",
          "Adam",
          "Adam",
          "Adam",
          "Adam",
          "RMSProp",
          "RMSProp",
          "RMSProp",
          "RMSProp",
          "RMSProp",
          "RMSProp",
          "RMSProp",
          "RMSProp",
          "RMSProp",
          "RMSProp",
          "RMSProp",
          "RMSProp",
          "SGD",
          "RMSProp",
          "RMSProp",
          "RMSProp",
          "RMSProp",
          "RMSProp",
          "RMSProp",
          "SGD",
          "RMSProp",
          "RMSProp"
         ],
         "xaxis": "x7",
         "y": [
          62.083333333333336,
          46.58333333333333,
          83.25,
          82.25,
          83.75,
          72.58333333333333,
          81.41666666666667,
          84.5,
          83.66666666666667,
          15.833333333333332,
          76.08333333333334,
          83.75,
          82.33333333333334,
          83.83333333333334,
          82.08333333333333,
          82.66666666666667,
          83.41666666666666,
          80.91666666666667,
          82.16666666666667,
          80.5,
          74.58333333333333,
          82.16666666666667,
          83.08333333333333,
          84.08333333333333,
          84.41666666666666,
          81.41666666666667,
          81,
          84.25,
          84.75,
          82.08333333333333,
          85.5,
          81.91666666666667,
          83.66666666666667,
          84.83333333333334,
          84.83333333333334,
          85.91666666666666,
          83.5,
          82.25,
          83.83333333333334,
          76.33333333333333,
          74.08333333333333,
          83,
          84.16666666666667,
          85,
          83.58333333333333,
          83.16666666666667,
          85.5,
          53.583333333333336,
          84.83333333333334,
          19.583333333333332
         ],
         "yaxis": "y7"
        },
        {
         "marker": {
          "color": [
           0,
           1,
           2,
           3,
           4,
           5,
           6,
           7,
           8,
           9,
           10,
           11,
           12,
           13,
           14,
           15,
           16,
           17,
           18,
           19,
           20,
           21,
           22,
           23,
           24,
           25,
           26,
           27,
           28,
           29,
           30,
           31,
           32,
           33,
           34,
           35,
           36,
           37,
           38,
           39,
           40,
           41,
           42,
           43,
           44,
           45,
           46,
           47,
           48,
           49
          ],
          "colorbar": {
           "title": {
            "text": "Trial"
           },
           "x": 1,
           "xpad": 40
          },
          "colorscale": [
           [
            0,
            "rgb(247,251,255)"
           ],
           [
            0.125,
            "rgb(222,235,247)"
           ],
           [
            0.25,
            "rgb(198,219,239)"
           ],
           [
            0.375,
            "rgb(158,202,225)"
           ],
           [
            0.5,
            "rgb(107,174,214)"
           ],
           [
            0.625,
            "rgb(66,146,198)"
           ],
           [
            0.75,
            "rgb(33,113,181)"
           ],
           [
            0.875,
            "rgb(8,81,156)"
           ],
           [
            1,
            "rgb(8,48,107)"
           ]
          ],
          "line": {
           "color": "Grey",
           "width": 0.5
          },
          "showscale": false
         },
         "mode": "markers",
         "name": "Feasible Trial",
         "showlegend": false,
         "type": "scatter",
         "x": [
          0.0006030572806877948,
          0.000017267872859730894,
          0.0002003891046446997,
          0.0002675833225815239,
          0.000058718414537544966,
          0.0004932668772810958,
          0.00004417361247719773,
          0.00012039528848626058,
          0.0006924466498844899,
          0.0009174670220593022,
          0.00011267708093824678,
          0.00004584268787355865,
          0.000050280778428755706,
          0.000010695476345287184,
          0.000022964810673419587,
          0.000012094978678250213,
          0.00011139959662371032,
          0.00020443510150137817,
          0.000030442008652608602,
          0.00001149348088047172,
          0.00009140754206228326,
          0.00007479489631463367,
          0.0001659374738876341,
          0.00006204684057371488,
          0.00031414855097441387,
          0.0003646064116017021,
          0.0003360937164140219,
          0.00011413557089106621,
          0.00015348015683398566,
          0.00014911935711649018,
          0.000474271322805089,
          0.0004458520025100744,
          0.00027132936748607814,
          0.0006881625028625726,
          0.0006656089257060337,
          0.0008577872009375,
          0.00094095705324019,
          0.0006554424691858177,
          0.0004833915256556394,
          0.0007613554698886802,
          0.0005571718181379366,
          0.0007533931873569096,
          0.0004121644255438535,
          0.000564202750805794,
          0.0005856060447330134,
          0.0009571948007830283,
          0.000778259660661666,
          0.000539256460634418,
          0.0008083603457803395,
          0.00027100619377422747
         ],
         "xaxis": "x8",
         "y": [
          62.083333333333336,
          46.58333333333333,
          83.25,
          82.25,
          83.75,
          72.58333333333333,
          81.41666666666667,
          84.5,
          83.66666666666667,
          15.833333333333332,
          76.08333333333334,
          83.75,
          82.33333333333334,
          83.83333333333334,
          82.08333333333333,
          82.66666666666667,
          83.41666666666666,
          80.91666666666667,
          82.16666666666667,
          80.5,
          74.58333333333333,
          82.16666666666667,
          83.08333333333333,
          84.08333333333333,
          84.41666666666666,
          81.41666666666667,
          81,
          84.25,
          84.75,
          82.08333333333333,
          85.5,
          81.91666666666667,
          83.66666666666667,
          84.83333333333334,
          84.83333333333334,
          85.91666666666666,
          83.5,
          82.25,
          83.83333333333334,
          76.33333333333333,
          74.08333333333333,
          83,
          84.16666666666667,
          85,
          83.58333333333333,
          83.16666666666667,
          85.5,
          53.583333333333336,
          84.83333333333334,
          19.583333333333332
         ],
         "yaxis": "y8"
        }
       ],
       "layout": {
        "template": {
         "data": {
          "bar": [
           {
            "error_x": {
             "color": "#2a3f5f"
            },
            "error_y": {
             "color": "#2a3f5f"
            },
            "marker": {
             "line": {
              "color": "#E5ECF6",
              "width": 0.5
             },
             "pattern": {
              "fillmode": "overlay",
              "size": 10,
              "solidity": 0.2
             }
            },
            "type": "bar"
           }
          ],
          "barpolar": [
           {
            "marker": {
             "line": {
              "color": "#E5ECF6",
              "width": 0.5
             },
             "pattern": {
              "fillmode": "overlay",
              "size": 10,
              "solidity": 0.2
             }
            },
            "type": "barpolar"
           }
          ],
          "carpet": [
           {
            "aaxis": {
             "endlinecolor": "#2a3f5f",
             "gridcolor": "white",
             "linecolor": "white",
             "minorgridcolor": "white",
             "startlinecolor": "#2a3f5f"
            },
            "baxis": {
             "endlinecolor": "#2a3f5f",
             "gridcolor": "white",
             "linecolor": "white",
             "minorgridcolor": "white",
             "startlinecolor": "#2a3f5f"
            },
            "type": "carpet"
           }
          ],
          "choropleth": [
           {
            "colorbar": {
             "outlinewidth": 0,
             "ticks": ""
            },
            "type": "choropleth"
           }
          ],
          "contour": [
           {
            "colorbar": {
             "outlinewidth": 0,
             "ticks": ""
            },
            "colorscale": [
             [
              0,
              "#0d0887"
             ],
             [
              0.1111111111111111,
              "#46039f"
             ],
             [
              0.2222222222222222,
              "#7201a8"
             ],
             [
              0.3333333333333333,
              "#9c179e"
             ],
             [
              0.4444444444444444,
              "#bd3786"
             ],
             [
              0.5555555555555556,
              "#d8576b"
             ],
             [
              0.6666666666666666,
              "#ed7953"
             ],
             [
              0.7777777777777778,
              "#fb9f3a"
             ],
             [
              0.8888888888888888,
              "#fdca26"
             ],
             [
              1,
              "#f0f921"
             ]
            ],
            "type": "contour"
           }
          ],
          "contourcarpet": [
           {
            "colorbar": {
             "outlinewidth": 0,
             "ticks": ""
            },
            "type": "contourcarpet"
           }
          ],
          "heatmap": [
           {
            "colorbar": {
             "outlinewidth": 0,
             "ticks": ""
            },
            "colorscale": [
             [
              0,
              "#0d0887"
             ],
             [
              0.1111111111111111,
              "#46039f"
             ],
             [
              0.2222222222222222,
              "#7201a8"
             ],
             [
              0.3333333333333333,
              "#9c179e"
             ],
             [
              0.4444444444444444,
              "#bd3786"
             ],
             [
              0.5555555555555556,
              "#d8576b"
             ],
             [
              0.6666666666666666,
              "#ed7953"
             ],
             [
              0.7777777777777778,
              "#fb9f3a"
             ],
             [
              0.8888888888888888,
              "#fdca26"
             ],
             [
              1,
              "#f0f921"
             ]
            ],
            "type": "heatmap"
           }
          ],
          "histogram": [
           {
            "marker": {
             "pattern": {
              "fillmode": "overlay",
              "size": 10,
              "solidity": 0.2
             }
            },
            "type": "histogram"
           }
          ],
          "histogram2d": [
           {
            "colorbar": {
             "outlinewidth": 0,
             "ticks": ""
            },
            "colorscale": [
             [
              0,
              "#0d0887"
             ],
             [
              0.1111111111111111,
              "#46039f"
             ],
             [
              0.2222222222222222,
              "#7201a8"
             ],
             [
              0.3333333333333333,
              "#9c179e"
             ],
             [
              0.4444444444444444,
              "#bd3786"
             ],
             [
              0.5555555555555556,
              "#d8576b"
             ],
             [
              0.6666666666666666,
              "#ed7953"
             ],
             [
              0.7777777777777778,
              "#fb9f3a"
             ],
             [
              0.8888888888888888,
              "#fdca26"
             ],
             [
              1,
              "#f0f921"
             ]
            ],
            "type": "histogram2d"
           }
          ],
          "histogram2dcontour": [
           {
            "colorbar": {
             "outlinewidth": 0,
             "ticks": ""
            },
            "colorscale": [
             [
              0,
              "#0d0887"
             ],
             [
              0.1111111111111111,
              "#46039f"
             ],
             [
              0.2222222222222222,
              "#7201a8"
             ],
             [
              0.3333333333333333,
              "#9c179e"
             ],
             [
              0.4444444444444444,
              "#bd3786"
             ],
             [
              0.5555555555555556,
              "#d8576b"
             ],
             [
              0.6666666666666666,
              "#ed7953"
             ],
             [
              0.7777777777777778,
              "#fb9f3a"
             ],
             [
              0.8888888888888888,
              "#fdca26"
             ],
             [
              1,
              "#f0f921"
             ]
            ],
            "type": "histogram2dcontour"
           }
          ],
          "mesh3d": [
           {
            "colorbar": {
             "outlinewidth": 0,
             "ticks": ""
            },
            "type": "mesh3d"
           }
          ],
          "parcoords": [
           {
            "line": {
             "colorbar": {
              "outlinewidth": 0,
              "ticks": ""
             }
            },
            "type": "parcoords"
           }
          ],
          "pie": [
           {
            "automargin": true,
            "type": "pie"
           }
          ],
          "scatter": [
           {
            "fillpattern": {
             "fillmode": "overlay",
             "size": 10,
             "solidity": 0.2
            },
            "type": "scatter"
           }
          ],
          "scatter3d": [
           {
            "line": {
             "colorbar": {
              "outlinewidth": 0,
              "ticks": ""
             }
            },
            "marker": {
             "colorbar": {
              "outlinewidth": 0,
              "ticks": ""
             }
            },
            "type": "scatter3d"
           }
          ],
          "scattercarpet": [
           {
            "marker": {
             "colorbar": {
              "outlinewidth": 0,
              "ticks": ""
             }
            },
            "type": "scattercarpet"
           }
          ],
          "scattergeo": [
           {
            "marker": {
             "colorbar": {
              "outlinewidth": 0,
              "ticks": ""
             }
            },
            "type": "scattergeo"
           }
          ],
          "scattergl": [
           {
            "marker": {
             "colorbar": {
              "outlinewidth": 0,
              "ticks": ""
             }
            },
            "type": "scattergl"
           }
          ],
          "scattermap": [
           {
            "marker": {
             "colorbar": {
              "outlinewidth": 0,
              "ticks": ""
             }
            },
            "type": "scattermap"
           }
          ],
          "scattermapbox": [
           {
            "marker": {
             "colorbar": {
              "outlinewidth": 0,
              "ticks": ""
             }
            },
            "type": "scattermapbox"
           }
          ],
          "scatterpolar": [
           {
            "marker": {
             "colorbar": {
              "outlinewidth": 0,
              "ticks": ""
             }
            },
            "type": "scatterpolar"
           }
          ],
          "scatterpolargl": [
           {
            "marker": {
             "colorbar": {
              "outlinewidth": 0,
              "ticks": ""
             }
            },
            "type": "scatterpolargl"
           }
          ],
          "scatterternary": [
           {
            "marker": {
             "colorbar": {
              "outlinewidth": 0,
              "ticks": ""
             }
            },
            "type": "scatterternary"
           }
          ],
          "surface": [
           {
            "colorbar": {
             "outlinewidth": 0,
             "ticks": ""
            },
            "colorscale": [
             [
              0,
              "#0d0887"
             ],
             [
              0.1111111111111111,
              "#46039f"
             ],
             [
              0.2222222222222222,
              "#7201a8"
             ],
             [
              0.3333333333333333,
              "#9c179e"
             ],
             [
              0.4444444444444444,
              "#bd3786"
             ],
             [
              0.5555555555555556,
              "#d8576b"
             ],
             [
              0.6666666666666666,
              "#ed7953"
             ],
             [
              0.7777777777777778,
              "#fb9f3a"
             ],
             [
              0.8888888888888888,
              "#fdca26"
             ],
             [
              1,
              "#f0f921"
             ]
            ],
            "type": "surface"
           }
          ],
          "table": [
           {
            "cells": {
             "fill": {
              "color": "#EBF0F8"
             },
             "line": {
              "color": "white"
             }
            },
            "header": {
             "fill": {
              "color": "#C8D4E3"
             },
             "line": {
              "color": "white"
             }
            },
            "type": "table"
           }
          ]
         },
         "layout": {
          "annotationdefaults": {
           "arrowcolor": "#2a3f5f",
           "arrowhead": 0,
           "arrowwidth": 1
          },
          "autotypenumbers": "strict",
          "coloraxis": {
           "colorbar": {
            "outlinewidth": 0,
            "ticks": ""
           }
          },
          "colorscale": {
           "diverging": [
            [
             0,
             "#8e0152"
            ],
            [
             0.1,
             "#c51b7d"
            ],
            [
             0.2,
             "#de77ae"
            ],
            [
             0.3,
             "#f1b6da"
            ],
            [
             0.4,
             "#fde0ef"
            ],
            [
             0.5,
             "#f7f7f7"
            ],
            [
             0.6,
             "#e6f5d0"
            ],
            [
             0.7,
             "#b8e186"
            ],
            [
             0.8,
             "#7fbc41"
            ],
            [
             0.9,
             "#4d9221"
            ],
            [
             1,
             "#276419"
            ]
           ],
           "sequential": [
            [
             0,
             "#0d0887"
            ],
            [
             0.1111111111111111,
             "#46039f"
            ],
            [
             0.2222222222222222,
             "#7201a8"
            ],
            [
             0.3333333333333333,
             "#9c179e"
            ],
            [
             0.4444444444444444,
             "#bd3786"
            ],
            [
             0.5555555555555556,
             "#d8576b"
            ],
            [
             0.6666666666666666,
             "#ed7953"
            ],
            [
             0.7777777777777778,
             "#fb9f3a"
            ],
            [
             0.8888888888888888,
             "#fdca26"
            ],
            [
             1,
             "#f0f921"
            ]
           ],
           "sequentialminus": [
            [
             0,
             "#0d0887"
            ],
            [
             0.1111111111111111,
             "#46039f"
            ],
            [
             0.2222222222222222,
             "#7201a8"
            ],
            [
             0.3333333333333333,
             "#9c179e"
            ],
            [
             0.4444444444444444,
             "#bd3786"
            ],
            [
             0.5555555555555556,
             "#d8576b"
            ],
            [
             0.6666666666666666,
             "#ed7953"
            ],
            [
             0.7777777777777778,
             "#fb9f3a"
            ],
            [
             0.8888888888888888,
             "#fdca26"
            ],
            [
             1,
             "#f0f921"
            ]
           ]
          },
          "colorway": [
           "#636efa",
           "#EF553B",
           "#00cc96",
           "#ab63fa",
           "#FFA15A",
           "#19d3f3",
           "#FF6692",
           "#B6E880",
           "#FF97FF",
           "#FECB52"
          ],
          "font": {
           "color": "#2a3f5f"
          },
          "geo": {
           "bgcolor": "white",
           "lakecolor": "white",
           "landcolor": "#E5ECF6",
           "showlakes": true,
           "showland": true,
           "subunitcolor": "white"
          },
          "hoverlabel": {
           "align": "left"
          },
          "hovermode": "closest",
          "mapbox": {
           "style": "light"
          },
          "paper_bgcolor": "white",
          "plot_bgcolor": "#E5ECF6",
          "polar": {
           "angularaxis": {
            "gridcolor": "white",
            "linecolor": "white",
            "ticks": ""
           },
           "bgcolor": "#E5ECF6",
           "radialaxis": {
            "gridcolor": "white",
            "linecolor": "white",
            "ticks": ""
           }
          },
          "scene": {
           "xaxis": {
            "backgroundcolor": "#E5ECF6",
            "gridcolor": "white",
            "gridwidth": 2,
            "linecolor": "white",
            "showbackground": true,
            "ticks": "",
            "zerolinecolor": "white"
           },
           "yaxis": {
            "backgroundcolor": "#E5ECF6",
            "gridcolor": "white",
            "gridwidth": 2,
            "linecolor": "white",
            "showbackground": true,
            "ticks": "",
            "zerolinecolor": "white"
           },
           "zaxis": {
            "backgroundcolor": "#E5ECF6",
            "gridcolor": "white",
            "gridwidth": 2,
            "linecolor": "white",
            "showbackground": true,
            "ticks": "",
            "zerolinecolor": "white"
           }
          },
          "shapedefaults": {
           "line": {
            "color": "#2a3f5f"
           }
          },
          "ternary": {
           "aaxis": {
            "gridcolor": "white",
            "linecolor": "white",
            "ticks": ""
           },
           "baxis": {
            "gridcolor": "white",
            "linecolor": "white",
            "ticks": ""
           },
           "bgcolor": "#E5ECF6",
           "caxis": {
            "gridcolor": "white",
            "linecolor": "white",
            "ticks": ""
           }
          },
          "title": {
           "x": 0.05
          },
          "xaxis": {
           "automargin": true,
           "gridcolor": "white",
           "linecolor": "white",
           "ticks": "",
           "title": {
            "standoff": 15
           },
           "zerolinecolor": "white",
           "zerolinewidth": 2
          },
          "yaxis": {
           "automargin": true,
           "gridcolor": "white",
           "linecolor": "white",
           "ticks": "",
           "title": {
            "standoff": 15
           },
           "zerolinecolor": "white",
           "zerolinewidth": 2
          }
         }
        },
        "title": {
         "text": "Slice Plot"
        },
        "width": 2400,
        "xaxis": {
         "anchor": "y",
         "categoryarray": [
          16,
          32,
          64,
          128
         ],
         "categoryorder": "array",
         "domain": [
          0,
          0.103125
         ],
         "title": {
          "text": "batch_size"
         },
         "type": "category"
        },
        "xaxis2": {
         "anchor": "y2",
         "domain": [
          0.128125,
          0.23124999999999998
         ],
         "title": {
          "text": "dropout_rate"
         }
        },
        "xaxis3": {
         "anchor": "y3",
         "domain": [
          0.25625,
          0.359375
         ],
         "title": {
          "text": "epochs"
         }
        },
        "xaxis4": {
         "anchor": "y4",
         "domain": [
          0.38437499999999997,
          0.48749999999999993
         ],
         "title": {
          "text": "learning_rate"
         },
         "type": "log"
        },
        "xaxis5": {
         "anchor": "y5",
         "domain": [
          0.5125,
          0.615625
         ],
         "title": {
          "text": "neurons_per_layer"
         }
        },
        "xaxis6": {
         "anchor": "y6",
         "domain": [
          0.640625,
          0.74375
         ],
         "title": {
          "text": "num_hidden_layers"
         }
        },
        "xaxis7": {
         "anchor": "y7",
         "categoryarray": [
          "Adam",
          "SGD",
          "RMSProp"
         ],
         "categoryorder": "array",
         "domain": [
          0.76875,
          0.8718750000000001
         ],
         "title": {
          "text": "optimizer"
         },
         "type": "category"
        },
        "xaxis8": {
         "anchor": "y8",
         "domain": [
          0.8968750000000001,
          1
         ],
         "title": {
          "text": "weight_decay"
         },
         "type": "log"
        },
        "yaxis": {
         "anchor": "x",
         "domain": [
          0,
          1
         ],
         "title": {
          "text": "Objective Value"
         }
        },
        "yaxis2": {
         "anchor": "x2",
         "domain": [
          0,
          1
         ],
         "matches": "y",
         "showticklabels": false
        },
        "yaxis3": {
         "anchor": "x3",
         "domain": [
          0,
          1
         ],
         "matches": "y",
         "showticklabels": false
        },
        "yaxis4": {
         "anchor": "x4",
         "domain": [
          0,
          1
         ],
         "matches": "y",
         "showticklabels": false
        },
        "yaxis5": {
         "anchor": "x5",
         "domain": [
          0,
          1
         ],
         "matches": "y",
         "showticklabels": false
        },
        "yaxis6": {
         "anchor": "x6",
         "domain": [
          0,
          1
         ],
         "matches": "y",
         "showticklabels": false
        },
        "yaxis7": {
         "anchor": "x7",
         "domain": [
          0,
          1
         ],
         "matches": "y",
         "showticklabels": false
        },
        "yaxis8": {
         "anchor": "x8",
         "domain": [
          0,
          1
         ],
         "matches": "y",
         "showticklabels": false
        }
       }
      }
     },
     "metadata": {},
     "output_type": "display_data"
    }
   ],
   "source": [
    "# 3. slice plot\n",
    "plot_slice(study).show()"
   ]
  },
  {
   "cell_type": "code",
   "execution_count": 14,
   "id": "88651c63",
   "metadata": {},
   "outputs": [
    {
     "data": {
      "application/vnd.plotly.v1+json": {
       "config": {
        "plotlyServerURL": "https://plot.ly"
       },
       "data": [
        {
         "type": "scatter",
         "xaxis": "x",
         "yaxis": "y"
        },
        {
         "colorbar": {
          "title": {
           "text": "Objective Value"
          }
         },
         "colorscale": [
          [
           0,
           "rgb(247,251,255)"
          ],
          [
           0.125,
           "rgb(222,235,247)"
          ],
          [
           0.25,
           "rgb(198,219,239)"
          ],
          [
           0.375,
           "rgb(158,202,225)"
          ],
          [
           0.5,
           "rgb(107,174,214)"
          ],
          [
           0.625,
           "rgb(66,146,198)"
          ],
          [
           0.75,
           "rgb(33,113,181)"
          ],
          [
           0.875,
           "rgb(8,81,156)"
          ],
          [
           1,
           "rgb(8,48,107)"
          ]
         ],
         "connectgaps": true,
         "contours": {
          "coloring": "heatmap"
         },
         "hoverinfo": "none",
         "line": {
          "smoothing": 1.3
         },
         "reversescale": false,
         "showscale": true,
         "type": "contour",
         "x": [
          10.399999999999999,
          16,
          32,
          64,
          128,
          133.6
         ],
         "xaxis": "x9",
         "y": [
          0.08,
          0.1,
          0.2,
          0.30000000000000004,
          0.4,
          0.5,
          0.52
         ],
         "yaxis": "y9",
         "z": {
          "bdata": "AAAAAAAA+H8AAAAAAAD4fwAAAAAAAPh/AAAAAAAA+H8AAAAAAAD4fwAAAAAAAPh/AAAAAAAA+H+qqqqqqnpVQAAAAAAA0FRAVlVVVVU1VUCrqqqqqjpUQAAAAAAAAPh/AAAAAAAA+H8AAAAAABBVQFVVVVVVBVVAAAAAAABAVEAAAAAAACBVQAAAAAAAAPh/AAAAAAAA+H8AAAAAAAD4fwAAAAAA8FRAAAAAAAAgVEBWVVVVVZVUQAAAAAAAAPh/AAAAAAAA+H+rqqqqqupUQAAAAAAAAPh/q6qqqqoKT0AAAAAAAAD4fwAAAAAAAPh/AAAAAAAA+H8AAAAAAAD4fwAAAAAAAPh/qqqqqqqqL0BVVVVVVaVSQAAAAAAAAPh/AAAAAAAA+H8AAAAAAAD4fwAAAAAAAPh/AAAAAAAA+H8AAAAAAAD4fwAAAAAAAPh/",
          "dtype": "f8",
          "shape": "7, 6"
         }
        },
        {
         "marker": {
          "color": "black",
          "line": {
           "color": "Gray",
           "width": 2
          }
         },
         "mode": "markers",
         "name": "Feasible Trial",
         "showlegend": false,
         "type": "scatter",
         "x": [
          64,
          32,
          32,
          16,
          32,
          128,
          16,
          128,
          16,
          64,
          128,
          32,
          128,
          128,
          128,
          128,
          128,
          128,
          128,
          64,
          128,
          32,
          32,
          32,
          128,
          32,
          64,
          16,
          16,
          16,
          16,
          16,
          16,
          16,
          16,
          16,
          16,
          16,
          16,
          16,
          16,
          16,
          16,
          16,
          16,
          16,
          16,
          16,
          64,
          16
         ],
         "xaxis": "x9",
         "y": [
          0.4,
          0.1,
          0.1,
          0.4,
          0.30000000000000004,
          0.30000000000000004,
          0.1,
          0.2,
          0.4,
          0.5,
          0.2,
          0.2,
          0.30000000000000004,
          0.2,
          0.2,
          0.2,
          0.2,
          0.1,
          0.2,
          0.30000000000000004,
          0.5,
          0.30000000000000004,
          0.30000000000000004,
          0.2,
          0.2,
          0.1,
          0.2,
          0.2,
          0.1,
          0.1,
          0.1,
          0.1,
          0.1,
          0.1,
          0.1,
          0.1,
          0.1,
          0.1,
          0.1,
          0.1,
          0.1,
          0.1,
          0.1,
          0.1,
          0.1,
          0.1,
          0.1,
          0.1,
          0.1,
          0.4
         ],
         "yaxis": "y9"
        },
        {
         "colorbar": {
          "title": {
           "text": "Objective Value"
          }
         },
         "colorscale": [
          [
           0,
           "rgb(247,251,255)"
          ],
          [
           0.125,
           "rgb(222,235,247)"
          ],
          [
           0.25,
           "rgb(198,219,239)"
          ],
          [
           0.375,
           "rgb(158,202,225)"
          ],
          [
           0.5,
           "rgb(107,174,214)"
          ],
          [
           0.625,
           "rgb(66,146,198)"
          ],
          [
           0.75,
           "rgb(33,113,181)"
          ],
          [
           0.875,
           "rgb(8,81,156)"
          ],
          [
           1,
           "rgb(8,48,107)"
          ]
         ],
         "connectgaps": true,
         "contours": {
          "coloring": "heatmap"
         },
         "hoverinfo": "none",
         "line": {
          "smoothing": 1.3
         },
         "reversescale": false,
         "showscale": false,
         "type": "contour",
         "x": [
          10.399999999999999,
          16,
          32,
          64,
          128,
          133.6
         ],
         "xaxis": "x17",
         "y": [
          8,
          10,
          20,
          30,
          40,
          50,
          52
         ],
         "yaxis": "y17",
         "z": {
          "bdata": "AAAAAAAA+H8AAAAAAAD4fwAAAAAAAPh/AAAAAAAA+H8AAAAAAAD4fwAAAAAAAPh/AAAAAAAA+H+rqqqqqlpUQAAAAAAA8FRAq6qqqqoKT0AAAAAAAAD4fwAAAAAAAPh/AAAAAAAA+H8AAAAAAGBVQFVVVVVVBVVAVlVVVVU1VUCqqqqqqhpVQAAAAAAAAPh/AAAAAAAA+H+qqqqqqnpVQAAAAAAAAPh/AAAAAAAA+H9VVVVVVaVSQAAAAAAAAPh/AAAAAAAA+H9VVVVVVYVSQAAAAAAA0FRAAAAAAAAA+H9WVVVVVfVUQAAAAAAAAPh/AAAAAAAA+H8AAAAAAAD4f6qqqqqqSkdAAAAAAAAgVEAAAAAAACBVQAAAAAAAAPh/AAAAAAAA+H8AAAAAAAD4fwAAAAAAAPh/AAAAAAAA+H8AAAAAAAD4fwAAAAAAAPh/",
          "dtype": "f8",
          "shape": "7, 6"
         }
        },
        {
         "marker": {
          "color": "black",
          "line": {
           "color": "Gray",
           "width": 2
          }
         },
         "mode": "markers",
         "name": "Feasible Trial",
         "showlegend": false,
         "type": "scatter",
         "x": [
          64,
          32,
          32,
          16,
          32,
          128,
          16,
          128,
          16,
          64,
          128,
          32,
          128,
          128,
          128,
          128,
          128,
          128,
          128,
          64,
          128,
          32,
          32,
          32,
          128,
          32,
          64,
          16,
          16,
          16,
          16,
          16,
          16,
          16,
          16,
          16,
          16,
          16,
          16,
          16,
          16,
          16,
          16,
          16,
          16,
          16,
          16,
          16,
          64,
          16
         ],
         "xaxis": "x17",
         "y": [
          10,
          50,
          40,
          30,
          10,
          50,
          10,
          50,
          30,
          20,
          40,
          20,
          20,
          40,
          40,
          50,
          40,
          50,
          40,
          50,
          30,
          10,
          40,
          20,
          20,
          20,
          20,
          30,
          30,
          30,
          30,
          30,
          30,
          30,
          30,
          30,
          30,
          30,
          30,
          30,
          40,
          30,
          30,
          30,
          30,
          20,
          20,
          10,
          20,
          20
         ],
         "yaxis": "y17"
        },
        {
         "colorbar": {
          "title": {
           "text": "Objective Value"
          }
         },
         "colorscale": [
          [
           0,
           "rgb(247,251,255)"
          ],
          [
           0.125,
           "rgb(222,235,247)"
          ],
          [
           0.25,
           "rgb(198,219,239)"
          ],
          [
           0.375,
           "rgb(158,202,225)"
          ],
          [
           0.5,
           "rgb(107,174,214)"
          ],
          [
           0.625,
           "rgb(66,146,198)"
          ],
          [
           0.75,
           "rgb(33,113,181)"
          ],
          [
           0.875,
           "rgb(8,81,156)"
          ],
          [
           1,
           "rgb(8,48,107)"
          ]
         ],
         "connectgaps": true,
         "contours": {
          "coloring": "heatmap"
         },
         "hoverinfo": "none",
         "line": {
          "smoothing": 1.3
         },
         "reversescale": false,
         "showscale": false,
         "type": "contour",
         "x": [
          10.399999999999999,
          16,
          32,
          64,
          128,
          133.6
         ],
         "xaxis": "x25",
         "y": [
          0.000007072541283187389,
          0.00001110376978598369,
          0.000011950548462899992,
          0.000019123060851291802,
          0.000019860708707177768,
          0.000020040668531992272,
          0.00002163872549261281,
          0.00002390330078323597,
          0.00002612835183017675,
          0.000029404095527833733,
          0.00003479474879252498,
          0.00003520663293231582,
          0.000036220252965558876,
          0.000041877331510834896,
          0.000048620371257514394,
          0.000050611394602106545,
          0.00005208430975733577,
          0.00006625963744085291,
          0.00006669238216103824,
          0.00006987056210679689,
          0.00007598827625271952,
          0.00009047445070254732,
          0.00009857550141699971,
          0.00011939965426894092,
          0.00012163946485690261,
          0.00013352630362784012,
          0.00015050344330720008,
          0.00015335460642411939,
          0.0001902712069056088,
          0.00019989475930067544,
          0.00025476220795954977,
          0.0002617809684685859,
          0.0002881825011836019,
          0.00037465546882200145,
          0.00046290239796682167,
          0.0005223371831123543,
          0.0006379538142827019,
          0.0007397601677843805,
          0.0012757896201358236,
          0.001571749776249777,
          0.0019110286305313027,
          0.0021495967704226824,
          0.0024602413983781995,
          0.003911426777511212,
          0.0043321695035891845,
          0.005100990188563874,
          0.009696413197862666,
          0.019415699317830708,
          0.02264213245096893,
          0.0726475000829205,
          0.09191144747250399,
          0.14429941269586738
         ],
         "yaxis": "y25",
         "z": {
          "bdata": "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",
          "dtype": "f8",
          "shape": "52, 6"
         }
        },
        {
         "marker": {
          "color": "black",
          "line": {
           "color": "Gray",
           "width": 2
          }
         },
         "mode": "markers",
         "name": "Feasible Trial",
         "showlegend": false,
         "type": "scatter",
         "x": [
          64,
          32,
          32,
          16,
          32,
          128,
          16,
          128,
          16,
          64,
          128,
          32,
          128,
          128,
          128,
          128,
          128,
          128,
          128,
          64,
          128,
          32,
          32,
          32,
          128,
          32,
          64,
          16,
          16,
          16,
          16,
          16,
          16,
          16,
          16,
          16,
          16,
          16,
          16,
          16,
          16,
          16,
          16,
          16,
          16,
          16,
          16,
          16,
          64,
          16
         ],
         "xaxis": "x25",
         "y": [
          0.005100990188563874,
          0.000019860708707177768,
          0.009696413197862666,
          0.001571749776249777,
          0.0006379538142827019,
          0.02264213245096893,
          0.0726475000829205,
          0.0019110286305313027,
          0.00012163946485690261,
          0.00007598827625271952,
          0.0005223371831123543,
          0.0007397601677843805,
          0.0024602413983781995,
          0.0001902712069056088,
          0.00009047445070254732,
          0.00025476220795954977,
          0.0043321695035891845,
          0.00002163872549261281,
          0.0002617809684685859,
          0.019415699317830708,
          0.00003520663293231582,
          0.00046290239796682167,
          0.0012757896201358236,
          0.00037465546882200145,
          0.00019989475930067544,
          0.0021495967704226824,
          0.00005208430975733577,
          0.0002881825011836019,
          0.00015050344330720008,
          0.003911426777511212,
          0.00015335460642411939,
          0.00001110376978598369,
          0.00013352630362784012,
          0.000050611394602106545,
          0.000036220252965558876,
          0.00003479474879252498,
          0.000029404095527833733,
          0.000011950548462899992,
          0.000048620371257514394,
          0.000019123060851291802,
          0.00006987056210679689,
          0.00011939965426894092,
          0.000041877331510834896,
          0.00002390330078323597,
          0.000020040668531992272,
          0.00002612835183017675,
          0.00006669238216103824,
          0.00006625963744085291,
          0.00009857550141699971,
          0.09191144747250399
         ],
         "yaxis": "y25"
        },
        {
         "colorbar": {
          "title": {
           "text": "Objective Value"
          }
         },
         "colorscale": [
          [
           0,
           "rgb(247,251,255)"
          ],
          [
           0.125,
           "rgb(222,235,247)"
          ],
          [
           0.25,
           "rgb(198,219,239)"
          ],
          [
           0.375,
           "rgb(158,202,225)"
          ],
          [
           0.5,
           "rgb(107,174,214)"
          ],
          [
           0.625,
           "rgb(66,146,198)"
          ],
          [
           0.75,
           "rgb(33,113,181)"
          ],
          [
           0.875,
           "rgb(8,81,156)"
          ],
          [
           1,
           "rgb(8,48,107)"
          ]
         ],
         "connectgaps": true,
         "contours": {
          "coloring": "heatmap"
         },
         "hoverinfo": "none",
         "line": {
          "smoothing": 1.3
         },
         "reversescale": false,
         "showscale": false,
         "type": "contour",
         "x": [
          10.399999999999999,
          16,
          32,
          64,
          128,
          133.6
         ],
         "xaxis": "x33",
         "y": [
          2,
          8,
          24,
          32,
          40,
          48,
          56,
          64,
          72,
          80,
          88,
          96,
          104,
          112,
          120,
          128,
          134
         ],
         "yaxis": "y33",
         "z": {
          "bdata": "AAAAAAAA+H8AAAAAAAD4fwAAAAAAAPh/AAAAAAAA+H8AAAAAAAD4fwAAAAAAAPh/AAAAAAAA+H8AAAAAAAD4fwAAAAAAAPh/AAAAAAAA+H9WVVVVVQVTQAAAAAAAAPh/AAAAAAAA+H9VVVVVVRVTQAAAAAAAAPh/AAAAAAAA+H8AAAAAAAD4fwAAAAAAAPh/AAAAAAAA+H8AAAAAAAD4f6qqqqqqSkdAAAAAAAAA+H8AAAAAAAD4fwAAAAAAAPh/AAAAAAAA+H8AAAAAAAD4fwAAAAAAAPh/AAAAAAAA+H+rqqqqqopUQAAAAAAAAPh/AAAAAAAA+H8AAAAAAAD4fwAAAAAAAPh/AAAAAAAA+H+rqqqqqqpUQAAAAAAAAPh/AAAAAAAA+H8AAAAAAAD4fwAAAAAAAPh/AAAAAAAA+H9WVVVVVZVUQAAAAAAAAPh/AAAAAAAA+H8AAAAAAAD4fwAAAAAAAPh/qqqqqqqqL0AAAAAAAAD4fwAAAAAAAPh/AAAAAAAA+H8AAAAAAAD4fwAAAAAA0FRAAAAAAAAA+H+rqqqqqjpUQAAAAAAAAPh/AAAAAAAA+H8AAAAAAAD4fwAAAAAAAPh/AAAAAABAVEAAAAAAAAD4fwAAAAAAAPh/AAAAAAAA+H8AAAAAAAD4fwAAAAAA8FRAAAAAAAAA+H8AAAAAACBVQAAAAAAAAPh/AAAAAAAA+H+rqqqqqspKQKuqqqqqWlRAAAAAAAAA+H9WVVVVVfVUQAAAAAAAAPh/AAAAAAAA+H8AAAAAABBVQFVVVVVVBVVAq6qqqqoKT0CqqqqqqhpVQAAAAAAAAPh/AAAAAAAA+H8AAAAAAGBVQAAAAAAA8FRAVlVVVVU1VUAAAAAAAAD4fwAAAAAAAPh/AAAAAAAA+H+qqqqqqnpVQAAAAAAAAPh/AAAAAAAA+H8AAAAAAAD4fwAAAAAAAPh/AAAAAAAA+H+rqqqqqgpVQFVVVVVVxVRAAAAAAAAA+H8AAAAAAAD4fwAAAAAAAPh/AAAAAAAA+H8AAAAAAAD4fwAAAAAAAPh/AAAAAAAA+H8AAAAAAAD4fwAAAAAAAPh/",
          "dtype": "f8",
          "shape": "17, 6"
         }
        },
        {
         "marker": {
          "color": "black",
          "line": {
           "color": "Gray",
           "width": 2
          }
         },
         "mode": "markers",
         "name": "Feasible Trial",
         "showlegend": false,
         "type": "scatter",
         "x": [
          64,
          32,
          32,
          16,
          32,
          128,
          16,
          128,
          16,
          64,
          128,
          32,
          128,
          128,
          128,
          128,
          128,
          128,
          128,
          64,
          128,
          32,
          32,
          32,
          128,
          32,
          64,
          16,
          16,
          16,
          16,
          16,
          16,
          16,
          16,
          16,
          16,
          16,
          16,
          16,
          16,
          16,
          16,
          16,
          16,
          16,
          16,
          16,
          64,
          16
         ],
         "xaxis": "x33",
         "y": [
          104,
          32,
          72,
          112,
          112,
          88,
          128,
          88,
          120,
          64,
          8,
          88,
          56,
          96,
          88,
          48,
          96,
          72,
          40,
          80,
          104,
          112,
          128,
          104,
          104,
          96,
          80,
          104,
          120,
          120,
          120,
          120,
          128,
          112,
          120,
          120,
          112,
          128,
          112,
          24,
          120,
          120,
          128,
          112,
          112,
          104,
          112,
          96,
          112,
          128
         ],
         "yaxis": "y33"
        },
        {
         "colorbar": {
          "title": {
           "text": "Objective Value"
          }
         },
         "colorscale": [
          [
           0,
           "rgb(247,251,255)"
          ],
          [
           0.125,
           "rgb(222,235,247)"
          ],
          [
           0.25,
           "rgb(198,219,239)"
          ],
          [
           0.375,
           "rgb(158,202,225)"
          ],
          [
           0.5,
           "rgb(107,174,214)"
          ],
          [
           0.625,
           "rgb(66,146,198)"
          ],
          [
           0.75,
           "rgb(33,113,181)"
          ],
          [
           0.875,
           "rgb(8,81,156)"
          ],
          [
           1,
           "rgb(8,48,107)"
          ]
         ],
         "connectgaps": true,
         "contours": {
          "coloring": "heatmap"
         },
         "hoverinfo": "none",
         "line": {
          "smoothing": 1.3
         },
         "reversescale": false,
         "showscale": false,
         "type": "contour",
         "x": [
          10.399999999999999,
          16,
          32,
          64,
          128,
          133.6
         ],
         "xaxis": "x41",
         "y": [
          0.8,
          1,
          2,
          3,
          4,
          5,
          5.2
         ],
         "yaxis": "y41",
         "z": {
          "bdata": "AAAAAAAA+H8AAAAAAAD4fwAAAAAAAPh/AAAAAAAA+H8AAAAAAAD4fwAAAAAAAPh/AAAAAAAA+H+rqqqqqupUQAAAAAAAAPh/AAAAAAAA+H+rqqqqqjpUQAAAAAAAAPh/AAAAAAAA+H9VVVVVVeVUQAAAAAAA8FRAAAAAAAAA+H9WVVVVVfVUQAAAAAAAAPh/AAAAAAAA+H+qqqqqqnpVQKqqqqqqSkdAAAAAAAAgVEAAAAAAACBVQAAAAAAAAPh/AAAAAAAA+H8AAAAAAGBVQFVVVVVVBVVAVlVVVVU1VUCqqqqqqhpVQAAAAAAAAPh/AAAAAAAA+H+rqqqqqspKQAAAAAAA8FRAq6qqqqoKT0BVVVVVVSVSQAAAAAAAAPh/AAAAAAAA+H8AAAAAAAD4fwAAAAAAAPh/AAAAAAAA+H8AAAAAAAD4fwAAAAAAAPh/",
          "dtype": "f8",
          "shape": "7, 6"
         }
        },
        {
         "marker": {
          "color": "black",
          "line": {
           "color": "Gray",
           "width": 2
          }
         },
         "mode": "markers",
         "name": "Feasible Trial",
         "showlegend": false,
         "type": "scatter",
         "x": [
          64,
          32,
          32,
          16,
          32,
          128,
          16,
          128,
          16,
          64,
          128,
          32,
          128,
          128,
          128,
          128,
          128,
          128,
          128,
          64,
          128,
          32,
          32,
          32,
          128,
          32,
          64,
          16,
          16,
          16,
          16,
          16,
          16,
          16,
          16,
          16,
          16,
          16,
          16,
          16,
          16,
          16,
          16,
          16,
          16,
          16,
          16,
          16,
          64,
          16
         ],
         "xaxis": "x41",
         "y": [
          5,
          3,
          4,
          3,
          5,
          5,
          3,
          3,
          1,
          4,
          1,
          2,
          4,
          2,
          2,
          2,
          2,
          1,
          2,
          3,
          3,
          4,
          5,
          4,
          4,
          4,
          4,
          3,
          3,
          3,
          3,
          3,
          3,
          3,
          3,
          3,
          2,
          3,
          3,
          3,
          3,
          3,
          3,
          3,
          2,
          3,
          4,
          5,
          4,
          5
         ],
         "yaxis": "y41"
        },
        {
         "colorbar": {
          "title": {
           "text": "Objective Value"
          }
         },
         "colorscale": [
          [
           0,
           "rgb(247,251,255)"
          ],
          [
           0.125,
           "rgb(222,235,247)"
          ],
          [
           0.25,
           "rgb(198,219,239)"
          ],
          [
           0.375,
           "rgb(158,202,225)"
          ],
          [
           0.5,
           "rgb(107,174,214)"
          ],
          [
           0.625,
           "rgb(66,146,198)"
          ],
          [
           0.75,
           "rgb(33,113,181)"
          ],
          [
           0.875,
           "rgb(8,81,156)"
          ],
          [
           1,
           "rgb(8,48,107)"
          ]
         ],
         "connectgaps": true,
         "contours": {
          "coloring": "heatmap"
         },
         "hoverinfo": "none",
         "line": {
          "smoothing": 1.3
         },
         "reversescale": false,
         "showscale": false,
         "type": "contour",
         "x": [
          10.399999999999999,
          16,
          32,
          64,
          128,
          133.6
         ],
         "xaxis": "x49",
         "y": [
          "Adam",
          "RMSProp",
          "SGD"
         ],
         "yaxis": "y49",
         "z": {
          "bdata": "AAAAAAAA+H8AAAAAABBVQFVVVVVVBVVAAAAAAABAVEAAAAAAACBVQAAAAAAAAPh/AAAAAAAA+H+qqqqqqnpVQAAAAAAAAPh/VlVVVVU1VUCrqqqqqjpUQAAAAAAAAPh/AAAAAAAA+H+rqqqqqlpUQAAAAAAA0FRAq6qqqqoKT0AAAAAAAAD4fwAAAAAAAPh/",
          "dtype": "f8",
          "shape": "3, 6"
         }
        },
        {
         "marker": {
          "color": "black",
          "line": {
           "color": "Gray",
           "width": 2
          }
         },
         "mode": "markers",
         "name": "Feasible Trial",
         "showlegend": false,
         "type": "scatter",
         "x": [
          64,
          32,
          32,
          16,
          32,
          128,
          16,
          128,
          16,
          64,
          128,
          32,
          128,
          128,
          128,
          128,
          128,
          128,
          128,
          64,
          128,
          32,
          32,
          32,
          128,
          32,
          64,
          16,
          16,
          16,
          16,
          16,
          16,
          16,
          16,
          16,
          16,
          16,
          16,
          16,
          16,
          16,
          16,
          16,
          16,
          16,
          16,
          16,
          64,
          16
         ],
         "xaxis": "x49",
         "y": [
          "SGD",
          "SGD",
          "SGD",
          "RMSProp",
          "Adam",
          "Adam",
          "SGD",
          "Adam",
          "RMSProp",
          "SGD",
          "Adam",
          "Adam",
          "Adam",
          "Adam",
          "Adam",
          "Adam",
          "Adam",
          "RMSProp",
          "Adam",
          "Adam",
          "RMSProp",
          "Adam",
          "Adam",
          "Adam",
          "Adam",
          "Adam",
          "Adam",
          "Adam",
          "RMSProp",
          "RMSProp",
          "RMSProp",
          "RMSProp",
          "RMSProp",
          "RMSProp",
          "RMSProp",
          "RMSProp",
          "RMSProp",
          "RMSProp",
          "RMSProp",
          "RMSProp",
          "SGD",
          "RMSProp",
          "RMSProp",
          "RMSProp",
          "RMSProp",
          "RMSProp",
          "RMSProp",
          "SGD",
          "RMSProp",
          "RMSProp"
         ],
         "yaxis": "y49"
        },
        {
         "colorbar": {
          "title": {
           "text": "Objective Value"
          }
         },
         "colorscale": [
          [
           0,
           "rgb(247,251,255)"
          ],
          [
           0.125,
           "rgb(222,235,247)"
          ],
          [
           0.25,
           "rgb(198,219,239)"
          ],
          [
           0.375,
           "rgb(158,202,225)"
          ],
          [
           0.5,
           "rgb(107,174,214)"
          ],
          [
           0.625,
           "rgb(66,146,198)"
          ],
          [
           0.75,
           "rgb(33,113,181)"
          ],
          [
           0.875,
           "rgb(8,81,156)"
          ],
          [
           1,
           "rgb(8,48,107)"
          ]
         ],
         "connectgaps": true,
         "contours": {
          "coloring": "heatmap"
         },
         "hoverinfo": "none",
         "line": {
          "smoothing": 1.3
         },
         "reversescale": false,
         "showscale": false,
         "type": "contour",
         "x": [
          10.399999999999999,
          16,
          32,
          64,
          128,
          133.6
         ],
         "xaxis": "x57",
         "y": [
          0.000008542994397936864,
          0.000010695476345287184,
          0.00001149348088047172,
          0.000012094978678250213,
          0.000017267872859730894,
          0.000022964810673419587,
          0.000030442008652608602,
          0.00004417361247719773,
          0.00004584268787355865,
          0.000050280778428755706,
          0.000058718414537544966,
          0.00006204684057371488,
          0.00007479489631463367,
          0.00009140754206228326,
          0.00011139959662371032,
          0.00011267708093824678,
          0.00011413557089106621,
          0.00012039528848626058,
          0.00014911935711649018,
          0.00015348015683398566,
          0.0001659374738876341,
          0.0002003891046446997,
          0.00020443510150137817,
          0.0002675833225815239,
          0.00027100619377422747,
          0.00027132936748607814,
          0.00031414855097441387,
          0.0003360937164140219,
          0.0003646064116017021,
          0.0004121644255438535,
          0.0004458520025100744,
          0.000474271322805089,
          0.0004833915256556394,
          0.0004932668772810958,
          0.000539256460634418,
          0.0005571718181379366,
          0.000564202750805794,
          0.0005856060447330134,
          0.0006030572806877948,
          0.0006554424691858177,
          0.0006656089257060337,
          0.0006881625028625726,
          0.0006924466498844899,
          0.0007533931873569096,
          0.0007613554698886802,
          0.000778259660661666,
          0.0008083603457803395,
          0.0008577872009375,
          0.0009174670220593022,
          0.00094095705324019,
          0.0009571948007830283,
          0.0011983683791340358
         ],
         "yaxis": "y57",
         "z": {
          "bdata": "AAAAAAAA+H8AAAAAAAD4fwAAAAAAAPh/AAAAAAAA+H8AAAAAAAD4fwAAAAAAAPh/AAAAAAAA+H8AAAAAAAD4fwAAAAAAAPh/AAAAAAAA+H9WVVVVVfVUQAAAAAAAAPh/AAAAAAAA+H8AAAAAAAD4fwAAAAAAAPh/AAAAAAAgVEAAAAAAAAD4fwAAAAAAAPh/AAAAAAAA+H8AAAAAAAD4fwAAAAAAAPh/AAAAAAAA+H+rqqqqqqpUQAAAAAAAAPh/AAAAAAAA+H8AAAAAAAD4f6qqqqqqSkdAAAAAAAAA+H8AAAAAAAD4fwAAAAAAAPh/AAAAAAAA+H8AAAAAAAD4fwAAAAAAAPh/AAAAAAAA+H9VVVVVVYVUQAAAAAAAAPh/AAAAAAAA+H8AAAAAAAD4fwAAAAAAAPh/AAAAAAAA+H+rqqqqqopUQAAAAAAAAPh/AAAAAAAA+H+rqqqqqlpUQAAAAAAAAPh/AAAAAAAA+H8AAAAAAAD4fwAAAAAAAPh/AAAAAAAA+H8AAAAAAAD4fwAAAAAA8FRAAAAAAAAA+H8AAAAAAAD4fwAAAAAAAPh/AAAAAAAA+H8AAAAAAAD4fwAAAAAAAPh/AAAAAAAA+H9WVVVVVZVUQAAAAAAAAPh/AAAAAAAA+H8AAAAAAAD4fwAAAAAA8FRAAAAAAAAA+H8AAAAAAAD4fwAAAAAAAPh/AAAAAAAA+H8AAAAAAAD4f1VVVVVVBVVAAAAAAAAA+H8AAAAAAAD4fwAAAAAAAPh/AAAAAAAA+H8AAAAAAAD4f6uqqqqqilRAAAAAAAAA+H8AAAAAAAD4fwAAAAAAAPh/AAAAAAAA+H8AAAAAAAD4fwAAAAAAAPh/AAAAAAAA+H9VVVVVVaVSQAAAAAAAAPh/AAAAAAAA+H8AAAAAAAD4fwAAAAAAAPh/AAAAAAAA+H+qqqqqqtpUQAAAAAAAAPh/AAAAAAAA+H8AAAAAAAD4fwAAAAAAAPh/AAAAAAAA+H9WVVVVVQVTQAAAAAAAAPh/AAAAAAAA+H8AAAAAABBVQAAAAAAAAPh/AAAAAAAA+H8AAAAAAAD4fwAAAAAAAPh/AAAAAAAA+H8AAAAAAAD4fwAAAAAAAPh/AAAAAAAA+H8AAAAAACBVQAAAAAAAAPh/AAAAAAAA+H9VVVVVVYVUQAAAAAAAAPh/AAAAAAAA+H8AAAAAAAD4fwAAAAAAAPh/AAAAAAAA+H8AAAAAADBVQAAAAAAAAPh/AAAAAAAA+H8AAAAAAAD4fwAAAAAAAPh/AAAAAAAA+H8AAAAAAAD4f1VVVVVVxVRAAAAAAAAA+H8AAAAAAAD4fwAAAAAAAPh/AAAAAAAA+H8AAAAAAAD4fwAAAAAA0FRAAAAAAAAA+H8AAAAAAAD4fwAAAAAAAPh/AAAAAAAA+H8AAAAAAAD4fwAAAAAAAPh/AAAAAAAA+H+rqqqqqjpUQAAAAAAAAPh/AAAAAAAA+H8AAAAAAJBUQAAAAAAAAPh/AAAAAAAA+H8AAAAAAAD4fwAAAAAAAPh/AAAAAAAA+H9VVVVVVZUzQAAAAAAAAPh/AAAAAAAA+H8AAAAAAAD4fwAAAAAAAPh/AAAAAAAA+H+rqqqqqupUQAAAAAAAAPh/AAAAAAAA+H8AAAAAAAD4fwAAAAAAAPh/AAAAAAAA+H8AAAAAAAD4fwAAAAAAAPh/AAAAAAAA+H+qqqqqqhpVQAAAAAAAAPh/AAAAAAAA+H8AAAAAAAD4fwAAAAAAAPh/AAAAAABAVEAAAAAAAAD4fwAAAAAAAPh/AAAAAAAA+H8AAAAAAAD4f6uqqqqqWlRAAAAAAAAA+H8AAAAAAAD4fwAAAAAAAPh/AAAAAAAA+H+rqqqqqgpVQAAAAAAAAPh/AAAAAAAA+H8AAAAAAAD4fwAAAAAAAPh/AAAAAAAA+H+rqqqqqnpUQAAAAAAAAPh/AAAAAAAA+H8AAAAAAAD4fwAAAAAAAPh/AAAAAAAA+H8AAAAAAGBVQAAAAAAAAPh/AAAAAAAA+H8AAAAAAAD4fwAAAAAAAPh/AAAAAAAA+H9WVVVVVfVUQAAAAAAAAPh/AAAAAAAA+H8AAAAAAAD4fwAAAAAAAPh/AAAAAAAA+H8AAAAAAAD4fwAAAAAAAPh/AAAAAAAA+H9VVVVVVSVSQAAAAAAAAPh/AAAAAAAA+H+rqqqqqspKQAAAAAAAAPh/AAAAAAAA+H8AAAAAAAD4fwAAAAAAAPh/AAAAAAAA+H9VVVVVVYVSQAAAAAAAAPh/AAAAAAAA+H8AAAAAAAD4fwAAAAAAAPh/AAAAAAAA+H8AAAAAAEBVQAAAAAAAAPh/AAAAAAAA+H8AAAAAAAD4fwAAAAAAAPh/AAAAAAAA+H9VVVVVVeVUQAAAAAAAAPh/AAAAAAAA+H8AAAAAAAD4fwAAAAAAAPh/AAAAAAAA+H8AAAAAAAD4fwAAAAAAAPh/q6qqqqoKT0AAAAAAAAD4fwAAAAAAAPh/AAAAAAAA+H8AAAAAAJBUQAAAAAAAAPh/AAAAAAAA+H8AAAAAAAD4fwAAAAAAAPh/AAAAAAAA+H9WVVVVVTVVQAAAAAAAAPh/AAAAAAAA+H8AAAAAAAD4fwAAAAAAAPh/AAAAAAAA+H9WVVVVVTVVQAAAAAAAAPh/AAAAAAAA+H8AAAAAAAD4fwAAAAAAAPh/AAAAAAAA+H+rqqqqqupUQAAAAAAAAPh/AAAAAAAA+H8AAAAAAAD4fwAAAAAAAPh/AAAAAAAA+H8AAAAAAMBUQAAAAAAAAPh/AAAAAAAA+H8AAAAAAAD4fwAAAAAAAPh/AAAAAAAA+H9VVVVVVRVTQAAAAAAAAPh/AAAAAAAA+H8AAAAAAAD4fwAAAAAAAPh/AAAAAAAA+H8AAAAAAGBVQAAAAAAAAPh/AAAAAAAA+H8AAAAAAAD4fwAAAAAAAPh/AAAAAAAA+H8AAAAAAAD4fwAAAAAAAPh/VlVVVVU1VUAAAAAAAAD4fwAAAAAAAPh/AAAAAAAA+H+qqqqqqnpVQAAAAAAAAPh/AAAAAAAA+H8AAAAAAAD4fwAAAAAAAPh/AAAAAAAA+H8AAAAAAAD4fwAAAAAAAPh/qqqqqqqqL0AAAAAAAAD4fwAAAAAAAPh/AAAAAAAA+H8AAAAAAOBUQAAAAAAAAPh/AAAAAAAA+H8AAAAAAAD4fwAAAAAAAPh/AAAAAAAA+H+rqqqqqspUQAAAAAAAAPh/AAAAAAAA+H8AAAAAAAD4fwAAAAAAAPh/AAAAAAAA+H8AAAAAAAD4fwAAAAAAAPh/AAAAAAAA+H8AAAAAAAD4fwAAAAAAAPh/",
          "dtype": "f8",
          "shape": "52, 6"
         }
        },
        {
         "marker": {
          "color": "black",
          "line": {
           "color": "Gray",
           "width": 2
          }
         },
         "mode": "markers",
         "name": "Feasible Trial",
         "showlegend": false,
         "type": "scatter",
         "x": [
          64,
          32,
          32,
          16,
          32,
          128,
          16,
          128,
          16,
          64,
          128,
          32,
          128,
          128,
          128,
          128,
          128,
          128,
          128,
          64,
          128,
          32,
          32,
          32,
          128,
          32,
          64,
          16,
          16,
          16,
          16,
          16,
          16,
          16,
          16,
          16,
          16,
          16,
          16,
          16,
          16,
          16,
          16,
          16,
          16,
          16,
          16,
          16,
          64,
          16
         ],
         "xaxis": "x57",
         "y": [
          0.0006030572806877948,
          0.000017267872859730894,
          0.0002003891046446997,
          0.0002675833225815239,
          0.000058718414537544966,
          0.0004932668772810958,
          0.00004417361247719773,
          0.00012039528848626058,
          0.0006924466498844899,
          0.0009174670220593022,
          0.00011267708093824678,
          0.00004584268787355865,
          0.000050280778428755706,
          0.000010695476345287184,
          0.000022964810673419587,
          0.000012094978678250213,
          0.00011139959662371032,
          0.00020443510150137817,
          0.000030442008652608602,
          0.00001149348088047172,
          0.00009140754206228326,
          0.00007479489631463367,
          0.0001659374738876341,
          0.00006204684057371488,
          0.00031414855097441387,
          0.0003646064116017021,
          0.0003360937164140219,
          0.00011413557089106621,
          0.00015348015683398566,
          0.00014911935711649018,
          0.000474271322805089,
          0.0004458520025100744,
          0.00027132936748607814,
          0.0006881625028625726,
          0.0006656089257060337,
          0.0008577872009375,
          0.00094095705324019,
          0.0006554424691858177,
          0.0004833915256556394,
          0.0007613554698886802,
          0.0005571718181379366,
          0.0007533931873569096,
          0.0004121644255438535,
          0.000564202750805794,
          0.0005856060447330134,
          0.0009571948007830283,
          0.000778259660661666,
          0.000539256460634418,
          0.0008083603457803395,
          0.00027100619377422747
         ],
         "yaxis": "y57"
        },
        {
         "colorbar": {
          "title": {
           "text": "Objective Value"
          }
         },
         "colorscale": [
          [
           0,
           "rgb(247,251,255)"
          ],
          [
           0.125,
           "rgb(222,235,247)"
          ],
          [
           0.25,
           "rgb(198,219,239)"
          ],
          [
           0.375,
           "rgb(158,202,225)"
          ],
          [
           0.5,
           "rgb(107,174,214)"
          ],
          [
           0.625,
           "rgb(66,146,198)"
          ],
          [
           0.75,
           "rgb(33,113,181)"
          ],
          [
           0.875,
           "rgb(8,81,156)"
          ],
          [
           1,
           "rgb(8,48,107)"
          ]
         ],
         "connectgaps": true,
         "contours": {
          "coloring": "heatmap"
         },
         "hoverinfo": "none",
         "line": {
          "smoothing": 1.3
         },
         "reversescale": false,
         "showscale": false,
         "type": "contour",
         "x": [
          0.08,
          0.1,
          0.2,
          0.30000000000000004,
          0.4,
          0.5,
          0.52
         ],
         "xaxis": "x2",
         "y": [
          10.399999999999999,
          16,
          32,
          64,
          128,
          133.6
         ],
         "yaxis": "y2",
         "z": {
          "bdata": "AAAAAAAA+H8AAAAAAAD4fwAAAAAAAPh/AAAAAAAA+H8AAAAAAAD4fwAAAAAAAPh/AAAAAAAA+H8AAAAAAAD4f6qqqqqqelVAAAAAAAAQVUAAAAAAAAD4f6uqqqqq6lRAAAAAAAAA+H8AAAAAAAD4fwAAAAAAAPh/AAAAAADQVEBVVVVVVQVVQAAAAAAA8FRAAAAAAAAA+H8AAAAAAAD4fwAAAAAAAPh/AAAAAAAA+H9WVVVVVTVVQAAAAAAAQFRAAAAAAAAgVECrqqqqqgpPQKqqqqqqqi9AAAAAAAAA+H8AAAAAAAD4f6uqqqqqOlRAAAAAAAAgVUBWVVVVVZVUQAAAAAAAAPh/VVVVVVWlUkAAAAAAAAD4fwAAAAAAAPh/AAAAAAAA+H8AAAAAAAD4fwAAAAAAAPh/AAAAAAAA+H8AAAAAAAD4fwAAAAAAAPh/",
          "dtype": "f8",
          "shape": "6, 7"
         }
        },
        {
         "marker": {
          "color": "black",
          "line": {
           "color": "Gray",
           "width": 2
          }
         },
         "mode": "markers",
         "name": "Feasible Trial",
         "showlegend": false,
         "type": "scatter",
         "x": [
          0.4,
          0.1,
          0.1,
          0.4,
          0.30000000000000004,
          0.30000000000000004,
          0.1,
          0.2,
          0.4,
          0.5,
          0.2,
          0.2,
          0.30000000000000004,
          0.2,
          0.2,
          0.2,
          0.2,
          0.1,
          0.2,
          0.30000000000000004,
          0.5,
          0.30000000000000004,
          0.30000000000000004,
          0.2,
          0.2,
          0.1,
          0.2,
          0.2,
          0.1,
          0.1,
          0.1,
          0.1,
          0.1,
          0.1,
          0.1,
          0.1,
          0.1,
          0.1,
          0.1,
          0.1,
          0.1,
          0.1,
          0.1,
          0.1,
          0.1,
          0.1,
          0.1,
          0.1,
          0.1,
          0.4
         ],
         "xaxis": "x2",
         "y": [
          64,
          32,
          32,
          16,
          32,
          128,
          16,
          128,
          16,
          64,
          128,
          32,
          128,
          128,
          128,
          128,
          128,
          128,
          128,
          64,
          128,
          32,
          32,
          32,
          128,
          32,
          64,
          16,
          16,
          16,
          16,
          16,
          16,
          16,
          16,
          16,
          16,
          16,
          16,
          16,
          16,
          16,
          16,
          16,
          16,
          16,
          16,
          16,
          64,
          16
         ],
         "yaxis": "y2"
        },
        {
         "type": "scatter",
         "xaxis": "x10",
         "yaxis": "y10"
        },
        {
         "colorbar": {
          "title": {
           "text": "Objective Value"
          }
         },
         "colorscale": [
          [
           0,
           "rgb(247,251,255)"
          ],
          [
           0.125,
           "rgb(222,235,247)"
          ],
          [
           0.25,
           "rgb(198,219,239)"
          ],
          [
           0.375,
           "rgb(158,202,225)"
          ],
          [
           0.5,
           "rgb(107,174,214)"
          ],
          [
           0.625,
           "rgb(66,146,198)"
          ],
          [
           0.75,
           "rgb(33,113,181)"
          ],
          [
           0.875,
           "rgb(8,81,156)"
          ],
          [
           1,
           "rgb(8,48,107)"
          ]
         ],
         "connectgaps": true,
         "contours": {
          "coloring": "heatmap"
         },
         "hoverinfo": "none",
         "line": {
          "smoothing": 1.3
         },
         "reversescale": false,
         "showscale": false,
         "type": "contour",
         "x": [
          0.08,
          0.1,
          0.2,
          0.30000000000000004,
          0.4,
          0.5,
          0.52
         ],
         "xaxis": "x18",
         "y": [
          8,
          10,
          20,
          30,
          40,
          50,
          52
         ],
         "yaxis": "y18",
         "z": {
          "bdata": "AAAAAAAA+H8AAAAAAAD4fwAAAAAAAPh/AAAAAAAA+H8AAAAAAAD4fwAAAAAAAPh/AAAAAAAA+H8AAAAAAAD4f6uqqqqqWlRAAAAAAAAA+H8AAAAAAPBUQKuqqqqqCk9AAAAAAAAA+H8AAAAAAAD4fwAAAAAAAPh/AAAAAABgVUCqqqqqqhpVQFZVVVVVlVRAVVVVVVWVM0CqqqqqqqovQAAAAAAAAPh/AAAAAAAA+H+qqqqqqnpVQAAAAAAAEFVAAAAAAAAA+H+rqqqqqupUQFVVVVVVpVJAAAAAAAAA+H8AAAAAAAD4fwAAAAAA0FRAVlVVVVX1VEBVVVVVVcVUQAAAAAAAAPh/AAAAAAAA+H8AAAAAAAD4fwAAAAAAAPh/q6qqqqo6VEAAAAAAACBVQAAAAAAAIFRAAAAAAAAA+H8AAAAAAAD4fwAAAAAAAPh/AAAAAAAA+H8AAAAAAAD4fwAAAAAAAPh/AAAAAAAA+H8AAAAAAAD4fwAAAAAAAPh/AAAAAAAA+H8=",
          "dtype": "f8",
          "shape": "7, 7"
         }
        },
        {
         "marker": {
          "color": "black",
          "line": {
           "color": "Gray",
           "width": 2
          }
         },
         "mode": "markers",
         "name": "Feasible Trial",
         "showlegend": false,
         "type": "scatter",
         "x": [
          0.4,
          0.1,
          0.1,
          0.4,
          0.30000000000000004,
          0.30000000000000004,
          0.1,
          0.2,
          0.4,
          0.5,
          0.2,
          0.2,
          0.30000000000000004,
          0.2,
          0.2,
          0.2,
          0.2,
          0.1,
          0.2,
          0.30000000000000004,
          0.5,
          0.30000000000000004,
          0.30000000000000004,
          0.2,
          0.2,
          0.1,
          0.2,
          0.2,
          0.1,
          0.1,
          0.1,
          0.1,
          0.1,
          0.1,
          0.1,
          0.1,
          0.1,
          0.1,
          0.1,
          0.1,
          0.1,
          0.1,
          0.1,
          0.1,
          0.1,
          0.1,
          0.1,
          0.1,
          0.1,
          0.4
         ],
         "xaxis": "x18",
         "y": [
          10,
          50,
          40,
          30,
          10,
          50,
          10,
          50,
          30,
          20,
          40,
          20,
          20,
          40,
          40,
          50,
          40,
          50,
          40,
          50,
          30,
          10,
          40,
          20,
          20,
          20,
          20,
          30,
          30,
          30,
          30,
          30,
          30,
          30,
          30,
          30,
          30,
          30,
          30,
          30,
          40,
          30,
          30,
          30,
          30,
          20,
          20,
          10,
          20,
          20
         ],
         "yaxis": "y18"
        },
        {
         "colorbar": {
          "title": {
           "text": "Objective Value"
          }
         },
         "colorscale": [
          [
           0,
           "rgb(247,251,255)"
          ],
          [
           0.125,
           "rgb(222,235,247)"
          ],
          [
           0.25,
           "rgb(198,219,239)"
          ],
          [
           0.375,
           "rgb(158,202,225)"
          ],
          [
           0.5,
           "rgb(107,174,214)"
          ],
          [
           0.625,
           "rgb(66,146,198)"
          ],
          [
           0.75,
           "rgb(33,113,181)"
          ],
          [
           0.875,
           "rgb(8,81,156)"
          ],
          [
           1,
           "rgb(8,48,107)"
          ]
         ],
         "connectgaps": true,
         "contours": {
          "coloring": "heatmap"
         },
         "hoverinfo": "none",
         "line": {
          "smoothing": 1.3
         },
         "reversescale": false,
         "showscale": false,
         "type": "contour",
         "x": [
          0.08,
          0.1,
          0.2,
          0.30000000000000004,
          0.4,
          0.5,
          0.52
         ],
         "xaxis": "x26",
         "y": [
          0.000007072541283187389,
          0.00001110376978598369,
          0.000011950548462899992,
          0.000019123060851291802,
          0.000019860708707177768,
          0.000020040668531992272,
          0.00002163872549261281,
          0.00002390330078323597,
          0.00002612835183017675,
          0.000029404095527833733,
          0.00003479474879252498,
          0.00003520663293231582,
          0.000036220252965558876,
          0.000041877331510834896,
          0.000048620371257514394,
          0.000050611394602106545,
          0.00005208430975733577,
          0.00006625963744085291,
          0.00006669238216103824,
          0.00006987056210679689,
          0.00007598827625271952,
          0.00009047445070254732,
          0.00009857550141699971,
          0.00011939965426894092,
          0.00012163946485690261,
          0.00013352630362784012,
          0.00015050344330720008,
          0.00015335460642411939,
          0.0001902712069056088,
          0.00019989475930067544,
          0.00025476220795954977,
          0.0002617809684685859,
          0.0002881825011836019,
          0.00037465546882200145,
          0.00046290239796682167,
          0.0005223371831123543,
          0.0006379538142827019,
          0.0007397601677843805,
          0.0012757896201358236,
          0.001571749776249777,
          0.0019110286305313027,
          0.0021495967704226824,
          0.0024602413983781995,
          0.003911426777511212,
          0.0043321695035891845,
          0.005100990188563874,
          0.009696413197862666,
          0.019415699317830708,
          0.02264213245096893,
          0.0726475000829205,
          0.09191144747250399,
          0.14429941269586738
         ],
         "yaxis": "y26",
         "z": {
          "bdata": "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",
          "dtype": "f8",
          "shape": "52, 7"
         }
        },
        {
         "marker": {
          "color": "black",
          "line": {
           "color": "Gray",
           "width": 2
          }
         },
         "mode": "markers",
         "name": "Feasible Trial",
         "showlegend": false,
         "type": "scatter",
         "x": [
          0.4,
          0.1,
          0.1,
          0.4,
          0.30000000000000004,
          0.30000000000000004,
          0.1,
          0.2,
          0.4,
          0.5,
          0.2,
          0.2,
          0.30000000000000004,
          0.2,
          0.2,
          0.2,
          0.2,
          0.1,
          0.2,
          0.30000000000000004,
          0.5,
          0.30000000000000004,
          0.30000000000000004,
          0.2,
          0.2,
          0.1,
          0.2,
          0.2,
          0.1,
          0.1,
          0.1,
          0.1,
          0.1,
          0.1,
          0.1,
          0.1,
          0.1,
          0.1,
          0.1,
          0.1,
          0.1,
          0.1,
          0.1,
          0.1,
          0.1,
          0.1,
          0.1,
          0.1,
          0.1,
          0.4
         ],
         "xaxis": "x26",
         "y": [
          0.005100990188563874,
          0.000019860708707177768,
          0.009696413197862666,
          0.001571749776249777,
          0.0006379538142827019,
          0.02264213245096893,
          0.0726475000829205,
          0.0019110286305313027,
          0.00012163946485690261,
          0.00007598827625271952,
          0.0005223371831123543,
          0.0007397601677843805,
          0.0024602413983781995,
          0.0001902712069056088,
          0.00009047445070254732,
          0.00025476220795954977,
          0.0043321695035891845,
          0.00002163872549261281,
          0.0002617809684685859,
          0.019415699317830708,
          0.00003520663293231582,
          0.00046290239796682167,
          0.0012757896201358236,
          0.00037465546882200145,
          0.00019989475930067544,
          0.0021495967704226824,
          0.00005208430975733577,
          0.0002881825011836019,
          0.00015050344330720008,
          0.003911426777511212,
          0.00015335460642411939,
          0.00001110376978598369,
          0.00013352630362784012,
          0.000050611394602106545,
          0.000036220252965558876,
          0.00003479474879252498,
          0.000029404095527833733,
          0.000011950548462899992,
          0.000048620371257514394,
          0.000019123060851291802,
          0.00006987056210679689,
          0.00011939965426894092,
          0.000041877331510834896,
          0.00002390330078323597,
          0.000020040668531992272,
          0.00002612835183017675,
          0.00006669238216103824,
          0.00006625963744085291,
          0.00009857550141699971,
          0.09191144747250399
         ],
         "yaxis": "y26"
        },
        {
         "colorbar": {
          "title": {
           "text": "Objective Value"
          }
         },
         "colorscale": [
          [
           0,
           "rgb(247,251,255)"
          ],
          [
           0.125,
           "rgb(222,235,247)"
          ],
          [
           0.25,
           "rgb(198,219,239)"
          ],
          [
           0.375,
           "rgb(158,202,225)"
          ],
          [
           0.5,
           "rgb(107,174,214)"
          ],
          [
           0.625,
           "rgb(66,146,198)"
          ],
          [
           0.75,
           "rgb(33,113,181)"
          ],
          [
           0.875,
           "rgb(8,81,156)"
          ],
          [
           1,
           "rgb(8,48,107)"
          ]
         ],
         "connectgaps": true,
         "contours": {
          "coloring": "heatmap"
         },
         "hoverinfo": "none",
         "line": {
          "smoothing": 1.3
         },
         "reversescale": false,
         "showscale": false,
         "type": "contour",
         "x": [
          0.08,
          0.1,
          0.2,
          0.30000000000000004,
          0.4,
          0.5,
          0.52
         ],
         "xaxis": "x34",
         "y": [
          2,
          8,
          24,
          32,
          40,
          48,
          56,
          64,
          72,
          80,
          88,
          96,
          104,
          112,
          120,
          128,
          134
         ],
         "yaxis": "y34",
         "z": {
          "bdata": "AAAAAAAA+H8AAAAAAAD4fwAAAAAAAPh/AAAAAAAA+H8AAAAAAAD4fwAAAAAAAPh/AAAAAAAA+H8AAAAAAAD4fwAAAAAAAPh/VlVVVVUFU0AAAAAAAAD4fwAAAAAAAPh/AAAAAAAA+H8AAAAAAAD4fwAAAAAAAPh/VVVVVVUVU0AAAAAAAAD4fwAAAAAAAPh/AAAAAAAA+H8AAAAAAAD4fwAAAAAAAPh/AAAAAAAA+H+qqqqqqkpHQAAAAAAAAPh/AAAAAAAA+H8AAAAAAAD4fwAAAAAAAPh/AAAAAAAA+H8AAAAAAAD4fwAAAAAAAPh/q6qqqqqKVEAAAAAAAAD4fwAAAAAAAPh/AAAAAAAA+H8AAAAAAAD4fwAAAAAAAPh/AAAAAAAA+H+rqqqqqqpUQAAAAAAAAPh/AAAAAAAA+H8AAAAAAAD4fwAAAAAAAPh/AAAAAAAA+H8AAAAAAAD4fwAAAAAAAPh/VlVVVVWVVEAAAAAAAAD4fwAAAAAAAPh/AAAAAAAA+H8AAAAAAAD4fwAAAAAAAPh/AAAAAAAA+H8AAAAAAAD4fwAAAAAAAPh/qqqqqqqqL0AAAAAAAAD4fwAAAAAAAPh/AAAAAADQVEAAAAAAAAD4fwAAAAAAAPh/AAAAAAAA+H8AAAAAAAD4fwAAAAAAAPh/AAAAAAAA+H8AAAAAAAD4fwAAAAAAQFRAAAAAAAAgVEAAAAAAAAD4fwAAAAAAAPh/AAAAAAAA+H8AAAAAAAD4fwAAAAAAAPh/AAAAAAAgVUBVVVVVVSVSQAAAAAAAAPh/AAAAAAAA+H8AAAAAAAD4fwAAAAAAAPh/q6qqqqpaVEBWVVVVVfVUQAAAAAAAAPh/AAAAAAAA+H8AAAAAAAD4fwAAAAAAAPh/AAAAAAAA+H+rqqqqqspUQKqqqqqqGlVAAAAAAAAA+H+rqqqqqgpPQFVVVVVVpVJAAAAAAAAA+H8AAAAAAAD4fwAAAAAAYFVAAAAAAAAA+H8AAAAAAPBUQAAAAAAAkFRAAAAAAAAA+H8AAAAAAAD4fwAAAAAAAPh/qqqqqqp6VUAAAAAAAAD4fwAAAAAAAPh/q6qqqqrqVEAAAAAAAAD4fwAAAAAAAPh/AAAAAAAA+H+rqqqqqgpVQAAAAAAAAPh/VVVVVVXFVEBVVVVVVZUzQAAAAAAAAPh/AAAAAAAA+H8AAAAAAAD4fwAAAAAAAPh/AAAAAAAA+H8AAAAAAAD4fwAAAAAAAPh/AAAAAAAA+H8AAAAAAAD4fw==",
          "dtype": "f8",
          "shape": "17, 7"
         }
        },
        {
         "marker": {
          "color": "black",
          "line": {
           "color": "Gray",
           "width": 2
          }
         },
         "mode": "markers",
         "name": "Feasible Trial",
         "showlegend": false,
         "type": "scatter",
         "x": [
          0.4,
          0.1,
          0.1,
          0.4,
          0.30000000000000004,
          0.30000000000000004,
          0.1,
          0.2,
          0.4,
          0.5,
          0.2,
          0.2,
          0.30000000000000004,
          0.2,
          0.2,
          0.2,
          0.2,
          0.1,
          0.2,
          0.30000000000000004,
          0.5,
          0.30000000000000004,
          0.30000000000000004,
          0.2,
          0.2,
          0.1,
          0.2,
          0.2,
          0.1,
          0.1,
          0.1,
          0.1,
          0.1,
          0.1,
          0.1,
          0.1,
          0.1,
          0.1,
          0.1,
          0.1,
          0.1,
          0.1,
          0.1,
          0.1,
          0.1,
          0.1,
          0.1,
          0.1,
          0.1,
          0.4
         ],
         "xaxis": "x34",
         "y": [
          104,
          32,
          72,
          112,
          112,
          88,
          128,
          88,
          120,
          64,
          8,
          88,
          56,
          96,
          88,
          48,
          96,
          72,
          40,
          80,
          104,
          112,
          128,
          104,
          104,
          96,
          80,
          104,
          120,
          120,
          120,
          120,
          128,
          112,
          120,
          120,
          112,
          128,
          112,
          24,
          120,
          120,
          128,
          112,
          112,
          104,
          112,
          96,
          112,
          128
         ],
         "yaxis": "y34"
        },
        {
         "colorbar": {
          "title": {
           "text": "Objective Value"
          }
         },
         "colorscale": [
          [
           0,
           "rgb(247,251,255)"
          ],
          [
           0.125,
           "rgb(222,235,247)"
          ],
          [
           0.25,
           "rgb(198,219,239)"
          ],
          [
           0.375,
           "rgb(158,202,225)"
          ],
          [
           0.5,
           "rgb(107,174,214)"
          ],
          [
           0.625,
           "rgb(66,146,198)"
          ],
          [
           0.75,
           "rgb(33,113,181)"
          ],
          [
           0.875,
           "rgb(8,81,156)"
          ],
          [
           1,
           "rgb(8,48,107)"
          ]
         ],
         "connectgaps": true,
         "contours": {
          "coloring": "heatmap"
         },
         "hoverinfo": "none",
         "line": {
          "smoothing": 1.3
         },
         "reversescale": false,
         "showscale": false,
         "type": "contour",
         "x": [
          0.08,
          0.1,
          0.2,
          0.30000000000000004,
          0.4,
          0.5,
          0.52
         ],
         "xaxis": "x42",
         "y": [
          0.8,
          1,
          2,
          3,
          4,
          5,
          5.2
         ],
         "yaxis": "y42",
         "z": {
          "bdata": "AAAAAAAA+H8AAAAAAAD4fwAAAAAAAPh/AAAAAAAA+H8AAAAAAAD4fwAAAAAAAPh/AAAAAAAA+H8AAAAAAAD4f6uqqqqqOlRAVlVVVVUFU0AAAAAAAAD4f6uqqqqq6lRAAAAAAAAA+H8AAAAAAAD4fwAAAAAAAPh/VVVVVVXlVEBWVVVVVfVUQAAAAAAAAPh/AAAAAAAA+H8AAAAAAAD4fwAAAAAAAPh/AAAAAAAA+H+qqqqqqnpVQAAAAAAAIFVAAAAAAAAgVEAAAAAAAJBUQFVVVVVVpVJAAAAAAAAA+H8AAAAAAAD4fwAAAAAAYFVAqqqqqqoaVUBWVVVVVZVUQAAAAAAAAPh/qqqqqqqqL0AAAAAAAAD4fwAAAAAAAPh/q6qqqqrKSkAAAAAAAAD4fwAAAAAA8FRAq6qqqqoKT0AAAAAAAAD4fwAAAAAAAPh/AAAAAAAA+H8AAAAAAAD4fwAAAAAAAPh/AAAAAAAA+H8AAAAAAAD4fwAAAAAAAPh/AAAAAAAA+H8=",
          "dtype": "f8",
          "shape": "7, 7"
         }
        },
        {
         "marker": {
          "color": "black",
          "line": {
           "color": "Gray",
           "width": 2
          }
         },
         "mode": "markers",
         "name": "Feasible Trial",
         "showlegend": false,
         "type": "scatter",
         "x": [
          0.4,
          0.1,
          0.1,
          0.4,
          0.30000000000000004,
          0.30000000000000004,
          0.1,
          0.2,
          0.4,
          0.5,
          0.2,
          0.2,
          0.30000000000000004,
          0.2,
          0.2,
          0.2,
          0.2,
          0.1,
          0.2,
          0.30000000000000004,
          0.5,
          0.30000000000000004,
          0.30000000000000004,
          0.2,
          0.2,
          0.1,
          0.2,
          0.2,
          0.1,
          0.1,
          0.1,
          0.1,
          0.1,
          0.1,
          0.1,
          0.1,
          0.1,
          0.1,
          0.1,
          0.1,
          0.1,
          0.1,
          0.1,
          0.1,
          0.1,
          0.1,
          0.1,
          0.1,
          0.1,
          0.4
         ],
         "xaxis": "x42",
         "y": [
          5,
          3,
          4,
          3,
          5,
          5,
          3,
          3,
          1,
          4,
          1,
          2,
          4,
          2,
          2,
          2,
          2,
          1,
          2,
          3,
          3,
          4,
          5,
          4,
          4,
          4,
          4,
          3,
          3,
          3,
          3,
          3,
          3,
          3,
          3,
          3,
          2,
          3,
          3,
          3,
          3,
          3,
          3,
          3,
          2,
          3,
          4,
          5,
          4,
          5
         ],
         "yaxis": "y42"
        },
        {
         "colorbar": {
          "title": {
           "text": "Objective Value"
          }
         },
         "colorscale": [
          [
           0,
           "rgb(247,251,255)"
          ],
          [
           0.125,
           "rgb(222,235,247)"
          ],
          [
           0.25,
           "rgb(198,219,239)"
          ],
          [
           0.375,
           "rgb(158,202,225)"
          ],
          [
           0.5,
           "rgb(107,174,214)"
          ],
          [
           0.625,
           "rgb(66,146,198)"
          ],
          [
           0.75,
           "rgb(33,113,181)"
          ],
          [
           0.875,
           "rgb(8,81,156)"
          ],
          [
           1,
           "rgb(8,48,107)"
          ]
         ],
         "connectgaps": true,
         "contours": {
          "coloring": "heatmap"
         },
         "hoverinfo": "none",
         "line": {
          "smoothing": 1.3
         },
         "reversescale": false,
         "showscale": false,
         "type": "contour",
         "x": [
          0.08,
          0.1,
          0.2,
          0.30000000000000004,
          0.4,
          0.5,
          0.52
         ],
         "xaxis": "x50",
         "y": [
          "Adam",
          "RMSProp",
          "SGD"
         ],
         "yaxis": "y50",
         "z": {
          "bdata": "AAAAAAAA+H+rqqqqqlpUQAAAAAAAIFVAAAAAAADwVEAAAAAAAAD4fwAAAAAAAPh/AAAAAAAA+H8AAAAAAAD4f6qqqqqqelVAAAAAAAAA+H8AAAAAAAD4f6uqqqqq6lRAVVVVVVWlUkAAAAAAAAD4fwAAAAAAAPh/AAAAAADQVEAAAAAAAAD4fwAAAAAAAPh/q6qqqqoKT0CqqqqqqqovQAAAAAAAAPh/",
          "dtype": "f8",
          "shape": "3, 7"
         }
        },
        {
         "marker": {
          "color": "black",
          "line": {
           "color": "Gray",
           "width": 2
          }
         },
         "mode": "markers",
         "name": "Feasible Trial",
         "showlegend": false,
         "type": "scatter",
         "x": [
          0.4,
          0.1,
          0.1,
          0.4,
          0.30000000000000004,
          0.30000000000000004,
          0.1,
          0.2,
          0.4,
          0.5,
          0.2,
          0.2,
          0.30000000000000004,
          0.2,
          0.2,
          0.2,
          0.2,
          0.1,
          0.2,
          0.30000000000000004,
          0.5,
          0.30000000000000004,
          0.30000000000000004,
          0.2,
          0.2,
          0.1,
          0.2,
          0.2,
          0.1,
          0.1,
          0.1,
          0.1,
          0.1,
          0.1,
          0.1,
          0.1,
          0.1,
          0.1,
          0.1,
          0.1,
          0.1,
          0.1,
          0.1,
          0.1,
          0.1,
          0.1,
          0.1,
          0.1,
          0.1,
          0.4
         ],
         "xaxis": "x50",
         "y": [
          "SGD",
          "SGD",
          "SGD",
          "RMSProp",
          "Adam",
          "Adam",
          "SGD",
          "Adam",
          "RMSProp",
          "SGD",
          "Adam",
          "Adam",
          "Adam",
          "Adam",
          "Adam",
          "Adam",
          "Adam",
          "RMSProp",
          "Adam",
          "Adam",
          "RMSProp",
          "Adam",
          "Adam",
          "Adam",
          "Adam",
          "Adam",
          "Adam",
          "Adam",
          "RMSProp",
          "RMSProp",
          "RMSProp",
          "RMSProp",
          "RMSProp",
          "RMSProp",
          "RMSProp",
          "RMSProp",
          "RMSProp",
          "RMSProp",
          "RMSProp",
          "RMSProp",
          "SGD",
          "RMSProp",
          "RMSProp",
          "RMSProp",
          "RMSProp",
          "RMSProp",
          "RMSProp",
          "SGD",
          "RMSProp",
          "RMSProp"
         ],
         "yaxis": "y50"
        },
        {
         "colorbar": {
          "title": {
           "text": "Objective Value"
          }
         },
         "colorscale": [
          [
           0,
           "rgb(247,251,255)"
          ],
          [
           0.125,
           "rgb(222,235,247)"
          ],
          [
           0.25,
           "rgb(198,219,239)"
          ],
          [
           0.375,
           "rgb(158,202,225)"
          ],
          [
           0.5,
           "rgb(107,174,214)"
          ],
          [
           0.625,
           "rgb(66,146,198)"
          ],
          [
           0.75,
           "rgb(33,113,181)"
          ],
          [
           0.875,
           "rgb(8,81,156)"
          ],
          [
           1,
           "rgb(8,48,107)"
          ]
         ],
         "connectgaps": true,
         "contours": {
          "coloring": "heatmap"
         },
         "hoverinfo": "none",
         "line": {
          "smoothing": 1.3
         },
         "reversescale": false,
         "showscale": false,
         "type": "contour",
         "x": [
          0.08,
          0.1,
          0.2,
          0.30000000000000004,
          0.4,
          0.5,
          0.52
         ],
         "xaxis": "x58",
         "y": [
          0.000008542994397936864,
          0.000010695476345287184,
          0.00001149348088047172,
          0.000012094978678250213,
          0.000017267872859730894,
          0.000022964810673419587,
          0.000030442008652608602,
          0.00004417361247719773,
          0.00004584268787355865,
          0.000050280778428755706,
          0.000058718414537544966,
          0.00006204684057371488,
          0.00007479489631463367,
          0.00009140754206228326,
          0.00011139959662371032,
          0.00011267708093824678,
          0.00011413557089106621,
          0.00012039528848626058,
          0.00014911935711649018,
          0.00015348015683398566,
          0.0001659374738876341,
          0.0002003891046446997,
          0.00020443510150137817,
          0.0002675833225815239,
          0.00027100619377422747,
          0.00027132936748607814,
          0.00031414855097441387,
          0.0003360937164140219,
          0.0003646064116017021,
          0.0004121644255438535,
          0.0004458520025100744,
          0.000474271322805089,
          0.0004833915256556394,
          0.0004932668772810958,
          0.000539256460634418,
          0.0005571718181379366,
          0.000564202750805794,
          0.0005856060447330134,
          0.0006030572806877948,
          0.0006554424691858177,
          0.0006656089257060337,
          0.0006881625028625726,
          0.0006924466498844899,
          0.0007533931873569096,
          0.0007613554698886802,
          0.000778259660661666,
          0.0008083603457803395,
          0.0008577872009375,
          0.0009174670220593022,
          0.00094095705324019,
          0.0009571948007830283,
          0.0011983683791340358
         ],
         "yaxis": "y58",
         "z": {
          "bdata": "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",
          "dtype": "f8",
          "shape": "52, 7"
         }
        },
        {
         "marker": {
          "color": "black",
          "line": {
           "color": "Gray",
           "width": 2
          }
         },
         "mode": "markers",
         "name": "Feasible Trial",
         "showlegend": false,
         "type": "scatter",
         "x": [
          0.4,
          0.1,
          0.1,
          0.4,
          0.30000000000000004,
          0.30000000000000004,
          0.1,
          0.2,
          0.4,
          0.5,
          0.2,
          0.2,
          0.30000000000000004,
          0.2,
          0.2,
          0.2,
          0.2,
          0.1,
          0.2,
          0.30000000000000004,
          0.5,
          0.30000000000000004,
          0.30000000000000004,
          0.2,
          0.2,
          0.1,
          0.2,
          0.2,
          0.1,
          0.1,
          0.1,
          0.1,
          0.1,
          0.1,
          0.1,
          0.1,
          0.1,
          0.1,
          0.1,
          0.1,
          0.1,
          0.1,
          0.1,
          0.1,
          0.1,
          0.1,
          0.1,
          0.1,
          0.1,
          0.4
         ],
         "xaxis": "x58",
         "y": [
          0.0006030572806877948,
          0.000017267872859730894,
          0.0002003891046446997,
          0.0002675833225815239,
          0.000058718414537544966,
          0.0004932668772810958,
          0.00004417361247719773,
          0.00012039528848626058,
          0.0006924466498844899,
          0.0009174670220593022,
          0.00011267708093824678,
          0.00004584268787355865,
          0.000050280778428755706,
          0.000010695476345287184,
          0.000022964810673419587,
          0.000012094978678250213,
          0.00011139959662371032,
          0.00020443510150137817,
          0.000030442008652608602,
          0.00001149348088047172,
          0.00009140754206228326,
          0.00007479489631463367,
          0.0001659374738876341,
          0.00006204684057371488,
          0.00031414855097441387,
          0.0003646064116017021,
          0.0003360937164140219,
          0.00011413557089106621,
          0.00015348015683398566,
          0.00014911935711649018,
          0.000474271322805089,
          0.0004458520025100744,
          0.00027132936748607814,
          0.0006881625028625726,
          0.0006656089257060337,
          0.0008577872009375,
          0.00094095705324019,
          0.0006554424691858177,
          0.0004833915256556394,
          0.0007613554698886802,
          0.0005571718181379366,
          0.0007533931873569096,
          0.0004121644255438535,
          0.000564202750805794,
          0.0005856060447330134,
          0.0009571948007830283,
          0.000778259660661666,
          0.000539256460634418,
          0.0008083603457803395,
          0.00027100619377422747
         ],
         "yaxis": "y58"
        },
        {
         "colorbar": {
          "title": {
           "text": "Objective Value"
          }
         },
         "colorscale": [
          [
           0,
           "rgb(247,251,255)"
          ],
          [
           0.125,
           "rgb(222,235,247)"
          ],
          [
           0.25,
           "rgb(198,219,239)"
          ],
          [
           0.375,
           "rgb(158,202,225)"
          ],
          [
           0.5,
           "rgb(107,174,214)"
          ],
          [
           0.625,
           "rgb(66,146,198)"
          ],
          [
           0.75,
           "rgb(33,113,181)"
          ],
          [
           0.875,
           "rgb(8,81,156)"
          ],
          [
           1,
           "rgb(8,48,107)"
          ]
         ],
         "connectgaps": true,
         "contours": {
          "coloring": "heatmap"
         },
         "hoverinfo": "none",
         "line": {
          "smoothing": 1.3
         },
         "reversescale": false,
         "showscale": false,
         "type": "contour",
         "x": [
          8,
          10,
          20,
          30,
          40,
          50,
          52
         ],
         "xaxis": "x3",
         "y": [
          10.399999999999999,
          16,
          32,
          64,
          128,
          133.6
         ],
         "yaxis": "y3",
         "z": {
          "bdata": "AAAAAAAA+H8AAAAAAAD4fwAAAAAAAPh/AAAAAAAA+H8AAAAAAAD4fwAAAAAAAPh/AAAAAAAA+H8AAAAAAAD4f6uqqqqqWlRAAAAAAABgVUCqqqqqqnpVQFVVVVVVhVJAAAAAAAAA+H8AAAAAAAD4fwAAAAAAAPh/AAAAAADwVEBVVVVVVQVVQAAAAAAAAPh/AAAAAADQVECqqqqqqkpHQAAAAAAAAPh/AAAAAAAA+H+rqqqqqgpPQFZVVVVVNVVAAAAAAAAA+H8AAAAAAAD4fwAAAAAAIFRAAAAAAAAA+H8AAAAAAAD4fwAAAAAAAPh/qqqqqqoaVUBVVVVVVaVSQFZVVVVV9VRAAAAAAAAgVUAAAAAAAAD4fwAAAAAAAPh/AAAAAAAA+H8AAAAAAAD4fwAAAAAAAPh/AAAAAAAA+H8AAAAAAAD4fwAAAAAAAPh/",
          "dtype": "f8",
          "shape": "6, 7"
         }
        },
        {
         "marker": {
          "color": "black",
          "line": {
           "color": "Gray",
           "width": 2
          }
         },
         "mode": "markers",
         "name": "Feasible Trial",
         "showlegend": false,
         "type": "scatter",
         "x": [
          10,
          50,
          40,
          30,
          10,
          50,
          10,
          50,
          30,
          20,
          40,
          20,
          20,
          40,
          40,
          50,
          40,
          50,
          40,
          50,
          30,
          10,
          40,
          20,
          20,
          20,
          20,
          30,
          30,
          30,
          30,
          30,
          30,
          30,
          30,
          30,
          30,
          30,
          30,
          30,
          40,
          30,
          30,
          30,
          30,
          20,
          20,
          10,
          20,
          20
         ],
         "xaxis": "x3",
         "y": [
          64,
          32,
          32,
          16,
          32,
          128,
          16,
          128,
          16,
          64,
          128,
          32,
          128,
          128,
          128,
          128,
          128,
          128,
          128,
          64,
          128,
          32,
          32,
          32,
          128,
          32,
          64,
          16,
          16,
          16,
          16,
          16,
          16,
          16,
          16,
          16,
          16,
          16,
          16,
          16,
          16,
          16,
          16,
          16,
          16,
          16,
          16,
          16,
          64,
          16
         ],
         "yaxis": "y3"
        },
        {
         "colorbar": {
          "title": {
           "text": "Objective Value"
          }
         },
         "colorscale": [
          [
           0,
           "rgb(247,251,255)"
          ],
          [
           0.125,
           "rgb(222,235,247)"
          ],
          [
           0.25,
           "rgb(198,219,239)"
          ],
          [
           0.375,
           "rgb(158,202,225)"
          ],
          [
           0.5,
           "rgb(107,174,214)"
          ],
          [
           0.625,
           "rgb(66,146,198)"
          ],
          [
           0.75,
           "rgb(33,113,181)"
          ],
          [
           0.875,
           "rgb(8,81,156)"
          ],
          [
           1,
           "rgb(8,48,107)"
          ]
         ],
         "connectgaps": true,
         "contours": {
          "coloring": "heatmap"
         },
         "hoverinfo": "none",
         "line": {
          "smoothing": 1.3
         },
         "reversescale": false,
         "showscale": false,
         "type": "contour",
         "x": [
          8,
          10,
          20,
          30,
          40,
          50,
          52
         ],
         "xaxis": "x11",
         "y": [
          0.08,
          0.1,
          0.2,
          0.30000000000000004,
          0.4,
          0.5,
          0.52
         ],
         "yaxis": "y11",
         "z": {
          "bdata": "AAAAAAAA+H8AAAAAAAD4fwAAAAAAAPh/AAAAAAAA+H8AAAAAAAD4fwAAAAAAAPh/AAAAAAAA+H8AAAAAAAD4f6uqqqqqWlRAAAAAAABgVUCqqqqqqnpVQAAAAAAA0FRAq6qqqqo6VEAAAAAAAAD4fwAAAAAAAPh/AAAAAAAA+H+qqqqqqhpVQAAAAAAAEFVAVlVVVVX1VEAAAAAAACBVQAAAAAAAAPh/AAAAAAAA+H8AAAAAAPBUQFZVVVVVlVRAAAAAAAAA+H9VVVVVVcVUQAAAAAAAIFRAAAAAAAAA+H8AAAAAAAD4f6uqqqqqCk9AVVVVVVWVM0CrqqqqqupUQAAAAAAAAPh/AAAAAAAA+H8AAAAAAAD4fwAAAAAAAPh/AAAAAAAA+H+qqqqqqqovQFVVVVVVpVJAAAAAAAAA+H8AAAAAAAD4fwAAAAAAAPh/AAAAAAAA+H8AAAAAAAD4fwAAAAAAAPh/AAAAAAAA+H8AAAAAAAD4fwAAAAAAAPh/AAAAAAAA+H8=",
          "dtype": "f8",
          "shape": "7, 7"
         }
        },
        {
         "marker": {
          "color": "black",
          "line": {
           "color": "Gray",
           "width": 2
          }
         },
         "mode": "markers",
         "name": "Feasible Trial",
         "showlegend": false,
         "type": "scatter",
         "x": [
          10,
          50,
          40,
          30,
          10,
          50,
          10,
          50,
          30,
          20,
          40,
          20,
          20,
          40,
          40,
          50,
          40,
          50,
          40,
          50,
          30,
          10,
          40,
          20,
          20,
          20,
          20,
          30,
          30,
          30,
          30,
          30,
          30,
          30,
          30,
          30,
          30,
          30,
          30,
          30,
          40,
          30,
          30,
          30,
          30,
          20,
          20,
          10,
          20,
          20
         ],
         "xaxis": "x11",
         "y": [
          0.4,
          0.1,
          0.1,
          0.4,
          0.30000000000000004,
          0.30000000000000004,
          0.1,
          0.2,
          0.4,
          0.5,
          0.2,
          0.2,
          0.30000000000000004,
          0.2,
          0.2,
          0.2,
          0.2,
          0.1,
          0.2,
          0.30000000000000004,
          0.5,
          0.30000000000000004,
          0.30000000000000004,
          0.2,
          0.2,
          0.1,
          0.2,
          0.2,
          0.1,
          0.1,
          0.1,
          0.1,
          0.1,
          0.1,
          0.1,
          0.1,
          0.1,
          0.1,
          0.1,
          0.1,
          0.1,
          0.1,
          0.1,
          0.1,
          0.1,
          0.1,
          0.1,
          0.1,
          0.1,
          0.4
         ],
         "yaxis": "y11"
        },
        {
         "type": "scatter",
         "xaxis": "x19",
         "yaxis": "y19"
        },
        {
         "colorbar": {
          "title": {
           "text": "Objective Value"
          }
         },
         "colorscale": [
          [
           0,
           "rgb(247,251,255)"
          ],
          [
           0.125,
           "rgb(222,235,247)"
          ],
          [
           0.25,
           "rgb(198,219,239)"
          ],
          [
           0.375,
           "rgb(158,202,225)"
          ],
          [
           0.5,
           "rgb(107,174,214)"
          ],
          [
           0.625,
           "rgb(66,146,198)"
          ],
          [
           0.75,
           "rgb(33,113,181)"
          ],
          [
           0.875,
           "rgb(8,81,156)"
          ],
          [
           1,
           "rgb(8,48,107)"
          ]
         ],
         "connectgaps": true,
         "contours": {
          "coloring": "heatmap"
         },
         "hoverinfo": "none",
         "line": {
          "smoothing": 1.3
         },
         "reversescale": false,
         "showscale": false,
         "type": "contour",
         "x": [
          8,
          10,
          20,
          30,
          40,
          50,
          52
         ],
         "xaxis": "x27",
         "y": [
          0.000007072541283187389,
          0.00001110376978598369,
          0.000011950548462899992,
          0.000019123060851291802,
          0.000019860708707177768,
          0.000020040668531992272,
          0.00002163872549261281,
          0.00002390330078323597,
          0.00002612835183017675,
          0.000029404095527833733,
          0.00003479474879252498,
          0.00003520663293231582,
          0.000036220252965558876,
          0.000041877331510834896,
          0.000048620371257514394,
          0.000050611394602106545,
          0.00005208430975733577,
          0.00006625963744085291,
          0.00006669238216103824,
          0.00006987056210679689,
          0.00007598827625271952,
          0.00009047445070254732,
          0.00009857550141699971,
          0.00011939965426894092,
          0.00012163946485690261,
          0.00013352630362784012,
          0.00015050344330720008,
          0.00015335460642411939,
          0.0001902712069056088,
          0.00019989475930067544,
          0.00025476220795954977,
          0.0002617809684685859,
          0.0002881825011836019,
          0.00037465546882200145,
          0.00046290239796682167,
          0.0005223371831123543,
          0.0006379538142827019,
          0.0007397601677843805,
          0.0012757896201358236,
          0.001571749776249777,
          0.0019110286305313027,
          0.0021495967704226824,
          0.0024602413983781995,
          0.003911426777511212,
          0.0043321695035891845,
          0.005100990188563874,
          0.009696413197862666,
          0.019415699317830708,
          0.02264213245096893,
          0.0726475000829205,
          0.09191144747250399,
          0.14429941269586738
         ],
         "yaxis": "y27",
         "z": {
          "bdata": "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",
          "dtype": "f8",
          "shape": "52, 7"
         }
        },
        {
         "marker": {
          "color": "black",
          "line": {
           "color": "Gray",
           "width": 2
          }
         },
         "mode": "markers",
         "name": "Feasible Trial",
         "showlegend": false,
         "type": "scatter",
         "x": [
          10,
          50,
          40,
          30,
          10,
          50,
          10,
          50,
          30,
          20,
          40,
          20,
          20,
          40,
          40,
          50,
          40,
          50,
          40,
          50,
          30,
          10,
          40,
          20,
          20,
          20,
          20,
          30,
          30,
          30,
          30,
          30,
          30,
          30,
          30,
          30,
          30,
          30,
          30,
          30,
          40,
          30,
          30,
          30,
          30,
          20,
          20,
          10,
          20,
          20
         ],
         "xaxis": "x27",
         "y": [
          0.005100990188563874,
          0.000019860708707177768,
          0.009696413197862666,
          0.001571749776249777,
          0.0006379538142827019,
          0.02264213245096893,
          0.0726475000829205,
          0.0019110286305313027,
          0.00012163946485690261,
          0.00007598827625271952,
          0.0005223371831123543,
          0.0007397601677843805,
          0.0024602413983781995,
          0.0001902712069056088,
          0.00009047445070254732,
          0.00025476220795954977,
          0.0043321695035891845,
          0.00002163872549261281,
          0.0002617809684685859,
          0.019415699317830708,
          0.00003520663293231582,
          0.00046290239796682167,
          0.0012757896201358236,
          0.00037465546882200145,
          0.00019989475930067544,
          0.0021495967704226824,
          0.00005208430975733577,
          0.0002881825011836019,
          0.00015050344330720008,
          0.003911426777511212,
          0.00015335460642411939,
          0.00001110376978598369,
          0.00013352630362784012,
          0.000050611394602106545,
          0.000036220252965558876,
          0.00003479474879252498,
          0.000029404095527833733,
          0.000011950548462899992,
          0.000048620371257514394,
          0.000019123060851291802,
          0.00006987056210679689,
          0.00011939965426894092,
          0.000041877331510834896,
          0.00002390330078323597,
          0.000020040668531992272,
          0.00002612835183017675,
          0.00006669238216103824,
          0.00006625963744085291,
          0.00009857550141699971,
          0.09191144747250399
         ],
         "yaxis": "y27"
        },
        {
         "colorbar": {
          "title": {
           "text": "Objective Value"
          }
         },
         "colorscale": [
          [
           0,
           "rgb(247,251,255)"
          ],
          [
           0.125,
           "rgb(222,235,247)"
          ],
          [
           0.25,
           "rgb(198,219,239)"
          ],
          [
           0.375,
           "rgb(158,202,225)"
          ],
          [
           0.5,
           "rgb(107,174,214)"
          ],
          [
           0.625,
           "rgb(66,146,198)"
          ],
          [
           0.75,
           "rgb(33,113,181)"
          ],
          [
           0.875,
           "rgb(8,81,156)"
          ],
          [
           1,
           "rgb(8,48,107)"
          ]
         ],
         "connectgaps": true,
         "contours": {
          "coloring": "heatmap"
         },
         "hoverinfo": "none",
         "line": {
          "smoothing": 1.3
         },
         "reversescale": false,
         "showscale": false,
         "type": "contour",
         "x": [
          8,
          10,
          20,
          30,
          40,
          50,
          52
         ],
         "xaxis": "x35",
         "y": [
          2,
          8,
          24,
          32,
          40,
          48,
          56,
          64,
          72,
          80,
          88,
          96,
          104,
          112,
          120,
          128,
          134
         ],
         "yaxis": "y35",
         "z": {
          "bdata": "AAAAAAAA+H8AAAAAAAD4fwAAAAAAAPh/AAAAAAAA+H8AAAAAAAD4fwAAAAAAAPh/AAAAAAAA+H8AAAAAAAD4fwAAAAAAAPh/AAAAAAAA+H8AAAAAAAD4f1ZVVVVVBVNAAAAAAAAA+H8AAAAAAAD4fwAAAAAAAPh/AAAAAAAA+H8AAAAAAAD4f1VVVVVVFVNAAAAAAAAA+H8AAAAAAAD4fwAAAAAAAPh/AAAAAAAA+H8AAAAAAAD4fwAAAAAAAPh/AAAAAAAA+H8AAAAAAAD4f6qqqqqqSkdAAAAAAAAA+H8AAAAAAAD4fwAAAAAAAPh/AAAAAAAA+H8AAAAAAAD4f6uqqqqqilRAAAAAAAAA+H8AAAAAAAD4fwAAAAAAAPh/AAAAAAAA+H8AAAAAAAD4fwAAAAAAAPh/AAAAAAAA+H+rqqqqqqpUQAAAAAAAAPh/AAAAAAAA+H8AAAAAAAD4f1ZVVVVVlVRAAAAAAAAA+H8AAAAAAAD4fwAAAAAAAPh/AAAAAAAA+H8AAAAAAAD4fwAAAAAAAPh/qqqqqqqqL0AAAAAAAAD4fwAAAAAAAPh/AAAAAAAA+H8AAAAAAAD4fwAAAAAAAPh/AAAAAAAA+H8AAAAAAAD4fwAAAAAAAPh/AAAAAADQVECrqqqqqjpUQAAAAAAAAPh/AAAAAAAA+H8AAAAAAAD4fwAAAAAAQFRAAAAAAAAA+H8AAAAAAAD4fwAAAAAAIFRAAAAAAAAA+H8AAAAAAAD4fwAAAAAAAPh/AAAAAADwVEAAAAAAAAD4f1VVVVVVhVRAAAAAAAAgVUAAAAAAAAD4fwAAAAAAAPh/q6qqqqrKSkCrqqqqqlpUQAAAAAAAAPh/VlVVVVX1VEAAAAAAAAD4fwAAAAAAAPh/AAAAAAAA+H+rqqqqqgpPQKqqqqqqGlVAAAAAAAAQVUAAAAAAAAD4fwAAAAAAAPh/AAAAAAAA+H8AAAAAAAD4fwAAAAAA8FRAAAAAAABgVUAAAAAAAEBVQAAAAAAAAPh/AAAAAAAA+H8AAAAAAAD4fwAAAAAAAPh/AAAAAAAA+H8AAAAAAAD4f6qqqqqqelVAVVVVVVWFUkAAAAAAAAD4fwAAAAAAAPh/AAAAAAAA+H+rqqqqqlpUQFVVVVVVlTNAq6qqqqoKVUBVVVVVVcVUQAAAAAAAAPh/AAAAAAAA+H8AAAAAAAD4fwAAAAAAAPh/AAAAAAAA+H8AAAAAAAD4fwAAAAAAAPh/AAAAAAAA+H8AAAAAAAD4fw==",
          "dtype": "f8",
          "shape": "17, 7"
         }
        },
        {
         "marker": {
          "color": "black",
          "line": {
           "color": "Gray",
           "width": 2
          }
         },
         "mode": "markers",
         "name": "Feasible Trial",
         "showlegend": false,
         "type": "scatter",
         "x": [
          10,
          50,
          40,
          30,
          10,
          50,
          10,
          50,
          30,
          20,
          40,
          20,
          20,
          40,
          40,
          50,
          40,
          50,
          40,
          50,
          30,
          10,
          40,
          20,
          20,
          20,
          20,
          30,
          30,
          30,
          30,
          30,
          30,
          30,
          30,
          30,
          30,
          30,
          30,
          30,
          40,
          30,
          30,
          30,
          30,
          20,
          20,
          10,
          20,
          20
         ],
         "xaxis": "x35",
         "y": [
          104,
          32,
          72,
          112,
          112,
          88,
          128,
          88,
          120,
          64,
          8,
          88,
          56,
          96,
          88,
          48,
          96,
          72,
          40,
          80,
          104,
          112,
          128,
          104,
          104,
          96,
          80,
          104,
          120,
          120,
          120,
          120,
          128,
          112,
          120,
          120,
          112,
          128,
          112,
          24,
          120,
          120,
          128,
          112,
          112,
          104,
          112,
          96,
          112,
          128
         ],
         "yaxis": "y35"
        },
        {
         "colorbar": {
          "title": {
           "text": "Objective Value"
          }
         },
         "colorscale": [
          [
           0,
           "rgb(247,251,255)"
          ],
          [
           0.125,
           "rgb(222,235,247)"
          ],
          [
           0.25,
           "rgb(198,219,239)"
          ],
          [
           0.375,
           "rgb(158,202,225)"
          ],
          [
           0.5,
           "rgb(107,174,214)"
          ],
          [
           0.625,
           "rgb(66,146,198)"
          ],
          [
           0.75,
           "rgb(33,113,181)"
          ],
          [
           0.875,
           "rgb(8,81,156)"
          ],
          [
           1,
           "rgb(8,48,107)"
          ]
         ],
         "connectgaps": true,
         "contours": {
          "coloring": "heatmap"
         },
         "hoverinfo": "none",
         "line": {
          "smoothing": 1.3
         },
         "reversescale": false,
         "showscale": false,
         "type": "contour",
         "x": [
          8,
          10,
          20,
          30,
          40,
          50,
          52
         ],
         "xaxis": "x43",
         "y": [
          0.8,
          1,
          2,
          3,
          4,
          5,
          5.2
         ],
         "yaxis": "y43",
         "z": {
          "bdata": "AAAAAAAA+H8AAAAAAAD4fwAAAAAAAPh/AAAAAAAA+H8AAAAAAAD4fwAAAAAAAPh/AAAAAAAA+H8AAAAAAAD4fwAAAAAAAPh/AAAAAAAA+H+rqqqqqupUQFZVVVVVBVNAq6qqqqo6VEAAAAAAAAD4fwAAAAAAAPh/AAAAAAAA+H8AAAAAAPBUQFVVVVVV5VRAVlVVVVX1VECrqqqqqqpUQAAAAAAAAPh/AAAAAAAA+H+rqqqqqlpUQKuqqqqqylRAqqqqqqp6VUBVVVVVVYVSQAAAAAAAIFVAAAAAAAAA+H8AAAAAAAD4f6uqqqqqilRAAAAAAABgVUAAAAAAAAD4fwAAAAAA0FRAAAAAAAAA+H8AAAAAAAD4fwAAAAAAAPh/AAAAAADwVEBVVVVVVZUzQAAAAAAAAPh/VVVVVVXFVEBVVVVVVSVSQAAAAAAAAPh/AAAAAAAA+H8AAAAAAAD4fwAAAAAAAPh/AAAAAAAA+H8AAAAAAAD4fwAAAAAAAPh/AAAAAAAA+H8=",
          "dtype": "f8",
          "shape": "7, 7"
         }
        },
        {
         "marker": {
          "color": "black",
          "line": {
           "color": "Gray",
           "width": 2
          }
         },
         "mode": "markers",
         "name": "Feasible Trial",
         "showlegend": false,
         "type": "scatter",
         "x": [
          10,
          50,
          40,
          30,
          10,
          50,
          10,
          50,
          30,
          20,
          40,
          20,
          20,
          40,
          40,
          50,
          40,
          50,
          40,
          50,
          30,
          10,
          40,
          20,
          20,
          20,
          20,
          30,
          30,
          30,
          30,
          30,
          30,
          30,
          30,
          30,
          30,
          30,
          30,
          30,
          40,
          30,
          30,
          30,
          30,
          20,
          20,
          10,
          20,
          20
         ],
         "xaxis": "x43",
         "y": [
          5,
          3,
          4,
          3,
          5,
          5,
          3,
          3,
          1,
          4,
          1,
          2,
          4,
          2,
          2,
          2,
          2,
          1,
          2,
          3,
          3,
          4,
          5,
          4,
          4,
          4,
          4,
          3,
          3,
          3,
          3,
          3,
          3,
          3,
          3,
          3,
          2,
          3,
          3,
          3,
          3,
          3,
          3,
          3,
          2,
          3,
          4,
          5,
          4,
          5
         ],
         "yaxis": "y43"
        },
        {
         "colorbar": {
          "title": {
           "text": "Objective Value"
          }
         },
         "colorscale": [
          [
           0,
           "rgb(247,251,255)"
          ],
          [
           0.125,
           "rgb(222,235,247)"
          ],
          [
           0.25,
           "rgb(198,219,239)"
          ],
          [
           0.375,
           "rgb(158,202,225)"
          ],
          [
           0.5,
           "rgb(107,174,214)"
          ],
          [
           0.625,
           "rgb(66,146,198)"
          ],
          [
           0.75,
           "rgb(33,113,181)"
          ],
          [
           0.875,
           "rgb(8,81,156)"
          ],
          [
           1,
           "rgb(8,48,107)"
          ]
         ],
         "connectgaps": true,
         "contours": {
          "coloring": "heatmap"
         },
         "hoverinfo": "none",
         "line": {
          "smoothing": 1.3
         },
         "reversescale": false,
         "showscale": false,
         "type": "contour",
         "x": [
          8,
          10,
          20,
          30,
          40,
          50,
          52
         ],
         "xaxis": "x51",
         "y": [
          "Adam",
          "RMSProp",
          "SGD"
         ],
         "yaxis": "y51",
         "z": {
          "bdata": "AAAAAAAA+H8AAAAAAPBUQKqqqqqqGlVAAAAAAAAQVUBWVVVVVfVUQAAAAAAAIFVAAAAAAAAA+H8AAAAAAAD4fwAAAAAAAPh/AAAAAABgVUCqqqqqqnpVQAAAAAAAAPh/q6qqqqo6VEAAAAAAAAD4fwAAAAAAAPh/q6qqqqpaVECqqqqqqqovQAAAAAAAAPh/AAAAAADQVECqqqqqqkpHQAAAAAAAAPh/",
          "dtype": "f8",
          "shape": "3, 7"
         }
        },
        {
         "marker": {
          "color": "black",
          "line": {
           "color": "Gray",
           "width": 2
          }
         },
         "mode": "markers",
         "name": "Feasible Trial",
         "showlegend": false,
         "type": "scatter",
         "x": [
          10,
          50,
          40,
          30,
          10,
          50,
          10,
          50,
          30,
          20,
          40,
          20,
          20,
          40,
          40,
          50,
          40,
          50,
          40,
          50,
          30,
          10,
          40,
          20,
          20,
          20,
          20,
          30,
          30,
          30,
          30,
          30,
          30,
          30,
          30,
          30,
          30,
          30,
          30,
          30,
          40,
          30,
          30,
          30,
          30,
          20,
          20,
          10,
          20,
          20
         ],
         "xaxis": "x51",
         "y": [
          "SGD",
          "SGD",
          "SGD",
          "RMSProp",
          "Adam",
          "Adam",
          "SGD",
          "Adam",
          "RMSProp",
          "SGD",
          "Adam",
          "Adam",
          "Adam",
          "Adam",
          "Adam",
          "Adam",
          "Adam",
          "RMSProp",
          "Adam",
          "Adam",
          "RMSProp",
          "Adam",
          "Adam",
          "Adam",
          "Adam",
          "Adam",
          "Adam",
          "Adam",
          "RMSProp",
          "RMSProp",
          "RMSProp",
          "RMSProp",
          "RMSProp",
          "RMSProp",
          "RMSProp",
          "RMSProp",
          "RMSProp",
          "RMSProp",
          "RMSProp",
          "RMSProp",
          "SGD",
          "RMSProp",
          "RMSProp",
          "RMSProp",
          "RMSProp",
          "RMSProp",
          "RMSProp",
          "SGD",
          "RMSProp",
          "RMSProp"
         ],
         "yaxis": "y51"
        },
        {
         "colorbar": {
          "title": {
           "text": "Objective Value"
          }
         },
         "colorscale": [
          [
           0,
           "rgb(247,251,255)"
          ],
          [
           0.125,
           "rgb(222,235,247)"
          ],
          [
           0.25,
           "rgb(198,219,239)"
          ],
          [
           0.375,
           "rgb(158,202,225)"
          ],
          [
           0.5,
           "rgb(107,174,214)"
          ],
          [
           0.625,
           "rgb(66,146,198)"
          ],
          [
           0.75,
           "rgb(33,113,181)"
          ],
          [
           0.875,
           "rgb(8,81,156)"
          ],
          [
           1,
           "rgb(8,48,107)"
          ]
         ],
         "connectgaps": true,
         "contours": {
          "coloring": "heatmap"
         },
         "hoverinfo": "none",
         "line": {
          "smoothing": 1.3
         },
         "reversescale": false,
         "showscale": false,
         "type": "contour",
         "x": [
          8,
          10,
          20,
          30,
          40,
          50,
          52
         ],
         "xaxis": "x59",
         "y": [
          0.000008542994397936864,
          0.000010695476345287184,
          0.00001149348088047172,
          0.000012094978678250213,
          0.000017267872859730894,
          0.000022964810673419587,
          0.000030442008652608602,
          0.00004417361247719773,
          0.00004584268787355865,
          0.000050280778428755706,
          0.000058718414537544966,
          0.00006204684057371488,
          0.00007479489631463367,
          0.00009140754206228326,
          0.00011139959662371032,
          0.00011267708093824678,
          0.00011413557089106621,
          0.00012039528848626058,
          0.00014911935711649018,
          0.00015348015683398566,
          0.0001659374738876341,
          0.0002003891046446997,
          0.00020443510150137817,
          0.0002675833225815239,
          0.00027100619377422747,
          0.00027132936748607814,
          0.00031414855097441387,
          0.0003360937164140219,
          0.0003646064116017021,
          0.0004121644255438535,
          0.0004458520025100744,
          0.000474271322805089,
          0.0004833915256556394,
          0.0004932668772810958,
          0.000539256460634418,
          0.0005571718181379366,
          0.000564202750805794,
          0.0005856060447330134,
          0.0006030572806877948,
          0.0006554424691858177,
          0.0006656089257060337,
          0.0006881625028625726,
          0.0006924466498844899,
          0.0007533931873569096,
          0.0007613554698886802,
          0.000778259660661666,
          0.0008083603457803395,
          0.0008577872009375,
          0.0009174670220593022,
          0.00094095705324019,
          0.0009571948007830283,
          0.0011983683791340358
         ],
         "yaxis": "y59",
         "z": {
          "bdata": "AAAAAAAA+H8AAAAAAAD4fwAAAAAAAPh/AAAAAAAA+H8AAAAAAAD4fwAAAAAAAPh/AAAAAAAA+H8AAAAAAAD4fwAAAAAAAPh/AAAAAAAA+H8AAAAAAAD4f1ZVVVVV9VRAAAAAAAAA+H8AAAAAAAD4fwAAAAAAAPh/AAAAAAAA+H8AAAAAAAD4fwAAAAAAAPh/AAAAAAAA+H8AAAAAACBUQAAAAAAAAPh/AAAAAAAA+H8AAAAAAAD4fwAAAAAAAPh/AAAAAAAA+H8AAAAAAAD4f6uqqqqqqlRAAAAAAAAA+H8AAAAAAAD4fwAAAAAAAPh/AAAAAAAA+H8AAAAAAAD4fwAAAAAAAPh/qqqqqqpKR0AAAAAAAAD4fwAAAAAAAPh/AAAAAAAA+H8AAAAAAAD4fwAAAAAAAPh/VVVVVVWFVEAAAAAAAAD4fwAAAAAAAPh/AAAAAAAA+H8AAAAAAAD4fwAAAAAAAPh/AAAAAAAA+H+rqqqqqopUQAAAAAAAAPh/AAAAAAAA+H8AAAAAAAD4f6uqqqqqWlRAAAAAAAAA+H8AAAAAAAD4fwAAAAAAAPh/AAAAAAAA+H8AAAAAAAD4fwAAAAAAAPh/AAAAAAAA+H8AAAAAAPBUQAAAAAAAAPh/AAAAAAAA+H8AAAAAAAD4fwAAAAAAAPh/AAAAAAAA+H8AAAAAAAD4f1ZVVVVVlVRAAAAAAAAA+H8AAAAAAAD4fwAAAAAAAPh/AAAAAAAA+H8AAAAAAAD4fwAAAAAA8FRAAAAAAAAA+H8AAAAAAAD4fwAAAAAAAPh/AAAAAAAA+H8AAAAAAAD4fwAAAAAAAPh/AAAAAAAA+H9VVVVVVQVVQAAAAAAAAPh/AAAAAAAA+H8AAAAAAAD4fwAAAAAAAPh/AAAAAAAA+H+rqqqqqopUQAAAAAAAAPh/AAAAAAAA+H8AAAAAAAD4fwAAAAAAAPh/AAAAAAAA+H8AAAAAAAD4fwAAAAAAAPh/AAAAAAAA+H9VVVVVVaVSQAAAAAAAAPh/AAAAAAAA+H8AAAAAAAD4fwAAAAAAAPh/AAAAAAAA+H8AAAAAAAD4fwAAAAAAAPh/qqqqqqraVEAAAAAAAAD4fwAAAAAAAPh/AAAAAAAA+H8AAAAAAAD4fwAAAAAAAPh/AAAAAAAA+H9WVVVVVQVTQAAAAAAAAPh/AAAAAAAA+H8AAAAAAAD4fwAAAAAAAPh/AAAAAAAA+H8AAAAAABBVQAAAAAAAAPh/AAAAAAAA+H8AAAAAAAD4fwAAAAAAAPh/AAAAAAAA+H8AAAAAAAD4fwAAAAAAAPh/AAAAAAAA+H8AAAAAACBVQAAAAAAAAPh/AAAAAAAA+H8AAAAAAAD4fwAAAAAAAPh/VVVVVVWFVEAAAAAAAAD4fwAAAAAAAPh/AAAAAAAA+H8AAAAAAAD4fwAAAAAAAPh/AAAAAAAA+H8AAAAAADBVQAAAAAAAAPh/AAAAAAAA+H8AAAAAAAD4fwAAAAAAAPh/AAAAAAAA+H8AAAAAAAD4fwAAAAAAAPh/VVVVVVXFVEAAAAAAAAD4fwAAAAAAAPh/AAAAAAAA+H8AAAAAAAD4fwAAAAAAAPh/AAAAAAAA+H8AAAAAANBUQAAAAAAAAPh/AAAAAAAA+H8AAAAAAAD4fwAAAAAAAPh/AAAAAAAA+H8AAAAAAAD4fwAAAAAAAPh/q6qqqqo6VEAAAAAAAAD4fwAAAAAAAPh/AAAAAAAA+H8AAAAAAAD4fwAAAAAAkFRAAAAAAAAA+H8AAAAAAAD4fwAAAAAAAPh/AAAAAAAA+H8AAAAAAAD4f1VVVVVVlTNAAAAAAAAA+H8AAAAAAAD4fwAAAAAAAPh/AAAAAAAA+H8AAAAAAAD4fwAAAAAAAPh/AAAAAAAA+H+rqqqqqupUQAAAAAAAAPh/AAAAAAAA+H8AAAAAAAD4fwAAAAAAAPh/AAAAAAAA+H+qqqqqqhpVQAAAAAAAAPh/AAAAAAAA+H8AAAAAAAD4fwAAAAAAAPh/AAAAAAAA+H8AAAAAAAD4fwAAAAAAQFRAAAAAAAAA+H8AAAAAAAD4fwAAAAAAAPh/AAAAAAAA+H8AAAAAAAD4fwAAAAAAAPh/q6qqqqpaVEAAAAAAAAD4fwAAAAAAAPh/AAAAAAAA+H8AAAAAAAD4fwAAAAAAAPh/AAAAAAAA+H8AAAAAAAD4f6uqqqqqClVAAAAAAAAA+H8AAAAAAAD4fwAAAAAAAPh/AAAAAAAA+H8AAAAAAAD4fwAAAAAAAPh/q6qqqqp6VEAAAAAAAAD4fwAAAAAAAPh/AAAAAAAA+H8AAAAAAAD4fwAAAAAAAPh/AAAAAAAA+H8AAAAAAGBVQAAAAAAAAPh/AAAAAAAA+H8AAAAAAAD4fwAAAAAAAPh/AAAAAAAA+H8AAAAAAAD4f1ZVVVVV9VRAAAAAAAAA+H8AAAAAAAD4fwAAAAAAAPh/AAAAAAAA+H8AAAAAAAD4fwAAAAAAAPh/AAAAAAAA+H8AAAAAAAD4f1VVVVVVJVJAAAAAAAAA+H8AAAAAAAD4f6uqqqqqykpAAAAAAAAA+H8AAAAAAAD4fwAAAAAAAPh/AAAAAAAA+H8AAAAAAAD4fwAAAAAAAPh/AAAAAAAA+H8AAAAAAAD4fwAAAAAAAPh/VVVVVVWFUkAAAAAAAAD4fwAAAAAAAPh/AAAAAAAA+H8AAAAAAAD4fwAAAAAAAPh/AAAAAABAVUAAAAAAAAD4fwAAAAAAAPh/AAAAAAAA+H8AAAAAAAD4fwAAAAAAAPh/AAAAAAAA+H9VVVVVVeVUQAAAAAAAAPh/AAAAAAAA+H8AAAAAAAD4fwAAAAAAAPh/q6qqqqoKT0AAAAAAAAD4fwAAAAAAAPh/AAAAAAAA+H8AAAAAAAD4fwAAAAAAAPh/AAAAAAAA+H8AAAAAAAD4fwAAAAAAAPh/AAAAAACQVEAAAAAAAAD4fwAAAAAAAPh/AAAAAAAA+H8AAAAAAAD4fwAAAAAAAPh/AAAAAAAA+H9WVVVVVTVVQAAAAAAAAPh/AAAAAAAA+H8AAAAAAAD4fwAAAAAAAPh/AAAAAAAA+H8AAAAAAAD4f1ZVVVVVNVVAAAAAAAAA+H8AAAAAAAD4fwAAAAAAAPh/AAAAAAAA+H8AAAAAAAD4fwAAAAAAAPh/q6qqqqrqVEAAAAAAAAD4fwAAAAAAAPh/AAAAAAAA+H8AAAAAAAD4fwAAAAAAAPh/AAAAAAAA+H8AAAAAAMBUQAAAAAAAAPh/AAAAAAAA+H8AAAAAAAD4fwAAAAAAAPh/AAAAAAAA+H8AAAAAAAD4f1VVVVVVFVNAAAAAAAAA+H8AAAAAAAD4fwAAAAAAAPh/AAAAAAAA+H8AAAAAAAD4fwAAAAAAYFVAAAAAAAAA+H8AAAAAAAD4fwAAAAAAAPh/AAAAAAAA+H8AAAAAAAD4fwAAAAAAAPh/VlVVVVU1VUAAAAAAAAD4fwAAAAAAAPh/AAAAAAAA+H8AAAAAAAD4fwAAAAAAAPh/AAAAAAAA+H8AAAAAAAD4f6qqqqqqelVAAAAAAAAA+H8AAAAAAAD4fwAAAAAAAPh/AAAAAAAA+H8AAAAAAAD4f6qqqqqqqi9AAAAAAAAA+H8AAAAAAAD4fwAAAAAAAPh/AAAAAAAA+H8AAAAAAAD4fwAAAAAAAPh/AAAAAAAA+H8AAAAAAOBUQAAAAAAAAPh/AAAAAAAA+H8AAAAAAAD4fwAAAAAAAPh/AAAAAAAA+H+rqqqqqspUQAAAAAAAAPh/AAAAAAAA+H8AAAAAAAD4fwAAAAAAAPh/AAAAAAAA+H8AAAAAAAD4fwAAAAAAAPh/AAAAAAAA+H8AAAAAAAD4fwAAAAAAAPh/AAAAAAAA+H8=",
          "dtype": "f8",
          "shape": "52, 7"
         }
        },
        {
         "marker": {
          "color": "black",
          "line": {
           "color": "Gray",
           "width": 2
          }
         },
         "mode": "markers",
         "name": "Feasible Trial",
         "showlegend": false,
         "type": "scatter",
         "x": [
          10,
          50,
          40,
          30,
          10,
          50,
          10,
          50,
          30,
          20,
          40,
          20,
          20,
          40,
          40,
          50,
          40,
          50,
          40,
          50,
          30,
          10,
          40,
          20,
          20,
          20,
          20,
          30,
          30,
          30,
          30,
          30,
          30,
          30,
          30,
          30,
          30,
          30,
          30,
          30,
          40,
          30,
          30,
          30,
          30,
          20,
          20,
          10,
          20,
          20
         ],
         "xaxis": "x59",
         "y": [
          0.0006030572806877948,
          0.000017267872859730894,
          0.0002003891046446997,
          0.0002675833225815239,
          0.000058718414537544966,
          0.0004932668772810958,
          0.00004417361247719773,
          0.00012039528848626058,
          0.0006924466498844899,
          0.0009174670220593022,
          0.00011267708093824678,
          0.00004584268787355865,
          0.000050280778428755706,
          0.000010695476345287184,
          0.000022964810673419587,
          0.000012094978678250213,
          0.00011139959662371032,
          0.00020443510150137817,
          0.000030442008652608602,
          0.00001149348088047172,
          0.00009140754206228326,
          0.00007479489631463367,
          0.0001659374738876341,
          0.00006204684057371488,
          0.00031414855097441387,
          0.0003646064116017021,
          0.0003360937164140219,
          0.00011413557089106621,
          0.00015348015683398566,
          0.00014911935711649018,
          0.000474271322805089,
          0.0004458520025100744,
          0.00027132936748607814,
          0.0006881625028625726,
          0.0006656089257060337,
          0.0008577872009375,
          0.00094095705324019,
          0.0006554424691858177,
          0.0004833915256556394,
          0.0007613554698886802,
          0.0005571718181379366,
          0.0007533931873569096,
          0.0004121644255438535,
          0.000564202750805794,
          0.0005856060447330134,
          0.0009571948007830283,
          0.000778259660661666,
          0.000539256460634418,
          0.0008083603457803395,
          0.00027100619377422747
         ],
         "yaxis": "y59"
        },
        {
         "colorbar": {
          "title": {
           "text": "Objective Value"
          }
         },
         "colorscale": [
          [
           0,
           "rgb(247,251,255)"
          ],
          [
           0.125,
           "rgb(222,235,247)"
          ],
          [
           0.25,
           "rgb(198,219,239)"
          ],
          [
           0.375,
           "rgb(158,202,225)"
          ],
          [
           0.5,
           "rgb(107,174,214)"
          ],
          [
           0.625,
           "rgb(66,146,198)"
          ],
          [
           0.75,
           "rgb(33,113,181)"
          ],
          [
           0.875,
           "rgb(8,81,156)"
          ],
          [
           1,
           "rgb(8,48,107)"
          ]
         ],
         "connectgaps": true,
         "contours": {
          "coloring": "heatmap"
         },
         "hoverinfo": "none",
         "line": {
          "smoothing": 1.3
         },
         "reversescale": false,
         "showscale": false,
         "type": "contour",
         "x": [
          0.000007072541283187389,
          0.00001110376978598369,
          0.000011950548462899992,
          0.000019123060851291802,
          0.000019860708707177768,
          0.000020040668531992272,
          0.00002163872549261281,
          0.00002390330078323597,
          0.00002612835183017675,
          0.000029404095527833733,
          0.00003479474879252498,
          0.00003520663293231582,
          0.000036220252965558876,
          0.000041877331510834896,
          0.000048620371257514394,
          0.000050611394602106545,
          0.00005208430975733577,
          0.00006625963744085291,
          0.00006669238216103824,
          0.00006987056210679689,
          0.00007598827625271952,
          0.00009047445070254732,
          0.00009857550141699971,
          0.00011939965426894092,
          0.00012163946485690261,
          0.00013352630362784012,
          0.00015050344330720008,
          0.00015335460642411939,
          0.0001902712069056088,
          0.00019989475930067544,
          0.00025476220795954977,
          0.0002617809684685859,
          0.0002881825011836019,
          0.00037465546882200145,
          0.00046290239796682167,
          0.0005223371831123543,
          0.0006379538142827019,
          0.0007397601677843805,
          0.0012757896201358236,
          0.001571749776249777,
          0.0019110286305313027,
          0.0021495967704226824,
          0.0024602413983781995,
          0.003911426777511212,
          0.0043321695035891845,
          0.005100990188563874,
          0.009696413197862666,
          0.019415699317830708,
          0.02264213245096893,
          0.0726475000829205,
          0.09191144747250399,
          0.14429941269586738
         ],
         "xaxis": "x4",
         "y": [
          10.399999999999999,
          16,
          32,
          64,
          128,
          133.6
         ],
         "yaxis": "y4",
         "z": {
          "bdata": "AAAAAAAA+H8AAAAAAAD4fwAAAAAAAPh/AAAAAAAA+H8AAAAAAAD4fwAAAAAAAPh/AAAAAAAA+H8AAAAAAAD4fwAAAAAAAPh/AAAAAAAA+H8AAAAAAAD4fwAAAAAAAPh/AAAAAAAA+H8AAAAAAAD4fwAAAAAAAPh/AAAAAAAA+H8AAAAAAAD4fwAAAAAAAPh/AAAAAAAA+H8AAAAAAAD4fwAAAAAAAPh/AAAAAAAA+H8AAAAAAAD4fwAAAAAAAPh/AAAAAAAA+H8AAAAAAAD4fwAAAAAAAPh/AAAAAAAA+H8AAAAAAAD4fwAAAAAAAPh/AAAAAAAA+H8AAAAAAAD4fwAAAAAAAPh/AAAAAAAA+H8AAAAAAAD4fwAAAAAAAPh/AAAAAAAA+H8AAAAAAAD4fwAAAAAAAPh/AAAAAAAA+H8AAAAAAAD4fwAAAAAAAPh/AAAAAAAA+H8AAAAAAAD4fwAAAAAAAPh/AAAAAAAA+H8AAAAAAAD4fwAAAAAAAPh/AAAAAAAA+H8AAAAAAAD4fwAAAAAAAPh/AAAAAAAA+H8AAAAAAAD4f6uqqqqqelRAAAAAAACQVEBVVVVVVRVTQAAAAAAAAPh/VVVVVVXlVEAAAAAAAAD4fwAAAAAAQFVAq6qqqqrKVEAAAAAAAOBUQKqqqqqqelVAAAAAAAAA+H9WVVVVVTVVQKuqqqqqClVAVlVVVVX1VEBWVVVVVTVVQAAAAAAAAPh/q6qqqqrKSkAAAAAAAGBVQFVVVVVVhVJAAAAAAAAA+H8AAAAAAAD4fwAAAAAAAPh/AAAAAADAVECrqqqqqupUQKuqqqqq6lRAAAAAAAAwVUAAAAAAAGBVQAAAAAAAAPh/AAAAAAAA+H8AAAAAAAD4fwAAAAAAAPh/AAAAAAAQVUAAAAAAAAD4fwAAAAAAAPh/AAAAAAAA+H8AAAAAAAD4fwAAAAAAAPh/AAAAAAAA+H8AAAAAAJBUQAAAAAAAAPh/AAAAAAAA+H8AAAAAAAD4f1VVVVVVhVRAAAAAAAAA+H8AAAAAAAD4fwAAAAAAAPh/AAAAAAAA+H8AAAAAAAD4f6uqqqqqWlRAVVVVVVWVM0AAAAAAAAD4fwAAAAAAAPh/AAAAAAAA+H8AAAAAAAD4fwAAAAAAAPh/qqqqqqpKR0AAAAAAAAD4fwAAAAAAAPh/AAAAAAAA+H8AAAAAAAD4fwAAAAAAAPh/AAAAAAAA+H8AAAAAAAD4fwAAAAAAAPh/AAAAAAAA+H8AAAAAAAD4fwAAAAAAAPh/AAAAAAAA+H8AAAAAAAD4fwAAAAAAAPh/AAAAAAAA+H8AAAAAAAD4fwAAAAAAAPh/AAAAAAAA+H8AAAAAAAD4fwAAAAAAAPh/AAAAAAAA+H8AAAAAAAD4fwAAAAAAAPh/AAAAAAAA+H8AAAAAAAD4fwAAAAAAAPh/AAAAAAAA+H8AAAAAAAD4f1VVVVVVBVVAq6qqqqqKVEAAAAAAAAD4fwAAAAAA8FRAAAAAAADwVEBVVVVVVcVUQAAAAAAAAPh/AAAAAAAA+H+rqqqqqlpUQAAAAAAAAPh/AAAAAAAA+H8AAAAAAAD4fwAAAAAAAPh/AAAAAADQVEAAAAAAAAD4fwAAAAAAAPh/AAAAAAAA+H8AAAAAAAD4fwAAAAAAAPh/AAAAAAAA+H8AAAAAAAD4fwAAAAAAAPh/AAAAAAAA+H8AAAAAAAD4fwAAAAAAAPh/AAAAAAAA+H8AAAAAAAD4fwAAAAAAAPh/AAAAAAAA+H8AAAAAAAD4fwAAAAAAAPh/AAAAAAAA+H8AAAAAAAD4fwAAAAAAAPh/AAAAAAAA+H8AAAAAAEBUQAAAAAAAAPh/AAAAAAAA+H8AAAAAAAD4f6qqqqqqqi9AAAAAAAAA+H9WVVVVVTVVQAAAAAAAAPh/AAAAAAAA+H8AAAAAAAD4fwAAAAAAAPh/AAAAAAAA+H8AAAAAAAD4fwAAAAAAAPh/AAAAAAAA+H8AAAAAAAD4fwAAAAAAAPh/AAAAAAAA+H8AAAAAAAD4fwAAAAAAAPh/AAAAAAAA+H8AAAAAAAD4fwAAAAAAAPh/AAAAAAAA+H8AAAAAAAD4fwAAAAAAAPh/AAAAAAAA+H8AAAAAAAD4fwAAAAAAAPh/q6qqqqoKT0AAAAAAAAD4fwAAAAAAIFRAAAAAAAAA+H8AAAAAAAD4fwAAAAAAAPh/AAAAAAAA+H8AAAAAAAD4fwAAAAAAAPh/AAAAAAAA+H8AAAAAAAD4fwAAAAAAAPh/AAAAAAAA+H+rqqqqqjpUQAAAAAAAAPh/AAAAAAAA+H8AAAAAAAD4fwAAAAAAAPh/VVVVVVWlUkAAAAAAAAD4fwAAAAAAAPh/AAAAAAAA+H8AAAAAAAD4fwAAAAAAAPh/AAAAAAAA+H8AAAAAAAD4fwAAAAAAAPh/AAAAAAAA+H9VVVVVVYVUQAAAAAAAAPh/AAAAAAAA+H8AAAAAAAD4fwAAAAAAAPh/AAAAAAAA+H8AAAAAAAD4f1ZVVVVV9VRAqqqqqqoaVUCrqqqqqqpUQKuqqqqqilRAAAAAAAAA+H8AAAAAAAD4fwAAAAAAAPh/VlVVVVUFU0AAAAAAAAD4fwAAAAAAAPh/AAAAAAAA+H8AAAAAAAD4fwAAAAAAIFVAAAAAAAAA+H9WVVVVVZVUQAAAAAAAAPh/qqqqqqraVEAAAAAAAAD4fwAAAAAAAPh/AAAAAAAA+H9VVVVVVSVSQAAAAAAAAPh/AAAAAAAA+H8AAAAAAAD4fwAAAAAAAPh/AAAAAAAA+H8AAAAAAAD4fwAAAAAAAPh/AAAAAAAA+H8AAAAAAAD4fwAAAAAAAPh/AAAAAAAA+H8AAAAAAAD4fwAAAAAAAPh/AAAAAAAA+H8AAAAAAAD4fwAAAAAAAPh/AAAAAAAA+H8AAAAAAAD4fwAAAAAAAPh/AAAAAAAA+H8AAAAAAAD4fwAAAAAAAPh/AAAAAAAA+H8AAAAAAAD4fwAAAAAAAPh/AAAAAAAA+H8AAAAAAAD4fwAAAAAAAPh/AAAAAAAA+H8AAAAAAAD4fwAAAAAAAPh/AAAAAAAA+H8AAAAAAAD4fwAAAAAAAPh/AAAAAAAA+H8AAAAAAAD4fwAAAAAAAPh/AAAAAAAA+H8AAAAAAAD4fwAAAAAAAPh/AAAAAAAA+H8AAAAAAAD4fwAAAAAAAPh/AAAAAAAA+H8AAAAAAAD4fwAAAAAAAPh/AAAAAAAA+H8AAAAAAAD4fwAAAAAAAPh/AAAAAAAA+H8AAAAAAAD4fwAAAAAAAPh/AAAAAAAA+H8AAAAAAAD4fwAAAAAAAPh/",
          "dtype": "f8",
          "shape": "6, 52"
         }
        },
        {
         "marker": {
          "color": "black",
          "line": {
           "color": "Gray",
           "width": 2
          }
         },
         "mode": "markers",
         "name": "Feasible Trial",
         "showlegend": false,
         "type": "scatter",
         "x": [
          0.005100990188563874,
          0.000019860708707177768,
          0.009696413197862666,
          0.001571749776249777,
          0.0006379538142827019,
          0.02264213245096893,
          0.0726475000829205,
          0.0019110286305313027,
          0.00012163946485690261,
          0.00007598827625271952,
          0.0005223371831123543,
          0.0007397601677843805,
          0.0024602413983781995,
          0.0001902712069056088,
          0.00009047445070254732,
          0.00025476220795954977,
          0.0043321695035891845,
          0.00002163872549261281,
          0.0002617809684685859,
          0.019415699317830708,
          0.00003520663293231582,
          0.00046290239796682167,
          0.0012757896201358236,
          0.00037465546882200145,
          0.00019989475930067544,
          0.0021495967704226824,
          0.00005208430975733577,
          0.0002881825011836019,
          0.00015050344330720008,
          0.003911426777511212,
          0.00015335460642411939,
          0.00001110376978598369,
          0.00013352630362784012,
          0.000050611394602106545,
          0.000036220252965558876,
          0.00003479474879252498,
          0.000029404095527833733,
          0.000011950548462899992,
          0.000048620371257514394,
          0.000019123060851291802,
          0.00006987056210679689,
          0.00011939965426894092,
          0.000041877331510834896,
          0.00002390330078323597,
          0.000020040668531992272,
          0.00002612835183017675,
          0.00006669238216103824,
          0.00006625963744085291,
          0.00009857550141699971,
          0.09191144747250399
         ],
         "xaxis": "x4",
         "y": [
          64,
          32,
          32,
          16,
          32,
          128,
          16,
          128,
          16,
          64,
          128,
          32,
          128,
          128,
          128,
          128,
          128,
          128,
          128,
          64,
          128,
          32,
          32,
          32,
          128,
          32,
          64,
          16,
          16,
          16,
          16,
          16,
          16,
          16,
          16,
          16,
          16,
          16,
          16,
          16,
          16,
          16,
          16,
          16,
          16,
          16,
          16,
          16,
          64,
          16
         ],
         "yaxis": "y4"
        },
        {
         "colorbar": {
          "title": {
           "text": "Objective Value"
          }
         },
         "colorscale": [
          [
           0,
           "rgb(247,251,255)"
          ],
          [
           0.125,
           "rgb(222,235,247)"
          ],
          [
           0.25,
           "rgb(198,219,239)"
          ],
          [
           0.375,
           "rgb(158,202,225)"
          ],
          [
           0.5,
           "rgb(107,174,214)"
          ],
          [
           0.625,
           "rgb(66,146,198)"
          ],
          [
           0.75,
           "rgb(33,113,181)"
          ],
          [
           0.875,
           "rgb(8,81,156)"
          ],
          [
           1,
           "rgb(8,48,107)"
          ]
         ],
         "connectgaps": true,
         "contours": {
          "coloring": "heatmap"
         },
         "hoverinfo": "none",
         "line": {
          "smoothing": 1.3
         },
         "reversescale": false,
         "showscale": false,
         "type": "contour",
         "x": [
          0.000007072541283187389,
          0.00001110376978598369,
          0.000011950548462899992,
          0.000019123060851291802,
          0.000019860708707177768,
          0.000020040668531992272,
          0.00002163872549261281,
          0.00002390330078323597,
          0.00002612835183017675,
          0.000029404095527833733,
          0.00003479474879252498,
          0.00003520663293231582,
          0.000036220252965558876,
          0.000041877331510834896,
          0.000048620371257514394,
          0.000050611394602106545,
          0.00005208430975733577,
          0.00006625963744085291,
          0.00006669238216103824,
          0.00006987056210679689,
          0.00007598827625271952,
          0.00009047445070254732,
          0.00009857550141699971,
          0.00011939965426894092,
          0.00012163946485690261,
          0.00013352630362784012,
          0.00015050344330720008,
          0.00015335460642411939,
          0.0001902712069056088,
          0.00019989475930067544,
          0.00025476220795954977,
          0.0002617809684685859,
          0.0002881825011836019,
          0.00037465546882200145,
          0.00046290239796682167,
          0.0005223371831123543,
          0.0006379538142827019,
          0.0007397601677843805,
          0.0012757896201358236,
          0.001571749776249777,
          0.0019110286305313027,
          0.0021495967704226824,
          0.0024602413983781995,
          0.003911426777511212,
          0.0043321695035891845,
          0.005100990188563874,
          0.009696413197862666,
          0.019415699317830708,
          0.02264213245096893,
          0.0726475000829205,
          0.09191144747250399,
          0.14429941269586738
         ],
         "xaxis": "x12",
         "y": [
          0.08,
          0.1,
          0.2,
          0.30000000000000004,
          0.4,
          0.5,
          0.52
         ],
         "yaxis": "y12",
         "z": {
          "bdata": "AAAAAAAA+H8AAAAAAAD4fwAAAAAAAPh/AAAAAAAA+H8AAAAAAAD4fwAAAAAAAPh/AAAAAAAA+H8AAAAAAAD4fwAAAAAAAPh/AAAAAAAA+H8AAAAAAAD4fwAAAAAAAPh/AAAAAAAA+H8AAAAAAAD4fwAAAAAAAPh/AAAAAAAA+H8AAAAAAAD4fwAAAAAAAPh/AAAAAAAA+H8AAAAAAAD4fwAAAAAAAPh/AAAAAAAA+H8AAAAAAAD4fwAAAAAAAPh/AAAAAAAA+H8AAAAAAAD4fwAAAAAAAPh/AAAAAAAA+H8AAAAAAAD4fwAAAAAAAPh/AAAAAAAA+H8AAAAAAAD4fwAAAAAAAPh/AAAAAAAA+H8AAAAAAAD4fwAAAAAAAPh/AAAAAAAA+H8AAAAAAAD4fwAAAAAAAPh/AAAAAAAA+H8AAAAAAAD4fwAAAAAAAPh/AAAAAAAA+H8AAAAAAAD4fwAAAAAAAPh/AAAAAAAA+H8AAAAAAAD4fwAAAAAAAPh/AAAAAAAA+H8AAAAAAAD4fwAAAAAAAPh/AAAAAAAA+H8AAAAAAAD4f6uqqqqqelRAAAAAAACQVEBVVVVVVRVTQKqqqqqqSkdAVVVVVVXlVECrqqqqqjpUQAAAAAAAQFVAq6qqqqrKVEAAAAAAAOBUQKqqqqqqelVAAAAAAAAA+H9WVVVVVTVVQKuqqqqqClVAVlVVVVX1VEBWVVVVVTVVQAAAAAAAAPh/q6qqqqrKSkAAAAAAAGBVQFVVVVVVhVJAAAAAAAAA+H8AAAAAAAD4f1ZVVVVVNVVAAAAAAADAVEAAAAAAAAD4f6uqqqqq6lRAAAAAAAAwVUAAAAAAAGBVQAAAAAAAAPh/AAAAAAAA+H8AAAAAAAD4fwAAAAAAAPh/AAAAAAAA+H8AAAAAAAD4fwAAAAAAAPh/AAAAAAAA+H8AAAAAAAD4fwAAAAAAAPh/AAAAAAAA+H8AAAAAAAD4fwAAAAAAAPh/q6qqqqpaVEAAAAAAAAD4f1VVVVVVhVRAAAAAAAAA+H8AAAAAAAD4fwAAAAAA0FRAAAAAAAAA+H8AAAAAAAD4f6uqqqqqWlRAAAAAAAAA+H8AAAAAAAD4fwAAAAAAAPh/AAAAAAAA+H8AAAAAAAD4fwAAAAAAAPh/AAAAAAAA+H8AAAAAAAD4fwAAAAAAAPh/AAAAAAAA+H8AAAAAAAD4fwAAAAAAAPh/AAAAAAAA+H8AAAAAAAD4fwAAAAAAAPh/AAAAAAAA+H8AAAAAAAD4fwAAAAAAAPh/AAAAAABAVEAAAAAAAAD4fwAAAAAAAPh/AAAAAAAA+H8AAAAAAAD4f1VVVVVVhVRAAAAAAAAA+H8AAAAAAAD4fwAAAAAAAPh/AAAAAAAA+H8AAAAAAAD4fwAAAAAAAPh/VlVVVVX1VECqqqqqqhpVQKuqqqqqqlRAq6qqqqqKVEAAAAAAABBVQFVVVVVVBVVAAAAAAAAA+H9WVVVVVQVTQAAAAAAAAPh/AAAAAADwVEAAAAAAAAD4fwAAAAAAAPh/AAAAAAAgVUAAAAAAAAD4fwAAAAAAAPh/AAAAAAAA+H+qqqqqqtpUQAAAAAAAAPh/AAAAAAAA+H8AAAAAAAD4fwAAAAAAAPh/AAAAAAAA+H8AAAAAAAD4fwAAAAAAAPh/AAAAAAAA+H8AAAAAAAD4fwAAAAAAAPh/AAAAAAAA+H8AAAAAAAD4fwAAAAAAAPh/AAAAAAAA+H8AAAAAAAD4fwAAAAAAAPh/AAAAAAAA+H8AAAAAAAD4fwAAAAAAAPh/AAAAAAAA+H8AAAAAAAD4fwAAAAAAAPh/AAAAAAAA+H8AAAAAAAD4fwAAAAAAAPh/AAAAAAAA+H8AAAAAAAD4fwAAAAAAAPh/AAAAAAAA+H8AAAAAAAD4fwAAAAAAAPh/AAAAAAAA+H8AAAAAAAD4fwAAAAAAAPh/AAAAAAAA+H8AAAAAAAD4fwAAAAAAAPh/AAAAAAAA+H8AAAAAAAD4fwAAAAAAAPh/AAAAAAAA+H+rqqqqqopUQAAAAAAAAPh/AAAAAADwVEAAAAAAAAD4f1VVVVVVxVRAAAAAAAAA+H8AAAAAAAD4fwAAAAAAAPh/VlVVVVWVVEAAAAAAAAD4fwAAAAAAAPh/AAAAAAAA+H8AAAAAAAD4fwAAAAAAIFRAVVVVVVUlUkAAAAAAAAD4fwAAAAAAAPh/AAAAAAAA+H8AAAAAAAD4fwAAAAAAAPh/AAAAAAAA+H8AAAAAAAD4fwAAAAAAAPh/AAAAAAAA+H8AAAAAAAD4fwAAAAAAAPh/AAAAAAAA+H8AAAAAAAD4fwAAAAAAAPh/AAAAAAAA+H8AAAAAAAD4fwAAAAAAAPh/AAAAAAAA+H8AAAAAAAD4fwAAAAAAAPh/AAAAAAAA+H8AAAAAAAD4fwAAAAAAAPh/AAAAAAAA+H8AAAAAAAD4fwAAAAAAAPh/AAAAAAAA+H+rqqqqqupUQAAAAAAAAPh/AAAAAAAA+H8AAAAAAAD4fwAAAAAAAPh/AAAAAAAA+H8AAAAAAAD4fwAAAAAAAPh/AAAAAAAA+H8AAAAAAAD4fwAAAAAAAPh/AAAAAAAA+H8AAAAAAAD4fwAAAAAAAPh/AAAAAAAA+H8AAAAAAJBUQAAAAAAAAPh/AAAAAAAA+H8AAAAAAAD4fwAAAAAAAPh/AAAAAAAA+H+rqqqqqgpPQAAAAAAAAPh/AAAAAAAA+H8AAAAAAAD4fwAAAAAAAPh/VVVVVVWVM0AAAAAAAAD4fwAAAAAAAPh/AAAAAAAA+H8AAAAAAAD4fwAAAAAAAPh/AAAAAAAA+H8AAAAAAAD4fwAAAAAAAPh/AAAAAAAA+H8AAAAAAAD4fwAAAAAAAPh/AAAAAAAA+H9VVVVVVaVSQAAAAAAAAPh/AAAAAAAA+H8AAAAAAAD4fwAAAAAAAPh/AAAAAAAA+H8AAAAAAAD4fwAAAAAAAPh/AAAAAAAA+H+qqqqqqqovQAAAAAAAAPh/AAAAAAAA+H8AAAAAAAD4fwAAAAAAAPh/AAAAAAAA+H8AAAAAAAD4fwAAAAAAAPh/AAAAAAAA+H8AAAAAAAD4fwAAAAAAAPh/AAAAAAAA+H8AAAAAAAD4fwAAAAAAAPh/AAAAAAAA+H8AAAAAAAD4fwAAAAAAAPh/AAAAAAAA+H8AAAAAAAD4fwAAAAAAAPh/AAAAAAAA+H8AAAAAAAD4fwAAAAAAAPh/AAAAAAAA+H8AAAAAAAD4fwAAAAAAAPh/AAAAAAAA+H8AAAAAAAD4fwAAAAAAAPh/AAAAAAAA+H8AAAAAAAD4fwAAAAAAAPh/AAAAAAAA+H8AAAAAAAD4fwAAAAAAAPh/AAAAAAAA+H8AAAAAAAD4fwAAAAAAAPh/AAAAAAAA+H8AAAAAAAD4fwAAAAAAAPh/AAAAAAAA+H8AAAAAAAD4fwAAAAAAAPh/AAAAAAAA+H8AAAAAAAD4fwAAAAAAAPh/AAAAAAAA+H8AAAAAAAD4fwAAAAAAAPh/AAAAAAAA+H8AAAAAAAD4fwAAAAAAAPh/AAAAAAAA+H8AAAAAAAD4fwAAAAAAAPh/AAAAAAAA+H8AAAAAAAD4fwAAAAAAAPh/AAAAAAAA+H8AAAAAAAD4fwAAAAAAAPh/AAAAAAAA+H8AAAAAAAD4fwAAAAAAAPh/AAAAAAAA+H8AAAAAAAD4fwAAAAAAAPh/AAAAAAAA+H8AAAAAAAD4fwAAAAAAAPh/AAAAAAAA+H8AAAAAAAD4fwAAAAAAAPh/AAAAAAAA+H8AAAAAAAD4fwAAAAAAAPh/AAAAAAAA+H8AAAAAAAD4fwAAAAAAAPh/AAAAAAAA+H8AAAAAAAD4fwAAAAAAAPh/AAAAAAAA+H8=",
          "dtype": "f8",
          "shape": "7, 52"
         }
        },
        {
         "marker": {
          "color": "black",
          "line": {
           "color": "Gray",
           "width": 2
          }
         },
         "mode": "markers",
         "name": "Feasible Trial",
         "showlegend": false,
         "type": "scatter",
         "x": [
          0.005100990188563874,
          0.000019860708707177768,
          0.009696413197862666,
          0.001571749776249777,
          0.0006379538142827019,
          0.02264213245096893,
          0.0726475000829205,
          0.0019110286305313027,
          0.00012163946485690261,
          0.00007598827625271952,
          0.0005223371831123543,
          0.0007397601677843805,
          0.0024602413983781995,
          0.0001902712069056088,
          0.00009047445070254732,
          0.00025476220795954977,
          0.0043321695035891845,
          0.00002163872549261281,
          0.0002617809684685859,
          0.019415699317830708,
          0.00003520663293231582,
          0.00046290239796682167,
          0.0012757896201358236,
          0.00037465546882200145,
          0.00019989475930067544,
          0.0021495967704226824,
          0.00005208430975733577,
          0.0002881825011836019,
          0.00015050344330720008,
          0.003911426777511212,
          0.00015335460642411939,
          0.00001110376978598369,
          0.00013352630362784012,
          0.000050611394602106545,
          0.000036220252965558876,
          0.00003479474879252498,
          0.000029404095527833733,
          0.000011950548462899992,
          0.000048620371257514394,
          0.000019123060851291802,
          0.00006987056210679689,
          0.00011939965426894092,
          0.000041877331510834896,
          0.00002390330078323597,
          0.000020040668531992272,
          0.00002612835183017675,
          0.00006669238216103824,
          0.00006625963744085291,
          0.00009857550141699971,
          0.09191144747250399
         ],
         "xaxis": "x12",
         "y": [
          0.4,
          0.1,
          0.1,
          0.4,
          0.30000000000000004,
          0.30000000000000004,
          0.1,
          0.2,
          0.4,
          0.5,
          0.2,
          0.2,
          0.30000000000000004,
          0.2,
          0.2,
          0.2,
          0.2,
          0.1,
          0.2,
          0.30000000000000004,
          0.5,
          0.30000000000000004,
          0.30000000000000004,
          0.2,
          0.2,
          0.1,
          0.2,
          0.2,
          0.1,
          0.1,
          0.1,
          0.1,
          0.1,
          0.1,
          0.1,
          0.1,
          0.1,
          0.1,
          0.1,
          0.1,
          0.1,
          0.1,
          0.1,
          0.1,
          0.1,
          0.1,
          0.1,
          0.1,
          0.1,
          0.4
         ],
         "yaxis": "y12"
        },
        {
         "colorbar": {
          "title": {
           "text": "Objective Value"
          }
         },
         "colorscale": [
          [
           0,
           "rgb(247,251,255)"
          ],
          [
           0.125,
           "rgb(222,235,247)"
          ],
          [
           0.25,
           "rgb(198,219,239)"
          ],
          [
           0.375,
           "rgb(158,202,225)"
          ],
          [
           0.5,
           "rgb(107,174,214)"
          ],
          [
           0.625,
           "rgb(66,146,198)"
          ],
          [
           0.75,
           "rgb(33,113,181)"
          ],
          [
           0.875,
           "rgb(8,81,156)"
          ],
          [
           1,
           "rgb(8,48,107)"
          ]
         ],
         "connectgaps": true,
         "contours": {
          "coloring": "heatmap"
         },
         "hoverinfo": "none",
         "line": {
          "smoothing": 1.3
         },
         "reversescale": false,
         "showscale": false,
         "type": "contour",
         "x": [
          0.000007072541283187389,
          0.00001110376978598369,
          0.000011950548462899992,
          0.000019123060851291802,
          0.000019860708707177768,
          0.000020040668531992272,
          0.00002163872549261281,
          0.00002390330078323597,
          0.00002612835183017675,
          0.000029404095527833733,
          0.00003479474879252498,
          0.00003520663293231582,
          0.000036220252965558876,
          0.000041877331510834896,
          0.000048620371257514394,
          0.000050611394602106545,
          0.00005208430975733577,
          0.00006625963744085291,
          0.00006669238216103824,
          0.00006987056210679689,
          0.00007598827625271952,
          0.00009047445070254732,
          0.00009857550141699971,
          0.00011939965426894092,
          0.00012163946485690261,
          0.00013352630362784012,
          0.00015050344330720008,
          0.00015335460642411939,
          0.0001902712069056088,
          0.00019989475930067544,
          0.00025476220795954977,
          0.0002617809684685859,
          0.0002881825011836019,
          0.00037465546882200145,
          0.00046290239796682167,
          0.0005223371831123543,
          0.0006379538142827019,
          0.0007397601677843805,
          0.0012757896201358236,
          0.001571749776249777,
          0.0019110286305313027,
          0.0021495967704226824,
          0.0024602413983781995,
          0.003911426777511212,
          0.0043321695035891845,
          0.005100990188563874,
          0.009696413197862666,
          0.019415699317830708,
          0.02264213245096893,
          0.0726475000829205,
          0.09191144747250399,
          0.14429941269586738
         ],
         "xaxis": "x20",
         "y": [
          8,
          10,
          20,
          30,
          40,
          50,
          52
         ],
         "yaxis": "y20",
         "z": {
          "bdata": "AAAAAAAA+H8AAAAAAAD4fwAAAAAAAPh/AAAAAAAA+H8AAAAAAAD4fwAAAAAAAPh/AAAAAAAA+H8AAAAAAAD4fwAAAAAAAPh/AAAAAAAA+H8AAAAAAAD4fwAAAAAAAPh/AAAAAAAA+H8AAAAAAAD4fwAAAAAAAPh/AAAAAAAA+H8AAAAAAAD4fwAAAAAAAPh/AAAAAAAA+H8AAAAAAAD4fwAAAAAAAPh/AAAAAAAA+H8AAAAAAAD4fwAAAAAAAPh/AAAAAAAA+H8AAAAAAAD4fwAAAAAAAPh/AAAAAAAA+H8AAAAAAAD4fwAAAAAAAPh/AAAAAAAA+H8AAAAAAAD4fwAAAAAAAPh/AAAAAAAA+H8AAAAAAAD4fwAAAAAAAPh/AAAAAAAA+H8AAAAAAAD4fwAAAAAAAPh/AAAAAAAA+H8AAAAAAAD4fwAAAAAAAPh/AAAAAAAA+H8AAAAAAAD4fwAAAAAAAPh/AAAAAAAA+H8AAAAAAAD4fwAAAAAAAPh/AAAAAAAA+H8AAAAAAAD4fwAAAAAAAPh/AAAAAAAA+H8AAAAAAAD4fwAAAAAAAPh/AAAAAAAA+H8AAAAAAAD4fwAAAAAAAPh/AAAAAAAA+H8AAAAAAAD4fwAAAAAAAPh/AAAAAAAA+H8AAAAAAAD4fwAAAAAAAPh/AAAAAAAA+H8AAAAAAAD4fwAAAAAAAPh/AAAAAAAA+H8AAAAAAAD4fwAAAAAAAPh/q6qqqqrKSkAAAAAAAAD4fwAAAAAAAPh/AAAAAAAA+H8AAAAAAAD4fwAAAAAAAPh/AAAAAAAA+H8AAAAAAAD4fwAAAAAAAPh/AAAAAAAA+H8AAAAAAAD4fwAAAAAAAPh/AAAAAAAA+H8AAAAAAAD4fwAAAAAAAPh/AAAAAAAA+H8AAAAAAAD4f6uqqqqqilRAAAAAAAAA+H8AAAAAAPBUQAAAAAAAAPh/AAAAAAAA+H8AAAAAAAD4fwAAAAAAAPh/AAAAAAAA+H8AAAAAAAD4fwAAAAAAAPh/AAAAAAAA+H+rqqqqqgpPQAAAAAAAAPh/AAAAAAAA+H8AAAAAAAD4f6uqqqqqWlRAAAAAAAAA+H8AAAAAAAD4fwAAAAAAAPh/AAAAAAAA+H8AAAAAAAD4fwAAAAAAAPh/AAAAAAAA+H8AAAAAAAD4fwAAAAAAAPh/AAAAAAAA+H+rqqqqqspUQAAAAAAAAPh/AAAAAAAA+H8AAAAAAAD4fwAAAAAAAPh/AAAAAAAA+H8AAAAAAAD4fwAAAAAAAPh/AAAAAABAVEAAAAAAAAD4fwAAAAAAYFVAAAAAAAAA+H+qqqqqqqovQAAAAAAAAPh/VlVVVVU1VUAAAAAAAAD4fwAAAAAAAPh/AAAAAAAA+H8AAAAAAAD4fwAAAAAAAPh/AAAAAAAA+H+qqqqqqhpVQAAAAAAAAPh/AAAAAAAA+H8AAAAAAAD4f1VVVVVVBVVAAAAAAAAA+H8AAAAAAAD4fwAAAAAAAPh/AAAAAADwVEAAAAAAAAD4fwAAAAAAAPh/AAAAAAAA+H+rqqqqqlpUQFZVVVVVlVRAAAAAAAAA+H8AAAAAAAD4fwAAAAAAAPh/AAAAAAAA+H8AAAAAAAD4fwAAAAAAAPh/AAAAAAAA+H9VVVVVVZUzQAAAAAAAAPh/AAAAAAAA+H+rqqqqqnpUQAAAAAAAkFRAVVVVVVUVU0AAAAAAAAD4f1VVVVVV5VRAAAAAAAAA+H8AAAAAAEBVQAAAAAAAAPh/AAAAAADgVECqqqqqqnpVQFVVVVVVpVJAVlVVVVU1VUCrqqqqqgpVQFZVVVVV9VRAVlVVVVU1VUAAAAAAAAD4fwAAAAAAAPh/AAAAAAAA+H8AAAAAAAD4fwAAAAAAAPh/AAAAAAAA+H8AAAAAAAD4fwAAAAAAwFRAq6qqqqrqVECrqqqqqupUQAAAAAAAMFVAAAAAAABgVUAAAAAAAAD4fwAAAAAAAPh/AAAAAAAA+H8AAAAAAAD4fwAAAAAAEFVAAAAAAAAA+H8AAAAAAAD4fwAAAAAAAPh/AAAAAAAA+H8AAAAAAAD4fwAAAAAAAPh/AAAAAACQVEAAAAAAAAD4fwAAAAAAAPh/AAAAAAAA+H9VVVVVVYVUQAAAAAAAAPh/AAAAAAAA+H8AAAAAAAD4fwAAAAAAAPh/AAAAAAAA+H8AAAAAAAD4fwAAAAAAAPh/AAAAAAAA+H8AAAAAAAD4fwAAAAAAAPh/AAAAAAAA+H8AAAAAAAD4fwAAAAAAAPh/AAAAAAAA+H8AAAAAAAD4fwAAAAAAAPh/AAAAAAAA+H8AAAAAAAD4fwAAAAAAAPh/AAAAAAAA+H8AAAAAAAD4fwAAAAAAAPh/AAAAAAAA+H8AAAAAAAD4fwAAAAAAAPh/AAAAAAAA+H8AAAAAAAD4f1VVVVVVhVJAAAAAAAAA+H9VVVVVVYVUQAAAAAAAAPh/AAAAAAAA+H8AAAAAAAD4fwAAAAAAAPh/AAAAAAAA+H8AAAAAAAD4f1ZVVVVV9VRAAAAAAAAA+H8AAAAAAAD4f6uqqqqqilRAAAAAAAAA+H8AAAAAAAD4fwAAAAAAAPh/VlVVVVUFU0AAAAAAAAD4fwAAAAAAAPh/VVVVVVXFVEAAAAAAAAD4fwAAAAAAAPh/AAAAAAAA+H8AAAAAAAD4fwAAAAAAAPh/qqqqqqraVEAAAAAAAAD4fwAAAAAA0FRAAAAAAAAA+H8AAAAAAAD4fwAAAAAAAPh/AAAAAAAA+H8AAAAAAAD4fwAAAAAAAPh/AAAAAAAA+H8AAAAAAAD4fwAAAAAAAPh/qqqqqqpKR0AAAAAAAAD4f6uqqqqqOlRAAAAAAAAA+H8AAAAAAAD4fwAAAAAAAPh/AAAAAAAA+H8AAAAAAAD4fwAAAAAAAPh/AAAAAAAA+H8AAAAAAAD4fwAAAAAAAPh/AAAAAAAA+H8AAAAAAAD4fwAAAAAAAPh/AAAAAAAA+H8AAAAAAAD4fwAAAAAAAPh/AAAAAAAA+H8AAAAAAAD4fwAAAAAAAPh/AAAAAAAA+H8AAAAAAAD4fwAAAAAAAPh/AAAAAAAA+H8AAAAAAAD4f6uqqqqqqlRAAAAAAAAA+H8AAAAAAAD4fwAAAAAAAPh/AAAAAAAA+H8AAAAAAAD4fwAAAAAAAPh/AAAAAAAA+H8AAAAAAAD4fwAAAAAAAPh/AAAAAAAgVUAAAAAAAAD4fwAAAAAAAPh/AAAAAAAA+H8AAAAAAAD4fwAAAAAAAPh/AAAAAAAA+H8AAAAAACBUQFVVVVVVJVJAAAAAAAAA+H8AAAAAAAD4fwAAAAAAAPh/AAAAAAAA+H8AAAAAAAD4fwAAAAAAAPh/AAAAAAAA+H8AAAAAAAD4fwAAAAAAAPh/AAAAAAAA+H8AAAAAAAD4fwAAAAAAAPh/AAAAAAAA+H8AAAAAAAD4fwAAAAAAAPh/AAAAAAAA+H8AAAAAAAD4fwAAAAAAAPh/AAAAAAAA+H8AAAAAAAD4fwAAAAAAAPh/AAAAAAAA+H8AAAAAAAD4fwAAAAAAAPh/AAAAAAAA+H8AAAAAAAD4fwAAAAAAAPh/AAAAAAAA+H8AAAAAAAD4fwAAAAAAAPh/AAAAAAAA+H8AAAAAAAD4fwAAAAAAAPh/AAAAAAAA+H8AAAAAAAD4fwAAAAAAAPh/AAAAAAAA+H8AAAAAAAD4fwAAAAAAAPh/AAAAAAAA+H8AAAAAAAD4fwAAAAAAAPh/AAAAAAAA+H8AAAAAAAD4fwAAAAAAAPh/AAAAAAAA+H8AAAAAAAD4fwAAAAAAAPh/AAAAAAAA+H8AAAAAAAD4fwAAAAAAAPh/AAAAAAAA+H8AAAAAAAD4fwAAAAAAAPh/AAAAAAAA+H8=",
          "dtype": "f8",
          "shape": "7, 52"
         }
        },
        {
         "marker": {
          "color": "black",
          "line": {
           "color": "Gray",
           "width": 2
          }
         },
         "mode": "markers",
         "name": "Feasible Trial",
         "showlegend": false,
         "type": "scatter",
         "x": [
          0.005100990188563874,
          0.000019860708707177768,
          0.009696413197862666,
          0.001571749776249777,
          0.0006379538142827019,
          0.02264213245096893,
          0.0726475000829205,
          0.0019110286305313027,
          0.00012163946485690261,
          0.00007598827625271952,
          0.0005223371831123543,
          0.0007397601677843805,
          0.0024602413983781995,
          0.0001902712069056088,
          0.00009047445070254732,
          0.00025476220795954977,
          0.0043321695035891845,
          0.00002163872549261281,
          0.0002617809684685859,
          0.019415699317830708,
          0.00003520663293231582,
          0.00046290239796682167,
          0.0012757896201358236,
          0.00037465546882200145,
          0.00019989475930067544,
          0.0021495967704226824,
          0.00005208430975733577,
          0.0002881825011836019,
          0.00015050344330720008,
          0.003911426777511212,
          0.00015335460642411939,
          0.00001110376978598369,
          0.00013352630362784012,
          0.000050611394602106545,
          0.000036220252965558876,
          0.00003479474879252498,
          0.000029404095527833733,
          0.000011950548462899992,
          0.000048620371257514394,
          0.000019123060851291802,
          0.00006987056210679689,
          0.00011939965426894092,
          0.000041877331510834896,
          0.00002390330078323597,
          0.000020040668531992272,
          0.00002612835183017675,
          0.00006669238216103824,
          0.00006625963744085291,
          0.00009857550141699971,
          0.09191144747250399
         ],
         "xaxis": "x20",
         "y": [
          10,
          50,
          40,
          30,
          10,
          50,
          10,
          50,
          30,
          20,
          40,
          20,
          20,
          40,
          40,
          50,
          40,
          50,
          40,
          50,
          30,
          10,
          40,
          20,
          20,
          20,
          20,
          30,
          30,
          30,
          30,
          30,
          30,
          30,
          30,
          30,
          30,
          30,
          30,
          30,
          40,
          30,
          30,
          30,
          30,
          20,
          20,
          10,
          20,
          20
         ],
         "yaxis": "y20"
        },
        {
         "type": "scatter",
         "xaxis": "x28",
         "yaxis": "y28"
        },
        {
         "colorbar": {
          "title": {
           "text": "Objective Value"
          }
         },
         "colorscale": [
          [
           0,
           "rgb(247,251,255)"
          ],
          [
           0.125,
           "rgb(222,235,247)"
          ],
          [
           0.25,
           "rgb(198,219,239)"
          ],
          [
           0.375,
           "rgb(158,202,225)"
          ],
          [
           0.5,
           "rgb(107,174,214)"
          ],
          [
           0.625,
           "rgb(66,146,198)"
          ],
          [
           0.75,
           "rgb(33,113,181)"
          ],
          [
           0.875,
           "rgb(8,81,156)"
          ],
          [
           1,
           "rgb(8,48,107)"
          ]
         ],
         "connectgaps": true,
         "contours": {
          "coloring": "heatmap"
         },
         "hoverinfo": "none",
         "line": {
          "smoothing": 1.3
         },
         "reversescale": false,
         "showscale": false,
         "type": "contour",
         "x": [
          0.000007072541283187389,
          0.00001110376978598369,
          0.000011950548462899992,
          0.000019123060851291802,
          0.000019860708707177768,
          0.000020040668531992272,
          0.00002163872549261281,
          0.00002390330078323597,
          0.00002612835183017675,
          0.000029404095527833733,
          0.00003479474879252498,
          0.00003520663293231582,
          0.000036220252965558876,
          0.000041877331510834896,
          0.000048620371257514394,
          0.000050611394602106545,
          0.00005208430975733577,
          0.00006625963744085291,
          0.00006669238216103824,
          0.00006987056210679689,
          0.00007598827625271952,
          0.00009047445070254732,
          0.00009857550141699971,
          0.00011939965426894092,
          0.00012163946485690261,
          0.00013352630362784012,
          0.00015050344330720008,
          0.00015335460642411939,
          0.0001902712069056088,
          0.00019989475930067544,
          0.00025476220795954977,
          0.0002617809684685859,
          0.0002881825011836019,
          0.00037465546882200145,
          0.00046290239796682167,
          0.0005223371831123543,
          0.0006379538142827019,
          0.0007397601677843805,
          0.0012757896201358236,
          0.001571749776249777,
          0.0019110286305313027,
          0.0021495967704226824,
          0.0024602413983781995,
          0.003911426777511212,
          0.0043321695035891845,
          0.005100990188563874,
          0.009696413197862666,
          0.019415699317830708,
          0.02264213245096893,
          0.0726475000829205,
          0.09191144747250399,
          0.14429941269586738
         ],
         "xaxis": "x36",
         "y": [
          2,
          8,
          24,
          32,
          40,
          48,
          56,
          64,
          72,
          80,
          88,
          96,
          104,
          112,
          120,
          128,
          134
         ],
         "yaxis": "y36",
         "z": {
          "bdata": "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",
          "dtype": "f8",
          "shape": "17, 52"
         }
        },
        {
         "marker": {
          "color": "black",
          "line": {
           "color": "Gray",
           "width": 2
          }
         },
         "mode": "markers",
         "name": "Feasible Trial",
         "showlegend": false,
         "type": "scatter",
         "x": [
          0.005100990188563874,
          0.000019860708707177768,
          0.009696413197862666,
          0.001571749776249777,
          0.0006379538142827019,
          0.02264213245096893,
          0.0726475000829205,
          0.0019110286305313027,
          0.00012163946485690261,
          0.00007598827625271952,
          0.0005223371831123543,
          0.0007397601677843805,
          0.0024602413983781995,
          0.0001902712069056088,
          0.00009047445070254732,
          0.00025476220795954977,
          0.0043321695035891845,
          0.00002163872549261281,
          0.0002617809684685859,
          0.019415699317830708,
          0.00003520663293231582,
          0.00046290239796682167,
          0.0012757896201358236,
          0.00037465546882200145,
          0.00019989475930067544,
          0.0021495967704226824,
          0.00005208430975733577,
          0.0002881825011836019,
          0.00015050344330720008,
          0.003911426777511212,
          0.00015335460642411939,
          0.00001110376978598369,
          0.00013352630362784012,
          0.000050611394602106545,
          0.000036220252965558876,
          0.00003479474879252498,
          0.000029404095527833733,
          0.000011950548462899992,
          0.000048620371257514394,
          0.000019123060851291802,
          0.00006987056210679689,
          0.00011939965426894092,
          0.000041877331510834896,
          0.00002390330078323597,
          0.000020040668531992272,
          0.00002612835183017675,
          0.00006669238216103824,
          0.00006625963744085291,
          0.00009857550141699971,
          0.09191144747250399
         ],
         "xaxis": "x36",
         "y": [
          104,
          32,
          72,
          112,
          112,
          88,
          128,
          88,
          120,
          64,
          8,
          88,
          56,
          96,
          88,
          48,
          96,
          72,
          40,
          80,
          104,
          112,
          128,
          104,
          104,
          96,
          80,
          104,
          120,
          120,
          120,
          120,
          128,
          112,
          120,
          120,
          112,
          128,
          112,
          24,
          120,
          120,
          128,
          112,
          112,
          104,
          112,
          96,
          112,
          128
         ],
         "yaxis": "y36"
        },
        {
         "colorbar": {
          "title": {
           "text": "Objective Value"
          }
         },
         "colorscale": [
          [
           0,
           "rgb(247,251,255)"
          ],
          [
           0.125,
           "rgb(222,235,247)"
          ],
          [
           0.25,
           "rgb(198,219,239)"
          ],
          [
           0.375,
           "rgb(158,202,225)"
          ],
          [
           0.5,
           "rgb(107,174,214)"
          ],
          [
           0.625,
           "rgb(66,146,198)"
          ],
          [
           0.75,
           "rgb(33,113,181)"
          ],
          [
           0.875,
           "rgb(8,81,156)"
          ],
          [
           1,
           "rgb(8,48,107)"
          ]
         ],
         "connectgaps": true,
         "contours": {
          "coloring": "heatmap"
         },
         "hoverinfo": "none",
         "line": {
          "smoothing": 1.3
         },
         "reversescale": false,
         "showscale": false,
         "type": "contour",
         "x": [
          0.000007072541283187389,
          0.00001110376978598369,
          0.000011950548462899992,
          0.000019123060851291802,
          0.000019860708707177768,
          0.000020040668531992272,
          0.00002163872549261281,
          0.00002390330078323597,
          0.00002612835183017675,
          0.000029404095527833733,
          0.00003479474879252498,
          0.00003520663293231582,
          0.000036220252965558876,
          0.000041877331510834896,
          0.000048620371257514394,
          0.000050611394602106545,
          0.00005208430975733577,
          0.00006625963744085291,
          0.00006669238216103824,
          0.00006987056210679689,
          0.00007598827625271952,
          0.00009047445070254732,
          0.00009857550141699971,
          0.00011939965426894092,
          0.00012163946485690261,
          0.00013352630362784012,
          0.00015050344330720008,
          0.00015335460642411939,
          0.0001902712069056088,
          0.00019989475930067544,
          0.00025476220795954977,
          0.0002617809684685859,
          0.0002881825011836019,
          0.00037465546882200145,
          0.00046290239796682167,
          0.0005223371831123543,
          0.0006379538142827019,
          0.0007397601677843805,
          0.0012757896201358236,
          0.001571749776249777,
          0.0019110286305313027,
          0.0021495967704226824,
          0.0024602413983781995,
          0.003911426777511212,
          0.0043321695035891845,
          0.005100990188563874,
          0.009696413197862666,
          0.019415699317830708,
          0.02264213245096893,
          0.0726475000829205,
          0.09191144747250399,
          0.14429941269586738
         ],
         "xaxis": "x44",
         "y": [
          0.8,
          1,
          2,
          3,
          4,
          5,
          5.2
         ],
         "yaxis": "y44",
         "z": {
          "bdata": "AAAAAAAA+H8AAAAAAAD4fwAAAAAAAPh/AAAAAAAA+H8AAAAAAAD4fwAAAAAAAPh/AAAAAAAA+H8AAAAAAAD4fwAAAAAAAPh/AAAAAAAA+H8AAAAAAAD4fwAAAAAAAPh/AAAAAAAA+H8AAAAAAAD4fwAAAAAAAPh/AAAAAAAA+H8AAAAAAAD4fwAAAAAAAPh/AAAAAAAA+H8AAAAAAAD4fwAAAAAAAPh/AAAAAAAA+H8AAAAAAAD4fwAAAAAAAPh/AAAAAAAA+H8AAAAAAAD4fwAAAAAAAPh/AAAAAAAA+H8AAAAAAAD4fwAAAAAAAPh/AAAAAAAA+H8AAAAAAAD4fwAAAAAAAPh/AAAAAAAA+H8AAAAAAAD4fwAAAAAAAPh/AAAAAAAA+H8AAAAAAAD4fwAAAAAAAPh/AAAAAAAA+H8AAAAAAAD4fwAAAAAAAPh/AAAAAAAA+H8AAAAAAAD4fwAAAAAAAPh/AAAAAAAA+H8AAAAAAAD4fwAAAAAAAPh/AAAAAAAA+H8AAAAAAAD4fwAAAAAAAPh/AAAAAAAA+H8AAAAAAAD4fwAAAAAAAPh/AAAAAAAA+H8AAAAAAAD4fwAAAAAAAPh/AAAAAAAA+H+rqqqqqjpUQAAAAAAAAPh/AAAAAAAA+H8AAAAAAAD4fwAAAAAAAPh/AAAAAAAA+H8AAAAAAAD4fwAAAAAAAPh/AAAAAAAA+H8AAAAAAAD4fwAAAAAAAPh/AAAAAAAA+H8AAAAAAAD4fwAAAAAAAPh/AAAAAAAA+H8AAAAAAAD4fwAAAAAAAPh/AAAAAAAA+H+rqqqqqupUQAAAAAAAAPh/AAAAAAAA+H8AAAAAAAD4fwAAAAAAAPh/AAAAAAAA+H8AAAAAAAD4fwAAAAAAAPh/AAAAAAAA+H8AAAAAAAD4fwAAAAAAAPh/VlVVVVUFU0AAAAAAAAD4fwAAAAAAAPh/AAAAAAAA+H8AAAAAAAD4fwAAAAAAAPh/AAAAAAAA+H8AAAAAAAD4fwAAAAAAAPh/AAAAAAAA+H8AAAAAAAD4fwAAAAAAAPh/AAAAAAAA+H8AAAAAAAD4fwAAAAAAAPh/AAAAAAAA+H8AAAAAAAD4fwAAAAAAAPh/AAAAAAAA+H8AAAAAAAD4fwAAAAAAAPh/AAAAAAAA+H9VVVVVVeVUQAAAAAAAAPh/AAAAAAAA+H8AAAAAAAD4fwAAAAAA4FRAAAAAAAAA+H8AAAAAAAD4fwAAAAAAAPh/AAAAAAAA+H8AAAAAAAD4fwAAAAAAAPh/AAAAAAAA+H8AAAAAAAD4fwAAAAAAAPh/AAAAAAAA+H8AAAAAAAD4f1VVVVVVhVRAAAAAAAAA+H8AAAAAAAD4fwAAAAAAAPh/AAAAAAAA+H8AAAAAAAD4fwAAAAAAAPh/VlVVVVX1VEAAAAAAAAD4f6uqqqqqqlRAq6qqqqqKVEAAAAAAAAD4fwAAAAAAAPh/AAAAAAAA+H8AAAAAAAD4fwAAAAAAAPh/AAAAAADwVEAAAAAAAAD4fwAAAAAAAPh/AAAAAAAA+H8AAAAAAAD4fwAAAAAAAPh/AAAAAAAA+H+qqqqqqtpUQAAAAAAAAPh/AAAAAAAA+H8AAAAAAAD4fwAAAAAAAPh/AAAAAAAA+H8AAAAAAAD4fwAAAAAAAPh/AAAAAAAA+H+rqqqqqnpUQAAAAAAAkFRAVVVVVVUVU0CqqqqqqkpHQAAAAAAAAPh/AAAAAAAA+H8AAAAAAEBVQKuqqqqqylRAAAAAAAAA+H+qqqqqqnpVQFVVVVVVpVJAVlVVVVU1VUCrqqqqqgpVQFZVVVVV9VRAVlVVVVU1VUAAAAAAAAD4fwAAAAAAAPh/AAAAAAAA+H9VVVVVVYVSQAAAAAAAAPh/AAAAAAAA+H8AAAAAAAD4fwAAAAAAwFRAAAAAAAAA+H+rqqqqqupUQAAAAAAAMFVAAAAAAABgVUAAAAAAAAD4fwAAAAAAAPh/AAAAAAAA+H8AAAAAAAD4fwAAAAAAEFVAAAAAAAAA+H8AAAAAAAD4fwAAAAAAAPh/AAAAAAAA+H8AAAAAAAD4fwAAAAAAAPh/AAAAAACQVEAAAAAAACBVQAAAAAAAAPh/AAAAAAAA+H9VVVVVVYVUQAAAAAAAAPh/AAAAAAAA+H8AAAAAAAD4fwAAAAAAIFRAAAAAAAAA+H+rqqqqqlpUQAAAAAAAAPh/AAAAAAAA+H8AAAAAAAD4fwAAAAAAAPh/AAAAAAAA+H8AAAAAAAD4fwAAAAAAAPh/AAAAAAAA+H8AAAAAAAD4fwAAAAAAAPh/AAAAAAAA+H8AAAAAAAD4fwAAAAAAAPh/AAAAAAAA+H8AAAAAAAD4fwAAAAAAAPh/AAAAAAAA+H8AAAAAAAD4fwAAAAAAQFRAAAAAAAAA+H8AAAAAAGBVQAAAAAAAAPh/qqqqqqqqL0AAAAAAAAD4f1ZVVVVVNVVAAAAAAAAA+H8AAAAAAAD4fwAAAAAAAPh/AAAAAAAA+H8AAAAAAAD4fwAAAAAAAPh/qqqqqqoaVUAAAAAAAAD4fwAAAAAAAPh/AAAAAAAA+H9VVVVVVQVVQKuqqqqqilRAAAAAAAAA+H8AAAAAAAD4fwAAAAAAAPh/AAAAAAAA+H8AAAAAAAD4fwAAAAAAAPh/q6qqqqpaVEBWVVVVVZVUQAAAAAAAAPh/AAAAAAAA+H8AAAAAAAD4fwAAAAAA0FRAAAAAAAAA+H8AAAAAAAD4fwAAAAAAAPh/AAAAAAAA+H8AAAAAAAD4fwAAAAAAAPh/AAAAAAAA+H8AAAAAAAD4fwAAAAAAAPh/AAAAAAAA+H8AAAAAAAD4fwAAAAAAAPh/AAAAAAAA+H8AAAAAAAD4fwAAAAAAAPh/AAAAAAAA+H8AAAAAAAD4fwAAAAAAAPh/AAAAAAAA+H8AAAAAAAD4fwAAAAAAAPh/AAAAAAAA+H+rqqqqqspKQAAAAAAAAPh/AAAAAAAA+H8AAAAAAAD4fwAAAAAAAPh/AAAAAAAA+H8AAAAAAAD4fwAAAAAAAPh/AAAAAAAA+H8AAAAAAAD4fwAAAAAAAPh/AAAAAAAA+H8AAAAAAAD4fwAAAAAAAPh/AAAAAAAA+H8AAAAAAAD4fwAAAAAAAPh/AAAAAAAA+H8AAAAAAAD4fwAAAAAA8FRAAAAAAAAA+H9VVVVVVcVUQAAAAAAAAPh/AAAAAAAA+H8AAAAAAAD4fwAAAAAAAPh/AAAAAAAA+H8AAAAAAAD4f6uqqqqqCk9AAAAAAAAA+H8AAAAAAAD4f1VVVVVVJVJAAAAAAAAA+H9VVVVVVZUzQAAAAAAAAPh/AAAAAAAA+H8AAAAAAAD4fwAAAAAAAPh/AAAAAAAA+H8AAAAAAAD4fwAAAAAAAPh/AAAAAAAA+H8AAAAAAAD4fwAAAAAAAPh/AAAAAAAA+H8AAAAAAAD4fwAAAAAAAPh/AAAAAAAA+H8AAAAAAAD4fwAAAAAAAPh/AAAAAAAA+H8AAAAAAAD4fwAAAAAAAPh/AAAAAAAA+H8AAAAAAAD4fwAAAAAAAPh/AAAAAAAA+H8AAAAAAAD4fwAAAAAAAPh/AAAAAAAA+H8AAAAAAAD4fwAAAAAAAPh/AAAAAAAA+H8AAAAAAAD4fwAAAAAAAPh/AAAAAAAA+H8AAAAAAAD4fwAAAAAAAPh/AAAAAAAA+H8AAAAAAAD4fwAAAAAAAPh/AAAAAAAA+H8AAAAAAAD4fwAAAAAAAPh/AAAAAAAA+H8AAAAAAAD4fwAAAAAAAPh/AAAAAAAA+H8AAAAAAAD4fwAAAAAAAPh/AAAAAAAA+H8AAAAAAAD4fwAAAAAAAPh/AAAAAAAA+H8AAAAAAAD4fwAAAAAAAPh/AAAAAAAA+H8=",
          "dtype": "f8",
          "shape": "7, 52"
         }
        },
        {
         "marker": {
          "color": "black",
          "line": {
           "color": "Gray",
           "width": 2
          }
         },
         "mode": "markers",
         "name": "Feasible Trial",
         "showlegend": false,
         "type": "scatter",
         "x": [
          0.005100990188563874,
          0.000019860708707177768,
          0.009696413197862666,
          0.001571749776249777,
          0.0006379538142827019,
          0.02264213245096893,
          0.0726475000829205,
          0.0019110286305313027,
          0.00012163946485690261,
          0.00007598827625271952,
          0.0005223371831123543,
          0.0007397601677843805,
          0.0024602413983781995,
          0.0001902712069056088,
          0.00009047445070254732,
          0.00025476220795954977,
          0.0043321695035891845,
          0.00002163872549261281,
          0.0002617809684685859,
          0.019415699317830708,
          0.00003520663293231582,
          0.00046290239796682167,
          0.0012757896201358236,
          0.00037465546882200145,
          0.00019989475930067544,
          0.0021495967704226824,
          0.00005208430975733577,
          0.0002881825011836019,
          0.00015050344330720008,
          0.003911426777511212,
          0.00015335460642411939,
          0.00001110376978598369,
          0.00013352630362784012,
          0.000050611394602106545,
          0.000036220252965558876,
          0.00003479474879252498,
          0.000029404095527833733,
          0.000011950548462899992,
          0.000048620371257514394,
          0.000019123060851291802,
          0.00006987056210679689,
          0.00011939965426894092,
          0.000041877331510834896,
          0.00002390330078323597,
          0.000020040668531992272,
          0.00002612835183017675,
          0.00006669238216103824,
          0.00006625963744085291,
          0.00009857550141699971,
          0.09191144747250399
         ],
         "xaxis": "x44",
         "y": [
          5,
          3,
          4,
          3,
          5,
          5,
          3,
          3,
          1,
          4,
          1,
          2,
          4,
          2,
          2,
          2,
          2,
          1,
          2,
          3,
          3,
          4,
          5,
          4,
          4,
          4,
          4,
          3,
          3,
          3,
          3,
          3,
          3,
          3,
          3,
          3,
          2,
          3,
          3,
          3,
          3,
          3,
          3,
          3,
          2,
          3,
          4,
          5,
          4,
          5
         ],
         "yaxis": "y44"
        },
        {
         "colorbar": {
          "title": {
           "text": "Objective Value"
          }
         },
         "colorscale": [
          [
           0,
           "rgb(247,251,255)"
          ],
          [
           0.125,
           "rgb(222,235,247)"
          ],
          [
           0.25,
           "rgb(198,219,239)"
          ],
          [
           0.375,
           "rgb(158,202,225)"
          ],
          [
           0.5,
           "rgb(107,174,214)"
          ],
          [
           0.625,
           "rgb(66,146,198)"
          ],
          [
           0.75,
           "rgb(33,113,181)"
          ],
          [
           0.875,
           "rgb(8,81,156)"
          ],
          [
           1,
           "rgb(8,48,107)"
          ]
         ],
         "connectgaps": true,
         "contours": {
          "coloring": "heatmap"
         },
         "hoverinfo": "none",
         "line": {
          "smoothing": 1.3
         },
         "reversescale": false,
         "showscale": false,
         "type": "contour",
         "x": [
          0.000007072541283187389,
          0.00001110376978598369,
          0.000011950548462899992,
          0.000019123060851291802,
          0.000019860708707177768,
          0.000020040668531992272,
          0.00002163872549261281,
          0.00002390330078323597,
          0.00002612835183017675,
          0.000029404095527833733,
          0.00003479474879252498,
          0.00003520663293231582,
          0.000036220252965558876,
          0.000041877331510834896,
          0.000048620371257514394,
          0.000050611394602106545,
          0.00005208430975733577,
          0.00006625963744085291,
          0.00006669238216103824,
          0.00006987056210679689,
          0.00007598827625271952,
          0.00009047445070254732,
          0.00009857550141699971,
          0.00011939965426894092,
          0.00012163946485690261,
          0.00013352630362784012,
          0.00015050344330720008,
          0.00015335460642411939,
          0.0001902712069056088,
          0.00019989475930067544,
          0.00025476220795954977,
          0.0002617809684685859,
          0.0002881825011836019,
          0.00037465546882200145,
          0.00046290239796682167,
          0.0005223371831123543,
          0.0006379538142827019,
          0.0007397601677843805,
          0.0012757896201358236,
          0.001571749776249777,
          0.0019110286305313027,
          0.0021495967704226824,
          0.0024602413983781995,
          0.003911426777511212,
          0.0043321695035891845,
          0.005100990188563874,
          0.009696413197862666,
          0.019415699317830708,
          0.02264213245096893,
          0.0726475000829205,
          0.09191144747250399,
          0.14429941269586738
         ],
         "xaxis": "x52",
         "y": [
          "Adam",
          "RMSProp",
          "SGD"
         ],
         "yaxis": "y52",
         "z": {
          "bdata": "AAAAAAAA+H8AAAAAAAD4fwAAAAAAAPh/AAAAAAAA+H8AAAAAAAD4fwAAAAAAAPh/AAAAAAAA+H8AAAAAAAD4fwAAAAAAAPh/AAAAAAAA+H8AAAAAAAD4fwAAAAAAAPh/AAAAAAAA+H8AAAAAAAD4fwAAAAAAAPh/AAAAAAAA+H8AAAAAAEBUQAAAAAAAAPh/AAAAAAAA+H8AAAAAAAD4fwAAAAAAAPh/VVVVVVWFVEAAAAAAAAD4fwAAAAAAAPh/AAAAAAAA+H8AAAAAAAD4fwAAAAAAAPh/AAAAAAAA+H9WVVVVVfVUQKqqqqqqGlVAq6qqqqqqVECrqqqqqopUQAAAAAAAEFVAVVVVVVUFVUCrqqqqqopUQFZVVVVVBVNAAAAAAADwVEAAAAAAAPBUQFVVVVVVxVRAAAAAAAAA+H8AAAAAACBVQKuqqqqqWlRAVlVVVVWVVEAAAAAAAAD4f6qqqqqq2lRAAAAAAAAA+H8AAAAAAAD4fwAAAAAAIFRAVVVVVVUlUkAAAAAAAAD4fwAAAAAAAPh/AAAAAAAA+H8AAAAAAAD4f6uqqqqqelRAAAAAAACQVEBVVVVVVRVTQAAAAAAAAPh/VVVVVVXlVECrqqqqqjpUQAAAAAAAQFVAq6qqqqrKVEAAAAAAAOBUQKqqqqqqelVAVVVVVVWlUkBWVVVVVTVVQKuqqqqqClVAVlVVVVX1VEBWVVVVVTVVQAAAAAAAAPh/AAAAAAAA+H8AAAAAAGBVQAAAAAAAAPh/AAAAAAAA+H8AAAAAAAD4f1ZVVVVVNVVAAAAAAADAVECrqqqqqupUQKuqqqqq6lRAAAAAAAAwVUAAAAAAAGBVQAAAAAAAAPh/AAAAAAAA+H8AAAAAAAD4fwAAAAAAAPh/AAAAAAAA+H8AAAAAAAD4fwAAAAAAAPh/AAAAAAAA+H8AAAAAAAD4fwAAAAAAAPh/AAAAAAAA+H8AAAAAAJBUQAAAAAAAAPh/AAAAAAAA+H8AAAAAAAD4f1VVVVVVhVRAAAAAAAAA+H8AAAAAAAD4fwAAAAAAAPh/AAAAAAAA+H8AAAAAAAD4fwAAAAAAAPh/VVVVVVWVM0AAAAAAAAD4fwAAAAAAAPh/AAAAAAAA+H8AAAAAAAD4fwAAAAAAAPh/qqqqqqpKR0AAAAAAAAD4fwAAAAAAAPh/AAAAAAAA+H8AAAAAAAD4fwAAAAAAAPh/AAAAAAAA+H8AAAAAAAD4fwAAAAAAAPh/AAAAAAAA+H8AAAAAAAD4fwAAAAAAAPh/AAAAAAAA+H+rqqqqqspKQAAAAAAAAPh/VVVVVVWFUkCqqqqqqqovQAAAAAAAAPh/AAAAAAAA+H8AAAAAAAD4fwAAAAAAAPh/AAAAAAAA+H8AAAAAAAD4fwAAAAAAAPh/AAAAAAAA+H8AAAAAAAD4fwAAAAAAAPh/AAAAAAAA+H8AAAAAAAD4fwAAAAAAAPh/AAAAAAAA+H8AAAAAAAD4fwAAAAAAAPh/AAAAAAAA+H8AAAAAAAD4fwAAAAAAAPh/AAAAAAAA+H8AAAAAAAD4fwAAAAAAAPh/AAAAAAAA+H8AAAAAAAD4f6uqqqqqCk9AAAAAAADQVEAAAAAAAAD4fwAAAAAAAPh/q6qqqqpaVEAAAAAAAAD4fwAAAAAAAPh/",
          "dtype": "f8",
          "shape": "3, 52"
         }
        },
        {
         "marker": {
          "color": "black",
          "line": {
           "color": "Gray",
           "width": 2
          }
         },
         "mode": "markers",
         "name": "Feasible Trial",
         "showlegend": false,
         "type": "scatter",
         "x": [
          0.005100990188563874,
          0.000019860708707177768,
          0.009696413197862666,
          0.001571749776249777,
          0.0006379538142827019,
          0.02264213245096893,
          0.0726475000829205,
          0.0019110286305313027,
          0.00012163946485690261,
          0.00007598827625271952,
          0.0005223371831123543,
          0.0007397601677843805,
          0.0024602413983781995,
          0.0001902712069056088,
          0.00009047445070254732,
          0.00025476220795954977,
          0.0043321695035891845,
          0.00002163872549261281,
          0.0002617809684685859,
          0.019415699317830708,
          0.00003520663293231582,
          0.00046290239796682167,
          0.0012757896201358236,
          0.00037465546882200145,
          0.00019989475930067544,
          0.0021495967704226824,
          0.00005208430975733577,
          0.0002881825011836019,
          0.00015050344330720008,
          0.003911426777511212,
          0.00015335460642411939,
          0.00001110376978598369,
          0.00013352630362784012,
          0.000050611394602106545,
          0.000036220252965558876,
          0.00003479474879252498,
          0.000029404095527833733,
          0.000011950548462899992,
          0.000048620371257514394,
          0.000019123060851291802,
          0.00006987056210679689,
          0.00011939965426894092,
          0.000041877331510834896,
          0.00002390330078323597,
          0.000020040668531992272,
          0.00002612835183017675,
          0.00006669238216103824,
          0.00006625963744085291,
          0.00009857550141699971,
          0.09191144747250399
         ],
         "xaxis": "x52",
         "y": [
          "SGD",
          "SGD",
          "SGD",
          "RMSProp",
          "Adam",
          "Adam",
          "SGD",
          "Adam",
          "RMSProp",
          "SGD",
          "Adam",
          "Adam",
          "Adam",
          "Adam",
          "Adam",
          "Adam",
          "Adam",
          "RMSProp",
          "Adam",
          "Adam",
          "RMSProp",
          "Adam",
          "Adam",
          "Adam",
          "Adam",
          "Adam",
          "Adam",
          "Adam",
          "RMSProp",
          "RMSProp",
          "RMSProp",
          "RMSProp",
          "RMSProp",
          "RMSProp",
          "RMSProp",
          "RMSProp",
          "RMSProp",
          "RMSProp",
          "RMSProp",
          "RMSProp",
          "SGD",
          "RMSProp",
          "RMSProp",
          "RMSProp",
          "RMSProp",
          "RMSProp",
          "RMSProp",
          "SGD",
          "RMSProp",
          "RMSProp"
         ],
         "yaxis": "y52"
        },
        {
         "colorbar": {
          "title": {
           "text": "Objective Value"
          }
         },
         "colorscale": [
          [
           0,
           "rgb(247,251,255)"
          ],
          [
           0.125,
           "rgb(222,235,247)"
          ],
          [
           0.25,
           "rgb(198,219,239)"
          ],
          [
           0.375,
           "rgb(158,202,225)"
          ],
          [
           0.5,
           "rgb(107,174,214)"
          ],
          [
           0.625,
           "rgb(66,146,198)"
          ],
          [
           0.75,
           "rgb(33,113,181)"
          ],
          [
           0.875,
           "rgb(8,81,156)"
          ],
          [
           1,
           "rgb(8,48,107)"
          ]
         ],
         "connectgaps": true,
         "contours": {
          "coloring": "heatmap"
         },
         "hoverinfo": "none",
         "line": {
          "smoothing": 1.3
         },
         "reversescale": false,
         "showscale": false,
         "type": "contour",
         "x": [
          0.000007072541283187389,
          0.00001110376978598369,
          0.000011950548462899992,
          0.000019123060851291802,
          0.000019860708707177768,
          0.000020040668531992272,
          0.00002163872549261281,
          0.00002390330078323597,
          0.00002612835183017675,
          0.000029404095527833733,
          0.00003479474879252498,
          0.00003520663293231582,
          0.000036220252965558876,
          0.000041877331510834896,
          0.000048620371257514394,
          0.000050611394602106545,
          0.00005208430975733577,
          0.00006625963744085291,
          0.00006669238216103824,
          0.00006987056210679689,
          0.00007598827625271952,
          0.00009047445070254732,
          0.00009857550141699971,
          0.00011939965426894092,
          0.00012163946485690261,
          0.00013352630362784012,
          0.00015050344330720008,
          0.00015335460642411939,
          0.0001902712069056088,
          0.00019989475930067544,
          0.00025476220795954977,
          0.0002617809684685859,
          0.0002881825011836019,
          0.00037465546882200145,
          0.00046290239796682167,
          0.0005223371831123543,
          0.0006379538142827019,
          0.0007397601677843805,
          0.0012757896201358236,
          0.001571749776249777,
          0.0019110286305313027,
          0.0021495967704226824,
          0.0024602413983781995,
          0.003911426777511212,
          0.0043321695035891845,
          0.005100990188563874,
          0.009696413197862666,
          0.019415699317830708,
          0.02264213245096893,
          0.0726475000829205,
          0.09191144747250399,
          0.14429941269586738
         ],
         "xaxis": "x60",
         "y": [
          0.000008542994397936864,
          0.000010695476345287184,
          0.00001149348088047172,
          0.000012094978678250213,
          0.000017267872859730894,
          0.000022964810673419587,
          0.000030442008652608602,
          0.00004417361247719773,
          0.00004584268787355865,
          0.000050280778428755706,
          0.000058718414537544966,
          0.00006204684057371488,
          0.00007479489631463367,
          0.00009140754206228326,
          0.00011139959662371032,
          0.00011267708093824678,
          0.00011413557089106621,
          0.00012039528848626058,
          0.00014911935711649018,
          0.00015348015683398566,
          0.0001659374738876341,
          0.0002003891046446997,
          0.00020443510150137817,
          0.0002675833225815239,
          0.00027100619377422747,
          0.00027132936748607814,
          0.00031414855097441387,
          0.0003360937164140219,
          0.0003646064116017021,
          0.0004121644255438535,
          0.0004458520025100744,
          0.000474271322805089,
          0.0004833915256556394,
          0.0004932668772810958,
          0.000539256460634418,
          0.0005571718181379366,
          0.000564202750805794,
          0.0005856060447330134,
          0.0006030572806877948,
          0.0006554424691858177,
          0.0006656089257060337,
          0.0006881625028625726,
          0.0006924466498844899,
          0.0007533931873569096,
          0.0007613554698886802,
          0.000778259660661666,
          0.0008083603457803395,
          0.0008577872009375,
          0.0009174670220593022,
          0.00094095705324019,
          0.0009571948007830283,
          0.0011983683791340358
         ],
         "yaxis": "y60",
         "z": {
          "bdata": "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",
          "dtype": "f8",
          "shape": "52, 52"
         }
        },
        {
         "marker": {
          "color": "black",
          "line": {
           "color": "Gray",
           "width": 2
          }
         },
         "mode": "markers",
         "name": "Feasible Trial",
         "showlegend": false,
         "type": "scatter",
         "x": [
          0.005100990188563874,
          0.000019860708707177768,
          0.009696413197862666,
          0.001571749776249777,
          0.0006379538142827019,
          0.02264213245096893,
          0.0726475000829205,
          0.0019110286305313027,
          0.00012163946485690261,
          0.00007598827625271952,
          0.0005223371831123543,
          0.0007397601677843805,
          0.0024602413983781995,
          0.0001902712069056088,
          0.00009047445070254732,
          0.00025476220795954977,
          0.0043321695035891845,
          0.00002163872549261281,
          0.0002617809684685859,
          0.019415699317830708,
          0.00003520663293231582,
          0.00046290239796682167,
          0.0012757896201358236,
          0.00037465546882200145,
          0.00019989475930067544,
          0.0021495967704226824,
          0.00005208430975733577,
          0.0002881825011836019,
          0.00015050344330720008,
          0.003911426777511212,
          0.00015335460642411939,
          0.00001110376978598369,
          0.00013352630362784012,
          0.000050611394602106545,
          0.000036220252965558876,
          0.00003479474879252498,
          0.000029404095527833733,
          0.000011950548462899992,
          0.000048620371257514394,
          0.000019123060851291802,
          0.00006987056210679689,
          0.00011939965426894092,
          0.000041877331510834896,
          0.00002390330078323597,
          0.000020040668531992272,
          0.00002612835183017675,
          0.00006669238216103824,
          0.00006625963744085291,
          0.00009857550141699971,
          0.09191144747250399
         ],
         "xaxis": "x60",
         "y": [
          0.0006030572806877948,
          0.000017267872859730894,
          0.0002003891046446997,
          0.0002675833225815239,
          0.000058718414537544966,
          0.0004932668772810958,
          0.00004417361247719773,
          0.00012039528848626058,
          0.0006924466498844899,
          0.0009174670220593022,
          0.00011267708093824678,
          0.00004584268787355865,
          0.000050280778428755706,
          0.000010695476345287184,
          0.000022964810673419587,
          0.000012094978678250213,
          0.00011139959662371032,
          0.00020443510150137817,
          0.000030442008652608602,
          0.00001149348088047172,
          0.00009140754206228326,
          0.00007479489631463367,
          0.0001659374738876341,
          0.00006204684057371488,
          0.00031414855097441387,
          0.0003646064116017021,
          0.0003360937164140219,
          0.00011413557089106621,
          0.00015348015683398566,
          0.00014911935711649018,
          0.000474271322805089,
          0.0004458520025100744,
          0.00027132936748607814,
          0.0006881625028625726,
          0.0006656089257060337,
          0.0008577872009375,
          0.00094095705324019,
          0.0006554424691858177,
          0.0004833915256556394,
          0.0007613554698886802,
          0.0005571718181379366,
          0.0007533931873569096,
          0.0004121644255438535,
          0.000564202750805794,
          0.0005856060447330134,
          0.0009571948007830283,
          0.000778259660661666,
          0.000539256460634418,
          0.0008083603457803395,
          0.00027100619377422747
         ],
         "yaxis": "y60"
        },
        {
         "colorbar": {
          "title": {
           "text": "Objective Value"
          }
         },
         "colorscale": [
          [
           0,
           "rgb(247,251,255)"
          ],
          [
           0.125,
           "rgb(222,235,247)"
          ],
          [
           0.25,
           "rgb(198,219,239)"
          ],
          [
           0.375,
           "rgb(158,202,225)"
          ],
          [
           0.5,
           "rgb(107,174,214)"
          ],
          [
           0.625,
           "rgb(66,146,198)"
          ],
          [
           0.75,
           "rgb(33,113,181)"
          ],
          [
           0.875,
           "rgb(8,81,156)"
          ],
          [
           1,
           "rgb(8,48,107)"
          ]
         ],
         "connectgaps": true,
         "contours": {
          "coloring": "heatmap"
         },
         "hoverinfo": "none",
         "line": {
          "smoothing": 1.3
         },
         "reversescale": false,
         "showscale": false,
         "type": "contour",
         "x": [
          2,
          8,
          24,
          32,
          40,
          48,
          56,
          64,
          72,
          80,
          88,
          96,
          104,
          112,
          120,
          128,
          134
         ],
         "xaxis": "x5",
         "y": [
          10.399999999999999,
          16,
          32,
          64,
          128,
          133.6
         ],
         "yaxis": "y5",
         "z": {
          "bdata": "AAAAAAAA+H8AAAAAAAD4fwAAAAAAAPh/AAAAAAAA+H8AAAAAAAD4fwAAAAAAAPh/AAAAAAAA+H8AAAAAAAD4fwAAAAAAAPh/AAAAAAAA+H8AAAAAAAD4fwAAAAAAAPh/AAAAAAAA+H8AAAAAAAD4fwAAAAAAAPh/AAAAAAAA+H8AAAAAAAD4fwAAAAAAAPh/AAAAAAAA+H9VVVVVVRVTQAAAAAAAAPh/AAAAAAAA+H8AAAAAAAD4fwAAAAAAAPh/AAAAAAAA+H8AAAAAAAD4fwAAAAAAAPh/AAAAAAAA+H+rqqqqqspKQAAAAAAAEFVAAAAAAABgVUCqqqqqqnpVQKuqqqqqClVAAAAAAAAA+H8AAAAAAAD4fwAAAAAAAPh/AAAAAAAA+H+qqqqqqkpHQAAAAAAAAPh/AAAAAAAA+H8AAAAAAAD4fwAAAAAAAPh/AAAAAADQVEAAAAAAAAD4fwAAAAAA8FRAq6qqqqpaVEBVVVVVVQVVQAAAAAAA8FRAAAAAAAAA+H9VVVVVVcVUQAAAAAAAAPh/AAAAAAAA+H8AAAAAAAD4fwAAAAAAAPh/AAAAAAAA+H8AAAAAAAD4fwAAAAAAAPh/AAAAAAAA+H+qqqqqqqovQAAAAAAAAPh/AAAAAABAVEAAAAAAAAD4fwAAAAAAAPh/q6qqqqoKT0BWVVVVVTVVQAAAAAAAAPh/AAAAAAAA+H8AAAAAAAD4fwAAAAAAAPh/VlVVVVUFU0AAAAAAAAD4fwAAAAAAAPh/q6qqqqqKVECrqqqqqqpUQFZVVVVVlVRAAAAAAAAA+H+rqqqqqjpUQAAAAAAAAPh/AAAAAAAgVUBWVVVVVfVUQKqqqqqqGlVAAAAAAAAA+H8AAAAAAAD4fwAAAAAAAPh/AAAAAAAA+H8AAAAAAAD4fwAAAAAAAPh/AAAAAAAA+H8AAAAAAAD4fwAAAAAAAPh/AAAAAAAA+H8AAAAAAAD4fwAAAAAAAPh/AAAAAAAA+H8AAAAAAAD4fwAAAAAAAPh/AAAAAAAA+H8AAAAAAAD4fwAAAAAAAPh/AAAAAAAA+H8AAAAAAAD4fwAAAAAAAPh/",
          "dtype": "f8",
          "shape": "6, 17"
         }
        },
        {
         "marker": {
          "color": "black",
          "line": {
           "color": "Gray",
           "width": 2
          }
         },
         "mode": "markers",
         "name": "Feasible Trial",
         "showlegend": false,
         "type": "scatter",
         "x": [
          104,
          32,
          72,
          112,
          112,
          88,
          128,
          88,
          120,
          64,
          8,
          88,
          56,
          96,
          88,
          48,
          96,
          72,
          40,
          80,
          104,
          112,
          128,
          104,
          104,
          96,
          80,
          104,
          120,
          120,
          120,
          120,
          128,
          112,
          120,
          120,
          112,
          128,
          112,
          24,
          120,
          120,
          128,
          112,
          112,
          104,
          112,
          96,
          112,
          128
         ],
         "xaxis": "x5",
         "y": [
          64,
          32,
          32,
          16,
          32,
          128,
          16,
          128,
          16,
          64,
          128,
          32,
          128,
          128,
          128,
          128,
          128,
          128,
          128,
          64,
          128,
          32,
          32,
          32,
          128,
          32,
          64,
          16,
          16,
          16,
          16,
          16,
          16,
          16,
          16,
          16,
          16,
          16,
          16,
          16,
          16,
          16,
          16,
          16,
          16,
          16,
          16,
          16,
          64,
          16
         ],
         "yaxis": "y5"
        },
        {
         "colorbar": {
          "title": {
           "text": "Objective Value"
          }
         },
         "colorscale": [
          [
           0,
           "rgb(247,251,255)"
          ],
          [
           0.125,
           "rgb(222,235,247)"
          ],
          [
           0.25,
           "rgb(198,219,239)"
          ],
          [
           0.375,
           "rgb(158,202,225)"
          ],
          [
           0.5,
           "rgb(107,174,214)"
          ],
          [
           0.625,
           "rgb(66,146,198)"
          ],
          [
           0.75,
           "rgb(33,113,181)"
          ],
          [
           0.875,
           "rgb(8,81,156)"
          ],
          [
           1,
           "rgb(8,48,107)"
          ]
         ],
         "connectgaps": true,
         "contours": {
          "coloring": "heatmap"
         },
         "hoverinfo": "none",
         "line": {
          "smoothing": 1.3
         },
         "reversescale": false,
         "showscale": false,
         "type": "contour",
         "x": [
          2,
          8,
          24,
          32,
          40,
          48,
          56,
          64,
          72,
          80,
          88,
          96,
          104,
          112,
          120,
          128,
          134
         ],
         "xaxis": "x13",
         "y": [
          0.08,
          0.1,
          0.2,
          0.30000000000000004,
          0.4,
          0.5,
          0.52
         ],
         "yaxis": "y13",
         "z": {
          "bdata": "AAAAAAAA+H8AAAAAAAD4fwAAAAAAAPh/AAAAAAAA+H8AAAAAAAD4fwAAAAAAAPh/AAAAAAAA+H8AAAAAAAD4fwAAAAAAAPh/AAAAAAAA+H8AAAAAAAD4fwAAAAAAAPh/AAAAAAAA+H8AAAAAAAD4fwAAAAAAAPh/AAAAAAAA+H8AAAAAAAD4fwAAAAAAAPh/AAAAAAAA+H9VVVVVVRVTQKqqqqqqSkdAAAAAAAAA+H8AAAAAAAD4fwAAAAAAAPh/AAAAAAAA+H8AAAAAANBUQAAAAAAAAPh/AAAAAAAA+H+rqqqqqlpUQKuqqqqqylRAAAAAAABgVUCqqqqqqnpVQKuqqqqqClVAAAAAAAAA+H8AAAAAAAD4f1ZVVVVVBVNAAAAAAAAA+H8AAAAAAAD4f6uqqqqqilRAq6qqqqqqVEAAAAAAAAD4fwAAAAAAAPh/AAAAAAAA+H8AAAAAAEBUQAAAAAAAIFVAVlVVVVX1VECqqqqqqhpVQAAAAAAAAPh/AAAAAAAA+H8AAAAAAAD4fwAAAAAAAPh/AAAAAAAA+H8AAAAAAAD4fwAAAAAAAPh/AAAAAAAA+H8AAAAAAAD4fwAAAAAAAPh/VlVVVVWVVEAAAAAAAAD4fwAAAAAAAPh/AAAAAAAgVEBVVVVVVSVSQAAAAAAAAPh/AAAAAAAA+H8AAAAAAPBUQAAAAAAAAPh/VVVVVVXFVEAAAAAAAAD4fwAAAAAAAPh/AAAAAAAA+H8AAAAAAAD4fwAAAAAAAPh/AAAAAAAA+H8AAAAAAAD4fwAAAAAAAPh/AAAAAAAA+H8AAAAAAAD4fwAAAAAAAPh/AAAAAAAA+H8AAAAAAAD4f6uqqqqqCk9AAAAAAACQVECrqqqqqupUQFVVVVVVlTNAAAAAAAAA+H8AAAAAAAD4fwAAAAAAAPh/AAAAAAAA+H8AAAAAAAD4fwAAAAAAAPh/AAAAAAAA+H8AAAAAAAD4f6qqqqqqqi9AAAAAAAAA+H8AAAAAAAD4fwAAAAAAAPh/AAAAAAAA+H9VVVVVVaVSQAAAAAAAAPh/AAAAAAAA+H8AAAAAAAD4fwAAAAAAAPh/AAAAAAAA+H8AAAAAAAD4fwAAAAAAAPh/AAAAAAAA+H8AAAAAAAD4fwAAAAAAAPh/AAAAAAAA+H8AAAAAAAD4fwAAAAAAAPh/AAAAAAAA+H8AAAAAAAD4fwAAAAAAAPh/AAAAAAAA+H8AAAAAAAD4fwAAAAAAAPh/AAAAAAAA+H8AAAAAAAD4fw==",
          "dtype": "f8",
          "shape": "7, 17"
         }
        },
        {
         "marker": {
          "color": "black",
          "line": {
           "color": "Gray",
           "width": 2
          }
         },
         "mode": "markers",
         "name": "Feasible Trial",
         "showlegend": false,
         "type": "scatter",
         "x": [
          104,
          32,
          72,
          112,
          112,
          88,
          128,
          88,
          120,
          64,
          8,
          88,
          56,
          96,
          88,
          48,
          96,
          72,
          40,
          80,
          104,
          112,
          128,
          104,
          104,
          96,
          80,
          104,
          120,
          120,
          120,
          120,
          128,
          112,
          120,
          120,
          112,
          128,
          112,
          24,
          120,
          120,
          128,
          112,
          112,
          104,
          112,
          96,
          112,
          128
         ],
         "xaxis": "x13",
         "y": [
          0.4,
          0.1,
          0.1,
          0.4,
          0.30000000000000004,
          0.30000000000000004,
          0.1,
          0.2,
          0.4,
          0.5,
          0.2,
          0.2,
          0.30000000000000004,
          0.2,
          0.2,
          0.2,
          0.2,
          0.1,
          0.2,
          0.30000000000000004,
          0.5,
          0.30000000000000004,
          0.30000000000000004,
          0.2,
          0.2,
          0.1,
          0.2,
          0.2,
          0.1,
          0.1,
          0.1,
          0.1,
          0.1,
          0.1,
          0.1,
          0.1,
          0.1,
          0.1,
          0.1,
          0.1,
          0.1,
          0.1,
          0.1,
          0.1,
          0.1,
          0.1,
          0.1,
          0.1,
          0.1,
          0.4
         ],
         "yaxis": "y13"
        },
        {
         "colorbar": {
          "title": {
           "text": "Objective Value"
          }
         },
         "colorscale": [
          [
           0,
           "rgb(247,251,255)"
          ],
          [
           0.125,
           "rgb(222,235,247)"
          ],
          [
           0.25,
           "rgb(198,219,239)"
          ],
          [
           0.375,
           "rgb(158,202,225)"
          ],
          [
           0.5,
           "rgb(107,174,214)"
          ],
          [
           0.625,
           "rgb(66,146,198)"
          ],
          [
           0.75,
           "rgb(33,113,181)"
          ],
          [
           0.875,
           "rgb(8,81,156)"
          ],
          [
           1,
           "rgb(8,48,107)"
          ]
         ],
         "connectgaps": true,
         "contours": {
          "coloring": "heatmap"
         },
         "hoverinfo": "none",
         "line": {
          "smoothing": 1.3
         },
         "reversescale": false,
         "showscale": false,
         "type": "contour",
         "x": [
          2,
          8,
          24,
          32,
          40,
          48,
          56,
          64,
          72,
          80,
          88,
          96,
          104,
          112,
          120,
          128,
          134
         ],
         "xaxis": "x21",
         "y": [
          8,
          10,
          20,
          30,
          40,
          50,
          52
         ],
         "yaxis": "y21",
         "z": {
          "bdata": "AAAAAAAA+H8AAAAAAAD4fwAAAAAAAPh/AAAAAAAA+H8AAAAAAAD4fwAAAAAAAPh/AAAAAAAA+H8AAAAAAAD4fwAAAAAAAPh/AAAAAAAA+H8AAAAAAAD4fwAAAAAAAPh/AAAAAAAA+H8AAAAAAAD4fwAAAAAAAPh/AAAAAAAA+H8AAAAAAAD4fwAAAAAAAPh/AAAAAAAA+H8AAAAAAAD4fwAAAAAAAPh/AAAAAAAA+H8AAAAAAAD4fwAAAAAAAPh/AAAAAAAA+H8AAAAAAAD4fwAAAAAAAPh/AAAAAAAA+H+rqqqqqspKQKuqqqqqCk9AAAAAAADwVEAAAAAAAAD4f6uqqqqqWlRAAAAAAAAA+H8AAAAAAAD4fwAAAAAAAPh/AAAAAAAA+H8AAAAAAAD4fwAAAAAAAPh/AAAAAAAA+H9WVVVVVZVUQKqqqqqqqi9AAAAAAAAA+H8AAAAAAEBUQAAAAAAA8FRAq6qqqqpaVECqqqqqqhpVQAAAAAAAYFVAAAAAAAAA+H9VVVVVVZUzQAAAAAAAAPh/AAAAAAAA+H8AAAAAAAD4f1VVVVVVFVNAAAAAAAAA+H8AAAAAAAD4fwAAAAAAAPh/AAAAAAAA+H8AAAAAAAD4fwAAAAAAAPh/AAAAAAAA+H8AAAAAAAD4fwAAAAAAAPh/AAAAAAAQVUAAAAAAAEBVQKqqqqqqelVAq6qqqqoKVUAAAAAAAAD4fwAAAAAAAPh/VlVVVVUFU0AAAAAAAAD4fwAAAAAAAPh/q6qqqqqKVEAAAAAAAAD4fwAAAAAAAPh/AAAAAAAA+H8AAAAAANBUQAAAAAAAAPh/VVVVVVWFVEBWVVVVVfVUQAAAAAAAAPh/AAAAAAAA+H9VVVVVVYVSQFVVVVVVxVRAAAAAAAAA+H8AAAAAAAD4fwAAAAAAAPh/AAAAAAAA+H+qqqqqqkpHQAAAAAAAAPh/q6qqqqqqVEAAAAAAAAD4fwAAAAAAAPh/q6qqqqo6VEAAAAAAACBUQAAAAAAAIFVAAAAAAAAA+H8AAAAAAAD4fwAAAAAAAPh/AAAAAAAA+H8AAAAAAAD4fwAAAAAAAPh/AAAAAAAA+H8AAAAAAAD4fwAAAAAAAPh/AAAAAAAA+H8AAAAAAAD4fwAAAAAAAPh/AAAAAAAA+H8AAAAAAAD4fwAAAAAAAPh/AAAAAAAA+H8AAAAAAAD4fwAAAAAAAPh/AAAAAAAA+H8AAAAAAAD4fwAAAAAAAPh/AAAAAAAA+H8AAAAAAAD4fw==",
          "dtype": "f8",
          "shape": "7, 17"
         }
        },
        {
         "marker": {
          "color": "black",
          "line": {
           "color": "Gray",
           "width": 2
          }
         },
         "mode": "markers",
         "name": "Feasible Trial",
         "showlegend": false,
         "type": "scatter",
         "x": [
          104,
          32,
          72,
          112,
          112,
          88,
          128,
          88,
          120,
          64,
          8,
          88,
          56,
          96,
          88,
          48,
          96,
          72,
          40,
          80,
          104,
          112,
          128,
          104,
          104,
          96,
          80,
          104,
          120,
          120,
          120,
          120,
          128,
          112,
          120,
          120,
          112,
          128,
          112,
          24,
          120,
          120,
          128,
          112,
          112,
          104,
          112,
          96,
          112,
          128
         ],
         "xaxis": "x21",
         "y": [
          10,
          50,
          40,
          30,
          10,
          50,
          10,
          50,
          30,
          20,
          40,
          20,
          20,
          40,
          40,
          50,
          40,
          50,
          40,
          50,
          30,
          10,
          40,
          20,
          20,
          20,
          20,
          30,
          30,
          30,
          30,
          30,
          30,
          30,
          30,
          30,
          30,
          30,
          30,
          30,
          40,
          30,
          30,
          30,
          30,
          20,
          20,
          10,
          20,
          20
         ],
         "yaxis": "y21"
        },
        {
         "colorbar": {
          "title": {
           "text": "Objective Value"
          }
         },
         "colorscale": [
          [
           0,
           "rgb(247,251,255)"
          ],
          [
           0.125,
           "rgb(222,235,247)"
          ],
          [
           0.25,
           "rgb(198,219,239)"
          ],
          [
           0.375,
           "rgb(158,202,225)"
          ],
          [
           0.5,
           "rgb(107,174,214)"
          ],
          [
           0.625,
           "rgb(66,146,198)"
          ],
          [
           0.75,
           "rgb(33,113,181)"
          ],
          [
           0.875,
           "rgb(8,81,156)"
          ],
          [
           1,
           "rgb(8,48,107)"
          ]
         ],
         "connectgaps": true,
         "contours": {
          "coloring": "heatmap"
         },
         "hoverinfo": "none",
         "line": {
          "smoothing": 1.3
         },
         "reversescale": false,
         "showscale": false,
         "type": "contour",
         "x": [
          2,
          8,
          24,
          32,
          40,
          48,
          56,
          64,
          72,
          80,
          88,
          96,
          104,
          112,
          120,
          128,
          134
         ],
         "xaxis": "x29",
         "y": [
          0.000007072541283187389,
          0.00001110376978598369,
          0.000011950548462899992,
          0.000019123060851291802,
          0.000019860708707177768,
          0.000020040668531992272,
          0.00002163872549261281,
          0.00002390330078323597,
          0.00002612835183017675,
          0.000029404095527833733,
          0.00003479474879252498,
          0.00003520663293231582,
          0.000036220252965558876,
          0.000041877331510834896,
          0.000048620371257514394,
          0.000050611394602106545,
          0.00005208430975733577,
          0.00006625963744085291,
          0.00006669238216103824,
          0.00006987056210679689,
          0.00007598827625271952,
          0.00009047445070254732,
          0.00009857550141699971,
          0.00011939965426894092,
          0.00012163946485690261,
          0.00013352630362784012,
          0.00015050344330720008,
          0.00015335460642411939,
          0.0001902712069056088,
          0.00019989475930067544,
          0.00025476220795954977,
          0.0002617809684685859,
          0.0002881825011836019,
          0.00037465546882200145,
          0.00046290239796682167,
          0.0005223371831123543,
          0.0006379538142827019,
          0.0007397601677843805,
          0.0012757896201358236,
          0.001571749776249777,
          0.0019110286305313027,
          0.0021495967704226824,
          0.0024602413983781995,
          0.003911426777511212,
          0.0043321695035891845,
          0.005100990188563874,
          0.009696413197862666,
          0.019415699317830708,
          0.02264213245096893,
          0.0726475000829205,
          0.09191144747250399,
          0.14429941269586738
         ],
         "yaxis": "y29",
         "z": {
          "bdata": "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",
          "dtype": "f8",
          "shape": "52, 17"
         }
        },
        {
         "marker": {
          "color": "black",
          "line": {
           "color": "Gray",
           "width": 2
          }
         },
         "mode": "markers",
         "name": "Feasible Trial",
         "showlegend": false,
         "type": "scatter",
         "x": [
          104,
          32,
          72,
          112,
          112,
          88,
          128,
          88,
          120,
          64,
          8,
          88,
          56,
          96,
          88,
          48,
          96,
          72,
          40,
          80,
          104,
          112,
          128,
          104,
          104,
          96,
          80,
          104,
          120,
          120,
          120,
          120,
          128,
          112,
          120,
          120,
          112,
          128,
          112,
          24,
          120,
          120,
          128,
          112,
          112,
          104,
          112,
          96,
          112,
          128
         ],
         "xaxis": "x29",
         "y": [
          0.005100990188563874,
          0.000019860708707177768,
          0.009696413197862666,
          0.001571749776249777,
          0.0006379538142827019,
          0.02264213245096893,
          0.0726475000829205,
          0.0019110286305313027,
          0.00012163946485690261,
          0.00007598827625271952,
          0.0005223371831123543,
          0.0007397601677843805,
          0.0024602413983781995,
          0.0001902712069056088,
          0.00009047445070254732,
          0.00025476220795954977,
          0.0043321695035891845,
          0.00002163872549261281,
          0.0002617809684685859,
          0.019415699317830708,
          0.00003520663293231582,
          0.00046290239796682167,
          0.0012757896201358236,
          0.00037465546882200145,
          0.00019989475930067544,
          0.0021495967704226824,
          0.00005208430975733577,
          0.0002881825011836019,
          0.00015050344330720008,
          0.003911426777511212,
          0.00015335460642411939,
          0.00001110376978598369,
          0.00013352630362784012,
          0.000050611394602106545,
          0.000036220252965558876,
          0.00003479474879252498,
          0.000029404095527833733,
          0.000011950548462899992,
          0.000048620371257514394,
          0.000019123060851291802,
          0.00006987056210679689,
          0.00011939965426894092,
          0.000041877331510834896,
          0.00002390330078323597,
          0.000020040668531992272,
          0.00002612835183017675,
          0.00006669238216103824,
          0.00006625963744085291,
          0.00009857550141699971,
          0.09191144747250399
         ],
         "yaxis": "y29"
        },
        {
         "type": "scatter",
         "xaxis": "x37",
         "yaxis": "y37"
        },
        {
         "colorbar": {
          "title": {
           "text": "Objective Value"
          }
         },
         "colorscale": [
          [
           0,
           "rgb(247,251,255)"
          ],
          [
           0.125,
           "rgb(222,235,247)"
          ],
          [
           0.25,
           "rgb(198,219,239)"
          ],
          [
           0.375,
           "rgb(158,202,225)"
          ],
          [
           0.5,
           "rgb(107,174,214)"
          ],
          [
           0.625,
           "rgb(66,146,198)"
          ],
          [
           0.75,
           "rgb(33,113,181)"
          ],
          [
           0.875,
           "rgb(8,81,156)"
          ],
          [
           1,
           "rgb(8,48,107)"
          ]
         ],
         "connectgaps": true,
         "contours": {
          "coloring": "heatmap"
         },
         "hoverinfo": "none",
         "line": {
          "smoothing": 1.3
         },
         "reversescale": false,
         "showscale": false,
         "type": "contour",
         "x": [
          2,
          8,
          24,
          32,
          40,
          48,
          56,
          64,
          72,
          80,
          88,
          96,
          104,
          112,
          120,
          128,
          134
         ],
         "xaxis": "x45",
         "y": [
          0.8,
          1,
          2,
          3,
          4,
          5,
          5.2
         ],
         "yaxis": "y45",
         "z": {
          "bdata": "AAAAAAAA+H8AAAAAAAD4fwAAAAAAAPh/AAAAAAAA+H8AAAAAAAD4fwAAAAAAAPh/AAAAAAAA+H8AAAAAAAD4fwAAAAAAAPh/AAAAAAAA+H8AAAAAAAD4fwAAAAAAAPh/AAAAAAAA+H8AAAAAAAD4fwAAAAAAAPh/AAAAAAAA+H8AAAAAAAD4fwAAAAAAAPh/VlVVVVUFU0AAAAAAAAD4fwAAAAAAAPh/AAAAAAAA+H8AAAAAAAD4fwAAAAAAAPh/AAAAAAAA+H+rqqqqqjpUQAAAAAAAAPh/AAAAAAAA+H8AAAAAAAD4fwAAAAAAAPh/AAAAAAAA+H+rqqqqqupUQAAAAAAAAPh/AAAAAAAA+H8AAAAAAAD4fwAAAAAAAPh/AAAAAAAA+H8AAAAAAAD4f6uqqqqqilRAq6qqqqqqVEAAAAAAAAD4fwAAAAAAAPh/AAAAAAAA+H8AAAAAAAD4fwAAAAAA8FRAVlVVVVX1VEAAAAAAAAD4f1VVVVVV5VRAAAAAAAAA+H8AAAAAAAD4fwAAAAAAAPh/AAAAAAAA+H8AAAAAAAD4f1VVVVVVFVNAqqqqqqpKR0AAAAAAAAD4fwAAAAAAAPh/AAAAAAAA+H8AAAAAAAD4fwAAAAAAAPh/AAAAAAAgVEAAAAAAACBVQAAAAAAAAPh/AAAAAAAQVUAAAAAAAEBVQKqqqqqqelVAq6qqqqoKVUAAAAAAAAD4fwAAAAAAAPh/AAAAAAAA+H8AAAAAAAD4fwAAAAAAAPh/AAAAAAAA+H8AAAAAAAD4f1ZVVVVVlVRAqqqqqqqqL0AAAAAAANBUQAAAAAAAQFRAAAAAAAAA+H+rqqqqqlpUQKqqqqqqGlVAAAAAAABgVUAAAAAAAAD4fwAAAAAAAPh/AAAAAAAA+H8AAAAAAAD4fwAAAAAAAPh/AAAAAAAA+H8AAAAAAAD4fwAAAAAAAPh/AAAAAAAA+H8AAAAAAAD4fwAAAAAAAPh/AAAAAAAA+H8AAAAAAAD4f1VVVVVVJVJAq6qqqqrKSkCrqqqqqgpPQAAAAAAA8FRAAAAAAAAA+H9VVVVVVcVUQAAAAAAAAPh/AAAAAAAA+H8AAAAAAAD4fwAAAAAAAPh/AAAAAAAA+H8AAAAAAAD4fwAAAAAAAPh/AAAAAAAA+H8AAAAAAAD4fwAAAAAAAPh/AAAAAAAA+H8AAAAAAAD4fwAAAAAAAPh/AAAAAAAA+H8AAAAAAAD4fwAAAAAAAPh/AAAAAAAA+H8AAAAAAAD4fw==",
          "dtype": "f8",
          "shape": "7, 17"
         }
        },
        {
         "marker": {
          "color": "black",
          "line": {
           "color": "Gray",
           "width": 2
          }
         },
         "mode": "markers",
         "name": "Feasible Trial",
         "showlegend": false,
         "type": "scatter",
         "x": [
          104,
          32,
          72,
          112,
          112,
          88,
          128,
          88,
          120,
          64,
          8,
          88,
          56,
          96,
          88,
          48,
          96,
          72,
          40,
          80,
          104,
          112,
          128,
          104,
          104,
          96,
          80,
          104,
          120,
          120,
          120,
          120,
          128,
          112,
          120,
          120,
          112,
          128,
          112,
          24,
          120,
          120,
          128,
          112,
          112,
          104,
          112,
          96,
          112,
          128
         ],
         "xaxis": "x45",
         "y": [
          5,
          3,
          4,
          3,
          5,
          5,
          3,
          3,
          1,
          4,
          1,
          2,
          4,
          2,
          2,
          2,
          2,
          1,
          2,
          3,
          3,
          4,
          5,
          4,
          4,
          4,
          4,
          3,
          3,
          3,
          3,
          3,
          3,
          3,
          3,
          3,
          2,
          3,
          3,
          3,
          3,
          3,
          3,
          3,
          2,
          3,
          4,
          5,
          4,
          5
         ],
         "yaxis": "y45"
        },
        {
         "colorbar": {
          "title": {
           "text": "Objective Value"
          }
         },
         "colorscale": [
          [
           0,
           "rgb(247,251,255)"
          ],
          [
           0.125,
           "rgb(222,235,247)"
          ],
          [
           0.25,
           "rgb(198,219,239)"
          ],
          [
           0.375,
           "rgb(158,202,225)"
          ],
          [
           0.5,
           "rgb(107,174,214)"
          ],
          [
           0.625,
           "rgb(66,146,198)"
          ],
          [
           0.75,
           "rgb(33,113,181)"
          ],
          [
           0.875,
           "rgb(8,81,156)"
          ],
          [
           1,
           "rgb(8,48,107)"
          ]
         ],
         "connectgaps": true,
         "contours": {
          "coloring": "heatmap"
         },
         "hoverinfo": "none",
         "line": {
          "smoothing": 1.3
         },
         "reversescale": false,
         "showscale": false,
         "type": "contour",
         "x": [
          2,
          8,
          24,
          32,
          40,
          48,
          56,
          64,
          72,
          80,
          88,
          96,
          104,
          112,
          120,
          128,
          134
         ],
         "xaxis": "x53",
         "y": [
          "Adam",
          "RMSProp",
          "SGD"
         ],
         "yaxis": "y53",
         "z": {
          "bdata": "AAAAAAAA+H9WVVVVVQVTQAAAAAAAAPh/AAAAAAAA+H+rqqqqqopUQKuqqqqqqlRAVlVVVVWVVEAAAAAAAAD4fwAAAAAAAPh/AAAAAABAVEAAAAAAACBVQFZVVVVV9VRAqqqqqqoaVUAAAAAAAPBUQAAAAAAAAPh/VVVVVVXFVEAAAAAAAAD4fwAAAAAAAPh/AAAAAAAA+H9VVVVVVRVTQAAAAAAAAPh/AAAAAAAA+H8AAAAAAAD4fwAAAAAAAPh/AAAAAAAA+H+rqqqqqjpUQAAAAAAAAPh/AAAAAAAA+H8AAAAAAAD4f6uqqqqqylRAAAAAAABgVUCqqqqqqnpVQKuqqqqqClVAAAAAAAAA+H8AAAAAAAD4fwAAAAAAAPh/AAAAAAAA+H+qqqqqqkpHQAAAAAAAAPh/AAAAAAAA+H8AAAAAAAD4f6qqqqqqqi9AAAAAAADQVEAAAAAAAAD4fwAAAAAAAPh/q6qqqqrKSkCrqqqqqgpPQAAAAAAAAPh/VVVVVVWFUkCrqqqqqlpUQAAAAAAAAPh/",
          "dtype": "f8",
          "shape": "3, 17"
         }
        },
        {
         "marker": {
          "color": "black",
          "line": {
           "color": "Gray",
           "width": 2
          }
         },
         "mode": "markers",
         "name": "Feasible Trial",
         "showlegend": false,
         "type": "scatter",
         "x": [
          104,
          32,
          72,
          112,
          112,
          88,
          128,
          88,
          120,
          64,
          8,
          88,
          56,
          96,
          88,
          48,
          96,
          72,
          40,
          80,
          104,
          112,
          128,
          104,
          104,
          96,
          80,
          104,
          120,
          120,
          120,
          120,
          128,
          112,
          120,
          120,
          112,
          128,
          112,
          24,
          120,
          120,
          128,
          112,
          112,
          104,
          112,
          96,
          112,
          128
         ],
         "xaxis": "x53",
         "y": [
          "SGD",
          "SGD",
          "SGD",
          "RMSProp",
          "Adam",
          "Adam",
          "SGD",
          "Adam",
          "RMSProp",
          "SGD",
          "Adam",
          "Adam",
          "Adam",
          "Adam",
          "Adam",
          "Adam",
          "Adam",
          "RMSProp",
          "Adam",
          "Adam",
          "RMSProp",
          "Adam",
          "Adam",
          "Adam",
          "Adam",
          "Adam",
          "Adam",
          "Adam",
          "RMSProp",
          "RMSProp",
          "RMSProp",
          "RMSProp",
          "RMSProp",
          "RMSProp",
          "RMSProp",
          "RMSProp",
          "RMSProp",
          "RMSProp",
          "RMSProp",
          "RMSProp",
          "SGD",
          "RMSProp",
          "RMSProp",
          "RMSProp",
          "RMSProp",
          "RMSProp",
          "RMSProp",
          "SGD",
          "RMSProp",
          "RMSProp"
         ],
         "yaxis": "y53"
        },
        {
         "colorbar": {
          "title": {
           "text": "Objective Value"
          }
         },
         "colorscale": [
          [
           0,
           "rgb(247,251,255)"
          ],
          [
           0.125,
           "rgb(222,235,247)"
          ],
          [
           0.25,
           "rgb(198,219,239)"
          ],
          [
           0.375,
           "rgb(158,202,225)"
          ],
          [
           0.5,
           "rgb(107,174,214)"
          ],
          [
           0.625,
           "rgb(66,146,198)"
          ],
          [
           0.75,
           "rgb(33,113,181)"
          ],
          [
           0.875,
           "rgb(8,81,156)"
          ],
          [
           1,
           "rgb(8,48,107)"
          ]
         ],
         "connectgaps": true,
         "contours": {
          "coloring": "heatmap"
         },
         "hoverinfo": "none",
         "line": {
          "smoothing": 1.3
         },
         "reversescale": false,
         "showscale": false,
         "type": "contour",
         "x": [
          2,
          8,
          24,
          32,
          40,
          48,
          56,
          64,
          72,
          80,
          88,
          96,
          104,
          112,
          120,
          128,
          134
         ],
         "xaxis": "x61",
         "y": [
          0.000008542994397936864,
          0.000010695476345287184,
          0.00001149348088047172,
          0.000012094978678250213,
          0.000017267872859730894,
          0.000022964810673419587,
          0.000030442008652608602,
          0.00004417361247719773,
          0.00004584268787355865,
          0.000050280778428755706,
          0.000058718414537544966,
          0.00006204684057371488,
          0.00007479489631463367,
          0.00009140754206228326,
          0.00011139959662371032,
          0.00011267708093824678,
          0.00011413557089106621,
          0.00012039528848626058,
          0.00014911935711649018,
          0.00015348015683398566,
          0.0001659374738876341,
          0.0002003891046446997,
          0.00020443510150137817,
          0.0002675833225815239,
          0.00027100619377422747,
          0.00027132936748607814,
          0.00031414855097441387,
          0.0003360937164140219,
          0.0003646064116017021,
          0.0004121644255438535,
          0.0004458520025100744,
          0.000474271322805089,
          0.0004833915256556394,
          0.0004932668772810958,
          0.000539256460634418,
          0.0005571718181379366,
          0.000564202750805794,
          0.0005856060447330134,
          0.0006030572806877948,
          0.0006554424691858177,
          0.0006656089257060337,
          0.0006881625028625726,
          0.0006924466498844899,
          0.0007533931873569096,
          0.0007613554698886802,
          0.000778259660661666,
          0.0008083603457803395,
          0.0008577872009375,
          0.0009174670220593022,
          0.00094095705324019,
          0.0009571948007830283,
          0.0011983683791340358
         ],
         "yaxis": "y61",
         "z": {
          "bdata": "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",
          "dtype": "f8",
          "shape": "52, 17"
         }
        },
        {
         "marker": {
          "color": "black",
          "line": {
           "color": "Gray",
           "width": 2
          }
         },
         "mode": "markers",
         "name": "Feasible Trial",
         "showlegend": false,
         "type": "scatter",
         "x": [
          104,
          32,
          72,
          112,
          112,
          88,
          128,
          88,
          120,
          64,
          8,
          88,
          56,
          96,
          88,
          48,
          96,
          72,
          40,
          80,
          104,
          112,
          128,
          104,
          104,
          96,
          80,
          104,
          120,
          120,
          120,
          120,
          128,
          112,
          120,
          120,
          112,
          128,
          112,
          24,
          120,
          120,
          128,
          112,
          112,
          104,
          112,
          96,
          112,
          128
         ],
         "xaxis": "x61",
         "y": [
          0.0006030572806877948,
          0.000017267872859730894,
          0.0002003891046446997,
          0.0002675833225815239,
          0.000058718414537544966,
          0.0004932668772810958,
          0.00004417361247719773,
          0.00012039528848626058,
          0.0006924466498844899,
          0.0009174670220593022,
          0.00011267708093824678,
          0.00004584268787355865,
          0.000050280778428755706,
          0.000010695476345287184,
          0.000022964810673419587,
          0.000012094978678250213,
          0.00011139959662371032,
          0.00020443510150137817,
          0.000030442008652608602,
          0.00001149348088047172,
          0.00009140754206228326,
          0.00007479489631463367,
          0.0001659374738876341,
          0.00006204684057371488,
          0.00031414855097441387,
          0.0003646064116017021,
          0.0003360937164140219,
          0.00011413557089106621,
          0.00015348015683398566,
          0.00014911935711649018,
          0.000474271322805089,
          0.0004458520025100744,
          0.00027132936748607814,
          0.0006881625028625726,
          0.0006656089257060337,
          0.0008577872009375,
          0.00094095705324019,
          0.0006554424691858177,
          0.0004833915256556394,
          0.0007613554698886802,
          0.0005571718181379366,
          0.0007533931873569096,
          0.0004121644255438535,
          0.000564202750805794,
          0.0005856060447330134,
          0.0009571948007830283,
          0.000778259660661666,
          0.000539256460634418,
          0.0008083603457803395,
          0.00027100619377422747
         ],
         "yaxis": "y61"
        },
        {
         "colorbar": {
          "title": {
           "text": "Objective Value"
          }
         },
         "colorscale": [
          [
           0,
           "rgb(247,251,255)"
          ],
          [
           0.125,
           "rgb(222,235,247)"
          ],
          [
           0.25,
           "rgb(198,219,239)"
          ],
          [
           0.375,
           "rgb(158,202,225)"
          ],
          [
           0.5,
           "rgb(107,174,214)"
          ],
          [
           0.625,
           "rgb(66,146,198)"
          ],
          [
           0.75,
           "rgb(33,113,181)"
          ],
          [
           0.875,
           "rgb(8,81,156)"
          ],
          [
           1,
           "rgb(8,48,107)"
          ]
         ],
         "connectgaps": true,
         "contours": {
          "coloring": "heatmap"
         },
         "hoverinfo": "none",
         "line": {
          "smoothing": 1.3
         },
         "reversescale": false,
         "showscale": false,
         "type": "contour",
         "x": [
          0.8,
          1,
          2,
          3,
          4,
          5,
          5.2
         ],
         "xaxis": "x6",
         "y": [
          10.399999999999999,
          16,
          32,
          64,
          128,
          133.6
         ],
         "yaxis": "y6",
         "z": {
          "bdata": "AAAAAAAA+H8AAAAAAAD4fwAAAAAAAPh/AAAAAAAA+H8AAAAAAAD4fwAAAAAAAPh/AAAAAAAA+H8AAAAAAAD4f6uqqqqq6lRAVVVVVVXlVECqqqqqqnpVQAAAAAAAYFVAq6qqqqrKSkAAAAAAAAD4fwAAAAAAAPh/AAAAAAAA+H8AAAAAAPBUQKqqqqqqSkdAVVVVVVUFVUAAAAAAAPBUQAAAAAAAAPh/AAAAAAAA+H8AAAAAAAD4fwAAAAAAAPh/AAAAAAAgVEBWVVVVVTVVQKuqqqqqCk9AAAAAAAAA+H8AAAAAAAD4f6uqqqqqOlRAVlVVVVX1VEAAAAAAACBVQKqqqqqqGlVAVVVVVVUlUkAAAAAAAAD4fwAAAAAAAPh/AAAAAAAA+H8AAAAAAAD4fwAAAAAAAPh/AAAAAAAA+H8AAAAAAAD4fwAAAAAAAPh/",
          "dtype": "f8",
          "shape": "6, 7"
         }
        },
        {
         "marker": {
          "color": "black",
          "line": {
           "color": "Gray",
           "width": 2
          }
         },
         "mode": "markers",
         "name": "Feasible Trial",
         "showlegend": false,
         "type": "scatter",
         "x": [
          5,
          3,
          4,
          3,
          5,
          5,
          3,
          3,
          1,
          4,
          1,
          2,
          4,
          2,
          2,
          2,
          2,
          1,
          2,
          3,
          3,
          4,
          5,
          4,
          4,
          4,
          4,
          3,
          3,
          3,
          3,
          3,
          3,
          3,
          3,
          3,
          2,
          3,
          3,
          3,
          3,
          3,
          3,
          3,
          2,
          3,
          4,
          5,
          4,
          5
         ],
         "xaxis": "x6",
         "y": [
          64,
          32,
          32,
          16,
          32,
          128,
          16,
          128,
          16,
          64,
          128,
          32,
          128,
          128,
          128,
          128,
          128,
          128,
          128,
          64,
          128,
          32,
          32,
          32,
          128,
          32,
          64,
          16,
          16,
          16,
          16,
          16,
          16,
          16,
          16,
          16,
          16,
          16,
          16,
          16,
          16,
          16,
          16,
          16,
          16,
          16,
          16,
          16,
          64,
          16
         ],
         "yaxis": "y6"
        },
        {
         "colorbar": {
          "title": {
           "text": "Objective Value"
          }
         },
         "colorscale": [
          [
           0,
           "rgb(247,251,255)"
          ],
          [
           0.125,
           "rgb(222,235,247)"
          ],
          [
           0.25,
           "rgb(198,219,239)"
          ],
          [
           0.375,
           "rgb(158,202,225)"
          ],
          [
           0.5,
           "rgb(107,174,214)"
          ],
          [
           0.625,
           "rgb(66,146,198)"
          ],
          [
           0.75,
           "rgb(33,113,181)"
          ],
          [
           0.875,
           "rgb(8,81,156)"
          ],
          [
           1,
           "rgb(8,48,107)"
          ]
         ],
         "connectgaps": true,
         "contours": {
          "coloring": "heatmap"
         },
         "hoverinfo": "none",
         "line": {
          "smoothing": 1.3
         },
         "reversescale": false,
         "showscale": false,
         "type": "contour",
         "x": [
          0.8,
          1,
          2,
          3,
          4,
          5,
          5.2
         ],
         "xaxis": "x14",
         "y": [
          0.08,
          0.1,
          0.2,
          0.30000000000000004,
          0.4,
          0.5,
          0.52
         ],
         "yaxis": "y14",
         "z": {
          "bdata": "AAAAAAAA+H8AAAAAAAD4fwAAAAAAAPh/AAAAAAAA+H8AAAAAAAD4fwAAAAAAAPh/AAAAAAAA+H8AAAAAAAD4f6uqqqqqOlRAVVVVVVXlVECqqqqqqnpVQAAAAAAAYFVAq6qqqqrKSkAAAAAAAAD4fwAAAAAAAPh/VlVVVVUFU0BWVVVVVfVUQAAAAAAAIFVAqqqqqqoaVUAAAAAAAAD4fwAAAAAAAPh/AAAAAAAA+H8AAAAAAAD4fwAAAAAAAPh/AAAAAAAgVEBWVVVVVZVUQAAAAAAA8FRAAAAAAAAA+H8AAAAAAAD4f6uqqqqq6lRAAAAAAAAA+H8AAAAAAJBUQAAAAAAAAPh/q6qqqqoKT0AAAAAAAAD4fwAAAAAAAPh/AAAAAAAA+H8AAAAAAAD4f1VVVVVVpVJAqqqqqqqqL0AAAAAAAAD4fwAAAAAAAPh/AAAAAAAA+H8AAAAAAAD4fwAAAAAAAPh/AAAAAAAA+H8AAAAAAAD4fwAAAAAAAPh/AAAAAAAA+H8=",
          "dtype": "f8",
          "shape": "7, 7"
         }
        },
        {
         "marker": {
          "color": "black",
          "line": {
           "color": "Gray",
           "width": 2
          }
         },
         "mode": "markers",
         "name": "Feasible Trial",
         "showlegend": false,
         "type": "scatter",
         "x": [
          5,
          3,
          4,
          3,
          5,
          5,
          3,
          3,
          1,
          4,
          1,
          2,
          4,
          2,
          2,
          2,
          2,
          1,
          2,
          3,
          3,
          4,
          5,
          4,
          4,
          4,
          4,
          3,
          3,
          3,
          3,
          3,
          3,
          3,
          3,
          3,
          2,
          3,
          3,
          3,
          3,
          3,
          3,
          3,
          2,
          3,
          4,
          5,
          4,
          5
         ],
         "xaxis": "x14",
         "y": [
          0.4,
          0.1,
          0.1,
          0.4,
          0.30000000000000004,
          0.30000000000000004,
          0.1,
          0.2,
          0.4,
          0.5,
          0.2,
          0.2,
          0.30000000000000004,
          0.2,
          0.2,
          0.2,
          0.2,
          0.1,
          0.2,
          0.30000000000000004,
          0.5,
          0.30000000000000004,
          0.30000000000000004,
          0.2,
          0.2,
          0.1,
          0.2,
          0.2,
          0.1,
          0.1,
          0.1,
          0.1,
          0.1,
          0.1,
          0.1,
          0.1,
          0.1,
          0.1,
          0.1,
          0.1,
          0.1,
          0.1,
          0.1,
          0.1,
          0.1,
          0.1,
          0.1,
          0.1,
          0.1,
          0.4
         ],
         "yaxis": "y14"
        },
        {
         "colorbar": {
          "title": {
           "text": "Objective Value"
          }
         },
         "colorscale": [
          [
           0,
           "rgb(247,251,255)"
          ],
          [
           0.125,
           "rgb(222,235,247)"
          ],
          [
           0.25,
           "rgb(198,219,239)"
          ],
          [
           0.375,
           "rgb(158,202,225)"
          ],
          [
           0.5,
           "rgb(107,174,214)"
          ],
          [
           0.625,
           "rgb(66,146,198)"
          ],
          [
           0.75,
           "rgb(33,113,181)"
          ],
          [
           0.875,
           "rgb(8,81,156)"
          ],
          [
           1,
           "rgb(8,48,107)"
          ]
         ],
         "connectgaps": true,
         "contours": {
          "coloring": "heatmap"
         },
         "hoverinfo": "none",
         "line": {
          "smoothing": 1.3
         },
         "reversescale": false,
         "showscale": false,
         "type": "contour",
         "x": [
          0.8,
          1,
          2,
          3,
          4,
          5,
          5.2
         ],
         "xaxis": "x22",
         "y": [
          8,
          10,
          20,
          30,
          40,
          50,
          52
         ],
         "yaxis": "y22",
         "z": {
          "bdata": "AAAAAAAA+H8AAAAAAAD4fwAAAAAAAPh/AAAAAAAA+H8AAAAAAAD4fwAAAAAAAPh/AAAAAAAA+H8AAAAAAAD4fwAAAAAAAPh/AAAAAAAA+H+rqqqqqlpUQKuqqqqqilRAAAAAAADwVEAAAAAAAAD4fwAAAAAAAPh/AAAAAAAA+H8AAAAAAPBUQKuqqqqqylRAAAAAAABgVUBVVVVVVZUzQAAAAAAAAPh/AAAAAAAA+H+rqqqqqupUQFVVVVVV5VRAqqqqqqp6VUAAAAAAAAD4fwAAAAAAAPh/AAAAAAAA+H8AAAAAAAD4f1ZVVVVVBVNAVlVVVVX1VEBVVVVVVYVSQAAAAAAA0FRAVVVVVVXFVEAAAAAAAAD4fwAAAAAAAPh/q6qqqqo6VECrqqqqqqpUQAAAAAAAIFVAAAAAAAAA+H9VVVVVVSVSQAAAAAAAAPh/AAAAAAAA+H8AAAAAAAD4fwAAAAAAAPh/AAAAAAAA+H8AAAAAAAD4fwAAAAAAAPh/AAAAAAAA+H8=",
          "dtype": "f8",
          "shape": "7, 7"
         }
        },
        {
         "marker": {
          "color": "black",
          "line": {
           "color": "Gray",
           "width": 2
          }
         },
         "mode": "markers",
         "name": "Feasible Trial",
         "showlegend": false,
         "type": "scatter",
         "x": [
          5,
          3,
          4,
          3,
          5,
          5,
          3,
          3,
          1,
          4,
          1,
          2,
          4,
          2,
          2,
          2,
          2,
          1,
          2,
          3,
          3,
          4,
          5,
          4,
          4,
          4,
          4,
          3,
          3,
          3,
          3,
          3,
          3,
          3,
          3,
          3,
          2,
          3,
          3,
          3,
          3,
          3,
          3,
          3,
          2,
          3,
          4,
          5,
          4,
          5
         ],
         "xaxis": "x22",
         "y": [
          10,
          50,
          40,
          30,
          10,
          50,
          10,
          50,
          30,
          20,
          40,
          20,
          20,
          40,
          40,
          50,
          40,
          50,
          40,
          50,
          30,
          10,
          40,
          20,
          20,
          20,
          20,
          30,
          30,
          30,
          30,
          30,
          30,
          30,
          30,
          30,
          30,
          30,
          30,
          30,
          40,
          30,
          30,
          30,
          30,
          20,
          20,
          10,
          20,
          20
         ],
         "yaxis": "y22"
        },
        {
         "colorbar": {
          "title": {
           "text": "Objective Value"
          }
         },
         "colorscale": [
          [
           0,
           "rgb(247,251,255)"
          ],
          [
           0.125,
           "rgb(222,235,247)"
          ],
          [
           0.25,
           "rgb(198,219,239)"
          ],
          [
           0.375,
           "rgb(158,202,225)"
          ],
          [
           0.5,
           "rgb(107,174,214)"
          ],
          [
           0.625,
           "rgb(66,146,198)"
          ],
          [
           0.75,
           "rgb(33,113,181)"
          ],
          [
           0.875,
           "rgb(8,81,156)"
          ],
          [
           1,
           "rgb(8,48,107)"
          ]
         ],
         "connectgaps": true,
         "contours": {
          "coloring": "heatmap"
         },
         "hoverinfo": "none",
         "line": {
          "smoothing": 1.3
         },
         "reversescale": false,
         "showscale": false,
         "type": "contour",
         "x": [
          0.8,
          1,
          2,
          3,
          4,
          5,
          5.2
         ],
         "xaxis": "x30",
         "y": [
          0.000007072541283187389,
          0.00001110376978598369,
          0.000011950548462899992,
          0.000019123060851291802,
          0.000019860708707177768,
          0.000020040668531992272,
          0.00002163872549261281,
          0.00002390330078323597,
          0.00002612835183017675,
          0.000029404095527833733,
          0.00003479474879252498,
          0.00003520663293231582,
          0.000036220252965558876,
          0.000041877331510834896,
          0.000048620371257514394,
          0.000050611394602106545,
          0.00005208430975733577,
          0.00006625963744085291,
          0.00006669238216103824,
          0.00006987056210679689,
          0.00007598827625271952,
          0.00009047445070254732,
          0.00009857550141699971,
          0.00011939965426894092,
          0.00012163946485690261,
          0.00013352630362784012,
          0.00015050344330720008,
          0.00015335460642411939,
          0.0001902712069056088,
          0.00019989475930067544,
          0.00025476220795954977,
          0.0002617809684685859,
          0.0002881825011836019,
          0.00037465546882200145,
          0.00046290239796682167,
          0.0005223371831123543,
          0.0006379538142827019,
          0.0007397601677843805,
          0.0012757896201358236,
          0.001571749776249777,
          0.0019110286305313027,
          0.0021495967704226824,
          0.0024602413983781995,
          0.003911426777511212,
          0.0043321695035891845,
          0.005100990188563874,
          0.009696413197862666,
          0.019415699317830708,
          0.02264213245096893,
          0.0726475000829205,
          0.09191144747250399,
          0.14429941269586738
         ],
         "yaxis": "y30",
         "z": {
          "bdata": "AAAAAAAA+H8AAAAAAAD4fwAAAAAAAPh/AAAAAAAA+H8AAAAAAAD4fwAAAAAAAPh/AAAAAAAA+H8AAAAAAAD4fwAAAAAAAPh/AAAAAAAA+H+rqqqqqnpUQAAAAAAAAPh/AAAAAAAA+H8AAAAAAAD4fwAAAAAAAPh/AAAAAAAA+H8AAAAAAAD4fwAAAAAAkFRAAAAAAAAA+H8AAAAAAAD4fwAAAAAAAPh/AAAAAAAA+H8AAAAAAAD4fwAAAAAAAPh/VVVVVVUVU0AAAAAAAAD4fwAAAAAAAPh/AAAAAAAA+H8AAAAAAAD4fwAAAAAAAPh/AAAAAAAA+H+qqqqqqkpHQAAAAAAAAPh/AAAAAAAA+H8AAAAAAAD4fwAAAAAAAPh/AAAAAAAA+H9VVVVVVeVUQAAAAAAAAPh/AAAAAAAA+H8AAAAAAAD4fwAAAAAAAPh/AAAAAAAA+H+rqqqqqjpUQAAAAAAAAPh/AAAAAAAA+H8AAAAAAAD4fwAAAAAAAPh/AAAAAAAA+H8AAAAAAAD4fwAAAAAAAPh/AAAAAAAA+H8AAAAAAEBVQAAAAAAAAPh/AAAAAAAA+H8AAAAAAAD4fwAAAAAAAPh/AAAAAAAA+H8AAAAAAAD4f6uqqqqqylRAAAAAAAAA+H8AAAAAAAD4fwAAAAAAAPh/AAAAAAAA+H8AAAAAAAD4fwAAAAAA4FRAAAAAAAAA+H8AAAAAAAD4fwAAAAAAAPh/AAAAAAAA+H8AAAAAAAD4fwAAAAAAAPh/AAAAAAAA+H+qqqqqqnpVQAAAAAAAAPh/AAAAAAAA+H8AAAAAAAD4fwAAAAAAAPh/AAAAAAAA+H8AAAAAAAD4f1VVVVVVpVJAAAAAAAAA+H8AAAAAAAD4fwAAAAAAAPh/AAAAAAAA+H8AAAAAAAD4fwAAAAAAAPh/VlVVVVU1VUAAAAAAAAD4fwAAAAAAAPh/AAAAAAAA+H8AAAAAAAD4fwAAAAAAAPh/AAAAAAAA+H+rqqqqqgpVQAAAAAAAAPh/AAAAAAAA+H8AAAAAAAD4fwAAAAAAAPh/AAAAAAAA+H8AAAAAAAD4f1ZVVVVV9VRAAAAAAAAA+H8AAAAAAAD4fwAAAAAAAPh/AAAAAAAA+H8AAAAAAAD4fwAAAAAAAPh/VlVVVVU1VUAAAAAAAAD4fwAAAAAAAPh/AAAAAAAA+H8AAAAAAAD4fwAAAAAAAPh/AAAAAAAA+H8AAAAAAAD4fwAAAAAAQFRAAAAAAAAA+H8AAAAAAAD4fwAAAAAAAPh/AAAAAAAA+H8AAAAAAAD4fwAAAAAAAPh/AAAAAAAA+H+rqqqqqspKQAAAAAAAAPh/AAAAAAAA+H8AAAAAAAD4fwAAAAAAAPh/AAAAAAAA+H8AAAAAAGBVQAAAAAAAAPh/AAAAAAAA+H8AAAAAAAD4fwAAAAAAAPh/AAAAAAAA+H9VVVVVVYVSQAAAAAAAAPh/AAAAAAAA+H8AAAAAAAD4fwAAAAAAAPh/AAAAAAAA+H8AAAAAAAD4fwAAAAAAAPh/qqqqqqqqL0AAAAAAAAD4fwAAAAAAAPh/AAAAAAAA+H8AAAAAAAD4f1VVVVVVhVRAAAAAAAAA+H8AAAAAAAD4fwAAAAAAAPh/AAAAAAAA+H8AAAAAAAD4fwAAAAAAAPh/AAAAAAAA+H8AAAAAAAD4f1ZVVVVVNVVAAAAAAAAA+H8AAAAAAAD4fwAAAAAAAPh/AAAAAAAA+H8AAAAAAAD4fwAAAAAAwFRAAAAAAAAA+H8AAAAAAAD4fwAAAAAAAPh/AAAAAAAA+H+rqqqqqupUQAAAAAAAAPh/AAAAAAAA+H8AAAAAAAD4fwAAAAAAAPh/AAAAAAAA+H8AAAAAAAD4fwAAAAAAAPh/AAAAAAAA+H+rqqqqqupUQAAAAAAAAPh/AAAAAAAA+H8AAAAAAAD4fwAAAAAAAPh/AAAAAAAA+H8AAAAAAAD4fwAAAAAAMFVAAAAAAAAA+H8AAAAAAAD4fwAAAAAAAPh/AAAAAAAA+H8AAAAAAAD4fwAAAAAAAPh/AAAAAABgVUAAAAAAAAD4fwAAAAAAAPh/AAAAAAAA+H8AAAAAAAD4fwAAAAAAAPh/VlVVVVX1VEAAAAAAAAD4fwAAAAAAAPh/AAAAAAAA+H8AAAAAAAD4fwAAAAAAAPh/AAAAAAAA+H8AAAAAAAD4fwAAAAAAAPh/qqqqqqoaVUAAAAAAAAD4fwAAAAAAAPh/AAAAAAAA+H8AAAAAAAD4f6uqqqqqqlRAAAAAAAAA+H8AAAAAAAD4fwAAAAAAAPh/AAAAAAAA+H8AAAAAAAD4fwAAAAAAAPh/q6qqqqqKVEAAAAAAAAD4fwAAAAAAAPh/AAAAAAAA+H8AAAAAAAD4fwAAAAAAAPh/AAAAAAAA+H8AAAAAAAD4fwAAAAAAEFVAAAAAAAAA+H8AAAAAAAD4fwAAAAAAAPh/AAAAAAAA+H8AAAAAAAD4fwAAAAAAAPh/AAAAAAAA+H9VVVVVVQVVQAAAAAAAAPh/AAAAAAAA+H8AAAAAAAD4fwAAAAAAAPh/AAAAAAAA+H8AAAAAAAD4f6uqqqqqilRAAAAAAAAA+H8AAAAAAAD4fwAAAAAAAPh/VlVVVVUFU0AAAAAAAAD4fwAAAAAAAPh/AAAAAAAA+H8AAAAAAAD4fwAAAAAAAPh/AAAAAAAA+H8AAAAAAAD4fwAAAAAAAPh/AAAAAAAA+H8AAAAAAAD4fwAAAAAA8FRAAAAAAAAA+H8AAAAAAAD4fwAAAAAAAPh/AAAAAADwVEAAAAAAAAD4fwAAAAAAAPh/AAAAAAAA+H8AAAAAAAD4fwAAAAAAAPh/AAAAAAAA+H8AAAAAAAD4fwAAAAAAAPh/AAAAAAAA+H9VVVVVVcVUQAAAAAAAAPh/AAAAAAAA+H8AAAAAAAD4fwAAAAAAAPh/AAAAAACQVEAAAAAAAAD4fwAAAAAAAPh/AAAAAAAA+H8AAAAAAAD4fwAAAAAAAPh/AAAAAAAA+H8AAAAAACBVQAAAAAAAAPh/AAAAAAAA+H8AAAAAAAD4fwAAAAAAAPh/AAAAAAAA+H8AAAAAAAD4fwAAAAAAAPh/q6qqqqpaVEAAAAAAAAD4fwAAAAAAAPh/AAAAAAAA+H8AAAAAAAD4fwAAAAAAAPh/AAAAAAAA+H9WVVVVVZVUQAAAAAAAAPh/AAAAAAAA+H8AAAAAAAD4fwAAAAAAAPh/AAAAAAAA+H9VVVVVVYVUQAAAAAAAAPh/AAAAAAAA+H8AAAAAAAD4fwAAAAAAAPh/AAAAAAAA+H+qqqqqqtpUQAAAAAAAAPh/AAAAAAAA+H8AAAAAAAD4fwAAAAAAAPh/AAAAAAAA+H8AAAAAAAD4fwAAAAAAAPh/AAAAAAAA+H8AAAAAAAD4f6uqqqqqCk9AAAAAAAAA+H8AAAAAAAD4fwAAAAAAAPh/AAAAAAAA+H8AAAAAAAD4fwAAAAAA0FRAAAAAAAAA+H8AAAAAAAD4fwAAAAAAAPh/AAAAAAAA+H8AAAAAAAD4fwAAAAAAIFRAAAAAAAAA+H8AAAAAAAD4fwAAAAAAAPh/AAAAAAAA+H8AAAAAAAD4fwAAAAAAAPh/AAAAAAAA+H8AAAAAAAD4f1VVVVVVJVJAAAAAAAAA+H8AAAAAAAD4fwAAAAAAAPh/AAAAAAAA+H+rqqqqqlpUQAAAAAAAAPh/AAAAAAAA+H8AAAAAAAD4fwAAAAAAAPh/AAAAAAAA+H8AAAAAAAD4fwAAAAAAAPh/AAAAAAAA+H9VVVVVVZUzQAAAAAAAAPh/AAAAAAAA+H8AAAAAAAD4fwAAAAAAAPh/AAAAAAAA+H8AAAAAAAD4fwAAAAAAAPh/AAAAAAAA+H8=",
          "dtype": "f8",
          "shape": "52, 7"
         }
        },
        {
         "marker": {
          "color": "black",
          "line": {
           "color": "Gray",
           "width": 2
          }
         },
         "mode": "markers",
         "name": "Feasible Trial",
         "showlegend": false,
         "type": "scatter",
         "x": [
          5,
          3,
          4,
          3,
          5,
          5,
          3,
          3,
          1,
          4,
          1,
          2,
          4,
          2,
          2,
          2,
          2,
          1,
          2,
          3,
          3,
          4,
          5,
          4,
          4,
          4,
          4,
          3,
          3,
          3,
          3,
          3,
          3,
          3,
          3,
          3,
          2,
          3,
          3,
          3,
          3,
          3,
          3,
          3,
          2,
          3,
          4,
          5,
          4,
          5
         ],
         "xaxis": "x30",
         "y": [
          0.005100990188563874,
          0.000019860708707177768,
          0.009696413197862666,
          0.001571749776249777,
          0.0006379538142827019,
          0.02264213245096893,
          0.0726475000829205,
          0.0019110286305313027,
          0.00012163946485690261,
          0.00007598827625271952,
          0.0005223371831123543,
          0.0007397601677843805,
          0.0024602413983781995,
          0.0001902712069056088,
          0.00009047445070254732,
          0.00025476220795954977,
          0.0043321695035891845,
          0.00002163872549261281,
          0.0002617809684685859,
          0.019415699317830708,
          0.00003520663293231582,
          0.00046290239796682167,
          0.0012757896201358236,
          0.00037465546882200145,
          0.00019989475930067544,
          0.0021495967704226824,
          0.00005208430975733577,
          0.0002881825011836019,
          0.00015050344330720008,
          0.003911426777511212,
          0.00015335460642411939,
          0.00001110376978598369,
          0.00013352630362784012,
          0.000050611394602106545,
          0.000036220252965558876,
          0.00003479474879252498,
          0.000029404095527833733,
          0.000011950548462899992,
          0.000048620371257514394,
          0.000019123060851291802,
          0.00006987056210679689,
          0.00011939965426894092,
          0.000041877331510834896,
          0.00002390330078323597,
          0.000020040668531992272,
          0.00002612835183017675,
          0.00006669238216103824,
          0.00006625963744085291,
          0.00009857550141699971,
          0.09191144747250399
         ],
         "yaxis": "y30"
        },
        {
         "colorbar": {
          "title": {
           "text": "Objective Value"
          }
         },
         "colorscale": [
          [
           0,
           "rgb(247,251,255)"
          ],
          [
           0.125,
           "rgb(222,235,247)"
          ],
          [
           0.25,
           "rgb(198,219,239)"
          ],
          [
           0.375,
           "rgb(158,202,225)"
          ],
          [
           0.5,
           "rgb(107,174,214)"
          ],
          [
           0.625,
           "rgb(66,146,198)"
          ],
          [
           0.75,
           "rgb(33,113,181)"
          ],
          [
           0.875,
           "rgb(8,81,156)"
          ],
          [
           1,
           "rgb(8,48,107)"
          ]
         ],
         "connectgaps": true,
         "contours": {
          "coloring": "heatmap"
         },
         "hoverinfo": "none",
         "line": {
          "smoothing": 1.3
         },
         "reversescale": false,
         "showscale": false,
         "type": "contour",
         "x": [
          0.8,
          1,
          2,
          3,
          4,
          5,
          5.2
         ],
         "xaxis": "x38",
         "y": [
          2,
          8,
          24,
          32,
          40,
          48,
          56,
          64,
          72,
          80,
          88,
          96,
          104,
          112,
          120,
          128,
          134
         ],
         "yaxis": "y38",
         "z": {
          "bdata": "AAAAAAAA+H8AAAAAAAD4fwAAAAAAAPh/AAAAAAAA+H8AAAAAAAD4fwAAAAAAAPh/AAAAAAAA+H8AAAAAAAD4f1ZVVVVVBVNAAAAAAAAA+H8AAAAAAAD4fwAAAAAAAPh/AAAAAAAA+H8AAAAAAAD4fwAAAAAAAPh/AAAAAAAA+H8AAAAAAAD4f1VVVVVVFVNAAAAAAAAA+H8AAAAAAAD4fwAAAAAAAPh/AAAAAAAA+H8AAAAAAAD4fwAAAAAAAPh/qqqqqqpKR0AAAAAAAAD4fwAAAAAAAPh/AAAAAAAA+H8AAAAAAAD4fwAAAAAAAPh/q6qqqqqKVEAAAAAAAAD4fwAAAAAAAPh/AAAAAAAA+H8AAAAAAAD4fwAAAAAAAPh/AAAAAAAA+H+rqqqqqqpUQAAAAAAAAPh/AAAAAAAA+H8AAAAAAAD4fwAAAAAAAPh/AAAAAAAA+H8AAAAAAAD4fwAAAAAAAPh/AAAAAAAA+H9WVVVVVZVUQAAAAAAAAPh/AAAAAAAA+H8AAAAAAAD4fwAAAAAAAPh/AAAAAAAA+H8AAAAAAAD4f6qqqqqqqi9AAAAAAAAA+H8AAAAAAAD4fwAAAAAAAPh/q6qqqqo6VEAAAAAAAAD4fwAAAAAAAPh/AAAAAADQVEAAAAAAAAD4fwAAAAAAAPh/AAAAAAAA+H8AAAAAAAD4fwAAAAAAAPh/AAAAAAAgVEAAAAAAAEBUQAAAAAAAAPh/AAAAAAAA+H8AAAAAAAD4fwAAAAAAAPh/AAAAAADwVEAAAAAAACBVQAAAAAAAAPh/VVVVVVUlUkAAAAAAAAD4fwAAAAAAAPh/AAAAAAAA+H9WVVVVVfVUQAAAAAAAAPh/q6qqqqpaVECrqqqqqspKQAAAAAAAAPh/AAAAAAAA+H8AAAAAAAD4fwAAAAAAAPh/AAAAAAAQVUCqqqqqqhpVQKuqqqqqCk9AAAAAAAAA+H8AAAAAAAD4fwAAAAAAAPh/VVVVVVXlVEAAAAAAAEBVQAAAAAAAYFVAAAAAAADwVEAAAAAAAAD4fwAAAAAAAPh/q6qqqqrqVEAAAAAAAAD4f6qqqqqqelVAAAAAAAAA+H8AAAAAAAD4fwAAAAAAAPh/AAAAAAAA+H8AAAAAAAD4fwAAAAAAAPh/q6qqqqoKVUAAAAAAAAD4f1VVVVVVxVRAAAAAAAAA+H8AAAAAAAD4fwAAAAAAAPh/AAAAAAAA+H8AAAAAAAD4fwAAAAAAAPh/AAAAAAAA+H8AAAAAAAD4fw==",
          "dtype": "f8",
          "shape": "17, 7"
         }
        },
        {
         "marker": {
          "color": "black",
          "line": {
           "color": "Gray",
           "width": 2
          }
         },
         "mode": "markers",
         "name": "Feasible Trial",
         "showlegend": false,
         "type": "scatter",
         "x": [
          5,
          3,
          4,
          3,
          5,
          5,
          3,
          3,
          1,
          4,
          1,
          2,
          4,
          2,
          2,
          2,
          2,
          1,
          2,
          3,
          3,
          4,
          5,
          4,
          4,
          4,
          4,
          3,
          3,
          3,
          3,
          3,
          3,
          3,
          3,
          3,
          2,
          3,
          3,
          3,
          3,
          3,
          3,
          3,
          2,
          3,
          4,
          5,
          4,
          5
         ],
         "xaxis": "x38",
         "y": [
          104,
          32,
          72,
          112,
          112,
          88,
          128,
          88,
          120,
          64,
          8,
          88,
          56,
          96,
          88,
          48,
          96,
          72,
          40,
          80,
          104,
          112,
          128,
          104,
          104,
          96,
          80,
          104,
          120,
          120,
          120,
          120,
          128,
          112,
          120,
          120,
          112,
          128,
          112,
          24,
          120,
          120,
          128,
          112,
          112,
          104,
          112,
          96,
          112,
          128
         ],
         "yaxis": "y38"
        },
        {
         "type": "scatter",
         "xaxis": "x46",
         "yaxis": "y46"
        },
        {
         "colorbar": {
          "title": {
           "text": "Objective Value"
          }
         },
         "colorscale": [
          [
           0,
           "rgb(247,251,255)"
          ],
          [
           0.125,
           "rgb(222,235,247)"
          ],
          [
           0.25,
           "rgb(198,219,239)"
          ],
          [
           0.375,
           "rgb(158,202,225)"
          ],
          [
           0.5,
           "rgb(107,174,214)"
          ],
          [
           0.625,
           "rgb(66,146,198)"
          ],
          [
           0.75,
           "rgb(33,113,181)"
          ],
          [
           0.875,
           "rgb(8,81,156)"
          ],
          [
           1,
           "rgb(8,48,107)"
          ]
         ],
         "connectgaps": true,
         "contours": {
          "coloring": "heatmap"
         },
         "hoverinfo": "none",
         "line": {
          "smoothing": 1.3
         },
         "reversescale": false,
         "showscale": false,
         "type": "contour",
         "x": [
          0.8,
          1,
          2,
          3,
          4,
          5,
          5.2
         ],
         "xaxis": "x54",
         "y": [
          "Adam",
          "RMSProp",
          "SGD"
         ],
         "yaxis": "y54",
         "z": {
          "bdata": "AAAAAAAA+H9WVVVVVQVTQFZVVVVV9VRAAAAAAAAgVUCqqqqqqhpVQAAAAAAA8FRAAAAAAAAA+H8AAAAAAAD4f6uqqqqq6lRAVVVVVVXlVECqqqqqqnpVQAAAAAAAYFVAVVVVVVWVM0AAAAAAAAD4fwAAAAAAAPh/AAAAAAAA+H8AAAAAAAD4f6uqqqqqWlRAAAAAAADQVECrqqqqqgpPQAAAAAAAAPh/",
          "dtype": "f8",
          "shape": "3, 7"
         }
        },
        {
         "marker": {
          "color": "black",
          "line": {
           "color": "Gray",
           "width": 2
          }
         },
         "mode": "markers",
         "name": "Feasible Trial",
         "showlegend": false,
         "type": "scatter",
         "x": [
          5,
          3,
          4,
          3,
          5,
          5,
          3,
          3,
          1,
          4,
          1,
          2,
          4,
          2,
          2,
          2,
          2,
          1,
          2,
          3,
          3,
          4,
          5,
          4,
          4,
          4,
          4,
          3,
          3,
          3,
          3,
          3,
          3,
          3,
          3,
          3,
          2,
          3,
          3,
          3,
          3,
          3,
          3,
          3,
          2,
          3,
          4,
          5,
          4,
          5
         ],
         "xaxis": "x54",
         "y": [
          "SGD",
          "SGD",
          "SGD",
          "RMSProp",
          "Adam",
          "Adam",
          "SGD",
          "Adam",
          "RMSProp",
          "SGD",
          "Adam",
          "Adam",
          "Adam",
          "Adam",
          "Adam",
          "Adam",
          "Adam",
          "RMSProp",
          "Adam",
          "Adam",
          "RMSProp",
          "Adam",
          "Adam",
          "Adam",
          "Adam",
          "Adam",
          "Adam",
          "Adam",
          "RMSProp",
          "RMSProp",
          "RMSProp",
          "RMSProp",
          "RMSProp",
          "RMSProp",
          "RMSProp",
          "RMSProp",
          "RMSProp",
          "RMSProp",
          "RMSProp",
          "RMSProp",
          "SGD",
          "RMSProp",
          "RMSProp",
          "RMSProp",
          "RMSProp",
          "RMSProp",
          "RMSProp",
          "SGD",
          "RMSProp",
          "RMSProp"
         ],
         "yaxis": "y54"
        },
        {
         "colorbar": {
          "title": {
           "text": "Objective Value"
          }
         },
         "colorscale": [
          [
           0,
           "rgb(247,251,255)"
          ],
          [
           0.125,
           "rgb(222,235,247)"
          ],
          [
           0.25,
           "rgb(198,219,239)"
          ],
          [
           0.375,
           "rgb(158,202,225)"
          ],
          [
           0.5,
           "rgb(107,174,214)"
          ],
          [
           0.625,
           "rgb(66,146,198)"
          ],
          [
           0.75,
           "rgb(33,113,181)"
          ],
          [
           0.875,
           "rgb(8,81,156)"
          ],
          [
           1,
           "rgb(8,48,107)"
          ]
         ],
         "connectgaps": true,
         "contours": {
          "coloring": "heatmap"
         },
         "hoverinfo": "none",
         "line": {
          "smoothing": 1.3
         },
         "reversescale": false,
         "showscale": false,
         "type": "contour",
         "x": [
          0.8,
          1,
          2,
          3,
          4,
          5,
          5.2
         ],
         "xaxis": "x62",
         "y": [
          0.000008542994397936864,
          0.000010695476345287184,
          0.00001149348088047172,
          0.000012094978678250213,
          0.000017267872859730894,
          0.000022964810673419587,
          0.000030442008652608602,
          0.00004417361247719773,
          0.00004584268787355865,
          0.000050280778428755706,
          0.000058718414537544966,
          0.00006204684057371488,
          0.00007479489631463367,
          0.00009140754206228326,
          0.00011139959662371032,
          0.00011267708093824678,
          0.00011413557089106621,
          0.00012039528848626058,
          0.00014911935711649018,
          0.00015348015683398566,
          0.0001659374738876341,
          0.0002003891046446997,
          0.00020443510150137817,
          0.0002675833225815239,
          0.00027100619377422747,
          0.00027132936748607814,
          0.00031414855097441387,
          0.0003360937164140219,
          0.0003646064116017021,
          0.0004121644255438535,
          0.0004458520025100744,
          0.000474271322805089,
          0.0004833915256556394,
          0.0004932668772810958,
          0.000539256460634418,
          0.0005571718181379366,
          0.000564202750805794,
          0.0005856060447330134,
          0.0006030572806877948,
          0.0006554424691858177,
          0.0006656089257060337,
          0.0006881625028625726,
          0.0006924466498844899,
          0.0007533931873569096,
          0.0007613554698886802,
          0.000778259660661666,
          0.0008083603457803395,
          0.0008577872009375,
          0.0009174670220593022,
          0.00094095705324019,
          0.0009571948007830283,
          0.0011983683791340358
         ],
         "yaxis": "y62",
         "z": {
          "bdata": "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",
          "dtype": "f8",
          "shape": "52, 7"
         }
        },
        {
         "marker": {
          "color": "black",
          "line": {
           "color": "Gray",
           "width": 2
          }
         },
         "mode": "markers",
         "name": "Feasible Trial",
         "showlegend": false,
         "type": "scatter",
         "x": [
          5,
          3,
          4,
          3,
          5,
          5,
          3,
          3,
          1,
          4,
          1,
          2,
          4,
          2,
          2,
          2,
          2,
          1,
          2,
          3,
          3,
          4,
          5,
          4,
          4,
          4,
          4,
          3,
          3,
          3,
          3,
          3,
          3,
          3,
          3,
          3,
          2,
          3,
          3,
          3,
          3,
          3,
          3,
          3,
          2,
          3,
          4,
          5,
          4,
          5
         ],
         "xaxis": "x62",
         "y": [
          0.0006030572806877948,
          0.000017267872859730894,
          0.0002003891046446997,
          0.0002675833225815239,
          0.000058718414537544966,
          0.0004932668772810958,
          0.00004417361247719773,
          0.00012039528848626058,
          0.0006924466498844899,
          0.0009174670220593022,
          0.00011267708093824678,
          0.00004584268787355865,
          0.000050280778428755706,
          0.000010695476345287184,
          0.000022964810673419587,
          0.000012094978678250213,
          0.00011139959662371032,
          0.00020443510150137817,
          0.000030442008652608602,
          0.00001149348088047172,
          0.00009140754206228326,
          0.00007479489631463367,
          0.0001659374738876341,
          0.00006204684057371488,
          0.00031414855097441387,
          0.0003646064116017021,
          0.0003360937164140219,
          0.00011413557089106621,
          0.00015348015683398566,
          0.00014911935711649018,
          0.000474271322805089,
          0.0004458520025100744,
          0.00027132936748607814,
          0.0006881625028625726,
          0.0006656089257060337,
          0.0008577872009375,
          0.00094095705324019,
          0.0006554424691858177,
          0.0004833915256556394,
          0.0007613554698886802,
          0.0005571718181379366,
          0.0007533931873569096,
          0.0004121644255438535,
          0.000564202750805794,
          0.0005856060447330134,
          0.0009571948007830283,
          0.000778259660661666,
          0.000539256460634418,
          0.0008083603457803395,
          0.00027100619377422747
         ],
         "yaxis": "y62"
        },
        {
         "colorbar": {
          "title": {
           "text": "Objective Value"
          }
         },
         "colorscale": [
          [
           0,
           "rgb(247,251,255)"
          ],
          [
           0.125,
           "rgb(222,235,247)"
          ],
          [
           0.25,
           "rgb(198,219,239)"
          ],
          [
           0.375,
           "rgb(158,202,225)"
          ],
          [
           0.5,
           "rgb(107,174,214)"
          ],
          [
           0.625,
           "rgb(66,146,198)"
          ],
          [
           0.75,
           "rgb(33,113,181)"
          ],
          [
           0.875,
           "rgb(8,81,156)"
          ],
          [
           1,
           "rgb(8,48,107)"
          ]
         ],
         "connectgaps": true,
         "contours": {
          "coloring": "heatmap"
         },
         "hoverinfo": "none",
         "line": {
          "smoothing": 1.3
         },
         "reversescale": false,
         "showscale": false,
         "type": "contour",
         "x": [
          "Adam",
          "RMSProp",
          "SGD"
         ],
         "xaxis": "x7",
         "y": [
          10.399999999999999,
          16,
          32,
          64,
          128,
          133.6
         ],
         "yaxis": "y7",
         "z": {
          "bdata": "AAAAAAAA+H8AAAAAAAD4fwAAAAAAAPh/AAAAAAAQVUCqqqqqqnpVQKuqqqqqWlRAVVVVVVUFVUAAAAAAAAD4fwAAAAAA0FRAAAAAAABAVEBWVVVVVTVVQKuqqqqqCk9AAAAAAAAgVUCrqqqqqjpUQAAAAAAAAPh/AAAAAAAA+H8AAAAAAAD4fwAAAAAAAPh/",
          "dtype": "f8",
          "shape": "6, 3"
         }
        },
        {
         "marker": {
          "color": "black",
          "line": {
           "color": "Gray",
           "width": 2
          }
         },
         "mode": "markers",
         "name": "Feasible Trial",
         "showlegend": false,
         "type": "scatter",
         "x": [
          "SGD",
          "SGD",
          "SGD",
          "RMSProp",
          "Adam",
          "Adam",
          "SGD",
          "Adam",
          "RMSProp",
          "SGD",
          "Adam",
          "Adam",
          "Adam",
          "Adam",
          "Adam",
          "Adam",
          "Adam",
          "RMSProp",
          "Adam",
          "Adam",
          "RMSProp",
          "Adam",
          "Adam",
          "Adam",
          "Adam",
          "Adam",
          "Adam",
          "Adam",
          "RMSProp",
          "RMSProp",
          "RMSProp",
          "RMSProp",
          "RMSProp",
          "RMSProp",
          "RMSProp",
          "RMSProp",
          "RMSProp",
          "RMSProp",
          "RMSProp",
          "RMSProp",
          "SGD",
          "RMSProp",
          "RMSProp",
          "RMSProp",
          "RMSProp",
          "RMSProp",
          "RMSProp",
          "SGD",
          "RMSProp",
          "RMSProp"
         ],
         "xaxis": "x7",
         "y": [
          64,
          32,
          32,
          16,
          32,
          128,
          16,
          128,
          16,
          64,
          128,
          32,
          128,
          128,
          128,
          128,
          128,
          128,
          128,
          64,
          128,
          32,
          32,
          32,
          128,
          32,
          64,
          16,
          16,
          16,
          16,
          16,
          16,
          16,
          16,
          16,
          16,
          16,
          16,
          16,
          16,
          16,
          16,
          16,
          16,
          16,
          16,
          16,
          64,
          16
         ],
         "yaxis": "y7"
        },
        {
         "colorbar": {
          "title": {
           "text": "Objective Value"
          }
         },
         "colorscale": [
          [
           0,
           "rgb(247,251,255)"
          ],
          [
           0.125,
           "rgb(222,235,247)"
          ],
          [
           0.25,
           "rgb(198,219,239)"
          ],
          [
           0.375,
           "rgb(158,202,225)"
          ],
          [
           0.5,
           "rgb(107,174,214)"
          ],
          [
           0.625,
           "rgb(66,146,198)"
          ],
          [
           0.75,
           "rgb(33,113,181)"
          ],
          [
           0.875,
           "rgb(8,81,156)"
          ],
          [
           1,
           "rgb(8,48,107)"
          ]
         ],
         "connectgaps": true,
         "contours": {
          "coloring": "heatmap"
         },
         "hoverinfo": "none",
         "line": {
          "smoothing": 1.3
         },
         "reversescale": false,
         "showscale": false,
         "type": "contour",
         "x": [
          "Adam",
          "RMSProp",
          "SGD"
         ],
         "xaxis": "x15",
         "y": [
          0.08,
          0.1,
          0.2,
          0.30000000000000004,
          0.4,
          0.5,
          0.52
         ],
         "yaxis": "y15",
         "z": {
          "bdata": "AAAAAAAA+H8AAAAAAAD4fwAAAAAAAPh/q6qqqqpaVECqqqqqqnpVQAAAAAAA0FRAAAAAAAAgVUAAAAAAAAD4fwAAAAAAAPh/AAAAAADwVEAAAAAAAAD4fwAAAAAAAPh/AAAAAAAA+H+rqqqqqupUQKuqqqqqCk9AAAAAAAAA+H9VVVVVVaVSQKqqqqqqqi9AAAAAAAAA+H8AAAAAAAD4fwAAAAAAAPh/",
          "dtype": "f8",
          "shape": "7, 3"
         }
        },
        {
         "marker": {
          "color": "black",
          "line": {
           "color": "Gray",
           "width": 2
          }
         },
         "mode": "markers",
         "name": "Feasible Trial",
         "showlegend": false,
         "type": "scatter",
         "x": [
          "SGD",
          "SGD",
          "SGD",
          "RMSProp",
          "Adam",
          "Adam",
          "SGD",
          "Adam",
          "RMSProp",
          "SGD",
          "Adam",
          "Adam",
          "Adam",
          "Adam",
          "Adam",
          "Adam",
          "Adam",
          "RMSProp",
          "Adam",
          "Adam",
          "RMSProp",
          "Adam",
          "Adam",
          "Adam",
          "Adam",
          "Adam",
          "Adam",
          "Adam",
          "RMSProp",
          "RMSProp",
          "RMSProp",
          "RMSProp",
          "RMSProp",
          "RMSProp",
          "RMSProp",
          "RMSProp",
          "RMSProp",
          "RMSProp",
          "RMSProp",
          "RMSProp",
          "SGD",
          "RMSProp",
          "RMSProp",
          "RMSProp",
          "RMSProp",
          "RMSProp",
          "RMSProp",
          "SGD",
          "RMSProp",
          "RMSProp"
         ],
         "xaxis": "x15",
         "y": [
          0.4,
          0.1,
          0.1,
          0.4,
          0.30000000000000004,
          0.30000000000000004,
          0.1,
          0.2,
          0.4,
          0.5,
          0.2,
          0.2,
          0.30000000000000004,
          0.2,
          0.2,
          0.2,
          0.2,
          0.1,
          0.2,
          0.30000000000000004,
          0.5,
          0.30000000000000004,
          0.30000000000000004,
          0.2,
          0.2,
          0.1,
          0.2,
          0.2,
          0.1,
          0.1,
          0.1,
          0.1,
          0.1,
          0.1,
          0.1,
          0.1,
          0.1,
          0.1,
          0.1,
          0.1,
          0.1,
          0.1,
          0.1,
          0.1,
          0.1,
          0.1,
          0.1,
          0.1,
          0.1,
          0.4
         ],
         "yaxis": "y15"
        },
        {
         "colorbar": {
          "title": {
           "text": "Objective Value"
          }
         },
         "colorscale": [
          [
           0,
           "rgb(247,251,255)"
          ],
          [
           0.125,
           "rgb(222,235,247)"
          ],
          [
           0.25,
           "rgb(198,219,239)"
          ],
          [
           0.375,
           "rgb(158,202,225)"
          ],
          [
           0.5,
           "rgb(107,174,214)"
          ],
          [
           0.625,
           "rgb(66,146,198)"
          ],
          [
           0.75,
           "rgb(33,113,181)"
          ],
          [
           0.875,
           "rgb(8,81,156)"
          ],
          [
           1,
           "rgb(8,48,107)"
          ]
         ],
         "connectgaps": true,
         "contours": {
          "coloring": "heatmap"
         },
         "hoverinfo": "none",
         "line": {
          "smoothing": 1.3
         },
         "reversescale": false,
         "showscale": false,
         "type": "contour",
         "x": [
          "Adam",
          "RMSProp",
          "SGD"
         ],
         "xaxis": "x23",
         "y": [
          8,
          10,
          20,
          30,
          40,
          50,
          52
         ],
         "yaxis": "y23",
         "z": {
          "bdata": "AAAAAAAA+H8AAAAAAAD4fwAAAAAAAPh/AAAAAADwVEAAAAAAAAD4f6uqqqqqWlRAqqqqqqoaVUAAAAAAAGBVQKqqqqqqqi9AAAAAAAAQVUCqqqqqqnpVQAAAAAAAAPh/VlVVVVX1VEAAAAAAAAD4fwAAAAAA0FRAAAAAAAAgVUCrqqqqqjpUQKqqqqqqSkdAAAAAAAAA+H8AAAAAAAD4fwAAAAAAAPh/",
          "dtype": "f8",
          "shape": "7, 3"
         }
        },
        {
         "marker": {
          "color": "black",
          "line": {
           "color": "Gray",
           "width": 2
          }
         },
         "mode": "markers",
         "name": "Feasible Trial",
         "showlegend": false,
         "type": "scatter",
         "x": [
          "SGD",
          "SGD",
          "SGD",
          "RMSProp",
          "Adam",
          "Adam",
          "SGD",
          "Adam",
          "RMSProp",
          "SGD",
          "Adam",
          "Adam",
          "Adam",
          "Adam",
          "Adam",
          "Adam",
          "Adam",
          "RMSProp",
          "Adam",
          "Adam",
          "RMSProp",
          "Adam",
          "Adam",
          "Adam",
          "Adam",
          "Adam",
          "Adam",
          "Adam",
          "RMSProp",
          "RMSProp",
          "RMSProp",
          "RMSProp",
          "RMSProp",
          "RMSProp",
          "RMSProp",
          "RMSProp",
          "RMSProp",
          "RMSProp",
          "RMSProp",
          "RMSProp",
          "SGD",
          "RMSProp",
          "RMSProp",
          "RMSProp",
          "RMSProp",
          "RMSProp",
          "RMSProp",
          "SGD",
          "RMSProp",
          "RMSProp"
         ],
         "xaxis": "x23",
         "y": [
          10,
          50,
          40,
          30,
          10,
          50,
          10,
          50,
          30,
          20,
          40,
          20,
          20,
          40,
          40,
          50,
          40,
          50,
          40,
          50,
          30,
          10,
          40,
          20,
          20,
          20,
          20,
          30,
          30,
          30,
          30,
          30,
          30,
          30,
          30,
          30,
          30,
          30,
          30,
          30,
          40,
          30,
          30,
          30,
          30,
          20,
          20,
          10,
          20,
          20
         ],
         "yaxis": "y23"
        },
        {
         "colorbar": {
          "title": {
           "text": "Objective Value"
          }
         },
         "colorscale": [
          [
           0,
           "rgb(247,251,255)"
          ],
          [
           0.125,
           "rgb(222,235,247)"
          ],
          [
           0.25,
           "rgb(198,219,239)"
          ],
          [
           0.375,
           "rgb(158,202,225)"
          ],
          [
           0.5,
           "rgb(107,174,214)"
          ],
          [
           0.625,
           "rgb(66,146,198)"
          ],
          [
           0.75,
           "rgb(33,113,181)"
          ],
          [
           0.875,
           "rgb(8,81,156)"
          ],
          [
           1,
           "rgb(8,48,107)"
          ]
         ],
         "connectgaps": true,
         "contours": {
          "coloring": "heatmap"
         },
         "hoverinfo": "none",
         "line": {
          "smoothing": 1.3
         },
         "reversescale": false,
         "showscale": false,
         "type": "contour",
         "x": [
          "Adam",
          "RMSProp",
          "SGD"
         ],
         "xaxis": "x31",
         "y": [
          0.000007072541283187389,
          0.00001110376978598369,
          0.000011950548462899992,
          0.000019123060851291802,
          0.000019860708707177768,
          0.000020040668531992272,
          0.00002163872549261281,
          0.00002390330078323597,
          0.00002612835183017675,
          0.000029404095527833733,
          0.00003479474879252498,
          0.00003520663293231582,
          0.000036220252965558876,
          0.000041877331510834896,
          0.000048620371257514394,
          0.000050611394602106545,
          0.00005208430975733577,
          0.00006625963744085291,
          0.00006669238216103824,
          0.00006987056210679689,
          0.00007598827625271952,
          0.00009047445070254732,
          0.00009857550141699971,
          0.00011939965426894092,
          0.00012163946485690261,
          0.00013352630362784012,
          0.00015050344330720008,
          0.00015335460642411939,
          0.0001902712069056088,
          0.00019989475930067544,
          0.00025476220795954977,
          0.0002617809684685859,
          0.0002881825011836019,
          0.00037465546882200145,
          0.00046290239796682167,
          0.0005223371831123543,
          0.0006379538142827019,
          0.0007397601677843805,
          0.0012757896201358236,
          0.001571749776249777,
          0.0019110286305313027,
          0.0021495967704226824,
          0.0024602413983781995,
          0.003911426777511212,
          0.0043321695035891845,
          0.005100990188563874,
          0.009696413197862666,
          0.019415699317830708,
          0.02264213245096893,
          0.0726475000829205,
          0.09191144747250399,
          0.14429941269586738
         ],
         "yaxis": "y31",
         "z": {
          "bdata": "AAAAAAAA+H8AAAAAAAD4fwAAAAAAAPh/AAAAAAAA+H+rqqqqqnpUQAAAAAAAAPh/AAAAAAAA+H8AAAAAAJBUQAAAAAAAAPh/AAAAAAAA+H9VVVVVVRVTQAAAAAAAAPh/AAAAAAAA+H8AAAAAAAD4f6qqqqqqSkdAAAAAAAAA+H9VVVVVVeVUQAAAAAAAAPh/AAAAAAAA+H+rqqqqqjpUQAAAAAAAAPh/AAAAAAAA+H8AAAAAAEBVQAAAAAAAAPh/AAAAAAAA+H+rqqqqqspUQAAAAAAAAPh/AAAAAAAA+H8AAAAAAOBUQAAAAAAAAPh/AAAAAAAA+H+qqqqqqnpVQAAAAAAAAPh/AAAAAAAA+H9VVVVVVaVSQAAAAAAAAPh/AAAAAAAA+H9WVVVVVTVVQAAAAAAAAPh/AAAAAAAA+H+rqqqqqgpVQAAAAAAAAPh/AAAAAAAA+H9WVVVVVfVUQAAAAAAAAPh/AAAAAAAA+H9WVVVVVTVVQAAAAAAAAPh/AAAAAABAVEAAAAAAAAD4fwAAAAAAAPh/AAAAAAAA+H8AAAAAAAD4f6uqqqqqykpAAAAAAAAA+H8AAAAAAGBVQAAAAAAAAPh/AAAAAAAA+H8AAAAAAAD4f1VVVVVVhVJAAAAAAAAA+H8AAAAAAAD4f6qqqqqqqi9AVVVVVVWFVEAAAAAAAAD4fwAAAAAAAPh/AAAAAAAA+H9WVVVVVTVVQAAAAAAAAPh/AAAAAAAA+H8AAAAAAMBUQAAAAAAAAPh/AAAAAAAA+H+rqqqqqupUQAAAAAAAAPh/AAAAAAAA+H+rqqqqqupUQAAAAAAAAPh/AAAAAAAA+H8AAAAAADBVQAAAAAAAAPh/AAAAAAAA+H8AAAAAAGBVQAAAAAAAAPh/VlVVVVX1VEAAAAAAAAD4fwAAAAAAAPh/qqqqqqoaVUAAAAAAAAD4fwAAAAAAAPh/q6qqqqqqVEAAAAAAAAD4fwAAAAAAAPh/q6qqqqqKVEAAAAAAAAD4fwAAAAAAAPh/AAAAAAAQVUAAAAAAAAD4fwAAAAAAAPh/VVVVVVUFVUAAAAAAAAD4fwAAAAAAAPh/q6qqqqqKVEAAAAAAAAD4fwAAAAAAAPh/VlVVVVUFU0AAAAAAAAD4fwAAAAAAAPh/AAAAAADwVEAAAAAAAAD4fwAAAAAAAPh/AAAAAADwVEAAAAAAAAD4fwAAAAAAAPh/VVVVVVXFVEAAAAAAAAD4fwAAAAAAAPh/AAAAAAAA+H8AAAAAAJBUQAAAAAAAAPh/AAAAAAAgVUAAAAAAAAD4fwAAAAAAAPh/q6qqqqpaVEAAAAAAAAD4fwAAAAAAAPh/VlVVVVWVVEAAAAAAAAD4fwAAAAAAAPh/AAAAAAAA+H9VVVVVVYVUQAAAAAAAAPh/qqqqqqraVEAAAAAAAAD4fwAAAAAAAPh/AAAAAAAA+H8AAAAAAAD4f6uqqqqqCk9AAAAAAAAA+H8AAAAAAAD4fwAAAAAA0FRAAAAAAAAgVEAAAAAAAAD4fwAAAAAAAPh/VVVVVVUlUkAAAAAAAAD4fwAAAAAAAPh/AAAAAAAA+H8AAAAAAAD4f6uqqqqqWlRAAAAAAAAA+H9VVVVVVZUzQAAAAAAAAPh/AAAAAAAA+H8AAAAAAAD4fwAAAAAAAPh/",
          "dtype": "f8",
          "shape": "52, 3"
         }
        },
        {
         "marker": {
          "color": "black",
          "line": {
           "color": "Gray",
           "width": 2
          }
         },
         "mode": "markers",
         "name": "Feasible Trial",
         "showlegend": false,
         "type": "scatter",
         "x": [
          "SGD",
          "SGD",
          "SGD",
          "RMSProp",
          "Adam",
          "Adam",
          "SGD",
          "Adam",
          "RMSProp",
          "SGD",
          "Adam",
          "Adam",
          "Adam",
          "Adam",
          "Adam",
          "Adam",
          "Adam",
          "RMSProp",
          "Adam",
          "Adam",
          "RMSProp",
          "Adam",
          "Adam",
          "Adam",
          "Adam",
          "Adam",
          "Adam",
          "Adam",
          "RMSProp",
          "RMSProp",
          "RMSProp",
          "RMSProp",
          "RMSProp",
          "RMSProp",
          "RMSProp",
          "RMSProp",
          "RMSProp",
          "RMSProp",
          "RMSProp",
          "RMSProp",
          "SGD",
          "RMSProp",
          "RMSProp",
          "RMSProp",
          "RMSProp",
          "RMSProp",
          "RMSProp",
          "SGD",
          "RMSProp",
          "RMSProp"
         ],
         "xaxis": "x31",
         "y": [
          0.005100990188563874,
          0.000019860708707177768,
          0.009696413197862666,
          0.001571749776249777,
          0.0006379538142827019,
          0.02264213245096893,
          0.0726475000829205,
          0.0019110286305313027,
          0.00012163946485690261,
          0.00007598827625271952,
          0.0005223371831123543,
          0.0007397601677843805,
          0.0024602413983781995,
          0.0001902712069056088,
          0.00009047445070254732,
          0.00025476220795954977,
          0.0043321695035891845,
          0.00002163872549261281,
          0.0002617809684685859,
          0.019415699317830708,
          0.00003520663293231582,
          0.00046290239796682167,
          0.0012757896201358236,
          0.00037465546882200145,
          0.00019989475930067544,
          0.0021495967704226824,
          0.00005208430975733577,
          0.0002881825011836019,
          0.00015050344330720008,
          0.003911426777511212,
          0.00015335460642411939,
          0.00001110376978598369,
          0.00013352630362784012,
          0.000050611394602106545,
          0.000036220252965558876,
          0.00003479474879252498,
          0.000029404095527833733,
          0.000011950548462899992,
          0.000048620371257514394,
          0.000019123060851291802,
          0.00006987056210679689,
          0.00011939965426894092,
          0.000041877331510834896,
          0.00002390330078323597,
          0.000020040668531992272,
          0.00002612835183017675,
          0.00006669238216103824,
          0.00006625963744085291,
          0.00009857550141699971,
          0.09191144747250399
         ],
         "yaxis": "y31"
        },
        {
         "colorbar": {
          "title": {
           "text": "Objective Value"
          }
         },
         "colorscale": [
          [
           0,
           "rgb(247,251,255)"
          ],
          [
           0.125,
           "rgb(222,235,247)"
          ],
          [
           0.25,
           "rgb(198,219,239)"
          ],
          [
           0.375,
           "rgb(158,202,225)"
          ],
          [
           0.5,
           "rgb(107,174,214)"
          ],
          [
           0.625,
           "rgb(66,146,198)"
          ],
          [
           0.75,
           "rgb(33,113,181)"
          ],
          [
           0.875,
           "rgb(8,81,156)"
          ],
          [
           1,
           "rgb(8,48,107)"
          ]
         ],
         "connectgaps": true,
         "contours": {
          "coloring": "heatmap"
         },
         "hoverinfo": "none",
         "line": {
          "smoothing": 1.3
         },
         "reversescale": false,
         "showscale": false,
         "type": "contour",
         "x": [
          "Adam",
          "RMSProp",
          "SGD"
         ],
         "xaxis": "x39",
         "y": [
          2,
          8,
          24,
          32,
          40,
          48,
          56,
          64,
          72,
          80,
          88,
          96,
          104,
          112,
          120,
          128,
          134
         ],
         "yaxis": "y39",
         "z": {
          "bdata": "AAAAAAAA+H8AAAAAAAD4fwAAAAAAAPh/VlVVVVUFU0AAAAAAAAD4fwAAAAAAAPh/AAAAAAAA+H9VVVVVVRVTQAAAAAAAAPh/AAAAAAAA+H8AAAAAAAD4f6qqqqqqSkdAq6qqqqqKVEAAAAAAAAD4fwAAAAAAAPh/q6qqqqqqVEAAAAAAAAD4fwAAAAAAAPh/VlVVVVWVVEAAAAAAAAD4fwAAAAAAAPh/AAAAAAAA+H8AAAAAAAD4f6qqqqqqqi9AAAAAAAAA+H+rqqqqqjpUQAAAAAAA0FRAAAAAAABAVEAAAAAAAAD4fwAAAAAAAPh/AAAAAAAgVUAAAAAAAAD4fwAAAAAAAPh/VlVVVVX1VEAAAAAAAAD4f6uqqqqqykpAqqqqqqoaVUCrqqqqqspUQKuqqqqqCk9AAAAAAADwVEAAAAAAAGBVQAAAAAAAAPh/AAAAAAAA+H+qqqqqqnpVQFVVVVVVhVJAVVVVVVXFVECrqqqqqgpVQKuqqqqqWlRAAAAAAAAA+H8AAAAAAAD4fwAAAAAAAPh/",
          "dtype": "f8",
          "shape": "17, 3"
         }
        },
        {
         "marker": {
          "color": "black",
          "line": {
           "color": "Gray",
           "width": 2
          }
         },
         "mode": "markers",
         "name": "Feasible Trial",
         "showlegend": false,
         "type": "scatter",
         "x": [
          "SGD",
          "SGD",
          "SGD",
          "RMSProp",
          "Adam",
          "Adam",
          "SGD",
          "Adam",
          "RMSProp",
          "SGD",
          "Adam",
          "Adam",
          "Adam",
          "Adam",
          "Adam",
          "Adam",
          "Adam",
          "RMSProp",
          "Adam",
          "Adam",
          "RMSProp",
          "Adam",
          "Adam",
          "Adam",
          "Adam",
          "Adam",
          "Adam",
          "Adam",
          "RMSProp",
          "RMSProp",
          "RMSProp",
          "RMSProp",
          "RMSProp",
          "RMSProp",
          "RMSProp",
          "RMSProp",
          "RMSProp",
          "RMSProp",
          "RMSProp",
          "RMSProp",
          "SGD",
          "RMSProp",
          "RMSProp",
          "RMSProp",
          "RMSProp",
          "RMSProp",
          "RMSProp",
          "SGD",
          "RMSProp",
          "RMSProp"
         ],
         "xaxis": "x39",
         "y": [
          104,
          32,
          72,
          112,
          112,
          88,
          128,
          88,
          120,
          64,
          8,
          88,
          56,
          96,
          88,
          48,
          96,
          72,
          40,
          80,
          104,
          112,
          128,
          104,
          104,
          96,
          80,
          104,
          120,
          120,
          120,
          120,
          128,
          112,
          120,
          120,
          112,
          128,
          112,
          24,
          120,
          120,
          128,
          112,
          112,
          104,
          112,
          96,
          112,
          128
         ],
         "yaxis": "y39"
        },
        {
         "colorbar": {
          "title": {
           "text": "Objective Value"
          }
         },
         "colorscale": [
          [
           0,
           "rgb(247,251,255)"
          ],
          [
           0.125,
           "rgb(222,235,247)"
          ],
          [
           0.25,
           "rgb(198,219,239)"
          ],
          [
           0.375,
           "rgb(158,202,225)"
          ],
          [
           0.5,
           "rgb(107,174,214)"
          ],
          [
           0.625,
           "rgb(66,146,198)"
          ],
          [
           0.75,
           "rgb(33,113,181)"
          ],
          [
           0.875,
           "rgb(8,81,156)"
          ],
          [
           1,
           "rgb(8,48,107)"
          ]
         ],
         "connectgaps": true,
         "contours": {
          "coloring": "heatmap"
         },
         "hoverinfo": "none",
         "line": {
          "smoothing": 1.3
         },
         "reversescale": false,
         "showscale": false,
         "type": "contour",
         "x": [
          "Adam",
          "RMSProp",
          "SGD"
         ],
         "xaxis": "x47",
         "y": [
          0.8,
          1,
          2,
          3,
          4,
          5,
          5.2
         ],
         "yaxis": "y47",
         "z": {
          "bdata": "AAAAAAAA+H8AAAAAAAD4fwAAAAAAAPh/VlVVVVUFU0CrqqqqqupUQAAAAAAAAPh/VlVVVVX1VEBVVVVVVeVUQAAAAAAAAPh/AAAAAAAgVUCqqqqqqnpVQKuqqqqqWlRAqqqqqqoaVUAAAAAAAGBVQAAAAAAA0FRAAAAAAADwVEBVVVVVVZUzQKuqqqqqCk9AAAAAAAAA+H8AAAAAAAD4fwAAAAAAAPh/",
          "dtype": "f8",
          "shape": "7, 3"
         }
        },
        {
         "marker": {
          "color": "black",
          "line": {
           "color": "Gray",
           "width": 2
          }
         },
         "mode": "markers",
         "name": "Feasible Trial",
         "showlegend": false,
         "type": "scatter",
         "x": [
          "SGD",
          "SGD",
          "SGD",
          "RMSProp",
          "Adam",
          "Adam",
          "SGD",
          "Adam",
          "RMSProp",
          "SGD",
          "Adam",
          "Adam",
          "Adam",
          "Adam",
          "Adam",
          "Adam",
          "Adam",
          "RMSProp",
          "Adam",
          "Adam",
          "RMSProp",
          "Adam",
          "Adam",
          "Adam",
          "Adam",
          "Adam",
          "Adam",
          "Adam",
          "RMSProp",
          "RMSProp",
          "RMSProp",
          "RMSProp",
          "RMSProp",
          "RMSProp",
          "RMSProp",
          "RMSProp",
          "RMSProp",
          "RMSProp",
          "RMSProp",
          "RMSProp",
          "SGD",
          "RMSProp",
          "RMSProp",
          "RMSProp",
          "RMSProp",
          "RMSProp",
          "RMSProp",
          "SGD",
          "RMSProp",
          "RMSProp"
         ],
         "xaxis": "x47",
         "y": [
          5,
          3,
          4,
          3,
          5,
          5,
          3,
          3,
          1,
          4,
          1,
          2,
          4,
          2,
          2,
          2,
          2,
          1,
          2,
          3,
          3,
          4,
          5,
          4,
          4,
          4,
          4,
          3,
          3,
          3,
          3,
          3,
          3,
          3,
          3,
          3,
          2,
          3,
          3,
          3,
          3,
          3,
          3,
          3,
          2,
          3,
          4,
          5,
          4,
          5
         ],
         "yaxis": "y47"
        },
        {
         "type": "scatter",
         "xaxis": "x55",
         "yaxis": "y55"
        },
        {
         "colorbar": {
          "title": {
           "text": "Objective Value"
          }
         },
         "colorscale": [
          [
           0,
           "rgb(247,251,255)"
          ],
          [
           0.125,
           "rgb(222,235,247)"
          ],
          [
           0.25,
           "rgb(198,219,239)"
          ],
          [
           0.375,
           "rgb(158,202,225)"
          ],
          [
           0.5,
           "rgb(107,174,214)"
          ],
          [
           0.625,
           "rgb(66,146,198)"
          ],
          [
           0.75,
           "rgb(33,113,181)"
          ],
          [
           0.875,
           "rgb(8,81,156)"
          ],
          [
           1,
           "rgb(8,48,107)"
          ]
         ],
         "connectgaps": true,
         "contours": {
          "coloring": "heatmap"
         },
         "hoverinfo": "none",
         "line": {
          "smoothing": 1.3
         },
         "reversescale": false,
         "showscale": false,
         "type": "contour",
         "x": [
          "Adam",
          "RMSProp",
          "SGD"
         ],
         "xaxis": "x63",
         "y": [
          0.000008542994397936864,
          0.000010695476345287184,
          0.00001149348088047172,
          0.000012094978678250213,
          0.000017267872859730894,
          0.000022964810673419587,
          0.000030442008652608602,
          0.00004417361247719773,
          0.00004584268787355865,
          0.000050280778428755706,
          0.000058718414537544966,
          0.00006204684057371488,
          0.00007479489631463367,
          0.00009140754206228326,
          0.00011139959662371032,
          0.00011267708093824678,
          0.00011413557089106621,
          0.00012039528848626058,
          0.00014911935711649018,
          0.00015348015683398566,
          0.0001659374738876341,
          0.0002003891046446997,
          0.00020443510150137817,
          0.0002675833225815239,
          0.00027100619377422747,
          0.00027132936748607814,
          0.00031414855097441387,
          0.0003360937164140219,
          0.0003646064116017021,
          0.0004121644255438535,
          0.0004458520025100744,
          0.000474271322805089,
          0.0004833915256556394,
          0.0004932668772810958,
          0.000539256460634418,
          0.0005571718181379366,
          0.000564202750805794,
          0.0005856060447330134,
          0.0006030572806877948,
          0.0006554424691858177,
          0.0006656089257060337,
          0.0006881625028625726,
          0.0006924466498844899,
          0.0007533931873569096,
          0.0007613554698886802,
          0.000778259660661666,
          0.0008083603457803395,
          0.0008577872009375,
          0.0009174670220593022,
          0.00094095705324019,
          0.0009571948007830283,
          0.0011983683791340358
         ],
         "yaxis": "y63",
         "z": {
          "bdata": "AAAAAAAA+H8AAAAAAAD4fwAAAAAAAPh/VlVVVVX1VEAAAAAAAAD4fwAAAAAAAPh/AAAAAAAgVEAAAAAAAAD4fwAAAAAAAPh/q6qqqqqqVEAAAAAAAAD4fwAAAAAAAPh/AAAAAAAA+H8AAAAAAAD4f6qqqqqqSkdAVVVVVVWFVEAAAAAAAAD4fwAAAAAAAPh/q6qqqqqKVEAAAAAAAAD4fwAAAAAAAPh/AAAAAAAA+H8AAAAAAAD4f6uqqqqqWlRAAAAAAADwVEAAAAAAAAD4fwAAAAAAAPh/VlVVVVWVVEAAAAAAAAD4fwAAAAAAAPh/AAAAAADwVEAAAAAAAAD4fwAAAAAAAPh/VVVVVVUFVUAAAAAAAAD4fwAAAAAAAPh/q6qqqqqKVEAAAAAAAAD4fwAAAAAAAPh/AAAAAAAA+H9VVVVVVaVSQAAAAAAAAPh/qqqqqqraVEAAAAAAAAD4fwAAAAAAAPh/VlVVVVUFU0AAAAAAAAD4fwAAAAAAAPh/AAAAAAAQVUAAAAAAAAD4fwAAAAAAAPh/AAAAAAAgVUAAAAAAAAD4fwAAAAAAAPh/AAAAAAAA+H9VVVVVVYVUQAAAAAAAAPh/AAAAAAAA+H8AAAAAADBVQAAAAAAAAPh/VVVVVVXFVEAAAAAAAAD4fwAAAAAAAPh/AAAAAAAA+H8AAAAAAAD4fwAAAAAA0FRAAAAAAAAA+H+rqqqqqjpUQAAAAAAAAPh/AAAAAAAA+H8AAAAAAJBUQAAAAAAAAPh/AAAAAAAA+H9VVVVVVZUzQAAAAAAAAPh/AAAAAAAA+H+rqqqqqupUQAAAAAAAAPh/qqqqqqoaVUAAAAAAAAD4fwAAAAAAAPh/AAAAAABAVEAAAAAAAAD4fwAAAAAAAPh/q6qqqqpaVEAAAAAAAAD4fwAAAAAAAPh/AAAAAAAA+H+rqqqqqgpVQAAAAAAAAPh/AAAAAAAA+H+rqqqqqnpUQAAAAAAAAPh/AAAAAAAA+H8AAAAAAGBVQAAAAAAAAPh/AAAAAAAA+H9WVVVVVfVUQAAAAAAAAPh/VVVVVVUlUkAAAAAAAAD4fwAAAAAAAPh/AAAAAAAA+H8AAAAAAAD4f6uqqqqqykpAAAAAAAAA+H8AAAAAAAD4f1VVVVVVhVJAAAAAAAAA+H8AAAAAAEBVQAAAAAAAAPh/AAAAAAAA+H9VVVVVVeVUQAAAAAAAAPh/AAAAAAAA+H8AAAAAAAD4f6uqqqqqCk9AAAAAAAAA+H8AAAAAAJBUQAAAAAAAAPh/AAAAAAAA+H9WVVVVVTVVQAAAAAAAAPh/AAAAAAAA+H9WVVVVVTVVQAAAAAAAAPh/AAAAAAAA+H+rqqqqqupUQAAAAAAAAPh/AAAAAAAA+H8AAAAAAMBUQAAAAAAAAPh/AAAAAAAA+H9VVVVVVRVTQAAAAAAAAPh/AAAAAAAA+H8AAAAAAGBVQAAAAAAAAPh/AAAAAAAA+H9WVVVVVTVVQAAAAAAAAPh/AAAAAAAA+H+qqqqqqnpVQAAAAAAAAPh/AAAAAAAA+H8AAAAAAAD4f6qqqqqqqi9AAAAAAAAA+H8AAAAAAOBUQAAAAAAAAPh/AAAAAAAA+H+rqqqqqspUQAAAAAAAAPh/AAAAAAAA+H8AAAAAAAD4fwAAAAAAAPh/",
          "dtype": "f8",
          "shape": "52, 3"
         }
        },
        {
         "marker": {
          "color": "black",
          "line": {
           "color": "Gray",
           "width": 2
          }
         },
         "mode": "markers",
         "name": "Feasible Trial",
         "showlegend": false,
         "type": "scatter",
         "x": [
          "SGD",
          "SGD",
          "SGD",
          "RMSProp",
          "Adam",
          "Adam",
          "SGD",
          "Adam",
          "RMSProp",
          "SGD",
          "Adam",
          "Adam",
          "Adam",
          "Adam",
          "Adam",
          "Adam",
          "Adam",
          "RMSProp",
          "Adam",
          "Adam",
          "RMSProp",
          "Adam",
          "Adam",
          "Adam",
          "Adam",
          "Adam",
          "Adam",
          "Adam",
          "RMSProp",
          "RMSProp",
          "RMSProp",
          "RMSProp",
          "RMSProp",
          "RMSProp",
          "RMSProp",
          "RMSProp",
          "RMSProp",
          "RMSProp",
          "RMSProp",
          "RMSProp",
          "SGD",
          "RMSProp",
          "RMSProp",
          "RMSProp",
          "RMSProp",
          "RMSProp",
          "RMSProp",
          "SGD",
          "RMSProp",
          "RMSProp"
         ],
         "xaxis": "x63",
         "y": [
          0.0006030572806877948,
          0.000017267872859730894,
          0.0002003891046446997,
          0.0002675833225815239,
          0.000058718414537544966,
          0.0004932668772810958,
          0.00004417361247719773,
          0.00012039528848626058,
          0.0006924466498844899,
          0.0009174670220593022,
          0.00011267708093824678,
          0.00004584268787355865,
          0.000050280778428755706,
          0.000010695476345287184,
          0.000022964810673419587,
          0.000012094978678250213,
          0.00011139959662371032,
          0.00020443510150137817,
          0.000030442008652608602,
          0.00001149348088047172,
          0.00009140754206228326,
          0.00007479489631463367,
          0.0001659374738876341,
          0.00006204684057371488,
          0.00031414855097441387,
          0.0003646064116017021,
          0.0003360937164140219,
          0.00011413557089106621,
          0.00015348015683398566,
          0.00014911935711649018,
          0.000474271322805089,
          0.0004458520025100744,
          0.00027132936748607814,
          0.0006881625028625726,
          0.0006656089257060337,
          0.0008577872009375,
          0.00094095705324019,
          0.0006554424691858177,
          0.0004833915256556394,
          0.0007613554698886802,
          0.0005571718181379366,
          0.0007533931873569096,
          0.0004121644255438535,
          0.000564202750805794,
          0.0005856060447330134,
          0.0009571948007830283,
          0.000778259660661666,
          0.000539256460634418,
          0.0008083603457803395,
          0.00027100619377422747
         ],
         "yaxis": "y63"
        },
        {
         "colorbar": {
          "title": {
           "text": "Objective Value"
          }
         },
         "colorscale": [
          [
           0,
           "rgb(247,251,255)"
          ],
          [
           0.125,
           "rgb(222,235,247)"
          ],
          [
           0.25,
           "rgb(198,219,239)"
          ],
          [
           0.375,
           "rgb(158,202,225)"
          ],
          [
           0.5,
           "rgb(107,174,214)"
          ],
          [
           0.625,
           "rgb(66,146,198)"
          ],
          [
           0.75,
           "rgb(33,113,181)"
          ],
          [
           0.875,
           "rgb(8,81,156)"
          ],
          [
           1,
           "rgb(8,48,107)"
          ]
         ],
         "connectgaps": true,
         "contours": {
          "coloring": "heatmap"
         },
         "hoverinfo": "none",
         "line": {
          "smoothing": 1.3
         },
         "reversescale": false,
         "showscale": false,
         "type": "contour",
         "x": [
          0.000008542994397936864,
          0.000010695476345287184,
          0.00001149348088047172,
          0.000012094978678250213,
          0.000017267872859730894,
          0.000022964810673419587,
          0.000030442008652608602,
          0.00004417361247719773,
          0.00004584268787355865,
          0.000050280778428755706,
          0.000058718414537544966,
          0.00006204684057371488,
          0.00007479489631463367,
          0.00009140754206228326,
          0.00011139959662371032,
          0.00011267708093824678,
          0.00011413557089106621,
          0.00012039528848626058,
          0.00014911935711649018,
          0.00015348015683398566,
          0.0001659374738876341,
          0.0002003891046446997,
          0.00020443510150137817,
          0.0002675833225815239,
          0.00027100619377422747,
          0.00027132936748607814,
          0.00031414855097441387,
          0.0003360937164140219,
          0.0003646064116017021,
          0.0004121644255438535,
          0.0004458520025100744,
          0.000474271322805089,
          0.0004833915256556394,
          0.0004932668772810958,
          0.000539256460634418,
          0.0005571718181379366,
          0.000564202750805794,
          0.0005856060447330134,
          0.0006030572806877948,
          0.0006554424691858177,
          0.0006656089257060337,
          0.0006881625028625726,
          0.0006924466498844899,
          0.0007533931873569096,
          0.0007613554698886802,
          0.000778259660661666,
          0.0008083603457803395,
          0.0008577872009375,
          0.0009174670220593022,
          0.00094095705324019,
          0.0009571948007830283,
          0.0011983683791340358
         ],
         "xaxis": "x8",
         "y": [
          10.399999999999999,
          16,
          32,
          64,
          128,
          133.6
         ],
         "yaxis": "y8",
         "z": {
          "bdata": "AAAAAAAA+H8AAAAAAAD4fwAAAAAAAPh/AAAAAAAA+H8AAAAAAAD4fwAAAAAAAPh/AAAAAAAA+H8AAAAAAAD4fwAAAAAAAPh/AAAAAAAA+H8AAAAAAAD4fwAAAAAAAPh/AAAAAAAA+H8AAAAAAAD4fwAAAAAAAPh/AAAAAAAA+H8AAAAAAAD4fwAAAAAAAPh/AAAAAAAA+H8AAAAAAAD4fwAAAAAAAPh/AAAAAAAA+H8AAAAAAAD4fwAAAAAAAPh/AAAAAAAA+H8AAAAAAAD4fwAAAAAAAPh/AAAAAAAA+H8AAAAAAAD4fwAAAAAAAPh/AAAAAAAA+H8AAAAAAAD4fwAAAAAAAPh/AAAAAAAA+H8AAAAAAAD4fwAAAAAAAPh/AAAAAAAA+H8AAAAAAAD4fwAAAAAAAPh/AAAAAAAA+H8AAAAAAAD4fwAAAAAAAPh/AAAAAAAA+H8AAAAAAAD4fwAAAAAAAPh/AAAAAAAA+H8AAAAAAAD4fwAAAAAAAPh/AAAAAAAA+H8AAAAAAAD4fwAAAAAAAPh/AAAAAAAA+H8AAAAAAAD4fwAAAAAAAPh/AAAAAAAA+H8AAAAAAAD4fwAAAAAAAPh/AAAAAAAA+H8AAAAAAAD4f6uqqqqqWlRAAAAAAAAA+H8AAAAAAAD4fwAAAAAAAPh/AAAAAAAA+H8AAAAAAAD4fwAAAAAAAPh/AAAAAAAA+H8AAAAAAAD4fwAAAAAAEFVAAAAAAAAA+H9VVVVVVYVUQAAAAAAAMFVAAAAAAAAA+H8AAAAAAAD4fwAAAAAAAPh/AAAAAACQVEBVVVVVVZUzQKuqqqqq6lRAAAAAAAAA+H8AAAAAAAD4fwAAAAAAAPh/q6qqqqoKVUCrqqqqqnpUQAAAAAAAYFVAVlVVVVX1VEAAAAAAAAD4f6uqqqqqykpAVVVVVVWFUkAAAAAAAEBVQFVVVVVV5VRAAAAAAAAA+H8AAAAAAJBUQFZVVVVVNVVAVlVVVVU1VUCrqqqqqupUQAAAAAAAwFRAVVVVVVUVU0AAAAAAAGBVQAAAAAAAAPh/qqqqqqp6VUAAAAAAAAD4fwAAAAAA4FRAq6qqqqrKVEAAAAAAAAD4fwAAAAAAAPh/AAAAAAAA+H8AAAAAAAD4fwAAAAAAAPh/qqqqqqpKR0AAAAAAAAD4fwAAAAAAAPh/AAAAAAAA+H8AAAAAAPBUQAAAAAAAAPh/AAAAAADwVEBVVVVVVQVVQKuqqqqqilRAAAAAAAAA+H8AAAAAAAD4fwAAAAAAAPh/AAAAAAAA+H8AAAAAAAD4fwAAAAAAAPh/AAAAAAAA+H9VVVVVVcVUQAAAAAAA0FRAAAAAAAAA+H8AAAAAAAD4fwAAAAAAAPh/AAAAAAAA+H8AAAAAAAD4fwAAAAAAAPh/q6qqqqpaVEAAAAAAAAD4fwAAAAAAAPh/AAAAAAAA+H8AAAAAAAD4fwAAAAAAAPh/AAAAAAAA+H8AAAAAAAD4fwAAAAAAAPh/AAAAAAAA+H8AAAAAAAD4fwAAAAAAAPh/AAAAAAAA+H8AAAAAAAD4fwAAAAAAAPh/AAAAAAAA+H8AAAAAAAD4fwAAAAAAAPh/AAAAAAAA+H8AAAAAAAD4fwAAAAAAAPh/AAAAAAAA+H8AAAAAAAD4fwAAAAAAAPh/AAAAAAAA+H8AAAAAAAD4fwAAAAAAIFRAAAAAAAAA+H8AAAAAAAD4fwAAAAAAAPh/AAAAAAAA+H8AAAAAAAD4fwAAAAAAAPh/AAAAAAAA+H8AAAAAAAD4fwAAAAAAAPh/AAAAAAAA+H8AAAAAAAD4fwAAAAAAAPh/AAAAAAAA+H8AAAAAAAD4fwAAAAAAAPh/AAAAAAAA+H8AAAAAAAD4fwAAAAAAAPh/AAAAAAAA+H8AAAAAAAD4fwAAAAAAAPh/AAAAAAAA+H8AAAAAAAD4fwAAAAAAAPh/AAAAAABAVEAAAAAAAAD4fwAAAAAAAPh/AAAAAAAA+H8AAAAAAAD4fwAAAAAAAPh/AAAAAAAA+H8AAAAAAAD4fwAAAAAAAPh/AAAAAAAA+H8AAAAAAAD4f6uqqqqqCk9AAAAAAAAA+H8AAAAAAAD4fwAAAAAAAPh/AAAAAAAA+H8AAAAAAAD4fwAAAAAAAPh/AAAAAAAA+H9WVVVVVTVVQAAAAAAAAPh/qqqqqqqqL0AAAAAAAAD4fwAAAAAAAPh/AAAAAAAA+H8AAAAAAAD4f1ZVVVVV9VRAAAAAAAAA+H+rqqqqqqpUQAAAAAAAAPh/VVVVVVWFVECrqqqqqopUQAAAAAAAAPh/AAAAAAAA+H9WVVVVVZVUQAAAAAAAAPh/AAAAAAAA+H8AAAAAAAD4f1VVVVVVpVJAqqqqqqraVEBWVVVVVQVTQAAAAAAAAPh/AAAAAAAgVUAAAAAAAAD4fwAAAAAAAPh/AAAAAAAA+H8AAAAAAAD4f6uqqqqqOlRAAAAAAAAA+H8AAAAAAAD4fwAAAAAAAPh/qqqqqqoaVUAAAAAAAAD4fwAAAAAAAPh/AAAAAAAA+H8AAAAAAAD4fwAAAAAAAPh/AAAAAAAA+H9VVVVVVSVSQAAAAAAAAPh/AAAAAAAA+H8AAAAAAAD4fwAAAAAAAPh/AAAAAAAA+H8AAAAAAAD4fwAAAAAAAPh/AAAAAAAA+H8AAAAAAAD4fwAAAAAAAPh/AAAAAAAA+H8AAAAAAAD4fwAAAAAAAPh/AAAAAAAA+H8AAAAAAAD4fwAAAAAAAPh/AAAAAAAA+H8AAAAAAAD4fwAAAAAAAPh/AAAAAAAA+H8AAAAAAAD4fwAAAAAAAPh/AAAAAAAA+H8AAAAAAAD4fwAAAAAAAPh/AAAAAAAA+H8AAAAAAAD4fwAAAAAAAPh/AAAAAAAA+H8AAAAAAAD4fwAAAAAAAPh/AAAAAAAA+H8AAAAAAAD4fwAAAAAAAPh/AAAAAAAA+H8AAAAAAAD4fwAAAAAAAPh/AAAAAAAA+H8AAAAAAAD4fwAAAAAAAPh/AAAAAAAA+H8AAAAAAAD4fwAAAAAAAPh/AAAAAAAA+H8AAAAAAAD4fwAAAAAAAPh/AAAAAAAA+H8AAAAAAAD4fwAAAAAAAPh/AAAAAAAA+H8AAAAAAAD4fwAAAAAAAPh/AAAAAAAA+H8AAAAAAAD4fwAAAAAAAPh/AAAAAAAA+H8AAAAAAAD4fwAAAAAAAPh/AAAAAAAA+H8AAAAAAAD4fwAAAAAAAPh/AAAAAAAA+H8AAAAAAAD4fwAAAAAAAPh/AAAAAAAA+H8AAAAAAAD4fwAAAAAAAPh/AAAAAAAA+H8AAAAAAAD4fwAAAAAAAPh/",
          "dtype": "f8",
          "shape": "6, 52"
         }
        },
        {
         "marker": {
          "color": "black",
          "line": {
           "color": "Gray",
           "width": 2
          }
         },
         "mode": "markers",
         "name": "Feasible Trial",
         "showlegend": false,
         "type": "scatter",
         "x": [
          0.0006030572806877948,
          0.000017267872859730894,
          0.0002003891046446997,
          0.0002675833225815239,
          0.000058718414537544966,
          0.0004932668772810958,
          0.00004417361247719773,
          0.00012039528848626058,
          0.0006924466498844899,
          0.0009174670220593022,
          0.00011267708093824678,
          0.00004584268787355865,
          0.000050280778428755706,
          0.000010695476345287184,
          0.000022964810673419587,
          0.000012094978678250213,
          0.00011139959662371032,
          0.00020443510150137817,
          0.000030442008652608602,
          0.00001149348088047172,
          0.00009140754206228326,
          0.00007479489631463367,
          0.0001659374738876341,
          0.00006204684057371488,
          0.00031414855097441387,
          0.0003646064116017021,
          0.0003360937164140219,
          0.00011413557089106621,
          0.00015348015683398566,
          0.00014911935711649018,
          0.000474271322805089,
          0.0004458520025100744,
          0.00027132936748607814,
          0.0006881625028625726,
          0.0006656089257060337,
          0.0008577872009375,
          0.00094095705324019,
          0.0006554424691858177,
          0.0004833915256556394,
          0.0007613554698886802,
          0.0005571718181379366,
          0.0007533931873569096,
          0.0004121644255438535,
          0.000564202750805794,
          0.0005856060447330134,
          0.0009571948007830283,
          0.000778259660661666,
          0.000539256460634418,
          0.0008083603457803395,
          0.00027100619377422747
         ],
         "xaxis": "x8",
         "y": [
          64,
          32,
          32,
          16,
          32,
          128,
          16,
          128,
          16,
          64,
          128,
          32,
          128,
          128,
          128,
          128,
          128,
          128,
          128,
          64,
          128,
          32,
          32,
          32,
          128,
          32,
          64,
          16,
          16,
          16,
          16,
          16,
          16,
          16,
          16,
          16,
          16,
          16,
          16,
          16,
          16,
          16,
          16,
          16,
          16,
          16,
          16,
          16,
          64,
          16
         ],
         "yaxis": "y8"
        },
        {
         "colorbar": {
          "title": {
           "text": "Objective Value"
          }
         },
         "colorscale": [
          [
           0,
           "rgb(247,251,255)"
          ],
          [
           0.125,
           "rgb(222,235,247)"
          ],
          [
           0.25,
           "rgb(198,219,239)"
          ],
          [
           0.375,
           "rgb(158,202,225)"
          ],
          [
           0.5,
           "rgb(107,174,214)"
          ],
          [
           0.625,
           "rgb(66,146,198)"
          ],
          [
           0.75,
           "rgb(33,113,181)"
          ],
          [
           0.875,
           "rgb(8,81,156)"
          ],
          [
           1,
           "rgb(8,48,107)"
          ]
         ],
         "connectgaps": true,
         "contours": {
          "coloring": "heatmap"
         },
         "hoverinfo": "none",
         "line": {
          "smoothing": 1.3
         },
         "reversescale": false,
         "showscale": false,
         "type": "contour",
         "x": [
          0.000008542994397936864,
          0.000010695476345287184,
          0.00001149348088047172,
          0.000012094978678250213,
          0.000017267872859730894,
          0.000022964810673419587,
          0.000030442008652608602,
          0.00004417361247719773,
          0.00004584268787355865,
          0.000050280778428755706,
          0.000058718414537544966,
          0.00006204684057371488,
          0.00007479489631463367,
          0.00009140754206228326,
          0.00011139959662371032,
          0.00011267708093824678,
          0.00011413557089106621,
          0.00012039528848626058,
          0.00014911935711649018,
          0.00015348015683398566,
          0.0001659374738876341,
          0.0002003891046446997,
          0.00020443510150137817,
          0.0002675833225815239,
          0.00027100619377422747,
          0.00027132936748607814,
          0.00031414855097441387,
          0.0003360937164140219,
          0.0003646064116017021,
          0.0004121644255438535,
          0.0004458520025100744,
          0.000474271322805089,
          0.0004833915256556394,
          0.0004932668772810958,
          0.000539256460634418,
          0.0005571718181379366,
          0.000564202750805794,
          0.0005856060447330134,
          0.0006030572806877948,
          0.0006554424691858177,
          0.0006656089257060337,
          0.0006881625028625726,
          0.0006924466498844899,
          0.0007533931873569096,
          0.0007613554698886802,
          0.000778259660661666,
          0.0008083603457803395,
          0.0008577872009375,
          0.0009174670220593022,
          0.00094095705324019,
          0.0009571948007830283,
          0.0011983683791340358
         ],
         "xaxis": "x16",
         "y": [
          0.08,
          0.1,
          0.2,
          0.30000000000000004,
          0.4,
          0.5,
          0.52
         ],
         "yaxis": "y16",
         "z": {
          "bdata": "AAAAAAAA+H8AAAAAAAD4fwAAAAAAAPh/AAAAAAAA+H8AAAAAAAD4fwAAAAAAAPh/AAAAAAAA+H8AAAAAAAD4fwAAAAAAAPh/AAAAAAAA+H8AAAAAAAD4fwAAAAAAAPh/AAAAAAAA+H8AAAAAAAD4fwAAAAAAAPh/AAAAAAAA+H8AAAAAAAD4fwAAAAAAAPh/AAAAAAAA+H8AAAAAAAD4fwAAAAAAAPh/AAAAAAAA+H8AAAAAAAD4fwAAAAAAAPh/AAAAAAAA+H8AAAAAAAD4fwAAAAAAAPh/AAAAAAAA+H8AAAAAAAD4fwAAAAAAAPh/AAAAAAAA+H8AAAAAAAD4fwAAAAAAAPh/AAAAAAAA+H8AAAAAAAD4fwAAAAAAAPh/AAAAAAAA+H8AAAAAAAD4fwAAAAAAAPh/AAAAAAAA+H8AAAAAAAD4fwAAAAAAAPh/AAAAAAAA+H8AAAAAAAD4fwAAAAAAAPh/AAAAAAAA+H8AAAAAAAD4fwAAAAAAAPh/AAAAAAAA+H8AAAAAAAD4fwAAAAAAAPh/AAAAAAAA+H8AAAAAAAD4fwAAAAAAAPh/AAAAAAAA+H8AAAAAAAD4f6qqqqqqSkdAAAAAAAAA+H8AAAAAAAD4f6uqqqqqWlRAAAAAAAAA+H8AAAAAAAD4fwAAAAAAAPh/AAAAAAAA+H8AAAAAAAD4fwAAAAAAAPh/AAAAAAAA+H8AAAAAAAD4fwAAAAAAAPh/AAAAAAAA+H9VVVVVVYVUQAAAAAAAMFVAAAAAAAAA+H8AAAAAANBUQKuqqqqqOlRAAAAAAAAA+H8AAAAAAAD4f6uqqqqq6lRAAAAAAAAA+H8AAAAAAAD4f6uqqqqqWlRAq6qqqqoKVUCrqqqqqnpUQAAAAAAAYFVAVlVVVVX1VEAAAAAAAAD4f6uqqqqqykpAVVVVVVWFUkAAAAAAAEBVQFVVVVVV5VRAAAAAAAAA+H8AAAAAAJBUQFZVVVVVNVVAVlVVVVU1VUAAAAAAAAD4fwAAAAAAwFRAVVVVVVUVU0AAAAAAAGBVQFZVVVVVNVVAqqqqqqp6VUAAAAAAAAD4fwAAAAAA4FRAq6qqqqrKVEAAAAAAAAD4fwAAAAAAAPh/VlVVVVX1VEAAAAAAAAD4f6uqqqqqqlRAAAAAAAAA+H9VVVVVVYVUQKuqqqqqilRAAAAAAAAA+H8AAAAAAPBUQAAAAAAAAPh/AAAAAAAA+H9VVVVVVQVVQAAAAAAAAPh/AAAAAAAA+H+qqqqqqtpUQFZVVVVVBVNAAAAAAAAQVUAAAAAAACBVQAAAAAAAAPh/AAAAAAAA+H8AAAAAAAD4fwAAAAAAAPh/AAAAAAAA+H8AAAAAAAD4fwAAAAAAAPh/AAAAAAAA+H+qqqqqqhpVQAAAAAAAQFRAAAAAAAAA+H8AAAAAAAD4fwAAAAAAAPh/AAAAAAAA+H8AAAAAAAD4fwAAAAAAAPh/AAAAAAAA+H8AAAAAAAD4fwAAAAAAAPh/AAAAAAAA+H8AAAAAAAD4fwAAAAAAAPh/AAAAAAAA+H8AAAAAAAD4fwAAAAAAAPh/AAAAAAAA+H8AAAAAAAD4fwAAAAAAAPh/AAAAAAAA+H8AAAAAAAD4fwAAAAAAAPh/AAAAAAAA+H8AAAAAAAD4fwAAAAAAAPh/AAAAAAAA+H8AAAAAAAD4fwAAAAAAIFRAAAAAAAAA+H8AAAAAAAD4fwAAAAAAAPh/AAAAAAAA+H8AAAAAAAD4fwAAAAAAAPh/VlVVVVWVVEAAAAAAAPBUQAAAAAAAAPh/q6qqqqqKVEAAAAAAAAD4fwAAAAAAAPh/AAAAAAAA+H8AAAAAAAD4fwAAAAAAAPh/AAAAAAAA+H8AAAAAAAD4f1VVVVVVxVRAAAAAAAAA+H8AAAAAAAD4fwAAAAAAAPh/AAAAAAAA+H8AAAAAAAD4fwAAAAAAAPh/AAAAAAAA+H8AAAAAAAD4fwAAAAAAAPh/AAAAAAAA+H8AAAAAAAD4fwAAAAAAAPh/VVVVVVUlUkAAAAAAAAD4fwAAAAAAAPh/AAAAAAAA+H8AAAAAAAD4fwAAAAAAAPh/AAAAAAAA+H8AAAAAAAD4fwAAAAAAAPh/AAAAAAAA+H8AAAAAAAD4fwAAAAAAAPh/AAAAAAAA+H8AAAAAAAD4fwAAAAAAAPh/AAAAAAAA+H8AAAAAAAD4fwAAAAAAAPh/AAAAAAAA+H8AAAAAAAD4fwAAAAAAAPh/AAAAAAAA+H8AAAAAAAD4fwAAAAAAAPh/AAAAAAAA+H8AAAAAAAD4fwAAAAAAAPh/AAAAAAAA+H8AAAAAAAD4fwAAAAAAAPh/AAAAAAAA+H8AAAAAAAD4fwAAAAAAAPh/AAAAAAAA+H8AAAAAAAD4fwAAAAAAAPh/AAAAAAAA+H8AAAAAAAD4fwAAAAAAAPh/AAAAAAAA+H8AAAAAAAD4fwAAAAAAAPh/AAAAAACQVEBVVVVVVZUzQAAAAAAAAPh/AAAAAAAA+H8AAAAAAAD4fwAAAAAAAPh/AAAAAAAA+H8AAAAAAAD4fwAAAAAAAPh/AAAAAAAA+H8AAAAAAAD4fwAAAAAAAPh/AAAAAAAA+H8AAAAAAAD4fwAAAAAAAPh/q6qqqqoKT0AAAAAAAAD4fwAAAAAAAPh/AAAAAAAA+H+rqqqqqupUQAAAAAAAAPh/AAAAAAAA+H8AAAAAAAD4fwAAAAAAAPh/AAAAAAAA+H8AAAAAAAD4fwAAAAAAAPh/AAAAAAAA+H8AAAAAAAD4fwAAAAAAAPh/AAAAAAAA+H8AAAAAAAD4fwAAAAAAAPh/AAAAAAAA+H8AAAAAAAD4fwAAAAAAAPh/AAAAAAAA+H8AAAAAAAD4fwAAAAAAAPh/AAAAAAAA+H8AAAAAAAD4fwAAAAAAAPh/VVVVVVWlUkAAAAAAAAD4fwAAAAAAAPh/AAAAAAAA+H8AAAAAAAD4fwAAAAAAAPh/AAAAAAAA+H8AAAAAAAD4fwAAAAAAAPh/AAAAAAAA+H8AAAAAAAD4fwAAAAAAAPh/AAAAAAAA+H8AAAAAAAD4fwAAAAAAAPh/AAAAAAAA+H8AAAAAAAD4fwAAAAAAAPh/AAAAAAAA+H8AAAAAAAD4fwAAAAAAAPh/AAAAAAAA+H8AAAAAAAD4fwAAAAAAAPh/AAAAAAAA+H8AAAAAAAD4fwAAAAAAAPh/AAAAAAAA+H8AAAAAAAD4fwAAAAAAAPh/AAAAAAAA+H8AAAAAAAD4fwAAAAAAAPh/AAAAAAAA+H8AAAAAAAD4f6qqqqqqqi9AAAAAAAAA+H8AAAAAAAD4fwAAAAAAAPh/AAAAAAAA+H8AAAAAAAD4fwAAAAAAAPh/AAAAAAAA+H8AAAAAAAD4fwAAAAAAAPh/AAAAAAAA+H8AAAAAAAD4fwAAAAAAAPh/AAAAAAAA+H8AAAAAAAD4fwAAAAAAAPh/AAAAAAAA+H8AAAAAAAD4fwAAAAAAAPh/AAAAAAAA+H8AAAAAAAD4fwAAAAAAAPh/AAAAAAAA+H8AAAAAAAD4fwAAAAAAAPh/AAAAAAAA+H8AAAAAAAD4fwAAAAAAAPh/AAAAAAAA+H8AAAAAAAD4fwAAAAAAAPh/AAAAAAAA+H8AAAAAAAD4fwAAAAAAAPh/AAAAAAAA+H8AAAAAAAD4fwAAAAAAAPh/AAAAAAAA+H8AAAAAAAD4fwAAAAAAAPh/AAAAAAAA+H8AAAAAAAD4fwAAAAAAAPh/AAAAAAAA+H8AAAAAAAD4fwAAAAAAAPh/AAAAAAAA+H8AAAAAAAD4fwAAAAAAAPh/AAAAAAAA+H8AAAAAAAD4fwAAAAAAAPh/AAAAAAAA+H8AAAAAAAD4fwAAAAAAAPh/AAAAAAAA+H8=",
          "dtype": "f8",
          "shape": "7, 52"
         }
        },
        {
         "marker": {
          "color": "black",
          "line": {
           "color": "Gray",
           "width": 2
          }
         },
         "mode": "markers",
         "name": "Feasible Trial",
         "showlegend": false,
         "type": "scatter",
         "x": [
          0.0006030572806877948,
          0.000017267872859730894,
          0.0002003891046446997,
          0.0002675833225815239,
          0.000058718414537544966,
          0.0004932668772810958,
          0.00004417361247719773,
          0.00012039528848626058,
          0.0006924466498844899,
          0.0009174670220593022,
          0.00011267708093824678,
          0.00004584268787355865,
          0.000050280778428755706,
          0.000010695476345287184,
          0.000022964810673419587,
          0.000012094978678250213,
          0.00011139959662371032,
          0.00020443510150137817,
          0.000030442008652608602,
          0.00001149348088047172,
          0.00009140754206228326,
          0.00007479489631463367,
          0.0001659374738876341,
          0.00006204684057371488,
          0.00031414855097441387,
          0.0003646064116017021,
          0.0003360937164140219,
          0.00011413557089106621,
          0.00015348015683398566,
          0.00014911935711649018,
          0.000474271322805089,
          0.0004458520025100744,
          0.00027132936748607814,
          0.0006881625028625726,
          0.0006656089257060337,
          0.0008577872009375,
          0.00094095705324019,
          0.0006554424691858177,
          0.0004833915256556394,
          0.0007613554698886802,
          0.0005571718181379366,
          0.0007533931873569096,
          0.0004121644255438535,
          0.000564202750805794,
          0.0005856060447330134,
          0.0009571948007830283,
          0.000778259660661666,
          0.000539256460634418,
          0.0008083603457803395,
          0.00027100619377422747
         ],
         "xaxis": "x16",
         "y": [
          0.4,
          0.1,
          0.1,
          0.4,
          0.30000000000000004,
          0.30000000000000004,
          0.1,
          0.2,
          0.4,
          0.5,
          0.2,
          0.2,
          0.30000000000000004,
          0.2,
          0.2,
          0.2,
          0.2,
          0.1,
          0.2,
          0.30000000000000004,
          0.5,
          0.30000000000000004,
          0.30000000000000004,
          0.2,
          0.2,
          0.1,
          0.2,
          0.2,
          0.1,
          0.1,
          0.1,
          0.1,
          0.1,
          0.1,
          0.1,
          0.1,
          0.1,
          0.1,
          0.1,
          0.1,
          0.1,
          0.1,
          0.1,
          0.1,
          0.1,
          0.1,
          0.1,
          0.1,
          0.1,
          0.4
         ],
         "yaxis": "y16"
        },
        {
         "colorbar": {
          "title": {
           "text": "Objective Value"
          }
         },
         "colorscale": [
          [
           0,
           "rgb(247,251,255)"
          ],
          [
           0.125,
           "rgb(222,235,247)"
          ],
          [
           0.25,
           "rgb(198,219,239)"
          ],
          [
           0.375,
           "rgb(158,202,225)"
          ],
          [
           0.5,
           "rgb(107,174,214)"
          ],
          [
           0.625,
           "rgb(66,146,198)"
          ],
          [
           0.75,
           "rgb(33,113,181)"
          ],
          [
           0.875,
           "rgb(8,81,156)"
          ],
          [
           1,
           "rgb(8,48,107)"
          ]
         ],
         "connectgaps": true,
         "contours": {
          "coloring": "heatmap"
         },
         "hoverinfo": "none",
         "line": {
          "smoothing": 1.3
         },
         "reversescale": false,
         "showscale": false,
         "type": "contour",
         "x": [
          0.000008542994397936864,
          0.000010695476345287184,
          0.00001149348088047172,
          0.000012094978678250213,
          0.000017267872859730894,
          0.000022964810673419587,
          0.000030442008652608602,
          0.00004417361247719773,
          0.00004584268787355865,
          0.000050280778428755706,
          0.000058718414537544966,
          0.00006204684057371488,
          0.00007479489631463367,
          0.00009140754206228326,
          0.00011139959662371032,
          0.00011267708093824678,
          0.00011413557089106621,
          0.00012039528848626058,
          0.00014911935711649018,
          0.00015348015683398566,
          0.0001659374738876341,
          0.0002003891046446997,
          0.00020443510150137817,
          0.0002675833225815239,
          0.00027100619377422747,
          0.00027132936748607814,
          0.00031414855097441387,
          0.0003360937164140219,
          0.0003646064116017021,
          0.0004121644255438535,
          0.0004458520025100744,
          0.000474271322805089,
          0.0004833915256556394,
          0.0004932668772810958,
          0.000539256460634418,
          0.0005571718181379366,
          0.000564202750805794,
          0.0005856060447330134,
          0.0006030572806877948,
          0.0006554424691858177,
          0.0006656089257060337,
          0.0006881625028625726,
          0.0006924466498844899,
          0.0007533931873569096,
          0.0007613554698886802,
          0.000778259660661666,
          0.0008083603457803395,
          0.0008577872009375,
          0.0009174670220593022,
          0.00094095705324019,
          0.0009571948007830283,
          0.0011983683791340358
         ],
         "xaxis": "x24",
         "y": [
          8,
          10,
          20,
          30,
          40,
          50,
          52
         ],
         "yaxis": "y24",
         "z": {
          "bdata": "AAAAAAAA+H8AAAAAAAD4fwAAAAAAAPh/AAAAAAAA+H8AAAAAAAD4fwAAAAAAAPh/AAAAAAAA+H8AAAAAAAD4fwAAAAAAAPh/AAAAAAAA+H8AAAAAAAD4fwAAAAAAAPh/AAAAAAAA+H8AAAAAAAD4fwAAAAAAAPh/AAAAAAAA+H8AAAAAAAD4fwAAAAAAAPh/AAAAAAAA+H8AAAAAAAD4fwAAAAAAAPh/AAAAAAAA+H8AAAAAAAD4fwAAAAAAAPh/AAAAAAAA+H8AAAAAAAD4fwAAAAAAAPh/AAAAAAAA+H8AAAAAAAD4fwAAAAAAAPh/AAAAAAAA+H8AAAAAAAD4fwAAAAAAAPh/AAAAAAAA+H8AAAAAAAD4fwAAAAAAAPh/AAAAAAAA+H8AAAAAAAD4fwAAAAAAAPh/AAAAAAAA+H8AAAAAAAD4fwAAAAAAAPh/AAAAAAAA+H8AAAAAAAD4fwAAAAAAAPh/AAAAAAAA+H8AAAAAAAD4fwAAAAAAAPh/AAAAAAAA+H8AAAAAAAD4fwAAAAAAAPh/AAAAAAAA+H8AAAAAAAD4fwAAAAAAAPh/AAAAAAAA+H8AAAAAAAD4fwAAAAAAAPh/AAAAAAAA+H8AAAAAAAD4f6uqqqqqWlRAAAAAAAAA+H8AAAAAAAD4fwAAAAAA8FRAAAAAAAAA+H+rqqqqqopUQAAAAAAAAPh/AAAAAAAA+H8AAAAAAAD4fwAAAAAAAPh/AAAAAAAA+H8AAAAAAAD4fwAAAAAAAPh/AAAAAAAA+H8AAAAAAAD4fwAAAAAAAPh/AAAAAAAA+H8AAAAAAAD4fwAAAAAAAPh/AAAAAAAA+H8AAAAAAAD4fwAAAAAAAPh/AAAAAAAA+H8AAAAAAAD4fwAAAAAAAPh/AAAAAAAA+H8AAAAAAAD4f6uqqqqqykpAAAAAAAAA+H8AAAAAAAD4fwAAAAAAAPh/q6qqqqoKT0AAAAAAAAD4fwAAAAAAAPh/AAAAAAAA+H8AAAAAAAD4fwAAAAAAAPh/AAAAAAAA+H8AAAAAAAD4fwAAAAAAAPh/AAAAAAAA+H8AAAAAAAD4fwAAAAAAAPh/AAAAAAAA+H8AAAAAAAD4fwAAAAAAAPh/AAAAAAAA+H8AAAAAAAD4fwAAAAAAAPh/AAAAAAAA+H8AAAAAAAD4fwAAAAAAAPh/AAAAAAAA+H8AAAAAAPBUQFZVVVVVlVRAAAAAAAAA+H9VVVVVVQVVQAAAAAAAAPh/AAAAAAAA+H8AAAAAAAD4fwAAAAAAAPh/AAAAAAAA+H8AAAAAAAD4fwAAAAAAAPh/AAAAAAAA+H8AAAAAAAD4fwAAAAAAAPh/AAAAAAAA+H8AAAAAAAD4f1VVVVVVlTNAAAAAAAAA+H+qqqqqqhpVQAAAAAAAQFRAq6qqqqpaVEAAAAAAAAD4fwAAAAAAAPh/AAAAAAAA+H8AAAAAAAD4fwAAAAAAAPh/AAAAAAAA+H8AAAAAAAD4fwAAAAAAAPh/AAAAAAAA+H8AAAAAAAD4fwAAAAAAAPh/AAAAAAAA+H8AAAAAAAD4fwAAAAAAAPh/AAAAAAAA+H8AAAAAAAD4fwAAAAAAYFVAVlVVVVU1VUAAAAAAAAD4f6qqqqqqqi9AAAAAAAAA+H+rqqqqqspUQAAAAAAAAPh/AAAAAAAA+H8AAAAAAAD4fwAAAAAAAPh/AAAAAAAA+H8AAAAAAAD4fwAAAAAAAPh/AAAAAAAA+H8AAAAAAAD4fwAAAAAAAPh/AAAAAAAA+H8AAAAAAAD4fwAAAAAAAPh/AAAAAAAA+H9VVVVVVaVSQAAAAAAAAPh/AAAAAAAA+H8AAAAAABBVQAAAAAAAAPh/VVVVVVWFVEAAAAAAADBVQAAAAAAAAPh/AAAAAAAA+H8AAAAAAAD4fwAAAAAAkFRAAAAAAAAA+H+rqqqqqupUQAAAAAAAAPh/AAAAAAAA+H8AAAAAAAD4f6uqqqqqClVAq6qqqqp6VEAAAAAAAGBVQFZVVVVV9VRAAAAAAAAA+H8AAAAAAAD4fwAAAAAAAPh/AAAAAABAVUBVVVVVVeVUQAAAAAAAAPh/AAAAAACQVEBWVVVVVTVVQFZVVVVVNVVAq6qqqqrqVEAAAAAAAMBUQFVVVVVVFVNAAAAAAAAA+H8AAAAAAAD4f6qqqqqqelVAAAAAAAAA+H8AAAAAAOBUQAAAAAAAAPh/AAAAAAAA+H8AAAAAAAD4f1ZVVVVV9VRAAAAAAAAA+H8AAAAAAAD4fwAAAAAAAPh/VVVVVVWFVECrqqqqqopUQAAAAAAAAPh/AAAAAAAA+H8AAAAAAAD4fwAAAAAAAPh/AAAAAAAA+H8AAAAAAAD4fwAAAAAAAPh/qqqqqqraVEBWVVVVVQVTQAAAAAAAAPh/AAAAAAAA+H8AAAAAAAD4fwAAAAAAAPh/VVVVVVXFVEAAAAAAANBUQAAAAAAAAPh/AAAAAAAA+H8AAAAAAAD4fwAAAAAAAPh/AAAAAAAA+H8AAAAAAAD4fwAAAAAAAPh/AAAAAAAA+H8AAAAAAAD4fwAAAAAAAPh/AAAAAAAA+H8AAAAAAAD4fwAAAAAAAPh/VVVVVVWFUkAAAAAAAAD4fwAAAAAAAPh/AAAAAAAA+H8AAAAAAAD4fwAAAAAAAPh/AAAAAAAA+H8AAAAAAAD4fwAAAAAAAPh/AAAAAAAA+H8AAAAAAAD4fwAAAAAAAPh/AAAAAAAA+H8AAAAAAAD4fwAAAAAAAPh/AAAAAAAA+H8AAAAAAAD4fwAAAAAAAPh/AAAAAAAA+H8AAAAAACBUQKuqqqqqqlRAqqqqqqpKR0AAAAAAAAD4fwAAAAAAAPh/AAAAAAAA+H8AAAAAAAD4fwAAAAAAAPh/AAAAAAAA+H8AAAAAAAD4fwAAAAAAAPh/AAAAAAAA+H8AAAAAAAD4fwAAAAAAAPh/AAAAAAAA+H8AAAAAACBVQAAAAAAAAPh/AAAAAAAA+H8AAAAAAAD4fwAAAAAAAPh/q6qqqqo6VEAAAAAAAAD4fwAAAAAAAPh/AAAAAAAA+H8AAAAAAAD4fwAAAAAAAPh/AAAAAAAA+H8AAAAAAAD4fwAAAAAAAPh/AAAAAAAA+H8AAAAAAAD4f1VVVVVVJVJAAAAAAAAA+H8AAAAAAAD4fwAAAAAAAPh/AAAAAAAA+H8AAAAAAAD4fwAAAAAAAPh/AAAAAAAA+H8AAAAAAAD4fwAAAAAAAPh/AAAAAAAA+H8AAAAAAAD4fwAAAAAAAPh/AAAAAAAA+H8AAAAAAAD4fwAAAAAAAPh/AAAAAAAA+H8AAAAAAAD4fwAAAAAAAPh/AAAAAAAA+H8AAAAAAAD4fwAAAAAAAPh/AAAAAAAA+H8AAAAAAAD4fwAAAAAAAPh/AAAAAAAA+H8AAAAAAAD4fwAAAAAAAPh/AAAAAAAA+H8AAAAAAAD4fwAAAAAAAPh/AAAAAAAA+H8AAAAAAAD4fwAAAAAAAPh/AAAAAAAA+H8AAAAAAAD4fwAAAAAAAPh/AAAAAAAA+H8AAAAAAAD4fwAAAAAAAPh/AAAAAAAA+H8AAAAAAAD4fwAAAAAAAPh/AAAAAAAA+H8AAAAAAAD4fwAAAAAAAPh/AAAAAAAA+H8AAAAAAAD4fwAAAAAAAPh/AAAAAAAA+H8AAAAAAAD4fwAAAAAAAPh/AAAAAAAA+H8AAAAAAAD4fwAAAAAAAPh/AAAAAAAA+H8AAAAAAAD4fwAAAAAAAPh/AAAAAAAA+H8AAAAAAAD4fwAAAAAAAPh/AAAAAAAA+H8AAAAAAAD4fwAAAAAAAPh/AAAAAAAA+H8AAAAAAAD4fwAAAAAAAPh/AAAAAAAA+H8AAAAAAAD4fwAAAAAAAPh/AAAAAAAA+H8=",
          "dtype": "f8",
          "shape": "7, 52"
         }
        },
        {
         "marker": {
          "color": "black",
          "line": {
           "color": "Gray",
           "width": 2
          }
         },
         "mode": "markers",
         "name": "Feasible Trial",
         "showlegend": false,
         "type": "scatter",
         "x": [
          0.0006030572806877948,
          0.000017267872859730894,
          0.0002003891046446997,
          0.0002675833225815239,
          0.000058718414537544966,
          0.0004932668772810958,
          0.00004417361247719773,
          0.00012039528848626058,
          0.0006924466498844899,
          0.0009174670220593022,
          0.00011267708093824678,
          0.00004584268787355865,
          0.000050280778428755706,
          0.000010695476345287184,
          0.000022964810673419587,
          0.000012094978678250213,
          0.00011139959662371032,
          0.00020443510150137817,
          0.000030442008652608602,
          0.00001149348088047172,
          0.00009140754206228326,
          0.00007479489631463367,
          0.0001659374738876341,
          0.00006204684057371488,
          0.00031414855097441387,
          0.0003646064116017021,
          0.0003360937164140219,
          0.00011413557089106621,
          0.00015348015683398566,
          0.00014911935711649018,
          0.000474271322805089,
          0.0004458520025100744,
          0.00027132936748607814,
          0.0006881625028625726,
          0.0006656089257060337,
          0.0008577872009375,
          0.00094095705324019,
          0.0006554424691858177,
          0.0004833915256556394,
          0.0007613554698886802,
          0.0005571718181379366,
          0.0007533931873569096,
          0.0004121644255438535,
          0.000564202750805794,
          0.0005856060447330134,
          0.0009571948007830283,
          0.000778259660661666,
          0.000539256460634418,
          0.0008083603457803395,
          0.00027100619377422747
         ],
         "xaxis": "x24",
         "y": [
          10,
          50,
          40,
          30,
          10,
          50,
          10,
          50,
          30,
          20,
          40,
          20,
          20,
          40,
          40,
          50,
          40,
          50,
          40,
          50,
          30,
          10,
          40,
          20,
          20,
          20,
          20,
          30,
          30,
          30,
          30,
          30,
          30,
          30,
          30,
          30,
          30,
          30,
          30,
          30,
          40,
          30,
          30,
          30,
          30,
          20,
          20,
          10,
          20,
          20
         ],
         "yaxis": "y24"
        },
        {
         "colorbar": {
          "title": {
           "text": "Objective Value"
          }
         },
         "colorscale": [
          [
           0,
           "rgb(247,251,255)"
          ],
          [
           0.125,
           "rgb(222,235,247)"
          ],
          [
           0.25,
           "rgb(198,219,239)"
          ],
          [
           0.375,
           "rgb(158,202,225)"
          ],
          [
           0.5,
           "rgb(107,174,214)"
          ],
          [
           0.625,
           "rgb(66,146,198)"
          ],
          [
           0.75,
           "rgb(33,113,181)"
          ],
          [
           0.875,
           "rgb(8,81,156)"
          ],
          [
           1,
           "rgb(8,48,107)"
          ]
         ],
         "connectgaps": true,
         "contours": {
          "coloring": "heatmap"
         },
         "hoverinfo": "none",
         "line": {
          "smoothing": 1.3
         },
         "reversescale": false,
         "showscale": false,
         "type": "contour",
         "x": [
          0.000008542994397936864,
          0.000010695476345287184,
          0.00001149348088047172,
          0.000012094978678250213,
          0.000017267872859730894,
          0.000022964810673419587,
          0.000030442008652608602,
          0.00004417361247719773,
          0.00004584268787355865,
          0.000050280778428755706,
          0.000058718414537544966,
          0.00006204684057371488,
          0.00007479489631463367,
          0.00009140754206228326,
          0.00011139959662371032,
          0.00011267708093824678,
          0.00011413557089106621,
          0.00012039528848626058,
          0.00014911935711649018,
          0.00015348015683398566,
          0.0001659374738876341,
          0.0002003891046446997,
          0.00020443510150137817,
          0.0002675833225815239,
          0.00027100619377422747,
          0.00027132936748607814,
          0.00031414855097441387,
          0.0003360937164140219,
          0.0003646064116017021,
          0.0004121644255438535,
          0.0004458520025100744,
          0.000474271322805089,
          0.0004833915256556394,
          0.0004932668772810958,
          0.000539256460634418,
          0.0005571718181379366,
          0.000564202750805794,
          0.0005856060447330134,
          0.0006030572806877948,
          0.0006554424691858177,
          0.0006656089257060337,
          0.0006881625028625726,
          0.0006924466498844899,
          0.0007533931873569096,
          0.0007613554698886802,
          0.000778259660661666,
          0.0008083603457803395,
          0.0008577872009375,
          0.0009174670220593022,
          0.00094095705324019,
          0.0009571948007830283,
          0.0011983683791340358
         ],
         "xaxis": "x32",
         "y": [
          0.000007072541283187389,
          0.00001110376978598369,
          0.000011950548462899992,
          0.000019123060851291802,
          0.000019860708707177768,
          0.000020040668531992272,
          0.00002163872549261281,
          0.00002390330078323597,
          0.00002612835183017675,
          0.000029404095527833733,
          0.00003479474879252498,
          0.00003520663293231582,
          0.000036220252965558876,
          0.000041877331510834896,
          0.000048620371257514394,
          0.000050611394602106545,
          0.00005208430975733577,
          0.00006625963744085291,
          0.00006669238216103824,
          0.00006987056210679689,
          0.00007598827625271952,
          0.00009047445070254732,
          0.00009857550141699971,
          0.00011939965426894092,
          0.00012163946485690261,
          0.00013352630362784012,
          0.00015050344330720008,
          0.00015335460642411939,
          0.0001902712069056088,
          0.00019989475930067544,
          0.00025476220795954977,
          0.0002617809684685859,
          0.0002881825011836019,
          0.00037465546882200145,
          0.00046290239796682167,
          0.0005223371831123543,
          0.0006379538142827019,
          0.0007397601677843805,
          0.0012757896201358236,
          0.001571749776249777,
          0.0019110286305313027,
          0.0021495967704226824,
          0.0024602413983781995,
          0.003911426777511212,
          0.0043321695035891845,
          0.005100990188563874,
          0.009696413197862666,
          0.019415699317830708,
          0.02264213245096893,
          0.0726475000829205,
          0.09191144747250399,
          0.14429941269586738
         ],
         "yaxis": "y32",
         "z": {
          "bdata": "AAAAAAAA+H8AAAAAAAD4fwAAAAAAAPh/AAAAAAAA+H8AAAAAAAD4fwAAAAAAAPh/AAAAAAAA+H8AAAAAAAD4fwAAAAAAAPh/AAAAAAAA+H8AAAAAAAD4fwAAAAAAAPh/AAAAAAAA+H8AAAAAAAD4fwAAAAAAAPh/AAAAAAAA+H8AAAAAAAD4fwAAAAAAAPh/AAAAAAAA+H8AAAAAAAD4fwAAAAAAAPh/AAAAAAAA+H8AAAAAAAD4fwAAAAAAAPh/AAAAAAAA+H8AAAAAAAD4fwAAAAAAAPh/AAAAAAAA+H8AAAAAAAD4fwAAAAAAAPh/AAAAAAAA+H8AAAAAAAD4fwAAAAAAAPh/AAAAAAAA+H8AAAAAAAD4fwAAAAAAAPh/AAAAAAAA+H8AAAAAAAD4fwAAAAAAAPh/AAAAAAAA+H8AAAAAAAD4fwAAAAAAAPh/AAAAAAAA+H8AAAAAAAD4fwAAAAAAAPh/AAAAAAAA+H8AAAAAAAD4fwAAAAAAAPh/AAAAAAAA+H8AAAAAAAD4fwAAAAAAAPh/AAAAAAAA+H8AAAAAAAD4fwAAAAAAAPh/AAAAAAAA+H8AAAAAAAD4fwAAAAAAAPh/AAAAAAAA+H8AAAAAAAD4fwAAAAAAAPh/AAAAAAAA+H8AAAAAAAD4fwAAAAAAAPh/AAAAAAAA+H8AAAAAAAD4fwAAAAAAAPh/AAAAAAAA+H8AAAAAAAD4fwAAAAAAAPh/AAAAAAAA+H8AAAAAAAD4fwAAAAAAAPh/AAAAAAAA+H8AAAAAAAD4fwAAAAAAAPh/AAAAAAAA+H8AAAAAAAD4fwAAAAAAAPh/AAAAAAAA+H8AAAAAAAD4fwAAAAAAAPh/AAAAAAAA+H+rqqqqqnpUQAAAAAAAAPh/AAAAAAAA+H8AAAAAAAD4fwAAAAAAAPh/AAAAAAAA+H8AAAAAAAD4fwAAAAAAAPh/AAAAAAAA+H8AAAAAAAD4fwAAAAAAAPh/AAAAAAAA+H8AAAAAAAD4fwAAAAAAAPh/AAAAAAAA+H8AAAAAAAD4fwAAAAAAAPh/AAAAAAAA+H8AAAAAAAD4fwAAAAAAAPh/AAAAAAAA+H8AAAAAAAD4fwAAAAAAAPh/AAAAAAAA+H8AAAAAAAD4fwAAAAAAAPh/AAAAAAAA+H8AAAAAAAD4fwAAAAAAAPh/AAAAAAAA+H8AAAAAAAD4fwAAAAAAAPh/AAAAAAAA+H8AAAAAAAD4fwAAAAAAAPh/AAAAAAAA+H8AAAAAAAD4fwAAAAAAAPh/AAAAAAAA+H8AAAAAAAD4fwAAAAAAAPh/AAAAAAAA+H8AAAAAAAD4fwAAAAAAAPh/AAAAAAAA+H8AAAAAAAD4fwAAAAAAAPh/AAAAAAAA+H8AAAAAAAD4fwAAAAAAAPh/AAAAAAAA+H8AAAAAAAD4fwAAAAAAAPh/AAAAAAAA+H8AAAAAAAD4fwAAAAAAAPh/AAAAAAAA+H8AAAAAAAD4fwAAAAAAAPh/AAAAAAAA+H8AAAAAAAD4fwAAAAAAkFRAAAAAAAAA+H8AAAAAAAD4fwAAAAAAAPh/AAAAAAAA+H8AAAAAAAD4fwAAAAAAAPh/AAAAAAAA+H8AAAAAAAD4fwAAAAAAAPh/AAAAAAAA+H8AAAAAAAD4fwAAAAAAAPh/AAAAAAAA+H8AAAAAAAD4fwAAAAAAAPh/AAAAAAAA+H8AAAAAAAD4fwAAAAAAAPh/AAAAAAAA+H8AAAAAAAD4fwAAAAAAAPh/AAAAAAAA+H8AAAAAAAD4fwAAAAAAAPh/AAAAAAAA+H8AAAAAAAD4fwAAAAAAAPh/AAAAAAAA+H8AAAAAAAD4fwAAAAAAAPh/AAAAAAAA+H8AAAAAAAD4fwAAAAAAAPh/AAAAAAAA+H8AAAAAAAD4fwAAAAAAAPh/AAAAAAAA+H8AAAAAAAD4fwAAAAAAAPh/AAAAAAAA+H8AAAAAAAD4fwAAAAAAAPh/AAAAAAAA+H8AAAAAAAD4fwAAAAAAAPh/AAAAAAAA+H8AAAAAAAD4fwAAAAAAAPh/AAAAAAAA+H8AAAAAAAD4fwAAAAAAAPh/AAAAAAAA+H8AAAAAAAD4fwAAAAAAAPh/AAAAAAAA+H8AAAAAAAD4f1VVVVVVFVNAAAAAAAAA+H8AAAAAAAD4fwAAAAAAAPh/AAAAAAAA+H8AAAAAAAD4fwAAAAAAAPh/AAAAAAAA+H8AAAAAAAD4fwAAAAAAAPh/AAAAAAAA+H8AAAAAAAD4f6qqqqqqSkdAAAAAAAAA+H8AAAAAAAD4fwAAAAAAAPh/AAAAAAAA+H8AAAAAAAD4fwAAAAAAAPh/AAAAAAAA+H8AAAAAAAD4fwAAAAAAAPh/AAAAAAAA+H8AAAAAAAD4fwAAAAAAAPh/AAAAAAAA+H8AAAAAAAD4fwAAAAAAAPh/AAAAAAAA+H8AAAAAAAD4fwAAAAAAAPh/AAAAAAAA+H8AAAAAAAD4fwAAAAAAAPh/AAAAAAAA+H8AAAAAAAD4fwAAAAAAAPh/AAAAAAAA+H8AAAAAAAD4fwAAAAAAAPh/AAAAAAAA+H8AAAAAAAD4fwAAAAAAAPh/AAAAAAAA+H8AAAAAAAD4fwAAAAAAAPh/AAAAAAAA+H8AAAAAAAD4fwAAAAAAAPh/AAAAAAAA+H8AAAAAAAD4fwAAAAAAAPh/AAAAAAAA+H8AAAAAAAD4fwAAAAAAAPh/AAAAAAAA+H8AAAAAAAD4fwAAAAAAAPh/AAAAAAAA+H8AAAAAAAD4fwAAAAAAAPh/AAAAAAAA+H8AAAAAAAD4fwAAAAAAAPh/AAAAAAAA+H8AAAAAAAD4fwAAAAAAAPh/AAAAAAAA+H8AAAAAAAD4fwAAAAAAAPh/AAAAAAAA+H8AAAAAAAD4fwAAAAAAAPh/AAAAAAAA+H8AAAAAAAD4fwAAAAAAAPh/AAAAAAAA+H8AAAAAAAD4fwAAAAAAAPh/AAAAAAAA+H8AAAAAAAD4fwAAAAAAAPh/AAAAAAAA+H8AAAAAAAD4fwAAAAAAAPh/AAAAAAAA+H8AAAAAAAD4fwAAAAAAAPh/AAAAAAAA+H8AAAAAAAD4fwAAAAAAAPh/AAAAAAAA+H8AAAAAAAD4fwAAAAAAAPh/AAAAAAAA+H8AAAAAAAD4fwAAAAAAAPh/VVVVVVXlVEAAAAAAAAD4fwAAAAAAAPh/AAAAAAAA+H8AAAAAAAD4fwAAAAAAAPh/AAAAAAAA+H8AAAAAAAD4fwAAAAAAAPh/AAAAAAAA+H8AAAAAAAD4fwAAAAAAAPh/AAAAAAAA+H8AAAAAAAD4fwAAAAAAAPh/AAAAAAAA+H8AAAAAAAD4fwAAAAAAAPh/AAAAAAAA+H8AAAAAAAD4fwAAAAAAAPh/AAAAAAAA+H8AAAAAAAD4fwAAAAAAAPh/AAAAAAAA+H8AAAAAAAD4fwAAAAAAAPh/AAAAAAAA+H8AAAAAAAD4fwAAAAAAAPh/AAAAAAAA+H8AAAAAAAD4fwAAAAAAAPh/AAAAAAAA+H8AAAAAAAD4fwAAAAAAAPh/AAAAAAAA+H+rqqqqqjpUQAAAAAAAAPh/AAAAAAAA+H8AAAAAAAD4fwAAAAAAAPh/AAAAAAAA+H8AAAAAAAD4fwAAAAAAAPh/AAAAAAAA+H8AAAAAAAD4fwAAAAAAAPh/AAAAAAAA+H8AAAAAAAD4fwAAAAAAAPh/AAAAAAAA+H8AAAAAAAD4fwAAAAAAAPh/AAAAAAAA+H8AAAAAAAD4fwAAAAAAAPh/AAAAAAAA+H8AAAAAAAD4fwAAAAAAAPh/AAAAAAAA+H8AAAAAAAD4fwAAAAAAAPh/AAAAAAAA+H8AAAAAAAD4fwAAAAAAAPh/AAAAAAAA+H8AAAAAAAD4fwAAAAAAAPh/AAAAAAAA+H8AAAAAAAD4fwAAAAAAAPh/AAAAAAAA+H8AAAAAAAD4fwAAAAAAAPh/AAAAAAAA+H8AAAAAAAD4fwAAAAAAAPh/AAAAAAAA+H8AAAAAAAD4fwAAAAAAAPh/AAAAAAAA+H8AAAAAAAD4fwAAAAAAAPh/AAAAAAAA+H8AAAAAAAD4fwAAAAAAAPh/AAAAAAAA+H8AAAAAAAD4fwAAAAAAAPh/AAAAAAAA+H8AAAAAAAD4fwAAAAAAAPh/AAAAAAAA+H8AAAAAAAD4fwAAAAAAAPh/AAAAAAAA+H8AAAAAAAD4fwAAAAAAAPh/AAAAAAAA+H8AAAAAAAD4fwAAAAAAAPh/AAAAAAAA+H8AAAAAAEBVQAAAAAAAAPh/AAAAAAAA+H8AAAAAAAD4fwAAAAAAAPh/AAAAAAAA+H8AAAAAAAD4fwAAAAAAAPh/AAAAAAAA+H8AAAAAAAD4fwAAAAAAAPh/AAAAAAAA+H8AAAAAAAD4fwAAAAAAAPh/AAAAAAAA+H8AAAAAAAD4fwAAAAAAAPh/AAAAAAAA+H8AAAAAAAD4fwAAAAAAAPh/AAAAAAAA+H8AAAAAAAD4fwAAAAAAAPh/AAAAAAAA+H8AAAAAAAD4fwAAAAAAAPh/AAAAAAAA+H8AAAAAAAD4fwAAAAAAAPh/AAAAAAAA+H8AAAAAAAD4fwAAAAAAAPh/AAAAAAAA+H8AAAAAAAD4fwAAAAAAAPh/AAAAAAAA+H8AAAAAAAD4fwAAAAAAAPh/AAAAAAAA+H8AAAAAAAD4fwAAAAAAAPh/AAAAAAAA+H8AAAAAAAD4fwAAAAAAAPh/AAAAAAAA+H8AAAAAAAD4fwAAAAAAAPh/AAAAAAAA+H8AAAAAAAD4fwAAAAAAAPh/AAAAAAAA+H8AAAAAAAD4fwAAAAAAAPh/AAAAAAAA+H8AAAAAAAD4fwAAAAAAAPh/AAAAAAAA+H8AAAAAAAD4fwAAAAAAAPh/AAAAAAAA+H8AAAAAAAD4fwAAAAAAAPh/AAAAAAAA+H8AAAAAAAD4fwAAAAAAAPh/AAAAAAAA+H+rqqqqqspUQAAAAAAAAPh/AAAAAAAA+H8AAAAAAAD4fwAAAAAAAPh/AAAAAAAA+H8AAAAAAAD4fwAAAAAAAPh/AAAAAAAA+H8AAAAAAAD4fwAAAAAAAPh/AAAAAAAA+H8AAAAAAAD4fwAAAAAAAPh/AAAAAAAA+H8AAAAAAAD4fwAAAAAAAPh/AAAAAAAA+H8AAAAAAAD4fwAAAAAAAPh/AAAAAAAA+H8AAAAAAAD4fwAAAAAAAPh/AAAAAAAA+H8AAAAAAAD4fwAAAAAAAPh/AAAAAAAA+H8AAAAAAAD4fwAAAAAAAPh/AAAAAAAA+H8AAAAAAAD4fwAAAAAAAPh/AAAAAAAA+H8AAAAAAAD4fwAAAAAAAPh/AAAAAAAA+H8AAAAAAAD4fwAAAAAAAPh/AAAAAAAA+H8AAAAAAAD4fwAAAAAAAPh/AAAAAAAA+H8AAAAAAAD4fwAAAAAAAPh/AAAAAAAA+H8AAAAAAAD4fwAAAAAAAPh/AAAAAAAA+H8AAAAAAAD4fwAAAAAAAPh/AAAAAAAA+H8AAAAAAOBUQAAAAAAAAPh/AAAAAAAA+H8AAAAAAAD4fwAAAAAAAPh/AAAAAAAA+H8AAAAAAAD4fwAAAAAAAPh/AAAAAAAA+H8AAAAAAAD4fwAAAAAAAPh/AAAAAAAA+H8AAAAAAAD4fwAAAAAAAPh/AAAAAAAA+H8AAAAAAAD4fwAAAAAAAPh/AAAAAAAA+H8AAAAAAAD4fwAAAAAAAPh/AAAAAAAA+H8AAAAAAAD4fwAAAAAAAPh/AAAAAAAA+H8AAAAAAAD4fwAAAAAAAPh/AAAAAAAA+H8AAAAAAAD4fwAAAAAAAPh/AAAAAAAA+H8AAAAAAAD4fwAAAAAAAPh/AAAAAAAA+H8AAAAAAAD4fwAAAAAAAPh/AAAAAAAA+H8AAAAAAAD4fwAAAAAAAPh/AAAAAAAA+H8AAAAAAAD4fwAAAAAAAPh/AAAAAAAA+H8AAAAAAAD4fwAAAAAAAPh/AAAAAAAA+H8AAAAAAAD4fwAAAAAAAPh/AAAAAAAA+H8AAAAAAAD4fwAAAAAAAPh/qqqqqqp6VUAAAAAAAAD4fwAAAAAAAPh/AAAAAAAA+H8AAAAAAAD4fwAAAAAAAPh/AAAAAAAA+H8AAAAAAAD4fwAAAAAAAPh/AAAAAAAA+H8AAAAAAAD4fwAAAAAAAPh/AAAAAAAA+H8AAAAAAAD4fwAAAAAAAPh/AAAAAAAA+H8AAAAAAAD4fwAAAAAAAPh/VVVVVVWlUkAAAAAAAAD4fwAAAAAAAPh/AAAAAAAA+H8AAAAAAAD4fwAAAAAAAPh/AAAAAAAA+H8AAAAAAAD4fwAAAAAAAPh/AAAAAAAA+H8AAAAAAAD4fwAAAAAAAPh/AAAAAAAA+H8AAAAAAAD4fwAAAAAAAPh/AAAAAAAA+H8AAAAAAAD4fwAAAAAAAPh/AAAAAAAA+H8AAAAAAAD4fwAAAAAAAPh/AAAAAAAA+H8AAAAAAAD4fwAAAAAAAPh/AAAAAAAA+H8AAAAAAAD4fwAAAAAAAPh/AAAAAAAA+H8AAAAAAAD4fwAAAAAAAPh/AAAAAAAA+H8AAAAAAAD4fwAAAAAAAPh/AAAAAAAA+H8AAAAAAAD4fwAAAAAAAPh/AAAAAAAA+H8AAAAAAAD4fwAAAAAAAPh/AAAAAAAA+H8AAAAAAAD4fwAAAAAAAPh/AAAAAAAA+H8AAAAAAAD4fwAAAAAAAPh/AAAAAAAA+H8AAAAAAAD4fwAAAAAAAPh/AAAAAAAA+H8AAAAAAAD4fwAAAAAAAPh/AAAAAAAA+H8AAAAAAAD4fwAAAAAAAPh/AAAAAAAA+H8AAAAAAAD4fwAAAAAAAPh/AAAAAAAA+H8AAAAAAAD4fwAAAAAAAPh/AAAAAAAA+H8AAAAAAAD4fwAAAAAAAPh/AAAAAAAA+H8AAAAAAAD4fwAAAAAAAPh/AAAAAAAA+H8AAAAAAAD4fwAAAAAAAPh/AAAAAAAA+H8AAAAAAAD4fwAAAAAAAPh/AAAAAAAA+H8AAAAAAAD4fwAAAAAAAPh/AAAAAAAA+H8AAAAAAAD4fwAAAAAAAPh/AAAAAAAA+H9WVVVVVTVVQAAAAAAAAPh/AAAAAAAA+H8AAAAAAAD4fwAAAAAAAPh/AAAAAAAA+H8AAAAAAAD4fwAAAAAAAPh/AAAAAAAA+H8AAAAAAAD4fwAAAAAAAPh/AAAAAAAA+H8AAAAAAAD4fwAAAAAAAPh/AAAAAAAA+H8AAAAAAAD4fwAAAAAAAPh/AAAAAAAA+H8AAAAAAAD4fwAAAAAAAPh/AAAAAAAA+H8AAAAAAAD4fwAAAAAAAPh/AAAAAAAA+H8AAAAAAAD4fwAAAAAAAPh/AAAAAAAA+H8AAAAAAAD4fwAAAAAAAPh/AAAAAAAA+H8AAAAAAAD4fwAAAAAAAPh/AAAAAAAA+H8AAAAAAAD4fwAAAAAAAPh/AAAAAAAA+H8AAAAAAAD4fwAAAAAAAPh/AAAAAAAA+H8AAAAAAAD4fwAAAAAAAPh/q6qqqqoKVUAAAAAAAAD4fwAAAAAAAPh/AAAAAAAA+H8AAAAAAAD4fwAAAAAAAPh/AAAAAAAA+H8AAAAAAAD4fwAAAAAAAPh/AAAAAAAA+H8AAAAAAAD4fwAAAAAAAPh/AAAAAAAA+H8AAAAAAAD4fwAAAAAAAPh/AAAAAAAA+H8AAAAAAAD4fwAAAAAAAPh/AAAAAAAA+H8AAAAAAAD4fwAAAAAAAPh/AAAAAAAA+H8AAAAAAAD4fwAAAAAAAPh/AAAAAAAA+H8AAAAAAAD4fwAAAAAAAPh/AAAAAAAA+H8AAAAAAAD4fwAAAAAAAPh/AAAAAAAA+H8AAAAAAAD4fwAAAAAAAPh/AAAAAAAA+H8AAAAAAAD4fwAAAAAAAPh/AAAAAAAA+H8AAAAAAAD4fwAAAAAAAPh/AAAAAAAA+H8AAAAAAAD4fwAAAAAAAPh/AAAAAAAA+H8AAAAAAAD4fwAAAAAAAPh/AAAAAAAA+H8AAAAAAAD4fwAAAAAAAPh/AAAAAAAA+H8AAAAAAAD4fwAAAAAAAPh/AAAAAAAA+H8AAAAAAAD4fwAAAAAAAPh/AAAAAAAA+H9WVVVVVfVUQAAAAAAAAPh/AAAAAAAA+H8AAAAAAAD4fwAAAAAAAPh/AAAAAAAA+H8AAAAAAAD4fwAAAAAAAPh/AAAAAAAA+H8AAAAAAAD4fwAAAAAAAPh/AAAAAAAA+H8AAAAAAAD4fwAAAAAAAPh/AAAAAAAA+H8AAAAAAAD4fwAAAAAAAPh/AAAAAAAA+H8AAAAAAAD4fwAAAAAAAPh/AAAAAAAA+H8AAAAAAAD4fwAAAAAAAPh/AAAAAAAA+H8AAAAAAAD4fwAAAAAAAPh/AAAAAAAA+H8AAAAAAAD4fwAAAAAAAPh/AAAAAAAA+H8AAAAAAAD4fwAAAAAAAPh/AAAAAAAA+H8AAAAAAAD4fwAAAAAAAPh/AAAAAAAA+H8AAAAAAAD4fwAAAAAAAPh/AAAAAAAA+H8AAAAAAAD4fwAAAAAAAPh/AAAAAAAA+H8AAAAAAAD4fwAAAAAAAPh/AAAAAAAA+H8AAAAAAAD4fwAAAAAAAPh/AAAAAAAA+H8AAAAAAAD4fwAAAAAAAPh/AAAAAAAA+H8AAAAAAAD4fwAAAAAAAPh/AAAAAAAA+H8AAAAAAAD4fwAAAAAAAPh/AAAAAAAA+H8AAAAAAAD4fwAAAAAAAPh/AAAAAAAA+H8AAAAAAAD4f1ZVVVVVNVVAAAAAAAAA+H8AAAAAAAD4fwAAAAAAAPh/AAAAAAAA+H8AAAAAAAD4fwAAAAAAAPh/AAAAAAAA+H8AAAAAAAD4fwAAAAAAAPh/AAAAAAAA+H8AAAAAAAD4fwAAAAAAAPh/AAAAAAAA+H8AAAAAAAD4fwAAAAAAAPh/AAAAAAAA+H8AAAAAAAD4fwAAAAAAAPh/AAAAAAAA+H8AAAAAAAD4fwAAAAAAAPh/AAAAAAAA+H8AAAAAAAD4fwAAAAAAAPh/AAAAAAAA+H8AAAAAAAD4fwAAAAAAAPh/AAAAAAAA+H8AAAAAAAD4fwAAAAAAAPh/AAAAAAAA+H8AAAAAAAD4fwAAAAAAAPh/AAAAAAAA+H8AAAAAAAD4fwAAAAAAAPh/AAAAAAAA+H8AAAAAAEBUQAAAAAAAAPh/AAAAAAAA+H8AAAAAAAD4fwAAAAAAAPh/AAAAAAAA+H8AAAAAAAD4fwAAAAAAAPh/AAAAAAAA+H8AAAAAAAD4fwAAAAAAAPh/AAAAAAAA+H8AAAAAAAD4fwAAAAAAAPh/AAAAAAAA+H8AAAAAAAD4fwAAAAAAAPh/AAAAAAAA+H8AAAAAAAD4fwAAAAAAAPh/AAAAAAAA+H8AAAAAAAD4fwAAAAAAAPh/AAAAAAAA+H8AAAAAAAD4fwAAAAAAAPh/AAAAAAAA+H8AAAAAAAD4fwAAAAAAAPh/AAAAAAAA+H8AAAAAAAD4fwAAAAAAAPh/AAAAAAAA+H8AAAAAAAD4fwAAAAAAAPh/AAAAAAAA+H8AAAAAAAD4fwAAAAAAAPh/AAAAAAAA+H8AAAAAAAD4fwAAAAAAAPh/AAAAAAAA+H8AAAAAAAD4fwAAAAAAAPh/AAAAAAAA+H8AAAAAAAD4fwAAAAAAAPh/AAAAAAAA+H8AAAAAAAD4fwAAAAAAAPh/AAAAAAAA+H8AAAAAAAD4fwAAAAAAAPh/AAAAAAAA+H8AAAAAAAD4fwAAAAAAAPh/AAAAAAAA+H8AAAAAAAD4fwAAAAAAAPh/q6qqqqrKSkAAAAAAAAD4fwAAAAAAAPh/AAAAAAAA+H8AAAAAAAD4fwAAAAAAAPh/AAAAAAAA+H8AAAAAAAD4fwAAAAAAAPh/AAAAAAAA+H8AAAAAAAD4fwAAAAAAAPh/AAAAAAAA+H8AAAAAAAD4fwAAAAAAAPh/AAAAAAAA+H8AAAAAAAD4fwAAAAAAAPh/AAAAAAAA+H8AAAAAAAD4fwAAAAAAAPh/AAAAAAAA+H8AAAAAAAD4fwAAAAAAAPh/AAAAAAAA+H8AAAAAAAD4fwAAAAAAAPh/AAAAAAAA+H8AAAAAAAD4fwAAAAAAAPh/AAAAAAAA+H8AAAAAAAD4fwAAAAAAAPh/AAAAAAAA+H8AAAAAAAD4fwAAAAAAAPh/AAAAAAAA+H8AAAAAAAD4fwAAAAAAAPh/AAAAAAAA+H8AAAAAAAD4fwAAAAAAAPh/AAAAAAAA+H8AAAAAAAD4fwAAAAAAAPh/AAAAAAAA+H8AAAAAAAD4fwAAAAAAAPh/AAAAAAAA+H8AAAAAAAD4fwAAAAAAAPh/AAAAAAAA+H8AAAAAAAD4fwAAAAAAAPh/AAAAAAAA+H8AAAAAAAD4fwAAAAAAAPh/AAAAAAAA+H8AAAAAAAD4fwAAAAAAAPh/AAAAAAAA+H8AAAAAAAD4fwAAAAAAAPh/AAAAAABgVUAAAAAAAAD4fwAAAAAAAPh/AAAAAAAA+H8AAAAAAAD4fwAAAAAAAPh/AAAAAAAA+H8AAAAAAAD4fwAAAAAAAPh/AAAAAAAA+H8AAAAAAAD4fwAAAAAAAPh/AAAAAAAA+H8AAAAAAAD4fwAAAAAAAPh/AAAAAAAA+H8AAAAAAAD4fwAAAAAAAPh/AAAAAAAA+H8AAAAAAAD4fwAAAAAAAPh/AAAAAAAA+H8AAAAAAAD4fwAAAAAAAPh/AAAAAAAA+H8AAAAAAAD4fwAAAAAAAPh/AAAAAAAA+H8AAAAAAAD4fwAAAAAAAPh/AAAAAAAA+H8AAAAAAAD4fwAAAAAAAPh/AAAAAAAA+H8AAAAAAAD4fwAAAAAAAPh/AAAAAAAA+H8AAAAAAAD4fwAAAAAAAPh/AAAAAAAA+H8AAAAAAAD4fwAAAAAAAPh/VVVVVVWFUkAAAAAAAAD4fwAAAAAAAPh/AAAAAAAA+H8AAAAAAAD4fwAAAAAAAPh/AAAAAAAA+H8AAAAAAAD4fwAAAAAAAPh/AAAAAAAA+H8AAAAAAAD4fwAAAAAAAPh/AAAAAAAA+H8AAAAAAAD4fwAAAAAAAPh/AAAAAAAA+H8AAAAAAAD4fwAAAAAAAPh/AAAAAAAA+H8AAAAAAAD4fwAAAAAAAPh/AAAAAAAA+H8AAAAAAAD4fwAAAAAAAPh/AAAAAAAA+H8AAAAAAAD4fwAAAAAAAPh/AAAAAAAA+H8AAAAAAAD4fwAAAAAAAPh/AAAAAAAA+H8AAAAAAAD4fwAAAAAAAPh/AAAAAAAA+H8AAAAAAAD4fwAAAAAAAPh/AAAAAAAA+H8AAAAAAAD4fwAAAAAAAPh/AAAAAAAA+H8AAAAAAAD4fwAAAAAAAPh/AAAAAAAA+H8AAAAAAAD4fwAAAAAAAPh/AAAAAAAA+H8AAAAAAAD4fwAAAAAAAPh/AAAAAAAA+H8AAAAAAAD4fwAAAAAAAPh/AAAAAAAA+H8AAAAAAAD4fwAAAAAAAPh/AAAAAAAA+H8AAAAAAAD4fwAAAAAAAPh/AAAAAAAA+H8AAAAAAAD4fwAAAAAAAPh/AAAAAAAA+H8AAAAAAAD4fwAAAAAAAPh/AAAAAAAA+H8AAAAAAAD4f6qqqqqqqi9AAAAAAAAA+H8AAAAAAAD4fwAAAAAAAPh/AAAAAAAA+H8AAAAAAAD4fwAAAAAAAPh/AAAAAAAA+H8AAAAAAAD4f1VVVVVVhVRAAAAAAAAA+H8AAAAAAAD4fwAAAAAAAPh/AAAAAAAA+H8AAAAAAAD4fwAAAAAAAPh/AAAAAAAA+H8AAAAAAAD4fwAAAAAAAPh/AAAAAAAA+H8AAAAAAAD4fwAAAAAAAPh/AAAAAAAA+H8AAAAAAAD4fwAAAAAAAPh/AAAAAAAA+H8AAAAAAAD4fwAAAAAAAPh/AAAAAAAA+H8AAAAAAAD4fwAAAAAAAPh/AAAAAAAA+H8AAAAAAAD4fwAAAAAAAPh/AAAAAAAA+H8AAAAAAAD4fwAAAAAAAPh/AAAAAAAA+H8AAAAAAAD4fwAAAAAAAPh/AAAAAAAA+H8AAAAAAAD4fwAAAAAAAPh/AAAAAAAA+H8AAAAAAAD4fwAAAAAAAPh/AAAAAAAA+H8AAAAAAAD4fwAAAAAAAPh/AAAAAAAA+H8AAAAAAAD4fwAAAAAAAPh/AAAAAAAA+H8AAAAAAAD4fwAAAAAAAPh/AAAAAAAA+H8AAAAAAAD4fwAAAAAAAPh/AAAAAAAA+H8AAAAAAAD4fwAAAAAAAPh/AAAAAAAA+H8AAAAAAAD4fwAAAAAAAPh/AAAAAAAA+H8AAAAAAAD4fwAAAAAAAPh/AAAAAAAA+H8AAAAAAAD4fwAAAAAAAPh/AAAAAAAA+H8AAAAAAAD4fwAAAAAAAPh/AAAAAAAA+H8AAAAAAAD4fwAAAAAAAPh/AAAAAAAA+H8AAAAAAAD4fwAAAAAAAPh/AAAAAAAA+H8AAAAAAAD4fwAAAAAAAPh/AAAAAAAA+H8AAAAAAAD4fwAAAAAAAPh/AAAAAAAA+H8AAAAAAAD4fwAAAAAAAPh/AAAAAAAA+H8AAAAAAAD4fwAAAAAAAPh/AAAAAAAA+H8AAAAAAAD4fwAAAAAAAPh/AAAAAAAA+H8AAAAAAAD4fwAAAAAAAPh/AAAAAAAA+H8AAAAAAAD4fwAAAAAAAPh/AAAAAAAA+H8AAAAAAAD4f1ZVVVVVNVVAAAAAAAAA+H8AAAAAAAD4fwAAAAAAAPh/AAAAAAAA+H8AAAAAAAD4fwAAAAAAAPh/AAAAAAAA+H8AAAAAAAD4fwAAAAAAAPh/AAAAAAAA+H8AAAAAAAD4fwAAAAAAAPh/AAAAAAAA+H8AAAAAAAD4fwAAAAAAAPh/AAAAAAAA+H8AAAAAAAD4fwAAAAAAAPh/AAAAAAAA+H8AAAAAAAD4fwAAAAAAAPh/AAAAAAAA+H8AAAAAAAD4fwAAAAAAAPh/AAAAAAAA+H8AAAAAAAD4fwAAAAAAAPh/AAAAAAAA+H8AAAAAAAD4fwAAAAAAAPh/AAAAAAAA+H8AAAAAAAD4fwAAAAAAAPh/AAAAAAAA+H8AAAAAAAD4fwAAAAAAAPh/AAAAAAAA+H8AAAAAAAD4fwAAAAAAAPh/AAAAAAAA+H8AAAAAAAD4fwAAAAAAAPh/AAAAAAAA+H8AAAAAAAD4fwAAAAAAAPh/AAAAAAAA+H8AAAAAAAD4fwAAAAAAAPh/AAAAAADAVEAAAAAAAAD4fwAAAAAAAPh/AAAAAAAA+H8AAAAAAAD4fwAAAAAAAPh/AAAAAAAA+H8AAAAAAAD4fwAAAAAAAPh/AAAAAAAA+H8AAAAAAAD4fwAAAAAAAPh/AAAAAAAA+H8AAAAAAAD4fwAAAAAAAPh/AAAAAAAA+H8AAAAAAAD4fwAAAAAAAPh/AAAAAAAA+H8AAAAAAAD4fwAAAAAAAPh/AAAAAAAA+H8AAAAAAAD4fwAAAAAAAPh/AAAAAAAA+H8AAAAAAAD4fwAAAAAAAPh/AAAAAAAA+H8AAAAAAAD4fwAAAAAAAPh/AAAAAAAA+H8AAAAAAAD4fwAAAAAAAPh/AAAAAAAA+H8AAAAAAAD4fwAAAAAAAPh/AAAAAAAA+H8AAAAAAAD4fwAAAAAAAPh/AAAAAAAA+H8AAAAAAAD4fwAAAAAAAPh/AAAAAAAA+H8AAAAAAAD4fwAAAAAAAPh/AAAAAAAA+H8AAAAAAAD4fwAAAAAAAPh/AAAAAAAA+H8AAAAAAAD4fwAAAAAAAPh/q6qqqqrqVEAAAAAAAAD4fwAAAAAAAPh/AAAAAAAA+H8AAAAAAAD4fwAAAAAAAPh/AAAAAAAA+H8AAAAAAAD4fwAAAAAAAPh/AAAAAAAA+H8AAAAAAAD4fwAAAAAAAPh/AAAAAAAA+H8AAAAAAAD4fwAAAAAAAPh/AAAAAAAA+H8AAAAAAAD4fwAAAAAAAPh/AAAAAAAA+H8AAAAAAAD4fwAAAAAAAPh/AAAAAAAA+H8AAAAAAAD4fwAAAAAAAPh/AAAAAAAA+H8AAAAAAAD4fwAAAAAAAPh/AAAAAAAA+H8AAAAAAAD4fwAAAAAAAPh/AAAAAAAA+H8AAAAAAAD4fwAAAAAAAPh/AAAAAAAA+H8AAAAAAAD4f6uqqqqq6lRAAAAAAAAA+H8AAAAAAAD4fwAAAAAAAPh/AAAAAAAA+H8AAAAAAAD4fwAAAAAAAPh/AAAAAAAA+H8AAAAAAAD4fwAAAAAAAPh/AAAAAAAA+H8AAAAAAAD4fwAAAAAAAPh/AAAAAAAA+H8AAAAAAAD4fwAAAAAAAPh/AAAAAAAA+H8AAAAAAAD4fwAAAAAAAPh/AAAAAAAA+H8AAAAAAAD4fwAAAAAAAPh/AAAAAAAA+H8AAAAAAAD4fwAAAAAAAPh/AAAAAAAA+H8AAAAAAAD4fwAAAAAAAPh/AAAAAAAA+H8AAAAAAAD4fwAAAAAAAPh/AAAAAAAA+H8AAAAAAAD4fwAAAAAAAPh/AAAAAAAA+H8AAAAAAAD4fwAAAAAAAPh/AAAAAAAA+H8AAAAAAAD4fwAAAAAAAPh/AAAAAAAA+H8AAAAAAAD4fwAAAAAAAPh/AAAAAAAA+H8AAAAAAAD4fwAAAAAAAPh/AAAAAAAwVUAAAAAAAAD4fwAAAAAAAPh/AAAAAAAA+H8AAAAAAAD4fwAAAAAAAPh/AAAAAAAA+H8AAAAAAAD4fwAAAAAAAPh/AAAAAAAA+H8AAAAAAAD4fwAAAAAAAPh/AAAAAAAA+H8AAAAAAAD4fwAAAAAAAPh/AAAAAAAA+H8AAAAAAAD4fwAAAAAAAPh/AAAAAAAA+H8AAAAAAAD4fwAAAAAAAPh/AAAAAAAA+H8AAAAAAAD4fwAAAAAAAPh/AAAAAAAA+H8AAAAAAAD4fwAAAAAAAPh/AAAAAAAA+H8AAAAAAAD4fwAAAAAAAPh/AAAAAAAA+H8AAAAAAAD4fwAAAAAAAPh/AAAAAAAA+H8AAAAAAAD4fwAAAAAAAPh/AAAAAAAA+H8AAAAAAAD4fwAAAAAAAPh/AAAAAAAA+H8AAAAAAAD4fwAAAAAAAPh/AAAAAAAA+H8AAAAAAAD4fwAAAAAAAPh/AAAAAAAA+H8AAAAAAAD4fwAAAAAAAPh/AAAAAAAA+H8AAAAAAAD4fwAAAAAAAPh/AAAAAAAA+H8AAAAAAAD4fwAAAAAAAPh/AAAAAAAA+H8AAAAAAAD4fwAAAAAAAPh/AAAAAAAA+H8AAAAAAAD4fwAAAAAAAPh/AAAAAAAA+H8AAAAAAAD4fwAAAAAAAPh/AAAAAAAA+H8AAAAAAGBVQAAAAAAAAPh/AAAAAAAA+H8AAAAAAAD4fwAAAAAAAPh/AAAAAAAA+H8AAAAAAAD4fwAAAAAAAPh/AAAAAAAA+H8AAAAAAAD4fwAAAAAAAPh/AAAAAAAA+H8AAAAAAAD4fwAAAAAAAPh/AAAAAAAA+H8AAAAAAAD4fwAAAAAAAPh/AAAAAAAA+H8AAAAAAAD4fwAAAAAAAPh/AAAAAAAA+H8AAAAAAAD4f1ZVVVVV9VRAAAAAAAAA+H8AAAAAAAD4fwAAAAAAAPh/AAAAAAAA+H8AAAAAAAD4fwAAAAAAAPh/AAAAAAAA+H8AAAAAAAD4fwAAAAAAAPh/AAAAAAAA+H8AAAAAAAD4fwAAAAAAAPh/AAAAAAAA+H8AAAAAAAD4fwAAAAAAAPh/AAAAAAAA+H8AAAAAAAD4fwAAAAAAAPh/AAAAAAAA+H8AAAAAAAD4fwAAAAAAAPh/AAAAAAAA+H8AAAAAAAD4fwAAAAAAAPh/AAAAAAAA+H8AAAAAAAD4fwAAAAAAAPh/AAAAAAAA+H8AAAAAAAD4fwAAAAAAAPh/AAAAAAAA+H8AAAAAAAD4fwAAAAAAAPh/AAAAAAAA+H8AAAAAAAD4fwAAAAAAAPh/AAAAAAAA+H8AAAAAAAD4fwAAAAAAAPh/AAAAAAAA+H8AAAAAAAD4fwAAAAAAAPh/AAAAAAAA+H8AAAAAAAD4fwAAAAAAAPh/AAAAAAAA+H8AAAAAAAD4fwAAAAAAAPh/AAAAAAAA+H8AAAAAAAD4fwAAAAAAAPh/AAAAAAAA+H8AAAAAAAD4fwAAAAAAAPh/AAAAAAAA+H8AAAAAAAD4fwAAAAAAAPh/AAAAAAAA+H8AAAAAAAD4fwAAAAAAAPh/AAAAAAAA+H8AAAAAAAD4fwAAAAAAAPh/AAAAAAAA+H8AAAAAAAD4fwAAAAAAAPh/AAAAAAAA+H8AAAAAAAD4fwAAAAAAAPh/AAAAAAAA+H8AAAAAAAD4fwAAAAAAAPh/AAAAAAAA+H8AAAAAAAD4fwAAAAAAAPh/AAAAAAAA+H+qqqqqqhpVQAAAAAAAAPh/AAAAAAAA+H8AAAAAAAD4fwAAAAAAAPh/AAAAAAAA+H8AAAAAAAD4fwAAAAAAAPh/AAAAAAAA+H8AAAAAAAD4fwAAAAAAAPh/AAAAAAAA+H8AAAAAAAD4fwAAAAAAAPh/AAAAAAAA+H8AAAAAAAD4fwAAAAAAAPh/AAAAAAAA+H8AAAAAAAD4fwAAAAAAAPh/AAAAAAAA+H8AAAAAAAD4fwAAAAAAAPh/AAAAAAAA+H8AAAAAAAD4fwAAAAAAAPh/AAAAAAAA+H8AAAAAAAD4fwAAAAAAAPh/q6qqqqqqVEAAAAAAAAD4fwAAAAAAAPh/AAAAAAAA+H8AAAAAAAD4fwAAAAAAAPh/AAAAAAAA+H8AAAAAAAD4fwAAAAAAAPh/AAAAAAAA+H8AAAAAAAD4fwAAAAAAAPh/AAAAAAAA+H8AAAAAAAD4fwAAAAAAAPh/AAAAAAAA+H8AAAAAAAD4fwAAAAAAAPh/AAAAAAAA+H8AAAAAAAD4fwAAAAAAAPh/AAAAAAAA+H8AAAAAAAD4fwAAAAAAAPh/AAAAAAAA+H8AAAAAAAD4fwAAAAAAAPh/AAAAAAAA+H8AAAAAAAD4fwAAAAAAAPh/AAAAAAAA+H8AAAAAAAD4fwAAAAAAAPh/AAAAAAAA+H8AAAAAAAD4fwAAAAAAAPh/AAAAAAAA+H8AAAAAAAD4fwAAAAAAAPh/AAAAAAAA+H8AAAAAAAD4fwAAAAAAAPh/AAAAAAAA+H8AAAAAAAD4fwAAAAAAAPh/AAAAAAAA+H8AAAAAAAD4fwAAAAAAAPh/AAAAAAAA+H8AAAAAAAD4fwAAAAAAAPh/AAAAAAAA+H8AAAAAAAD4fwAAAAAAAPh/AAAAAAAA+H+rqqqqqopUQAAAAAAAAPh/AAAAAAAA+H8AAAAAAAD4fwAAAAAAAPh/AAAAAAAA+H8AAAAAAAD4fwAAAAAAAPh/AAAAAAAA+H8AAAAAAAD4fwAAAAAAAPh/AAAAAAAA+H8AAAAAAAD4fwAAAAAAAPh/AAAAAAAA+H8AAAAAAAD4fwAAAAAAAPh/AAAAAAAA+H8AAAAAAAD4fwAAAAAAAPh/AAAAAAAA+H8AAAAAAAD4fwAAAAAAAPh/AAAAAAAA+H8AAAAAAAD4fwAAAAAAAPh/AAAAAAAA+H8AAAAAAAD4fwAAAAAAAPh/AAAAAAAA+H8AAAAAAAD4fwAAAAAAAPh/AAAAAAAA+H8AAAAAAAD4fwAAAAAAAPh/AAAAAAAA+H8AAAAAAAD4fwAAAAAAAPh/AAAAAAAA+H8AAAAAAAD4fwAAAAAAAPh/AAAAAAAA+H8AAAAAAAD4fwAAAAAAAPh/AAAAAAAA+H8AAAAAAAD4fwAAAAAAAPh/AAAAAAAA+H8AAAAAAAD4fwAAAAAAAPh/AAAAAAAA+H8AAAAAAAD4fwAAAAAAAPh/AAAAAAAA+H8AAAAAAAD4fwAAAAAAAPh/AAAAAAAA+H8AAAAAAAD4fwAAAAAAAPh/AAAAAAAA+H8AAAAAAAD4fwAAAAAAAPh/AAAAAAAQVUAAAAAAAAD4fwAAAAAAAPh/AAAAAAAA+H8AAAAAAAD4fwAAAAAAAPh/AAAAAAAA+H8AAAAAAAD4fwAAAAAAAPh/AAAAAAAA+H8AAAAAAAD4fwAAAAAAAPh/AAAAAAAA+H8AAAAAAAD4fwAAAAAAAPh/AAAAAAAA+H8AAAAAAAD4fwAAAAAAAPh/AAAAAAAA+H8AAAAAAAD4fwAAAAAAAPh/AAAAAAAA+H8AAAAAAAD4fwAAAAAAAPh/AAAAAAAA+H8AAAAAAAD4fwAAAAAAAPh/AAAAAAAA+H8AAAAAAAD4fwAAAAAAAPh/AAAAAAAA+H8AAAAAAAD4fwAAAAAAAPh/AAAAAAAA+H8AAAAAAAD4fwAAAAAAAPh/AAAAAAAA+H8AAAAAAAD4fwAAAAAAAPh/AAAAAAAA+H8AAAAAAAD4fwAAAAAAAPh/AAAAAAAA+H8AAAAAAAD4fwAAAAAAAPh/AAAAAAAA+H8AAAAAAAD4f1VVVVVVBVVAAAAAAAAA+H8AAAAAAAD4fwAAAAAAAPh/AAAAAAAA+H8AAAAAAAD4fwAAAAAAAPh/AAAAAAAA+H8AAAAAAAD4fwAAAAAAAPh/AAAAAAAA+H8AAAAAAAD4fwAAAAAAAPh/AAAAAAAA+H8AAAAAAAD4fwAAAAAAAPh/AAAAAAAA+H8AAAAAAAD4fwAAAAAAAPh/AAAAAAAA+H8AAAAAAAD4fwAAAAAAAPh/AAAAAAAA+H8AAAAAAAD4fwAAAAAAAPh/AAAAAAAA+H8AAAAAAAD4fwAAAAAAAPh/AAAAAAAA+H8AAAAAAAD4fwAAAAAAAPh/AAAAAAAA+H8AAAAAAAD4fwAAAAAAAPh/AAAAAAAA+H8AAAAAAAD4fwAAAAAAAPh/AAAAAAAA+H8AAAAAAAD4fwAAAAAAAPh/AAAAAAAA+H8AAAAAAAD4fwAAAAAAAPh/AAAAAAAA+H8AAAAAAAD4fwAAAAAAAPh/AAAAAAAA+H8AAAAAAAD4fwAAAAAAAPh/AAAAAAAA+H8AAAAAAAD4fwAAAAAAAPh/AAAAAAAA+H+rqqqqqopUQAAAAAAAAPh/AAAAAAAA+H8AAAAAAAD4fwAAAAAAAPh/AAAAAAAA+H8AAAAAAAD4fwAAAAAAAPh/AAAAAAAA+H8AAAAAAAD4fwAAAAAAAPh/AAAAAAAA+H8AAAAAAAD4fwAAAAAAAPh/AAAAAAAA+H8AAAAAAAD4fwAAAAAAAPh/AAAAAAAA+H8AAAAAAAD4fwAAAAAAAPh/AAAAAAAA+H8AAAAAAAD4fwAAAAAAAPh/AAAAAAAA+H8AAAAAAAD4fwAAAAAAAPh/AAAAAAAA+H8AAAAAAAD4fwAAAAAAAPh/AAAAAAAA+H8AAAAAAAD4fwAAAAAAAPh/AAAAAAAA+H8AAAAAAAD4fwAAAAAAAPh/AAAAAAAA+H8AAAAAAAD4fwAAAAAAAPh/AAAAAAAA+H8AAAAAAAD4fwAAAAAAAPh/AAAAAAAA+H8AAAAAAAD4fwAAAAAAAPh/AAAAAAAA+H8AAAAAAAD4fwAAAAAAAPh/AAAAAAAA+H8AAAAAAAD4fwAAAAAAAPh/AAAAAAAA+H8AAAAAAAD4fwAAAAAAAPh/AAAAAAAA+H8AAAAAAAD4f1ZVVVVVBVNAAAAAAAAA+H8AAAAAAAD4fwAAAAAAAPh/AAAAAAAA+H8AAAAAAAD4fwAAAAAAAPh/AAAAAAAA+H8AAAAAAAD4fwAAAAAAAPh/AAAAAAAA+H8AAAAAAAD4fwAAAAAAAPh/AAAAAAAA+H8AAAAAAAD4fwAAAAAAAPh/AAAAAAAA+H8AAAAAAAD4fwAAAAAAAPh/AAAAAAAA+H8AAAAAAAD4fwAAAAAAAPh/AAAAAAAA+H8AAAAAAAD4fwAAAAAAAPh/AAAAAAAA+H8AAAAAAAD4fwAAAAAAAPh/AAAAAAAA+H8AAAAAAAD4fwAAAAAAAPh/AAAAAAAA+H8AAAAAAAD4fwAAAAAAAPh/AAAAAAAA+H8AAAAAAAD4fwAAAAAAAPh/AAAAAAAA+H8AAAAAAAD4fwAAAAAAAPh/AAAAAAAA+H8AAAAAAAD4fwAAAAAAAPh/AAAAAAAA+H8AAAAAAAD4fwAAAAAAAPh/AAAAAAAA+H8AAAAAAPBUQAAAAAAAAPh/AAAAAAAA+H8AAAAAAAD4fwAAAAAAAPh/AAAAAAAA+H8AAAAAAAD4fwAAAAAAAPh/AAAAAAAA+H8AAAAAAAD4fwAAAAAAAPh/AAAAAAAA+H8AAAAAAAD4fwAAAAAAAPh/AAAAAAAA+H8AAAAAAAD4fwAAAAAAAPh/AAAAAAAA+H8AAAAAAAD4fwAAAAAAAPh/AAAAAAAA+H8AAAAAAAD4fwAAAAAAAPh/AAAAAAAA+H8AAAAAAAD4fwAAAAAAAPh/AAAAAAAA+H8AAAAAAAD4fwAAAAAAAPh/AAAAAAAA+H8AAAAAAAD4fwAAAAAAAPh/AAAAAAAA+H8AAAAAAAD4fwAAAAAAAPh/AAAAAAAA+H8AAAAAAAD4fwAAAAAAAPh/AAAAAAAA+H8AAAAAAAD4fwAAAAAAAPh/AAAAAAAA+H8AAAAAAAD4fwAAAAAAAPh/AAAAAAAA+H8AAAAAAAD4fwAAAAAAAPh/AAAAAAAA+H8AAAAAAAD4fwAAAAAAAPh/AAAAAADwVEAAAAAAAAD4fwAAAAAAAPh/AAAAAAAA+H8AAAAAAAD4fwAAAAAAAPh/AAAAAAAA+H8AAAAAAAD4fwAAAAAAAPh/AAAAAAAA+H8AAAAAAAD4fwAAAAAAAPh/AAAAAAAA+H8AAAAAAAD4fwAAAAAAAPh/AAAAAAAA+H8AAAAAAAD4fwAAAAAAAPh/AAAAAAAA+H8AAAAAAAD4fwAAAAAAAPh/AAAAAAAA+H8AAAAAAAD4fwAAAAAAAPh/AAAAAAAA+H8AAAAAAAD4fwAAAAAAAPh/AAAAAAAA+H8AAAAAAAD4fwAAAAAAAPh/AAAAAAAA+H8AAAAAAAD4fwAAAAAAAPh/AAAAAAAA+H8AAAAAAAD4fwAAAAAAAPh/AAAAAAAA+H8AAAAAAAD4fwAAAAAAAPh/AAAAAAAA+H8AAAAAAAD4fwAAAAAAAPh/AAAAAAAA+H8AAAAAAAD4fwAAAAAAAPh/AAAAAAAA+H8AAAAAAAD4fwAAAAAAAPh/AAAAAAAA+H8AAAAAAAD4fwAAAAAAAPh/AAAAAAAA+H8AAAAAAAD4fwAAAAAAAPh/AAAAAAAA+H8AAAAAAAD4fwAAAAAAAPh/AAAAAAAA+H8AAAAAAAD4fwAAAAAAAPh/AAAAAAAA+H8AAAAAAAD4fwAAAAAAAPh/AAAAAAAA+H9VVVVVVcVUQAAAAAAAAPh/AAAAAAAA+H8AAAAAAAD4fwAAAAAAAPh/AAAAAAAA+H8AAAAAAAD4fwAAAAAAAPh/AAAAAAAA+H8AAAAAAAD4fwAAAAAAAPh/AAAAAAAA+H8AAAAAAAD4fwAAAAAAAPh/AAAAAAAA+H8AAAAAAAD4fwAAAAAAAPh/AAAAAAAA+H8AAAAAAAD4fwAAAAAAAPh/AAAAAAAA+H8AAAAAAAD4fwAAAAAAAPh/AAAAAAAA+H8AAAAAAAD4fwAAAAAAAPh/AAAAAAAA+H8AAAAAAAD4fwAAAAAAAPh/AAAAAAAA+H8AAAAAAAD4fwAAAAAAAPh/AAAAAAAA+H8AAAAAAAD4fwAAAAAAAPh/AAAAAAAA+H8AAAAAAAD4fwAAAAAAAPh/AAAAAAAA+H8AAAAAAAD4fwAAAAAAAPh/AAAAAAAA+H8AAAAAAAD4fwAAAAAAAPh/AAAAAAAA+H8AAAAAAAD4fwAAAAAAAPh/AAAAAAAA+H8AAAAAAAD4fwAAAAAAAPh/AAAAAAAA+H8AAAAAAAD4fwAAAAAAAPh/AAAAAAAA+H8AAAAAAAD4fwAAAAAAkFRAAAAAAAAA+H8AAAAAAAD4fwAAAAAAAPh/AAAAAAAA+H8AAAAAAAD4fwAAAAAAAPh/AAAAAAAA+H8AAAAAAAD4fwAAAAAAAPh/AAAAAAAA+H8AAAAAAAD4fwAAAAAAAPh/AAAAAAAA+H8AAAAAAAD4fwAAAAAAAPh/AAAAAAAA+H8AAAAAAAD4fwAAAAAAAPh/AAAAAAAA+H8AAAAAAAD4fwAAAAAAAPh/AAAAAAAA+H8AAAAAAAD4fwAAAAAAAPh/AAAAAAAA+H8AAAAAAAD4fwAAAAAAAPh/AAAAAAAA+H8AAAAAAAD4fwAAAAAAAPh/AAAAAAAA+H8AAAAAAAD4fwAAAAAAAPh/AAAAAAAA+H8AAAAAAAD4fwAAAAAAAPh/AAAAAAAA+H8AAAAAAAD4fwAAAAAAAPh/AAAAAAAA+H8AAAAAAAD4fwAAAAAAAPh/AAAAAAAA+H8AAAAAAAD4fwAAAAAAAPh/AAAAAAAgVUAAAAAAAAD4fwAAAAAAAPh/AAAAAAAA+H8AAAAAAAD4fwAAAAAAAPh/AAAAAAAA+H8AAAAAAAD4fwAAAAAAAPh/AAAAAAAA+H8AAAAAAAD4fwAAAAAAAPh/AAAAAAAA+H8AAAAAAAD4fwAAAAAAAPh/AAAAAAAA+H8AAAAAAAD4fwAAAAAAAPh/AAAAAAAA+H8AAAAAAAD4fwAAAAAAAPh/AAAAAAAA+H8AAAAAAAD4fwAAAAAAAPh/AAAAAAAA+H8AAAAAAAD4fwAAAAAAAPh/AAAAAAAA+H8AAAAAAAD4fwAAAAAAAPh/AAAAAAAA+H8AAAAAAAD4fwAAAAAAAPh/AAAAAAAA+H8AAAAAAAD4fwAAAAAAAPh/AAAAAAAA+H8AAAAAAAD4fwAAAAAAAPh/AAAAAAAA+H8AAAAAAAD4fwAAAAAAAPh/AAAAAAAA+H8AAAAAAAD4fwAAAAAAAPh/AAAAAAAA+H8AAAAAAAD4fwAAAAAAAPh/AAAAAAAA+H8AAAAAAAD4fwAAAAAAAPh/AAAAAAAA+H8AAAAAAAD4fwAAAAAAAPh/AAAAAAAA+H8AAAAAAAD4fwAAAAAAAPh/AAAAAAAA+H8AAAAAAAD4fwAAAAAAAPh/AAAAAAAA+H8AAAAAAAD4fwAAAAAAAPh/q6qqqqpaVEAAAAAAAAD4fwAAAAAAAPh/AAAAAAAA+H8AAAAAAAD4fwAAAAAAAPh/AAAAAAAA+H8AAAAAAAD4fwAAAAAAAPh/AAAAAAAA+H8AAAAAAAD4fwAAAAAAAPh/AAAAAAAA+H8AAAAAAAD4fwAAAAAAAPh/AAAAAAAA+H8AAAAAAAD4fwAAAAAAAPh/AAAAAAAA+H8AAAAAAAD4fwAAAAAAAPh/AAAAAAAA+H8AAAAAAAD4fwAAAAAAAPh/AAAAAAAA+H8AAAAAAAD4fwAAAAAAAPh/AAAAAAAA+H8AAAAAAAD4fwAAAAAAAPh/AAAAAAAA+H8AAAAAAAD4fwAAAAAAAPh/VlVVVVWVVEAAAAAAAAD4fwAAAAAAAPh/AAAAAAAA+H8AAAAAAAD4fwAAAAAAAPh/AAAAAAAA+H8AAAAAAAD4fwAAAAAAAPh/AAAAAAAA+H8AAAAAAAD4fwAAAAAAAPh/AAAAAAAA+H8AAAAAAAD4fwAAAAAAAPh/AAAAAAAA+H8AAAAAAAD4fwAAAAAAAPh/AAAAAAAA+H8AAAAAAAD4fwAAAAAAAPh/AAAAAAAA+H8AAAAAAAD4fwAAAAAAAPh/AAAAAAAA+H8AAAAAAAD4fwAAAAAAAPh/AAAAAAAA+H8AAAAAAAD4fwAAAAAAAPh/AAAAAAAA+H8AAAAAAAD4fwAAAAAAAPh/AAAAAAAA+H8AAAAAAAD4fwAAAAAAAPh/AAAAAAAA+H8AAAAAAAD4fwAAAAAAAPh/AAAAAAAA+H8AAAAAAAD4fwAAAAAAAPh/AAAAAAAA+H8AAAAAAAD4fwAAAAAAAPh/AAAAAAAA+H8AAAAAAAD4fwAAAAAAAPh/AAAAAAAA+H8AAAAAAAD4fwAAAAAAAPh/AAAAAAAA+H8AAAAAAAD4fwAAAAAAAPh/AAAAAAAA+H8AAAAAAAD4fwAAAAAAAPh/AAAAAAAA+H8AAAAAAAD4fwAAAAAAAPh/AAAAAAAA+H9VVVVVVYVUQAAAAAAAAPh/AAAAAAAA+H8AAAAAAAD4fwAAAAAAAPh/AAAAAAAA+H8AAAAAAAD4fwAAAAAAAPh/AAAAAAAA+H8AAAAAAAD4fwAAAAAAAPh/AAAAAAAA+H8AAAAAAAD4fwAAAAAAAPh/AAAAAAAA+H8AAAAAAAD4fwAAAAAAAPh/AAAAAAAA+H8AAAAAAAD4fwAAAAAAAPh/AAAAAAAA+H8AAAAAAAD4fwAAAAAAAPh/AAAAAAAA+H8AAAAAAAD4fwAAAAAAAPh/AAAAAAAA+H8AAAAAAAD4fwAAAAAAAPh/AAAAAAAA+H8AAAAAAAD4fwAAAAAAAPh/AAAAAAAA+H8AAAAAAAD4fwAAAAAAAPh/AAAAAAAA+H8AAAAAAAD4fwAAAAAAAPh/AAAAAAAA+H8AAAAAAAD4fwAAAAAAAPh/AAAAAAAA+H8AAAAAAAD4fwAAAAAAAPh/AAAAAAAA+H8AAAAAAAD4fwAAAAAAAPh/AAAAAAAA+H+qqqqqqtpUQAAAAAAAAPh/AAAAAAAA+H8AAAAAAAD4fwAAAAAAAPh/AAAAAAAA+H8AAAAAAAD4fwAAAAAAAPh/AAAAAAAA+H8AAAAAAAD4fwAAAAAAAPh/AAAAAAAA+H8AAAAAAAD4fwAAAAAAAPh/AAAAAAAA+H8AAAAAAAD4fwAAAAAAAPh/AAAAAAAA+H8AAAAAAAD4fwAAAAAAAPh/AAAAAAAA+H8AAAAAAAD4fwAAAAAAAPh/AAAAAAAA+H8AAAAAAAD4fwAAAAAAAPh/AAAAAAAA+H8AAAAAAAD4fwAAAAAAAPh/AAAAAAAA+H8AAAAAAAD4fwAAAAAAAPh/AAAAAAAA+H8AAAAAAAD4fwAAAAAAAPh/AAAAAAAA+H8AAAAAAAD4fwAAAAAAAPh/AAAAAAAA+H8AAAAAAAD4fwAAAAAAAPh/AAAAAAAA+H8AAAAAAAD4fwAAAAAAAPh/AAAAAAAA+H8AAAAAAAD4fwAAAAAAAPh/AAAAAAAA+H8AAAAAAAD4fwAAAAAAAPh/AAAAAAAA+H8AAAAAAAD4fwAAAAAAAPh/AAAAAAAA+H8AAAAAAAD4fwAAAAAAAPh/AAAAAAAA+H8AAAAAAAD4fwAAAAAAAPh/AAAAAAAA+H8AAAAAAAD4fwAAAAAAAPh/AAAAAAAA+H8AAAAAAAD4fwAAAAAAAPh/AAAAAAAA+H8AAAAAAAD4fwAAAAAAAPh/AAAAAAAA+H8AAAAAAAD4fwAAAAAAAPh/AAAAAAAA+H8AAAAAAAD4fwAAAAAAAPh/AAAAAAAA+H8AAAAAAAD4f6uqqqqqCk9AAAAAAAAA+H8AAAAAAAD4fwAAAAAAAPh/AAAAAAAA+H8AAAAAAAD4fwAAAAAAAPh/AAAAAAAA+H8AAAAAAAD4fwAAAAAAAPh/AAAAAAAA+H8AAAAAAAD4fwAAAAAAAPh/AAAAAAAA+H8AAAAAAAD4fwAAAAAAAPh/AAAAAAAA+H8AAAAAAAD4fwAAAAAAAPh/AAAAAAAA+H8AAAAAAAD4fwAAAAAAAPh/AAAAAAAA+H8AAAAAAAD4fwAAAAAAAPh/AAAAAAAA+H8AAAAAAAD4fwAAAAAAAPh/AAAAAAAA+H8AAAAAAAD4fwAAAAAAAPh/AAAAAAAA+H8AAAAAAAD4fwAAAAAAAPh/AAAAAAAA+H8AAAAAANBUQAAAAAAAAPh/AAAAAAAA+H8AAAAAAAD4fwAAAAAAAPh/AAAAAAAA+H8AAAAAAAD4fwAAAAAAAPh/AAAAAAAA+H8AAAAAAAD4fwAAAAAAAPh/AAAAAAAA+H8AAAAAAAD4fwAAAAAAAPh/AAAAAAAA+H8AAAAAAAD4fwAAAAAAAPh/AAAAAAAA+H8AAAAAAAD4fwAAAAAAAPh/AAAAAAAA+H8AAAAAAAD4fwAAAAAAAPh/AAAAAAAA+H8AAAAAAAD4fwAAAAAAAPh/AAAAAAAA+H8AAAAAAAD4fwAAAAAAAPh/AAAAAAAA+H8AAAAAAAD4fwAAAAAAAPh/AAAAAAAA+H8AAAAAACBUQAAAAAAAAPh/AAAAAAAA+H8AAAAAAAD4fwAAAAAAAPh/AAAAAAAA+H8AAAAAAAD4fwAAAAAAAPh/AAAAAAAA+H8AAAAAAAD4fwAAAAAAAPh/AAAAAAAA+H8AAAAAAAD4fwAAAAAAAPh/AAAAAAAA+H8AAAAAAAD4fwAAAAAAAPh/AAAAAAAA+H8AAAAAAAD4fwAAAAAAAPh/AAAAAAAA+H8AAAAAAAD4fwAAAAAAAPh/AAAAAAAA+H8AAAAAAAD4fwAAAAAAAPh/AAAAAAAA+H8AAAAAAAD4fwAAAAAAAPh/AAAAAAAA+H8AAAAAAAD4fwAAAAAAAPh/AAAAAAAA+H8AAAAAAAD4fwAAAAAAAPh/AAAAAAAA+H8AAAAAAAD4fwAAAAAAAPh/AAAAAAAA+H8AAAAAAAD4fwAAAAAAAPh/AAAAAAAA+H8AAAAAAAD4fwAAAAAAAPh/AAAAAAAA+H8AAAAAAAD4fwAAAAAAAPh/AAAAAAAA+H8AAAAAAAD4fwAAAAAAAPh/AAAAAAAA+H8AAAAAAAD4fwAAAAAAAPh/AAAAAAAA+H8AAAAAAAD4fwAAAAAAAPh/AAAAAAAA+H8AAAAAAAD4fwAAAAAAAPh/AAAAAAAA+H8AAAAAAAD4fwAAAAAAAPh/AAAAAAAA+H8AAAAAAAD4fwAAAAAAAPh/AAAAAAAA+H8AAAAAAAD4fwAAAAAAAPh/AAAAAAAA+H8AAAAAAAD4fwAAAAAAAPh/AAAAAAAA+H8AAAAAAAD4fwAAAAAAAPh/AAAAAAAA+H8AAAAAAAD4fwAAAAAAAPh/AAAAAAAA+H8AAAAAAAD4fwAAAAAAAPh/AAAAAAAA+H8AAAAAAAD4fwAAAAAAAPh/VVVVVVUlUkAAAAAAAAD4fwAAAAAAAPh/AAAAAAAA+H8AAAAAAAD4fwAAAAAAAPh/AAAAAAAA+H8AAAAAAAD4fwAAAAAAAPh/AAAAAAAA+H8AAAAAAAD4fwAAAAAAAPh/AAAAAAAA+H8AAAAAAAD4fwAAAAAAAPh/AAAAAAAA+H8AAAAAAAD4fwAAAAAAAPh/AAAAAAAA+H8AAAAAAAD4fwAAAAAAAPh/AAAAAAAA+H8AAAAAAAD4fwAAAAAAAPh/AAAAAAAA+H8AAAAAAAD4f6uqqqqqWlRAAAAAAAAA+H8AAAAAAAD4fwAAAAAAAPh/AAAAAAAA+H8AAAAAAAD4fwAAAAAAAPh/AAAAAAAA+H8AAAAAAAD4fwAAAAAAAPh/AAAAAAAA+H8AAAAAAAD4fwAAAAAAAPh/AAAAAAAA+H8AAAAAAAD4fwAAAAAAAPh/AAAAAAAA+H8AAAAAAAD4fwAAAAAAAPh/AAAAAAAA+H8AAAAAAAD4fwAAAAAAAPh/AAAAAAAA+H8AAAAAAAD4fwAAAAAAAPh/AAAAAAAA+H8AAAAAAAD4fwAAAAAAAPh/AAAAAAAA+H8AAAAAAAD4fwAAAAAAAPh/AAAAAAAA+H8AAAAAAAD4fwAAAAAAAPh/AAAAAAAA+H8AAAAAAAD4fwAAAAAAAPh/AAAAAAAA+H8AAAAAAAD4fwAAAAAAAPh/AAAAAAAA+H8AAAAAAAD4fwAAAAAAAPh/AAAAAAAA+H8AAAAAAAD4fwAAAAAAAPh/AAAAAAAA+H8AAAAAAAD4fwAAAAAAAPh/AAAAAAAA+H8AAAAAAAD4fwAAAAAAAPh/AAAAAAAA+H8AAAAAAAD4fwAAAAAAAPh/AAAAAAAA+H8AAAAAAAD4fwAAAAAAAPh/AAAAAAAA+H8AAAAAAAD4fwAAAAAAAPh/AAAAAAAA+H8AAAAAAAD4fwAAAAAAAPh/AAAAAAAA+H8AAAAAAAD4fwAAAAAAAPh/AAAAAAAA+H8AAAAAAAD4f1VVVVVVlTNAAAAAAAAA+H8AAAAAAAD4fwAAAAAAAPh/AAAAAAAA+H8AAAAAAAD4fwAAAAAAAPh/AAAAAAAA+H8AAAAAAAD4fwAAAAAAAPh/AAAAAAAA+H8AAAAAAAD4fwAAAAAAAPh/AAAAAAAA+H8AAAAAAAD4fwAAAAAAAPh/AAAAAAAA+H8AAAAAAAD4fwAAAAAAAPh/AAAAAAAA+H8AAAAAAAD4fwAAAAAAAPh/AAAAAAAA+H8AAAAAAAD4fwAAAAAAAPh/AAAAAAAA+H8AAAAAAAD4fwAAAAAAAPh/AAAAAAAA+H8AAAAAAAD4fwAAAAAAAPh/AAAAAAAA+H8AAAAAAAD4fwAAAAAAAPh/AAAAAAAA+H8AAAAAAAD4fwAAAAAAAPh/AAAAAAAA+H8AAAAAAAD4fwAAAAAAAPh/AAAAAAAA+H8AAAAAAAD4fwAAAAAAAPh/AAAAAAAA+H8AAAAAAAD4fwAAAAAAAPh/AAAAAAAA+H8AAAAAAAD4fwAAAAAAAPh/AAAAAAAA+H8AAAAAAAD4fwAAAAAAAPh/AAAAAAAA+H8AAAAAAAD4fwAAAAAAAPh/AAAAAAAA+H8AAAAAAAD4fwAAAAAAAPh/AAAAAAAA+H8AAAAAAAD4fwAAAAAAAPh/AAAAAAAA+H8AAAAAAAD4fwAAAAAAAPh/AAAAAAAA+H8AAAAAAAD4fwAAAAAAAPh/AAAAAAAA+H8AAAAAAAD4fwAAAAAAAPh/AAAAAAAA+H8AAAAAAAD4fwAAAAAAAPh/AAAAAAAA+H8AAAAAAAD4fwAAAAAAAPh/AAAAAAAA+H8AAAAAAAD4fwAAAAAAAPh/AAAAAAAA+H8=",
          "dtype": "f8",
          "shape": "52, 52"
         }
        },
        {
         "marker": {
          "color": "black",
          "line": {
           "color": "Gray",
           "width": 2
          }
         },
         "mode": "markers",
         "name": "Feasible Trial",
         "showlegend": false,
         "type": "scatter",
         "x": [
          0.0006030572806877948,
          0.000017267872859730894,
          0.0002003891046446997,
          0.0002675833225815239,
          0.000058718414537544966,
          0.0004932668772810958,
          0.00004417361247719773,
          0.00012039528848626058,
          0.0006924466498844899,
          0.0009174670220593022,
          0.00011267708093824678,
          0.00004584268787355865,
          0.000050280778428755706,
          0.000010695476345287184,
          0.000022964810673419587,
          0.000012094978678250213,
          0.00011139959662371032,
          0.00020443510150137817,
          0.000030442008652608602,
          0.00001149348088047172,
          0.00009140754206228326,
          0.00007479489631463367,
          0.0001659374738876341,
          0.00006204684057371488,
          0.00031414855097441387,
          0.0003646064116017021,
          0.0003360937164140219,
          0.00011413557089106621,
          0.00015348015683398566,
          0.00014911935711649018,
          0.000474271322805089,
          0.0004458520025100744,
          0.00027132936748607814,
          0.0006881625028625726,
          0.0006656089257060337,
          0.0008577872009375,
          0.00094095705324019,
          0.0006554424691858177,
          0.0004833915256556394,
          0.0007613554698886802,
          0.0005571718181379366,
          0.0007533931873569096,
          0.0004121644255438535,
          0.000564202750805794,
          0.0005856060447330134,
          0.0009571948007830283,
          0.000778259660661666,
          0.000539256460634418,
          0.0008083603457803395,
          0.00027100619377422747
         ],
         "xaxis": "x32",
         "y": [
          0.005100990188563874,
          0.000019860708707177768,
          0.009696413197862666,
          0.001571749776249777,
          0.0006379538142827019,
          0.02264213245096893,
          0.0726475000829205,
          0.0019110286305313027,
          0.00012163946485690261,
          0.00007598827625271952,
          0.0005223371831123543,
          0.0007397601677843805,
          0.0024602413983781995,
          0.0001902712069056088,
          0.00009047445070254732,
          0.00025476220795954977,
          0.0043321695035891845,
          0.00002163872549261281,
          0.0002617809684685859,
          0.019415699317830708,
          0.00003520663293231582,
          0.00046290239796682167,
          0.0012757896201358236,
          0.00037465546882200145,
          0.00019989475930067544,
          0.0021495967704226824,
          0.00005208430975733577,
          0.0002881825011836019,
          0.00015050344330720008,
          0.003911426777511212,
          0.00015335460642411939,
          0.00001110376978598369,
          0.00013352630362784012,
          0.000050611394602106545,
          0.000036220252965558876,
          0.00003479474879252498,
          0.000029404095527833733,
          0.000011950548462899992,
          0.000048620371257514394,
          0.000019123060851291802,
          0.00006987056210679689,
          0.00011939965426894092,
          0.000041877331510834896,
          0.00002390330078323597,
          0.000020040668531992272,
          0.00002612835183017675,
          0.00006669238216103824,
          0.00006625963744085291,
          0.00009857550141699971,
          0.09191144747250399
         ],
         "yaxis": "y32"
        },
        {
         "colorbar": {
          "title": {
           "text": "Objective Value"
          }
         },
         "colorscale": [
          [
           0,
           "rgb(247,251,255)"
          ],
          [
           0.125,
           "rgb(222,235,247)"
          ],
          [
           0.25,
           "rgb(198,219,239)"
          ],
          [
           0.375,
           "rgb(158,202,225)"
          ],
          [
           0.5,
           "rgb(107,174,214)"
          ],
          [
           0.625,
           "rgb(66,146,198)"
          ],
          [
           0.75,
           "rgb(33,113,181)"
          ],
          [
           0.875,
           "rgb(8,81,156)"
          ],
          [
           1,
           "rgb(8,48,107)"
          ]
         ],
         "connectgaps": true,
         "contours": {
          "coloring": "heatmap"
         },
         "hoverinfo": "none",
         "line": {
          "smoothing": 1.3
         },
         "reversescale": false,
         "showscale": false,
         "type": "contour",
         "x": [
          0.000008542994397936864,
          0.000010695476345287184,
          0.00001149348088047172,
          0.000012094978678250213,
          0.000017267872859730894,
          0.000022964810673419587,
          0.000030442008652608602,
          0.00004417361247719773,
          0.00004584268787355865,
          0.000050280778428755706,
          0.000058718414537544966,
          0.00006204684057371488,
          0.00007479489631463367,
          0.00009140754206228326,
          0.00011139959662371032,
          0.00011267708093824678,
          0.00011413557089106621,
          0.00012039528848626058,
          0.00014911935711649018,
          0.00015348015683398566,
          0.0001659374738876341,
          0.0002003891046446997,
          0.00020443510150137817,
          0.0002675833225815239,
          0.00027100619377422747,
          0.00027132936748607814,
          0.00031414855097441387,
          0.0003360937164140219,
          0.0003646064116017021,
          0.0004121644255438535,
          0.0004458520025100744,
          0.000474271322805089,
          0.0004833915256556394,
          0.0004932668772810958,
          0.000539256460634418,
          0.0005571718181379366,
          0.000564202750805794,
          0.0005856060447330134,
          0.0006030572806877948,
          0.0006554424691858177,
          0.0006656089257060337,
          0.0006881625028625726,
          0.0006924466498844899,
          0.0007533931873569096,
          0.0007613554698886802,
          0.000778259660661666,
          0.0008083603457803395,
          0.0008577872009375,
          0.0009174670220593022,
          0.00094095705324019,
          0.0009571948007830283,
          0.0011983683791340358
         ],
         "xaxis": "x40",
         "y": [
          2,
          8,
          24,
          32,
          40,
          48,
          56,
          64,
          72,
          80,
          88,
          96,
          104,
          112,
          120,
          128,
          134
         ],
         "yaxis": "y40",
         "z": {
          "bdata": "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",
          "dtype": "f8",
          "shape": "17, 52"
         }
        },
        {
         "marker": {
          "color": "black",
          "line": {
           "color": "Gray",
           "width": 2
          }
         },
         "mode": "markers",
         "name": "Feasible Trial",
         "showlegend": false,
         "type": "scatter",
         "x": [
          0.0006030572806877948,
          0.000017267872859730894,
          0.0002003891046446997,
          0.0002675833225815239,
          0.000058718414537544966,
          0.0004932668772810958,
          0.00004417361247719773,
          0.00012039528848626058,
          0.0006924466498844899,
          0.0009174670220593022,
          0.00011267708093824678,
          0.00004584268787355865,
          0.000050280778428755706,
          0.000010695476345287184,
          0.000022964810673419587,
          0.000012094978678250213,
          0.00011139959662371032,
          0.00020443510150137817,
          0.000030442008652608602,
          0.00001149348088047172,
          0.00009140754206228326,
          0.00007479489631463367,
          0.0001659374738876341,
          0.00006204684057371488,
          0.00031414855097441387,
          0.0003646064116017021,
          0.0003360937164140219,
          0.00011413557089106621,
          0.00015348015683398566,
          0.00014911935711649018,
          0.000474271322805089,
          0.0004458520025100744,
          0.00027132936748607814,
          0.0006881625028625726,
          0.0006656089257060337,
          0.0008577872009375,
          0.00094095705324019,
          0.0006554424691858177,
          0.0004833915256556394,
          0.0007613554698886802,
          0.0005571718181379366,
          0.0007533931873569096,
          0.0004121644255438535,
          0.000564202750805794,
          0.0005856060447330134,
          0.0009571948007830283,
          0.000778259660661666,
          0.000539256460634418,
          0.0008083603457803395,
          0.00027100619377422747
         ],
         "xaxis": "x40",
         "y": [
          104,
          32,
          72,
          112,
          112,
          88,
          128,
          88,
          120,
          64,
          8,
          88,
          56,
          96,
          88,
          48,
          96,
          72,
          40,
          80,
          104,
          112,
          128,
          104,
          104,
          96,
          80,
          104,
          120,
          120,
          120,
          120,
          128,
          112,
          120,
          120,
          112,
          128,
          112,
          24,
          120,
          120,
          128,
          112,
          112,
          104,
          112,
          96,
          112,
          128
         ],
         "yaxis": "y40"
        },
        {
         "colorbar": {
          "title": {
           "text": "Objective Value"
          }
         },
         "colorscale": [
          [
           0,
           "rgb(247,251,255)"
          ],
          [
           0.125,
           "rgb(222,235,247)"
          ],
          [
           0.25,
           "rgb(198,219,239)"
          ],
          [
           0.375,
           "rgb(158,202,225)"
          ],
          [
           0.5,
           "rgb(107,174,214)"
          ],
          [
           0.625,
           "rgb(66,146,198)"
          ],
          [
           0.75,
           "rgb(33,113,181)"
          ],
          [
           0.875,
           "rgb(8,81,156)"
          ],
          [
           1,
           "rgb(8,48,107)"
          ]
         ],
         "connectgaps": true,
         "contours": {
          "coloring": "heatmap"
         },
         "hoverinfo": "none",
         "line": {
          "smoothing": 1.3
         },
         "reversescale": false,
         "showscale": false,
         "type": "contour",
         "x": [
          0.000008542994397936864,
          0.000010695476345287184,
          0.00001149348088047172,
          0.000012094978678250213,
          0.000017267872859730894,
          0.000022964810673419587,
          0.000030442008652608602,
          0.00004417361247719773,
          0.00004584268787355865,
          0.000050280778428755706,
          0.000058718414537544966,
          0.00006204684057371488,
          0.00007479489631463367,
          0.00009140754206228326,
          0.00011139959662371032,
          0.00011267708093824678,
          0.00011413557089106621,
          0.00012039528848626058,
          0.00014911935711649018,
          0.00015348015683398566,
          0.0001659374738876341,
          0.0002003891046446997,
          0.00020443510150137817,
          0.0002675833225815239,
          0.00027100619377422747,
          0.00027132936748607814,
          0.00031414855097441387,
          0.0003360937164140219,
          0.0003646064116017021,
          0.0004121644255438535,
          0.0004458520025100744,
          0.000474271322805089,
          0.0004833915256556394,
          0.0004932668772810958,
          0.000539256460634418,
          0.0005571718181379366,
          0.000564202750805794,
          0.0005856060447330134,
          0.0006030572806877948,
          0.0006554424691858177,
          0.0006656089257060337,
          0.0006881625028625726,
          0.0006924466498844899,
          0.0007533931873569096,
          0.0007613554698886802,
          0.000778259660661666,
          0.0008083603457803395,
          0.0008577872009375,
          0.0009174670220593022,
          0.00094095705324019,
          0.0009571948007830283,
          0.0011983683791340358
         ],
         "xaxis": "x48",
         "y": [
          0.8,
          1,
          2,
          3,
          4,
          5,
          5.2
         ],
         "yaxis": "y48",
         "z": {
          "bdata": "AAAAAAAA+H8AAAAAAAD4fwAAAAAAAPh/AAAAAAAA+H8AAAAAAAD4fwAAAAAAAPh/AAAAAAAA+H8AAAAAAAD4fwAAAAAAAPh/AAAAAAAA+H8AAAAAAAD4fwAAAAAAAPh/AAAAAAAA+H8AAAAAAAD4fwAAAAAAAPh/AAAAAAAA+H8AAAAAAAD4fwAAAAAAAPh/AAAAAAAA+H8AAAAAAAD4fwAAAAAAAPh/AAAAAAAA+H8AAAAAAAD4fwAAAAAAAPh/AAAAAAAA+H8AAAAAAAD4fwAAAAAAAPh/AAAAAAAA+H8AAAAAAAD4fwAAAAAAAPh/AAAAAAAA+H8AAAAAAAD4fwAAAAAAAPh/AAAAAAAA+H8AAAAAAAD4fwAAAAAAAPh/AAAAAAAA+H8AAAAAAAD4fwAAAAAAAPh/AAAAAAAA+H8AAAAAAAD4fwAAAAAAAPh/AAAAAAAA+H8AAAAAAAD4fwAAAAAAAPh/AAAAAAAA+H8AAAAAAAD4fwAAAAAAAPh/AAAAAAAA+H8AAAAAAAD4fwAAAAAAAPh/AAAAAAAA+H8AAAAAAAD4fwAAAAAAAPh/AAAAAAAA+H8AAAAAAAD4fwAAAAAAAPh/AAAAAAAA+H8AAAAAAAD4fwAAAAAAAPh/AAAAAAAA+H8AAAAAAAD4fwAAAAAAAPh/AAAAAAAA+H8AAAAAAAD4fwAAAAAAAPh/AAAAAAAA+H9WVVVVVQVTQAAAAAAAAPh/AAAAAAAA+H8AAAAAAAD4fwAAAAAAAPh/AAAAAAAA+H8AAAAAAAD4f6uqqqqqOlRAAAAAAAAA+H8AAAAAAAD4fwAAAAAAAPh/AAAAAAAA+H8AAAAAAAD4fwAAAAAAAPh/AAAAAAAA+H8AAAAAAAD4fwAAAAAAAPh/AAAAAAAA+H8AAAAAAAD4fwAAAAAAAPh/AAAAAAAA+H8AAAAAAAD4fwAAAAAAAPh/AAAAAAAA+H8AAAAAAAD4fwAAAAAAAPh/AAAAAAAA+H+rqqqqqupUQAAAAAAAAPh/AAAAAAAA+H8AAAAAAAD4fwAAAAAAAPh/AAAAAAAA+H8AAAAAAAD4fwAAAAAAAPh/AAAAAAAA+H8AAAAAAAD4fwAAAAAAAPh/VlVVVVX1VEAAAAAAAAD4f6uqqqqqqlRAAAAAAAAA+H9VVVVVVYVUQKuqqqqqilRAAAAAAAAA+H8AAAAAAPBUQAAAAAAAAPh/AAAAAAAA+H8AAAAAAAD4fwAAAAAAAPh/AAAAAAAA+H+qqqqqqtpUQAAAAAAAAPh/AAAAAAAA+H8AAAAAAAD4fwAAAAAAAPh/AAAAAAAA+H8AAAAAAAD4fwAAAAAAAPh/AAAAAAAA+H8AAAAAAAD4fwAAAAAAAPh/AAAAAAAA+H8AAAAAAAD4fwAAAAAAAPh/AAAAAAAA+H8AAAAAAAD4fwAAAAAAAPh/AAAAAAAA+H8AAAAAAAD4fwAAAAAAAPh/AAAAAAAA+H8AAAAAAAD4fwAAAAAAAPh/VVVVVVXlVEAAAAAAAAD4fwAAAAAAAPh/AAAAAAAA+H8AAAAAAAD4fwAAAAAAAPh/AAAAAAAA+H8AAAAAAAD4fwAAAAAAAPh/AAAAAAAA+H8AAAAAAAD4fwAAAAAAAPh/AAAAAADgVEAAAAAAAAD4fwAAAAAAAPh/AAAAAAAA+H8AAAAAAAD4fwAAAAAAIFRAAAAAAAAA+H+qqqqqqkpHQAAAAAAAAPh/AAAAAAAA+H+rqqqqqlpUQAAAAAAAAPh/AAAAAAAA+H8AAAAAAAD4fwAAAAAAAPh/AAAAAAAA+H9VVVVVVaVSQAAAAAAAAPh/AAAAAAAA+H8AAAAAABBVQAAAAAAAIFVAVVVVVVWFVEAAAAAAADBVQAAAAAAAAPh/AAAAAAAA+H8AAAAAAAD4fwAAAAAAkFRAAAAAAAAA+H+rqqqqqupUQAAAAAAAAPh/AAAAAAAA+H8AAAAAAAD4f6uqqqqqClVAq6qqqqp6VEAAAAAAAGBVQFZVVVVV9VRAAAAAAAAA+H8AAAAAAAD4f1VVVVVVhVJAAAAAAABAVUAAAAAAAAD4fwAAAAAAAPh/AAAAAACQVEBWVVVVVTVVQFZVVVVVNVVAAAAAAAAA+H8AAAAAAMBUQFVVVVVVFVNAAAAAAAAA+H8AAAAAAAD4f6qqqqqqelVAAAAAAAAA+H8AAAAAAAD4f6uqqqqqylRAAAAAAAAA+H8AAAAAAAD4fwAAAAAAAPh/AAAAAAAA+H8AAAAAAAD4fwAAAAAAAPh/AAAAAAAA+H8AAAAAAAD4fwAAAAAAAPh/AAAAAAAA+H9WVVVVVZVUQAAAAAAAAPh/VVVVVVUFVUCrqqqqqopUQAAAAAAAAPh/AAAAAAAA+H8AAAAAAAD4fwAAAAAAAPh/AAAAAAAA+H8AAAAAAAD4fwAAAAAAAPh/AAAAAAAA+H8AAAAAANBUQAAAAAAAAPh/AAAAAAAA+H8AAAAAAAD4fwAAAAAAAPh/qqqqqqoaVUAAAAAAAEBUQKuqqqqqWlRAAAAAAAAA+H8AAAAAAAD4fwAAAAAAAPh/AAAAAAAA+H8AAAAAAAD4fwAAAAAAAPh/AAAAAAAA+H8AAAAAAAD4fwAAAAAAAPh/AAAAAAAA+H8AAAAAAAD4fwAAAAAAAPh/AAAAAAAA+H8AAAAAAAD4fwAAAAAAAPh/AAAAAAAA+H8AAAAAAGBVQFZVVVVVNVVAAAAAAAAA+H+qqqqqqqovQAAAAAAAAPh/AAAAAAAA+H8AAAAAAAD4fwAAAAAAAPh/AAAAAAAA+H8AAAAAAAD4fwAAAAAAAPh/AAAAAAAA+H8AAAAAAAD4fwAAAAAAAPh/AAAAAAAA+H8AAAAAAAD4fwAAAAAAAPh/AAAAAADwVEAAAAAAAAD4fwAAAAAAAPh/AAAAAAAA+H8AAAAAAAD4fwAAAAAAAPh/AAAAAAAA+H8AAAAAAAD4fwAAAAAAAPh/AAAAAAAA+H9VVVVVVcVUQAAAAAAAAPh/AAAAAAAA+H8AAAAAAAD4f1VVVVVVlTNAAAAAAAAA+H8AAAAAAAD4fwAAAAAAAPh/AAAAAAAA+H8AAAAAAAD4fwAAAAAAAPh/AAAAAAAA+H8AAAAAAAD4f1VVVVVVJVJAq6qqqqrKSkAAAAAAAAD4fwAAAAAAAPh/AAAAAAAA+H+rqqqqqgpPQAAAAAAAAPh/AAAAAAAA+H8AAAAAAAD4fwAAAAAAAPh/AAAAAAAA+H8AAAAAAAD4fwAAAAAAAPh/AAAAAAAA+H8AAAAAAAD4fwAAAAAAAPh/AAAAAAAA+H8AAAAAAAD4fwAAAAAAAPh/AAAAAAAA+H8AAAAAAAD4fwAAAAAAAPh/AAAAAAAA+H8AAAAAAAD4fwAAAAAAAPh/AAAAAAAA+H8AAAAAAAD4fwAAAAAAAPh/AAAAAAAA+H8AAAAAAAD4fwAAAAAAAPh/AAAAAAAA+H8AAAAAAAD4fwAAAAAAAPh/AAAAAAAA+H8AAAAAAAD4fwAAAAAAAPh/AAAAAAAA+H8AAAAAAAD4fwAAAAAAAPh/AAAAAAAA+H8AAAAAAAD4fwAAAAAAAPh/AAAAAAAA+H8AAAAAAAD4fwAAAAAAAPh/AAAAAAAA+H8AAAAAAAD4fwAAAAAAAPh/AAAAAAAA+H8AAAAAAAD4fwAAAAAAAPh/AAAAAAAA+H8AAAAAAAD4fwAAAAAAAPh/AAAAAAAA+H8AAAAAAAD4fwAAAAAAAPh/AAAAAAAA+H8AAAAAAAD4fwAAAAAAAPh/AAAAAAAA+H8AAAAAAAD4fwAAAAAAAPh/AAAAAAAA+H8AAAAAAAD4fwAAAAAAAPh/AAAAAAAA+H8AAAAAAAD4fwAAAAAAAPh/AAAAAAAA+H8=",
          "dtype": "f8",
          "shape": "7, 52"
         }
        },
        {
         "marker": {
          "color": "black",
          "line": {
           "color": "Gray",
           "width": 2
          }
         },
         "mode": "markers",
         "name": "Feasible Trial",
         "showlegend": false,
         "type": "scatter",
         "x": [
          0.0006030572806877948,
          0.000017267872859730894,
          0.0002003891046446997,
          0.0002675833225815239,
          0.000058718414537544966,
          0.0004932668772810958,
          0.00004417361247719773,
          0.00012039528848626058,
          0.0006924466498844899,
          0.0009174670220593022,
          0.00011267708093824678,
          0.00004584268787355865,
          0.000050280778428755706,
          0.000010695476345287184,
          0.000022964810673419587,
          0.000012094978678250213,
          0.00011139959662371032,
          0.00020443510150137817,
          0.000030442008652608602,
          0.00001149348088047172,
          0.00009140754206228326,
          0.00007479489631463367,
          0.0001659374738876341,
          0.00006204684057371488,
          0.00031414855097441387,
          0.0003646064116017021,
          0.0003360937164140219,
          0.00011413557089106621,
          0.00015348015683398566,
          0.00014911935711649018,
          0.000474271322805089,
          0.0004458520025100744,
          0.00027132936748607814,
          0.0006881625028625726,
          0.0006656089257060337,
          0.0008577872009375,
          0.00094095705324019,
          0.0006554424691858177,
          0.0004833915256556394,
          0.0007613554698886802,
          0.0005571718181379366,
          0.0007533931873569096,
          0.0004121644255438535,
          0.000564202750805794,
          0.0005856060447330134,
          0.0009571948007830283,
          0.000778259660661666,
          0.000539256460634418,
          0.0008083603457803395,
          0.00027100619377422747
         ],
         "xaxis": "x48",
         "y": [
          5,
          3,
          4,
          3,
          5,
          5,
          3,
          3,
          1,
          4,
          1,
          2,
          4,
          2,
          2,
          2,
          2,
          1,
          2,
          3,
          3,
          4,
          5,
          4,
          4,
          4,
          4,
          3,
          3,
          3,
          3,
          3,
          3,
          3,
          3,
          3,
          2,
          3,
          3,
          3,
          3,
          3,
          3,
          3,
          2,
          3,
          4,
          5,
          4,
          5
         ],
         "yaxis": "y48"
        },
        {
         "colorbar": {
          "title": {
           "text": "Objective Value"
          }
         },
         "colorscale": [
          [
           0,
           "rgb(247,251,255)"
          ],
          [
           0.125,
           "rgb(222,235,247)"
          ],
          [
           0.25,
           "rgb(198,219,239)"
          ],
          [
           0.375,
           "rgb(158,202,225)"
          ],
          [
           0.5,
           "rgb(107,174,214)"
          ],
          [
           0.625,
           "rgb(66,146,198)"
          ],
          [
           0.75,
           "rgb(33,113,181)"
          ],
          [
           0.875,
           "rgb(8,81,156)"
          ],
          [
           1,
           "rgb(8,48,107)"
          ]
         ],
         "connectgaps": true,
         "contours": {
          "coloring": "heatmap"
         },
         "hoverinfo": "none",
         "line": {
          "smoothing": 1.3
         },
         "reversescale": false,
         "showscale": false,
         "type": "contour",
         "x": [
          0.000008542994397936864,
          0.000010695476345287184,
          0.00001149348088047172,
          0.000012094978678250213,
          0.000017267872859730894,
          0.000022964810673419587,
          0.000030442008652608602,
          0.00004417361247719773,
          0.00004584268787355865,
          0.000050280778428755706,
          0.000058718414537544966,
          0.00006204684057371488,
          0.00007479489631463367,
          0.00009140754206228326,
          0.00011139959662371032,
          0.00011267708093824678,
          0.00011413557089106621,
          0.00012039528848626058,
          0.00014911935711649018,
          0.00015348015683398566,
          0.0001659374738876341,
          0.0002003891046446997,
          0.00020443510150137817,
          0.0002675833225815239,
          0.00027100619377422747,
          0.00027132936748607814,
          0.00031414855097441387,
          0.0003360937164140219,
          0.0003646064116017021,
          0.0004121644255438535,
          0.0004458520025100744,
          0.000474271322805089,
          0.0004833915256556394,
          0.0004932668772810958,
          0.000539256460634418,
          0.0005571718181379366,
          0.000564202750805794,
          0.0005856060447330134,
          0.0006030572806877948,
          0.0006554424691858177,
          0.0006656089257060337,
          0.0006881625028625726,
          0.0006924466498844899,
          0.0007533931873569096,
          0.0007613554698886802,
          0.000778259660661666,
          0.0008083603457803395,
          0.0008577872009375,
          0.0009174670220593022,
          0.00094095705324019,
          0.0009571948007830283,
          0.0011983683791340358
         ],
         "xaxis": "x56",
         "y": [
          "Adam",
          "RMSProp",
          "SGD"
         ],
         "yaxis": "y56",
         "z": {
          "bdata": "AAAAAAAA+H9WVVVVVfVUQAAAAAAAIFRAq6qqqqqqVEAAAAAAAAD4f1VVVVVVhVRAq6qqqqqKVEAAAAAAAAD4fwAAAAAA8FRAVlVVVVWVVEAAAAAAAPBUQFVVVVVVBVVAq6qqqqqKVEAAAAAAAAD4f6qqqqqq2lRAVlVVVVUFU0AAAAAAABBVQAAAAAAAIFVAAAAAAAAA+H8AAAAAAAD4f1VVVVVVxVRAAAAAAAAA+H8AAAAAAAD4fwAAAAAAAPh/AAAAAAAA+H8AAAAAAAD4f6qqqqqqGlVAAAAAAABAVECrqqqqqlpUQAAAAAAAAPh/AAAAAAAA+H8AAAAAAAD4fwAAAAAAAPh/VVVVVVUlUkAAAAAAAAD4fwAAAAAAAPh/AAAAAAAA+H8AAAAAAAD4fwAAAAAAAPh/AAAAAAAA+H8AAAAAAAD4fwAAAAAAAPh/AAAAAAAA+H8AAAAAAAD4fwAAAAAAAPh/AAAAAAAA+H8AAAAAAAD4fwAAAAAAAPh/AAAAAAAA+H8AAAAAAAD4fwAAAAAAAPh/AAAAAAAA+H8AAAAAAAD4fwAAAAAAAPh/AAAAAAAA+H8AAAAAAAD4fwAAAAAAAPh/AAAAAAAA+H8AAAAAAAD4fwAAAAAAAPh/AAAAAAAA+H8AAAAAAAD4fwAAAAAAAPh/AAAAAAAA+H8AAAAAAAD4f1VVVVVVpVJAAAAAAAAA+H8AAAAAAAD4fwAAAAAAAPh/AAAAAAAA+H9VVVVVVYVUQAAAAAAAMFVAAAAAAAAA+H8AAAAAAAD4f6uqqqqqOlRAAAAAAACQVEBVVVVVVZUzQKuqqqqq6lRAAAAAAAAA+H8AAAAAAAD4fwAAAAAAAPh/q6qqqqoKVUCrqqqqqnpUQAAAAAAAYFVAVlVVVVX1VEAAAAAAAAD4fwAAAAAAAPh/AAAAAAAA+H8AAAAAAEBVQFVVVVVV5VRAAAAAAAAA+H8AAAAAAJBUQFZVVVVVNVVAVlVVVVU1VUCrqqqqqupUQAAAAAAAwFRAVVVVVVUVU0AAAAAAAGBVQFZVVVVVNVVAqqqqqqp6VUAAAAAAAAD4fwAAAAAA4FRAq6qqqqrKVEAAAAAAAAD4fwAAAAAAAPh/AAAAAAAA+H8AAAAAAAD4fwAAAAAAAPh/qqqqqqpKR0AAAAAAAAD4fwAAAAAAAPh/q6qqqqpaVEAAAAAAAAD4fwAAAAAAAPh/AAAAAAAA+H8AAAAAAAD4fwAAAAAAAPh/AAAAAAAA+H8AAAAAAAD4fwAAAAAAAPh/AAAAAAAA+H8AAAAAAAD4fwAAAAAAAPh/AAAAAAAA+H8AAAAAAAD4fwAAAAAA0FRAAAAAAAAA+H8AAAAAAAD4fwAAAAAAAPh/AAAAAAAA+H8AAAAAAAD4fwAAAAAAAPh/AAAAAAAA+H8AAAAAAAD4fwAAAAAAAPh/AAAAAAAA+H8AAAAAAAD4fwAAAAAAAPh/q6qqqqrKSkBVVVVVVYVSQAAAAAAAAPh/AAAAAAAA+H+rqqqqqgpPQAAAAAAAAPh/AAAAAAAA+H8AAAAAAAD4fwAAAAAAAPh/AAAAAAAA+H8AAAAAAAD4fwAAAAAAAPh/AAAAAAAA+H8AAAAAAAD4f6qqqqqqqi9AAAAAAAAA+H8AAAAAAAD4fwAAAAAAAPh/",
          "dtype": "f8",
          "shape": "3, 52"
         }
        },
        {
         "marker": {
          "color": "black",
          "line": {
           "color": "Gray",
           "width": 2
          }
         },
         "mode": "markers",
         "name": "Feasible Trial",
         "showlegend": false,
         "type": "scatter",
         "x": [
          0.0006030572806877948,
          0.000017267872859730894,
          0.0002003891046446997,
          0.0002675833225815239,
          0.000058718414537544966,
          0.0004932668772810958,
          0.00004417361247719773,
          0.00012039528848626058,
          0.0006924466498844899,
          0.0009174670220593022,
          0.00011267708093824678,
          0.00004584268787355865,
          0.000050280778428755706,
          0.000010695476345287184,
          0.000022964810673419587,
          0.000012094978678250213,
          0.00011139959662371032,
          0.00020443510150137817,
          0.000030442008652608602,
          0.00001149348088047172,
          0.00009140754206228326,
          0.00007479489631463367,
          0.0001659374738876341,
          0.00006204684057371488,
          0.00031414855097441387,
          0.0003646064116017021,
          0.0003360937164140219,
          0.00011413557089106621,
          0.00015348015683398566,
          0.00014911935711649018,
          0.000474271322805089,
          0.0004458520025100744,
          0.00027132936748607814,
          0.0006881625028625726,
          0.0006656089257060337,
          0.0008577872009375,
          0.00094095705324019,
          0.0006554424691858177,
          0.0004833915256556394,
          0.0007613554698886802,
          0.0005571718181379366,
          0.0007533931873569096,
          0.0004121644255438535,
          0.000564202750805794,
          0.0005856060447330134,
          0.0009571948007830283,
          0.000778259660661666,
          0.000539256460634418,
          0.0008083603457803395,
          0.00027100619377422747
         ],
         "xaxis": "x56",
         "y": [
          "SGD",
          "SGD",
          "SGD",
          "RMSProp",
          "Adam",
          "Adam",
          "SGD",
          "Adam",
          "RMSProp",
          "SGD",
          "Adam",
          "Adam",
          "Adam",
          "Adam",
          "Adam",
          "Adam",
          "Adam",
          "RMSProp",
          "Adam",
          "Adam",
          "RMSProp",
          "Adam",
          "Adam",
          "Adam",
          "Adam",
          "Adam",
          "Adam",
          "Adam",
          "RMSProp",
          "RMSProp",
          "RMSProp",
          "RMSProp",
          "RMSProp",
          "RMSProp",
          "RMSProp",
          "RMSProp",
          "RMSProp",
          "RMSProp",
          "RMSProp",
          "RMSProp",
          "SGD",
          "RMSProp",
          "RMSProp",
          "RMSProp",
          "RMSProp",
          "RMSProp",
          "RMSProp",
          "SGD",
          "RMSProp",
          "RMSProp"
         ],
         "yaxis": "y56"
        },
        {
         "type": "scatter",
         "xaxis": "x64",
         "yaxis": "y64"
        }
       ],
       "layout": {
        "template": {
         "data": {
          "bar": [
           {
            "error_x": {
             "color": "#2a3f5f"
            },
            "error_y": {
             "color": "#2a3f5f"
            },
            "marker": {
             "line": {
              "color": "#E5ECF6",
              "width": 0.5
             },
             "pattern": {
              "fillmode": "overlay",
              "size": 10,
              "solidity": 0.2
             }
            },
            "type": "bar"
           }
          ],
          "barpolar": [
           {
            "marker": {
             "line": {
              "color": "#E5ECF6",
              "width": 0.5
             },
             "pattern": {
              "fillmode": "overlay",
              "size": 10,
              "solidity": 0.2
             }
            },
            "type": "barpolar"
           }
          ],
          "carpet": [
           {
            "aaxis": {
             "endlinecolor": "#2a3f5f",
             "gridcolor": "white",
             "linecolor": "white",
             "minorgridcolor": "white",
             "startlinecolor": "#2a3f5f"
            },
            "baxis": {
             "endlinecolor": "#2a3f5f",
             "gridcolor": "white",
             "linecolor": "white",
             "minorgridcolor": "white",
             "startlinecolor": "#2a3f5f"
            },
            "type": "carpet"
           }
          ],
          "choropleth": [
           {
            "colorbar": {
             "outlinewidth": 0,
             "ticks": ""
            },
            "type": "choropleth"
           }
          ],
          "contour": [
           {
            "colorbar": {
             "outlinewidth": 0,
             "ticks": ""
            },
            "colorscale": [
             [
              0,
              "#0d0887"
             ],
             [
              0.1111111111111111,
              "#46039f"
             ],
             [
              0.2222222222222222,
              "#7201a8"
             ],
             [
              0.3333333333333333,
              "#9c179e"
             ],
             [
              0.4444444444444444,
              "#bd3786"
             ],
             [
              0.5555555555555556,
              "#d8576b"
             ],
             [
              0.6666666666666666,
              "#ed7953"
             ],
             [
              0.7777777777777778,
              "#fb9f3a"
             ],
             [
              0.8888888888888888,
              "#fdca26"
             ],
             [
              1,
              "#f0f921"
             ]
            ],
            "type": "contour"
           }
          ],
          "contourcarpet": [
           {
            "colorbar": {
             "outlinewidth": 0,
             "ticks": ""
            },
            "type": "contourcarpet"
           }
          ],
          "heatmap": [
           {
            "colorbar": {
             "outlinewidth": 0,
             "ticks": ""
            },
            "colorscale": [
             [
              0,
              "#0d0887"
             ],
             [
              0.1111111111111111,
              "#46039f"
             ],
             [
              0.2222222222222222,
              "#7201a8"
             ],
             [
              0.3333333333333333,
              "#9c179e"
             ],
             [
              0.4444444444444444,
              "#bd3786"
             ],
             [
              0.5555555555555556,
              "#d8576b"
             ],
             [
              0.6666666666666666,
              "#ed7953"
             ],
             [
              0.7777777777777778,
              "#fb9f3a"
             ],
             [
              0.8888888888888888,
              "#fdca26"
             ],
             [
              1,
              "#f0f921"
             ]
            ],
            "type": "heatmap"
           }
          ],
          "histogram": [
           {
            "marker": {
             "pattern": {
              "fillmode": "overlay",
              "size": 10,
              "solidity": 0.2
             }
            },
            "type": "histogram"
           }
          ],
          "histogram2d": [
           {
            "colorbar": {
             "outlinewidth": 0,
             "ticks": ""
            },
            "colorscale": [
             [
              0,
              "#0d0887"
             ],
             [
              0.1111111111111111,
              "#46039f"
             ],
             [
              0.2222222222222222,
              "#7201a8"
             ],
             [
              0.3333333333333333,
              "#9c179e"
             ],
             [
              0.4444444444444444,
              "#bd3786"
             ],
             [
              0.5555555555555556,
              "#d8576b"
             ],
             [
              0.6666666666666666,
              "#ed7953"
             ],
             [
              0.7777777777777778,
              "#fb9f3a"
             ],
             [
              0.8888888888888888,
              "#fdca26"
             ],
             [
              1,
              "#f0f921"
             ]
            ],
            "type": "histogram2d"
           }
          ],
          "histogram2dcontour": [
           {
            "colorbar": {
             "outlinewidth": 0,
             "ticks": ""
            },
            "colorscale": [
             [
              0,
              "#0d0887"
             ],
             [
              0.1111111111111111,
              "#46039f"
             ],
             [
              0.2222222222222222,
              "#7201a8"
             ],
             [
              0.3333333333333333,
              "#9c179e"
             ],
             [
              0.4444444444444444,
              "#bd3786"
             ],
             [
              0.5555555555555556,
              "#d8576b"
             ],
             [
              0.6666666666666666,
              "#ed7953"
             ],
             [
              0.7777777777777778,
              "#fb9f3a"
             ],
             [
              0.8888888888888888,
              "#fdca26"
             ],
             [
              1,
              "#f0f921"
             ]
            ],
            "type": "histogram2dcontour"
           }
          ],
          "mesh3d": [
           {
            "colorbar": {
             "outlinewidth": 0,
             "ticks": ""
            },
            "type": "mesh3d"
           }
          ],
          "parcoords": [
           {
            "line": {
             "colorbar": {
              "outlinewidth": 0,
              "ticks": ""
             }
            },
            "type": "parcoords"
           }
          ],
          "pie": [
           {
            "automargin": true,
            "type": "pie"
           }
          ],
          "scatter": [
           {
            "fillpattern": {
             "fillmode": "overlay",
             "size": 10,
             "solidity": 0.2
            },
            "type": "scatter"
           }
          ],
          "scatter3d": [
           {
            "line": {
             "colorbar": {
              "outlinewidth": 0,
              "ticks": ""
             }
            },
            "marker": {
             "colorbar": {
              "outlinewidth": 0,
              "ticks": ""
             }
            },
            "type": "scatter3d"
           }
          ],
          "scattercarpet": [
           {
            "marker": {
             "colorbar": {
              "outlinewidth": 0,
              "ticks": ""
             }
            },
            "type": "scattercarpet"
           }
          ],
          "scattergeo": [
           {
            "marker": {
             "colorbar": {
              "outlinewidth": 0,
              "ticks": ""
             }
            },
            "type": "scattergeo"
           }
          ],
          "scattergl": [
           {
            "marker": {
             "colorbar": {
              "outlinewidth": 0,
              "ticks": ""
             }
            },
            "type": "scattergl"
           }
          ],
          "scattermap": [
           {
            "marker": {
             "colorbar": {
              "outlinewidth": 0,
              "ticks": ""
             }
            },
            "type": "scattermap"
           }
          ],
          "scattermapbox": [
           {
            "marker": {
             "colorbar": {
              "outlinewidth": 0,
              "ticks": ""
             }
            },
            "type": "scattermapbox"
           }
          ],
          "scatterpolar": [
           {
            "marker": {
             "colorbar": {
              "outlinewidth": 0,
              "ticks": ""
             }
            },
            "type": "scatterpolar"
           }
          ],
          "scatterpolargl": [
           {
            "marker": {
             "colorbar": {
              "outlinewidth": 0,
              "ticks": ""
             }
            },
            "type": "scatterpolargl"
           }
          ],
          "scatterternary": [
           {
            "marker": {
             "colorbar": {
              "outlinewidth": 0,
              "ticks": ""
             }
            },
            "type": "scatterternary"
           }
          ],
          "surface": [
           {
            "colorbar": {
             "outlinewidth": 0,
             "ticks": ""
            },
            "colorscale": [
             [
              0,
              "#0d0887"
             ],
             [
              0.1111111111111111,
              "#46039f"
             ],
             [
              0.2222222222222222,
              "#7201a8"
             ],
             [
              0.3333333333333333,
              "#9c179e"
             ],
             [
              0.4444444444444444,
              "#bd3786"
             ],
             [
              0.5555555555555556,
              "#d8576b"
             ],
             [
              0.6666666666666666,
              "#ed7953"
             ],
             [
              0.7777777777777778,
              "#fb9f3a"
             ],
             [
              0.8888888888888888,
              "#fdca26"
             ],
             [
              1,
              "#f0f921"
             ]
            ],
            "type": "surface"
           }
          ],
          "table": [
           {
            "cells": {
             "fill": {
              "color": "#EBF0F8"
             },
             "line": {
              "color": "white"
             }
            },
            "header": {
             "fill": {
              "color": "#C8D4E3"
             },
             "line": {
              "color": "white"
             }
            },
            "type": "table"
           }
          ]
         },
         "layout": {
          "annotationdefaults": {
           "arrowcolor": "#2a3f5f",
           "arrowhead": 0,
           "arrowwidth": 1
          },
          "autotypenumbers": "strict",
          "coloraxis": {
           "colorbar": {
            "outlinewidth": 0,
            "ticks": ""
           }
          },
          "colorscale": {
           "diverging": [
            [
             0,
             "#8e0152"
            ],
            [
             0.1,
             "#c51b7d"
            ],
            [
             0.2,
             "#de77ae"
            ],
            [
             0.3,
             "#f1b6da"
            ],
            [
             0.4,
             "#fde0ef"
            ],
            [
             0.5,
             "#f7f7f7"
            ],
            [
             0.6,
             "#e6f5d0"
            ],
            [
             0.7,
             "#b8e186"
            ],
            [
             0.8,
             "#7fbc41"
            ],
            [
             0.9,
             "#4d9221"
            ],
            [
             1,
             "#276419"
            ]
           ],
           "sequential": [
            [
             0,
             "#0d0887"
            ],
            [
             0.1111111111111111,
             "#46039f"
            ],
            [
             0.2222222222222222,
             "#7201a8"
            ],
            [
             0.3333333333333333,
             "#9c179e"
            ],
            [
             0.4444444444444444,
             "#bd3786"
            ],
            [
             0.5555555555555556,
             "#d8576b"
            ],
            [
             0.6666666666666666,
             "#ed7953"
            ],
            [
             0.7777777777777778,
             "#fb9f3a"
            ],
            [
             0.8888888888888888,
             "#fdca26"
            ],
            [
             1,
             "#f0f921"
            ]
           ],
           "sequentialminus": [
            [
             0,
             "#0d0887"
            ],
            [
             0.1111111111111111,
             "#46039f"
            ],
            [
             0.2222222222222222,
             "#7201a8"
            ],
            [
             0.3333333333333333,
             "#9c179e"
            ],
            [
             0.4444444444444444,
             "#bd3786"
            ],
            [
             0.5555555555555556,
             "#d8576b"
            ],
            [
             0.6666666666666666,
             "#ed7953"
            ],
            [
             0.7777777777777778,
             "#fb9f3a"
            ],
            [
             0.8888888888888888,
             "#fdca26"
            ],
            [
             1,
             "#f0f921"
            ]
           ]
          },
          "colorway": [
           "#636efa",
           "#EF553B",
           "#00cc96",
           "#ab63fa",
           "#FFA15A",
           "#19d3f3",
           "#FF6692",
           "#B6E880",
           "#FF97FF",
           "#FECB52"
          ],
          "font": {
           "color": "#2a3f5f"
          },
          "geo": {
           "bgcolor": "white",
           "lakecolor": "white",
           "landcolor": "#E5ECF6",
           "showlakes": true,
           "showland": true,
           "subunitcolor": "white"
          },
          "hoverlabel": {
           "align": "left"
          },
          "hovermode": "closest",
          "mapbox": {
           "style": "light"
          },
          "paper_bgcolor": "white",
          "plot_bgcolor": "#E5ECF6",
          "polar": {
           "angularaxis": {
            "gridcolor": "white",
            "linecolor": "white",
            "ticks": ""
           },
           "bgcolor": "#E5ECF6",
           "radialaxis": {
            "gridcolor": "white",
            "linecolor": "white",
            "ticks": ""
           }
          },
          "scene": {
           "xaxis": {
            "backgroundcolor": "#E5ECF6",
            "gridcolor": "white",
            "gridwidth": 2,
            "linecolor": "white",
            "showbackground": true,
            "ticks": "",
            "zerolinecolor": "white"
           },
           "yaxis": {
            "backgroundcolor": "#E5ECF6",
            "gridcolor": "white",
            "gridwidth": 2,
            "linecolor": "white",
            "showbackground": true,
            "ticks": "",
            "zerolinecolor": "white"
           },
           "zaxis": {
            "backgroundcolor": "#E5ECF6",
            "gridcolor": "white",
            "gridwidth": 2,
            "linecolor": "white",
            "showbackground": true,
            "ticks": "",
            "zerolinecolor": "white"
           }
          },
          "shapedefaults": {
           "line": {
            "color": "#2a3f5f"
           }
          },
          "ternary": {
           "aaxis": {
            "gridcolor": "white",
            "linecolor": "white",
            "ticks": ""
           },
           "baxis": {
            "gridcolor": "white",
            "linecolor": "white",
            "ticks": ""
           },
           "bgcolor": "#E5ECF6",
           "caxis": {
            "gridcolor": "white",
            "linecolor": "white",
            "ticks": ""
           }
          },
          "title": {
           "x": 0.05
          },
          "xaxis": {
           "automargin": true,
           "gridcolor": "white",
           "linecolor": "white",
           "ticks": "",
           "title": {
            "standoff": 15
           },
           "zerolinecolor": "white",
           "zerolinewidth": 2
          },
          "yaxis": {
           "automargin": true,
           "gridcolor": "white",
           "linecolor": "white",
           "ticks": "",
           "title": {
            "standoff": 15
           },
           "zerolinecolor": "white",
           "zerolinewidth": 2
          }
         }
        },
        "title": {
         "text": "Contour Plot"
        },
        "xaxis": {
         "anchor": "y",
         "domain": [
          0,
          0.103125
         ],
         "matches": "x57",
         "range": [
          10.399999999999999,
          133.6
         ],
         "showticklabels": false
        },
        "xaxis10": {
         "anchor": "y10",
         "domain": [
          0.128125,
          0.23124999999999998
         ],
         "matches": "x58",
         "range": [
          0.08,
          0.52
         ],
         "showticklabels": false
        },
        "xaxis11": {
         "anchor": "y11",
         "domain": [
          0.25625,
          0.359375
         ],
         "matches": "x59",
         "range": [
          8,
          52
         ],
         "showticklabels": false
        },
        "xaxis12": {
         "anchor": "y12",
         "domain": [
          0.38437499999999997,
          0.48749999999999993
         ],
         "matches": "x60",
         "range": [
          -5.150424508839773,
          -0.8407354364980724
         ],
         "showticklabels": false,
         "type": "log"
        },
        "xaxis13": {
         "anchor": "y13",
         "domain": [
          0.5125,
          0.615625
         ],
         "matches": "x61",
         "range": [
          2,
          134
         ],
         "showticklabels": false
        },
        "xaxis14": {
         "anchor": "y14",
         "domain": [
          0.640625,
          0.74375
         ],
         "matches": "x62",
         "range": [
          0.8,
          5.2
         ],
         "showticklabels": false
        },
        "xaxis15": {
         "anchor": "y15",
         "domain": [
          0.76875,
          0.8718750000000001
         ],
         "matches": "x63",
         "range": [
          -0.1,
          2.1
         ],
         "showticklabels": false,
         "type": "category"
        },
        "xaxis16": {
         "anchor": "y16",
         "domain": [
          0.8968750000000001,
          1
         ],
         "matches": "x64",
         "range": [
          -5.0683898784252746,
          -2.9214096590477965
         ],
         "showticklabels": false,
         "type": "log"
        },
        "xaxis17": {
         "anchor": "y17",
         "domain": [
          0,
          0.103125
         ],
         "matches": "x57",
         "range": [
          10.399999999999999,
          133.6
         ],
         "showticklabels": false
        },
        "xaxis18": {
         "anchor": "y18",
         "domain": [
          0.128125,
          0.23124999999999998
         ],
         "matches": "x58",
         "range": [
          0.08,
          0.52
         ],
         "showticklabels": false
        },
        "xaxis19": {
         "anchor": "y19",
         "domain": [
          0.25625,
          0.359375
         ],
         "matches": "x59",
         "range": [
          8,
          52
         ],
         "showticklabels": false
        },
        "xaxis2": {
         "anchor": "y2",
         "domain": [
          0.128125,
          0.23124999999999998
         ],
         "matches": "x58",
         "range": [
          0.08,
          0.52
         ],
         "showticklabels": false
        },
        "xaxis20": {
         "anchor": "y20",
         "domain": [
          0.38437499999999997,
          0.48749999999999993
         ],
         "matches": "x60",
         "range": [
          -5.150424508839773,
          -0.8407354364980724
         ],
         "showticklabels": false,
         "type": "log"
        },
        "xaxis21": {
         "anchor": "y21",
         "domain": [
          0.5125,
          0.615625
         ],
         "matches": "x61",
         "range": [
          2,
          134
         ],
         "showticklabels": false
        },
        "xaxis22": {
         "anchor": "y22",
         "domain": [
          0.640625,
          0.74375
         ],
         "matches": "x62",
         "range": [
          0.8,
          5.2
         ],
         "showticklabels": false
        },
        "xaxis23": {
         "anchor": "y23",
         "domain": [
          0.76875,
          0.8718750000000001
         ],
         "matches": "x63",
         "range": [
          -0.1,
          2.1
         ],
         "showticklabels": false,
         "type": "category"
        },
        "xaxis24": {
         "anchor": "y24",
         "domain": [
          0.8968750000000001,
          1
         ],
         "matches": "x64",
         "range": [
          -5.0683898784252746,
          -2.9214096590477965
         ],
         "showticklabels": false,
         "type": "log"
        },
        "xaxis25": {
         "anchor": "y25",
         "domain": [
          0,
          0.103125
         ],
         "matches": "x57",
         "range": [
          10.399999999999999,
          133.6
         ],
         "showticklabels": false
        },
        "xaxis26": {
         "anchor": "y26",
         "domain": [
          0.128125,
          0.23124999999999998
         ],
         "matches": "x58",
         "range": [
          0.08,
          0.52
         ],
         "showticklabels": false
        },
        "xaxis27": {
         "anchor": "y27",
         "domain": [
          0.25625,
          0.359375
         ],
         "matches": "x59",
         "range": [
          8,
          52
         ],
         "showticklabels": false
        },
        "xaxis28": {
         "anchor": "y28",
         "domain": [
          0.38437499999999997,
          0.48749999999999993
         ],
         "matches": "x60",
         "range": [
          -5.150424508839773,
          -0.8407354364980724
         ],
         "showticklabels": false,
         "type": "log"
        },
        "xaxis29": {
         "anchor": "y29",
         "domain": [
          0.5125,
          0.615625
         ],
         "matches": "x61",
         "range": [
          2,
          134
         ],
         "showticklabels": false
        },
        "xaxis3": {
         "anchor": "y3",
         "domain": [
          0.25625,
          0.359375
         ],
         "matches": "x59",
         "range": [
          8,
          52
         ],
         "showticklabels": false
        },
        "xaxis30": {
         "anchor": "y30",
         "domain": [
          0.640625,
          0.74375
         ],
         "matches": "x62",
         "range": [
          0.8,
          5.2
         ],
         "showticklabels": false
        },
        "xaxis31": {
         "anchor": "y31",
         "domain": [
          0.76875,
          0.8718750000000001
         ],
         "matches": "x63",
         "range": [
          -0.1,
          2.1
         ],
         "showticklabels": false,
         "type": "category"
        },
        "xaxis32": {
         "anchor": "y32",
         "domain": [
          0.8968750000000001,
          1
         ],
         "matches": "x64",
         "range": [
          -5.0683898784252746,
          -2.9214096590477965
         ],
         "showticklabels": false,
         "type": "log"
        },
        "xaxis33": {
         "anchor": "y33",
         "domain": [
          0,
          0.103125
         ],
         "matches": "x57",
         "range": [
          10.399999999999999,
          133.6
         ],
         "showticklabels": false
        },
        "xaxis34": {
         "anchor": "y34",
         "domain": [
          0.128125,
          0.23124999999999998
         ],
         "matches": "x58",
         "range": [
          0.08,
          0.52
         ],
         "showticklabels": false
        },
        "xaxis35": {
         "anchor": "y35",
         "domain": [
          0.25625,
          0.359375
         ],
         "matches": "x59",
         "range": [
          8,
          52
         ],
         "showticklabels": false
        },
        "xaxis36": {
         "anchor": "y36",
         "domain": [
          0.38437499999999997,
          0.48749999999999993
         ],
         "matches": "x60",
         "range": [
          -5.150424508839773,
          -0.8407354364980724
         ],
         "showticklabels": false,
         "type": "log"
        },
        "xaxis37": {
         "anchor": "y37",
         "domain": [
          0.5125,
          0.615625
         ],
         "matches": "x61",
         "range": [
          2,
          134
         ],
         "showticklabels": false
        },
        "xaxis38": {
         "anchor": "y38",
         "domain": [
          0.640625,
          0.74375
         ],
         "matches": "x62",
         "range": [
          0.8,
          5.2
         ],
         "showticklabels": false
        },
        "xaxis39": {
         "anchor": "y39",
         "domain": [
          0.76875,
          0.8718750000000001
         ],
         "matches": "x63",
         "range": [
          -0.1,
          2.1
         ],
         "showticklabels": false,
         "type": "category"
        },
        "xaxis4": {
         "anchor": "y4",
         "domain": [
          0.38437499999999997,
          0.48749999999999993
         ],
         "matches": "x60",
         "range": [
          -5.150424508839773,
          -0.8407354364980724
         ],
         "showticklabels": false,
         "type": "log"
        },
        "xaxis40": {
         "anchor": "y40",
         "domain": [
          0.8968750000000001,
          1
         ],
         "matches": "x64",
         "range": [
          -5.0683898784252746,
          -2.9214096590477965
         ],
         "showticklabels": false,
         "type": "log"
        },
        "xaxis41": {
         "anchor": "y41",
         "domain": [
          0,
          0.103125
         ],
         "matches": "x57",
         "range": [
          10.399999999999999,
          133.6
         ],
         "showticklabels": false
        },
        "xaxis42": {
         "anchor": "y42",
         "domain": [
          0.128125,
          0.23124999999999998
         ],
         "matches": "x58",
         "range": [
          0.08,
          0.52
         ],
         "showticklabels": false
        },
        "xaxis43": {
         "anchor": "y43",
         "domain": [
          0.25625,
          0.359375
         ],
         "matches": "x59",
         "range": [
          8,
          52
         ],
         "showticklabels": false
        },
        "xaxis44": {
         "anchor": "y44",
         "domain": [
          0.38437499999999997,
          0.48749999999999993
         ],
         "matches": "x60",
         "range": [
          -5.150424508839773,
          -0.8407354364980724
         ],
         "showticklabels": false,
         "type": "log"
        },
        "xaxis45": {
         "anchor": "y45",
         "domain": [
          0.5125,
          0.615625
         ],
         "matches": "x61",
         "range": [
          2,
          134
         ],
         "showticklabels": false
        },
        "xaxis46": {
         "anchor": "y46",
         "domain": [
          0.640625,
          0.74375
         ],
         "matches": "x62",
         "range": [
          0.8,
          5.2
         ],
         "showticklabels": false
        },
        "xaxis47": {
         "anchor": "y47",
         "domain": [
          0.76875,
          0.8718750000000001
         ],
         "matches": "x63",
         "range": [
          -0.1,
          2.1
         ],
         "showticklabels": false,
         "type": "category"
        },
        "xaxis48": {
         "anchor": "y48",
         "domain": [
          0.8968750000000001,
          1
         ],
         "matches": "x64",
         "range": [
          -5.0683898784252746,
          -2.9214096590477965
         ],
         "showticklabels": false,
         "type": "log"
        },
        "xaxis49": {
         "anchor": "y49",
         "domain": [
          0,
          0.103125
         ],
         "matches": "x57",
         "range": [
          10.399999999999999,
          133.6
         ],
         "showticklabels": false
        },
        "xaxis5": {
         "anchor": "y5",
         "domain": [
          0.5125,
          0.615625
         ],
         "matches": "x61",
         "range": [
          2,
          134
         ],
         "showticklabels": false
        },
        "xaxis50": {
         "anchor": "y50",
         "domain": [
          0.128125,
          0.23124999999999998
         ],
         "matches": "x58",
         "range": [
          0.08,
          0.52
         ],
         "showticklabels": false
        },
        "xaxis51": {
         "anchor": "y51",
         "domain": [
          0.25625,
          0.359375
         ],
         "matches": "x59",
         "range": [
          8,
          52
         ],
         "showticklabels": false
        },
        "xaxis52": {
         "anchor": "y52",
         "domain": [
          0.38437499999999997,
          0.48749999999999993
         ],
         "matches": "x60",
         "range": [
          -5.150424508839773,
          -0.8407354364980724
         ],
         "showticklabels": false,
         "type": "log"
        },
        "xaxis53": {
         "anchor": "y53",
         "domain": [
          0.5125,
          0.615625
         ],
         "matches": "x61",
         "range": [
          2,
          134
         ],
         "showticklabels": false
        },
        "xaxis54": {
         "anchor": "y54",
         "domain": [
          0.640625,
          0.74375
         ],
         "matches": "x62",
         "range": [
          0.8,
          5.2
         ],
         "showticklabels": false
        },
        "xaxis55": {
         "anchor": "y55",
         "domain": [
          0.76875,
          0.8718750000000001
         ],
         "matches": "x63",
         "range": [
          -0.1,
          2.1
         ],
         "showticklabels": false,
         "type": "category"
        },
        "xaxis56": {
         "anchor": "y56",
         "domain": [
          0.8968750000000001,
          1
         ],
         "matches": "x64",
         "range": [
          -5.0683898784252746,
          -2.9214096590477965
         ],
         "showticklabels": false,
         "type": "log"
        },
        "xaxis57": {
         "anchor": "y57",
         "domain": [
          0,
          0.103125
         ],
         "range": [
          10.399999999999999,
          133.6
         ],
         "title": {
          "text": "batch_size"
         }
        },
        "xaxis58": {
         "anchor": "y58",
         "domain": [
          0.128125,
          0.23124999999999998
         ],
         "range": [
          0.08,
          0.52
         ],
         "title": {
          "text": "dropout_rate"
         }
        },
        "xaxis59": {
         "anchor": "y59",
         "domain": [
          0.25625,
          0.359375
         ],
         "range": [
          8,
          52
         ],
         "title": {
          "text": "epochs"
         }
        },
        "xaxis6": {
         "anchor": "y6",
         "domain": [
          0.640625,
          0.74375
         ],
         "matches": "x62",
         "range": [
          0.8,
          5.2
         ],
         "showticklabels": false
        },
        "xaxis60": {
         "anchor": "y60",
         "domain": [
          0.38437499999999997,
          0.48749999999999993
         ],
         "range": [
          -5.150424508839773,
          -0.8407354364980724
         ],
         "title": {
          "text": "learning_rate"
         },
         "type": "log"
        },
        "xaxis61": {
         "anchor": "y61",
         "domain": [
          0.5125,
          0.615625
         ],
         "range": [
          2,
          134
         ],
         "title": {
          "text": "neurons_per_layer"
         }
        },
        "xaxis62": {
         "anchor": "y62",
         "domain": [
          0.640625,
          0.74375
         ],
         "range": [
          0.8,
          5.2
         ],
         "title": {
          "text": "num_hidden_layers"
         }
        },
        "xaxis63": {
         "anchor": "y63",
         "domain": [
          0.76875,
          0.8718750000000001
         ],
         "range": [
          -0.1,
          2.1
         ],
         "title": {
          "text": "optimizer"
         },
         "type": "category"
        },
        "xaxis64": {
         "anchor": "y64",
         "domain": [
          0.8968750000000001,
          1
         ],
         "range": [
          -5.0683898784252746,
          -2.9214096590477965
         ],
         "title": {
          "text": "weight_decay"
         },
         "type": "log"
        },
        "xaxis7": {
         "anchor": "y7",
         "domain": [
          0.76875,
          0.8718750000000001
         ],
         "matches": "x63",
         "range": [
          -0.1,
          2.1
         ],
         "showticklabels": false,
         "type": "category"
        },
        "xaxis8": {
         "anchor": "y8",
         "domain": [
          0.8968750000000001,
          1
         ],
         "matches": "x64",
         "range": [
          -5.0683898784252746,
          -2.9214096590477965
         ],
         "showticklabels": false,
         "type": "log"
        },
        "xaxis9": {
         "anchor": "y9",
         "domain": [
          0,
          0.103125
         ],
         "matches": "x57",
         "range": [
          10.399999999999999,
          133.6
         ],
         "showticklabels": false
        },
        "yaxis": {
         "anchor": "x",
         "domain": [
          0.9078124999999999,
          0.9999999999999999
         ],
         "range": [
          10.399999999999999,
          133.6
         ],
         "title": {
          "text": "batch_size"
         }
        },
        "yaxis10": {
         "anchor": "x10",
         "domain": [
          0.778125,
          0.8703124999999999
         ],
         "matches": "y9",
         "range": [
          0.08,
          0.52
         ],
         "showticklabels": false
        },
        "yaxis11": {
         "anchor": "x11",
         "domain": [
          0.778125,
          0.8703124999999999
         ],
         "matches": "y9",
         "range": [
          0.08,
          0.52
         ],
         "showticklabels": false
        },
        "yaxis12": {
         "anchor": "x12",
         "domain": [
          0.778125,
          0.8703124999999999
         ],
         "matches": "y9",
         "range": [
          0.08,
          0.52
         ],
         "showticklabels": false
        },
        "yaxis13": {
         "anchor": "x13",
         "domain": [
          0.778125,
          0.8703124999999999
         ],
         "matches": "y9",
         "range": [
          0.08,
          0.52
         ],
         "showticklabels": false
        },
        "yaxis14": {
         "anchor": "x14",
         "domain": [
          0.778125,
          0.8703124999999999
         ],
         "matches": "y9",
         "range": [
          0.08,
          0.52
         ],
         "showticklabels": false
        },
        "yaxis15": {
         "anchor": "x15",
         "domain": [
          0.778125,
          0.8703124999999999
         ],
         "matches": "y9",
         "range": [
          0.08,
          0.52
         ],
         "showticklabels": false
        },
        "yaxis16": {
         "anchor": "x16",
         "domain": [
          0.778125,
          0.8703124999999999
         ],
         "matches": "y9",
         "range": [
          0.08,
          0.52
         ],
         "showticklabels": false
        },
        "yaxis17": {
         "anchor": "x17",
         "domain": [
          0.6484375,
          0.740625
         ],
         "range": [
          8,
          52
         ],
         "title": {
          "text": "epochs"
         }
        },
        "yaxis18": {
         "anchor": "x18",
         "domain": [
          0.6484375,
          0.740625
         ],
         "matches": "y17",
         "range": [
          8,
          52
         ],
         "showticklabels": false
        },
        "yaxis19": {
         "anchor": "x19",
         "domain": [
          0.6484375,
          0.740625
         ],
         "matches": "y17",
         "range": [
          8,
          52
         ],
         "showticklabels": false
        },
        "yaxis2": {
         "anchor": "x2",
         "domain": [
          0.9078124999999999,
          0.9999999999999999
         ],
         "matches": "y",
         "range": [
          10.399999999999999,
          133.6
         ],
         "showticklabels": false
        },
        "yaxis20": {
         "anchor": "x20",
         "domain": [
          0.6484375,
          0.740625
         ],
         "matches": "y17",
         "range": [
          8,
          52
         ],
         "showticklabels": false
        },
        "yaxis21": {
         "anchor": "x21",
         "domain": [
          0.6484375,
          0.740625
         ],
         "matches": "y17",
         "range": [
          8,
          52
         ],
         "showticklabels": false
        },
        "yaxis22": {
         "anchor": "x22",
         "domain": [
          0.6484375,
          0.740625
         ],
         "matches": "y17",
         "range": [
          8,
          52
         ],
         "showticklabels": false
        },
        "yaxis23": {
         "anchor": "x23",
         "domain": [
          0.6484375,
          0.740625
         ],
         "matches": "y17",
         "range": [
          8,
          52
         ],
         "showticklabels": false
        },
        "yaxis24": {
         "anchor": "x24",
         "domain": [
          0.6484375,
          0.740625
         ],
         "matches": "y17",
         "range": [
          8,
          52
         ],
         "showticklabels": false
        },
        "yaxis25": {
         "anchor": "x25",
         "domain": [
          0.51875,
          0.6109375
         ],
         "range": [
          -5.150424508839773,
          -0.8407354364980724
         ],
         "title": {
          "text": "learning_rate"
         },
         "type": "log"
        },
        "yaxis26": {
         "anchor": "x26",
         "domain": [
          0.51875,
          0.6109375
         ],
         "matches": "y25",
         "range": [
          -5.150424508839773,
          -0.8407354364980724
         ],
         "showticklabels": false,
         "type": "log"
        },
        "yaxis27": {
         "anchor": "x27",
         "domain": [
          0.51875,
          0.6109375
         ],
         "matches": "y25",
         "range": [
          -5.150424508839773,
          -0.8407354364980724
         ],
         "showticklabels": false,
         "type": "log"
        },
        "yaxis28": {
         "anchor": "x28",
         "domain": [
          0.51875,
          0.6109375
         ],
         "matches": "y25",
         "range": [
          -5.150424508839773,
          -0.8407354364980724
         ],
         "showticklabels": false,
         "type": "log"
        },
        "yaxis29": {
         "anchor": "x29",
         "domain": [
          0.51875,
          0.6109375
         ],
         "matches": "y25",
         "range": [
          -5.150424508839773,
          -0.8407354364980724
         ],
         "showticklabels": false,
         "type": "log"
        },
        "yaxis3": {
         "anchor": "x3",
         "domain": [
          0.9078124999999999,
          0.9999999999999999
         ],
         "matches": "y",
         "range": [
          10.399999999999999,
          133.6
         ],
         "showticklabels": false
        },
        "yaxis30": {
         "anchor": "x30",
         "domain": [
          0.51875,
          0.6109375
         ],
         "matches": "y25",
         "range": [
          -5.150424508839773,
          -0.8407354364980724
         ],
         "showticklabels": false,
         "type": "log"
        },
        "yaxis31": {
         "anchor": "x31",
         "domain": [
          0.51875,
          0.6109375
         ],
         "matches": "y25",
         "range": [
          -5.150424508839773,
          -0.8407354364980724
         ],
         "showticklabels": false,
         "type": "log"
        },
        "yaxis32": {
         "anchor": "x32",
         "domain": [
          0.51875,
          0.6109375
         ],
         "matches": "y25",
         "range": [
          -5.150424508839773,
          -0.8407354364980724
         ],
         "showticklabels": false,
         "type": "log"
        },
        "yaxis33": {
         "anchor": "x33",
         "domain": [
          0.38906250000000003,
          0.48125000000000007
         ],
         "range": [
          2,
          134
         ],
         "title": {
          "text": "neurons_per_layer"
         }
        },
        "yaxis34": {
         "anchor": "x34",
         "domain": [
          0.38906250000000003,
          0.48125000000000007
         ],
         "matches": "y33",
         "range": [
          2,
          134
         ],
         "showticklabels": false
        },
        "yaxis35": {
         "anchor": "x35",
         "domain": [
          0.38906250000000003,
          0.48125000000000007
         ],
         "matches": "y33",
         "range": [
          2,
          134
         ],
         "showticklabels": false
        },
        "yaxis36": {
         "anchor": "x36",
         "domain": [
          0.38906250000000003,
          0.48125000000000007
         ],
         "matches": "y33",
         "range": [
          2,
          134
         ],
         "showticklabels": false
        },
        "yaxis37": {
         "anchor": "x37",
         "domain": [
          0.38906250000000003,
          0.48125000000000007
         ],
         "matches": "y33",
         "range": [
          2,
          134
         ],
         "showticklabels": false
        },
        "yaxis38": {
         "anchor": "x38",
         "domain": [
          0.38906250000000003,
          0.48125000000000007
         ],
         "matches": "y33",
         "range": [
          2,
          134
         ],
         "showticklabels": false
        },
        "yaxis39": {
         "anchor": "x39",
         "domain": [
          0.38906250000000003,
          0.48125000000000007
         ],
         "matches": "y33",
         "range": [
          2,
          134
         ],
         "showticklabels": false
        },
        "yaxis4": {
         "anchor": "x4",
         "domain": [
          0.9078124999999999,
          0.9999999999999999
         ],
         "matches": "y",
         "range": [
          10.399999999999999,
          133.6
         ],
         "showticklabels": false
        },
        "yaxis40": {
         "anchor": "x40",
         "domain": [
          0.38906250000000003,
          0.48125000000000007
         ],
         "matches": "y33",
         "range": [
          2,
          134
         ],
         "showticklabels": false
        },
        "yaxis41": {
         "anchor": "x41",
         "domain": [
          0.259375,
          0.3515625
         ],
         "range": [
          0.8,
          5.2
         ],
         "title": {
          "text": "num_hidden_layers"
         }
        },
        "yaxis42": {
         "anchor": "x42",
         "domain": [
          0.259375,
          0.3515625
         ],
         "matches": "y41",
         "range": [
          0.8,
          5.2
         ],
         "showticklabels": false
        },
        "yaxis43": {
         "anchor": "x43",
         "domain": [
          0.259375,
          0.3515625
         ],
         "matches": "y41",
         "range": [
          0.8,
          5.2
         ],
         "showticklabels": false
        },
        "yaxis44": {
         "anchor": "x44",
         "domain": [
          0.259375,
          0.3515625
         ],
         "matches": "y41",
         "range": [
          0.8,
          5.2
         ],
         "showticklabels": false
        },
        "yaxis45": {
         "anchor": "x45",
         "domain": [
          0.259375,
          0.3515625
         ],
         "matches": "y41",
         "range": [
          0.8,
          5.2
         ],
         "showticklabels": false
        },
        "yaxis46": {
         "anchor": "x46",
         "domain": [
          0.259375,
          0.3515625
         ],
         "matches": "y41",
         "range": [
          0.8,
          5.2
         ],
         "showticklabels": false
        },
        "yaxis47": {
         "anchor": "x47",
         "domain": [
          0.259375,
          0.3515625
         ],
         "matches": "y41",
         "range": [
          0.8,
          5.2
         ],
         "showticklabels": false
        },
        "yaxis48": {
         "anchor": "x48",
         "domain": [
          0.259375,
          0.3515625
         ],
         "matches": "y41",
         "range": [
          0.8,
          5.2
         ],
         "showticklabels": false
        },
        "yaxis49": {
         "anchor": "x49",
         "domain": [
          0.1296875,
          0.22187500000000002
         ],
         "range": [
          -0.1,
          2.1
         ],
         "title": {
          "text": "optimizer"
         },
         "type": "category"
        },
        "yaxis5": {
         "anchor": "x5",
         "domain": [
          0.9078124999999999,
          0.9999999999999999
         ],
         "matches": "y",
         "range": [
          10.399999999999999,
          133.6
         ],
         "showticklabels": false
        },
        "yaxis50": {
         "anchor": "x50",
         "domain": [
          0.1296875,
          0.22187500000000002
         ],
         "matches": "y49",
         "range": [
          -0.1,
          2.1
         ],
         "showticklabels": false,
         "type": "category"
        },
        "yaxis51": {
         "anchor": "x51",
         "domain": [
          0.1296875,
          0.22187500000000002
         ],
         "matches": "y49",
         "range": [
          -0.1,
          2.1
         ],
         "showticklabels": false,
         "type": "category"
        },
        "yaxis52": {
         "anchor": "x52",
         "domain": [
          0.1296875,
          0.22187500000000002
         ],
         "matches": "y49",
         "range": [
          -0.1,
          2.1
         ],
         "showticklabels": false,
         "type": "category"
        },
        "yaxis53": {
         "anchor": "x53",
         "domain": [
          0.1296875,
          0.22187500000000002
         ],
         "matches": "y49",
         "range": [
          -0.1,
          2.1
         ],
         "showticklabels": false,
         "type": "category"
        },
        "yaxis54": {
         "anchor": "x54",
         "domain": [
          0.1296875,
          0.22187500000000002
         ],
         "matches": "y49",
         "range": [
          -0.1,
          2.1
         ],
         "showticklabels": false,
         "type": "category"
        },
        "yaxis55": {
         "anchor": "x55",
         "domain": [
          0.1296875,
          0.22187500000000002
         ],
         "matches": "y49",
         "range": [
          -0.1,
          2.1
         ],
         "showticklabels": false,
         "type": "category"
        },
        "yaxis56": {
         "anchor": "x56",
         "domain": [
          0.1296875,
          0.22187500000000002
         ],
         "matches": "y49",
         "range": [
          -0.1,
          2.1
         ],
         "showticklabels": false,
         "type": "category"
        },
        "yaxis57": {
         "anchor": "x57",
         "domain": [
          0,
          0.0921875
         ],
         "range": [
          -5.0683898784252746,
          -2.9214096590477965
         ],
         "title": {
          "text": "weight_decay"
         },
         "type": "log"
        },
        "yaxis58": {
         "anchor": "x58",
         "domain": [
          0,
          0.0921875
         ],
         "matches": "y57",
         "range": [
          -5.0683898784252746,
          -2.9214096590477965
         ],
         "showticklabels": false,
         "type": "log"
        },
        "yaxis59": {
         "anchor": "x59",
         "domain": [
          0,
          0.0921875
         ],
         "matches": "y57",
         "range": [
          -5.0683898784252746,
          -2.9214096590477965
         ],
         "showticklabels": false,
         "type": "log"
        },
        "yaxis6": {
         "anchor": "x6",
         "domain": [
          0.9078124999999999,
          0.9999999999999999
         ],
         "matches": "y",
         "range": [
          10.399999999999999,
          133.6
         ],
         "showticklabels": false
        },
        "yaxis60": {
         "anchor": "x60",
         "domain": [
          0,
          0.0921875
         ],
         "matches": "y57",
         "range": [
          -5.0683898784252746,
          -2.9214096590477965
         ],
         "showticklabels": false,
         "type": "log"
        },
        "yaxis61": {
         "anchor": "x61",
         "domain": [
          0,
          0.0921875
         ],
         "matches": "y57",
         "range": [
          -5.0683898784252746,
          -2.9214096590477965
         ],
         "showticklabels": false,
         "type": "log"
        },
        "yaxis62": {
         "anchor": "x62",
         "domain": [
          0,
          0.0921875
         ],
         "matches": "y57",
         "range": [
          -5.0683898784252746,
          -2.9214096590477965
         ],
         "showticklabels": false,
         "type": "log"
        },
        "yaxis63": {
         "anchor": "x63",
         "domain": [
          0,
          0.0921875
         ],
         "matches": "y57",
         "range": [
          -5.0683898784252746,
          -2.9214096590477965
         ],
         "showticklabels": false,
         "type": "log"
        },
        "yaxis64": {
         "anchor": "x64",
         "domain": [
          0,
          0.0921875
         ],
         "matches": "y57",
         "range": [
          -5.0683898784252746,
          -2.9214096590477965
         ],
         "showticklabels": false,
         "type": "log"
        },
        "yaxis7": {
         "anchor": "x7",
         "domain": [
          0.9078124999999999,
          0.9999999999999999
         ],
         "matches": "y",
         "range": [
          10.399999999999999,
          133.6
         ],
         "showticklabels": false
        },
        "yaxis8": {
         "anchor": "x8",
         "domain": [
          0.9078124999999999,
          0.9999999999999999
         ],
         "matches": "y",
         "range": [
          10.399999999999999,
          133.6
         ],
         "showticklabels": false
        },
        "yaxis9": {
         "anchor": "x9",
         "domain": [
          0.778125,
          0.8703124999999999
         ],
         "range": [
          0.08,
          0.52
         ],
         "title": {
          "text": "dropout_rate"
         }
        }
       }
      }
     },
     "metadata": {},
     "output_type": "display_data"
    }
   ],
   "source": [
    "# 4. Contour plot\n",
    "plot_contour(study).show()"
   ]
  },
  {
   "cell_type": "code",
   "execution_count": 15,
   "id": "5cb1b6dd",
   "metadata": {},
   "outputs": [
    {
     "data": {
      "application/vnd.plotly.v1+json": {
       "config": {
        "plotlyServerURL": "https://plot.ly"
       },
       "data": [
        {
         "cliponaxis": false,
         "hovertemplate": [
          "batch_size (CategoricalDistribution): 0.029250011935215207<extra></extra>",
          "epochs (IntDistribution): 0.03197866139873912<extra></extra>",
          "num_hidden_layers (IntDistribution): 0.039103857584358276<extra></extra>",
          "weight_decay (FloatDistribution): 0.04078612487384847<extra></extra>",
          "neurons_per_layer (IntDistribution): 0.060668902718444565<extra></extra>",
          "optimizer (CategoricalDistribution): 0.12124195423505021<extra></extra>",
          "dropout_rate (FloatDistribution): 0.26396677236815413<extra></extra>",
          "learning_rate (FloatDistribution): 0.41300371488619003<extra></extra>"
         ],
         "name": "Objective Value",
         "orientation": "h",
         "text": [
          "0.03",
          "0.03",
          "0.04",
          "0.04",
          "0.06",
          "0.12",
          "0.26",
          "0.41"
         ],
         "textposition": "outside",
         "type": "bar",
         "x": [
          0.029250011935215207,
          0.03197866139873912,
          0.039103857584358276,
          0.04078612487384847,
          0.060668902718444565,
          0.12124195423505021,
          0.26396677236815413,
          0.41300371488619003
         ],
         "y": [
          "batch_size",
          "epochs",
          "num_hidden_layers",
          "weight_decay",
          "neurons_per_layer",
          "optimizer",
          "dropout_rate",
          "learning_rate"
         ]
        }
       ],
       "layout": {
        "template": {
         "data": {
          "bar": [
           {
            "error_x": {
             "color": "#2a3f5f"
            },
            "error_y": {
             "color": "#2a3f5f"
            },
            "marker": {
             "line": {
              "color": "#E5ECF6",
              "width": 0.5
             },
             "pattern": {
              "fillmode": "overlay",
              "size": 10,
              "solidity": 0.2
             }
            },
            "type": "bar"
           }
          ],
          "barpolar": [
           {
            "marker": {
             "line": {
              "color": "#E5ECF6",
              "width": 0.5
             },
             "pattern": {
              "fillmode": "overlay",
              "size": 10,
              "solidity": 0.2
             }
            },
            "type": "barpolar"
           }
          ],
          "carpet": [
           {
            "aaxis": {
             "endlinecolor": "#2a3f5f",
             "gridcolor": "white",
             "linecolor": "white",
             "minorgridcolor": "white",
             "startlinecolor": "#2a3f5f"
            },
            "baxis": {
             "endlinecolor": "#2a3f5f",
             "gridcolor": "white",
             "linecolor": "white",
             "minorgridcolor": "white",
             "startlinecolor": "#2a3f5f"
            },
            "type": "carpet"
           }
          ],
          "choropleth": [
           {
            "colorbar": {
             "outlinewidth": 0,
             "ticks": ""
            },
            "type": "choropleth"
           }
          ],
          "contour": [
           {
            "colorbar": {
             "outlinewidth": 0,
             "ticks": ""
            },
            "colorscale": [
             [
              0,
              "#0d0887"
             ],
             [
              0.1111111111111111,
              "#46039f"
             ],
             [
              0.2222222222222222,
              "#7201a8"
             ],
             [
              0.3333333333333333,
              "#9c179e"
             ],
             [
              0.4444444444444444,
              "#bd3786"
             ],
             [
              0.5555555555555556,
              "#d8576b"
             ],
             [
              0.6666666666666666,
              "#ed7953"
             ],
             [
              0.7777777777777778,
              "#fb9f3a"
             ],
             [
              0.8888888888888888,
              "#fdca26"
             ],
             [
              1,
              "#f0f921"
             ]
            ],
            "type": "contour"
           }
          ],
          "contourcarpet": [
           {
            "colorbar": {
             "outlinewidth": 0,
             "ticks": ""
            },
            "type": "contourcarpet"
           }
          ],
          "heatmap": [
           {
            "colorbar": {
             "outlinewidth": 0,
             "ticks": ""
            },
            "colorscale": [
             [
              0,
              "#0d0887"
             ],
             [
              0.1111111111111111,
              "#46039f"
             ],
             [
              0.2222222222222222,
              "#7201a8"
             ],
             [
              0.3333333333333333,
              "#9c179e"
             ],
             [
              0.4444444444444444,
              "#bd3786"
             ],
             [
              0.5555555555555556,
              "#d8576b"
             ],
             [
              0.6666666666666666,
              "#ed7953"
             ],
             [
              0.7777777777777778,
              "#fb9f3a"
             ],
             [
              0.8888888888888888,
              "#fdca26"
             ],
             [
              1,
              "#f0f921"
             ]
            ],
            "type": "heatmap"
           }
          ],
          "histogram": [
           {
            "marker": {
             "pattern": {
              "fillmode": "overlay",
              "size": 10,
              "solidity": 0.2
             }
            },
            "type": "histogram"
           }
          ],
          "histogram2d": [
           {
            "colorbar": {
             "outlinewidth": 0,
             "ticks": ""
            },
            "colorscale": [
             [
              0,
              "#0d0887"
             ],
             [
              0.1111111111111111,
              "#46039f"
             ],
             [
              0.2222222222222222,
              "#7201a8"
             ],
             [
              0.3333333333333333,
              "#9c179e"
             ],
             [
              0.4444444444444444,
              "#bd3786"
             ],
             [
              0.5555555555555556,
              "#d8576b"
             ],
             [
              0.6666666666666666,
              "#ed7953"
             ],
             [
              0.7777777777777778,
              "#fb9f3a"
             ],
             [
              0.8888888888888888,
              "#fdca26"
             ],
             [
              1,
              "#f0f921"
             ]
            ],
            "type": "histogram2d"
           }
          ],
          "histogram2dcontour": [
           {
            "colorbar": {
             "outlinewidth": 0,
             "ticks": ""
            },
            "colorscale": [
             [
              0,
              "#0d0887"
             ],
             [
              0.1111111111111111,
              "#46039f"
             ],
             [
              0.2222222222222222,
              "#7201a8"
             ],
             [
              0.3333333333333333,
              "#9c179e"
             ],
             [
              0.4444444444444444,
              "#bd3786"
             ],
             [
              0.5555555555555556,
              "#d8576b"
             ],
             [
              0.6666666666666666,
              "#ed7953"
             ],
             [
              0.7777777777777778,
              "#fb9f3a"
             ],
             [
              0.8888888888888888,
              "#fdca26"
             ],
             [
              1,
              "#f0f921"
             ]
            ],
            "type": "histogram2dcontour"
           }
          ],
          "mesh3d": [
           {
            "colorbar": {
             "outlinewidth": 0,
             "ticks": ""
            },
            "type": "mesh3d"
           }
          ],
          "parcoords": [
           {
            "line": {
             "colorbar": {
              "outlinewidth": 0,
              "ticks": ""
             }
            },
            "type": "parcoords"
           }
          ],
          "pie": [
           {
            "automargin": true,
            "type": "pie"
           }
          ],
          "scatter": [
           {
            "fillpattern": {
             "fillmode": "overlay",
             "size": 10,
             "solidity": 0.2
            },
            "type": "scatter"
           }
          ],
          "scatter3d": [
           {
            "line": {
             "colorbar": {
              "outlinewidth": 0,
              "ticks": ""
             }
            },
            "marker": {
             "colorbar": {
              "outlinewidth": 0,
              "ticks": ""
             }
            },
            "type": "scatter3d"
           }
          ],
          "scattercarpet": [
           {
            "marker": {
             "colorbar": {
              "outlinewidth": 0,
              "ticks": ""
             }
            },
            "type": "scattercarpet"
           }
          ],
          "scattergeo": [
           {
            "marker": {
             "colorbar": {
              "outlinewidth": 0,
              "ticks": ""
             }
            },
            "type": "scattergeo"
           }
          ],
          "scattergl": [
           {
            "marker": {
             "colorbar": {
              "outlinewidth": 0,
              "ticks": ""
             }
            },
            "type": "scattergl"
           }
          ],
          "scattermap": [
           {
            "marker": {
             "colorbar": {
              "outlinewidth": 0,
              "ticks": ""
             }
            },
            "type": "scattermap"
           }
          ],
          "scattermapbox": [
           {
            "marker": {
             "colorbar": {
              "outlinewidth": 0,
              "ticks": ""
             }
            },
            "type": "scattermapbox"
           }
          ],
          "scatterpolar": [
           {
            "marker": {
             "colorbar": {
              "outlinewidth": 0,
              "ticks": ""
             }
            },
            "type": "scatterpolar"
           }
          ],
          "scatterpolargl": [
           {
            "marker": {
             "colorbar": {
              "outlinewidth": 0,
              "ticks": ""
             }
            },
            "type": "scatterpolargl"
           }
          ],
          "scatterternary": [
           {
            "marker": {
             "colorbar": {
              "outlinewidth": 0,
              "ticks": ""
             }
            },
            "type": "scatterternary"
           }
          ],
          "surface": [
           {
            "colorbar": {
             "outlinewidth": 0,
             "ticks": ""
            },
            "colorscale": [
             [
              0,
              "#0d0887"
             ],
             [
              0.1111111111111111,
              "#46039f"
             ],
             [
              0.2222222222222222,
              "#7201a8"
             ],
             [
              0.3333333333333333,
              "#9c179e"
             ],
             [
              0.4444444444444444,
              "#bd3786"
             ],
             [
              0.5555555555555556,
              "#d8576b"
             ],
             [
              0.6666666666666666,
              "#ed7953"
             ],
             [
              0.7777777777777778,
              "#fb9f3a"
             ],
             [
              0.8888888888888888,
              "#fdca26"
             ],
             [
              1,
              "#f0f921"
             ]
            ],
            "type": "surface"
           }
          ],
          "table": [
           {
            "cells": {
             "fill": {
              "color": "#EBF0F8"
             },
             "line": {
              "color": "white"
             }
            },
            "header": {
             "fill": {
              "color": "#C8D4E3"
             },
             "line": {
              "color": "white"
             }
            },
            "type": "table"
           }
          ]
         },
         "layout": {
          "annotationdefaults": {
           "arrowcolor": "#2a3f5f",
           "arrowhead": 0,
           "arrowwidth": 1
          },
          "autotypenumbers": "strict",
          "coloraxis": {
           "colorbar": {
            "outlinewidth": 0,
            "ticks": ""
           }
          },
          "colorscale": {
           "diverging": [
            [
             0,
             "#8e0152"
            ],
            [
             0.1,
             "#c51b7d"
            ],
            [
             0.2,
             "#de77ae"
            ],
            [
             0.3,
             "#f1b6da"
            ],
            [
             0.4,
             "#fde0ef"
            ],
            [
             0.5,
             "#f7f7f7"
            ],
            [
             0.6,
             "#e6f5d0"
            ],
            [
             0.7,
             "#b8e186"
            ],
            [
             0.8,
             "#7fbc41"
            ],
            [
             0.9,
             "#4d9221"
            ],
            [
             1,
             "#276419"
            ]
           ],
           "sequential": [
            [
             0,
             "#0d0887"
            ],
            [
             0.1111111111111111,
             "#46039f"
            ],
            [
             0.2222222222222222,
             "#7201a8"
            ],
            [
             0.3333333333333333,
             "#9c179e"
            ],
            [
             0.4444444444444444,
             "#bd3786"
            ],
            [
             0.5555555555555556,
             "#d8576b"
            ],
            [
             0.6666666666666666,
             "#ed7953"
            ],
            [
             0.7777777777777778,
             "#fb9f3a"
            ],
            [
             0.8888888888888888,
             "#fdca26"
            ],
            [
             1,
             "#f0f921"
            ]
           ],
           "sequentialminus": [
            [
             0,
             "#0d0887"
            ],
            [
             0.1111111111111111,
             "#46039f"
            ],
            [
             0.2222222222222222,
             "#7201a8"
            ],
            [
             0.3333333333333333,
             "#9c179e"
            ],
            [
             0.4444444444444444,
             "#bd3786"
            ],
            [
             0.5555555555555556,
             "#d8576b"
            ],
            [
             0.6666666666666666,
             "#ed7953"
            ],
            [
             0.7777777777777778,
             "#fb9f3a"
            ],
            [
             0.8888888888888888,
             "#fdca26"
            ],
            [
             1,
             "#f0f921"
            ]
           ]
          },
          "colorway": [
           "#636efa",
           "#EF553B",
           "#00cc96",
           "#ab63fa",
           "#FFA15A",
           "#19d3f3",
           "#FF6692",
           "#B6E880",
           "#FF97FF",
           "#FECB52"
          ],
          "font": {
           "color": "#2a3f5f"
          },
          "geo": {
           "bgcolor": "white",
           "lakecolor": "white",
           "landcolor": "#E5ECF6",
           "showlakes": true,
           "showland": true,
           "subunitcolor": "white"
          },
          "hoverlabel": {
           "align": "left"
          },
          "hovermode": "closest",
          "mapbox": {
           "style": "light"
          },
          "paper_bgcolor": "white",
          "plot_bgcolor": "#E5ECF6",
          "polar": {
           "angularaxis": {
            "gridcolor": "white",
            "linecolor": "white",
            "ticks": ""
           },
           "bgcolor": "#E5ECF6",
           "radialaxis": {
            "gridcolor": "white",
            "linecolor": "white",
            "ticks": ""
           }
          },
          "scene": {
           "xaxis": {
            "backgroundcolor": "#E5ECF6",
            "gridcolor": "white",
            "gridwidth": 2,
            "linecolor": "white",
            "showbackground": true,
            "ticks": "",
            "zerolinecolor": "white"
           },
           "yaxis": {
            "backgroundcolor": "#E5ECF6",
            "gridcolor": "white",
            "gridwidth": 2,
            "linecolor": "white",
            "showbackground": true,
            "ticks": "",
            "zerolinecolor": "white"
           },
           "zaxis": {
            "backgroundcolor": "#E5ECF6",
            "gridcolor": "white",
            "gridwidth": 2,
            "linecolor": "white",
            "showbackground": true,
            "ticks": "",
            "zerolinecolor": "white"
           }
          },
          "shapedefaults": {
           "line": {
            "color": "#2a3f5f"
           }
          },
          "ternary": {
           "aaxis": {
            "gridcolor": "white",
            "linecolor": "white",
            "ticks": ""
           },
           "baxis": {
            "gridcolor": "white",
            "linecolor": "white",
            "ticks": ""
           },
           "bgcolor": "#E5ECF6",
           "caxis": {
            "gridcolor": "white",
            "linecolor": "white",
            "ticks": ""
           }
          },
          "title": {
           "x": 0.05
          },
          "xaxis": {
           "automargin": true,
           "gridcolor": "white",
           "linecolor": "white",
           "ticks": "",
           "title": {
            "standoff": 15
           },
           "zerolinecolor": "white",
           "zerolinewidth": 2
          },
          "yaxis": {
           "automargin": true,
           "gridcolor": "white",
           "linecolor": "white",
           "ticks": "",
           "title": {
            "standoff": 15
           },
           "zerolinecolor": "white",
           "zerolinewidth": 2
          }
         }
        },
        "title": {
         "text": "Hyperparameter Importances"
        },
        "xaxis": {
         "title": {
          "text": "Hyperparameter Importance"
         }
        },
        "yaxis": {
         "title": {
          "text": "Hyperparameter"
         }
        }
       }
      }
     },
     "metadata": {},
     "output_type": "display_data"
    }
   ],
   "source": [
    "# 5. importance plot\n",
    "plot_param_importances(study).show()"
   ]
  }
 ],
 "metadata": {
  "kernelspec": {
   "display_name": "Python 3",
   "language": "python",
   "name": "python3"
  },
  "language_info": {
   "codemirror_mode": {
    "name": "ipython",
    "version": 3
   },
   "file_extension": ".py",
   "mimetype": "text/x-python",
   "name": "python",
   "nbconvert_exporter": "python",
   "pygments_lexer": "ipython3",
   "version": "3.10.12"
  }
 },
 "nbformat": 4,
 "nbformat_minor": 5
}
