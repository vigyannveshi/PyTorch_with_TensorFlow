{
 "cells": [
  {
   "cell_type": "markdown",
   "id": "5fe32199",
   "metadata": {},
   "source": [
    "**20. Hyperparameter tuning using Optuna**"
   ]
  },
  {
   "cell_type": "markdown",
   "id": "e8c083f5",
   "metadata": {},
   "source": [
    "**`References:`**\n",
    "* Optuna paper: https://arxiv.org/pdf/1907.10902\n",
    "* Tree Structured Parzen Estimator: http://arxiv.org/pdf/2304.11127"
   ]
  },
  {
   "cell_type": "markdown",
   "id": "d9d324b2",
   "metadata": {},
   "source": [
    "**`Tools in hyperparameter tuning:`**\n",
    "* Grid Search Cross Validation (CV) [defines a grid w.r.t params to be tuned, and tests each] (COSTLY)\n",
    "* Random Search Cross Validation (CV) [randomly tests on the grid defined] (MAY MISS ON BEST VALUE)\n",
    "* Bayesian Search "
   ]
  },
  {
   "cell_type": "markdown",
   "id": "a182a537",
   "metadata": {},
   "source": [
    "**`Key terms in Optuna`**\n",
    "1. Study:<br> A study in Optuna is an optimization session that encompasses multiple trials. It's essentially a collection of trials aimed at optimizing the objective function. You can think of a study as the overall experiment or search process. Example: A study to find the best hyperparameters for XGBoost model. \n",
    "   \n",
    "2. Trial:<br> A trial is a single iteration of the optimization process where a specific set of hyperparameters is evaluated. Each trial runs the objective function once with a distinct set of hyperparameters. Example: One trial could include training a model with a learning rate of 0.01 and a max depth of 5.\n",
    "   \n",
    "3. Trial Parameters:<br> These are the specific hyperparameter values chosen during a trial. Each trial will have a unique combination of hyperparameters that are evaluated to see how they impact the objective function. Example: In one trial the learning rate may be 0.001 while the batch_size is 32, while in other, the learning rate could be 0.01 and batch_size is 64.\n",
    "   \n",
    "4. Objective function:<br> The function to be optimized (minimized or maximized) during the hyperparameter search. It takes the hyperparameters as input and returns a value (such as accuracy, loss, or any other metric) that Optuna tries to optimize. Example: In a classification task, the objective function could be the cross entropy loss which Optuna seeks to minimize.\n",
    "   \n",
    "5. Sampler:<br> An algorithm that suggests which hyperparameters should be evaluated next. Optuna uses the Tree-Structured Parzen Estimator (TPE) by default, but it also supports other sampling methods like random search or even custom samplers. Eg: TPE suggests promising areas of the hyperparameter space, focusing on regions that are likely to yield better results."
   ]
  },
  {
   "cell_type": "code",
   "execution_count": 1,
   "id": "377bb019",
   "metadata": {},
   "outputs": [
    {
     "data": {
      "application/vnd.microsoft.datawrangler.viewer.v0+json": {
       "columns": [
        {
         "name": "index",
         "rawType": "int64",
         "type": "integer"
        },
        {
         "name": "Pregnancies",
         "rawType": "int64",
         "type": "integer"
        },
        {
         "name": "Glucose",
         "rawType": "int64",
         "type": "integer"
        },
        {
         "name": "BloodPressure",
         "rawType": "int64",
         "type": "integer"
        },
        {
         "name": "SkinThickness",
         "rawType": "int64",
         "type": "integer"
        },
        {
         "name": "Insulin",
         "rawType": "int64",
         "type": "integer"
        },
        {
         "name": "BMI",
         "rawType": "float64",
         "type": "float"
        },
        {
         "name": "DiabetesPedigreeFunction",
         "rawType": "float64",
         "type": "float"
        },
        {
         "name": "Age",
         "rawType": "int64",
         "type": "integer"
        },
        {
         "name": "Outcome",
         "rawType": "int64",
         "type": "integer"
        }
       ],
       "ref": "89ac7bf5-90fe-4b65-a3dd-87725c30024b",
       "rows": [
        [
         "0",
         "6",
         "148",
         "72",
         "35",
         "0",
         "33.6",
         "0.627",
         "50",
         "1"
        ],
        [
         "1",
         "1",
         "85",
         "66",
         "29",
         "0",
         "26.6",
         "0.351",
         "31",
         "0"
        ],
        [
         "2",
         "8",
         "183",
         "64",
         "0",
         "0",
         "23.3",
         "0.672",
         "32",
         "1"
        ],
        [
         "3",
         "1",
         "89",
         "66",
         "23",
         "94",
         "28.1",
         "0.167",
         "21",
         "0"
        ],
        [
         "4",
         "0",
         "137",
         "40",
         "35",
         "168",
         "43.1",
         "2.288",
         "33",
         "1"
        ]
       ],
       "shape": {
        "columns": 9,
        "rows": 5
       }
      },
      "text/html": [
       "<div>\n",
       "<style scoped>\n",
       "    .dataframe tbody tr th:only-of-type {\n",
       "        vertical-align: middle;\n",
       "    }\n",
       "\n",
       "    .dataframe tbody tr th {\n",
       "        vertical-align: top;\n",
       "    }\n",
       "\n",
       "    .dataframe thead th {\n",
       "        text-align: right;\n",
       "    }\n",
       "</style>\n",
       "<table border=\"1\" class=\"dataframe\">\n",
       "  <thead>\n",
       "    <tr style=\"text-align: right;\">\n",
       "      <th></th>\n",
       "      <th>Pregnancies</th>\n",
       "      <th>Glucose</th>\n",
       "      <th>BloodPressure</th>\n",
       "      <th>SkinThickness</th>\n",
       "      <th>Insulin</th>\n",
       "      <th>BMI</th>\n",
       "      <th>DiabetesPedigreeFunction</th>\n",
       "      <th>Age</th>\n",
       "      <th>Outcome</th>\n",
       "    </tr>\n",
       "  </thead>\n",
       "  <tbody>\n",
       "    <tr>\n",
       "      <th>0</th>\n",
       "      <td>6</td>\n",
       "      <td>148</td>\n",
       "      <td>72</td>\n",
       "      <td>35</td>\n",
       "      <td>0</td>\n",
       "      <td>33.6</td>\n",
       "      <td>0.627</td>\n",
       "      <td>50</td>\n",
       "      <td>1</td>\n",
       "    </tr>\n",
       "    <tr>\n",
       "      <th>1</th>\n",
       "      <td>1</td>\n",
       "      <td>85</td>\n",
       "      <td>66</td>\n",
       "      <td>29</td>\n",
       "      <td>0</td>\n",
       "      <td>26.6</td>\n",
       "      <td>0.351</td>\n",
       "      <td>31</td>\n",
       "      <td>0</td>\n",
       "    </tr>\n",
       "    <tr>\n",
       "      <th>2</th>\n",
       "      <td>8</td>\n",
       "      <td>183</td>\n",
       "      <td>64</td>\n",
       "      <td>0</td>\n",
       "      <td>0</td>\n",
       "      <td>23.3</td>\n",
       "      <td>0.672</td>\n",
       "      <td>32</td>\n",
       "      <td>1</td>\n",
       "    </tr>\n",
       "    <tr>\n",
       "      <th>3</th>\n",
       "      <td>1</td>\n",
       "      <td>89</td>\n",
       "      <td>66</td>\n",
       "      <td>23</td>\n",
       "      <td>94</td>\n",
       "      <td>28.1</td>\n",
       "      <td>0.167</td>\n",
       "      <td>21</td>\n",
       "      <td>0</td>\n",
       "    </tr>\n",
       "    <tr>\n",
       "      <th>4</th>\n",
       "      <td>0</td>\n",
       "      <td>137</td>\n",
       "      <td>40</td>\n",
       "      <td>35</td>\n",
       "      <td>168</td>\n",
       "      <td>43.1</td>\n",
       "      <td>2.288</td>\n",
       "      <td>33</td>\n",
       "      <td>1</td>\n",
       "    </tr>\n",
       "  </tbody>\n",
       "</table>\n",
       "</div>"
      ],
      "text/plain": [
       "   Pregnancies  Glucose  BloodPressure  SkinThickness  Insulin   BMI  \\\n",
       "0            6      148             72             35        0  33.6   \n",
       "1            1       85             66             29        0  26.6   \n",
       "2            8      183             64              0        0  23.3   \n",
       "3            1       89             66             23       94  28.1   \n",
       "4            0      137             40             35      168  43.1   \n",
       "\n",
       "   DiabetesPedigreeFunction  Age  Outcome  \n",
       "0                     0.627   50        1  \n",
       "1                     0.351   31        0  \n",
       "2                     0.672   32        1  \n",
       "3                     0.167   21        0  \n",
       "4                     2.288   33        1  "
      ]
     },
     "execution_count": 1,
     "metadata": {},
     "output_type": "execute_result"
    }
   ],
   "source": [
    "# important imports\n",
    "import optuna \n",
    "from sklearn.model_selection import train_test_split\n",
    "from sklearn.preprocessing import StandardScaler\n",
    "import pandas as pd\n",
    "\n",
    "# Load the Pima Indian Diabetes dataset (from UCI repository)\n",
    "url = \"https://raw.githubusercontent.com/jbrownlee/Datasets/master/pima-indians-diabetes.data.csv\"\n",
    "columns = ['Pregnancies', 'Glucose', 'BloodPressure', 'SkinThickness', 'Insulin', 'BMI',\n",
    "           'DiabetesPedigreeFunction', 'Age', 'Outcome']\n",
    "\n",
    "df = pd.read_csv(url,names = columns)\n",
    "df.head()"
   ]
  },
  {
   "cell_type": "code",
   "execution_count": 2,
   "id": "c3db1c95",
   "metadata": {},
   "outputs": [
    {
     "name": "stdout",
     "output_type": "stream",
     "text": [
      "Pregnancies                 0\n",
      "Glucose                     0\n",
      "BloodPressure               0\n",
      "SkinThickness               0\n",
      "Insulin                     0\n",
      "BMI                         0\n",
      "DiabetesPedigreeFunction    0\n",
      "Age                         0\n",
      "Outcome                     0\n",
      "dtype: int64\n"
     ]
    }
   ],
   "source": [
    "# handling missing values (represented as zeros)\n",
    "import numpy as np\n",
    "\n",
    "# replace zeros values with NaN in columns where zero is not a valid value\n",
    "cols_with_missing_value = ['Glucose','BloodPressure','SkinThickness','Insulin','BMI']\n",
    "df[cols_with_missing_value] = df[cols_with_missing_value].replace(0,np.nan)\n",
    "\n",
    "# impute the missing values with the mean of the respective column\n",
    "df.fillna(df.mean(),inplace=True)\n",
    "\n",
    "# check if there are any remaining missing values\n",
    "print(df.isnull().sum())"
   ]
  },
  {
   "cell_type": "code",
   "execution_count": 3,
   "id": "b383b613",
   "metadata": {},
   "outputs": [
    {
     "name": "stdout",
     "output_type": "stream",
     "text": [
      "Training set shape: (537, 8)\n",
      "Test set shape: (231, 8)\n"
     ]
    }
   ],
   "source": [
    "# Split into features (X) and target (y)\n",
    "X = df.drop('Outcome', axis=1)\n",
    "y = df['Outcome']\n",
    "\n",
    "# Split data into training and test sets (70% train, 30% test)\n",
    "X_train, X_test, y_train, y_test = train_test_split(X, y, test_size=0.3, random_state=42)\n",
    "\n",
    "# Optional: Scale the data for better model performance\n",
    "scaler = StandardScaler()\n",
    "X_train = scaler.fit_transform(X_train)\n",
    "X_test = scaler.transform(X_test)\n",
    "\n",
    "# Check the shape of the data\n",
    "print(f'Training set shape: {X_train.shape}')\n",
    "print(f'Test set shape: {X_test.shape}')"
   ]
  },
  {
   "cell_type": "code",
   "execution_count": 12,
   "id": "835d028d",
   "metadata": {},
   "outputs": [],
   "source": [
    "from sklearn.ensemble import RandomForestClassifier\n",
    "from sklearn.model_selection import cross_val_score\n",
    "\n",
    "# define objective function\n",
    "def objective(trial:optuna.trial):\n",
    "    # suggest values for hyper-parameter tuning\n",
    "    n_estimators = trial.suggest_int('n_estimators',50,200)\n",
    "    max_depth = trial.suggest_int('max_depth',3,20)\n",
    "\n",
    "    # create the random forest classifier with suggested hyperparams\n",
    "    model = RandomForestClassifier(\n",
    "        n_estimators=n_estimators,\n",
    "        max_depth=max_depth,\n",
    "        random_state=14\n",
    "    )\n",
    "\n",
    "    # perform 3-fold cross validation and calculate accuracy\n",
    "    score = cross_val_score(model,X_train,y_train,cv = 3, scoring='accuracy').mean()\n",
    "    return score"
   ]
  },
  {
   "cell_type": "code",
   "execution_count": 13,
   "id": "6020d9e9",
   "metadata": {},
   "outputs": [
    {
     "name": "stderr",
     "output_type": "stream",
     "text": [
      "[I 2025-05-28 20:36:21,262] A new study created in memory with name: no-name-c9a4642d-832b-4117-ad09-9fadaa997b3b\n",
      "[I 2025-05-28 20:36:21,832] Trial 0 finished with value: 0.750465549348231 and parameters: {'n_estimators': 148, 'max_depth': 19}. Best is trial 0 with value: 0.750465549348231.\n",
      "[I 2025-05-28 20:36:22,120] Trial 1 finished with value: 0.7597765363128491 and parameters: {'n_estimators': 78, 'max_depth': 8}. Best is trial 1 with value: 0.7597765363128491.\n",
      "[I 2025-05-28 20:36:22,333] Trial 2 finished with value: 0.7709497206703911 and parameters: {'n_estimators': 57, 'max_depth': 9}. Best is trial 2 with value: 0.7709497206703911.\n",
      "[I 2025-05-28 20:36:22,604] Trial 3 finished with value: 0.7579143389199255 and parameters: {'n_estimators': 74, 'max_depth': 10}. Best is trial 2 with value: 0.7709497206703911.\n",
      "[I 2025-05-28 20:36:22,833] Trial 4 finished with value: 0.7579143389199254 and parameters: {'n_estimators': 65, 'max_depth': 18}. Best is trial 2 with value: 0.7709497206703911.\n",
      "[I 2025-05-28 20:36:23,128] Trial 5 finished with value: 0.7523277467411545 and parameters: {'n_estimators': 88, 'max_depth': 18}. Best is trial 2 with value: 0.7709497206703911.\n",
      "[I 2025-05-28 20:36:23,565] Trial 6 finished with value: 0.7597765363128491 and parameters: {'n_estimators': 144, 'max_depth': 5}. Best is trial 2 with value: 0.7709497206703911.\n",
      "[I 2025-05-28 20:36:23,942] Trial 7 finished with value: 0.7523277467411545 and parameters: {'n_estimators': 115, 'max_depth': 15}. Best is trial 2 with value: 0.7709497206703911.\n",
      "[I 2025-05-28 20:36:24,413] Trial 8 finished with value: 0.7635009310986964 and parameters: {'n_estimators': 145, 'max_depth': 7}. Best is trial 2 with value: 0.7709497206703911.\n",
      "[I 2025-05-28 20:36:24,585] Trial 9 finished with value: 0.7653631284916201 and parameters: {'n_estimators': 51, 'max_depth': 5}. Best is trial 2 with value: 0.7709497206703911.\n",
      "[I 2025-05-28 20:36:25,254] Trial 10 finished with value: 0.7597765363128491 and parameters: {'n_estimators': 200, 'max_depth': 13}. Best is trial 2 with value: 0.7709497206703911.\n",
      "[I 2025-05-28 20:36:25,434] Trial 11 finished with value: 0.7560521415270017 and parameters: {'n_estimators': 51, 'max_depth': 3}. Best is trial 2 with value: 0.7709497206703911.\n",
      "[I 2025-05-28 20:36:25,814] Trial 12 finished with value: 0.7635009310986964 and parameters: {'n_estimators': 107, 'max_depth': 10}. Best is trial 2 with value: 0.7709497206703911.\n",
      "[I 2025-05-28 20:36:25,997] Trial 13 finished with value: 0.7597765363128491 and parameters: {'n_estimators': 53, 'max_depth': 3}. Best is trial 2 with value: 0.7709497206703911.\n",
      "[I 2025-05-28 20:36:26,339] Trial 14 finished with value: 0.7616387337057727 and parameters: {'n_estimators': 97, 'max_depth': 7}. Best is trial 2 with value: 0.7709497206703911.\n",
      "[I 2025-05-28 20:36:27,024] Trial 15 finished with value: 0.756052141527002 and parameters: {'n_estimators': 190, 'max_depth': 13}. Best is trial 2 with value: 0.7709497206703911.\n",
      "[I 2025-05-28 20:36:27,257] Trial 16 finished with value: 0.7597765363128491 and parameters: {'n_estimators': 63, 'max_depth': 5}. Best is trial 2 with value: 0.7709497206703911.\n",
      "[I 2025-05-28 20:36:27,726] Trial 17 finished with value: 0.7653631284916201 and parameters: {'n_estimators': 129, 'max_depth': 9}. Best is trial 2 with value: 0.7709497206703911.\n",
      "[I 2025-05-28 20:36:28,294] Trial 18 finished with value: 0.7579143389199254 and parameters: {'n_estimators': 170, 'max_depth': 5}. Best is trial 2 with value: 0.7709497206703911.\n",
      "[I 2025-05-28 20:36:28,620] Trial 19 finished with value: 0.7597765363128491 and parameters: {'n_estimators': 89, 'max_depth': 12}. Best is trial 2 with value: 0.7709497206703911.\n",
      "[I 2025-05-28 20:36:28,873] Trial 20 finished with value: 0.7560521415270017 and parameters: {'n_estimators': 70, 'max_depth': 15}. Best is trial 2 with value: 0.7709497206703911.\n",
      "[I 2025-05-28 20:36:29,289] Trial 21 finished with value: 0.7690875232774674 and parameters: {'n_estimators': 123, 'max_depth': 9}. Best is trial 2 with value: 0.7709497206703911.\n",
      "[I 2025-05-28 20:36:29,463] Trial 22 finished with value: 0.7616387337057727 and parameters: {'n_estimators': 50, 'max_depth': 7}. Best is trial 2 with value: 0.7709497206703911.\n",
      "[I 2025-05-28 20:36:29,943] Trial 23 finished with value: 0.7616387337057727 and parameters: {'n_estimators': 127, 'max_depth': 10}. Best is trial 2 with value: 0.7709497206703911.\n",
      "[I 2025-05-28 20:36:30,527] Trial 24 finished with value: 0.7653631284916201 and parameters: {'n_estimators': 166, 'max_depth': 6}. Best is trial 2 with value: 0.7709497206703911.\n",
      "[I 2025-05-28 20:36:30,889] Trial 25 finished with value: 0.7616387337057727 and parameters: {'n_estimators': 104, 'max_depth': 9}. Best is trial 2 with value: 0.7709497206703911.\n",
      "[I 2025-05-28 20:36:31,207] Trial 26 finished with value: 0.7579143389199254 and parameters: {'n_estimators': 85, 'max_depth': 11}. Best is trial 2 with value: 0.7709497206703911.\n",
      "[I 2025-05-28 20:36:31,419] Trial 27 finished with value: 0.7690875232774674 and parameters: {'n_estimators': 63, 'max_depth': 4}. Best is trial 2 with value: 0.7709497206703911.\n",
      "[I 2025-05-28 20:36:31,771] Trial 28 finished with value: 0.7541899441340782 and parameters: {'n_estimators': 115, 'max_depth': 3}. Best is trial 2 with value: 0.7709497206703911.\n",
      "[I 2025-05-28 20:36:32,284] Trial 29 finished with value: 0.7411545623836128 and parameters: {'n_estimators': 158, 'max_depth': 14}. Best is trial 2 with value: 0.7709497206703911.\n",
      "[I 2025-05-28 20:36:32,501] Trial 30 finished with value: 0.7486033519553073 and parameters: {'n_estimators': 63, 'max_depth': 11}. Best is trial 2 with value: 0.7709497206703911.\n",
      "[I 2025-05-28 20:36:32,690] Trial 31 finished with value: 0.7690875232774674 and parameters: {'n_estimators': 60, 'max_depth': 4}. Best is trial 2 with value: 0.7709497206703911.\n",
      "[I 2025-05-28 20:36:32,938] Trial 32 finished with value: 0.7690875232774674 and parameters: {'n_estimators': 78, 'max_depth': 4}. Best is trial 2 with value: 0.7709497206703911.\n",
      "[I 2025-05-28 20:36:33,239] Trial 33 finished with value: 0.7579143389199255 and parameters: {'n_estimators': 77, 'max_depth': 8}. Best is trial 2 with value: 0.7709497206703911.\n",
      "[I 2025-05-28 20:36:33,493] Trial 34 finished with value: 0.756052141527002 and parameters: {'n_estimators': 63, 'max_depth': 8}. Best is trial 2 with value: 0.7709497206703911.\n",
      "[I 2025-05-28 20:36:33,880] Trial 35 finished with value: 0.7635009310986964 and parameters: {'n_estimators': 94, 'max_depth': 6}. Best is trial 2 with value: 0.7709497206703911.\n",
      "[I 2025-05-28 20:36:34,164] Trial 36 finished with value: 0.7597765363128492 and parameters: {'n_estimators': 70, 'max_depth': 20}. Best is trial 2 with value: 0.7709497206703911.\n",
      "[I 2025-05-28 20:36:34,378] Trial 37 finished with value: 0.7709497206703911 and parameters: {'n_estimators': 59, 'max_depth': 4}. Best is trial 2 with value: 0.7709497206703911.\n",
      "[I 2025-05-28 20:36:34,688] Trial 38 finished with value: 0.7597765363128492 and parameters: {'n_estimators': 82, 'max_depth': 8}. Best is trial 2 with value: 0.7709497206703911.\n",
      "[I 2025-05-28 20:36:35,173] Trial 39 finished with value: 0.7579143389199254 and parameters: {'n_estimators': 133, 'max_depth': 17}. Best is trial 2 with value: 0.7709497206703911.\n",
      "[I 2025-05-28 20:36:35,681] Trial 40 finished with value: 0.7690875232774674 and parameters: {'n_estimators': 137, 'max_depth': 6}. Best is trial 2 with value: 0.7709497206703911.\n",
      "[I 2025-05-28 20:36:35,889] Trial 41 finished with value: 0.7728119180633147 and parameters: {'n_estimators': 58, 'max_depth': 4}. Best is trial 41 with value: 0.7728119180633147.\n",
      "[I 2025-05-28 20:36:36,159] Trial 42 finished with value: 0.7653631284916201 and parameters: {'n_estimators': 72, 'max_depth': 5}. Best is trial 41 with value: 0.7728119180633147.\n",
      "[I 2025-05-28 20:36:36,372] Trial 43 finished with value: 0.7728119180633147 and parameters: {'n_estimators': 58, 'max_depth': 4}. Best is trial 41 with value: 0.7728119180633147.\n",
      "[I 2025-05-28 20:36:36,789] Trial 44 finished with value: 0.7672253258845437 and parameters: {'n_estimators': 119, 'max_depth': 4}. Best is trial 41 with value: 0.7728119180633147.\n",
      "[I 2025-05-28 20:36:37,015] Trial 45 finished with value: 0.7709497206703911 and parameters: {'n_estimators': 57, 'max_depth': 9}. Best is trial 41 with value: 0.7728119180633147.\n",
      "[I 2025-05-28 20:36:37,225] Trial 46 finished with value: 0.756052141527002 and parameters: {'n_estimators': 56, 'max_depth': 3}. Best is trial 41 with value: 0.7728119180633147.\n",
      "[I 2025-05-28 20:36:37,440] Trial 47 finished with value: 0.7635009310986964 and parameters: {'n_estimators': 57, 'max_depth': 7}. Best is trial 41 with value: 0.7728119180633147.\n",
      "[I 2025-05-28 20:36:37,717] Trial 48 finished with value: 0.7541899441340782 and parameters: {'n_estimators': 70, 'max_depth': 6}. Best is trial 41 with value: 0.7728119180633147.\n",
      "[I 2025-05-28 20:36:37,929] Trial 49 finished with value: 0.7467411545623835 and parameters: {'n_estimators': 56, 'max_depth': 10}. Best is trial 41 with value: 0.7728119180633147.\n"
     ]
    }
   ],
   "source": [
    "# create a study object and optimize the objective function\n",
    "study = optuna.create_study(direction='maximize', sampler = optuna.samplers.TPESampler())\n",
    "# aim to maximize accuracy\n",
    "study.optimize(objective,n_trials=50) # runs 50 trials to find the best hyperparameters"
   ]
  },
  {
   "cell_type": "code",
   "execution_count": null,
   "id": "af857a95",
   "metadata": {},
   "outputs": [],
   "source": [
    "print(f'Best trial accuracy: {study.best_trial.value}')\n",
    "print(f'Best hyperparams: {study.best_trial.params}')"
   ]
  },
  {
   "cell_type": "code",
   "execution_count": null,
   "id": "9dd01493",
   "metadata": {},
   "outputs": [],
   "source": [
    "from sklearn.metrics import accuracy_score\n",
    "\n",
    "# Train a RandomForestClassifier using the best hyperparameters from Optuna\n",
    "best_model = RandomForestClassifier(**study.best_trial.params, random_state=42)\n",
    "\n",
    "# Fit the model to the training data\n",
    "best_model.fit(X_train, y_train)\n",
    "\n",
    "# Make predictions on the test set\n",
    "y_pred = best_model.predict(X_test)\n",
    "\n",
    "# Calculate the accuracy on the test set\n",
    "test_accuracy = accuracy_score(y_test, y_pred)\n",
    "\n",
    "# Print the test accuracy\n",
    "print(f'Test Accuracy with best hyperparameters: {test_accuracy:.2f}')\n"
   ]
  },
  {
   "cell_type": "markdown",
   "id": "27cb2dc2",
   "metadata": {},
   "source": [
    "`Other Samplers in Optuna`\n",
    "* Random Search\n",
    "* Grid Search\n",
    "* ...."
   ]
  },
  {
   "cell_type": "code",
   "execution_count": null,
   "id": "409fb761",
   "metadata": {},
   "outputs": [],
   "source": [
    "# create a study using Random Search\n",
    "study = optuna.create_study(direction='maximize', sampler = optuna.samplers.RandomSampler())\n",
    "# aim to maximize accuracy\n",
    "study.optimize(objective,n_trials=50) # runs 50 trials to find the best hyperparameters"
   ]
  },
  {
   "cell_type": "code",
   "execution_count": null,
   "id": "56965bb4",
   "metadata": {},
   "outputs": [],
   "source": [
    "print(f'Best trial accuracy: {study.best_trial.value}')\n",
    "print(f'Best hyperparams: {study.best_trial.params}')"
   ]
  },
  {
   "cell_type": "code",
   "execution_count": null,
   "id": "4f626326",
   "metadata": {},
   "outputs": [],
   "source": [
    "# grid search\n",
    "search_space = {\n",
    "    'n_estimators': [50,100,150,200],\n",
    "    'max_depth': [5,10,15,20]\n",
    "}\n",
    "\n",
    "\n",
    "# create a study using Random Search\n",
    "study = optuna.create_study(direction='maximize', sampler = optuna.samplers.GridSampler(search_space))\n",
    "# aim to maximize accuracy\n",
    "study.optimize(objective)"
   ]
  },
  {
   "cell_type": "code",
   "execution_count": null,
   "id": "ce89cd31",
   "metadata": {},
   "outputs": [],
   "source": [
    "print(f'Best trial accuracy: {study.best_trial.value}')\n",
    "print(f'Best hyperparams: {study.best_trial.params}')"
   ]
  },
  {
   "cell_type": "markdown",
   "id": "84cf832b",
   "metadata": {},
   "source": [
    "**20.01. Optuna Visualizations**"
   ]
  },
  {
   "cell_type": "code",
   "execution_count": 5,
   "id": "81180b9c",
   "metadata": {},
   "outputs": [],
   "source": [
    "from optuna.visualization import plot_optimization_history,plot_parallel_coordinate,plot_slice,plot_contour,plot_param_importances"
   ]
  },
  {
   "cell_type": "code",
   "execution_count": 6,
   "id": "52780c80",
   "metadata": {},
   "outputs": [
    {
     "name": "stderr",
     "output_type": "stream",
     "text": [
      "[I 2025-05-28 15:34:56,777] A new study created in memory with name: no-name-db1eba07-72ba-4991-89e6-6f96574973b7\n",
      "[I 2025-05-28 15:34:57,448] Trial 0 finished with value: 0.7541899441340782 and parameters: {'n_estimators': 195, 'max_depth': 13}. Best is trial 0 with value: 0.7541899441340782.\n",
      "[I 2025-05-28 15:34:57,669] Trial 1 finished with value: 0.7579143389199255 and parameters: {'n_estimators': 65, 'max_depth': 20}. Best is trial 1 with value: 0.7579143389199255.\n",
      "[I 2025-05-28 15:34:58,301] Trial 2 finished with value: 0.7411545623836125 and parameters: {'n_estimators': 196, 'max_depth': 15}. Best is trial 1 with value: 0.7579143389199255.\n",
      "[I 2025-05-28 15:34:58,633] Trial 3 finished with value: 0.7672253258845437 and parameters: {'n_estimators': 92, 'max_depth': 9}. Best is trial 3 with value: 0.7672253258845437.\n",
      "[I 2025-05-28 15:34:59,256] Trial 4 finished with value: 0.7616387337057727 and parameters: {'n_estimators': 170, 'max_depth': 20}. Best is trial 3 with value: 0.7672253258845437.\n",
      "[I 2025-05-28 15:34:59,782] Trial 5 finished with value: 0.7541899441340782 and parameters: {'n_estimators': 136, 'max_depth': 12}. Best is trial 3 with value: 0.7672253258845437.\n",
      "[I 2025-05-28 15:35:00,155] Trial 6 finished with value: 0.7597765363128492 and parameters: {'n_estimators': 113, 'max_depth': 8}. Best is trial 3 with value: 0.7672253258845437.\n",
      "[I 2025-05-28 15:35:00,802] Trial 7 finished with value: 0.756052141527002 and parameters: {'n_estimators': 174, 'max_depth': 18}. Best is trial 3 with value: 0.7672253258845437.\n",
      "[I 2025-05-28 15:35:01,150] Trial 8 finished with value: 0.756052141527002 and parameters: {'n_estimators': 93, 'max_depth': 20}. Best is trial 3 with value: 0.7672253258845437.\n",
      "[I 2025-05-28 15:35:01,376] Trial 9 finished with value: 0.756052141527002 and parameters: {'n_estimators': 66, 'max_depth': 13}. Best is trial 3 with value: 0.7672253258845437.\n",
      "[I 2025-05-28 15:35:01,746] Trial 10 finished with value: 0.7616387337057727 and parameters: {'n_estimators': 96, 'max_depth': 5}. Best is trial 3 with value: 0.7672253258845437.\n",
      "[I 2025-05-28 15:35:02,278] Trial 11 finished with value: 0.7616387337057727 and parameters: {'n_estimators': 150, 'max_depth': 8}. Best is trial 3 with value: 0.7672253258845437.\n",
      "[I 2025-05-28 15:35:02,795] Trial 12 finished with value: 0.7616387337057727 and parameters: {'n_estimators': 158, 'max_depth': 8}. Best is trial 3 with value: 0.7672253258845437.\n",
      "[I 2025-05-28 15:35:03,195] Trial 13 finished with value: 0.7541899441340782 and parameters: {'n_estimators': 120, 'max_depth': 3}. Best is trial 3 with value: 0.7672253258845437.\n",
      "[I 2025-05-28 15:35:03,591] Trial 14 finished with value: 0.7523277467411545 and parameters: {'n_estimators': 89, 'max_depth': 17}. Best is trial 3 with value: 0.7672253258845437.\n",
      "[I 2025-05-28 15:35:04,186] Trial 15 finished with value: 0.7541899441340782 and parameters: {'n_estimators': 170, 'max_depth': 10}. Best is trial 3 with value: 0.7672253258845437.\n",
      "[I 2025-05-28 15:35:04,367] Trial 16 finished with value: 0.7467411545623835 and parameters: {'n_estimators': 51, 'max_depth': 10}. Best is trial 3 with value: 0.7672253258845437.\n",
      "[I 2025-05-28 15:35:04,807] Trial 17 finished with value: 0.7523277467411545 and parameters: {'n_estimators': 134, 'max_depth': 15}. Best is trial 3 with value: 0.7672253258845437.\n",
      "[I 2025-05-28 15:35:05,145] Trial 18 finished with value: 0.7635009310986964 and parameters: {'n_estimators': 103, 'max_depth': 5}. Best is trial 3 with value: 0.7672253258845437.\n",
      "[I 2025-05-28 15:35:05,487] Trial 19 finished with value: 0.7653631284916201 and parameters: {'n_estimators': 106, 'max_depth': 5}. Best is trial 3 with value: 0.7672253258845437.\n",
      "[I 2025-05-28 15:35:05,764] Trial 20 finished with value: 0.7523277467411545 and parameters: {'n_estimators': 79, 'max_depth': 6}. Best is trial 3 with value: 0.7672253258845437.\n",
      "[I 2025-05-28 15:35:06,082] Trial 21 finished with value: 0.7579143389199254 and parameters: {'n_estimators': 107, 'max_depth': 3}. Best is trial 3 with value: 0.7672253258845437.\n",
      "[I 2025-05-28 15:35:06,422] Trial 22 finished with value: 0.7653631284916201 and parameters: {'n_estimators': 106, 'max_depth': 5}. Best is trial 3 with value: 0.7672253258845437.\n",
      "[I 2025-05-28 15:35:06,707] Trial 23 finished with value: 0.7523277467411545 and parameters: {'n_estimators': 79, 'max_depth': 6}. Best is trial 3 with value: 0.7672253258845437.\n",
      "[I 2025-05-28 15:35:07,133] Trial 24 finished with value: 0.7635009310986964 and parameters: {'n_estimators': 128, 'max_depth': 7}. Best is trial 3 with value: 0.7672253258845437.\n",
      "[I 2025-05-28 15:35:07,545] Trial 25 finished with value: 0.7579143389199254 and parameters: {'n_estimators': 118, 'max_depth': 10}. Best is trial 3 with value: 0.7672253258845437.\n",
      "[I 2025-05-28 15:35:07,816] Trial 26 finished with value: 0.7597765363128491 and parameters: {'n_estimators': 81, 'max_depth': 4}. Best is trial 3 with value: 0.7672253258845437.\n",
      "[I 2025-05-28 15:35:08,188] Trial 27 finished with value: 0.7597765363128491 and parameters: {'n_estimators': 102, 'max_depth': 9}. Best is trial 3 with value: 0.7672253258845437.\n",
      "[I 2025-05-28 15:35:08,651] Trial 28 finished with value: 0.7709497206703911 and parameters: {'n_estimators': 142, 'max_depth': 6}. Best is trial 28 with value: 0.7709497206703911.\n",
      "[I 2025-05-28 15:35:09,139] Trial 29 finished with value: 0.7635009310986964 and parameters: {'n_estimators': 145, 'max_depth': 7}. Best is trial 28 with value: 0.7709497206703911.\n",
      "[I 2025-05-28 15:35:09,587] Trial 30 finished with value: 0.7616387337057727 and parameters: {'n_estimators': 126, 'max_depth': 12}. Best is trial 28 with value: 0.7709497206703911.\n",
      "[I 2025-05-28 15:35:10,028] Trial 31 finished with value: 0.7616387337057727 and parameters: {'n_estimators': 139, 'max_depth': 5}. Best is trial 28 with value: 0.7709497206703911.\n",
      "[I 2025-05-28 15:35:10,373] Trial 32 finished with value: 0.7690875232774674 and parameters: {'n_estimators': 111, 'max_depth': 4}. Best is trial 28 with value: 0.7709497206703911.\n",
      "[I 2025-05-28 15:35:10,721] Trial 33 finished with value: 0.7653631284916201 and parameters: {'n_estimators': 113, 'max_depth': 4}. Best is trial 28 with value: 0.7709497206703911.\n",
      "[I 2025-05-28 15:35:11,219] Trial 34 finished with value: 0.7653631284916201 and parameters: {'n_estimators': 157, 'max_depth': 6}. Best is trial 28 with value: 0.7709497206703911.\n",
      "[I 2025-05-28 15:35:11,445] Trial 35 finished with value: 0.7579143389199255 and parameters: {'n_estimators': 67, 'max_depth': 7}. Best is trial 28 with value: 0.7709497206703911.\n",
      "[I 2025-05-28 15:35:12,000] Trial 36 finished with value: 0.7616387337057727 and parameters: {'n_estimators': 183, 'max_depth': 4}. Best is trial 28 with value: 0.7709497206703911.\n",
      "[I 2025-05-28 15:35:12,300] Trial 37 finished with value: 0.7746741154562384 and parameters: {'n_estimators': 89, 'max_depth': 9}. Best is trial 37 with value: 0.7746741154562384.\n",
      "[I 2025-05-28 15:35:12,600] Trial 38 finished with value: 0.7579143389199254 and parameters: {'n_estimators': 86, 'max_depth': 11}. Best is trial 37 with value: 0.7746741154562384.\n",
      "[I 2025-05-28 15:35:12,807] Trial 39 finished with value: 0.7653631284916201 and parameters: {'n_estimators': 58, 'max_depth': 9}. Best is trial 37 with value: 0.7746741154562384.\n",
      "[I 2025-05-28 15:35:13,054] Trial 40 finished with value: 0.7728119180633147 and parameters: {'n_estimators': 72, 'max_depth': 9}. Best is trial 37 with value: 0.7746741154562384.\n",
      "[I 2025-05-28 15:35:13,305] Trial 41 finished with value: 0.7728119180633147 and parameters: {'n_estimators': 73, 'max_depth': 9}. Best is trial 37 with value: 0.7746741154562384.\n",
      "[I 2025-05-28 15:35:13,558] Trial 42 finished with value: 0.7541899441340782 and parameters: {'n_estimators': 72, 'max_depth': 11}. Best is trial 37 with value: 0.7746741154562384.\n",
      "[I 2025-05-28 15:35:13,815] Trial 43 finished with value: 0.7541899441340782 and parameters: {'n_estimators': 73, 'max_depth': 13}. Best is trial 37 with value: 0.7746741154562384.\n",
      "[I 2025-05-28 15:35:14,025] Trial 44 finished with value: 0.7579143389199255 and parameters: {'n_estimators': 60, 'max_depth': 8}. Best is trial 37 with value: 0.7746741154562384.\n",
      "[I 2025-05-28 15:35:14,344] Trial 45 finished with value: 0.7653631284916201 and parameters: {'n_estimators': 94, 'max_depth': 9}. Best is trial 37 with value: 0.7746741154562384.\n",
      "[I 2025-05-28 15:35:14,630] Trial 46 finished with value: 0.7635009310986964 and parameters: {'n_estimators': 85, 'max_depth': 7}. Best is trial 37 with value: 0.7746741154562384.\n",
      "[I 2025-05-28 15:35:14,894] Trial 47 finished with value: 0.7579143389199255 and parameters: {'n_estimators': 73, 'max_depth': 14}. Best is trial 37 with value: 0.7746741154562384.\n",
      "[I 2025-05-28 15:35:15,220] Trial 48 finished with value: 0.7653631284916201 and parameters: {'n_estimators': 97, 'max_depth': 8}. Best is trial 37 with value: 0.7746741154562384.\n",
      "[I 2025-05-28 15:35:15,408] Trial 49 finished with value: 0.7579143389199255 and parameters: {'n_estimators': 51, 'max_depth': 12}. Best is trial 37 with value: 0.7746741154562384.\n"
     ]
    }
   ],
   "source": [
    "# create a study object and optimize the objective function\n",
    "study = optuna.create_study(direction='maximize', sampler = optuna.samplers.TPESampler())\n",
    "# aim to maximize accuracy\n",
    "study.optimize(objective,n_trials=50) # runs 50 trials to find the best hyperparameters"
   ]
  },
  {
   "cell_type": "code",
   "execution_count": 7,
   "id": "fd8ae4aa",
   "metadata": {},
   "outputs": [
    {
     "data": {
      "application/vnd.plotly.v1+json": {
       "config": {
        "plotlyServerURL": "https://plot.ly"
       },
       "data": [
        {
         "mode": "markers",
         "name": "Objective Value",
         "type": "scatter",
         "x": [
          0,
          1,
          2,
          3,
          4,
          5,
          6,
          7,
          8,
          9,
          10,
          11,
          12,
          13,
          14,
          15,
          16,
          17,
          18,
          19,
          20,
          21,
          22,
          23,
          24,
          25,
          26,
          27,
          28,
          29,
          30,
          31,
          32,
          33,
          34,
          35,
          36,
          37,
          38,
          39,
          40,
          41,
          42,
          43,
          44,
          45,
          46,
          47,
          48,
          49
         ],
         "y": [
          0.7541899441340782,
          0.7579143389199255,
          0.7411545623836125,
          0.7672253258845437,
          0.7616387337057727,
          0.7541899441340782,
          0.7597765363128492,
          0.756052141527002,
          0.756052141527002,
          0.756052141527002,
          0.7616387337057727,
          0.7616387337057727,
          0.7616387337057727,
          0.7541899441340782,
          0.7523277467411545,
          0.7541899441340782,
          0.7467411545623835,
          0.7523277467411545,
          0.7635009310986964,
          0.7653631284916201,
          0.7523277467411545,
          0.7579143389199254,
          0.7653631284916201,
          0.7523277467411545,
          0.7635009310986964,
          0.7579143389199254,
          0.7597765363128491,
          0.7597765363128491,
          0.7709497206703911,
          0.7635009310986964,
          0.7616387337057727,
          0.7616387337057727,
          0.7690875232774674,
          0.7653631284916201,
          0.7653631284916201,
          0.7579143389199255,
          0.7616387337057727,
          0.7746741154562384,
          0.7579143389199254,
          0.7653631284916201,
          0.7728119180633147,
          0.7728119180633147,
          0.7541899441340782,
          0.7541899441340782,
          0.7579143389199255,
          0.7653631284916201,
          0.7635009310986964,
          0.7579143389199255,
          0.7653631284916201,
          0.7579143389199255
         ]
        },
        {
         "mode": "lines",
         "name": "Best Value",
         "type": "scatter",
         "x": [
          0,
          1,
          2,
          3,
          4,
          5,
          6,
          7,
          8,
          9,
          10,
          11,
          12,
          13,
          14,
          15,
          16,
          17,
          18,
          19,
          20,
          21,
          22,
          23,
          24,
          25,
          26,
          27,
          28,
          29,
          30,
          31,
          32,
          33,
          34,
          35,
          36,
          37,
          38,
          39,
          40,
          41,
          42,
          43,
          44,
          45,
          46,
          47,
          48,
          49
         ],
         "y": [
          0.7541899441340782,
          0.7579143389199255,
          0.7579143389199255,
          0.7672253258845437,
          0.7672253258845437,
          0.7672253258845437,
          0.7672253258845437,
          0.7672253258845437,
          0.7672253258845437,
          0.7672253258845437,
          0.7672253258845437,
          0.7672253258845437,
          0.7672253258845437,
          0.7672253258845437,
          0.7672253258845437,
          0.7672253258845437,
          0.7672253258845437,
          0.7672253258845437,
          0.7672253258845437,
          0.7672253258845437,
          0.7672253258845437,
          0.7672253258845437,
          0.7672253258845437,
          0.7672253258845437,
          0.7672253258845437,
          0.7672253258845437,
          0.7672253258845437,
          0.7672253258845437,
          0.7709497206703911,
          0.7709497206703911,
          0.7709497206703911,
          0.7709497206703911,
          0.7709497206703911,
          0.7709497206703911,
          0.7709497206703911,
          0.7709497206703911,
          0.7709497206703911,
          0.7746741154562384,
          0.7746741154562384,
          0.7746741154562384,
          0.7746741154562384,
          0.7746741154562384,
          0.7746741154562384,
          0.7746741154562384,
          0.7746741154562384,
          0.7746741154562384,
          0.7746741154562384,
          0.7746741154562384,
          0.7746741154562384,
          0.7746741154562384
         ]
        },
        {
         "marker": {
          "color": "#cccccc"
         },
         "mode": "markers",
         "name": "Infeasible Trial",
         "showlegend": false,
         "type": "scatter",
         "x": [],
         "y": []
        }
       ],
       "layout": {
        "template": {
         "data": {
          "bar": [
           {
            "error_x": {
             "color": "#2a3f5f"
            },
            "error_y": {
             "color": "#2a3f5f"
            },
            "marker": {
             "line": {
              "color": "#E5ECF6",
              "width": 0.5
             },
             "pattern": {
              "fillmode": "overlay",
              "size": 10,
              "solidity": 0.2
             }
            },
            "type": "bar"
           }
          ],
          "barpolar": [
           {
            "marker": {
             "line": {
              "color": "#E5ECF6",
              "width": 0.5
             },
             "pattern": {
              "fillmode": "overlay",
              "size": 10,
              "solidity": 0.2
             }
            },
            "type": "barpolar"
           }
          ],
          "carpet": [
           {
            "aaxis": {
             "endlinecolor": "#2a3f5f",
             "gridcolor": "white",
             "linecolor": "white",
             "minorgridcolor": "white",
             "startlinecolor": "#2a3f5f"
            },
            "baxis": {
             "endlinecolor": "#2a3f5f",
             "gridcolor": "white",
             "linecolor": "white",
             "minorgridcolor": "white",
             "startlinecolor": "#2a3f5f"
            },
            "type": "carpet"
           }
          ],
          "choropleth": [
           {
            "colorbar": {
             "outlinewidth": 0,
             "ticks": ""
            },
            "type": "choropleth"
           }
          ],
          "contour": [
           {
            "colorbar": {
             "outlinewidth": 0,
             "ticks": ""
            },
            "colorscale": [
             [
              0,
              "#0d0887"
             ],
             [
              0.1111111111111111,
              "#46039f"
             ],
             [
              0.2222222222222222,
              "#7201a8"
             ],
             [
              0.3333333333333333,
              "#9c179e"
             ],
             [
              0.4444444444444444,
              "#bd3786"
             ],
             [
              0.5555555555555556,
              "#d8576b"
             ],
             [
              0.6666666666666666,
              "#ed7953"
             ],
             [
              0.7777777777777778,
              "#fb9f3a"
             ],
             [
              0.8888888888888888,
              "#fdca26"
             ],
             [
              1,
              "#f0f921"
             ]
            ],
            "type": "contour"
           }
          ],
          "contourcarpet": [
           {
            "colorbar": {
             "outlinewidth": 0,
             "ticks": ""
            },
            "type": "contourcarpet"
           }
          ],
          "heatmap": [
           {
            "colorbar": {
             "outlinewidth": 0,
             "ticks": ""
            },
            "colorscale": [
             [
              0,
              "#0d0887"
             ],
             [
              0.1111111111111111,
              "#46039f"
             ],
             [
              0.2222222222222222,
              "#7201a8"
             ],
             [
              0.3333333333333333,
              "#9c179e"
             ],
             [
              0.4444444444444444,
              "#bd3786"
             ],
             [
              0.5555555555555556,
              "#d8576b"
             ],
             [
              0.6666666666666666,
              "#ed7953"
             ],
             [
              0.7777777777777778,
              "#fb9f3a"
             ],
             [
              0.8888888888888888,
              "#fdca26"
             ],
             [
              1,
              "#f0f921"
             ]
            ],
            "type": "heatmap"
           }
          ],
          "histogram": [
           {
            "marker": {
             "pattern": {
              "fillmode": "overlay",
              "size": 10,
              "solidity": 0.2
             }
            },
            "type": "histogram"
           }
          ],
          "histogram2d": [
           {
            "colorbar": {
             "outlinewidth": 0,
             "ticks": ""
            },
            "colorscale": [
             [
              0,
              "#0d0887"
             ],
             [
              0.1111111111111111,
              "#46039f"
             ],
             [
              0.2222222222222222,
              "#7201a8"
             ],
             [
              0.3333333333333333,
              "#9c179e"
             ],
             [
              0.4444444444444444,
              "#bd3786"
             ],
             [
              0.5555555555555556,
              "#d8576b"
             ],
             [
              0.6666666666666666,
              "#ed7953"
             ],
             [
              0.7777777777777778,
              "#fb9f3a"
             ],
             [
              0.8888888888888888,
              "#fdca26"
             ],
             [
              1,
              "#f0f921"
             ]
            ],
            "type": "histogram2d"
           }
          ],
          "histogram2dcontour": [
           {
            "colorbar": {
             "outlinewidth": 0,
             "ticks": ""
            },
            "colorscale": [
             [
              0,
              "#0d0887"
             ],
             [
              0.1111111111111111,
              "#46039f"
             ],
             [
              0.2222222222222222,
              "#7201a8"
             ],
             [
              0.3333333333333333,
              "#9c179e"
             ],
             [
              0.4444444444444444,
              "#bd3786"
             ],
             [
              0.5555555555555556,
              "#d8576b"
             ],
             [
              0.6666666666666666,
              "#ed7953"
             ],
             [
              0.7777777777777778,
              "#fb9f3a"
             ],
             [
              0.8888888888888888,
              "#fdca26"
             ],
             [
              1,
              "#f0f921"
             ]
            ],
            "type": "histogram2dcontour"
           }
          ],
          "mesh3d": [
           {
            "colorbar": {
             "outlinewidth": 0,
             "ticks": ""
            },
            "type": "mesh3d"
           }
          ],
          "parcoords": [
           {
            "line": {
             "colorbar": {
              "outlinewidth": 0,
              "ticks": ""
             }
            },
            "type": "parcoords"
           }
          ],
          "pie": [
           {
            "automargin": true,
            "type": "pie"
           }
          ],
          "scatter": [
           {
            "fillpattern": {
             "fillmode": "overlay",
             "size": 10,
             "solidity": 0.2
            },
            "type": "scatter"
           }
          ],
          "scatter3d": [
           {
            "line": {
             "colorbar": {
              "outlinewidth": 0,
              "ticks": ""
             }
            },
            "marker": {
             "colorbar": {
              "outlinewidth": 0,
              "ticks": ""
             }
            },
            "type": "scatter3d"
           }
          ],
          "scattercarpet": [
           {
            "marker": {
             "colorbar": {
              "outlinewidth": 0,
              "ticks": ""
             }
            },
            "type": "scattercarpet"
           }
          ],
          "scattergeo": [
           {
            "marker": {
             "colorbar": {
              "outlinewidth": 0,
              "ticks": ""
             }
            },
            "type": "scattergeo"
           }
          ],
          "scattergl": [
           {
            "marker": {
             "colorbar": {
              "outlinewidth": 0,
              "ticks": ""
             }
            },
            "type": "scattergl"
           }
          ],
          "scattermap": [
           {
            "marker": {
             "colorbar": {
              "outlinewidth": 0,
              "ticks": ""
             }
            },
            "type": "scattermap"
           }
          ],
          "scattermapbox": [
           {
            "marker": {
             "colorbar": {
              "outlinewidth": 0,
              "ticks": ""
             }
            },
            "type": "scattermapbox"
           }
          ],
          "scatterpolar": [
           {
            "marker": {
             "colorbar": {
              "outlinewidth": 0,
              "ticks": ""
             }
            },
            "type": "scatterpolar"
           }
          ],
          "scatterpolargl": [
           {
            "marker": {
             "colorbar": {
              "outlinewidth": 0,
              "ticks": ""
             }
            },
            "type": "scatterpolargl"
           }
          ],
          "scatterternary": [
           {
            "marker": {
             "colorbar": {
              "outlinewidth": 0,
              "ticks": ""
             }
            },
            "type": "scatterternary"
           }
          ],
          "surface": [
           {
            "colorbar": {
             "outlinewidth": 0,
             "ticks": ""
            },
            "colorscale": [
             [
              0,
              "#0d0887"
             ],
             [
              0.1111111111111111,
              "#46039f"
             ],
             [
              0.2222222222222222,
              "#7201a8"
             ],
             [
              0.3333333333333333,
              "#9c179e"
             ],
             [
              0.4444444444444444,
              "#bd3786"
             ],
             [
              0.5555555555555556,
              "#d8576b"
             ],
             [
              0.6666666666666666,
              "#ed7953"
             ],
             [
              0.7777777777777778,
              "#fb9f3a"
             ],
             [
              0.8888888888888888,
              "#fdca26"
             ],
             [
              1,
              "#f0f921"
             ]
            ],
            "type": "surface"
           }
          ],
          "table": [
           {
            "cells": {
             "fill": {
              "color": "#EBF0F8"
             },
             "line": {
              "color": "white"
             }
            },
            "header": {
             "fill": {
              "color": "#C8D4E3"
             },
             "line": {
              "color": "white"
             }
            },
            "type": "table"
           }
          ]
         },
         "layout": {
          "annotationdefaults": {
           "arrowcolor": "#2a3f5f",
           "arrowhead": 0,
           "arrowwidth": 1
          },
          "autotypenumbers": "strict",
          "coloraxis": {
           "colorbar": {
            "outlinewidth": 0,
            "ticks": ""
           }
          },
          "colorscale": {
           "diverging": [
            [
             0,
             "#8e0152"
            ],
            [
             0.1,
             "#c51b7d"
            ],
            [
             0.2,
             "#de77ae"
            ],
            [
             0.3,
             "#f1b6da"
            ],
            [
             0.4,
             "#fde0ef"
            ],
            [
             0.5,
             "#f7f7f7"
            ],
            [
             0.6,
             "#e6f5d0"
            ],
            [
             0.7,
             "#b8e186"
            ],
            [
             0.8,
             "#7fbc41"
            ],
            [
             0.9,
             "#4d9221"
            ],
            [
             1,
             "#276419"
            ]
           ],
           "sequential": [
            [
             0,
             "#0d0887"
            ],
            [
             0.1111111111111111,
             "#46039f"
            ],
            [
             0.2222222222222222,
             "#7201a8"
            ],
            [
             0.3333333333333333,
             "#9c179e"
            ],
            [
             0.4444444444444444,
             "#bd3786"
            ],
            [
             0.5555555555555556,
             "#d8576b"
            ],
            [
             0.6666666666666666,
             "#ed7953"
            ],
            [
             0.7777777777777778,
             "#fb9f3a"
            ],
            [
             0.8888888888888888,
             "#fdca26"
            ],
            [
             1,
             "#f0f921"
            ]
           ],
           "sequentialminus": [
            [
             0,
             "#0d0887"
            ],
            [
             0.1111111111111111,
             "#46039f"
            ],
            [
             0.2222222222222222,
             "#7201a8"
            ],
            [
             0.3333333333333333,
             "#9c179e"
            ],
            [
             0.4444444444444444,
             "#bd3786"
            ],
            [
             0.5555555555555556,
             "#d8576b"
            ],
            [
             0.6666666666666666,
             "#ed7953"
            ],
            [
             0.7777777777777778,
             "#fb9f3a"
            ],
            [
             0.8888888888888888,
             "#fdca26"
            ],
            [
             1,
             "#f0f921"
            ]
           ]
          },
          "colorway": [
           "#636efa",
           "#EF553B",
           "#00cc96",
           "#ab63fa",
           "#FFA15A",
           "#19d3f3",
           "#FF6692",
           "#B6E880",
           "#FF97FF",
           "#FECB52"
          ],
          "font": {
           "color": "#2a3f5f"
          },
          "geo": {
           "bgcolor": "white",
           "lakecolor": "white",
           "landcolor": "#E5ECF6",
           "showlakes": true,
           "showland": true,
           "subunitcolor": "white"
          },
          "hoverlabel": {
           "align": "left"
          },
          "hovermode": "closest",
          "mapbox": {
           "style": "light"
          },
          "paper_bgcolor": "white",
          "plot_bgcolor": "#E5ECF6",
          "polar": {
           "angularaxis": {
            "gridcolor": "white",
            "linecolor": "white",
            "ticks": ""
           },
           "bgcolor": "#E5ECF6",
           "radialaxis": {
            "gridcolor": "white",
            "linecolor": "white",
            "ticks": ""
           }
          },
          "scene": {
           "xaxis": {
            "backgroundcolor": "#E5ECF6",
            "gridcolor": "white",
            "gridwidth": 2,
            "linecolor": "white",
            "showbackground": true,
            "ticks": "",
            "zerolinecolor": "white"
           },
           "yaxis": {
            "backgroundcolor": "#E5ECF6",
            "gridcolor": "white",
            "gridwidth": 2,
            "linecolor": "white",
            "showbackground": true,
            "ticks": "",
            "zerolinecolor": "white"
           },
           "zaxis": {
            "backgroundcolor": "#E5ECF6",
            "gridcolor": "white",
            "gridwidth": 2,
            "linecolor": "white",
            "showbackground": true,
            "ticks": "",
            "zerolinecolor": "white"
           }
          },
          "shapedefaults": {
           "line": {
            "color": "#2a3f5f"
           }
          },
          "ternary": {
           "aaxis": {
            "gridcolor": "white",
            "linecolor": "white",
            "ticks": ""
           },
           "baxis": {
            "gridcolor": "white",
            "linecolor": "white",
            "ticks": ""
           },
           "bgcolor": "#E5ECF6",
           "caxis": {
            "gridcolor": "white",
            "linecolor": "white",
            "ticks": ""
           }
          },
          "title": {
           "x": 0.05
          },
          "xaxis": {
           "automargin": true,
           "gridcolor": "white",
           "linecolor": "white",
           "ticks": "",
           "title": {
            "standoff": 15
           },
           "zerolinecolor": "white",
           "zerolinewidth": 2
          },
          "yaxis": {
           "automargin": true,
           "gridcolor": "white",
           "linecolor": "white",
           "ticks": "",
           "title": {
            "standoff": 15
           },
           "zerolinecolor": "white",
           "zerolinewidth": 2
          }
         }
        },
        "title": {
         "text": "Optimization History Plot"
        },
        "xaxis": {
         "title": {
          "text": "Trial"
         }
        },
        "yaxis": {
         "title": {
          "text": "Objective Value"
         }
        }
       }
      }
     },
     "metadata": {},
     "output_type": "display_data"
    }
   ],
   "source": [
    "# 1. Optimization history\n",
    "plot_optimization_history(study).show()"
   ]
  },
  {
   "cell_type": "code",
   "execution_count": 8,
   "id": "32d7b0f5",
   "metadata": {},
   "outputs": [
    {
     "data": {
      "application/vnd.plotly.v1+json": {
       "config": {
        "plotlyServerURL": "https://plot.ly"
       },
       "data": [
        {
         "dimensions": [
          {
           "label": "Objective Value",
           "range": [
            0.7411545623836125,
            0.7746741154562384
           ],
           "values": [
            0.7541899441340782,
            0.7579143389199255,
            0.7411545623836125,
            0.7672253258845437,
            0.7616387337057727,
            0.7541899441340782,
            0.7597765363128492,
            0.756052141527002,
            0.756052141527002,
            0.756052141527002,
            0.7616387337057727,
            0.7616387337057727,
            0.7616387337057727,
            0.7541899441340782,
            0.7523277467411545,
            0.7541899441340782,
            0.7467411545623835,
            0.7523277467411545,
            0.7635009310986964,
            0.7653631284916201,
            0.7523277467411545,
            0.7579143389199254,
            0.7653631284916201,
            0.7523277467411545,
            0.7635009310986964,
            0.7579143389199254,
            0.7597765363128491,
            0.7597765363128491,
            0.7709497206703911,
            0.7635009310986964,
            0.7616387337057727,
            0.7616387337057727,
            0.7690875232774674,
            0.7653631284916201,
            0.7653631284916201,
            0.7579143389199255,
            0.7616387337057727,
            0.7746741154562384,
            0.7579143389199254,
            0.7653631284916201,
            0.7728119180633147,
            0.7728119180633147,
            0.7541899441340782,
            0.7541899441340782,
            0.7579143389199255,
            0.7653631284916201,
            0.7635009310986964,
            0.7579143389199255,
            0.7653631284916201,
            0.7579143389199255
           ]
          },
          {
           "label": "max_depth",
           "range": [
            3,
            20
           ],
           "values": [
            13,
            20,
            15,
            9,
            20,
            12,
            8,
            18,
            20,
            13,
            5,
            8,
            8,
            3,
            17,
            10,
            10,
            15,
            5,
            5,
            6,
            3,
            5,
            6,
            7,
            10,
            4,
            9,
            6,
            7,
            12,
            5,
            4,
            4,
            6,
            7,
            4,
            9,
            11,
            9,
            9,
            9,
            11,
            13,
            8,
            9,
            7,
            14,
            8,
            12
           ]
          },
          {
           "label": "n_estimators",
           "range": [
            51,
            196
           ],
           "values": [
            195,
            65,
            196,
            92,
            170,
            136,
            113,
            174,
            93,
            66,
            96,
            150,
            158,
            120,
            89,
            170,
            51,
            134,
            103,
            106,
            79,
            107,
            106,
            79,
            128,
            118,
            81,
            102,
            142,
            145,
            126,
            139,
            111,
            113,
            157,
            67,
            183,
            89,
            86,
            58,
            72,
            73,
            72,
            73,
            60,
            94,
            85,
            73,
            97,
            51
           ]
          }
         ],
         "labelangle": 30,
         "labelside": "bottom",
         "line": {
          "color": [
           0.7541899441340782,
           0.7579143389199255,
           0.7411545623836125,
           0.7672253258845437,
           0.7616387337057727,
           0.7541899441340782,
           0.7597765363128492,
           0.756052141527002,
           0.756052141527002,
           0.756052141527002,
           0.7616387337057727,
           0.7616387337057727,
           0.7616387337057727,
           0.7541899441340782,
           0.7523277467411545,
           0.7541899441340782,
           0.7467411545623835,
           0.7523277467411545,
           0.7635009310986964,
           0.7653631284916201,
           0.7523277467411545,
           0.7579143389199254,
           0.7653631284916201,
           0.7523277467411545,
           0.7635009310986964,
           0.7579143389199254,
           0.7597765363128491,
           0.7597765363128491,
           0.7709497206703911,
           0.7635009310986964,
           0.7616387337057727,
           0.7616387337057727,
           0.7690875232774674,
           0.7653631284916201,
           0.7653631284916201,
           0.7579143389199255,
           0.7616387337057727,
           0.7746741154562384,
           0.7579143389199254,
           0.7653631284916201,
           0.7728119180633147,
           0.7728119180633147,
           0.7541899441340782,
           0.7541899441340782,
           0.7579143389199255,
           0.7653631284916201,
           0.7635009310986964,
           0.7579143389199255,
           0.7653631284916201,
           0.7579143389199255
          ],
          "colorbar": {
           "title": {
            "text": "Objective Value"
           }
          },
          "colorscale": [
           [
            0,
            "rgb(247,251,255)"
           ],
           [
            0.125,
            "rgb(222,235,247)"
           ],
           [
            0.25,
            "rgb(198,219,239)"
           ],
           [
            0.375,
            "rgb(158,202,225)"
           ],
           [
            0.5,
            "rgb(107,174,214)"
           ],
           [
            0.625,
            "rgb(66,146,198)"
           ],
           [
            0.75,
            "rgb(33,113,181)"
           ],
           [
            0.875,
            "rgb(8,81,156)"
           ],
           [
            1,
            "rgb(8,48,107)"
           ]
          ],
          "reversescale": false,
          "showscale": true
         },
         "type": "parcoords"
        }
       ],
       "layout": {
        "template": {
         "data": {
          "bar": [
           {
            "error_x": {
             "color": "#2a3f5f"
            },
            "error_y": {
             "color": "#2a3f5f"
            },
            "marker": {
             "line": {
              "color": "#E5ECF6",
              "width": 0.5
             },
             "pattern": {
              "fillmode": "overlay",
              "size": 10,
              "solidity": 0.2
             }
            },
            "type": "bar"
           }
          ],
          "barpolar": [
           {
            "marker": {
             "line": {
              "color": "#E5ECF6",
              "width": 0.5
             },
             "pattern": {
              "fillmode": "overlay",
              "size": 10,
              "solidity": 0.2
             }
            },
            "type": "barpolar"
           }
          ],
          "carpet": [
           {
            "aaxis": {
             "endlinecolor": "#2a3f5f",
             "gridcolor": "white",
             "linecolor": "white",
             "minorgridcolor": "white",
             "startlinecolor": "#2a3f5f"
            },
            "baxis": {
             "endlinecolor": "#2a3f5f",
             "gridcolor": "white",
             "linecolor": "white",
             "minorgridcolor": "white",
             "startlinecolor": "#2a3f5f"
            },
            "type": "carpet"
           }
          ],
          "choropleth": [
           {
            "colorbar": {
             "outlinewidth": 0,
             "ticks": ""
            },
            "type": "choropleth"
           }
          ],
          "contour": [
           {
            "colorbar": {
             "outlinewidth": 0,
             "ticks": ""
            },
            "colorscale": [
             [
              0,
              "#0d0887"
             ],
             [
              0.1111111111111111,
              "#46039f"
             ],
             [
              0.2222222222222222,
              "#7201a8"
             ],
             [
              0.3333333333333333,
              "#9c179e"
             ],
             [
              0.4444444444444444,
              "#bd3786"
             ],
             [
              0.5555555555555556,
              "#d8576b"
             ],
             [
              0.6666666666666666,
              "#ed7953"
             ],
             [
              0.7777777777777778,
              "#fb9f3a"
             ],
             [
              0.8888888888888888,
              "#fdca26"
             ],
             [
              1,
              "#f0f921"
             ]
            ],
            "type": "contour"
           }
          ],
          "contourcarpet": [
           {
            "colorbar": {
             "outlinewidth": 0,
             "ticks": ""
            },
            "type": "contourcarpet"
           }
          ],
          "heatmap": [
           {
            "colorbar": {
             "outlinewidth": 0,
             "ticks": ""
            },
            "colorscale": [
             [
              0,
              "#0d0887"
             ],
             [
              0.1111111111111111,
              "#46039f"
             ],
             [
              0.2222222222222222,
              "#7201a8"
             ],
             [
              0.3333333333333333,
              "#9c179e"
             ],
             [
              0.4444444444444444,
              "#bd3786"
             ],
             [
              0.5555555555555556,
              "#d8576b"
             ],
             [
              0.6666666666666666,
              "#ed7953"
             ],
             [
              0.7777777777777778,
              "#fb9f3a"
             ],
             [
              0.8888888888888888,
              "#fdca26"
             ],
             [
              1,
              "#f0f921"
             ]
            ],
            "type": "heatmap"
           }
          ],
          "histogram": [
           {
            "marker": {
             "pattern": {
              "fillmode": "overlay",
              "size": 10,
              "solidity": 0.2
             }
            },
            "type": "histogram"
           }
          ],
          "histogram2d": [
           {
            "colorbar": {
             "outlinewidth": 0,
             "ticks": ""
            },
            "colorscale": [
             [
              0,
              "#0d0887"
             ],
             [
              0.1111111111111111,
              "#46039f"
             ],
             [
              0.2222222222222222,
              "#7201a8"
             ],
             [
              0.3333333333333333,
              "#9c179e"
             ],
             [
              0.4444444444444444,
              "#bd3786"
             ],
             [
              0.5555555555555556,
              "#d8576b"
             ],
             [
              0.6666666666666666,
              "#ed7953"
             ],
             [
              0.7777777777777778,
              "#fb9f3a"
             ],
             [
              0.8888888888888888,
              "#fdca26"
             ],
             [
              1,
              "#f0f921"
             ]
            ],
            "type": "histogram2d"
           }
          ],
          "histogram2dcontour": [
           {
            "colorbar": {
             "outlinewidth": 0,
             "ticks": ""
            },
            "colorscale": [
             [
              0,
              "#0d0887"
             ],
             [
              0.1111111111111111,
              "#46039f"
             ],
             [
              0.2222222222222222,
              "#7201a8"
             ],
             [
              0.3333333333333333,
              "#9c179e"
             ],
             [
              0.4444444444444444,
              "#bd3786"
             ],
             [
              0.5555555555555556,
              "#d8576b"
             ],
             [
              0.6666666666666666,
              "#ed7953"
             ],
             [
              0.7777777777777778,
              "#fb9f3a"
             ],
             [
              0.8888888888888888,
              "#fdca26"
             ],
             [
              1,
              "#f0f921"
             ]
            ],
            "type": "histogram2dcontour"
           }
          ],
          "mesh3d": [
           {
            "colorbar": {
             "outlinewidth": 0,
             "ticks": ""
            },
            "type": "mesh3d"
           }
          ],
          "parcoords": [
           {
            "line": {
             "colorbar": {
              "outlinewidth": 0,
              "ticks": ""
             }
            },
            "type": "parcoords"
           }
          ],
          "pie": [
           {
            "automargin": true,
            "type": "pie"
           }
          ],
          "scatter": [
           {
            "fillpattern": {
             "fillmode": "overlay",
             "size": 10,
             "solidity": 0.2
            },
            "type": "scatter"
           }
          ],
          "scatter3d": [
           {
            "line": {
             "colorbar": {
              "outlinewidth": 0,
              "ticks": ""
             }
            },
            "marker": {
             "colorbar": {
              "outlinewidth": 0,
              "ticks": ""
             }
            },
            "type": "scatter3d"
           }
          ],
          "scattercarpet": [
           {
            "marker": {
             "colorbar": {
              "outlinewidth": 0,
              "ticks": ""
             }
            },
            "type": "scattercarpet"
           }
          ],
          "scattergeo": [
           {
            "marker": {
             "colorbar": {
              "outlinewidth": 0,
              "ticks": ""
             }
            },
            "type": "scattergeo"
           }
          ],
          "scattergl": [
           {
            "marker": {
             "colorbar": {
              "outlinewidth": 0,
              "ticks": ""
             }
            },
            "type": "scattergl"
           }
          ],
          "scattermap": [
           {
            "marker": {
             "colorbar": {
              "outlinewidth": 0,
              "ticks": ""
             }
            },
            "type": "scattermap"
           }
          ],
          "scattermapbox": [
           {
            "marker": {
             "colorbar": {
              "outlinewidth": 0,
              "ticks": ""
             }
            },
            "type": "scattermapbox"
           }
          ],
          "scatterpolar": [
           {
            "marker": {
             "colorbar": {
              "outlinewidth": 0,
              "ticks": ""
             }
            },
            "type": "scatterpolar"
           }
          ],
          "scatterpolargl": [
           {
            "marker": {
             "colorbar": {
              "outlinewidth": 0,
              "ticks": ""
             }
            },
            "type": "scatterpolargl"
           }
          ],
          "scatterternary": [
           {
            "marker": {
             "colorbar": {
              "outlinewidth": 0,
              "ticks": ""
             }
            },
            "type": "scatterternary"
           }
          ],
          "surface": [
           {
            "colorbar": {
             "outlinewidth": 0,
             "ticks": ""
            },
            "colorscale": [
             [
              0,
              "#0d0887"
             ],
             [
              0.1111111111111111,
              "#46039f"
             ],
             [
              0.2222222222222222,
              "#7201a8"
             ],
             [
              0.3333333333333333,
              "#9c179e"
             ],
             [
              0.4444444444444444,
              "#bd3786"
             ],
             [
              0.5555555555555556,
              "#d8576b"
             ],
             [
              0.6666666666666666,
              "#ed7953"
             ],
             [
              0.7777777777777778,
              "#fb9f3a"
             ],
             [
              0.8888888888888888,
              "#fdca26"
             ],
             [
              1,
              "#f0f921"
             ]
            ],
            "type": "surface"
           }
          ],
          "table": [
           {
            "cells": {
             "fill": {
              "color": "#EBF0F8"
             },
             "line": {
              "color": "white"
             }
            },
            "header": {
             "fill": {
              "color": "#C8D4E3"
             },
             "line": {
              "color": "white"
             }
            },
            "type": "table"
           }
          ]
         },
         "layout": {
          "annotationdefaults": {
           "arrowcolor": "#2a3f5f",
           "arrowhead": 0,
           "arrowwidth": 1
          },
          "autotypenumbers": "strict",
          "coloraxis": {
           "colorbar": {
            "outlinewidth": 0,
            "ticks": ""
           }
          },
          "colorscale": {
           "diverging": [
            [
             0,
             "#8e0152"
            ],
            [
             0.1,
             "#c51b7d"
            ],
            [
             0.2,
             "#de77ae"
            ],
            [
             0.3,
             "#f1b6da"
            ],
            [
             0.4,
             "#fde0ef"
            ],
            [
             0.5,
             "#f7f7f7"
            ],
            [
             0.6,
             "#e6f5d0"
            ],
            [
             0.7,
             "#b8e186"
            ],
            [
             0.8,
             "#7fbc41"
            ],
            [
             0.9,
             "#4d9221"
            ],
            [
             1,
             "#276419"
            ]
           ],
           "sequential": [
            [
             0,
             "#0d0887"
            ],
            [
             0.1111111111111111,
             "#46039f"
            ],
            [
             0.2222222222222222,
             "#7201a8"
            ],
            [
             0.3333333333333333,
             "#9c179e"
            ],
            [
             0.4444444444444444,
             "#bd3786"
            ],
            [
             0.5555555555555556,
             "#d8576b"
            ],
            [
             0.6666666666666666,
             "#ed7953"
            ],
            [
             0.7777777777777778,
             "#fb9f3a"
            ],
            [
             0.8888888888888888,
             "#fdca26"
            ],
            [
             1,
             "#f0f921"
            ]
           ],
           "sequentialminus": [
            [
             0,
             "#0d0887"
            ],
            [
             0.1111111111111111,
             "#46039f"
            ],
            [
             0.2222222222222222,
             "#7201a8"
            ],
            [
             0.3333333333333333,
             "#9c179e"
            ],
            [
             0.4444444444444444,
             "#bd3786"
            ],
            [
             0.5555555555555556,
             "#d8576b"
            ],
            [
             0.6666666666666666,
             "#ed7953"
            ],
            [
             0.7777777777777778,
             "#fb9f3a"
            ],
            [
             0.8888888888888888,
             "#fdca26"
            ],
            [
             1,
             "#f0f921"
            ]
           ]
          },
          "colorway": [
           "#636efa",
           "#EF553B",
           "#00cc96",
           "#ab63fa",
           "#FFA15A",
           "#19d3f3",
           "#FF6692",
           "#B6E880",
           "#FF97FF",
           "#FECB52"
          ],
          "font": {
           "color": "#2a3f5f"
          },
          "geo": {
           "bgcolor": "white",
           "lakecolor": "white",
           "landcolor": "#E5ECF6",
           "showlakes": true,
           "showland": true,
           "subunitcolor": "white"
          },
          "hoverlabel": {
           "align": "left"
          },
          "hovermode": "closest",
          "mapbox": {
           "style": "light"
          },
          "paper_bgcolor": "white",
          "plot_bgcolor": "#E5ECF6",
          "polar": {
           "angularaxis": {
            "gridcolor": "white",
            "linecolor": "white",
            "ticks": ""
           },
           "bgcolor": "#E5ECF6",
           "radialaxis": {
            "gridcolor": "white",
            "linecolor": "white",
            "ticks": ""
           }
          },
          "scene": {
           "xaxis": {
            "backgroundcolor": "#E5ECF6",
            "gridcolor": "white",
            "gridwidth": 2,
            "linecolor": "white",
            "showbackground": true,
            "ticks": "",
            "zerolinecolor": "white"
           },
           "yaxis": {
            "backgroundcolor": "#E5ECF6",
            "gridcolor": "white",
            "gridwidth": 2,
            "linecolor": "white",
            "showbackground": true,
            "ticks": "",
            "zerolinecolor": "white"
           },
           "zaxis": {
            "backgroundcolor": "#E5ECF6",
            "gridcolor": "white",
            "gridwidth": 2,
            "linecolor": "white",
            "showbackground": true,
            "ticks": "",
            "zerolinecolor": "white"
           }
          },
          "shapedefaults": {
           "line": {
            "color": "#2a3f5f"
           }
          },
          "ternary": {
           "aaxis": {
            "gridcolor": "white",
            "linecolor": "white",
            "ticks": ""
           },
           "baxis": {
            "gridcolor": "white",
            "linecolor": "white",
            "ticks": ""
           },
           "bgcolor": "#E5ECF6",
           "caxis": {
            "gridcolor": "white",
            "linecolor": "white",
            "ticks": ""
           }
          },
          "title": {
           "x": 0.05
          },
          "xaxis": {
           "automargin": true,
           "gridcolor": "white",
           "linecolor": "white",
           "ticks": "",
           "title": {
            "standoff": 15
           },
           "zerolinecolor": "white",
           "zerolinewidth": 2
          },
          "yaxis": {
           "automargin": true,
           "gridcolor": "white",
           "linecolor": "white",
           "ticks": "",
           "title": {
            "standoff": 15
           },
           "zerolinecolor": "white",
           "zerolinewidth": 2
          }
         }
        },
        "title": {
         "text": "Parallel Coordinate Plot"
        }
       }
      }
     },
     "metadata": {},
     "output_type": "display_data"
    }
   ],
   "source": [
    "# 2. Parallel coordinate plot\n",
    "plot_parallel_coordinate(study).show()"
   ]
  },
  {
   "cell_type": "code",
   "execution_count": 9,
   "id": "a174b450",
   "metadata": {},
   "outputs": [
    {
     "data": {
      "application/vnd.plotly.v1+json": {
       "config": {
        "plotlyServerURL": "https://plot.ly"
       },
       "data": [
        {
         "marker": {
          "color": [
           0,
           1,
           2,
           3,
           4,
           5,
           6,
           7,
           8,
           9,
           10,
           11,
           12,
           13,
           14,
           15,
           16,
           17,
           18,
           19,
           20,
           21,
           22,
           23,
           24,
           25,
           26,
           27,
           28,
           29,
           30,
           31,
           32,
           33,
           34,
           35,
           36,
           37,
           38,
           39,
           40,
           41,
           42,
           43,
           44,
           45,
           46,
           47,
           48,
           49
          ],
          "colorbar": {
           "title": {
            "text": "Trial"
           },
           "x": 1,
           "xpad": 40
          },
          "colorscale": [
           [
            0,
            "rgb(247,251,255)"
           ],
           [
            0.125,
            "rgb(222,235,247)"
           ],
           [
            0.25,
            "rgb(198,219,239)"
           ],
           [
            0.375,
            "rgb(158,202,225)"
           ],
           [
            0.5,
            "rgb(107,174,214)"
           ],
           [
            0.625,
            "rgb(66,146,198)"
           ],
           [
            0.75,
            "rgb(33,113,181)"
           ],
           [
            0.875,
            "rgb(8,81,156)"
           ],
           [
            1,
            "rgb(8,48,107)"
           ]
          ],
          "line": {
           "color": "Grey",
           "width": 0.5
          },
          "showscale": true
         },
         "mode": "markers",
         "name": "Feasible Trial",
         "showlegend": false,
         "type": "scatter",
         "x": [
          13,
          20,
          15,
          9,
          20,
          12,
          8,
          18,
          20,
          13,
          5,
          8,
          8,
          3,
          17,
          10,
          10,
          15,
          5,
          5,
          6,
          3,
          5,
          6,
          7,
          10,
          4,
          9,
          6,
          7,
          12,
          5,
          4,
          4,
          6,
          7,
          4,
          9,
          11,
          9,
          9,
          9,
          11,
          13,
          8,
          9,
          7,
          14,
          8,
          12
         ],
         "xaxis": "x",
         "y": [
          0.7541899441340782,
          0.7579143389199255,
          0.7411545623836125,
          0.7672253258845437,
          0.7616387337057727,
          0.7541899441340782,
          0.7597765363128492,
          0.756052141527002,
          0.756052141527002,
          0.756052141527002,
          0.7616387337057727,
          0.7616387337057727,
          0.7616387337057727,
          0.7541899441340782,
          0.7523277467411545,
          0.7541899441340782,
          0.7467411545623835,
          0.7523277467411545,
          0.7635009310986964,
          0.7653631284916201,
          0.7523277467411545,
          0.7579143389199254,
          0.7653631284916201,
          0.7523277467411545,
          0.7635009310986964,
          0.7579143389199254,
          0.7597765363128491,
          0.7597765363128491,
          0.7709497206703911,
          0.7635009310986964,
          0.7616387337057727,
          0.7616387337057727,
          0.7690875232774674,
          0.7653631284916201,
          0.7653631284916201,
          0.7579143389199255,
          0.7616387337057727,
          0.7746741154562384,
          0.7579143389199254,
          0.7653631284916201,
          0.7728119180633147,
          0.7728119180633147,
          0.7541899441340782,
          0.7541899441340782,
          0.7579143389199255,
          0.7653631284916201,
          0.7635009310986964,
          0.7579143389199255,
          0.7653631284916201,
          0.7579143389199255
         ],
         "yaxis": "y"
        },
        {
         "marker": {
          "color": [
           0,
           1,
           2,
           3,
           4,
           5,
           6,
           7,
           8,
           9,
           10,
           11,
           12,
           13,
           14,
           15,
           16,
           17,
           18,
           19,
           20,
           21,
           22,
           23,
           24,
           25,
           26,
           27,
           28,
           29,
           30,
           31,
           32,
           33,
           34,
           35,
           36,
           37,
           38,
           39,
           40,
           41,
           42,
           43,
           44,
           45,
           46,
           47,
           48,
           49
          ],
          "colorbar": {
           "title": {
            "text": "Trial"
           },
           "x": 1,
           "xpad": 40
          },
          "colorscale": [
           [
            0,
            "rgb(247,251,255)"
           ],
           [
            0.125,
            "rgb(222,235,247)"
           ],
           [
            0.25,
            "rgb(198,219,239)"
           ],
           [
            0.375,
            "rgb(158,202,225)"
           ],
           [
            0.5,
            "rgb(107,174,214)"
           ],
           [
            0.625,
            "rgb(66,146,198)"
           ],
           [
            0.75,
            "rgb(33,113,181)"
           ],
           [
            0.875,
            "rgb(8,81,156)"
           ],
           [
            1,
            "rgb(8,48,107)"
           ]
          ],
          "line": {
           "color": "Grey",
           "width": 0.5
          },
          "showscale": false
         },
         "mode": "markers",
         "name": "Feasible Trial",
         "showlegend": false,
         "type": "scatter",
         "x": [
          195,
          65,
          196,
          92,
          170,
          136,
          113,
          174,
          93,
          66,
          96,
          150,
          158,
          120,
          89,
          170,
          51,
          134,
          103,
          106,
          79,
          107,
          106,
          79,
          128,
          118,
          81,
          102,
          142,
          145,
          126,
          139,
          111,
          113,
          157,
          67,
          183,
          89,
          86,
          58,
          72,
          73,
          72,
          73,
          60,
          94,
          85,
          73,
          97,
          51
         ],
         "xaxis": "x2",
         "y": [
          0.7541899441340782,
          0.7579143389199255,
          0.7411545623836125,
          0.7672253258845437,
          0.7616387337057727,
          0.7541899441340782,
          0.7597765363128492,
          0.756052141527002,
          0.756052141527002,
          0.756052141527002,
          0.7616387337057727,
          0.7616387337057727,
          0.7616387337057727,
          0.7541899441340782,
          0.7523277467411545,
          0.7541899441340782,
          0.7467411545623835,
          0.7523277467411545,
          0.7635009310986964,
          0.7653631284916201,
          0.7523277467411545,
          0.7579143389199254,
          0.7653631284916201,
          0.7523277467411545,
          0.7635009310986964,
          0.7579143389199254,
          0.7597765363128491,
          0.7597765363128491,
          0.7709497206703911,
          0.7635009310986964,
          0.7616387337057727,
          0.7616387337057727,
          0.7690875232774674,
          0.7653631284916201,
          0.7653631284916201,
          0.7579143389199255,
          0.7616387337057727,
          0.7746741154562384,
          0.7579143389199254,
          0.7653631284916201,
          0.7728119180633147,
          0.7728119180633147,
          0.7541899441340782,
          0.7541899441340782,
          0.7579143389199255,
          0.7653631284916201,
          0.7635009310986964,
          0.7579143389199255,
          0.7653631284916201,
          0.7579143389199255
         ],
         "yaxis": "y2"
        }
       ],
       "layout": {
        "template": {
         "data": {
          "bar": [
           {
            "error_x": {
             "color": "#2a3f5f"
            },
            "error_y": {
             "color": "#2a3f5f"
            },
            "marker": {
             "line": {
              "color": "#E5ECF6",
              "width": 0.5
             },
             "pattern": {
              "fillmode": "overlay",
              "size": 10,
              "solidity": 0.2
             }
            },
            "type": "bar"
           }
          ],
          "barpolar": [
           {
            "marker": {
             "line": {
              "color": "#E5ECF6",
              "width": 0.5
             },
             "pattern": {
              "fillmode": "overlay",
              "size": 10,
              "solidity": 0.2
             }
            },
            "type": "barpolar"
           }
          ],
          "carpet": [
           {
            "aaxis": {
             "endlinecolor": "#2a3f5f",
             "gridcolor": "white",
             "linecolor": "white",
             "minorgridcolor": "white",
             "startlinecolor": "#2a3f5f"
            },
            "baxis": {
             "endlinecolor": "#2a3f5f",
             "gridcolor": "white",
             "linecolor": "white",
             "minorgridcolor": "white",
             "startlinecolor": "#2a3f5f"
            },
            "type": "carpet"
           }
          ],
          "choropleth": [
           {
            "colorbar": {
             "outlinewidth": 0,
             "ticks": ""
            },
            "type": "choropleth"
           }
          ],
          "contour": [
           {
            "colorbar": {
             "outlinewidth": 0,
             "ticks": ""
            },
            "colorscale": [
             [
              0,
              "#0d0887"
             ],
             [
              0.1111111111111111,
              "#46039f"
             ],
             [
              0.2222222222222222,
              "#7201a8"
             ],
             [
              0.3333333333333333,
              "#9c179e"
             ],
             [
              0.4444444444444444,
              "#bd3786"
             ],
             [
              0.5555555555555556,
              "#d8576b"
             ],
             [
              0.6666666666666666,
              "#ed7953"
             ],
             [
              0.7777777777777778,
              "#fb9f3a"
             ],
             [
              0.8888888888888888,
              "#fdca26"
             ],
             [
              1,
              "#f0f921"
             ]
            ],
            "type": "contour"
           }
          ],
          "contourcarpet": [
           {
            "colorbar": {
             "outlinewidth": 0,
             "ticks": ""
            },
            "type": "contourcarpet"
           }
          ],
          "heatmap": [
           {
            "colorbar": {
             "outlinewidth": 0,
             "ticks": ""
            },
            "colorscale": [
             [
              0,
              "#0d0887"
             ],
             [
              0.1111111111111111,
              "#46039f"
             ],
             [
              0.2222222222222222,
              "#7201a8"
             ],
             [
              0.3333333333333333,
              "#9c179e"
             ],
             [
              0.4444444444444444,
              "#bd3786"
             ],
             [
              0.5555555555555556,
              "#d8576b"
             ],
             [
              0.6666666666666666,
              "#ed7953"
             ],
             [
              0.7777777777777778,
              "#fb9f3a"
             ],
             [
              0.8888888888888888,
              "#fdca26"
             ],
             [
              1,
              "#f0f921"
             ]
            ],
            "type": "heatmap"
           }
          ],
          "histogram": [
           {
            "marker": {
             "pattern": {
              "fillmode": "overlay",
              "size": 10,
              "solidity": 0.2
             }
            },
            "type": "histogram"
           }
          ],
          "histogram2d": [
           {
            "colorbar": {
             "outlinewidth": 0,
             "ticks": ""
            },
            "colorscale": [
             [
              0,
              "#0d0887"
             ],
             [
              0.1111111111111111,
              "#46039f"
             ],
             [
              0.2222222222222222,
              "#7201a8"
             ],
             [
              0.3333333333333333,
              "#9c179e"
             ],
             [
              0.4444444444444444,
              "#bd3786"
             ],
             [
              0.5555555555555556,
              "#d8576b"
             ],
             [
              0.6666666666666666,
              "#ed7953"
             ],
             [
              0.7777777777777778,
              "#fb9f3a"
             ],
             [
              0.8888888888888888,
              "#fdca26"
             ],
             [
              1,
              "#f0f921"
             ]
            ],
            "type": "histogram2d"
           }
          ],
          "histogram2dcontour": [
           {
            "colorbar": {
             "outlinewidth": 0,
             "ticks": ""
            },
            "colorscale": [
             [
              0,
              "#0d0887"
             ],
             [
              0.1111111111111111,
              "#46039f"
             ],
             [
              0.2222222222222222,
              "#7201a8"
             ],
             [
              0.3333333333333333,
              "#9c179e"
             ],
             [
              0.4444444444444444,
              "#bd3786"
             ],
             [
              0.5555555555555556,
              "#d8576b"
             ],
             [
              0.6666666666666666,
              "#ed7953"
             ],
             [
              0.7777777777777778,
              "#fb9f3a"
             ],
             [
              0.8888888888888888,
              "#fdca26"
             ],
             [
              1,
              "#f0f921"
             ]
            ],
            "type": "histogram2dcontour"
           }
          ],
          "mesh3d": [
           {
            "colorbar": {
             "outlinewidth": 0,
             "ticks": ""
            },
            "type": "mesh3d"
           }
          ],
          "parcoords": [
           {
            "line": {
             "colorbar": {
              "outlinewidth": 0,
              "ticks": ""
             }
            },
            "type": "parcoords"
           }
          ],
          "pie": [
           {
            "automargin": true,
            "type": "pie"
           }
          ],
          "scatter": [
           {
            "fillpattern": {
             "fillmode": "overlay",
             "size": 10,
             "solidity": 0.2
            },
            "type": "scatter"
           }
          ],
          "scatter3d": [
           {
            "line": {
             "colorbar": {
              "outlinewidth": 0,
              "ticks": ""
             }
            },
            "marker": {
             "colorbar": {
              "outlinewidth": 0,
              "ticks": ""
             }
            },
            "type": "scatter3d"
           }
          ],
          "scattercarpet": [
           {
            "marker": {
             "colorbar": {
              "outlinewidth": 0,
              "ticks": ""
             }
            },
            "type": "scattercarpet"
           }
          ],
          "scattergeo": [
           {
            "marker": {
             "colorbar": {
              "outlinewidth": 0,
              "ticks": ""
             }
            },
            "type": "scattergeo"
           }
          ],
          "scattergl": [
           {
            "marker": {
             "colorbar": {
              "outlinewidth": 0,
              "ticks": ""
             }
            },
            "type": "scattergl"
           }
          ],
          "scattermap": [
           {
            "marker": {
             "colorbar": {
              "outlinewidth": 0,
              "ticks": ""
             }
            },
            "type": "scattermap"
           }
          ],
          "scattermapbox": [
           {
            "marker": {
             "colorbar": {
              "outlinewidth": 0,
              "ticks": ""
             }
            },
            "type": "scattermapbox"
           }
          ],
          "scatterpolar": [
           {
            "marker": {
             "colorbar": {
              "outlinewidth": 0,
              "ticks": ""
             }
            },
            "type": "scatterpolar"
           }
          ],
          "scatterpolargl": [
           {
            "marker": {
             "colorbar": {
              "outlinewidth": 0,
              "ticks": ""
             }
            },
            "type": "scatterpolargl"
           }
          ],
          "scatterternary": [
           {
            "marker": {
             "colorbar": {
              "outlinewidth": 0,
              "ticks": ""
             }
            },
            "type": "scatterternary"
           }
          ],
          "surface": [
           {
            "colorbar": {
             "outlinewidth": 0,
             "ticks": ""
            },
            "colorscale": [
             [
              0,
              "#0d0887"
             ],
             [
              0.1111111111111111,
              "#46039f"
             ],
             [
              0.2222222222222222,
              "#7201a8"
             ],
             [
              0.3333333333333333,
              "#9c179e"
             ],
             [
              0.4444444444444444,
              "#bd3786"
             ],
             [
              0.5555555555555556,
              "#d8576b"
             ],
             [
              0.6666666666666666,
              "#ed7953"
             ],
             [
              0.7777777777777778,
              "#fb9f3a"
             ],
             [
              0.8888888888888888,
              "#fdca26"
             ],
             [
              1,
              "#f0f921"
             ]
            ],
            "type": "surface"
           }
          ],
          "table": [
           {
            "cells": {
             "fill": {
              "color": "#EBF0F8"
             },
             "line": {
              "color": "white"
             }
            },
            "header": {
             "fill": {
              "color": "#C8D4E3"
             },
             "line": {
              "color": "white"
             }
            },
            "type": "table"
           }
          ]
         },
         "layout": {
          "annotationdefaults": {
           "arrowcolor": "#2a3f5f",
           "arrowhead": 0,
           "arrowwidth": 1
          },
          "autotypenumbers": "strict",
          "coloraxis": {
           "colorbar": {
            "outlinewidth": 0,
            "ticks": ""
           }
          },
          "colorscale": {
           "diverging": [
            [
             0,
             "#8e0152"
            ],
            [
             0.1,
             "#c51b7d"
            ],
            [
             0.2,
             "#de77ae"
            ],
            [
             0.3,
             "#f1b6da"
            ],
            [
             0.4,
             "#fde0ef"
            ],
            [
             0.5,
             "#f7f7f7"
            ],
            [
             0.6,
             "#e6f5d0"
            ],
            [
             0.7,
             "#b8e186"
            ],
            [
             0.8,
             "#7fbc41"
            ],
            [
             0.9,
             "#4d9221"
            ],
            [
             1,
             "#276419"
            ]
           ],
           "sequential": [
            [
             0,
             "#0d0887"
            ],
            [
             0.1111111111111111,
             "#46039f"
            ],
            [
             0.2222222222222222,
             "#7201a8"
            ],
            [
             0.3333333333333333,
             "#9c179e"
            ],
            [
             0.4444444444444444,
             "#bd3786"
            ],
            [
             0.5555555555555556,
             "#d8576b"
            ],
            [
             0.6666666666666666,
             "#ed7953"
            ],
            [
             0.7777777777777778,
             "#fb9f3a"
            ],
            [
             0.8888888888888888,
             "#fdca26"
            ],
            [
             1,
             "#f0f921"
            ]
           ],
           "sequentialminus": [
            [
             0,
             "#0d0887"
            ],
            [
             0.1111111111111111,
             "#46039f"
            ],
            [
             0.2222222222222222,
             "#7201a8"
            ],
            [
             0.3333333333333333,
             "#9c179e"
            ],
            [
             0.4444444444444444,
             "#bd3786"
            ],
            [
             0.5555555555555556,
             "#d8576b"
            ],
            [
             0.6666666666666666,
             "#ed7953"
            ],
            [
             0.7777777777777778,
             "#fb9f3a"
            ],
            [
             0.8888888888888888,
             "#fdca26"
            ],
            [
             1,
             "#f0f921"
            ]
           ]
          },
          "colorway": [
           "#636efa",
           "#EF553B",
           "#00cc96",
           "#ab63fa",
           "#FFA15A",
           "#19d3f3",
           "#FF6692",
           "#B6E880",
           "#FF97FF",
           "#FECB52"
          ],
          "font": {
           "color": "#2a3f5f"
          },
          "geo": {
           "bgcolor": "white",
           "lakecolor": "white",
           "landcolor": "#E5ECF6",
           "showlakes": true,
           "showland": true,
           "subunitcolor": "white"
          },
          "hoverlabel": {
           "align": "left"
          },
          "hovermode": "closest",
          "mapbox": {
           "style": "light"
          },
          "paper_bgcolor": "white",
          "plot_bgcolor": "#E5ECF6",
          "polar": {
           "angularaxis": {
            "gridcolor": "white",
            "linecolor": "white",
            "ticks": ""
           },
           "bgcolor": "#E5ECF6",
           "radialaxis": {
            "gridcolor": "white",
            "linecolor": "white",
            "ticks": ""
           }
          },
          "scene": {
           "xaxis": {
            "backgroundcolor": "#E5ECF6",
            "gridcolor": "white",
            "gridwidth": 2,
            "linecolor": "white",
            "showbackground": true,
            "ticks": "",
            "zerolinecolor": "white"
           },
           "yaxis": {
            "backgroundcolor": "#E5ECF6",
            "gridcolor": "white",
            "gridwidth": 2,
            "linecolor": "white",
            "showbackground": true,
            "ticks": "",
            "zerolinecolor": "white"
           },
           "zaxis": {
            "backgroundcolor": "#E5ECF6",
            "gridcolor": "white",
            "gridwidth": 2,
            "linecolor": "white",
            "showbackground": true,
            "ticks": "",
            "zerolinecolor": "white"
           }
          },
          "shapedefaults": {
           "line": {
            "color": "#2a3f5f"
           }
          },
          "ternary": {
           "aaxis": {
            "gridcolor": "white",
            "linecolor": "white",
            "ticks": ""
           },
           "baxis": {
            "gridcolor": "white",
            "linecolor": "white",
            "ticks": ""
           },
           "bgcolor": "#E5ECF6",
           "caxis": {
            "gridcolor": "white",
            "linecolor": "white",
            "ticks": ""
           }
          },
          "title": {
           "x": 0.05
          },
          "xaxis": {
           "automargin": true,
           "gridcolor": "white",
           "linecolor": "white",
           "ticks": "",
           "title": {
            "standoff": 15
           },
           "zerolinecolor": "white",
           "zerolinewidth": 2
          },
          "yaxis": {
           "automargin": true,
           "gridcolor": "white",
           "linecolor": "white",
           "ticks": "",
           "title": {
            "standoff": 15
           },
           "zerolinecolor": "white",
           "zerolinewidth": 2
          }
         }
        },
        "title": {
         "text": "Slice Plot"
        },
        "xaxis": {
         "anchor": "y",
         "domain": [
          0,
          0.45
         ],
         "title": {
          "text": "max_depth"
         }
        },
        "xaxis2": {
         "anchor": "y2",
         "domain": [
          0.55,
          1
         ],
         "title": {
          "text": "n_estimators"
         }
        },
        "yaxis": {
         "anchor": "x",
         "domain": [
          0,
          1
         ],
         "title": {
          "text": "Objective Value"
         }
        },
        "yaxis2": {
         "anchor": "x2",
         "domain": [
          0,
          1
         ],
         "matches": "y",
         "showticklabels": false
        }
       }
      }
     },
     "metadata": {},
     "output_type": "display_data"
    }
   ],
   "source": [
    "# 3. slice plot\n",
    "plot_slice(study).show()"
   ]
  },
  {
   "cell_type": "code",
   "execution_count": 10,
   "id": "c4b4944a",
   "metadata": {},
   "outputs": [
    {
     "data": {
      "application/vnd.plotly.v1+json": {
       "config": {
        "plotlyServerURL": "https://plot.ly"
       },
       "data": [
        {
         "colorbar": {
          "title": {
           "text": "Objective Value"
          }
         },
         "colorscale": [
          [
           0,
           "rgb(247,251,255)"
          ],
          [
           0.125,
           "rgb(222,235,247)"
          ],
          [
           0.25,
           "rgb(198,219,239)"
          ],
          [
           0.375,
           "rgb(158,202,225)"
          ],
          [
           0.5,
           "rgb(107,174,214)"
          ],
          [
           0.625,
           "rgb(66,146,198)"
          ],
          [
           0.75,
           "rgb(33,113,181)"
          ],
          [
           0.875,
           "rgb(8,81,156)"
          ],
          [
           1,
           "rgb(8,48,107)"
          ]
         ],
         "connectgaps": true,
         "contours": {
          "coloring": "heatmap"
         },
         "hoverinfo": "none",
         "line": {
          "smoothing": 1.3
         },
         "reversescale": false,
         "type": "contour",
         "x": [
          2.15,
          3,
          4,
          5,
          6,
          7,
          8,
          9,
          10,
          11,
          12,
          13,
          14,
          15,
          17,
          18,
          20,
          20.85
         ],
         "y": [
          43.75,
          51,
          58,
          60,
          65,
          66,
          67,
          72,
          73,
          79,
          81,
          85,
          86,
          89,
          92,
          93,
          94,
          96,
          97,
          102,
          103,
          106,
          107,
          111,
          113,
          118,
          120,
          126,
          128,
          134,
          136,
          139,
          142,
          145,
          150,
          157,
          158,
          170,
          174,
          183,
          195,
          196,
          203.25
         ],
         "z": {
          "bdata": "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",
          "dtype": "f8",
          "shape": "43, 18"
         }
        },
        {
         "marker": {
          "color": "black",
          "line": {
           "color": "Gray",
           "width": 2
          }
         },
         "mode": "markers",
         "name": "Feasible Trial",
         "showlegend": false,
         "type": "scatter",
         "x": [
          13,
          20,
          15,
          9,
          20,
          12,
          8,
          18,
          20,
          13,
          5,
          8,
          8,
          3,
          17,
          10,
          10,
          15,
          5,
          5,
          6,
          3,
          5,
          6,
          7,
          10,
          4,
          9,
          6,
          7,
          12,
          5,
          4,
          4,
          6,
          7,
          4,
          9,
          11,
          9,
          9,
          9,
          11,
          13,
          8,
          9,
          7,
          14,
          8,
          12
         ],
         "y": [
          195,
          65,
          196,
          92,
          170,
          136,
          113,
          174,
          93,
          66,
          96,
          150,
          158,
          120,
          89,
          170,
          51,
          134,
          103,
          106,
          79,
          107,
          106,
          79,
          128,
          118,
          81,
          102,
          142,
          145,
          126,
          139,
          111,
          113,
          157,
          67,
          183,
          89,
          86,
          58,
          72,
          73,
          72,
          73,
          60,
          94,
          85,
          73,
          97,
          51
         ]
        },
        {
         "marker": {
          "color": "#cccccc",
          "line": {
           "color": "Gray",
           "width": 2
          }
         },
         "mode": "markers",
         "name": "Infeasible Trial",
         "showlegend": false,
         "type": "scatter",
         "x": [],
         "y": []
        }
       ],
       "layout": {
        "template": {
         "data": {
          "bar": [
           {
            "error_x": {
             "color": "#2a3f5f"
            },
            "error_y": {
             "color": "#2a3f5f"
            },
            "marker": {
             "line": {
              "color": "#E5ECF6",
              "width": 0.5
             },
             "pattern": {
              "fillmode": "overlay",
              "size": 10,
              "solidity": 0.2
             }
            },
            "type": "bar"
           }
          ],
          "barpolar": [
           {
            "marker": {
             "line": {
              "color": "#E5ECF6",
              "width": 0.5
             },
             "pattern": {
              "fillmode": "overlay",
              "size": 10,
              "solidity": 0.2
             }
            },
            "type": "barpolar"
           }
          ],
          "carpet": [
           {
            "aaxis": {
             "endlinecolor": "#2a3f5f",
             "gridcolor": "white",
             "linecolor": "white",
             "minorgridcolor": "white",
             "startlinecolor": "#2a3f5f"
            },
            "baxis": {
             "endlinecolor": "#2a3f5f",
             "gridcolor": "white",
             "linecolor": "white",
             "minorgridcolor": "white",
             "startlinecolor": "#2a3f5f"
            },
            "type": "carpet"
           }
          ],
          "choropleth": [
           {
            "colorbar": {
             "outlinewidth": 0,
             "ticks": ""
            },
            "type": "choropleth"
           }
          ],
          "contour": [
           {
            "colorbar": {
             "outlinewidth": 0,
             "ticks": ""
            },
            "colorscale": [
             [
              0,
              "#0d0887"
             ],
             [
              0.1111111111111111,
              "#46039f"
             ],
             [
              0.2222222222222222,
              "#7201a8"
             ],
             [
              0.3333333333333333,
              "#9c179e"
             ],
             [
              0.4444444444444444,
              "#bd3786"
             ],
             [
              0.5555555555555556,
              "#d8576b"
             ],
             [
              0.6666666666666666,
              "#ed7953"
             ],
             [
              0.7777777777777778,
              "#fb9f3a"
             ],
             [
              0.8888888888888888,
              "#fdca26"
             ],
             [
              1,
              "#f0f921"
             ]
            ],
            "type": "contour"
           }
          ],
          "contourcarpet": [
           {
            "colorbar": {
             "outlinewidth": 0,
             "ticks": ""
            },
            "type": "contourcarpet"
           }
          ],
          "heatmap": [
           {
            "colorbar": {
             "outlinewidth": 0,
             "ticks": ""
            },
            "colorscale": [
             [
              0,
              "#0d0887"
             ],
             [
              0.1111111111111111,
              "#46039f"
             ],
             [
              0.2222222222222222,
              "#7201a8"
             ],
             [
              0.3333333333333333,
              "#9c179e"
             ],
             [
              0.4444444444444444,
              "#bd3786"
             ],
             [
              0.5555555555555556,
              "#d8576b"
             ],
             [
              0.6666666666666666,
              "#ed7953"
             ],
             [
              0.7777777777777778,
              "#fb9f3a"
             ],
             [
              0.8888888888888888,
              "#fdca26"
             ],
             [
              1,
              "#f0f921"
             ]
            ],
            "type": "heatmap"
           }
          ],
          "histogram": [
           {
            "marker": {
             "pattern": {
              "fillmode": "overlay",
              "size": 10,
              "solidity": 0.2
             }
            },
            "type": "histogram"
           }
          ],
          "histogram2d": [
           {
            "colorbar": {
             "outlinewidth": 0,
             "ticks": ""
            },
            "colorscale": [
             [
              0,
              "#0d0887"
             ],
             [
              0.1111111111111111,
              "#46039f"
             ],
             [
              0.2222222222222222,
              "#7201a8"
             ],
             [
              0.3333333333333333,
              "#9c179e"
             ],
             [
              0.4444444444444444,
              "#bd3786"
             ],
             [
              0.5555555555555556,
              "#d8576b"
             ],
             [
              0.6666666666666666,
              "#ed7953"
             ],
             [
              0.7777777777777778,
              "#fb9f3a"
             ],
             [
              0.8888888888888888,
              "#fdca26"
             ],
             [
              1,
              "#f0f921"
             ]
            ],
            "type": "histogram2d"
           }
          ],
          "histogram2dcontour": [
           {
            "colorbar": {
             "outlinewidth": 0,
             "ticks": ""
            },
            "colorscale": [
             [
              0,
              "#0d0887"
             ],
             [
              0.1111111111111111,
              "#46039f"
             ],
             [
              0.2222222222222222,
              "#7201a8"
             ],
             [
              0.3333333333333333,
              "#9c179e"
             ],
             [
              0.4444444444444444,
              "#bd3786"
             ],
             [
              0.5555555555555556,
              "#d8576b"
             ],
             [
              0.6666666666666666,
              "#ed7953"
             ],
             [
              0.7777777777777778,
              "#fb9f3a"
             ],
             [
              0.8888888888888888,
              "#fdca26"
             ],
             [
              1,
              "#f0f921"
             ]
            ],
            "type": "histogram2dcontour"
           }
          ],
          "mesh3d": [
           {
            "colorbar": {
             "outlinewidth": 0,
             "ticks": ""
            },
            "type": "mesh3d"
           }
          ],
          "parcoords": [
           {
            "line": {
             "colorbar": {
              "outlinewidth": 0,
              "ticks": ""
             }
            },
            "type": "parcoords"
           }
          ],
          "pie": [
           {
            "automargin": true,
            "type": "pie"
           }
          ],
          "scatter": [
           {
            "fillpattern": {
             "fillmode": "overlay",
             "size": 10,
             "solidity": 0.2
            },
            "type": "scatter"
           }
          ],
          "scatter3d": [
           {
            "line": {
             "colorbar": {
              "outlinewidth": 0,
              "ticks": ""
             }
            },
            "marker": {
             "colorbar": {
              "outlinewidth": 0,
              "ticks": ""
             }
            },
            "type": "scatter3d"
           }
          ],
          "scattercarpet": [
           {
            "marker": {
             "colorbar": {
              "outlinewidth": 0,
              "ticks": ""
             }
            },
            "type": "scattercarpet"
           }
          ],
          "scattergeo": [
           {
            "marker": {
             "colorbar": {
              "outlinewidth": 0,
              "ticks": ""
             }
            },
            "type": "scattergeo"
           }
          ],
          "scattergl": [
           {
            "marker": {
             "colorbar": {
              "outlinewidth": 0,
              "ticks": ""
             }
            },
            "type": "scattergl"
           }
          ],
          "scattermap": [
           {
            "marker": {
             "colorbar": {
              "outlinewidth": 0,
              "ticks": ""
             }
            },
            "type": "scattermap"
           }
          ],
          "scattermapbox": [
           {
            "marker": {
             "colorbar": {
              "outlinewidth": 0,
              "ticks": ""
             }
            },
            "type": "scattermapbox"
           }
          ],
          "scatterpolar": [
           {
            "marker": {
             "colorbar": {
              "outlinewidth": 0,
              "ticks": ""
             }
            },
            "type": "scatterpolar"
           }
          ],
          "scatterpolargl": [
           {
            "marker": {
             "colorbar": {
              "outlinewidth": 0,
              "ticks": ""
             }
            },
            "type": "scatterpolargl"
           }
          ],
          "scatterternary": [
           {
            "marker": {
             "colorbar": {
              "outlinewidth": 0,
              "ticks": ""
             }
            },
            "type": "scatterternary"
           }
          ],
          "surface": [
           {
            "colorbar": {
             "outlinewidth": 0,
             "ticks": ""
            },
            "colorscale": [
             [
              0,
              "#0d0887"
             ],
             [
              0.1111111111111111,
              "#46039f"
             ],
             [
              0.2222222222222222,
              "#7201a8"
             ],
             [
              0.3333333333333333,
              "#9c179e"
             ],
             [
              0.4444444444444444,
              "#bd3786"
             ],
             [
              0.5555555555555556,
              "#d8576b"
             ],
             [
              0.6666666666666666,
              "#ed7953"
             ],
             [
              0.7777777777777778,
              "#fb9f3a"
             ],
             [
              0.8888888888888888,
              "#fdca26"
             ],
             [
              1,
              "#f0f921"
             ]
            ],
            "type": "surface"
           }
          ],
          "table": [
           {
            "cells": {
             "fill": {
              "color": "#EBF0F8"
             },
             "line": {
              "color": "white"
             }
            },
            "header": {
             "fill": {
              "color": "#C8D4E3"
             },
             "line": {
              "color": "white"
             }
            },
            "type": "table"
           }
          ]
         },
         "layout": {
          "annotationdefaults": {
           "arrowcolor": "#2a3f5f",
           "arrowhead": 0,
           "arrowwidth": 1
          },
          "autotypenumbers": "strict",
          "coloraxis": {
           "colorbar": {
            "outlinewidth": 0,
            "ticks": ""
           }
          },
          "colorscale": {
           "diverging": [
            [
             0,
             "#8e0152"
            ],
            [
             0.1,
             "#c51b7d"
            ],
            [
             0.2,
             "#de77ae"
            ],
            [
             0.3,
             "#f1b6da"
            ],
            [
             0.4,
             "#fde0ef"
            ],
            [
             0.5,
             "#f7f7f7"
            ],
            [
             0.6,
             "#e6f5d0"
            ],
            [
             0.7,
             "#b8e186"
            ],
            [
             0.8,
             "#7fbc41"
            ],
            [
             0.9,
             "#4d9221"
            ],
            [
             1,
             "#276419"
            ]
           ],
           "sequential": [
            [
             0,
             "#0d0887"
            ],
            [
             0.1111111111111111,
             "#46039f"
            ],
            [
             0.2222222222222222,
             "#7201a8"
            ],
            [
             0.3333333333333333,
             "#9c179e"
            ],
            [
             0.4444444444444444,
             "#bd3786"
            ],
            [
             0.5555555555555556,
             "#d8576b"
            ],
            [
             0.6666666666666666,
             "#ed7953"
            ],
            [
             0.7777777777777778,
             "#fb9f3a"
            ],
            [
             0.8888888888888888,
             "#fdca26"
            ],
            [
             1,
             "#f0f921"
            ]
           ],
           "sequentialminus": [
            [
             0,
             "#0d0887"
            ],
            [
             0.1111111111111111,
             "#46039f"
            ],
            [
             0.2222222222222222,
             "#7201a8"
            ],
            [
             0.3333333333333333,
             "#9c179e"
            ],
            [
             0.4444444444444444,
             "#bd3786"
            ],
            [
             0.5555555555555556,
             "#d8576b"
            ],
            [
             0.6666666666666666,
             "#ed7953"
            ],
            [
             0.7777777777777778,
             "#fb9f3a"
            ],
            [
             0.8888888888888888,
             "#fdca26"
            ],
            [
             1,
             "#f0f921"
            ]
           ]
          },
          "colorway": [
           "#636efa",
           "#EF553B",
           "#00cc96",
           "#ab63fa",
           "#FFA15A",
           "#19d3f3",
           "#FF6692",
           "#B6E880",
           "#FF97FF",
           "#FECB52"
          ],
          "font": {
           "color": "#2a3f5f"
          },
          "geo": {
           "bgcolor": "white",
           "lakecolor": "white",
           "landcolor": "#E5ECF6",
           "showlakes": true,
           "showland": true,
           "subunitcolor": "white"
          },
          "hoverlabel": {
           "align": "left"
          },
          "hovermode": "closest",
          "mapbox": {
           "style": "light"
          },
          "paper_bgcolor": "white",
          "plot_bgcolor": "#E5ECF6",
          "polar": {
           "angularaxis": {
            "gridcolor": "white",
            "linecolor": "white",
            "ticks": ""
           },
           "bgcolor": "#E5ECF6",
           "radialaxis": {
            "gridcolor": "white",
            "linecolor": "white",
            "ticks": ""
           }
          },
          "scene": {
           "xaxis": {
            "backgroundcolor": "#E5ECF6",
            "gridcolor": "white",
            "gridwidth": 2,
            "linecolor": "white",
            "showbackground": true,
            "ticks": "",
            "zerolinecolor": "white"
           },
           "yaxis": {
            "backgroundcolor": "#E5ECF6",
            "gridcolor": "white",
            "gridwidth": 2,
            "linecolor": "white",
            "showbackground": true,
            "ticks": "",
            "zerolinecolor": "white"
           },
           "zaxis": {
            "backgroundcolor": "#E5ECF6",
            "gridcolor": "white",
            "gridwidth": 2,
            "linecolor": "white",
            "showbackground": true,
            "ticks": "",
            "zerolinecolor": "white"
           }
          },
          "shapedefaults": {
           "line": {
            "color": "#2a3f5f"
           }
          },
          "ternary": {
           "aaxis": {
            "gridcolor": "white",
            "linecolor": "white",
            "ticks": ""
           },
           "baxis": {
            "gridcolor": "white",
            "linecolor": "white",
            "ticks": ""
           },
           "bgcolor": "#E5ECF6",
           "caxis": {
            "gridcolor": "white",
            "linecolor": "white",
            "ticks": ""
           }
          },
          "title": {
           "x": 0.05
          },
          "xaxis": {
           "automargin": true,
           "gridcolor": "white",
           "linecolor": "white",
           "ticks": "",
           "title": {
            "standoff": 15
           },
           "zerolinecolor": "white",
           "zerolinewidth": 2
          },
          "yaxis": {
           "automargin": true,
           "gridcolor": "white",
           "linecolor": "white",
           "ticks": "",
           "title": {
            "standoff": 15
           },
           "zerolinecolor": "white",
           "zerolinewidth": 2
          }
         }
        },
        "title": {
         "text": "Contour Plot"
        },
        "xaxis": {
         "range": [
          2.15,
          20.85
         ],
         "title": {
          "text": "max_depth"
         }
        },
        "yaxis": {
         "range": [
          43.75,
          203.25
         ],
         "title": {
          "text": "n_estimators"
         }
        }
       }
      }
     },
     "metadata": {},
     "output_type": "display_data"
    }
   ],
   "source": [
    "# 4. Contour plot\n",
    "plot_contour(study).show()"
   ]
  },
  {
   "cell_type": "code",
   "execution_count": 11,
   "id": "5e8ac08b",
   "metadata": {},
   "outputs": [
    {
     "data": {
      "application/vnd.plotly.v1+json": {
       "config": {
        "plotlyServerURL": "https://plot.ly"
       },
       "data": [
        {
         "cliponaxis": false,
         "hovertemplate": [
          "n_estimators (IntDistribution): 0.2619152191903686<extra></extra>",
          "max_depth (IntDistribution): 0.7380847808096315<extra></extra>"
         ],
         "name": "Objective Value",
         "orientation": "h",
         "text": [
          "0.26",
          "0.74"
         ],
         "textposition": "outside",
         "type": "bar",
         "x": [
          0.2619152191903686,
          0.7380847808096315
         ],
         "y": [
          "n_estimators",
          "max_depth"
         ]
        }
       ],
       "layout": {
        "template": {
         "data": {
          "bar": [
           {
            "error_x": {
             "color": "#2a3f5f"
            },
            "error_y": {
             "color": "#2a3f5f"
            },
            "marker": {
             "line": {
              "color": "#E5ECF6",
              "width": 0.5
             },
             "pattern": {
              "fillmode": "overlay",
              "size": 10,
              "solidity": 0.2
             }
            },
            "type": "bar"
           }
          ],
          "barpolar": [
           {
            "marker": {
             "line": {
              "color": "#E5ECF6",
              "width": 0.5
             },
             "pattern": {
              "fillmode": "overlay",
              "size": 10,
              "solidity": 0.2
             }
            },
            "type": "barpolar"
           }
          ],
          "carpet": [
           {
            "aaxis": {
             "endlinecolor": "#2a3f5f",
             "gridcolor": "white",
             "linecolor": "white",
             "minorgridcolor": "white",
             "startlinecolor": "#2a3f5f"
            },
            "baxis": {
             "endlinecolor": "#2a3f5f",
             "gridcolor": "white",
             "linecolor": "white",
             "minorgridcolor": "white",
             "startlinecolor": "#2a3f5f"
            },
            "type": "carpet"
           }
          ],
          "choropleth": [
           {
            "colorbar": {
             "outlinewidth": 0,
             "ticks": ""
            },
            "type": "choropleth"
           }
          ],
          "contour": [
           {
            "colorbar": {
             "outlinewidth": 0,
             "ticks": ""
            },
            "colorscale": [
             [
              0,
              "#0d0887"
             ],
             [
              0.1111111111111111,
              "#46039f"
             ],
             [
              0.2222222222222222,
              "#7201a8"
             ],
             [
              0.3333333333333333,
              "#9c179e"
             ],
             [
              0.4444444444444444,
              "#bd3786"
             ],
             [
              0.5555555555555556,
              "#d8576b"
             ],
             [
              0.6666666666666666,
              "#ed7953"
             ],
             [
              0.7777777777777778,
              "#fb9f3a"
             ],
             [
              0.8888888888888888,
              "#fdca26"
             ],
             [
              1,
              "#f0f921"
             ]
            ],
            "type": "contour"
           }
          ],
          "contourcarpet": [
           {
            "colorbar": {
             "outlinewidth": 0,
             "ticks": ""
            },
            "type": "contourcarpet"
           }
          ],
          "heatmap": [
           {
            "colorbar": {
             "outlinewidth": 0,
             "ticks": ""
            },
            "colorscale": [
             [
              0,
              "#0d0887"
             ],
             [
              0.1111111111111111,
              "#46039f"
             ],
             [
              0.2222222222222222,
              "#7201a8"
             ],
             [
              0.3333333333333333,
              "#9c179e"
             ],
             [
              0.4444444444444444,
              "#bd3786"
             ],
             [
              0.5555555555555556,
              "#d8576b"
             ],
             [
              0.6666666666666666,
              "#ed7953"
             ],
             [
              0.7777777777777778,
              "#fb9f3a"
             ],
             [
              0.8888888888888888,
              "#fdca26"
             ],
             [
              1,
              "#f0f921"
             ]
            ],
            "type": "heatmap"
           }
          ],
          "histogram": [
           {
            "marker": {
             "pattern": {
              "fillmode": "overlay",
              "size": 10,
              "solidity": 0.2
             }
            },
            "type": "histogram"
           }
          ],
          "histogram2d": [
           {
            "colorbar": {
             "outlinewidth": 0,
             "ticks": ""
            },
            "colorscale": [
             [
              0,
              "#0d0887"
             ],
             [
              0.1111111111111111,
              "#46039f"
             ],
             [
              0.2222222222222222,
              "#7201a8"
             ],
             [
              0.3333333333333333,
              "#9c179e"
             ],
             [
              0.4444444444444444,
              "#bd3786"
             ],
             [
              0.5555555555555556,
              "#d8576b"
             ],
             [
              0.6666666666666666,
              "#ed7953"
             ],
             [
              0.7777777777777778,
              "#fb9f3a"
             ],
             [
              0.8888888888888888,
              "#fdca26"
             ],
             [
              1,
              "#f0f921"
             ]
            ],
            "type": "histogram2d"
           }
          ],
          "histogram2dcontour": [
           {
            "colorbar": {
             "outlinewidth": 0,
             "ticks": ""
            },
            "colorscale": [
             [
              0,
              "#0d0887"
             ],
             [
              0.1111111111111111,
              "#46039f"
             ],
             [
              0.2222222222222222,
              "#7201a8"
             ],
             [
              0.3333333333333333,
              "#9c179e"
             ],
             [
              0.4444444444444444,
              "#bd3786"
             ],
             [
              0.5555555555555556,
              "#d8576b"
             ],
             [
              0.6666666666666666,
              "#ed7953"
             ],
             [
              0.7777777777777778,
              "#fb9f3a"
             ],
             [
              0.8888888888888888,
              "#fdca26"
             ],
             [
              1,
              "#f0f921"
             ]
            ],
            "type": "histogram2dcontour"
           }
          ],
          "mesh3d": [
           {
            "colorbar": {
             "outlinewidth": 0,
             "ticks": ""
            },
            "type": "mesh3d"
           }
          ],
          "parcoords": [
           {
            "line": {
             "colorbar": {
              "outlinewidth": 0,
              "ticks": ""
             }
            },
            "type": "parcoords"
           }
          ],
          "pie": [
           {
            "automargin": true,
            "type": "pie"
           }
          ],
          "scatter": [
           {
            "fillpattern": {
             "fillmode": "overlay",
             "size": 10,
             "solidity": 0.2
            },
            "type": "scatter"
           }
          ],
          "scatter3d": [
           {
            "line": {
             "colorbar": {
              "outlinewidth": 0,
              "ticks": ""
             }
            },
            "marker": {
             "colorbar": {
              "outlinewidth": 0,
              "ticks": ""
             }
            },
            "type": "scatter3d"
           }
          ],
          "scattercarpet": [
           {
            "marker": {
             "colorbar": {
              "outlinewidth": 0,
              "ticks": ""
             }
            },
            "type": "scattercarpet"
           }
          ],
          "scattergeo": [
           {
            "marker": {
             "colorbar": {
              "outlinewidth": 0,
              "ticks": ""
             }
            },
            "type": "scattergeo"
           }
          ],
          "scattergl": [
           {
            "marker": {
             "colorbar": {
              "outlinewidth": 0,
              "ticks": ""
             }
            },
            "type": "scattergl"
           }
          ],
          "scattermap": [
           {
            "marker": {
             "colorbar": {
              "outlinewidth": 0,
              "ticks": ""
             }
            },
            "type": "scattermap"
           }
          ],
          "scattermapbox": [
           {
            "marker": {
             "colorbar": {
              "outlinewidth": 0,
              "ticks": ""
             }
            },
            "type": "scattermapbox"
           }
          ],
          "scatterpolar": [
           {
            "marker": {
             "colorbar": {
              "outlinewidth": 0,
              "ticks": ""
             }
            },
            "type": "scatterpolar"
           }
          ],
          "scatterpolargl": [
           {
            "marker": {
             "colorbar": {
              "outlinewidth": 0,
              "ticks": ""
             }
            },
            "type": "scatterpolargl"
           }
          ],
          "scatterternary": [
           {
            "marker": {
             "colorbar": {
              "outlinewidth": 0,
              "ticks": ""
             }
            },
            "type": "scatterternary"
           }
          ],
          "surface": [
           {
            "colorbar": {
             "outlinewidth": 0,
             "ticks": ""
            },
            "colorscale": [
             [
              0,
              "#0d0887"
             ],
             [
              0.1111111111111111,
              "#46039f"
             ],
             [
              0.2222222222222222,
              "#7201a8"
             ],
             [
              0.3333333333333333,
              "#9c179e"
             ],
             [
              0.4444444444444444,
              "#bd3786"
             ],
             [
              0.5555555555555556,
              "#d8576b"
             ],
             [
              0.6666666666666666,
              "#ed7953"
             ],
             [
              0.7777777777777778,
              "#fb9f3a"
             ],
             [
              0.8888888888888888,
              "#fdca26"
             ],
             [
              1,
              "#f0f921"
             ]
            ],
            "type": "surface"
           }
          ],
          "table": [
           {
            "cells": {
             "fill": {
              "color": "#EBF0F8"
             },
             "line": {
              "color": "white"
             }
            },
            "header": {
             "fill": {
              "color": "#C8D4E3"
             },
             "line": {
              "color": "white"
             }
            },
            "type": "table"
           }
          ]
         },
         "layout": {
          "annotationdefaults": {
           "arrowcolor": "#2a3f5f",
           "arrowhead": 0,
           "arrowwidth": 1
          },
          "autotypenumbers": "strict",
          "coloraxis": {
           "colorbar": {
            "outlinewidth": 0,
            "ticks": ""
           }
          },
          "colorscale": {
           "diverging": [
            [
             0,
             "#8e0152"
            ],
            [
             0.1,
             "#c51b7d"
            ],
            [
             0.2,
             "#de77ae"
            ],
            [
             0.3,
             "#f1b6da"
            ],
            [
             0.4,
             "#fde0ef"
            ],
            [
             0.5,
             "#f7f7f7"
            ],
            [
             0.6,
             "#e6f5d0"
            ],
            [
             0.7,
             "#b8e186"
            ],
            [
             0.8,
             "#7fbc41"
            ],
            [
             0.9,
             "#4d9221"
            ],
            [
             1,
             "#276419"
            ]
           ],
           "sequential": [
            [
             0,
             "#0d0887"
            ],
            [
             0.1111111111111111,
             "#46039f"
            ],
            [
             0.2222222222222222,
             "#7201a8"
            ],
            [
             0.3333333333333333,
             "#9c179e"
            ],
            [
             0.4444444444444444,
             "#bd3786"
            ],
            [
             0.5555555555555556,
             "#d8576b"
            ],
            [
             0.6666666666666666,
             "#ed7953"
            ],
            [
             0.7777777777777778,
             "#fb9f3a"
            ],
            [
             0.8888888888888888,
             "#fdca26"
            ],
            [
             1,
             "#f0f921"
            ]
           ],
           "sequentialminus": [
            [
             0,
             "#0d0887"
            ],
            [
             0.1111111111111111,
             "#46039f"
            ],
            [
             0.2222222222222222,
             "#7201a8"
            ],
            [
             0.3333333333333333,
             "#9c179e"
            ],
            [
             0.4444444444444444,
             "#bd3786"
            ],
            [
             0.5555555555555556,
             "#d8576b"
            ],
            [
             0.6666666666666666,
             "#ed7953"
            ],
            [
             0.7777777777777778,
             "#fb9f3a"
            ],
            [
             0.8888888888888888,
             "#fdca26"
            ],
            [
             1,
             "#f0f921"
            ]
           ]
          },
          "colorway": [
           "#636efa",
           "#EF553B",
           "#00cc96",
           "#ab63fa",
           "#FFA15A",
           "#19d3f3",
           "#FF6692",
           "#B6E880",
           "#FF97FF",
           "#FECB52"
          ],
          "font": {
           "color": "#2a3f5f"
          },
          "geo": {
           "bgcolor": "white",
           "lakecolor": "white",
           "landcolor": "#E5ECF6",
           "showlakes": true,
           "showland": true,
           "subunitcolor": "white"
          },
          "hoverlabel": {
           "align": "left"
          },
          "hovermode": "closest",
          "mapbox": {
           "style": "light"
          },
          "paper_bgcolor": "white",
          "plot_bgcolor": "#E5ECF6",
          "polar": {
           "angularaxis": {
            "gridcolor": "white",
            "linecolor": "white",
            "ticks": ""
           },
           "bgcolor": "#E5ECF6",
           "radialaxis": {
            "gridcolor": "white",
            "linecolor": "white",
            "ticks": ""
           }
          },
          "scene": {
           "xaxis": {
            "backgroundcolor": "#E5ECF6",
            "gridcolor": "white",
            "gridwidth": 2,
            "linecolor": "white",
            "showbackground": true,
            "ticks": "",
            "zerolinecolor": "white"
           },
           "yaxis": {
            "backgroundcolor": "#E5ECF6",
            "gridcolor": "white",
            "gridwidth": 2,
            "linecolor": "white",
            "showbackground": true,
            "ticks": "",
            "zerolinecolor": "white"
           },
           "zaxis": {
            "backgroundcolor": "#E5ECF6",
            "gridcolor": "white",
            "gridwidth": 2,
            "linecolor": "white",
            "showbackground": true,
            "ticks": "",
            "zerolinecolor": "white"
           }
          },
          "shapedefaults": {
           "line": {
            "color": "#2a3f5f"
           }
          },
          "ternary": {
           "aaxis": {
            "gridcolor": "white",
            "linecolor": "white",
            "ticks": ""
           },
           "baxis": {
            "gridcolor": "white",
            "linecolor": "white",
            "ticks": ""
           },
           "bgcolor": "#E5ECF6",
           "caxis": {
            "gridcolor": "white",
            "linecolor": "white",
            "ticks": ""
           }
          },
          "title": {
           "x": 0.05
          },
          "xaxis": {
           "automargin": true,
           "gridcolor": "white",
           "linecolor": "white",
           "ticks": "",
           "title": {
            "standoff": 15
           },
           "zerolinecolor": "white",
           "zerolinewidth": 2
          },
          "yaxis": {
           "automargin": true,
           "gridcolor": "white",
           "linecolor": "white",
           "ticks": "",
           "title": {
            "standoff": 15
           },
           "zerolinecolor": "white",
           "zerolinewidth": 2
          }
         }
        },
        "title": {
         "text": "Hyperparameter Importances"
        },
        "xaxis": {
         "title": {
          "text": "Hyperparameter Importance"
         }
        },
        "yaxis": {
         "title": {
          "text": "Hyperparameter"
         }
        }
       }
      }
     },
     "metadata": {},
     "output_type": "display_data"
    }
   ],
   "source": [
    "# 5. importance plot\n",
    "plot_param_importances(study).show()"
   ]
  },
  {
   "cell_type": "markdown",
   "id": "520f2994",
   "metadata": {},
   "source": [
    "**20.02 Define by run**"
   ]
  },
  {
   "cell_type": "markdown",
   "id": "57a54780",
   "metadata": {},
   "source": [
    "* Used to create dynamic search spaces\n",
    "  * Helps to decide which algorithm is the best, and what are its best parameters by creating dynamic search spaces.\n",
    "  * Here we tune the algorithm itself as a hyperparameter. [SVM, XGBoost, Random Forest, Linear Regression].\n",
    "  * Based on the algorithm selected we can create search spaces.[SS1, SS2, SS3, SS4]."
   ]
  },
  {
   "cell_type": "code",
   "execution_count": 20,
   "id": "ff06fe8b",
   "metadata": {},
   "outputs": [],
   "source": [
    "from sklearn.ensemble import RandomForestClassifier, GradientBoostingClassifier\n",
    "from sklearn.svm import SVC\n",
    "\n",
    "# define the objective function\n",
    "def objective(trial:optuna.trial):\n",
    "    # choose the algorithm the algorithm to tune\n",
    "    classifier_name = trial.suggest_categorical('classifier',['SVM','RandomForest','GradientBoosting'])\n",
    "    random_seed = 14\n",
    "    if classifier_name == 'SVM':\n",
    "        # SVM hyperparams\n",
    "        c = trial.suggest_float('C',0.1,100,log=True)\n",
    "        kernel = trial.suggest_categorical('kernel', ['linear','rbf','poly','sigmoid'])\n",
    "        gamma = trial.suggest_categorical('gamma',['scale','auto'])\n",
    "        model = SVC(C = c, kernel = kernel, gamma = gamma, random_state=random_seed)\n",
    "\n",
    "    elif classifier_name == 'RandomForest':\n",
    "        n_estimators = trial.suggest_int('n_estimators',50,300)\n",
    "        max_depth = trial.suggest_int('max_depth',3,20)\n",
    "        min_samples_split = trial.suggest_int('min_samples_split',2,10)\n",
    "        min_samples_leaf = trial.suggest_int('min_samples_leaf',1,10)\n",
    "        bootstrap = trial.suggest_categorical('bootstrap',[True,False])\n",
    "        model = RandomForestClassifier(\n",
    "            n_estimators = n_estimators,\n",
    "            max_depth = max_depth,\n",
    "            min_samples_split = min_samples_split,\n",
    "            min_samples_leaf = min_samples_leaf,\n",
    "            bootstrap = bootstrap,\n",
    "            random_state = random_seed\n",
    "        )\n",
    "    elif classifier_name == 'GradientBoosting':\n",
    "        # gradient boosting hyperparameters\n",
    "        n_estimators = trial.suggest_int('n_estimators',50,300)\n",
    "        learning_rate = trial.suggest_float('learning_rate',0.01,0.3,log = True)\n",
    "        max_depth = trial.suggest_int('max_depth',3,20)\n",
    "        min_samples_split = trial.suggest_int('min_samples_split',2,10)\n",
    "        min_samples_leaf = trial.suggest_int('min_samples_leaf',1,10)\n",
    "\n",
    "        model = GradientBoostingClassifier(\n",
    "            n_estimators = n_estimators,\n",
    "            learning_rate = learning_rate,\n",
    "            max_depth = max_depth,\n",
    "            min_samples_split = min_samples_split,\n",
    "            min_samples_leaf = min_samples_leaf,\n",
    "            random_state = random_seed\n",
    "        )\n",
    "    \n",
    "    score = cross_val_score(model, X_train, y_train, cv = 3, scoring = 'accuracy').mean()\n",
    "    return score"
   ]
  },
  {
   "cell_type": "code",
   "execution_count": 21,
   "id": "9d1ded5e",
   "metadata": {},
   "outputs": [
    {
     "name": "stderr",
     "output_type": "stream",
     "text": [
      "[I 2025-05-28 20:54:40,651] A new study created in memory with name: no-name-fdbb65bd-c956-471f-911e-c9f4096f3045\n",
      "[I 2025-05-28 20:54:40,891] Trial 0 finished with value: 0.7709497206703911 and parameters: {'classifier': 'RandomForest', 'n_estimators': 66, 'max_depth': 7, 'min_samples_split': 9, 'min_samples_leaf': 3, 'bootstrap': True}. Best is trial 0 with value: 0.7709497206703911.\n",
      "[I 2025-05-28 20:54:40,918] Trial 1 finished with value: 0.7746741154562384 and parameters: {'classifier': 'SVM', 'C': 0.9655703798413977, 'kernel': 'rbf', 'gamma': 'auto'}. Best is trial 1 with value: 0.7746741154562384.\n",
      "[I 2025-05-28 20:54:42,930] Trial 2 finished with value: 0.7337057728119181 and parameters: {'classifier': 'GradientBoosting', 'n_estimators': 135, 'learning_rate': 0.07951992615888773, 'max_depth': 16, 'min_samples_split': 4, 'min_samples_leaf': 3}. Best is trial 1 with value: 0.7746741154562384.\n",
      "[I 2025-05-28 20:54:46,640] Trial 3 finished with value: 0.7299813780260708 and parameters: {'classifier': 'GradientBoosting', 'n_estimators': 298, 'learning_rate': 0.024362028665103508, 'max_depth': 13, 'min_samples_split': 9, 'min_samples_leaf': 1}. Best is trial 1 with value: 0.7746741154562384.\n",
      "[I 2025-05-28 20:54:46,850] Trial 4 finished with value: 0.7690875232774674 and parameters: {'classifier': 'RandomForest', 'n_estimators': 65, 'max_depth': 18, 'min_samples_split': 7, 'min_samples_leaf': 7, 'bootstrap': True}. Best is trial 1 with value: 0.7746741154562384.\n",
      "[I 2025-05-28 20:54:47,978] Trial 5 finished with value: 0.7448789571694601 and parameters: {'classifier': 'GradientBoosting', 'n_estimators': 159, 'learning_rate': 0.283020971375511, 'max_depth': 15, 'min_samples_split': 10, 'min_samples_leaf': 4}. Best is trial 1 with value: 0.7746741154562384.\n",
      "[I 2025-05-28 20:54:48,002] Trial 6 finished with value: 0.7355679702048418 and parameters: {'classifier': 'SVM', 'C': 31.65482837459463, 'kernel': 'rbf', 'gamma': 'auto'}. Best is trial 1 with value: 0.7746741154562384.\n",
      "[I 2025-05-28 20:54:48,051] Trial 7 finished with value: 0.7858472998137801 and parameters: {'classifier': 'SVM', 'C': 14.988229469430529, 'kernel': 'linear', 'gamma': 'scale'}. Best is trial 7 with value: 0.7858472998137801.\n",
      "[I 2025-05-28 20:54:48,867] Trial 8 finished with value: 0.7523277467411545 and parameters: {'classifier': 'RandomForest', 'n_estimators': 250, 'max_depth': 13, 'min_samples_split': 8, 'min_samples_leaf': 2, 'bootstrap': True}. Best is trial 7 with value: 0.7858472998137801.\n",
      "[I 2025-05-28 20:54:49,378] Trial 9 finished with value: 0.7653631284916201 and parameters: {'classifier': 'RandomForest', 'n_estimators': 173, 'max_depth': 4, 'min_samples_split': 5, 'min_samples_leaf': 7, 'bootstrap': True}. Best is trial 7 with value: 0.7858472998137801.\n",
      "[I 2025-05-28 20:54:49,486] Trial 10 finished with value: 0.7858472998137801 and parameters: {'classifier': 'SVM', 'C': 35.37235799945891, 'kernel': 'linear', 'gamma': 'scale'}. Best is trial 7 with value: 0.7858472998137801.\n",
      "[I 2025-05-28 20:54:49,570] Trial 11 finished with value: 0.7858472998137801 and parameters: {'classifier': 'SVM', 'C': 26.832676509396578, 'kernel': 'linear', 'gamma': 'scale'}. Best is trial 7 with value: 0.7858472998137801.\n",
      "[I 2025-05-28 20:54:49,625] Trial 12 finished with value: 0.7858472998137801 and parameters: {'classifier': 'SVM', 'C': 14.890301608276607, 'kernel': 'linear', 'gamma': 'scale'}. Best is trial 7 with value: 0.7858472998137801.\n",
      "[I 2025-05-28 20:54:49,838] Trial 13 finished with value: 0.7858472998137801 and parameters: {'classifier': 'SVM', 'C': 96.58067787224965, 'kernel': 'linear', 'gamma': 'scale'}. Best is trial 7 with value: 0.7858472998137801.\n",
      "[I 2025-05-28 20:54:49,863] Trial 14 finished with value: 0.7243947858472998 and parameters: {'classifier': 'SVM', 'C': 5.195263749179003, 'kernel': 'poly', 'gamma': 'scale'}. Best is trial 7 with value: 0.7858472998137801.\n",
      "[I 2025-05-28 20:54:49,896] Trial 15 finished with value: 0.7765363128491621 and parameters: {'classifier': 'SVM', 'C': 0.14599995905532015, 'kernel': 'sigmoid', 'gamma': 'scale'}. Best is trial 7 with value: 0.7858472998137801.\n",
      "[I 2025-05-28 20:54:49,934] Trial 16 finished with value: 0.7858472998137801 and parameters: {'classifier': 'SVM', 'C': 4.896367236042292, 'kernel': 'linear', 'gamma': 'scale'}. Best is trial 7 with value: 0.7858472998137801.\n",
      "[I 2025-05-28 20:54:50,048] Trial 17 finished with value: 0.7858472998137801 and parameters: {'classifier': 'SVM', 'C': 44.683405283778924, 'kernel': 'linear', 'gamma': 'scale'}. Best is trial 7 with value: 0.7858472998137801.\n",
      "[I 2025-05-28 20:54:50,073] Trial 18 finished with value: 0.696461824953445 and parameters: {'classifier': 'SVM', 'C': 11.044243845910419, 'kernel': 'sigmoid', 'gamma': 'auto'}. Best is trial 7 with value: 0.7858472998137801.\n",
      "[I 2025-05-28 20:54:51,567] Trial 19 finished with value: 0.7616387337057727 and parameters: {'classifier': 'GradientBoosting', 'n_estimators': 231, 'learning_rate': 0.011262146162282537, 'max_depth': 20, 'min_samples_split': 2, 'min_samples_leaf': 10}. Best is trial 7 with value: 0.7858472998137801.\n",
      "[I 2025-05-28 20:54:51,588] Trial 20 finished with value: 0.7355679702048418 and parameters: {'classifier': 'SVM', 'C': 0.7965576012144757, 'kernel': 'poly', 'gamma': 'scale'}. Best is trial 7 with value: 0.7858472998137801.\n",
      "[I 2025-05-28 20:54:51,661] Trial 21 finished with value: 0.7858472998137801 and parameters: {'classifier': 'SVM', 'C': 23.49418332142844, 'kernel': 'linear', 'gamma': 'scale'}. Best is trial 7 with value: 0.7858472998137801.\n",
      "[I 2025-05-28 20:54:51,823] Trial 22 finished with value: 0.7858472998137801 and parameters: {'classifier': 'SVM', 'C': 56.927662264212245, 'kernel': 'linear', 'gamma': 'scale'}. Best is trial 7 with value: 0.7858472998137801.\n",
      "[I 2025-05-28 20:54:51,872] Trial 23 finished with value: 0.7858472998137801 and parameters: {'classifier': 'SVM', 'C': 11.172853565034547, 'kernel': 'linear', 'gamma': 'scale'}. Best is trial 7 with value: 0.7858472998137801.\n",
      "[I 2025-05-28 20:54:52,109] Trial 24 finished with value: 0.7858472998137801 and parameters: {'classifier': 'SVM', 'C': 99.15103299420598, 'kernel': 'linear', 'gamma': 'scale'}. Best is trial 7 with value: 0.7858472998137801.\n",
      "[I 2025-05-28 20:54:52,174] Trial 25 finished with value: 0.7858472998137801 and parameters: {'classifier': 'SVM', 'C': 21.09786807801033, 'kernel': 'linear', 'gamma': 'scale'}. Best is trial 7 with value: 0.7858472998137801.\n",
      "[I 2025-05-28 20:54:52,202] Trial 26 finished with value: 0.7858472998137801 and parameters: {'classifier': 'SVM', 'C': 2.2099421924468667, 'kernel': 'linear', 'gamma': 'auto'}. Best is trial 7 with value: 0.7858472998137801.\n",
      "[I 2025-05-28 20:54:52,227] Trial 27 finished with value: 0.696461824953445 and parameters: {'classifier': 'SVM', 'C': 7.870251483037876, 'kernel': 'sigmoid', 'gamma': 'scale'}. Best is trial 7 with value: 0.7858472998137801.\n",
      "[I 2025-05-28 20:54:52,562] Trial 28 finished with value: 0.7560521415270017 and parameters: {'classifier': 'RandomForest', 'n_estimators': 113, 'max_depth': 9, 'min_samples_split': 2, 'min_samples_leaf': 10, 'bootstrap': False}. Best is trial 7 with value: 0.7858472998137801.\n",
      "[I 2025-05-28 20:54:53,293] Trial 29 finished with value: 0.74487895716946 and parameters: {'classifier': 'GradientBoosting', 'n_estimators': 215, 'learning_rate': 0.28247623650429493, 'max_depth': 3, 'min_samples_split': 6, 'min_samples_leaf': 6}. Best is trial 7 with value: 0.7858472998137801.\n",
      "[I 2025-05-28 20:54:54,083] Trial 30 finished with value: 0.7672253258845437 and parameters: {'classifier': 'RandomForest', 'n_estimators': 298, 'max_depth': 9, 'min_samples_split': 4, 'min_samples_leaf': 8, 'bootstrap': False}. Best is trial 7 with value: 0.7858472998137801.\n",
      "[I 2025-05-28 20:54:54,147] Trial 31 finished with value: 0.7858472998137801 and parameters: {'classifier': 'SVM', 'C': 17.22927355780208, 'kernel': 'linear', 'gamma': 'scale'}. Best is trial 7 with value: 0.7858472998137801.\n",
      "[I 2025-05-28 20:54:54,273] Trial 32 finished with value: 0.7858472998137801 and parameters: {'classifier': 'SVM', 'C': 43.37453387977708, 'kernel': 'linear', 'gamma': 'scale'}. Best is trial 7 with value: 0.7858472998137801.\n",
      "[I 2025-05-28 20:54:54,334] Trial 33 finished with value: 0.7858472998137801 and parameters: {'classifier': 'SVM', 'C': 14.936303739008652, 'kernel': 'linear', 'gamma': 'scale'}. Best is trial 7 with value: 0.7858472998137801.\n",
      "[I 2025-05-28 20:54:54,417] Trial 34 finished with value: 0.7858472998137801 and parameters: {'classifier': 'SVM', 'C': 27.54431692747039, 'kernel': 'linear', 'gamma': 'scale'}. Best is trial 7 with value: 0.7858472998137801.\n",
      "[I 2025-05-28 20:54:54,446] Trial 35 finished with value: 0.7188081936685289 and parameters: {'classifier': 'SVM', 'C': 7.891353976877604, 'kernel': 'poly', 'gamma': 'scale'}. Best is trial 7 with value: 0.7858472998137801.\n",
      "[I 2025-05-28 20:54:55,094] Trial 36 finished with value: 0.7486033519553073 and parameters: {'classifier': 'GradientBoosting', 'n_estimators': 104, 'learning_rate': 0.07472516607369377, 'max_depth': 6, 'min_samples_split': 3, 'min_samples_leaf': 5}. Best is trial 7 with value: 0.7858472998137801.\n",
      "[I 2025-05-28 20:54:55,122] Trial 37 finished with value: 0.7672253258845437 and parameters: {'classifier': 'SVM', 'C': 2.6203535964214364, 'kernel': 'rbf', 'gamma': 'scale'}. Best is trial 7 with value: 0.7858472998137801.\n",
      "[I 2025-05-28 20:54:56,509] Trial 38 finished with value: 0.7467411545623835 and parameters: {'classifier': 'GradientBoosting', 'n_estimators': 203, 'learning_rate': 0.03453605560711291, 'max_depth': 10, 'min_samples_split': 6, 'min_samples_leaf': 9}. Best is trial 7 with value: 0.7858472998137801.\n",
      "[I 2025-05-28 20:54:57,230] Trial 39 finished with value: 0.7635009310986964 and parameters: {'classifier': 'RandomForest', 'n_estimators': 246, 'max_depth': 20, 'min_samples_split': 10, 'min_samples_leaf': 1, 'bootstrap': False}. Best is trial 7 with value: 0.7858472998137801.\n",
      "[I 2025-05-28 20:54:57,364] Trial 40 finished with value: 0.7858472998137801 and parameters: {'classifier': 'SVM', 'C': 48.855838291471514, 'kernel': 'linear', 'gamma': 'scale'}. Best is trial 7 with value: 0.7858472998137801.\n",
      "[I 2025-05-28 20:54:57,564] Trial 41 finished with value: 0.7858472998137801 and parameters: {'classifier': 'SVM', 'C': 79.16651382442883, 'kernel': 'linear', 'gamma': 'scale'}. Best is trial 7 with value: 0.7858472998137801.\n",
      "[I 2025-05-28 20:54:57,674] Trial 42 finished with value: 0.7858472998137801 and parameters: {'classifier': 'SVM', 'C': 33.07850195497119, 'kernel': 'linear', 'gamma': 'scale'}. Best is trial 7 with value: 0.7858472998137801.\n",
      "[I 2025-05-28 20:54:57,887] Trial 43 finished with value: 0.7858472998137801 and parameters: {'classifier': 'SVM', 'C': 70.4365188062803, 'kernel': 'linear', 'gamma': 'scale'}. Best is trial 7 with value: 0.7858472998137801.\n",
      "[I 2025-05-28 20:54:58,143] Trial 44 finished with value: 0.7858472998137801 and parameters: {'classifier': 'SVM', 'C': 98.76326675060513, 'kernel': 'linear', 'gamma': 'scale'}. Best is trial 7 with value: 0.7858472998137801.\n",
      "[I 2025-05-28 20:54:58,173] Trial 45 finished with value: 0.756052141527002 and parameters: {'classifier': 'SVM', 'C': 14.621787254249265, 'kernel': 'rbf', 'gamma': 'auto'}. Best is trial 7 with value: 0.7858472998137801.\n",
      "[I 2025-05-28 20:54:58,256] Trial 46 finished with value: 0.7858472998137801 and parameters: {'classifier': 'SVM', 'C': 26.967933469970003, 'kernel': 'linear', 'gamma': 'scale'}. Best is trial 7 with value: 0.7858472998137801.\n",
      "[I 2025-05-28 20:54:58,419] Trial 47 finished with value: 0.7728119180633147 and parameters: {'classifier': 'RandomForest', 'n_estimators': 53, 'max_depth': 6, 'min_samples_split': 7, 'min_samples_leaf': 5, 'bootstrap': False}. Best is trial 7 with value: 0.7858472998137801.\n",
      "[I 2025-05-28 20:54:58,454] Trial 48 finished with value: 0.7374301675977654 and parameters: {'classifier': 'SVM', 'C': 34.47320343832974, 'kernel': 'rbf', 'gamma': 'auto'}. Best is trial 7 with value: 0.7858472998137801.\n",
      "[I 2025-05-28 20:55:00,379] Trial 49 finished with value: 0.7635009310986964 and parameters: {'classifier': 'GradientBoosting', 'n_estimators': 270, 'learning_rate': 0.011335358040115921, 'max_depth': 12, 'min_samples_split': 4, 'min_samples_leaf': 8}. Best is trial 7 with value: 0.7858472998137801.\n",
      "[I 2025-05-28 20:55:00,558] Trial 50 finished with value: 0.7858472998137801 and parameters: {'classifier': 'SVM', 'C': 61.09238186511434, 'kernel': 'linear', 'gamma': 'scale'}. Best is trial 7 with value: 0.7858472998137801.\n",
      "[I 2025-05-28 20:55:00,593] Trial 51 finished with value: 0.7858472998137801 and parameters: {'classifier': 'SVM', 'C': 5.6437026377246, 'kernel': 'linear', 'gamma': 'scale'}. Best is trial 7 with value: 0.7858472998137801.\n",
      "[I 2025-05-28 20:55:00,645] Trial 52 finished with value: 0.7858472998137801 and parameters: {'classifier': 'SVM', 'C': 12.154274011878266, 'kernel': 'linear', 'gamma': 'scale'}. Best is trial 7 with value: 0.7858472998137801.\n",
      "[I 2025-05-28 20:55:00,670] Trial 53 finished with value: 0.7281191806331471 and parameters: {'classifier': 'SVM', 'C': 1.2942417799245305, 'kernel': 'poly', 'gamma': 'scale'}. Best is trial 7 with value: 0.7858472998137801.\n",
      "[I 2025-05-28 20:55:00,695] Trial 54 finished with value: 0.7132216014897579 and parameters: {'classifier': 'SVM', 'C': 4.322782717992968, 'kernel': 'sigmoid', 'gamma': 'scale'}. Best is trial 7 with value: 0.7858472998137801.\n",
      "[I 2025-05-28 20:55:00,719] Trial 55 finished with value: 0.7858472998137803 and parameters: {'classifier': 'SVM', 'C': 0.21075970958731083, 'kernel': 'linear', 'gamma': 'auto'}. Best is trial 55 with value: 0.7858472998137803.\n",
      "[I 2025-05-28 20:55:00,740] Trial 56 finished with value: 0.7895716945996275 and parameters: {'classifier': 'SVM', 'C': 0.14410069729785183, 'kernel': 'linear', 'gamma': 'auto'}. Best is trial 56 with value: 0.7895716945996275.\n",
      "[I 2025-05-28 20:55:00,763] Trial 57 finished with value: 0.7877094972067038 and parameters: {'classifier': 'SVM', 'C': 0.10602358862528181, 'kernel': 'linear', 'gamma': 'auto'}. Best is trial 56 with value: 0.7895716945996275.\n",
      "[I 2025-05-28 20:55:00,786] Trial 58 finished with value: 0.7877094972067038 and parameters: {'classifier': 'SVM', 'C': 0.10608257725128127, 'kernel': 'linear', 'gamma': 'auto'}. Best is trial 56 with value: 0.7895716945996275.\n",
      "[I 2025-05-28 20:55:00,808] Trial 59 finished with value: 0.7877094972067038 and parameters: {'classifier': 'SVM', 'C': 0.10099913820762849, 'kernel': 'linear', 'gamma': 'auto'}. Best is trial 56 with value: 0.7895716945996275.\n",
      "[I 2025-05-28 20:55:00,832] Trial 60 finished with value: 0.7877094972067038 and parameters: {'classifier': 'SVM', 'C': 0.10229871572111708, 'kernel': 'linear', 'gamma': 'auto'}. Best is trial 56 with value: 0.7895716945996275.\n",
      "[I 2025-05-28 20:55:00,855] Trial 61 finished with value: 0.7877094972067038 and parameters: {'classifier': 'SVM', 'C': 0.1024737121183829, 'kernel': 'linear', 'gamma': 'auto'}. Best is trial 56 with value: 0.7895716945996275.\n",
      "[I 2025-05-28 20:55:00,879] Trial 62 finished with value: 0.7877094972067038 and parameters: {'classifier': 'SVM', 'C': 0.10300997581780205, 'kernel': 'linear', 'gamma': 'auto'}. Best is trial 56 with value: 0.7895716945996275.\n",
      "[I 2025-05-28 20:55:00,904] Trial 63 finished with value: 0.7895716945996275 and parameters: {'classifier': 'SVM', 'C': 0.11096190555993467, 'kernel': 'linear', 'gamma': 'auto'}. Best is trial 56 with value: 0.7895716945996275.\n",
      "[I 2025-05-28 20:55:00,928] Trial 64 finished with value: 0.7858472998137803 and parameters: {'classifier': 'SVM', 'C': 0.23691763117921028, 'kernel': 'linear', 'gamma': 'auto'}. Best is trial 56 with value: 0.7895716945996275.\n",
      "[I 2025-05-28 20:55:00,954] Trial 65 finished with value: 0.7895716945996275 and parameters: {'classifier': 'SVM', 'C': 0.11083974564066221, 'kernel': 'linear', 'gamma': 'auto'}. Best is trial 56 with value: 0.7895716945996275.\n",
      "[I 2025-05-28 20:55:00,977] Trial 66 finished with value: 0.7877094972067038 and parameters: {'classifier': 'SVM', 'C': 0.18330559791467116, 'kernel': 'linear', 'gamma': 'auto'}. Best is trial 56 with value: 0.7895716945996275.\n",
      "[I 2025-05-28 20:55:01,621] Trial 67 finished with value: 0.7597765363128491 and parameters: {'classifier': 'RandomForest', 'n_estimators': 195, 'max_depth': 16, 'min_samples_split': 8, 'min_samples_leaf': 3, 'bootstrap': True}. Best is trial 56 with value: 0.7895716945996275.\n",
      "[I 2025-05-28 20:55:01,646] Trial 68 finished with value: 0.7839851024208566 and parameters: {'classifier': 'SVM', 'C': 0.41126323551285765, 'kernel': 'linear', 'gamma': 'auto'}. Best is trial 56 with value: 0.7895716945996275.\n",
      "[I 2025-05-28 20:55:01,677] Trial 69 finished with value: 0.7579143389199254 and parameters: {'classifier': 'SVM', 'C': 0.3219149240426482, 'kernel': 'sigmoid', 'gamma': 'auto'}. Best is trial 56 with value: 0.7895716945996275.\n",
      "[I 2025-05-28 20:55:02,420] Trial 70 finished with value: 0.7411545623836125 and parameters: {'classifier': 'GradientBoosting', 'n_estimators': 88, 'learning_rate': 0.15328143076469516, 'max_depth': 11, 'min_samples_split': 5, 'min_samples_leaf': 6}. Best is trial 56 with value: 0.7895716945996275.\n",
      "[I 2025-05-28 20:55:02,446] Trial 71 finished with value: 0.7877094972067038 and parameters: {'classifier': 'SVM', 'C': 0.10768169898277702, 'kernel': 'linear', 'gamma': 'auto'}. Best is trial 56 with value: 0.7895716945996275.\n",
      "[I 2025-05-28 20:55:02,475] Trial 72 finished with value: 0.7895716945996275 and parameters: {'classifier': 'SVM', 'C': 0.144094042688133, 'kernel': 'linear', 'gamma': 'auto'}. Best is trial 56 with value: 0.7895716945996275.\n",
      "[I 2025-05-28 20:55:02,498] Trial 73 finished with value: 0.7895716945996275 and parameters: {'classifier': 'SVM', 'C': 0.14538776851609964, 'kernel': 'linear', 'gamma': 'auto'}. Best is trial 56 with value: 0.7895716945996275.\n",
      "[I 2025-05-28 20:55:02,522] Trial 74 finished with value: 0.7895716945996275 and parameters: {'classifier': 'SVM', 'C': 0.14167116027615823, 'kernel': 'linear', 'gamma': 'auto'}. Best is trial 56 with value: 0.7895716945996275.\n",
      "[I 2025-05-28 20:55:02,544] Trial 75 finished with value: 0.7132216014897579 and parameters: {'classifier': 'SVM', 'C': 0.14824397311089166, 'kernel': 'poly', 'gamma': 'auto'}. Best is trial 56 with value: 0.7895716945996275.\n",
      "[I 2025-05-28 20:55:02,567] Trial 76 finished with value: 0.7877094972067038 and parameters: {'classifier': 'SVM', 'C': 0.15540405102920327, 'kernel': 'linear', 'gamma': 'auto'}. Best is trial 56 with value: 0.7895716945996275.\n",
      "[I 2025-05-28 20:55:02,589] Trial 77 finished with value: 0.7858472998137803 and parameters: {'classifier': 'SVM', 'C': 0.2850633897256038, 'kernel': 'linear', 'gamma': 'auto'}. Best is trial 56 with value: 0.7895716945996275.\n",
      "[I 2025-05-28 20:55:02,612] Trial 78 finished with value: 0.7839851024208566 and parameters: {'classifier': 'SVM', 'C': 0.5053900292406941, 'kernel': 'linear', 'gamma': 'auto'}. Best is trial 56 with value: 0.7895716945996275.\n",
      "[I 2025-05-28 20:55:02,640] Trial 79 finished with value: 0.7486033519553073 and parameters: {'classifier': 'SVM', 'C': 0.1426769765076825, 'kernel': 'rbf', 'gamma': 'auto'}. Best is trial 56 with value: 0.7895716945996275.\n",
      "[I 2025-05-28 20:55:03,058] Trial 80 finished with value: 0.7709497206703911 and parameters: {'classifier': 'RandomForest', 'n_estimators': 144, 'max_depth': 18, 'min_samples_split': 3, 'min_samples_leaf': 4, 'bootstrap': False}. Best is trial 56 with value: 0.7895716945996275.\n",
      "[I 2025-05-28 20:55:03,080] Trial 81 finished with value: 0.7895716945996275 and parameters: {'classifier': 'SVM', 'C': 0.13332281811449612, 'kernel': 'linear', 'gamma': 'auto'}. Best is trial 56 with value: 0.7895716945996275.\n",
      "[I 2025-05-28 20:55:03,104] Trial 82 finished with value: 0.7895716945996275 and parameters: {'classifier': 'SVM', 'C': 0.1358009857051278, 'kernel': 'linear', 'gamma': 'auto'}. Best is trial 56 with value: 0.7895716945996275.\n",
      "[I 2025-05-28 20:55:03,126] Trial 83 finished with value: 0.7877094972067038 and parameters: {'classifier': 'SVM', 'C': 0.17150431694362672, 'kernel': 'linear', 'gamma': 'auto'}. Best is trial 56 with value: 0.7895716945996275.\n",
      "[I 2025-05-28 20:55:03,150] Trial 84 finished with value: 0.7895716945996275 and parameters: {'classifier': 'SVM', 'C': 0.13800250622833724, 'kernel': 'linear', 'gamma': 'auto'}. Best is trial 56 with value: 0.7895716945996275.\n",
      "[I 2025-05-28 20:55:03,173] Trial 85 finished with value: 0.7858472998137803 and parameters: {'classifier': 'SVM', 'C': 0.2373114935767778, 'kernel': 'linear', 'gamma': 'auto'}. Best is trial 56 with value: 0.7895716945996275.\n",
      "[I 2025-05-28 20:55:03,195] Trial 86 finished with value: 0.7895716945996275 and parameters: {'classifier': 'SVM', 'C': 0.1341103324577846, 'kernel': 'linear', 'gamma': 'auto'}. Best is trial 56 with value: 0.7895716945996275.\n",
      "[I 2025-05-28 20:55:04,374] Trial 87 finished with value: 0.7579143389199254 and parameters: {'classifier': 'GradientBoosting', 'n_estimators': 184, 'learning_rate': 0.024277011593946317, 'max_depth': 8, 'min_samples_split': 7, 'min_samples_leaf': 9}. Best is trial 56 with value: 0.7895716945996275.\n",
      "[I 2025-05-28 20:55:04,396] Trial 88 finished with value: 0.7877094972067038 and parameters: {'classifier': 'SVM', 'C': 0.1862236987195744, 'kernel': 'linear', 'gamma': 'auto'}. Best is trial 56 with value: 0.7895716945996275.\n",
      "[I 2025-05-28 20:55:04,419] Trial 89 finished with value: 0.7858472998137803 and parameters: {'classifier': 'SVM', 'C': 0.3039961304722952, 'kernel': 'linear', 'gamma': 'auto'}. Best is trial 56 with value: 0.7895716945996275.\n",
      "[I 2025-05-28 20:55:04,450] Trial 90 finished with value: 0.7746741154562384 and parameters: {'classifier': 'SVM', 'C': 0.1305113879927631, 'kernel': 'sigmoid', 'gamma': 'auto'}. Best is trial 56 with value: 0.7895716945996275.\n",
      "[I 2025-05-28 20:55:04,472] Trial 91 finished with value: 0.7895716945996275 and parameters: {'classifier': 'SVM', 'C': 0.13124850743256372, 'kernel': 'linear', 'gamma': 'auto'}. Best is trial 56 with value: 0.7895716945996275.\n",
      "[I 2025-05-28 20:55:04,495] Trial 92 finished with value: 0.7858472998137803 and parameters: {'classifier': 'SVM', 'C': 0.21796822219590223, 'kernel': 'linear', 'gamma': 'auto'}. Best is trial 56 with value: 0.7895716945996275.\n",
      "[I 2025-05-28 20:55:04,520] Trial 93 finished with value: 0.7895716945996275 and parameters: {'classifier': 'SVM', 'C': 0.14037224765397083, 'kernel': 'linear', 'gamma': 'auto'}. Best is trial 56 with value: 0.7895716945996275.\n",
      "[I 2025-05-28 20:55:04,542] Trial 94 finished with value: 0.7877094972067038 and parameters: {'classifier': 'SVM', 'C': 0.18025701220682272, 'kernel': 'linear', 'gamma': 'auto'}. Best is trial 56 with value: 0.7895716945996275.\n",
      "[I 2025-05-28 20:55:04,564] Trial 95 finished with value: 0.7895716945996275 and parameters: {'classifier': 'SVM', 'C': 0.1317801989648319, 'kernel': 'linear', 'gamma': 'auto'}. Best is trial 56 with value: 0.7895716945996275.\n",
      "[I 2025-05-28 20:55:04,590] Trial 96 finished with value: 0.7858472998137803 and parameters: {'classifier': 'SVM', 'C': 0.24817715752661182, 'kernel': 'linear', 'gamma': 'auto'}. Best is trial 56 with value: 0.7895716945996275.\n",
      "[I 2025-05-28 20:55:04,616] Trial 97 finished with value: 0.7299813780260708 and parameters: {'classifier': 'SVM', 'C': 0.35348765272638094, 'kernel': 'poly', 'gamma': 'auto'}. Best is trial 56 with value: 0.7895716945996275.\n",
      "[I 2025-05-28 20:55:04,641] Trial 98 finished with value: 0.7858472998137803 and parameters: {'classifier': 'SVM', 'C': 0.19512197315866045, 'kernel': 'linear', 'gamma': 'auto'}. Best is trial 56 with value: 0.7895716945996275.\n",
      "[I 2025-05-28 20:55:05,367] Trial 99 finished with value: 0.7765363128491621 and parameters: {'classifier': 'RandomForest', 'n_estimators': 268, 'max_depth': 5, 'min_samples_split': 6, 'min_samples_leaf': 2, 'bootstrap': False}. Best is trial 56 with value: 0.7895716945996275.\n"
     ]
    }
   ],
   "source": [
    "# create a study and optimize it (defualt sampler = TPE)\n",
    "study = optuna.create_study(direction='maximize',sampler = optuna.samplers.TPESampler())\n",
    "study.optimize(objective,n_trials=100)"
   ]
  },
  {
   "cell_type": "code",
   "execution_count": 23,
   "id": "bd0c9e8c",
   "metadata": {},
   "outputs": [
    {
     "name": "stdout",
     "output_type": "stream",
     "text": [
      "Best trial parameters:{'classifier': 'SVM', 'C': 0.14410069729785183, 'kernel': 'linear', 'gamma': 'auto'}\n",
      "Best trial accuracy:0.7895716945996275\n"
     ]
    }
   ],
   "source": [
    "# retrieve the best trial\n",
    "best_trial = study.best_trial\n",
    "print(f'Best trial parameters:{best_trial.params}')\n",
    "print(f'Best trial accuracy:{best_trial.value}')"
   ]
  },
  {
   "cell_type": "code",
   "execution_count": 25,
   "id": "1cf40e42",
   "metadata": {},
   "outputs": [
    {
     "data": {
      "application/vnd.microsoft.datawrangler.viewer.v0+json": {
       "columns": [
        {
         "name": "index",
         "rawType": "int64",
         "type": "integer"
        },
        {
         "name": "number",
         "rawType": "int64",
         "type": "integer"
        },
        {
         "name": "value",
         "rawType": "float64",
         "type": "float"
        },
        {
         "name": "datetime_start",
         "rawType": "datetime64[ns]",
         "type": "datetime"
        },
        {
         "name": "datetime_complete",
         "rawType": "datetime64[ns]",
         "type": "datetime"
        },
        {
         "name": "duration",
         "rawType": "timedelta64[ns]",
         "type": "unknown"
        },
        {
         "name": "params_C",
         "rawType": "float64",
         "type": "float"
        },
        {
         "name": "params_bootstrap",
         "rawType": "object",
         "type": "unknown"
        },
        {
         "name": "params_classifier",
         "rawType": "object",
         "type": "string"
        },
        {
         "name": "params_gamma",
         "rawType": "object",
         "type": "unknown"
        },
        {
         "name": "params_kernel",
         "rawType": "object",
         "type": "unknown"
        },
        {
         "name": "params_learning_rate",
         "rawType": "float64",
         "type": "float"
        },
        {
         "name": "params_max_depth",
         "rawType": "float64",
         "type": "float"
        },
        {
         "name": "params_min_samples_leaf",
         "rawType": "float64",
         "type": "float"
        },
        {
         "name": "params_min_samples_split",
         "rawType": "float64",
         "type": "float"
        },
        {
         "name": "params_n_estimators",
         "rawType": "float64",
         "type": "float"
        },
        {
         "name": "state",
         "rawType": "object",
         "type": "string"
        }
       ],
       "ref": "2f77e25d-af1f-4930-a292-f40be36da7db",
       "rows": [
        [
         "0",
         "0",
         "0.7709497206703911",
         "2025-05-28 20:54:40.652981",
         "2025-05-28 20:54:40.891661",
         "0 days 00:00:00.238680",
         null,
         "True",
         "RandomForest",
         null,
         null,
         null,
         "7.0",
         "3.0",
         "9.0",
         "66.0",
         "COMPLETE"
        ],
        [
         "1",
         "1",
         "0.7746741154562384",
         "2025-05-28 20:54:40.892829",
         "2025-05-28 20:54:40.918074",
         "0 days 00:00:00.025245",
         "0.9655703798413977",
         null,
         "SVM",
         "auto",
         "rbf",
         null,
         null,
         null,
         null,
         null,
         "COMPLETE"
        ],
        [
         "2",
         "2",
         "0.7337057728119181",
         "2025-05-28 20:54:40.920076",
         "2025-05-28 20:54:42.930597",
         "0 days 00:00:02.010521",
         null,
         null,
         "GradientBoosting",
         null,
         null,
         "0.07951992615888773",
         "16.0",
         "3.0",
         "4.0",
         "135.0",
         "COMPLETE"
        ],
        [
         "3",
         "3",
         "0.7299813780260708",
         "2025-05-28 20:54:42.931928",
         "2025-05-28 20:54:46.639761",
         "0 days 00:00:03.707833",
         null,
         null,
         "GradientBoosting",
         null,
         null,
         "0.024362028665103508",
         "13.0",
         "1.0",
         "9.0",
         "298.0",
         "COMPLETE"
        ],
        [
         "4",
         "4",
         "0.7690875232774674",
         "2025-05-28 20:54:46.641307",
         "2025-05-28 20:54:46.850180",
         "0 days 00:00:00.208873",
         null,
         "True",
         "RandomForest",
         null,
         null,
         null,
         "18.0",
         "7.0",
         "7.0",
         "65.0",
         "COMPLETE"
        ],
        [
         "5",
         "5",
         "0.7448789571694601",
         "2025-05-28 20:54:46.851110",
         "2025-05-28 20:54:47.977895",
         "0 days 00:00:01.126785",
         null,
         null,
         "GradientBoosting",
         null,
         null,
         "0.283020971375511",
         "15.0",
         "4.0",
         "10.0",
         "159.0",
         "COMPLETE"
        ],
        [
         "6",
         "6",
         "0.7355679702048418",
         "2025-05-28 20:54:47.978591",
         "2025-05-28 20:54:48.002582",
         "0 days 00:00:00.023991",
         "31.65482837459463",
         null,
         "SVM",
         "auto",
         "rbf",
         null,
         null,
         null,
         null,
         null,
         "COMPLETE"
        ],
        [
         "7",
         "7",
         "0.7858472998137801",
         "2025-05-28 20:54:48.003446",
         "2025-05-28 20:54:48.050993",
         "0 days 00:00:00.047547",
         "14.988229469430529",
         null,
         "SVM",
         "scale",
         "linear",
         null,
         null,
         null,
         null,
         null,
         "COMPLETE"
        ],
        [
         "8",
         "8",
         "0.7523277467411545",
         "2025-05-28 20:54:48.051893",
         "2025-05-28 20:54:48.867252",
         "0 days 00:00:00.815359",
         null,
         "True",
         "RandomForest",
         null,
         null,
         null,
         "13.0",
         "2.0",
         "8.0",
         "250.0",
         "COMPLETE"
        ],
        [
         "9",
         "9",
         "0.7653631284916201",
         "2025-05-28 20:54:48.868187",
         "2025-05-28 20:54:49.378267",
         "0 days 00:00:00.510080",
         null,
         "True",
         "RandomForest",
         null,
         null,
         null,
         "4.0",
         "7.0",
         "5.0",
         "173.0",
         "COMPLETE"
        ],
        [
         "10",
         "10",
         "0.7858472998137801",
         "2025-05-28 20:54:49.379160",
         "2025-05-28 20:54:49.486561",
         "0 days 00:00:00.107401",
         "35.37235799945891",
         null,
         "SVM",
         "scale",
         "linear",
         null,
         null,
         null,
         null,
         null,
         "COMPLETE"
        ],
        [
         "11",
         "11",
         "0.7858472998137801",
         "2025-05-28 20:54:49.487417",
         "2025-05-28 20:54:49.569937",
         "0 days 00:00:00.082520",
         "26.832676509396578",
         null,
         "SVM",
         "scale",
         "linear",
         null,
         null,
         null,
         null,
         null,
         "COMPLETE"
        ],
        [
         "12",
         "12",
         "0.7858472998137801",
         "2025-05-28 20:54:49.570815",
         "2025-05-28 20:54:49.625737",
         "0 days 00:00:00.054922",
         "14.890301608276607",
         null,
         "SVM",
         "scale",
         "linear",
         null,
         null,
         null,
         null,
         null,
         "COMPLETE"
        ],
        [
         "13",
         "13",
         "0.7858472998137801",
         "2025-05-28 20:54:49.626617",
         "2025-05-28 20:54:49.837891",
         "0 days 00:00:00.211274",
         "96.58067787224965",
         null,
         "SVM",
         "scale",
         "linear",
         null,
         null,
         null,
         null,
         null,
         "COMPLETE"
        ],
        [
         "14",
         "14",
         "0.7243947858472998",
         "2025-05-28 20:54:49.838780",
         "2025-05-28 20:54:49.863215",
         "0 days 00:00:00.024435",
         "5.195263749179003",
         null,
         "SVM",
         "scale",
         "poly",
         null,
         null,
         null,
         null,
         null,
         "COMPLETE"
        ],
        [
         "15",
         "15",
         "0.7765363128491621",
         "2025-05-28 20:54:49.864134",
         "2025-05-28 20:54:49.895927",
         "0 days 00:00:00.031793",
         "0.14599995905532015",
         null,
         "SVM",
         "scale",
         "sigmoid",
         null,
         null,
         null,
         null,
         null,
         "COMPLETE"
        ],
        [
         "16",
         "16",
         "0.7858472998137801",
         "2025-05-28 20:54:49.896801",
         "2025-05-28 20:54:49.934354",
         "0 days 00:00:00.037553",
         "4.896367236042292",
         null,
         "SVM",
         "scale",
         "linear",
         null,
         null,
         null,
         null,
         null,
         "COMPLETE"
        ],
        [
         "17",
         "17",
         "0.7858472998137801",
         "2025-05-28 20:54:49.935079",
         "2025-05-28 20:54:50.047800",
         "0 days 00:00:00.112721",
         "44.683405283778924",
         null,
         "SVM",
         "scale",
         "linear",
         null,
         null,
         null,
         null,
         null,
         "COMPLETE"
        ],
        [
         "18",
         "18",
         "0.696461824953445",
         "2025-05-28 20:54:50.049372",
         "2025-05-28 20:54:50.073122",
         "0 days 00:00:00.023750",
         "11.044243845910419",
         null,
         "SVM",
         "auto",
         "sigmoid",
         null,
         null,
         null,
         null,
         null,
         "COMPLETE"
        ],
        [
         "19",
         "19",
         "0.7616387337057727",
         "2025-05-28 20:54:50.073919",
         "2025-05-28 20:54:51.566955",
         "0 days 00:00:01.493036",
         null,
         null,
         "GradientBoosting",
         null,
         null,
         "0.011262146162282537",
         "20.0",
         "10.0",
         "2.0",
         "231.0",
         "COMPLETE"
        ],
        [
         "20",
         "20",
         "0.7355679702048418",
         "2025-05-28 20:54:51.567677",
         "2025-05-28 20:54:51.588438",
         "0 days 00:00:00.020761",
         "0.7965576012144757",
         null,
         "SVM",
         "scale",
         "poly",
         null,
         null,
         null,
         null,
         null,
         "COMPLETE"
        ],
        [
         "21",
         "21",
         "0.7858472998137801",
         "2025-05-28 20:54:51.589297",
         "2025-05-28 20:54:51.661517",
         "0 days 00:00:00.072220",
         "23.49418332142844",
         null,
         "SVM",
         "scale",
         "linear",
         null,
         null,
         null,
         null,
         null,
         "COMPLETE"
        ],
        [
         "22",
         "22",
         "0.7858472998137801",
         "2025-05-28 20:54:51.662726",
         "2025-05-28 20:54:51.823600",
         "0 days 00:00:00.160874",
         "56.927662264212245",
         null,
         "SVM",
         "scale",
         "linear",
         null,
         null,
         null,
         null,
         null,
         "COMPLETE"
        ],
        [
         "23",
         "23",
         "0.7858472998137801",
         "2025-05-28 20:54:51.824478",
         "2025-05-28 20:54:51.872073",
         "0 days 00:00:00.047595",
         "11.172853565034547",
         null,
         "SVM",
         "scale",
         "linear",
         null,
         null,
         null,
         null,
         null,
         "COMPLETE"
        ],
        [
         "24",
         "24",
         "0.7858472998137801",
         "2025-05-28 20:54:51.872854",
         "2025-05-28 20:54:52.109583",
         "0 days 00:00:00.236729",
         "99.15103299420598",
         null,
         "SVM",
         "scale",
         "linear",
         null,
         null,
         null,
         null,
         null,
         "COMPLETE"
        ],
        [
         "25",
         "25",
         "0.7858472998137801",
         "2025-05-28 20:54:52.110454",
         "2025-05-28 20:54:52.174367",
         "0 days 00:00:00.063913",
         "21.09786807801033",
         null,
         "SVM",
         "scale",
         "linear",
         null,
         null,
         null,
         null,
         null,
         "COMPLETE"
        ],
        [
         "26",
         "26",
         "0.7858472998137801",
         "2025-05-28 20:54:52.175227",
         "2025-05-28 20:54:52.202333",
         "0 days 00:00:00.027106",
         "2.2099421924468667",
         null,
         "SVM",
         "auto",
         "linear",
         null,
         null,
         null,
         null,
         null,
         "COMPLETE"
        ],
        [
         "27",
         "27",
         "0.696461824953445",
         "2025-05-28 20:54:52.203605",
         "2025-05-28 20:54:52.227631",
         "0 days 00:00:00.024026",
         "7.870251483037876",
         null,
         "SVM",
         "scale",
         "sigmoid",
         null,
         null,
         null,
         null,
         null,
         "COMPLETE"
        ],
        [
         "28",
         "28",
         "0.7560521415270017",
         "2025-05-28 20:54:52.228497",
         "2025-05-28 20:54:52.562309",
         "0 days 00:00:00.333812",
         null,
         "False",
         "RandomForest",
         null,
         null,
         null,
         "9.0",
         "10.0",
         "2.0",
         "113.0",
         "COMPLETE"
        ],
        [
         "29",
         "29",
         "0.74487895716946",
         "2025-05-28 20:54:52.563222",
         "2025-05-28 20:54:53.293050",
         "0 days 00:00:00.729828",
         null,
         null,
         "GradientBoosting",
         null,
         null,
         "0.28247623650429493",
         "3.0",
         "6.0",
         "6.0",
         "215.0",
         "COMPLETE"
        ],
        [
         "30",
         "30",
         "0.7672253258845437",
         "2025-05-28 20:54:53.293976",
         "2025-05-28 20:54:54.083330",
         "0 days 00:00:00.789354",
         null,
         "False",
         "RandomForest",
         null,
         null,
         null,
         "9.0",
         "8.0",
         "4.0",
         "298.0",
         "COMPLETE"
        ],
        [
         "31",
         "31",
         "0.7858472998137801",
         "2025-05-28 20:54:54.084177",
         "2025-05-28 20:54:54.146840",
         "0 days 00:00:00.062663",
         "17.22927355780208",
         null,
         "SVM",
         "scale",
         "linear",
         null,
         null,
         null,
         null,
         null,
         "COMPLETE"
        ],
        [
         "32",
         "32",
         "0.7858472998137801",
         "2025-05-28 20:54:54.147886",
         "2025-05-28 20:54:54.273701",
         "0 days 00:00:00.125815",
         "43.37453387977708",
         null,
         "SVM",
         "scale",
         "linear",
         null,
         null,
         null,
         null,
         null,
         "COMPLETE"
        ],
        [
         "33",
         "33",
         "0.7858472998137801",
         "2025-05-28 20:54:54.274592",
         "2025-05-28 20:54:54.334036",
         "0 days 00:00:00.059444",
         "14.936303739008652",
         null,
         "SVM",
         "scale",
         "linear",
         null,
         null,
         null,
         null,
         null,
         "COMPLETE"
        ],
        [
         "34",
         "34",
         "0.7858472998137801",
         "2025-05-28 20:54:54.334992",
         "2025-05-28 20:54:54.417550",
         "0 days 00:00:00.082558",
         "27.54431692747039",
         null,
         "SVM",
         "scale",
         "linear",
         null,
         null,
         null,
         null,
         null,
         "COMPLETE"
        ],
        [
         "35",
         "35",
         "0.7188081936685289",
         "2025-05-28 20:54:54.418254",
         "2025-05-28 20:54:54.446726",
         "0 days 00:00:00.028472",
         "7.891353976877604",
         null,
         "SVM",
         "scale",
         "poly",
         null,
         null,
         null,
         null,
         null,
         "COMPLETE"
        ],
        [
         "36",
         "36",
         "0.7486033519553073",
         "2025-05-28 20:54:54.447636",
         "2025-05-28 20:54:55.093864",
         "0 days 00:00:00.646228",
         null,
         null,
         "GradientBoosting",
         null,
         null,
         "0.07472516607369377",
         "6.0",
         "5.0",
         "3.0",
         "104.0",
         "COMPLETE"
        ],
        [
         "37",
         "37",
         "0.7672253258845437",
         "2025-05-28 20:54:55.094787",
         "2025-05-28 20:54:55.122129",
         "0 days 00:00:00.027342",
         "2.6203535964214364",
         null,
         "SVM",
         "scale",
         "rbf",
         null,
         null,
         null,
         null,
         null,
         "COMPLETE"
        ],
        [
         "38",
         "38",
         "0.7467411545623835",
         "2025-05-28 20:54:55.123159",
         "2025-05-28 20:54:56.509449",
         "0 days 00:00:01.386290",
         null,
         null,
         "GradientBoosting",
         null,
         null,
         "0.03453605560711291",
         "10.0",
         "9.0",
         "6.0",
         "203.0",
         "COMPLETE"
        ],
        [
         "39",
         "39",
         "0.7635009310986964",
         "2025-05-28 20:54:56.510179",
         "2025-05-28 20:54:57.230181",
         "0 days 00:00:00.720002",
         null,
         "False",
         "RandomForest",
         null,
         null,
         null,
         "20.0",
         "1.0",
         "10.0",
         "246.0",
         "COMPLETE"
        ],
        [
         "40",
         "40",
         "0.7858472998137801",
         "2025-05-28 20:54:57.231080",
         "2025-05-28 20:54:57.363848",
         "0 days 00:00:00.132768",
         "48.855838291471514",
         null,
         "SVM",
         "scale",
         "linear",
         null,
         null,
         null,
         null,
         null,
         "COMPLETE"
        ],
        [
         "41",
         "41",
         "0.7858472998137801",
         "2025-05-28 20:54:57.364737",
         "2025-05-28 20:54:57.564624",
         "0 days 00:00:00.199887",
         "79.16651382442883",
         null,
         "SVM",
         "scale",
         "linear",
         null,
         null,
         null,
         null,
         null,
         "COMPLETE"
        ],
        [
         "42",
         "42",
         "0.7858472998137801",
         "2025-05-28 20:54:57.566258",
         "2025-05-28 20:54:57.674149",
         "0 days 00:00:00.107891",
         "33.07850195497119",
         null,
         "SVM",
         "scale",
         "linear",
         null,
         null,
         null,
         null,
         null,
         "COMPLETE"
        ],
        [
         "43",
         "43",
         "0.7858472998137801",
         "2025-05-28 20:54:57.675557",
         "2025-05-28 20:54:57.887489",
         "0 days 00:00:00.211932",
         "70.4365188062803",
         null,
         "SVM",
         "scale",
         "linear",
         null,
         null,
         null,
         null,
         null,
         "COMPLETE"
        ],
        [
         "44",
         "44",
         "0.7858472998137801",
         "2025-05-28 20:54:57.888351",
         "2025-05-28 20:54:58.143559",
         "0 days 00:00:00.255208",
         "98.76326675060513",
         null,
         "SVM",
         "scale",
         "linear",
         null,
         null,
         null,
         null,
         null,
         "COMPLETE"
        ],
        [
         "45",
         "45",
         "0.756052141527002",
         "2025-05-28 20:54:58.144754",
         "2025-05-28 20:54:58.173750",
         "0 days 00:00:00.028996",
         "14.621787254249265",
         null,
         "SVM",
         "auto",
         "rbf",
         null,
         null,
         null,
         null,
         null,
         "COMPLETE"
        ],
        [
         "46",
         "46",
         "0.7858472998137801",
         "2025-05-28 20:54:58.174633",
         "2025-05-28 20:54:58.256521",
         "0 days 00:00:00.081888",
         "26.967933469970003",
         null,
         "SVM",
         "scale",
         "linear",
         null,
         null,
         null,
         null,
         null,
         "COMPLETE"
        ],
        [
         "47",
         "47",
         "0.7728119180633147",
         "2025-05-28 20:54:58.257390",
         "2025-05-28 20:54:58.419687",
         "0 days 00:00:00.162297",
         null,
         "False",
         "RandomForest",
         null,
         null,
         null,
         "6.0",
         "5.0",
         "7.0",
         "53.0",
         "COMPLETE"
        ],
        [
         "48",
         "48",
         "0.7374301675977654",
         "2025-05-28 20:54:58.420591",
         "2025-05-28 20:54:58.454318",
         "0 days 00:00:00.033727",
         "34.47320343832974",
         null,
         "SVM",
         "auto",
         "rbf",
         null,
         null,
         null,
         null,
         null,
         "COMPLETE"
        ],
        [
         "49",
         "49",
         "0.7635009310986964",
         "2025-05-28 20:54:58.455195",
         "2025-05-28 20:55:00.378944",
         "0 days 00:00:01.923749",
         null,
         null,
         "GradientBoosting",
         null,
         null,
         "0.011335358040115921",
         "12.0",
         "8.0",
         "4.0",
         "270.0",
         "COMPLETE"
        ]
       ],
       "shape": {
        "columns": 16,
        "rows": 100
       }
      },
      "text/html": [
       "<div>\n",
       "<style scoped>\n",
       "    .dataframe tbody tr th:only-of-type {\n",
       "        vertical-align: middle;\n",
       "    }\n",
       "\n",
       "    .dataframe tbody tr th {\n",
       "        vertical-align: top;\n",
       "    }\n",
       "\n",
       "    .dataframe thead th {\n",
       "        text-align: right;\n",
       "    }\n",
       "</style>\n",
       "<table border=\"1\" class=\"dataframe\">\n",
       "  <thead>\n",
       "    <tr style=\"text-align: right;\">\n",
       "      <th></th>\n",
       "      <th>number</th>\n",
       "      <th>value</th>\n",
       "      <th>datetime_start</th>\n",
       "      <th>datetime_complete</th>\n",
       "      <th>duration</th>\n",
       "      <th>params_C</th>\n",
       "      <th>params_bootstrap</th>\n",
       "      <th>params_classifier</th>\n",
       "      <th>params_gamma</th>\n",
       "      <th>params_kernel</th>\n",
       "      <th>params_learning_rate</th>\n",
       "      <th>params_max_depth</th>\n",
       "      <th>params_min_samples_leaf</th>\n",
       "      <th>params_min_samples_split</th>\n",
       "      <th>params_n_estimators</th>\n",
       "      <th>state</th>\n",
       "    </tr>\n",
       "  </thead>\n",
       "  <tbody>\n",
       "    <tr>\n",
       "      <th>0</th>\n",
       "      <td>0</td>\n",
       "      <td>0.770950</td>\n",
       "      <td>2025-05-28 20:54:40.652981</td>\n",
       "      <td>2025-05-28 20:54:40.891661</td>\n",
       "      <td>0 days 00:00:00.238680</td>\n",
       "      <td>NaN</td>\n",
       "      <td>True</td>\n",
       "      <td>RandomForest</td>\n",
       "      <td>NaN</td>\n",
       "      <td>NaN</td>\n",
       "      <td>NaN</td>\n",
       "      <td>7.0</td>\n",
       "      <td>3.0</td>\n",
       "      <td>9.0</td>\n",
       "      <td>66.0</td>\n",
       "      <td>COMPLETE</td>\n",
       "    </tr>\n",
       "    <tr>\n",
       "      <th>1</th>\n",
       "      <td>1</td>\n",
       "      <td>0.774674</td>\n",
       "      <td>2025-05-28 20:54:40.892829</td>\n",
       "      <td>2025-05-28 20:54:40.918074</td>\n",
       "      <td>0 days 00:00:00.025245</td>\n",
       "      <td>0.965570</td>\n",
       "      <td>NaN</td>\n",
       "      <td>SVM</td>\n",
       "      <td>auto</td>\n",
       "      <td>rbf</td>\n",
       "      <td>NaN</td>\n",
       "      <td>NaN</td>\n",
       "      <td>NaN</td>\n",
       "      <td>NaN</td>\n",
       "      <td>NaN</td>\n",
       "      <td>COMPLETE</td>\n",
       "    </tr>\n",
       "    <tr>\n",
       "      <th>2</th>\n",
       "      <td>2</td>\n",
       "      <td>0.733706</td>\n",
       "      <td>2025-05-28 20:54:40.920076</td>\n",
       "      <td>2025-05-28 20:54:42.930597</td>\n",
       "      <td>0 days 00:00:02.010521</td>\n",
       "      <td>NaN</td>\n",
       "      <td>NaN</td>\n",
       "      <td>GradientBoosting</td>\n",
       "      <td>NaN</td>\n",
       "      <td>NaN</td>\n",
       "      <td>0.079520</td>\n",
       "      <td>16.0</td>\n",
       "      <td>3.0</td>\n",
       "      <td>4.0</td>\n",
       "      <td>135.0</td>\n",
       "      <td>COMPLETE</td>\n",
       "    </tr>\n",
       "    <tr>\n",
       "      <th>3</th>\n",
       "      <td>3</td>\n",
       "      <td>0.729981</td>\n",
       "      <td>2025-05-28 20:54:42.931928</td>\n",
       "      <td>2025-05-28 20:54:46.639761</td>\n",
       "      <td>0 days 00:00:03.707833</td>\n",
       "      <td>NaN</td>\n",
       "      <td>NaN</td>\n",
       "      <td>GradientBoosting</td>\n",
       "      <td>NaN</td>\n",
       "      <td>NaN</td>\n",
       "      <td>0.024362</td>\n",
       "      <td>13.0</td>\n",
       "      <td>1.0</td>\n",
       "      <td>9.0</td>\n",
       "      <td>298.0</td>\n",
       "      <td>COMPLETE</td>\n",
       "    </tr>\n",
       "    <tr>\n",
       "      <th>4</th>\n",
       "      <td>4</td>\n",
       "      <td>0.769088</td>\n",
       "      <td>2025-05-28 20:54:46.641307</td>\n",
       "      <td>2025-05-28 20:54:46.850180</td>\n",
       "      <td>0 days 00:00:00.208873</td>\n",
       "      <td>NaN</td>\n",
       "      <td>True</td>\n",
       "      <td>RandomForest</td>\n",
       "      <td>NaN</td>\n",
       "      <td>NaN</td>\n",
       "      <td>NaN</td>\n",
       "      <td>18.0</td>\n",
       "      <td>7.0</td>\n",
       "      <td>7.0</td>\n",
       "      <td>65.0</td>\n",
       "      <td>COMPLETE</td>\n",
       "    </tr>\n",
       "    <tr>\n",
       "      <th>...</th>\n",
       "      <td>...</td>\n",
       "      <td>...</td>\n",
       "      <td>...</td>\n",
       "      <td>...</td>\n",
       "      <td>...</td>\n",
       "      <td>...</td>\n",
       "      <td>...</td>\n",
       "      <td>...</td>\n",
       "      <td>...</td>\n",
       "      <td>...</td>\n",
       "      <td>...</td>\n",
       "      <td>...</td>\n",
       "      <td>...</td>\n",
       "      <td>...</td>\n",
       "      <td>...</td>\n",
       "      <td>...</td>\n",
       "    </tr>\n",
       "    <tr>\n",
       "      <th>95</th>\n",
       "      <td>95</td>\n",
       "      <td>0.789572</td>\n",
       "      <td>2025-05-28 20:55:04.542892</td>\n",
       "      <td>2025-05-28 20:55:04.564169</td>\n",
       "      <td>0 days 00:00:00.021277</td>\n",
       "      <td>0.131780</td>\n",
       "      <td>NaN</td>\n",
       "      <td>SVM</td>\n",
       "      <td>auto</td>\n",
       "      <td>linear</td>\n",
       "      <td>NaN</td>\n",
       "      <td>NaN</td>\n",
       "      <td>NaN</td>\n",
       "      <td>NaN</td>\n",
       "      <td>NaN</td>\n",
       "      <td>COMPLETE</td>\n",
       "    </tr>\n",
       "    <tr>\n",
       "      <th>96</th>\n",
       "      <td>96</td>\n",
       "      <td>0.785847</td>\n",
       "      <td>2025-05-28 20:55:04.565737</td>\n",
       "      <td>2025-05-28 20:55:04.589950</td>\n",
       "      <td>0 days 00:00:00.024213</td>\n",
       "      <td>0.248177</td>\n",
       "      <td>NaN</td>\n",
       "      <td>SVM</td>\n",
       "      <td>auto</td>\n",
       "      <td>linear</td>\n",
       "      <td>NaN</td>\n",
       "      <td>NaN</td>\n",
       "      <td>NaN</td>\n",
       "      <td>NaN</td>\n",
       "      <td>NaN</td>\n",
       "      <td>COMPLETE</td>\n",
       "    </tr>\n",
       "    <tr>\n",
       "      <th>97</th>\n",
       "      <td>97</td>\n",
       "      <td>0.729981</td>\n",
       "      <td>2025-05-28 20:55:04.590842</td>\n",
       "      <td>2025-05-28 20:55:04.616605</td>\n",
       "      <td>0 days 00:00:00.025763</td>\n",
       "      <td>0.353488</td>\n",
       "      <td>NaN</td>\n",
       "      <td>SVM</td>\n",
       "      <td>auto</td>\n",
       "      <td>poly</td>\n",
       "      <td>NaN</td>\n",
       "      <td>NaN</td>\n",
       "      <td>NaN</td>\n",
       "      <td>NaN</td>\n",
       "      <td>NaN</td>\n",
       "      <td>COMPLETE</td>\n",
       "    </tr>\n",
       "    <tr>\n",
       "      <th>98</th>\n",
       "      <td>98</td>\n",
       "      <td>0.785847</td>\n",
       "      <td>2025-05-28 20:55:04.617745</td>\n",
       "      <td>2025-05-28 20:55:04.640903</td>\n",
       "      <td>0 days 00:00:00.023158</td>\n",
       "      <td>0.195122</td>\n",
       "      <td>NaN</td>\n",
       "      <td>SVM</td>\n",
       "      <td>auto</td>\n",
       "      <td>linear</td>\n",
       "      <td>NaN</td>\n",
       "      <td>NaN</td>\n",
       "      <td>NaN</td>\n",
       "      <td>NaN</td>\n",
       "      <td>NaN</td>\n",
       "      <td>COMPLETE</td>\n",
       "    </tr>\n",
       "    <tr>\n",
       "      <th>99</th>\n",
       "      <td>99</td>\n",
       "      <td>0.776536</td>\n",
       "      <td>2025-05-28 20:55:04.641778</td>\n",
       "      <td>2025-05-28 20:55:05.367383</td>\n",
       "      <td>0 days 00:00:00.725605</td>\n",
       "      <td>NaN</td>\n",
       "      <td>False</td>\n",
       "      <td>RandomForest</td>\n",
       "      <td>NaN</td>\n",
       "      <td>NaN</td>\n",
       "      <td>NaN</td>\n",
       "      <td>5.0</td>\n",
       "      <td>2.0</td>\n",
       "      <td>6.0</td>\n",
       "      <td>268.0</td>\n",
       "      <td>COMPLETE</td>\n",
       "    </tr>\n",
       "  </tbody>\n",
       "</table>\n",
       "<p>100 rows × 16 columns</p>\n",
       "</div>"
      ],
      "text/plain": [
       "    number     value             datetime_start          datetime_complete  \\\n",
       "0        0  0.770950 2025-05-28 20:54:40.652981 2025-05-28 20:54:40.891661   \n",
       "1        1  0.774674 2025-05-28 20:54:40.892829 2025-05-28 20:54:40.918074   \n",
       "2        2  0.733706 2025-05-28 20:54:40.920076 2025-05-28 20:54:42.930597   \n",
       "3        3  0.729981 2025-05-28 20:54:42.931928 2025-05-28 20:54:46.639761   \n",
       "4        4  0.769088 2025-05-28 20:54:46.641307 2025-05-28 20:54:46.850180   \n",
       "..     ...       ...                        ...                        ...   \n",
       "95      95  0.789572 2025-05-28 20:55:04.542892 2025-05-28 20:55:04.564169   \n",
       "96      96  0.785847 2025-05-28 20:55:04.565737 2025-05-28 20:55:04.589950   \n",
       "97      97  0.729981 2025-05-28 20:55:04.590842 2025-05-28 20:55:04.616605   \n",
       "98      98  0.785847 2025-05-28 20:55:04.617745 2025-05-28 20:55:04.640903   \n",
       "99      99  0.776536 2025-05-28 20:55:04.641778 2025-05-28 20:55:05.367383   \n",
       "\n",
       "                 duration  params_C params_bootstrap params_classifier  \\\n",
       "0  0 days 00:00:00.238680       NaN             True      RandomForest   \n",
       "1  0 days 00:00:00.025245  0.965570              NaN               SVM   \n",
       "2  0 days 00:00:02.010521       NaN              NaN  GradientBoosting   \n",
       "3  0 days 00:00:03.707833       NaN              NaN  GradientBoosting   \n",
       "4  0 days 00:00:00.208873       NaN             True      RandomForest   \n",
       "..                    ...       ...              ...               ...   \n",
       "95 0 days 00:00:00.021277  0.131780              NaN               SVM   \n",
       "96 0 days 00:00:00.024213  0.248177              NaN               SVM   \n",
       "97 0 days 00:00:00.025763  0.353488              NaN               SVM   \n",
       "98 0 days 00:00:00.023158  0.195122              NaN               SVM   \n",
       "99 0 days 00:00:00.725605       NaN            False      RandomForest   \n",
       "\n",
       "   params_gamma params_kernel  params_learning_rate  params_max_depth  \\\n",
       "0           NaN           NaN                   NaN               7.0   \n",
       "1          auto           rbf                   NaN               NaN   \n",
       "2           NaN           NaN              0.079520              16.0   \n",
       "3           NaN           NaN              0.024362              13.0   \n",
       "4           NaN           NaN                   NaN              18.0   \n",
       "..          ...           ...                   ...               ...   \n",
       "95         auto        linear                   NaN               NaN   \n",
       "96         auto        linear                   NaN               NaN   \n",
       "97         auto          poly                   NaN               NaN   \n",
       "98         auto        linear                   NaN               NaN   \n",
       "99          NaN           NaN                   NaN               5.0   \n",
       "\n",
       "    params_min_samples_leaf  params_min_samples_split  params_n_estimators  \\\n",
       "0                       3.0                       9.0                 66.0   \n",
       "1                       NaN                       NaN                  NaN   \n",
       "2                       3.0                       4.0                135.0   \n",
       "3                       1.0                       9.0                298.0   \n",
       "4                       7.0                       7.0                 65.0   \n",
       "..                      ...                       ...                  ...   \n",
       "95                      NaN                       NaN                  NaN   \n",
       "96                      NaN                       NaN                  NaN   \n",
       "97                      NaN                       NaN                  NaN   \n",
       "98                      NaN                       NaN                  NaN   \n",
       "99                      2.0                       6.0                268.0   \n",
       "\n",
       "       state  \n",
       "0   COMPLETE  \n",
       "1   COMPLETE  \n",
       "2   COMPLETE  \n",
       "3   COMPLETE  \n",
       "4   COMPLETE  \n",
       "..       ...  \n",
       "95  COMPLETE  \n",
       "96  COMPLETE  \n",
       "97  COMPLETE  \n",
       "98  COMPLETE  \n",
       "99  COMPLETE  \n",
       "\n",
       "[100 rows x 16 columns]"
      ]
     },
     "execution_count": 25,
     "metadata": {},
     "output_type": "execute_result"
    }
   ],
   "source": [
    "study.trials_dataframe()"
   ]
  },
  {
   "cell_type": "code",
   "execution_count": 26,
   "id": "b5179b42",
   "metadata": {},
   "outputs": [
    {
     "data": {
      "application/vnd.microsoft.datawrangler.viewer.v0+json": {
       "columns": [
        {
         "name": "params_classifier",
         "rawType": "object",
         "type": "string"
        },
        {
         "name": "count",
         "rawType": "int64",
         "type": "integer"
        }
       ],
       "ref": "bda01871-107c-45c8-a3d5-6261558e909a",
       "rows": [
        [
         "SVM",
         "79"
        ],
        [
         "RandomForest",
         "11"
        ],
        [
         "GradientBoosting",
         "10"
        ]
       ],
       "shape": {
        "columns": 1,
        "rows": 3
       }
      },
      "text/plain": [
       "params_classifier\n",
       "SVM                 79\n",
       "RandomForest        11\n",
       "GradientBoosting    10\n",
       "Name: count, dtype: int64"
      ]
     },
     "execution_count": 26,
     "metadata": {},
     "output_type": "execute_result"
    }
   ],
   "source": [
    "study.trials_dataframe()['params_classifier'].value_counts()"
   ]
  },
  {
   "cell_type": "code",
   "execution_count": 27,
   "id": "818ef008",
   "metadata": {},
   "outputs": [
    {
     "data": {
      "application/vnd.microsoft.datawrangler.viewer.v0+json": {
       "columns": [
        {
         "name": "params_classifier",
         "rawType": "object",
         "type": "string"
        },
        {
         "name": "value",
         "rawType": "float64",
         "type": "float"
        }
       ],
       "ref": "7b293c0b-6bdf-41e6-82b3-6cdf095e5a90",
       "rows": [
        [
         "GradientBoosting",
         "0.7472998137802607"
        ],
        [
         "RandomForest",
         "0.765871000507872"
        ],
        [
         "SVM",
         "0.7758055771633311"
        ]
       ],
       "shape": {
        "columns": 1,
        "rows": 3
       }
      },
      "text/plain": [
       "params_classifier\n",
       "GradientBoosting    0.747300\n",
       "RandomForest        0.765871\n",
       "SVM                 0.775806\n",
       "Name: value, dtype: float64"
      ]
     },
     "execution_count": 27,
     "metadata": {},
     "output_type": "execute_result"
    }
   ],
   "source": [
    "study.trials_dataframe().groupby('params_classifier')['value'].mean()"
   ]
  },
  {
   "cell_type": "markdown",
   "id": "03f9acc1",
   "metadata": {},
   "source": [
    "**Other features of Optuna**\n",
    "* Distributed Computing is possible.\n",
    "* Integration with other libraries like scikit-learn, keras, pytorch, mlflow is great."
   ]
  }
 ],
 "metadata": {
  "kernelspec": {
   "display_name": "Python 3",
   "language": "python",
   "name": "python3"
  },
  "language_info": {
   "codemirror_mode": {
    "name": "ipython",
    "version": 3
   },
   "file_extension": ".py",
   "mimetype": "text/x-python",
   "name": "python",
   "nbconvert_exporter": "python",
   "pygments_lexer": "ipython3",
   "version": "3.10.12"
  }
 },
 "nbformat": 4,
 "nbformat_minor": 5
}
